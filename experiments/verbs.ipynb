{
 "cells": [
  {
   "cell_type": "code",
   "execution_count": 1,
   "metadata": {},
   "outputs": [],
   "source": [
    "import pandas as pd\n",
    "import numpy as np\n",
    "import pickle\n",
    "from collections import Counter, defaultdict"
   ]
  },
  {
   "cell_type": "code",
   "execution_count": 2,
   "metadata": {},
   "outputs": [],
   "source": [
    "import sys\n",
    "import os\n",
    "def add_sys_path(p):\n",
    "    p = os.path.abspath(p)\n",
    "    if p not in sys.path:\n",
    "        sys.path.append(p)\n",
    "\n",
    "add_sys_path('..')"
   ]
  },
  {
   "cell_type": "code",
   "execution_count": 3,
   "metadata": {},
   "outputs": [],
   "source": [
    "import evaluate"
   ]
  },
  {
   "cell_type": "code",
   "execution_count": 4,
   "metadata": {},
   "outputs": [],
   "source": [
    "import data_split"
   ]
  },
  {
   "cell_type": "code",
   "execution_count": 6,
   "metadata": {},
   "outputs": [],
   "source": [
    "from evaluate import read_dataset"
   ]
  },
  {
   "cell_type": "code",
   "execution_count": 11,
   "metadata": {},
   "outputs": [],
   "source": [
    "import json"
   ]
  },
  {
   "cell_type": "code",
   "execution_count": 69,
   "metadata": {},
   "outputs": [],
   "source": [
    "from tqdm.auto import tqdm, trange"
   ]
  },
  {
   "cell_type": "markdown",
   "metadata": {},
   "source": [
    "# Чтение и сплит данных"
   ]
  },
  {
   "cell_type": "code",
   "execution_count": 13,
   "metadata": {},
   "outputs": [],
   "source": [
    "v_ds = read_dataset('../data/training_data/training_verbs.tsv',  lambda x: json.loads(x))"
   ]
  },
  {
   "cell_type": "code",
   "execution_count": 16,
   "metadata": {},
   "outputs": [
    {
     "data": {
      "text/plain": [
       "[['115444-V', '120034-V'], ['117915-V', '135001-V']]"
      ]
     },
     "execution_count": 16,
     "metadata": {},
     "output_type": "execute_result"
    }
   ],
   "source": [
    "v_ds['АМНИСТИРОВАТЬ']"
   ]
  },
  {
   "cell_type": "code",
   "execution_count": 17,
   "metadata": {},
   "outputs": [
    {
     "data": {
      "text/plain": [
       "6806"
      ]
     },
     "execution_count": 17,
     "metadata": {},
     "output_type": "execute_result"
    }
   ],
   "source": [
    "len(v_ds)"
   ]
  },
  {
   "cell_type": "code",
   "execution_count": 18,
   "metadata": {},
   "outputs": [
    {
     "data": {
      "text/plain": [
       "136.12"
      ]
     },
     "execution_count": 18,
     "metadata": {},
     "output_type": "execute_result"
    }
   ],
   "source": [
    "6806 * 0.02"
   ]
  },
  {
   "cell_type": "code",
   "execution_count": 20,
   "metadata": {},
   "outputs": [],
   "source": [
    "train_share = 0.8\n",
    "dev_share = 0.02\n",
    "test1_share = 0.02\n",
    "test2_share = 0.02\n",
    "hid_share = 0.14\n",
    "\n",
    "assert train_share + dev_share + test1_share + test2_share + hid_share == 1"
   ]
  },
  {
   "cell_type": "code",
   "execution_count": 21,
   "metadata": {},
   "outputs": [],
   "source": [
    "from data_split import hash_float"
   ]
  },
  {
   "cell_type": "code",
   "execution_count": 31,
   "metadata": {},
   "outputs": [],
   "source": [
    "train, dev, test1, test2, hid = {}, {}, {} , {}, {}\n",
    "\n",
    "for k, v in v_ds.items():\n",
    "    h = hash_float(k)\n",
    "    if h <= train_share:\n",
    "        train[k] = v\n",
    "    elif h <= train_share + dev_share:\n",
    "        dev[k] = v\n",
    "    elif h <= train_share + dev_share + test1_share:\n",
    "        test1[k] = v\n",
    "    elif h <= train_share + dev_share + test1_share + test2_share:\n",
    "        test2[k] = v\n",
    "    else:\n",
    "        hid[k] = v"
   ]
  },
  {
   "cell_type": "markdown",
   "metadata": {},
   "source": [
    "# Применение бейзлайна"
   ]
  },
  {
   "cell_type": "code",
   "execution_count": 132,
   "metadata": {},
   "outputs": [
    {
     "data": {
      "text/plain": [
       "<module 'my_knn' from 'C:\\\\Users\\\\ddale\\\\YandexDisk\\\\code\\\\NLP\\\\taxonomy-enrichment\\\\experiments\\\\my_knn.py'>"
      ]
     },
     "execution_count": 132,
     "metadata": {},
     "output_type": "execute_result"
    }
   ],
   "source": [
    "import my_knn\n",
    "from importlib import reload\n",
    "reload(my_knn)"
   ]
  },
  {
   "cell_type": "code",
   "execution_count": 33,
   "metadata": {},
   "outputs": [],
   "source": [
    "import gensim\n",
    "# this is araneum 2018 ft model from rusvectores\n",
    "ft = gensim.models.fasttext.FastTextKeyedVectors.load(\n",
    "    'C:/Users/ddale/Downloads/NLP/rusvectores/model.model'\n",
    ")"
   ]
  },
  {
   "cell_type": "code",
   "execution_count": null,
   "metadata": {},
   "outputs": [],
   "source": []
  },
  {
   "cell_type": "code",
   "execution_count": 64,
   "metadata": {},
   "outputs": [],
   "source": [
    "embedder = my_knn.SentenceEmbedder(ft=ft, n=300)"
   ]
  },
  {
   "cell_type": "code",
   "execution_count": 67,
   "metadata": {},
   "outputs": [
    {
     "data": {
      "text/plain": [
       "(300,)"
      ]
     },
     "execution_count": 67,
     "metadata": {},
     "output_type": "execute_result"
    }
   ],
   "source": [
    "embedder('привет как дела').shape"
   ]
  },
  {
   "cell_type": "code",
   "execution_count": 42,
   "metadata": {},
   "outputs": [],
   "source": [
    "import xmltodict\n",
    "with open('../data/ruwordnet/synsets.V.xml', 'r', encoding='utf-8') as f:\n",
    "    synsets_v_raw = xmltodict.parse(f.read(), process_namespaces=True)"
   ]
  },
  {
   "cell_type": "code",
   "execution_count": 50,
   "metadata": {},
   "outputs": [],
   "source": [
    "with open('../data/ruwordnet/synset_relations.V.xml', 'r', encoding='utf-8') as f:\n",
    "    rel_v_raw = xmltodict.parse(f.read(), process_namespaces=True)"
   ]
  },
  {
   "cell_type": "code",
   "execution_count": 52,
   "metadata": {},
   "outputs": [
    {
     "name": "stdout",
     "output_type": "stream",
     "text": [
      "7521 49002\n"
     ]
    }
   ],
   "source": [
    "verbs_storage = my_knn.SynsetStorage.construct(synsets_v_raw)"
   ]
  },
  {
   "cell_type": "code",
   "execution_count": 54,
   "metadata": {},
   "outputs": [],
   "source": [
    "rel_df = my_knn.make_rel_df(rel_v_raw, verbs_storage.id2synset)"
   ]
  },
  {
   "cell_type": "code",
   "execution_count": 55,
   "metadata": {},
   "outputs": [
    {
     "data": {
      "text/html": [
       "<div>\n",
       "<style scoped>\n",
       "    .dataframe tbody tr th:only-of-type {\n",
       "        vertical-align: middle;\n",
       "    }\n",
       "\n",
       "    .dataframe tbody tr th {\n",
       "        vertical-align: top;\n",
       "    }\n",
       "\n",
       "    .dataframe thead th {\n",
       "        text-align: right;\n",
       "    }\n",
       "</style>\n",
       "<table border=\"1\" class=\"dataframe\">\n",
       "  <thead>\n",
       "    <tr style=\"text-align: right;\">\n",
       "      <th></th>\n",
       "      <th>@parent_id</th>\n",
       "      <th>@child_id</th>\n",
       "      <th>@name</th>\n",
       "      <th>parent</th>\n",
       "      <th>child</th>\n",
       "    </tr>\n",
       "  </thead>\n",
       "  <tbody>\n",
       "    <tr>\n",
       "      <th>0</th>\n",
       "      <td>4223-V</td>\n",
       "      <td>4223-N</td>\n",
       "      <td>POS-synonymy</td>\n",
       "      <td>ЛИВЕНЬ</td>\n",
       "      <td>None</td>\n",
       "    </tr>\n",
       "    <tr>\n",
       "      <th>1</th>\n",
       "      <td>4223-V</td>\n",
       "      <td>4223-A</td>\n",
       "      <td>POS-synonymy</td>\n",
       "      <td>ЛИВЕНЬ</td>\n",
       "      <td>None</td>\n",
       "    </tr>\n",
       "    <tr>\n",
       "      <th>2</th>\n",
       "      <td>4223-V</td>\n",
       "      <td>5068-N</td>\n",
       "      <td>domain</td>\n",
       "      <td>ЛИВЕНЬ</td>\n",
       "      <td>None</td>\n",
       "    </tr>\n",
       "    <tr>\n",
       "      <th>3</th>\n",
       "      <td>129120-V</td>\n",
       "      <td>129121-V</td>\n",
       "      <td>hyponym</td>\n",
       "      <td>БЫТЬ ИЗВЕСТНЫМ, СЛЫТЬ</td>\n",
       "      <td>СЛАВИТЬСЯ (ПОЛЬЗОВАТЬСЯ ИЗВЕСТНОСТЬЮ)</td>\n",
       "    </tr>\n",
       "    <tr>\n",
       "      <th>4</th>\n",
       "      <td>129120-V</td>\n",
       "      <td>148420-V</td>\n",
       "      <td>hypernym</td>\n",
       "      <td>БЫТЬ ИЗВЕСТНЫМ, СЛЫТЬ</td>\n",
       "      <td>ОТНОШЕНИЯ МЕЖДУ ЛЮДЬМИ</td>\n",
       "    </tr>\n",
       "  </tbody>\n",
       "</table>\n",
       "</div>"
      ],
      "text/plain": [
       "  @parent_id @child_id         @name                 parent  \\\n",
       "0     4223-V    4223-N  POS-synonymy                 ЛИВЕНЬ   \n",
       "1     4223-V    4223-A  POS-synonymy                 ЛИВЕНЬ   \n",
       "2     4223-V    5068-N        domain                 ЛИВЕНЬ   \n",
       "3   129120-V  129121-V       hyponym  БЫТЬ ИЗВЕСТНЫМ, СЛЫТЬ   \n",
       "4   129120-V  148420-V      hypernym  БЫТЬ ИЗВЕСТНЫМ, СЛЫТЬ   \n",
       "\n",
       "                                   child  \n",
       "0                                   None  \n",
       "1                                   None  \n",
       "2                                   None  \n",
       "3  СЛАВИТЬСЯ (ПОЛЬЗОВАТЬСЯ ИЗВЕСТНОСТЬЮ)  \n",
       "4                 ОТНОШЕНИЯ МЕЖДУ ЛЮДЬМИ  "
      ]
     },
     "execution_count": 55,
     "metadata": {},
     "output_type": "execute_result"
    }
   ],
   "source": [
    "rel_df.head()"
   ]
  },
  {
   "cell_type": "code",
   "execution_count": 63,
   "metadata": {},
   "outputs": [
    {
     "data": {
      "application/vnd.jupyter.widget-view+json": {
       "model_id": "ae3ccb3cd30646e1a29974dc8177ddf1",
       "version_major": 2,
       "version_minor": 0
      },
      "text/plain": [
       "HBox(children=(FloatProgress(value=1.0, bar_style='info', max=1.0), HTML(value='')))"
      ]
     },
     "metadata": {},
     "output_type": "display_data"
    },
    {
     "name": "stdout",
     "output_type": "stream",
     "text": [
      "\n",
      "7408\n",
      "218\n",
      "5\n",
      "10317\n"
     ]
    }
   ],
   "source": [
    "verb_rel_storage = my_knn.RelationStorage() # todo: add forbidden_id\n",
    "verb_rel_storage.construct_relations(rel_df)"
   ]
  },
  {
   "cell_type": "code",
   "execution_count": 44,
   "metadata": {},
   "outputs": [
    {
     "data": {
      "text/plain": [
       "49002"
      ]
     },
     "execution_count": 44,
     "metadata": {},
     "output_type": "execute_result"
    }
   ],
   "source": [
    "len(verbs_storage.texts_long)"
   ]
  },
  {
   "cell_type": "code",
   "execution_count": 70,
   "metadata": {},
   "outputs": [
    {
     "data": {
      "application/vnd.jupyter.widget-view+json": {
       "model_id": "8044e9c0bdab41bbbd75c7f8f44a9e5e",
       "version_major": 2,
       "version_minor": 0
      },
      "text/plain": [
       "HBox(children=(FloatProgress(value=0.0, max=49002.0), HTML(value='')))"
      ]
     },
     "metadata": {},
     "output_type": "display_data"
    },
    {
     "name": "stdout",
     "output_type": "stream",
     "text": [
      "\n"
     ]
    }
   ],
   "source": [
    "vecs = np.stack([embedder(t) for t in tqdm(verbs_storage.texts_long) ])"
   ]
  },
  {
   "cell_type": "code",
   "execution_count": 71,
   "metadata": {},
   "outputs": [],
   "source": [
    "from sklearn.neighbors import KDTree\n",
    "tree = KDTree(vecs)"
   ]
  },
  {
   "cell_type": "code",
   "execution_count": 89,
   "metadata": {},
   "outputs": [
    {
     "data": {
      "text/plain": [
       "['111845-V',\n",
       " '111846-V',\n",
       " '106701-V',\n",
       " '111791-V',\n",
       " '106772-V',\n",
       " '112004-V',\n",
       " '115889-V',\n",
       " '115208-V',\n",
       " '115890-V',\n",
       " '127537-V']"
      ]
     },
     "execution_count": 89,
     "metadata": {},
     "output_type": "execute_result"
    }
   ],
   "source": [
    "hypos = my_knn.hypotheses_knn('ковырять', index=tree, text2vec=embedder, synset_storage=verbs_storage, rel_storage=verb_rel_storage)\n",
    "hypos"
   ]
  },
  {
   "cell_type": "code",
   "execution_count": 90,
   "metadata": {},
   "outputs": [
    {
     "name": "stdout",
     "output_type": "stream",
     "text": [
      "ПРОНИКНУТЬ ВНУТРЬ\n",
      "ПОПАСТЬ (ОКАЗАТЬСЯ, ОЧУТИТЬСЯ)\n",
      "ДОСТИЧЬ, ДОБИТЬСЯ\n",
      "КОПАТЬ ЯМУ\n",
      "УГЛУБИТЬ, УВЕЛИЧИТЬ ГЛУБИНУ (РАССТОЯНИЕ)\n",
      "РАЗБРОСАТЬ, РАСШВЫРЯТЬ\n",
      "УЯЗВИТЬ\n",
      "ОСКОРБИТЬ\n",
      "ОБИДЕТЬ, ПРИЧИНИТЬ ОБИДУ\n",
      "ЕХИДНИЧАТЬ, ЯЗВИТЬ\n"
     ]
    }
   ],
   "source": [
    "for id in hypos:\n",
    "    print(verbs_storage.id2synset[id]['@ruthes_name'])"
   ]
  },
  {
   "cell_type": "code",
   "execution_count": 93,
   "metadata": {},
   "outputs": [],
   "source": []
  },
  {
   "cell_type": "code",
   "execution_count": 121,
   "metadata": {},
   "outputs": [
    {
     "name": "stdout",
     "output_type": "stream",
     "text": [
      "1.0 1.0\n"
     ]
    }
   ],
   "source": [
    "# проверка, что сравнение само с собой всегда получает скор 1\n",
    "dev_pred = {k: [v0 for val in vals for v0 in val] for k, vals in dev.items()}\n",
    "mean_ap, mean_rr = evaluate.get_score(dev, dev_pred, k=10)\n",
    "print(mean_ap, mean_rr)"
   ]
  },
  {
   "cell_type": "code",
   "execution_count": 119,
   "metadata": {},
   "outputs": [
    {
     "data": {
      "application/vnd.jupyter.widget-view+json": {
       "model_id": "bbf86a9a75de4216bc3848c464917835",
       "version_major": 2,
       "version_minor": 0
      },
      "text/plain": [
       "HBox(children=(FloatProgress(value=0.0, max=149.0), HTML(value='')))"
      ]
     },
     "metadata": {},
     "output_type": "display_data"
    },
    {
     "name": "stdout",
     "output_type": "stream",
     "text": [
      "\n"
     ]
    }
   ],
   "source": [
    "#texts = ttest_test1.one_text.drop_duplicates()\n",
    "texts = sorted(dev.keys())\n",
    "small_hypos = {\n",
    "    txt: \n",
    "    my_knn.hypotheses_knn(\n",
    "        txt, \n",
    "        index=tree, text2vec=embedder, synset_storage=verbs_storage, rel_storage=verb_rel_storage,\n",
    "        decay=3, \n",
    "        k=100, \n",
    "        grand_mult=0.5,\n",
    "    )  \n",
    "    for txt in tqdm(texts)\n",
    "}\n"
   ]
  },
  {
   "cell_type": "code",
   "execution_count": 122,
   "metadata": {},
   "outputs": [
    {
     "name": "stdout",
     "output_type": "stream",
     "text": [
      "0.5837428092042187 0.6332587621178226\n"
     ]
    }
   ],
   "source": [
    "mean_ap, mean_rr = evaluate.get_score(dev, small_hypos, k=10)\n",
    "print(mean_ap, mean_rr)"
   ]
  },
  {
   "cell_type": "markdown",
   "metadata": {},
   "source": [
    "# Оценка применения"
   ]
  },
  {
   "cell_type": "code",
   "execution_count": 127,
   "metadata": {},
   "outputs": [],
   "source": [
    "public_test_verbs = pd.read_csv('../data/public_test/verbs_public.tsv', header=None)\n",
    "public_test_verbs.columns = ['text']"
   ]
  },
  {
   "cell_type": "code",
   "execution_count": 130,
   "metadata": {},
   "outputs": [
    {
     "data": {
      "application/vnd.jupyter.widget-view+json": {
       "model_id": "192bc45fbfa64c318bf133a99f34c57e",
       "version_major": 2,
       "version_minor": 0
      },
      "text/plain": [
       "HBox(children=(FloatProgress(value=0.0, max=175.0), HTML(value='')))"
      ]
     },
     "metadata": {},
     "output_type": "display_data"
    },
    {
     "name": "stdout",
     "output_type": "stream",
     "text": [
      "\n"
     ]
    }
   ],
   "source": [
    "public_test_hypos = {\n",
    "    txt: \n",
    "    my_knn.hypotheses_knn(\n",
    "        txt, \n",
    "        index=tree, text2vec=embedder, synset_storage=verbs_storage, rel_storage=verb_rel_storage,\n",
    "        decay=3, \n",
    "        k=100, \n",
    "        grand_mult=0.5,\n",
    "    )  \n",
    "    for txt in tqdm(public_test_verbs.text)\n",
    "}"
   ]
  },
  {
   "cell_type": "code",
   "execution_count": 133,
   "metadata": {},
   "outputs": [],
   "source": [
    "sub = my_knn.dict2submission(public_test_hypos, verbs_storage.id2synset)"
   ]
  },
  {
   "cell_type": "code",
   "execution_count": 134,
   "metadata": {},
   "outputs": [
    {
     "data": {
      "text/html": [
       "<div>\n",
       "<style scoped>\n",
       "    .dataframe tbody tr th:only-of-type {\n",
       "        vertical-align: middle;\n",
       "    }\n",
       "\n",
       "    .dataframe tbody tr th {\n",
       "        vertical-align: top;\n",
       "    }\n",
       "\n",
       "    .dataframe thead th {\n",
       "        text-align: right;\n",
       "    }\n",
       "</style>\n",
       "<table border=\"1\" class=\"dataframe\">\n",
       "  <thead>\n",
       "    <tr style=\"text-align: right;\">\n",
       "      <th></th>\n",
       "      <th>noun</th>\n",
       "      <th>result</th>\n",
       "      <th>result_text</th>\n",
       "    </tr>\n",
       "  </thead>\n",
       "  <tbody>\n",
       "    <tr>\n",
       "      <th>0</th>\n",
       "      <td>АБСОЛЮТИЗИРОВАТЬ</td>\n",
       "      <td>106501-V</td>\n",
       "      <td>ЗАНЯТИЕ, ДЕЯТЕЛЬНОСТЬ</td>\n",
       "    </tr>\n",
       "    <tr>\n",
       "      <th>1</th>\n",
       "      <td>АБСОЛЮТИЗИРОВАТЬ</td>\n",
       "      <td>7237-V</td>\n",
       "      <td>УПРАВЛЕНЧЕСКАЯ ДЕЯТЕЛЬНОСТЬ</td>\n",
       "    </tr>\n",
       "    <tr>\n",
       "      <th>2</th>\n",
       "      <td>АБСОЛЮТИЗИРОВАТЬ</td>\n",
       "      <td>141697-V</td>\n",
       "      <td>ПРЕДСТАВИТЬ В ВИДЕ</td>\n",
       "    </tr>\n",
       "    <tr>\n",
       "      <th>3</th>\n",
       "      <td>АБСОЛЮТИЗИРОВАТЬ</td>\n",
       "      <td>106629-V</td>\n",
       "      <td>ИЗМЕНИТЬСЯ, ИЗМЕНЕНИЕ</td>\n",
       "    </tr>\n",
       "    <tr>\n",
       "      <th>4</th>\n",
       "      <td>АБСОЛЮТИЗИРОВАТЬ</td>\n",
       "      <td>7936-V</td>\n",
       "      <td>РЕФОРМА</td>\n",
       "    </tr>\n",
       "    <tr>\n",
       "      <th>...</th>\n",
       "      <td>...</td>\n",
       "      <td>...</td>\n",
       "      <td>...</td>\n",
       "    </tr>\n",
       "    <tr>\n",
       "      <th>1745</th>\n",
       "      <td>ШТОПАТЬ</td>\n",
       "      <td>106495-V</td>\n",
       "      <td>ИЗГОТОВИТЬ, ВЫРАБОТАТЬ</td>\n",
       "    </tr>\n",
       "    <tr>\n",
       "      <th>1746</th>\n",
       "      <td>ШТОПАТЬ</td>\n",
       "      <td>108856-V</td>\n",
       "      <td>ОДЕТЬ, ПОКРЫТЬ ОДЕЖДОЙ, ПОКРЫВАЛОМ</td>\n",
       "    </tr>\n",
       "    <tr>\n",
       "      <th>1747</th>\n",
       "      <td>ШТОПАТЬ</td>\n",
       "      <td>118048-V</td>\n",
       "      <td>ПРОШИТЬ ШВОМ</td>\n",
       "    </tr>\n",
       "    <tr>\n",
       "      <th>1748</th>\n",
       "      <td>ШТОПАТЬ</td>\n",
       "      <td>107010-V</td>\n",
       "      <td>МЫТЬ ОТ ГРЯЗИ</td>\n",
       "    </tr>\n",
       "    <tr>\n",
       "      <th>1749</th>\n",
       "      <td>ШТОПАТЬ</td>\n",
       "      <td>110790-V</td>\n",
       "      <td>ПРИКРЕПИТЬ, ПРИДЕЛАТЬ</td>\n",
       "    </tr>\n",
       "  </tbody>\n",
       "</table>\n",
       "<p>1750 rows × 3 columns</p>\n",
       "</div>"
      ],
      "text/plain": [
       "                  noun    result                         result_text\n",
       "0     АБСОЛЮТИЗИРОВАТЬ  106501-V               ЗАНЯТИЕ, ДЕЯТЕЛЬНОСТЬ\n",
       "1     АБСОЛЮТИЗИРОВАТЬ    7237-V         УПРАВЛЕНЧЕСКАЯ ДЕЯТЕЛЬНОСТЬ\n",
       "2     АБСОЛЮТИЗИРОВАТЬ  141697-V                  ПРЕДСТАВИТЬ В ВИДЕ\n",
       "3     АБСОЛЮТИЗИРОВАТЬ  106629-V               ИЗМЕНИТЬСЯ, ИЗМЕНЕНИЕ\n",
       "4     АБСОЛЮТИЗИРОВАТЬ    7936-V                             РЕФОРМА\n",
       "...                ...       ...                                 ...\n",
       "1745           ШТОПАТЬ  106495-V              ИЗГОТОВИТЬ, ВЫРАБОТАТЬ\n",
       "1746           ШТОПАТЬ  108856-V  ОДЕТЬ, ПОКРЫТЬ ОДЕЖДОЙ, ПОКРЫВАЛОМ\n",
       "1747           ШТОПАТЬ  118048-V                        ПРОШИТЬ ШВОМ\n",
       "1748           ШТОПАТЬ  107010-V                       МЫТЬ ОТ ГРЯЗИ\n",
       "1749           ШТОПАТЬ  110790-V               ПРИКРЕПИТЬ, ПРИДЕЛАТЬ\n",
       "\n",
       "[1750 rows x 3 columns]"
      ]
     },
     "execution_count": 134,
     "metadata": {},
     "output_type": "execute_result"
    }
   ],
   "source": [
    "sub"
   ]
  },
  {
   "cell_type": "code",
   "execution_count": 136,
   "metadata": {},
   "outputs": [
    {
     "data": {
      "text/html": [
       "<div>\n",
       "<style scoped>\n",
       "    .dataframe tbody tr th:only-of-type {\n",
       "        vertical-align: middle;\n",
       "    }\n",
       "\n",
       "    .dataframe tbody tr th {\n",
       "        vertical-align: top;\n",
       "    }\n",
       "\n",
       "    .dataframe thead th {\n",
       "        text-align: right;\n",
       "    }\n",
       "</style>\n",
       "<table border=\"1\" class=\"dataframe\">\n",
       "  <thead>\n",
       "    <tr style=\"text-align: right;\">\n",
       "      <th></th>\n",
       "      <th>noun</th>\n",
       "      <th>result</th>\n",
       "      <th>result_text</th>\n",
       "    </tr>\n",
       "  </thead>\n",
       "  <tbody>\n",
       "    <tr>\n",
       "      <th>0</th>\n",
       "      <td>АБСОЛЮТИЗИРОВАТЬ</td>\n",
       "      <td>106501-V</td>\n",
       "      <td>ЗАНЯТИЕ, ДЕЯТЕЛЬНОСТЬ</td>\n",
       "    </tr>\n",
       "    <tr>\n",
       "      <th>1</th>\n",
       "      <td>АБСОЛЮТИЗИРОВАТЬ</td>\n",
       "      <td>7237-V</td>\n",
       "      <td>УПРАВЛЕНЧЕСКАЯ ДЕЯТЕЛЬНОСТЬ</td>\n",
       "    </tr>\n",
       "    <tr>\n",
       "      <th>2</th>\n",
       "      <td>АБСОЛЮТИЗИРОВАТЬ</td>\n",
       "      <td>141697-V</td>\n",
       "      <td>ПРЕДСТАВИТЬ В ВИДЕ</td>\n",
       "    </tr>\n",
       "    <tr>\n",
       "      <th>3</th>\n",
       "      <td>АБСОЛЮТИЗИРОВАТЬ</td>\n",
       "      <td>106629-V</td>\n",
       "      <td>ИЗМЕНИТЬСЯ, ИЗМЕНЕНИЕ</td>\n",
       "    </tr>\n",
       "    <tr>\n",
       "      <th>4</th>\n",
       "      <td>АБСОЛЮТИЗИРОВАТЬ</td>\n",
       "      <td>7936-V</td>\n",
       "      <td>РЕФОРМА</td>\n",
       "    </tr>\n",
       "    <tr>\n",
       "      <th>5</th>\n",
       "      <td>АБСОЛЮТИЗИРОВАТЬ</td>\n",
       "      <td>118698-V</td>\n",
       "      <td>ДЕЙСТВИЕ, ЦЕЛЕНАПРАВЛЕННОЕ ДЕЙСТВИЕ</td>\n",
       "    </tr>\n",
       "    <tr>\n",
       "      <th>6</th>\n",
       "      <td>АБСОЛЮТИЗИРОВАТЬ</td>\n",
       "      <td>106607-V</td>\n",
       "      <td>УПРАВЛЯТЬ, РУКОВОДИТЬ</td>\n",
       "    </tr>\n",
       "    <tr>\n",
       "      <th>7</th>\n",
       "      <td>АБСОЛЮТИЗИРОВАТЬ</td>\n",
       "      <td>119125-V</td>\n",
       "      <td>РАСПРОСТРАНИТЬСЯ, ПОЛУЧИТЬ РАСПРОСТРАНЕНИЕ</td>\n",
       "    </tr>\n",
       "    <tr>\n",
       "      <th>8</th>\n",
       "      <td>АБСОЛЮТИЗИРОВАТЬ</td>\n",
       "      <td>123550-V</td>\n",
       "      <td>УТОЧНИТЬ, СДЕЛАТЬ ТОЧНЕЕ</td>\n",
       "    </tr>\n",
       "    <tr>\n",
       "      <th>9</th>\n",
       "      <td>АБСОЛЮТИЗИРОВАТЬ</td>\n",
       "      <td>135851-V</td>\n",
       "      <td>ПРИДАТЬ СВОЙСТВО</td>\n",
       "    </tr>\n",
       "    <tr>\n",
       "      <th>10</th>\n",
       "      <td>АКТИВИРОВАТЬ</td>\n",
       "      <td>106501-V</td>\n",
       "      <td>ЗАНЯТИЕ, ДЕЯТЕЛЬНОСТЬ</td>\n",
       "    </tr>\n",
       "    <tr>\n",
       "      <th>11</th>\n",
       "      <td>АКТИВИРОВАТЬ</td>\n",
       "      <td>106629-V</td>\n",
       "      <td>ИЗМЕНИТЬСЯ, ИЗМЕНЕНИЕ</td>\n",
       "    </tr>\n",
       "    <tr>\n",
       "      <th>12</th>\n",
       "      <td>АКТИВИРОВАТЬ</td>\n",
       "      <td>4661-V</td>\n",
       "      <td>ОЗДОРОВЛЕНИЕ ПРИРОДЫ</td>\n",
       "    </tr>\n",
       "    <tr>\n",
       "      <th>13</th>\n",
       "      <td>АКТИВИРОВАТЬ</td>\n",
       "      <td>106631-V</td>\n",
       "      <td>ИЗМЕНИТЬ, СДЕЛАТЬ ИНЫМ</td>\n",
       "    </tr>\n",
       "    <tr>\n",
       "      <th>14</th>\n",
       "      <td>АКТИВИРОВАТЬ</td>\n",
       "      <td>118698-V</td>\n",
       "      <td>ДЕЙСТВИЕ, ЦЕЛЕНАПРАВЛЕННОЕ ДЕЙСТВИЕ</td>\n",
       "    </tr>\n",
       "  </tbody>\n",
       "</table>\n",
       "</div>"
      ],
      "text/plain": [
       "                noun    result                                 result_text\n",
       "0   АБСОЛЮТИЗИРОВАТЬ  106501-V                       ЗАНЯТИЕ, ДЕЯТЕЛЬНОСТЬ\n",
       "1   АБСОЛЮТИЗИРОВАТЬ    7237-V                 УПРАВЛЕНЧЕСКАЯ ДЕЯТЕЛЬНОСТЬ\n",
       "2   АБСОЛЮТИЗИРОВАТЬ  141697-V                          ПРЕДСТАВИТЬ В ВИДЕ\n",
       "3   АБСОЛЮТИЗИРОВАТЬ  106629-V                       ИЗМЕНИТЬСЯ, ИЗМЕНЕНИЕ\n",
       "4   АБСОЛЮТИЗИРОВАТЬ    7936-V                                     РЕФОРМА\n",
       "5   АБСОЛЮТИЗИРОВАТЬ  118698-V         ДЕЙСТВИЕ, ЦЕЛЕНАПРАВЛЕННОЕ ДЕЙСТВИЕ\n",
       "6   АБСОЛЮТИЗИРОВАТЬ  106607-V                       УПРАВЛЯТЬ, РУКОВОДИТЬ\n",
       "7   АБСОЛЮТИЗИРОВАТЬ  119125-V  РАСПРОСТРАНИТЬСЯ, ПОЛУЧИТЬ РАСПРОСТРАНЕНИЕ\n",
       "8   АБСОЛЮТИЗИРОВАТЬ  123550-V                    УТОЧНИТЬ, СДЕЛАТЬ ТОЧНЕЕ\n",
       "9   АБСОЛЮТИЗИРОВАТЬ  135851-V                            ПРИДАТЬ СВОЙСТВО\n",
       "10      АКТИВИРОВАТЬ  106501-V                       ЗАНЯТИЕ, ДЕЯТЕЛЬНОСТЬ\n",
       "11      АКТИВИРОВАТЬ  106629-V                       ИЗМЕНИТЬСЯ, ИЗМЕНЕНИЕ\n",
       "12      АКТИВИРОВАТЬ    4661-V                        ОЗДОРОВЛЕНИЕ ПРИРОДЫ\n",
       "13      АКТИВИРОВАТЬ  106631-V                      ИЗМЕНИТЬ, СДЕЛАТЬ ИНЫМ\n",
       "14      АКТИВИРОВАТЬ  118698-V         ДЕЙСТВИЕ, ЦЕЛЕНАПРАВЛЕННОЕ ДЕЙСТВИЕ"
      ]
     },
     "execution_count": 136,
     "metadata": {},
     "output_type": "execute_result"
    }
   ],
   "source": [
    "sub.to_csv('results/verbs_v0_strange.tsv', sep='\\t', encoding='utf-8', header=None, index=None)\n",
    "sub.head(15)"
   ]
  },
  {
   "cell_type": "markdown",
   "metadata": {},
   "source": [
    "# Финальная заливка"
   ]
  },
  {
   "cell_type": "code",
   "execution_count": 138,
   "metadata": {},
   "outputs": [],
   "source": [
    "private_test_verbs = pd.read_csv('../data/private_test/verbs_private.tsv', header=None)\n",
    "private_test_verbs.columns = ['text']"
   ]
  },
  {
   "cell_type": "code",
   "execution_count": 140,
   "metadata": {},
   "outputs": [
    {
     "data": {
      "application/vnd.jupyter.widget-view+json": {
       "model_id": "060a3d9dd7534072a698a156958ee47e",
       "version_major": 2,
       "version_minor": 0
      },
      "text/plain": [
       "HBox(children=(FloatProgress(value=0.0, max=350.0), HTML(value='')))"
      ]
     },
     "metadata": {},
     "output_type": "display_data"
    },
    {
     "name": "stdout",
     "output_type": "stream",
     "text": [
      "\n"
     ]
    }
   ],
   "source": [
    "private_test_hypos = {\n",
    "    txt: \n",
    "    my_knn.hypotheses_knn(\n",
    "        txt, \n",
    "        index=tree, text2vec=embedder, synset_storage=verbs_storage, rel_storage=verb_rel_storage,\n",
    "        decay=3, \n",
    "        k=100, \n",
    "        grand_mult=0.5,\n",
    "    )  \n",
    "    for txt in tqdm(private_test_verbs.text)\n",
    "}"
   ]
  },
  {
   "cell_type": "code",
   "execution_count": 141,
   "metadata": {},
   "outputs": [],
   "source": [
    "sub = my_knn.dict2submission(private_test_hypos, verbs_storage.id2synset)"
   ]
  },
  {
   "cell_type": "code",
   "execution_count": 142,
   "metadata": {},
   "outputs": [
    {
     "data": {
      "text/html": [
       "<div>\n",
       "<style scoped>\n",
       "    .dataframe tbody tr th:only-of-type {\n",
       "        vertical-align: middle;\n",
       "    }\n",
       "\n",
       "    .dataframe tbody tr th {\n",
       "        vertical-align: top;\n",
       "    }\n",
       "\n",
       "    .dataframe thead th {\n",
       "        text-align: right;\n",
       "    }\n",
       "</style>\n",
       "<table border=\"1\" class=\"dataframe\">\n",
       "  <thead>\n",
       "    <tr style=\"text-align: right;\">\n",
       "      <th></th>\n",
       "      <th>noun</th>\n",
       "      <th>result</th>\n",
       "      <th>result_text</th>\n",
       "    </tr>\n",
       "  </thead>\n",
       "  <tbody>\n",
       "    <tr>\n",
       "      <th>0</th>\n",
       "      <td>АДСОРБИРОВАТЬ</td>\n",
       "      <td>111097-V</td>\n",
       "      <td>ИЗМЕНЕНИЕ АГРЕГАТНОГО СОСТОЯНИЯ</td>\n",
       "    </tr>\n",
       "    <tr>\n",
       "      <th>1</th>\n",
       "      <td>АДСОРБИРОВАТЬ</td>\n",
       "      <td>106629-V</td>\n",
       "      <td>ИЗМЕНИТЬСЯ, ИЗМЕНЕНИЕ</td>\n",
       "    </tr>\n",
       "    <tr>\n",
       "      <th>2</th>\n",
       "      <td>АДСОРБИРОВАТЬ</td>\n",
       "      <td>106631-V</td>\n",
       "      <td>ИЗМЕНИТЬ, СДЕЛАТЬ ИНЫМ</td>\n",
       "    </tr>\n",
       "    <tr>\n",
       "      <th>3</th>\n",
       "      <td>АДСОРБИРОВАТЬ</td>\n",
       "      <td>106950-V</td>\n",
       "      <td>ПРЕВРАТИТЬ (ПРИДАТЬ ИНОЙ ВИД, КАЧЕСТВО)</td>\n",
       "    </tr>\n",
       "    <tr>\n",
       "      <th>4</th>\n",
       "      <td>АДСОРБИРОВАТЬ</td>\n",
       "      <td>106501-V</td>\n",
       "      <td>ЗАНЯТИЕ, ДЕЯТЕЛЬНОСТЬ</td>\n",
       "    </tr>\n",
       "    <tr>\n",
       "      <th>...</th>\n",
       "      <td>...</td>\n",
       "      <td>...</td>\n",
       "      <td>...</td>\n",
       "    </tr>\n",
       "    <tr>\n",
       "      <th>3495</th>\n",
       "      <td>ЮМОРИТЬ</td>\n",
       "      <td>116284-V</td>\n",
       "      <td>ВЫСМЕЯТЬ, ОСМЕЯТЬ</td>\n",
       "    </tr>\n",
       "    <tr>\n",
       "      <th>3496</th>\n",
       "      <td>ЮМОРИТЬ</td>\n",
       "      <td>118698-V</td>\n",
       "      <td>ДЕЙСТВИЕ, ЦЕЛЕНАПРАВЛЕННОЕ ДЕЙСТВИЕ</td>\n",
       "    </tr>\n",
       "    <tr>\n",
       "      <th>3497</th>\n",
       "      <td>ЮМОРИТЬ</td>\n",
       "      <td>116285-V</td>\n",
       "      <td>НАСМЕХАТЬСЯ</td>\n",
       "    </tr>\n",
       "    <tr>\n",
       "      <th>3498</th>\n",
       "      <td>ЮМОРИТЬ</td>\n",
       "      <td>115102-V</td>\n",
       "      <td>МУЧИТЬ</td>\n",
       "    </tr>\n",
       "    <tr>\n",
       "      <th>3499</th>\n",
       "      <td>ЮМОРИТЬ</td>\n",
       "      <td>114663-V</td>\n",
       "      <td>ВЕСЕЛИТЬ</td>\n",
       "    </tr>\n",
       "  </tbody>\n",
       "</table>\n",
       "<p>3500 rows × 3 columns</p>\n",
       "</div>"
      ],
      "text/plain": [
       "               noun    result                              result_text\n",
       "0     АДСОРБИРОВАТЬ  111097-V          ИЗМЕНЕНИЕ АГРЕГАТНОГО СОСТОЯНИЯ\n",
       "1     АДСОРБИРОВАТЬ  106629-V                    ИЗМЕНИТЬСЯ, ИЗМЕНЕНИЕ\n",
       "2     АДСОРБИРОВАТЬ  106631-V                   ИЗМЕНИТЬ, СДЕЛАТЬ ИНЫМ\n",
       "3     АДСОРБИРОВАТЬ  106950-V  ПРЕВРАТИТЬ (ПРИДАТЬ ИНОЙ ВИД, КАЧЕСТВО)\n",
       "4     АДСОРБИРОВАТЬ  106501-V                    ЗАНЯТИЕ, ДЕЯТЕЛЬНОСТЬ\n",
       "...             ...       ...                                      ...\n",
       "3495        ЮМОРИТЬ  116284-V                        ВЫСМЕЯТЬ, ОСМЕЯТЬ\n",
       "3496        ЮМОРИТЬ  118698-V      ДЕЙСТВИЕ, ЦЕЛЕНАПРАВЛЕННОЕ ДЕЙСТВИЕ\n",
       "3497        ЮМОРИТЬ  116285-V                              НАСМЕХАТЬСЯ\n",
       "3498        ЮМОРИТЬ  115102-V                                   МУЧИТЬ\n",
       "3499        ЮМОРИТЬ  114663-V                                 ВЕСЕЛИТЬ\n",
       "\n",
       "[3500 rows x 3 columns]"
      ]
     },
     "execution_count": 142,
     "metadata": {},
     "output_type": "execute_result"
    }
   ],
   "source": [
    "sub"
   ]
  },
  {
   "cell_type": "code",
   "execution_count": 143,
   "metadata": {},
   "outputs": [
    {
     "data": {
      "text/html": [
       "<div>\n",
       "<style scoped>\n",
       "    .dataframe tbody tr th:only-of-type {\n",
       "        vertical-align: middle;\n",
       "    }\n",
       "\n",
       "    .dataframe tbody tr th {\n",
       "        vertical-align: top;\n",
       "    }\n",
       "\n",
       "    .dataframe thead th {\n",
       "        text-align: right;\n",
       "    }\n",
       "</style>\n",
       "<table border=\"1\" class=\"dataframe\">\n",
       "  <thead>\n",
       "    <tr style=\"text-align: right;\">\n",
       "      <th></th>\n",
       "      <th>noun</th>\n",
       "      <th>result</th>\n",
       "      <th>result_text</th>\n",
       "    </tr>\n",
       "  </thead>\n",
       "  <tbody>\n",
       "    <tr>\n",
       "      <th>0</th>\n",
       "      <td>АДСОРБИРОВАТЬ</td>\n",
       "      <td>111097-V</td>\n",
       "      <td>ИЗМЕНЕНИЕ АГРЕГАТНОГО СОСТОЯНИЯ</td>\n",
       "    </tr>\n",
       "    <tr>\n",
       "      <th>1</th>\n",
       "      <td>АДСОРБИРОВАТЬ</td>\n",
       "      <td>106629-V</td>\n",
       "      <td>ИЗМЕНИТЬСЯ, ИЗМЕНЕНИЕ</td>\n",
       "    </tr>\n",
       "    <tr>\n",
       "      <th>2</th>\n",
       "      <td>АДСОРБИРОВАТЬ</td>\n",
       "      <td>106631-V</td>\n",
       "      <td>ИЗМЕНИТЬ, СДЕЛАТЬ ИНЫМ</td>\n",
       "    </tr>\n",
       "    <tr>\n",
       "      <th>3</th>\n",
       "      <td>АДСОРБИРОВАТЬ</td>\n",
       "      <td>106950-V</td>\n",
       "      <td>ПРЕВРАТИТЬ (ПРИДАТЬ ИНОЙ ВИД, КАЧЕСТВО)</td>\n",
       "    </tr>\n",
       "    <tr>\n",
       "      <th>4</th>\n",
       "      <td>АДСОРБИРОВАТЬ</td>\n",
       "      <td>106501-V</td>\n",
       "      <td>ЗАНЯТИЕ, ДЕЯТЕЛЬНОСТЬ</td>\n",
       "    </tr>\n",
       "    <tr>\n",
       "      <th>5</th>\n",
       "      <td>АДСОРБИРОВАТЬ</td>\n",
       "      <td>112139-V</td>\n",
       "      <td>ОЧИСТКА ОТ ПРИМЕСЕЙ</td>\n",
       "    </tr>\n",
       "    <tr>\n",
       "      <th>6</th>\n",
       "      <td>АДСОРБИРОВАТЬ</td>\n",
       "      <td>106534-V</td>\n",
       "      <td>ОБРАБАТЫВАТЬ, ПОДВЕРГАТЬ ОБРАБОТКЕ</td>\n",
       "    </tr>\n",
       "    <tr>\n",
       "      <th>7</th>\n",
       "      <td>АДСОРБИРОВАТЬ</td>\n",
       "      <td>112136-V</td>\n",
       "      <td>ПРОПУСТИТЬ (ДАТЬ ПРОНИКНУТЬ)</td>\n",
       "    </tr>\n",
       "    <tr>\n",
       "      <th>8</th>\n",
       "      <td>АДСОРБИРОВАТЬ</td>\n",
       "      <td>107417-V</td>\n",
       "      <td>ОТДЕЛИТЬ ЧАСТЬ ОТ ЦЕЛОГО</td>\n",
       "    </tr>\n",
       "    <tr>\n",
       "      <th>9</th>\n",
       "      <td>АДСОРБИРОВАТЬ</td>\n",
       "      <td>145451-V</td>\n",
       "      <td>СЕПАРАЦИЯ СМЕСИ</td>\n",
       "    </tr>\n",
       "    <tr>\n",
       "      <th>10</th>\n",
       "      <td>АКАТЬ</td>\n",
       "      <td>107093-V</td>\n",
       "      <td>ИЗДАТЬ ЗВУК</td>\n",
       "    </tr>\n",
       "    <tr>\n",
       "      <th>11</th>\n",
       "      <td>АКАТЬ</td>\n",
       "      <td>107094-V</td>\n",
       "      <td>ПРОИЗНЕСТИ, ВЫГОВОРИТЬ, ПРОГОВОРИТЬ</td>\n",
       "    </tr>\n",
       "    <tr>\n",
       "      <th>12</th>\n",
       "      <td>АКАТЬ</td>\n",
       "      <td>106933-V</td>\n",
       "      <td>ГЛОТАТЬ ВНУТРЬ СЕБЯ</td>\n",
       "    </tr>\n",
       "    <tr>\n",
       "      <th>13</th>\n",
       "      <td>АКАТЬ</td>\n",
       "      <td>106876-V</td>\n",
       "      <td>ВЫСКАЗАТЬ</td>\n",
       "    </tr>\n",
       "    <tr>\n",
       "      <th>14</th>\n",
       "      <td>АКАТЬ</td>\n",
       "      <td>106934-V</td>\n",
       "      <td>ЕСТЬ, ПРИНИМАТЬ ПИЩУ</td>\n",
       "    </tr>\n",
       "  </tbody>\n",
       "</table>\n",
       "</div>"
      ],
      "text/plain": [
       "             noun    result                              result_text\n",
       "0   АДСОРБИРОВАТЬ  111097-V          ИЗМЕНЕНИЕ АГРЕГАТНОГО СОСТОЯНИЯ\n",
       "1   АДСОРБИРОВАТЬ  106629-V                    ИЗМЕНИТЬСЯ, ИЗМЕНЕНИЕ\n",
       "2   АДСОРБИРОВАТЬ  106631-V                   ИЗМЕНИТЬ, СДЕЛАТЬ ИНЫМ\n",
       "3   АДСОРБИРОВАТЬ  106950-V  ПРЕВРАТИТЬ (ПРИДАТЬ ИНОЙ ВИД, КАЧЕСТВО)\n",
       "4   АДСОРБИРОВАТЬ  106501-V                    ЗАНЯТИЕ, ДЕЯТЕЛЬНОСТЬ\n",
       "5   АДСОРБИРОВАТЬ  112139-V                      ОЧИСТКА ОТ ПРИМЕСЕЙ\n",
       "6   АДСОРБИРОВАТЬ  106534-V       ОБРАБАТЫВАТЬ, ПОДВЕРГАТЬ ОБРАБОТКЕ\n",
       "7   АДСОРБИРОВАТЬ  112136-V             ПРОПУСТИТЬ (ДАТЬ ПРОНИКНУТЬ)\n",
       "8   АДСОРБИРОВАТЬ  107417-V                 ОТДЕЛИТЬ ЧАСТЬ ОТ ЦЕЛОГО\n",
       "9   АДСОРБИРОВАТЬ  145451-V                          СЕПАРАЦИЯ СМЕСИ\n",
       "10          АКАТЬ  107093-V                              ИЗДАТЬ ЗВУК\n",
       "11          АКАТЬ  107094-V      ПРОИЗНЕСТИ, ВЫГОВОРИТЬ, ПРОГОВОРИТЬ\n",
       "12          АКАТЬ  106933-V                      ГЛОТАТЬ ВНУТРЬ СЕБЯ\n",
       "13          АКАТЬ  106876-V                                ВЫСКАЗАТЬ\n",
       "14          АКАТЬ  106934-V                     ЕСТЬ, ПРИНИМАТЬ ПИЩУ"
      ]
     },
     "execution_count": 143,
     "metadata": {},
     "output_type": "execute_result"
    }
   ],
   "source": [
    "sub.to_csv('results/private_verbs_v0_strange.tsv', sep='\\t', encoding='utf-8', header=None, index=None)\n",
    "sub.head(15)"
   ]
  },
  {
   "cell_type": "markdown",
   "metadata": {},
   "source": [
    "# А теперь разбираемся"
   ]
  },
  {
   "cell_type": "markdown",
   "metadata": {},
   "source": [
    "Почему мои локальные скоры в 2-3 раза выше, чем при заливке на сервер?"
   ]
  },
  {
   "cell_type": "code",
   "execution_count": null,
   "metadata": {},
   "outputs": [],
   "source": []
  }
 ],
 "metadata": {
  "kernelspec": {
   "display_name": "Python 3",
   "language": "python",
   "name": "python3"
  },
  "language_info": {
   "codemirror_mode": {
    "name": "ipython",
    "version": 3
   },
   "file_extension": ".py",
   "mimetype": "text/x-python",
   "name": "python",
   "nbconvert_exporter": "python",
   "pygments_lexer": "ipython3",
   "version": "3.6.8"
  }
 },
 "nbformat": 4,
 "nbformat_minor": 2
}
