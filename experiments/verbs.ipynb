{
 "cells": [
  {
   "cell_type": "code",
   "execution_count": 1,
   "metadata": {},
   "outputs": [],
   "source": [
    "import pandas as pd\n",
    "import numpy as np\n",
    "import pickle\n",
    "from collections import Counter, defaultdict"
   ]
  },
  {
   "cell_type": "code",
   "execution_count": 2,
   "metadata": {},
   "outputs": [],
   "source": [
    "import sys\n",
    "import os\n",
    "def add_sys_path(p):\n",
    "    p = os.path.abspath(p)\n",
    "    if p not in sys.path:\n",
    "        sys.path.append(p)\n",
    "\n",
    "add_sys_path('..')"
   ]
  },
  {
   "cell_type": "code",
   "execution_count": 3,
   "metadata": {},
   "outputs": [],
   "source": [
    "import evaluate"
   ]
  },
  {
   "cell_type": "code",
   "execution_count": 4,
   "metadata": {},
   "outputs": [],
   "source": [
    "import data_split"
   ]
  },
  {
   "cell_type": "code",
   "execution_count": 6,
   "metadata": {},
   "outputs": [],
   "source": [
    "from evaluate import read_dataset"
   ]
  },
  {
   "cell_type": "code",
   "execution_count": 11,
   "metadata": {},
   "outputs": [],
   "source": [
    "import json"
   ]
  },
  {
   "cell_type": "code",
   "execution_count": 69,
   "metadata": {},
   "outputs": [],
   "source": [
    "from tqdm.auto import tqdm, trange"
   ]
  },
  {
   "cell_type": "markdown",
   "metadata": {},
   "source": [
    "# Чтение и сплит данных"
   ]
  },
  {
   "cell_type": "code",
   "execution_count": 13,
   "metadata": {},
   "outputs": [],
   "source": [
    "v_ds = read_dataset('../data/training_data/training_verbs.tsv',  lambda x: json.loads(x))"
   ]
  },
  {
   "cell_type": "code",
   "execution_count": 16,
   "metadata": {},
   "outputs": [
    {
     "data": {
      "text/plain": [
       "[['115444-V', '120034-V'], ['117915-V', '135001-V']]"
      ]
     },
     "execution_count": 16,
     "metadata": {},
     "output_type": "execute_result"
    }
   ],
   "source": [
    "v_ds['АМНИСТИРОВАТЬ']"
   ]
  },
  {
   "cell_type": "code",
   "execution_count": 20,
   "metadata": {},
   "outputs": [],
   "source": [
    "train_share = 0.8\n",
    "dev_share = 0.02\n",
    "test1_share = 0.02\n",
    "test2_share = 0.02\n",
    "hid_share = 0.14\n",
    "\n",
    "assert train_share + dev_share + test1_share + test2_share + hid_share == 1"
   ]
  },
  {
   "cell_type": "code",
   "execution_count": 21,
   "metadata": {},
   "outputs": [],
   "source": [
    "from data_split import hash_float"
   ]
  },
  {
   "cell_type": "code",
   "execution_count": 31,
   "metadata": {},
   "outputs": [],
   "source": [
    "train, dev, test1, test2, hid = {}, {}, {} , {}, {}\n",
    "\n",
    "for k, v in v_ds.items():\n",
    "    h = hash_float(k)\n",
    "    if h <= train_share:\n",
    "        train[k] = v\n",
    "    elif h <= train_share + dev_share:\n",
    "        dev[k] = v\n",
    "    elif h <= train_share + dev_share + test1_share:\n",
    "        test1[k] = v\n",
    "    elif h <= train_share + dev_share + test1_share + test2_share:\n",
    "        test2[k] = v\n",
    "    else:\n",
    "        hid[k] = v"
   ]
  },
  {
   "cell_type": "code",
   "execution_count": 146,
   "metadata": {},
   "outputs": [],
   "source": [
    "forbidden_words = {w for s in [dev, test1, test2, hid] for w in s.keys()}"
   ]
  },
  {
   "cell_type": "markdown",
   "metadata": {},
   "source": [
    "# Применение бейзлайна"
   ]
  },
  {
   "cell_type": "code",
   "execution_count": 192,
   "metadata": {},
   "outputs": [
    {
     "data": {
      "text/plain": [
       "<module 'my_knn' from 'C:\\\\Users\\\\ddale\\\\YandexDisk\\\\code\\\\NLP\\\\taxonomy-enrichment\\\\experiments\\\\my_knn.py'>"
      ]
     },
     "execution_count": 192,
     "metadata": {},
     "output_type": "execute_result"
    }
   ],
   "source": [
    "import my_knn\n",
    "from importlib import reload\n",
    "reload(my_knn)"
   ]
  },
  {
   "cell_type": "code",
   "execution_count": 33,
   "metadata": {},
   "outputs": [],
   "source": [
    "import gensim\n",
    "# this is araneum 2018 ft model from rusvectores\n",
    "ft = gensim.models.fasttext.FastTextKeyedVectors.load(\n",
    "    'C:/Users/ddale/Downloads/NLP/rusvectores/model.model'\n",
    ")"
   ]
  },
  {
   "cell_type": "code",
   "execution_count": null,
   "metadata": {},
   "outputs": [],
   "source": []
  },
  {
   "cell_type": "code",
   "execution_count": 201,
   "metadata": {},
   "outputs": [
    {
     "name": "stdout",
     "output_type": "stream",
     "text": [
      "(300,)\n"
     ]
    }
   ],
   "source": [
    "embedder = my_knn.SentenceEmbedder(ft=ft, n=300, normalize_word=True)\n",
    "print(embedder('привет как дела').shape)"
   ]
  },
  {
   "cell_type": "code",
   "execution_count": 42,
   "metadata": {},
   "outputs": [],
   "source": [
    "import xmltodict\n",
    "with open('../data/ruwordnet/synsets.V.xml', 'r', encoding='utf-8') as f:\n",
    "    synsets_v_raw = xmltodict.parse(f.read(), process_namespaces=True)"
   ]
  },
  {
   "cell_type": "code",
   "execution_count": 50,
   "metadata": {},
   "outputs": [],
   "source": [
    "with open('../data/ruwordnet/synset_relations.V.xml', 'r', encoding='utf-8') as f:\n",
    "    rel_v_raw = xmltodict.parse(f.read(), process_namespaces=True)"
   ]
  },
  {
   "cell_type": "markdown",
   "metadata": {},
   "source": [
    "Without fobidding, list is 49k, with forbidding it is 28k only"
   ]
  },
  {
   "cell_type": "code",
   "execution_count": 153,
   "metadata": {},
   "outputs": [
    {
     "name": "stdout",
     "output_type": "stream",
     "text": [
      "number of texts: 32822\n",
      "forbidden senses are 1390\n",
      "numer of ids 7521 long list is 28657\n"
     ]
    }
   ],
   "source": [
    "verbs_storage = my_knn.SynsetStorage.construct(synsets_v_raw, forbidden_words=forbidden_words)"
   ]
  },
  {
   "cell_type": "code",
   "execution_count": 154,
   "metadata": {},
   "outputs": [],
   "source": [
    "rel_df = my_knn.make_rel_df(rel_v_raw, verbs_storage.id2synset)"
   ]
  },
  {
   "cell_type": "code",
   "execution_count": 155,
   "metadata": {},
   "outputs": [
    {
     "data": {
      "text/html": [
       "<div>\n",
       "<style scoped>\n",
       "    .dataframe tbody tr th:only-of-type {\n",
       "        vertical-align: middle;\n",
       "    }\n",
       "\n",
       "    .dataframe tbody tr th {\n",
       "        vertical-align: top;\n",
       "    }\n",
       "\n",
       "    .dataframe thead th {\n",
       "        text-align: right;\n",
       "    }\n",
       "</style>\n",
       "<table border=\"1\" class=\"dataframe\">\n",
       "  <thead>\n",
       "    <tr style=\"text-align: right;\">\n",
       "      <th></th>\n",
       "      <th>@parent_id</th>\n",
       "      <th>@child_id</th>\n",
       "      <th>@name</th>\n",
       "      <th>parent</th>\n",
       "      <th>child</th>\n",
       "    </tr>\n",
       "  </thead>\n",
       "  <tbody>\n",
       "    <tr>\n",
       "      <th>0</th>\n",
       "      <td>4223-V</td>\n",
       "      <td>4223-N</td>\n",
       "      <td>POS-synonymy</td>\n",
       "      <td>ЛИВЕНЬ</td>\n",
       "      <td>None</td>\n",
       "    </tr>\n",
       "    <tr>\n",
       "      <th>1</th>\n",
       "      <td>4223-V</td>\n",
       "      <td>4223-A</td>\n",
       "      <td>POS-synonymy</td>\n",
       "      <td>ЛИВЕНЬ</td>\n",
       "      <td>None</td>\n",
       "    </tr>\n",
       "    <tr>\n",
       "      <th>2</th>\n",
       "      <td>4223-V</td>\n",
       "      <td>5068-N</td>\n",
       "      <td>domain</td>\n",
       "      <td>ЛИВЕНЬ</td>\n",
       "      <td>None</td>\n",
       "    </tr>\n",
       "    <tr>\n",
       "      <th>3</th>\n",
       "      <td>129120-V</td>\n",
       "      <td>129121-V</td>\n",
       "      <td>hyponym</td>\n",
       "      <td>БЫТЬ ИЗВЕСТНЫМ, СЛЫТЬ</td>\n",
       "      <td>СЛАВИТЬСЯ (ПОЛЬЗОВАТЬСЯ ИЗВЕСТНОСТЬЮ)</td>\n",
       "    </tr>\n",
       "    <tr>\n",
       "      <th>4</th>\n",
       "      <td>129120-V</td>\n",
       "      <td>148420-V</td>\n",
       "      <td>hypernym</td>\n",
       "      <td>БЫТЬ ИЗВЕСТНЫМ, СЛЫТЬ</td>\n",
       "      <td>ОТНОШЕНИЯ МЕЖДУ ЛЮДЬМИ</td>\n",
       "    </tr>\n",
       "  </tbody>\n",
       "</table>\n",
       "</div>"
      ],
      "text/plain": [
       "  @parent_id @child_id         @name                 parent  \\\n",
       "0     4223-V    4223-N  POS-synonymy                 ЛИВЕНЬ   \n",
       "1     4223-V    4223-A  POS-synonymy                 ЛИВЕНЬ   \n",
       "2     4223-V    5068-N        domain                 ЛИВЕНЬ   \n",
       "3   129120-V  129121-V       hyponym  БЫТЬ ИЗВЕСТНЫМ, СЛЫТЬ   \n",
       "4   129120-V  148420-V      hypernym  БЫТЬ ИЗВЕСТНЫМ, СЛЫТЬ   \n",
       "\n",
       "                                   child  \n",
       "0                                   None  \n",
       "1                                   None  \n",
       "2                                   None  \n",
       "3  СЛАВИТЬСЯ (ПОЛЬЗОВАТЬСЯ ИЗВЕСТНОСТЬЮ)  \n",
       "4                 ОТНОШЕНИЯ МЕЖДУ ЛЮДЬМИ  "
      ]
     },
     "execution_count": 155,
     "metadata": {},
     "output_type": "execute_result"
    }
   ],
   "source": [
    "rel_df.head()"
   ]
  },
  {
   "cell_type": "code",
   "execution_count": 165,
   "metadata": {},
   "outputs": [
    {
     "data": {
      "application/vnd.jupyter.widget-view+json": {
       "model_id": "aeaf1bcfd7cb401b9da48870c4063a58",
       "version_major": 2,
       "version_minor": 0
      },
      "text/plain": [
       "HBox(children=(FloatProgress(value=1.0, bar_style='info', max=1.0), HTML(value='')))"
      ]
     },
     "metadata": {},
     "output_type": "display_data"
    },
    {
     "name": "stdout",
     "output_type": "stream",
     "text": [
      "\n",
      "5752\n",
      "186\n",
      "5\n",
      "7480\n"
     ]
    }
   ],
   "source": [
    "verb_rel_storage = my_knn.RelationStorage(forbidden_id=verbs_storage.forbidden_id)\n",
    "verb_rel_storage.construct_relations(rel_df)"
   ]
  },
  {
   "cell_type": "code",
   "execution_count": 166,
   "metadata": {},
   "outputs": [
    {
     "data": {
      "text/plain": [
       "28657"
      ]
     },
     "execution_count": 166,
     "metadata": {},
     "output_type": "execute_result"
    }
   ],
   "source": [
    "len(verbs_storage.texts_long)"
   ]
  },
  {
   "cell_type": "code",
   "execution_count": 209,
   "metadata": {},
   "outputs": [],
   "source": [
    "import random"
   ]
  },
  {
   "cell_type": "code",
   "execution_count": 252,
   "metadata": {},
   "outputs": [],
   "source": [
    "from pymorphy2 import MorphAnalyzer\n",
    "\n",
    "morphAnalyzer = MorphAnalyzer()\n",
    "\n",
    "def word2pos(w):\n",
    "    parses = morphAnalyzer.parse(w)\n",
    "    if not parses:\n",
    "        return None\n",
    "    parse = parses[0]\n",
    "    if not parse.tag:\n",
    "        return None\n",
    "    if not parse.tag.POS:\n",
    "        return None\n",
    "    return parse.tag.POS"
   ]
  },
  {
   "cell_type": "code",
   "execution_count": 365,
   "metadata": {},
   "outputs": [
    {
     "name": "stdout",
     "output_type": "stream",
     "text": [
      "ШАТНУТЬСЯ\n",
      "['INFN']\n",
      "ВЫЗВАТЬСЯ ; ВЫЗВАТЬСЯ ДОБРОВОЛЬНО ; ВЫЗЫВАТЬСЯ ; ДОБРОВОЛЬНО ВЗЯТЬСЯ ; ДОБРОВОЛЬНО ВЫЗВАТЬСЯ ; СВЯЗАТЬСЯ\n",
      "['INFN', 'INFN', 'ADVB', 'INFN', 'ADVB', 'INFN', 'ADVB', 'INFN', 'INFN']\n",
      "НАРУШЕНИЕ ВОИНСКОЙ ДИСЦИПЛИНЫ\n",
      "['NOUN', 'ADJF', 'NOUN']\n",
      "АРЕНДОВАТЬ НЕДВИЖИМОСТЬ\n",
      "['INFN', 'NOUN']\n",
      "ПОСЛЫШАТЬСЯ\n",
      "['INFN']\n"
     ]
    }
   ],
   "source": [
    "s = random.sample(verbs_storage.texts_long, 5)\n",
    "for t in s:\n",
    "    print(t)\n",
    "    print([word2pos(w) for w in my_knn.tokenize(t)])"
   ]
  },
  {
   "cell_type": "code",
   "execution_count": 366,
   "metadata": {},
   "outputs": [],
   "source": [
    "embedder = SentenceEmbedder(ft=ft, n=300, normalize_word=True, pos_weights={'INFN': 1.0, 'PREP': 0.1})"
   ]
  },
  {
   "cell_type": "code",
   "execution_count": 367,
   "metadata": {},
   "outputs": [
    {
     "data": {
      "text/plain": [
       "[1.0, 0.1, 1]"
      ]
     },
     "execution_count": 367,
     "metadata": {},
     "output_type": "execute_result"
    }
   ],
   "source": [
    "embedder.get_word_weights(my_knn.tokenize('играть в гольф'))"
   ]
  },
  {
   "cell_type": "code",
   "execution_count": 346,
   "metadata": {},
   "outputs": [
    {
     "data": {
      "application/vnd.jupyter.widget-view+json": {
       "model_id": "3d170864cf93483fa2d87642997c56c1",
       "version_major": 2,
       "version_minor": 0
      },
      "text/plain": [
       "HBox(children=(FloatProgress(value=0.0, max=28657.0), HTML(value='')))"
      ]
     },
     "metadata": {},
     "output_type": "display_data"
    },
    {
     "name": "stdout",
     "output_type": "stream",
     "text": [
      "\n"
     ]
    }
   ],
   "source": [
    "vecs = np.stack([embedder(t) for t in tqdm(verbs_storage.texts_long) ])"
   ]
  },
  {
   "cell_type": "code",
   "execution_count": 347,
   "metadata": {},
   "outputs": [],
   "source": [
    "from sklearn.neighbors import KDTree\n",
    "tree = KDTree(vecs)"
   ]
  },
  {
   "cell_type": "code",
   "execution_count": 348,
   "metadata": {},
   "outputs": [
    {
     "data": {
      "text/plain": [
       "['111845-V',\n",
       " '111846-V',\n",
       " '106701-V',\n",
       " '115889-V',\n",
       " '115208-V',\n",
       " '127537-V',\n",
       " '107094-V',\n",
       " '115188-V',\n",
       " '111888-V',\n",
       " '125754-V']"
      ]
     },
     "execution_count": 348,
     "metadata": {},
     "output_type": "execute_result"
    }
   ],
   "source": [
    "hypos = my_knn.hypotheses_knn('ковырять', index=tree, text2vec=embedder, synset_storage=verbs_storage, rel_storage=verb_rel_storage)\n",
    "hypos"
   ]
  },
  {
   "cell_type": "code",
   "execution_count": 349,
   "metadata": {},
   "outputs": [
    {
     "name": "stdout",
     "output_type": "stream",
     "text": [
      "ПРОНИКНУТЬ ВНУТРЬ\n",
      "ПОПАСТЬ (ОКАЗАТЬСЯ, ОЧУТИТЬСЯ)\n",
      "ДОСТИЧЬ, ДОБИТЬСЯ\n",
      "УЯЗВИТЬ\n",
      "ОСКОРБИТЬ\n",
      "ЕХИДНИЧАТЬ, ЯЗВИТЬ\n",
      "ПРОИЗНЕСТИ, ВЫГОВОРИТЬ, ПРОГОВОРИТЬ\n",
      "ОБЪЕСТЬ С КРАЕВ\n",
      "КУСАТЬ ЗУБАМИ\n",
      "ВОНЗИТЬ (ВОТКНУТЬ ОСТРИЕМ)\n"
     ]
    }
   ],
   "source": [
    "for id in hypos:\n",
    "    print(verbs_storage.id2synset[id]['@ruthes_name'])"
   ]
  },
  {
   "cell_type": "code",
   "execution_count": 350,
   "metadata": {},
   "outputs": [
    {
     "name": "stdout",
     "output_type": "stream",
     "text": [
      "1.0 1.0\n"
     ]
    }
   ],
   "source": [
    "# проверка, что сравнение само с собой всегда получает скор 1\n",
    "dev_pred = {k: [v0 for val in vals for v0 in val] for k, vals in dev.items()}\n",
    "mean_ap, mean_rr = evaluate.get_score(dev, dev_pred, k=10)\n",
    "print(mean_ap, mean_rr)"
   ]
  },
  {
   "cell_type": "code",
   "execution_count": 351,
   "metadata": {},
   "outputs": [
    {
     "data": {
      "application/vnd.jupyter.widget-view+json": {
       "model_id": "6ddc14809b334285a7d76304a365f924",
       "version_major": 2,
       "version_minor": 0
      },
      "text/plain": [
       "HBox(children=(FloatProgress(value=0.0, max=149.0), HTML(value='')))"
      ]
     },
     "metadata": {},
     "output_type": "display_data"
    },
    {
     "name": "stdout",
     "output_type": "stream",
     "text": [
      "\n"
     ]
    }
   ],
   "source": [
    "#texts = ttest_test1.one_text.drop_duplicates()\n",
    "texts = sorted(dev.keys())\n",
    "small_hypos = {\n",
    "    txt: \n",
    "    my_knn.hypotheses_knn(\n",
    "        txt, \n",
    "        index=tree, text2vec=embedder, synset_storage=verbs_storage, rel_storage=verb_rel_storage,\n",
    "        decay=3, \n",
    "        k=100, \n",
    "        grand_mult=0.5,\n",
    "    )  \n",
    "    for txt in tqdm(texts)\n",
    "}\n"
   ]
  },
  {
   "cell_type": "markdown",
   "metadata": {},
   "source": [
    "Когда я выкинул из синсетов запрещённое, получаю 21% 27%, а если ещё из отношений, то 20% 26%. \n",
    "\n",
    "Хотя на паблик тесте вообще 24% 27%. \n",
    "\n",
    "Вывод: вообще-то перед сабмишнами надо пересчитываться на полной выборке. "
   ]
  },
  {
   "cell_type": "code",
   "execution_count": 352,
   "metadata": {},
   "outputs": [
    {
     "name": "stdout",
     "output_type": "stream",
     "text": [
      "0.20307894783565925 0.2682939171194206\n"
     ]
    }
   ],
   "source": [
    "mean_ap, mean_rr = evaluate.get_score(dev, small_hypos, k=10)\n",
    "print(mean_ap, mean_rr)"
   ]
  },
  {
   "cell_type": "markdown",
   "metadata": {},
   "source": [
    "```\n",
    "0.20069866126913108 0.26436294875892197 - baseline\n",
    "0.19999533929903057 0.2675482049643124 - not normalize word vecs (inconclusive)\n",
    "\n",
    "0.18938824970704168 0.24604239906253328 - baseline + weight{verb = 3}\n",
    "0.19966265402507014 0.2668610844785341 - baseline + weight{verb=1.1}\n",
    "0.20093569120414756 0.2669250026632577 - baseline + weight{prep=0.8} (definitely helps!)\n",
    "0.20307894783565925 0.2682939171194206 - baseline + weight{prep=0.1} (we'll keep it this way)\n",
    "```"
   ]
  },
  {
   "cell_type": "markdown",
   "metadata": {},
   "source": [
    "### частные случаи"
   ]
  },
  {
   "cell_type": "markdown",
   "metadata": {},
   "source": [
    "Проверяю, что может быть не так"
   ]
  },
  {
   "cell_type": "code",
   "execution_count": 486,
   "metadata": {},
   "outputs": [
    {
     "name": "stdout",
     "output_type": "stream",
     "text": [
      "ЗАВОЛОЧЬ\n",
      "[['107325-V', '108830-V']]\n",
      "[['ПОКРЫТЬ ПОВЕРХНОСТЬ', 'НАКРЫТЬ, ПОКРЫТЬ СВЕРХУ']]\n"
     ]
    }
   ],
   "source": [
    "word = random.choice(list(dev.keys()))\n",
    "print(word)\n",
    "\n",
    "print(dev[word])\n",
    "print([\n",
    "    [verbs_storage.id2synset[id]['@ruthes_name'] for id in ids]\n",
    "    for ids in dev[word]\n",
    "])"
   ]
  },
  {
   "cell_type": "code",
   "execution_count": 487,
   "metadata": {},
   "outputs": [
    {
     "name": "stdout",
     "output_type": "stream",
     "text": [
      "107454-V ПОДНЯТЬСЯ (ПЕРЕМЕСТИТЬСЯ ВВЕРХ)\n",
      "106587-V ДВИЖЕНИЕ, ПЕРЕМЕЩЕНИЕ\n",
      "106629-V ИЗМЕНИТЬСЯ, ИЗМЕНЕНИЕ\n",
      "113780-V ПОКРЫТЬСЯ НА ПОВЕРХНОСТИ\n",
      "111001-V ВИДНЕТЬСЯ\n",
      "115583-V НАПОЛНИТЬСЯ\n",
      "111845-V ПРОНИКНУТЬ ВНУТРЬ\n",
      "111085-V ОПУСТИТЬСЯ ВНИЗ\n",
      "123600-V ВЗДЫМАТЬСЯ\n",
      "110915-V ВОЛОЧИТЬ, ТАЩИТЬ ВОЛОКОМ\n"
     ]
    }
   ],
   "source": [
    "for h in small_hypos[word]:\n",
    "    print(h, verbs_storage.id2synset[h]['@ruthes_name'])"
   ]
  },
  {
   "cell_type": "code",
   "execution_count": 446,
   "metadata": {},
   "outputs": [
    {
     "name": "stdout",
     "output_type": "stream",
     "text": [
      "106501-V ЗАНЯТИЕ, ДЕЯТЕЛЬНОСТЬ\n",
      "106631-V ИЗМЕНИТЬ, СДЕЛАТЬ ИНЫМ\n",
      "110790-V ПРИКРЕПИТЬ, ПРИДЕЛАТЬ\n",
      "106534-V ОБРАБАТЫВАТЬ, ПОДВЕРГАТЬ ОБРАБОТКЕ\n",
      "107417-V ОТДЕЛИТЬ ЧАСТЬ ОТ ЦЕЛОГО\n",
      "112813-V ПОСАДКА РАСТЕНИЙ\n",
      "112737-V ЗАНЯТЬ ВСЕ ПРОСТРАНСТВО\n",
      "151674-V ОБРАБОТКА ПОЧВЫ\n",
      "115184-V ВСКОПАТЬ\n",
      "106698-V ПОМЕСТИТЬ, НАЙТИ МЕСТО\n"
     ]
    }
   ],
   "source": [
    "for h in my_knn.hypotheses_knn(\n",
    "        'ОБМОЛОТИТЬ', \n",
    "        index=tree, text2vec=embedder, synset_storage=verbs_storage, rel_storage=verb_rel_storage,\n",
    "        decay=3,  k=100,grand_mult=0.5,\n",
    "    ) :\n",
    "    print(h, verbs_storage.id2synset[h]['@ruthes_name'])"
   ]
  },
  {
   "cell_type": "markdown",
   "metadata": {},
   "source": [
    "Заметные проблемы:\n",
    "* композиционность (\"вывести из эксплуатации\", \"пробиться через препятствие\", \"давать на лапу\") - ???\n",
    "* не основной смысл (\"блестеть\") - нужна диверсификация ответа по смыслам?\n",
    "* редкий вид слова (\"обмолачивать - обмолотить\") - добавлять в кандидатов разные формы"
   ]
  },
  {
   "cell_type": "code",
   "execution_count": null,
   "metadata": {},
   "outputs": [],
   "source": []
  },
  {
   "cell_type": "code",
   "execution_count": 448,
   "metadata": {},
   "outputs": [
    {
     "name": "stdout",
     "output_type": "stream",
     "text": [
      "114124-V ОБМОЛОТ ЗЕРНА\n"
     ]
    }
   ],
   "source": [
    "for sense in verbs_storage.word2sense[word]:\n",
    "    print(sense, verbs_storage.id2synset[sense]['@ruthes_name'])"
   ]
  },
  {
   "cell_type": "markdown",
   "metadata": {},
   "source": [
    "# Оценка применения"
   ]
  },
  {
   "cell_type": "code",
   "execution_count": 452,
   "metadata": {},
   "outputs": [
    {
     "name": "stdout",
     "output_type": "stream",
     "text": [
      "number of texts: 32822\n",
      "forbidden senses are 0\n",
      "numer of ids 7521 long list is 49002\n"
     ]
    },
    {
     "data": {
      "application/vnd.jupyter.widget-view+json": {
       "model_id": "1354f35b25ae49019020701c6d31fb28",
       "version_major": 2,
       "version_minor": 0
      },
      "text/plain": [
       "HBox(children=(FloatProgress(value=1.0, bar_style='info', max=1.0), HTML(value='')))"
      ]
     },
     "metadata": {},
     "output_type": "display_data"
    },
    {
     "name": "stdout",
     "output_type": "stream",
     "text": [
      "\n",
      "7408\n",
      "218\n",
      "5\n",
      "10317\n"
     ]
    }
   ],
   "source": [
    "full_syn_storage, full_rel_storage, full_rel_df = my_knn.prepare_storages(\n",
    "    synsets_filename='../data/ruwordnet/synsets.V.xml',\n",
    "    relations_filename='../data/ruwordnet/synset_relations.V.xml',\n",
    "    forbidden_words=set()\n",
    ")"
   ]
  },
  {
   "cell_type": "code",
   "execution_count": 453,
   "metadata": {},
   "outputs": [],
   "source": [
    "embedder = SentenceEmbedder(ft=ft, n=300, normalize_word=True, pos_weights={'INFN': 1.0, 'PREP': 0.1}, default_weight=0.5)"
   ]
  },
  {
   "cell_type": "code",
   "execution_count": 454,
   "metadata": {},
   "outputs": [
    {
     "data": {
      "application/vnd.jupyter.widget-view+json": {
       "model_id": "7419eb4a980e4679aaae57b30e28cde7",
       "version_major": 2,
       "version_minor": 0
      },
      "text/plain": [
       "HBox(children=(FloatProgress(value=0.0, max=49002.0), HTML(value='')))"
      ]
     },
     "metadata": {},
     "output_type": "display_data"
    },
    {
     "name": "stdout",
     "output_type": "stream",
     "text": [
      "\n"
     ]
    }
   ],
   "source": [
    "full_vecs = np.stack([embedder(t) for t in tqdm(full_syn_storage.texts_long) ])\n",
    "full_tree = KDTree(full_vecs)"
   ]
  },
  {
   "cell_type": "code",
   "execution_count": 455,
   "metadata": {},
   "outputs": [],
   "source": [
    "public_test_verbs = pd.read_csv('../data/public_test/verbs_public.tsv', header=None)\n",
    "public_test_verbs.columns = ['text']"
   ]
  },
  {
   "cell_type": "code",
   "execution_count": 456,
   "metadata": {},
   "outputs": [
    {
     "data": {
      "application/vnd.jupyter.widget-view+json": {
       "model_id": "d51dc9440ebf4498804820cf9b683fbb",
       "version_major": 2,
       "version_minor": 0
      },
      "text/plain": [
       "HBox(children=(FloatProgress(value=0.0, max=175.0), HTML(value='')))"
      ]
     },
     "metadata": {},
     "output_type": "display_data"
    },
    {
     "name": "stdout",
     "output_type": "stream",
     "text": [
      "\n"
     ]
    }
   ],
   "source": [
    "public_test_hypos = {\n",
    "    txt: \n",
    "    my_knn.hypotheses_knn(\n",
    "        txt, \n",
    "        index=full_tree, \n",
    "        text2vec=embedder, \n",
    "        synset_storage=full_syn_storage, rel_storage=full_rel_storage,\n",
    "        decay=3, \n",
    "        k=100, \n",
    "        grand_mult=0.5,\n",
    "    )  \n",
    "    for txt in tqdm(public_test_verbs.text)\n",
    "}"
   ]
  },
  {
   "cell_type": "code",
   "execution_count": 457,
   "metadata": {},
   "outputs": [
    {
     "data": {
      "text/html": [
       "<div>\n",
       "<style scoped>\n",
       "    .dataframe tbody tr th:only-of-type {\n",
       "        vertical-align: middle;\n",
       "    }\n",
       "\n",
       "    .dataframe tbody tr th {\n",
       "        vertical-align: top;\n",
       "    }\n",
       "\n",
       "    .dataframe thead th {\n",
       "        text-align: right;\n",
       "    }\n",
       "</style>\n",
       "<table border=\"1\" class=\"dataframe\">\n",
       "  <thead>\n",
       "    <tr style=\"text-align: right;\">\n",
       "      <th></th>\n",
       "      <th>noun</th>\n",
       "      <th>result</th>\n",
       "      <th>result_text</th>\n",
       "    </tr>\n",
       "  </thead>\n",
       "  <tbody>\n",
       "    <tr>\n",
       "      <th>0</th>\n",
       "      <td>АБСОЛЮТИЗИРОВАТЬ</td>\n",
       "      <td>106501-V</td>\n",
       "      <td>ЗАНЯТИЕ, ДЕЯТЕЛЬНОСТЬ</td>\n",
       "    </tr>\n",
       "    <tr>\n",
       "      <th>1</th>\n",
       "      <td>АБСОЛЮТИЗИРОВАТЬ</td>\n",
       "      <td>7237-V</td>\n",
       "      <td>УПРАВЛЕНЧЕСКАЯ ДЕЯТЕЛЬНОСТЬ</td>\n",
       "    </tr>\n",
       "    <tr>\n",
       "      <th>2</th>\n",
       "      <td>АБСОЛЮТИЗИРОВАТЬ</td>\n",
       "      <td>141697-V</td>\n",
       "      <td>ПРЕДСТАВИТЬ В ВИДЕ</td>\n",
       "    </tr>\n",
       "    <tr>\n",
       "      <th>3</th>\n",
       "      <td>АБСОЛЮТИЗИРОВАТЬ</td>\n",
       "      <td>106629-V</td>\n",
       "      <td>ИЗМЕНИТЬСЯ, ИЗМЕНЕНИЕ</td>\n",
       "    </tr>\n",
       "    <tr>\n",
       "      <th>4</th>\n",
       "      <td>АБСОЛЮТИЗИРОВАТЬ</td>\n",
       "      <td>106607-V</td>\n",
       "      <td>УПРАВЛЯТЬ, РУКОВОДИТЬ</td>\n",
       "    </tr>\n",
       "    <tr>\n",
       "      <th>5</th>\n",
       "      <td>АБСОЛЮТИЗИРОВАТЬ</td>\n",
       "      <td>7936-V</td>\n",
       "      <td>РЕФОРМА</td>\n",
       "    </tr>\n",
       "    <tr>\n",
       "      <th>6</th>\n",
       "      <td>АБСОЛЮТИЗИРОВАТЬ</td>\n",
       "      <td>118698-V</td>\n",
       "      <td>ДЕЙСТВИЕ, ЦЕЛЕНАПРАВЛЕННОЕ ДЕЙСТВИЕ</td>\n",
       "    </tr>\n",
       "    <tr>\n",
       "      <th>7</th>\n",
       "      <td>АБСОЛЮТИЗИРОВАТЬ</td>\n",
       "      <td>119125-V</td>\n",
       "      <td>РАСПРОСТРАНИТЬСЯ, ПОЛУЧИТЬ РАСПРОСТРАНЕНИЕ</td>\n",
       "    </tr>\n",
       "    <tr>\n",
       "      <th>8</th>\n",
       "      <td>АБСОЛЮТИЗИРОВАТЬ</td>\n",
       "      <td>123550-V</td>\n",
       "      <td>УТОЧНИТЬ, СДЕЛАТЬ ТОЧНЕЕ</td>\n",
       "    </tr>\n",
       "    <tr>\n",
       "      <th>9</th>\n",
       "      <td>АБСОЛЮТИЗИРОВАТЬ</td>\n",
       "      <td>135851-V</td>\n",
       "      <td>ПРИДАТЬ СВОЙСТВО</td>\n",
       "    </tr>\n",
       "    <tr>\n",
       "      <th>10</th>\n",
       "      <td>АКТИВИРОВАТЬ</td>\n",
       "      <td>106501-V</td>\n",
       "      <td>ЗАНЯТИЕ, ДЕЯТЕЛЬНОСТЬ</td>\n",
       "    </tr>\n",
       "    <tr>\n",
       "      <th>11</th>\n",
       "      <td>АКТИВИРОВАТЬ</td>\n",
       "      <td>4661-V</td>\n",
       "      <td>ОЗДОРОВЛЕНИЕ ПРИРОДЫ</td>\n",
       "    </tr>\n",
       "    <tr>\n",
       "      <th>12</th>\n",
       "      <td>АКТИВИРОВАТЬ</td>\n",
       "      <td>115759-V</td>\n",
       "      <td>СЖАТЬ (СОКРАТИТЬ)</td>\n",
       "    </tr>\n",
       "    <tr>\n",
       "      <th>13</th>\n",
       "      <td>АКТИВИРОВАТЬ</td>\n",
       "      <td>106631-V</td>\n",
       "      <td>ИЗМЕНИТЬ, СДЕЛАТЬ ИНЫМ</td>\n",
       "    </tr>\n",
       "    <tr>\n",
       "      <th>14</th>\n",
       "      <td>АКТИВИРОВАТЬ</td>\n",
       "      <td>118698-V</td>\n",
       "      <td>ДЕЙСТВИЕ, ЦЕЛЕНАПРАВЛЕННОЕ ДЕЙСТВИЕ</td>\n",
       "    </tr>\n",
       "  </tbody>\n",
       "</table>\n",
       "</div>"
      ],
      "text/plain": [
       "                noun    result                                 result_text\n",
       "0   АБСОЛЮТИЗИРОВАТЬ  106501-V                       ЗАНЯТИЕ, ДЕЯТЕЛЬНОСТЬ\n",
       "1   АБСОЛЮТИЗИРОВАТЬ    7237-V                 УПРАВЛЕНЧЕСКАЯ ДЕЯТЕЛЬНОСТЬ\n",
       "2   АБСОЛЮТИЗИРОВАТЬ  141697-V                          ПРЕДСТАВИТЬ В ВИДЕ\n",
       "3   АБСОЛЮТИЗИРОВАТЬ  106629-V                       ИЗМЕНИТЬСЯ, ИЗМЕНЕНИЕ\n",
       "4   АБСОЛЮТИЗИРОВАТЬ  106607-V                       УПРАВЛЯТЬ, РУКОВОДИТЬ\n",
       "5   АБСОЛЮТИЗИРОВАТЬ    7936-V                                     РЕФОРМА\n",
       "6   АБСОЛЮТИЗИРОВАТЬ  118698-V         ДЕЙСТВИЕ, ЦЕЛЕНАПРАВЛЕННОЕ ДЕЙСТВИЕ\n",
       "7   АБСОЛЮТИЗИРОВАТЬ  119125-V  РАСПРОСТРАНИТЬСЯ, ПОЛУЧИТЬ РАСПРОСТРАНЕНИЕ\n",
       "8   АБСОЛЮТИЗИРОВАТЬ  123550-V                    УТОЧНИТЬ, СДЕЛАТЬ ТОЧНЕЕ\n",
       "9   АБСОЛЮТИЗИРОВАТЬ  135851-V                            ПРИДАТЬ СВОЙСТВО\n",
       "10      АКТИВИРОВАТЬ  106501-V                       ЗАНЯТИЕ, ДЕЯТЕЛЬНОСТЬ\n",
       "11      АКТИВИРОВАТЬ    4661-V                        ОЗДОРОВЛЕНИЕ ПРИРОДЫ\n",
       "12      АКТИВИРОВАТЬ  115759-V                           СЖАТЬ (СОКРАТИТЬ)\n",
       "13      АКТИВИРОВАТЬ  106631-V                      ИЗМЕНИТЬ, СДЕЛАТЬ ИНЫМ\n",
       "14      АКТИВИРОВАТЬ  118698-V         ДЕЙСТВИЕ, ЦЕЛЕНАПРАВЛЕННОЕ ДЕЙСТВИЕ"
      ]
     },
     "execution_count": 457,
     "metadata": {},
     "output_type": "execute_result"
    }
   ],
   "source": [
    "sub = my_knn.dict2submission(public_test_hypos, full_syn_storage.id2synset)\n",
    "sub.head(15)"
   ]
  },
  {
   "cell_type": "code",
   "execution_count": 458,
   "metadata": {},
   "outputs": [],
   "source": [
    "sub.to_csv('results/verbs_v3_all_small_weight.tsv', sep='\\t', encoding='utf-8', header=None, index=None)"
   ]
  },
  {
   "cell_type": "markdown",
   "metadata": {},
   "source": [
    "Проверка на идентичность с предыдущей заливкой"
   ]
  },
  {
   "cell_type": "code",
   "execution_count": 183,
   "metadata": {},
   "outputs": [],
   "source": [
    "prev = pd.read_csv('results/verbs_v0_strange.tsv', sep='\\t', encoding='utf-8', header=None)\n",
    "prev.columns = sub.columns"
   ]
  },
  {
   "cell_type": "code",
   "execution_count": 191,
   "metadata": {},
   "outputs": [],
   "source": [
    "assert prev.shape == sub.shape\n",
    "assert (prev.noun == sub.noun).all()\n",
    "assert (prev.result == sub.result).all()"
   ]
  },
  {
   "cell_type": "markdown",
   "metadata": {},
   "source": [
    "# Финальная заливка"
   ]
  },
  {
   "cell_type": "code",
   "execution_count": 138,
   "metadata": {},
   "outputs": [],
   "source": [
    "private_test_verbs = pd.read_csv('../data/private_test/verbs_private.tsv', header=None)\n",
    "private_test_verbs.columns = ['text']"
   ]
  },
  {
   "cell_type": "code",
   "execution_count": 140,
   "metadata": {},
   "outputs": [
    {
     "data": {
      "application/vnd.jupyter.widget-view+json": {
       "model_id": "060a3d9dd7534072a698a156958ee47e",
       "version_major": 2,
       "version_minor": 0
      },
      "text/plain": [
       "HBox(children=(FloatProgress(value=0.0, max=350.0), HTML(value='')))"
      ]
     },
     "metadata": {},
     "output_type": "display_data"
    },
    {
     "name": "stdout",
     "output_type": "stream",
     "text": [
      "\n"
     ]
    }
   ],
   "source": [
    "private_test_hypos = {\n",
    "    txt: \n",
    "    my_knn.hypotheses_knn(\n",
    "        txt, \n",
    "        index=tree, text2vec=embedder, synset_storage=verbs_storage, rel_storage=verb_rel_storage,\n",
    "        decay=3, \n",
    "        k=100, \n",
    "        grand_mult=0.5,\n",
    "    )  \n",
    "    for txt in tqdm(private_test_verbs.text)\n",
    "}"
   ]
  },
  {
   "cell_type": "code",
   "execution_count": 141,
   "metadata": {},
   "outputs": [],
   "source": [
    "sub = my_knn.dict2submission(private_test_hypos, verbs_storage.id2synset)"
   ]
  },
  {
   "cell_type": "code",
   "execution_count": 142,
   "metadata": {},
   "outputs": [
    {
     "data": {
      "text/html": [
       "<div>\n",
       "<style scoped>\n",
       "    .dataframe tbody tr th:only-of-type {\n",
       "        vertical-align: middle;\n",
       "    }\n",
       "\n",
       "    .dataframe tbody tr th {\n",
       "        vertical-align: top;\n",
       "    }\n",
       "\n",
       "    .dataframe thead th {\n",
       "        text-align: right;\n",
       "    }\n",
       "</style>\n",
       "<table border=\"1\" class=\"dataframe\">\n",
       "  <thead>\n",
       "    <tr style=\"text-align: right;\">\n",
       "      <th></th>\n",
       "      <th>noun</th>\n",
       "      <th>result</th>\n",
       "      <th>result_text</th>\n",
       "    </tr>\n",
       "  </thead>\n",
       "  <tbody>\n",
       "    <tr>\n",
       "      <th>0</th>\n",
       "      <td>АДСОРБИРОВАТЬ</td>\n",
       "      <td>111097-V</td>\n",
       "      <td>ИЗМЕНЕНИЕ АГРЕГАТНОГО СОСТОЯНИЯ</td>\n",
       "    </tr>\n",
       "    <tr>\n",
       "      <th>1</th>\n",
       "      <td>АДСОРБИРОВАТЬ</td>\n",
       "      <td>106629-V</td>\n",
       "      <td>ИЗМЕНИТЬСЯ, ИЗМЕНЕНИЕ</td>\n",
       "    </tr>\n",
       "    <tr>\n",
       "      <th>2</th>\n",
       "      <td>АДСОРБИРОВАТЬ</td>\n",
       "      <td>106631-V</td>\n",
       "      <td>ИЗМЕНИТЬ, СДЕЛАТЬ ИНЫМ</td>\n",
       "    </tr>\n",
       "    <tr>\n",
       "      <th>3</th>\n",
       "      <td>АДСОРБИРОВАТЬ</td>\n",
       "      <td>106950-V</td>\n",
       "      <td>ПРЕВРАТИТЬ (ПРИДАТЬ ИНОЙ ВИД, КАЧЕСТВО)</td>\n",
       "    </tr>\n",
       "    <tr>\n",
       "      <th>4</th>\n",
       "      <td>АДСОРБИРОВАТЬ</td>\n",
       "      <td>106501-V</td>\n",
       "      <td>ЗАНЯТИЕ, ДЕЯТЕЛЬНОСТЬ</td>\n",
       "    </tr>\n",
       "    <tr>\n",
       "      <th>...</th>\n",
       "      <td>...</td>\n",
       "      <td>...</td>\n",
       "      <td>...</td>\n",
       "    </tr>\n",
       "    <tr>\n",
       "      <th>3495</th>\n",
       "      <td>ЮМОРИТЬ</td>\n",
       "      <td>116284-V</td>\n",
       "      <td>ВЫСМЕЯТЬ, ОСМЕЯТЬ</td>\n",
       "    </tr>\n",
       "    <tr>\n",
       "      <th>3496</th>\n",
       "      <td>ЮМОРИТЬ</td>\n",
       "      <td>118698-V</td>\n",
       "      <td>ДЕЙСТВИЕ, ЦЕЛЕНАПРАВЛЕННОЕ ДЕЙСТВИЕ</td>\n",
       "    </tr>\n",
       "    <tr>\n",
       "      <th>3497</th>\n",
       "      <td>ЮМОРИТЬ</td>\n",
       "      <td>116285-V</td>\n",
       "      <td>НАСМЕХАТЬСЯ</td>\n",
       "    </tr>\n",
       "    <tr>\n",
       "      <th>3498</th>\n",
       "      <td>ЮМОРИТЬ</td>\n",
       "      <td>115102-V</td>\n",
       "      <td>МУЧИТЬ</td>\n",
       "    </tr>\n",
       "    <tr>\n",
       "      <th>3499</th>\n",
       "      <td>ЮМОРИТЬ</td>\n",
       "      <td>114663-V</td>\n",
       "      <td>ВЕСЕЛИТЬ</td>\n",
       "    </tr>\n",
       "  </tbody>\n",
       "</table>\n",
       "<p>3500 rows × 3 columns</p>\n",
       "</div>"
      ],
      "text/plain": [
       "               noun    result                              result_text\n",
       "0     АДСОРБИРОВАТЬ  111097-V          ИЗМЕНЕНИЕ АГРЕГАТНОГО СОСТОЯНИЯ\n",
       "1     АДСОРБИРОВАТЬ  106629-V                    ИЗМЕНИТЬСЯ, ИЗМЕНЕНИЕ\n",
       "2     АДСОРБИРОВАТЬ  106631-V                   ИЗМЕНИТЬ, СДЕЛАТЬ ИНЫМ\n",
       "3     АДСОРБИРОВАТЬ  106950-V  ПРЕВРАТИТЬ (ПРИДАТЬ ИНОЙ ВИД, КАЧЕСТВО)\n",
       "4     АДСОРБИРОВАТЬ  106501-V                    ЗАНЯТИЕ, ДЕЯТЕЛЬНОСТЬ\n",
       "...             ...       ...                                      ...\n",
       "3495        ЮМОРИТЬ  116284-V                        ВЫСМЕЯТЬ, ОСМЕЯТЬ\n",
       "3496        ЮМОРИТЬ  118698-V      ДЕЙСТВИЕ, ЦЕЛЕНАПРАВЛЕННОЕ ДЕЙСТВИЕ\n",
       "3497        ЮМОРИТЬ  116285-V                              НАСМЕХАТЬСЯ\n",
       "3498        ЮМОРИТЬ  115102-V                                   МУЧИТЬ\n",
       "3499        ЮМОРИТЬ  114663-V                                 ВЕСЕЛИТЬ\n",
       "\n",
       "[3500 rows x 3 columns]"
      ]
     },
     "execution_count": 142,
     "metadata": {},
     "output_type": "execute_result"
    }
   ],
   "source": [
    "sub"
   ]
  },
  {
   "cell_type": "code",
   "execution_count": 143,
   "metadata": {},
   "outputs": [
    {
     "data": {
      "text/html": [
       "<div>\n",
       "<style scoped>\n",
       "    .dataframe tbody tr th:only-of-type {\n",
       "        vertical-align: middle;\n",
       "    }\n",
       "\n",
       "    .dataframe tbody tr th {\n",
       "        vertical-align: top;\n",
       "    }\n",
       "\n",
       "    .dataframe thead th {\n",
       "        text-align: right;\n",
       "    }\n",
       "</style>\n",
       "<table border=\"1\" class=\"dataframe\">\n",
       "  <thead>\n",
       "    <tr style=\"text-align: right;\">\n",
       "      <th></th>\n",
       "      <th>noun</th>\n",
       "      <th>result</th>\n",
       "      <th>result_text</th>\n",
       "    </tr>\n",
       "  </thead>\n",
       "  <tbody>\n",
       "    <tr>\n",
       "      <th>0</th>\n",
       "      <td>АДСОРБИРОВАТЬ</td>\n",
       "      <td>111097-V</td>\n",
       "      <td>ИЗМЕНЕНИЕ АГРЕГАТНОГО СОСТОЯНИЯ</td>\n",
       "    </tr>\n",
       "    <tr>\n",
       "      <th>1</th>\n",
       "      <td>АДСОРБИРОВАТЬ</td>\n",
       "      <td>106629-V</td>\n",
       "      <td>ИЗМЕНИТЬСЯ, ИЗМЕНЕНИЕ</td>\n",
       "    </tr>\n",
       "    <tr>\n",
       "      <th>2</th>\n",
       "      <td>АДСОРБИРОВАТЬ</td>\n",
       "      <td>106631-V</td>\n",
       "      <td>ИЗМЕНИТЬ, СДЕЛАТЬ ИНЫМ</td>\n",
       "    </tr>\n",
       "    <tr>\n",
       "      <th>3</th>\n",
       "      <td>АДСОРБИРОВАТЬ</td>\n",
       "      <td>106950-V</td>\n",
       "      <td>ПРЕВРАТИТЬ (ПРИДАТЬ ИНОЙ ВИД, КАЧЕСТВО)</td>\n",
       "    </tr>\n",
       "    <tr>\n",
       "      <th>4</th>\n",
       "      <td>АДСОРБИРОВАТЬ</td>\n",
       "      <td>106501-V</td>\n",
       "      <td>ЗАНЯТИЕ, ДЕЯТЕЛЬНОСТЬ</td>\n",
       "    </tr>\n",
       "    <tr>\n",
       "      <th>5</th>\n",
       "      <td>АДСОРБИРОВАТЬ</td>\n",
       "      <td>112139-V</td>\n",
       "      <td>ОЧИСТКА ОТ ПРИМЕСЕЙ</td>\n",
       "    </tr>\n",
       "    <tr>\n",
       "      <th>6</th>\n",
       "      <td>АДСОРБИРОВАТЬ</td>\n",
       "      <td>106534-V</td>\n",
       "      <td>ОБРАБАТЫВАТЬ, ПОДВЕРГАТЬ ОБРАБОТКЕ</td>\n",
       "    </tr>\n",
       "    <tr>\n",
       "      <th>7</th>\n",
       "      <td>АДСОРБИРОВАТЬ</td>\n",
       "      <td>112136-V</td>\n",
       "      <td>ПРОПУСТИТЬ (ДАТЬ ПРОНИКНУТЬ)</td>\n",
       "    </tr>\n",
       "    <tr>\n",
       "      <th>8</th>\n",
       "      <td>АДСОРБИРОВАТЬ</td>\n",
       "      <td>107417-V</td>\n",
       "      <td>ОТДЕЛИТЬ ЧАСТЬ ОТ ЦЕЛОГО</td>\n",
       "    </tr>\n",
       "    <tr>\n",
       "      <th>9</th>\n",
       "      <td>АДСОРБИРОВАТЬ</td>\n",
       "      <td>145451-V</td>\n",
       "      <td>СЕПАРАЦИЯ СМЕСИ</td>\n",
       "    </tr>\n",
       "    <tr>\n",
       "      <th>10</th>\n",
       "      <td>АКАТЬ</td>\n",
       "      <td>107093-V</td>\n",
       "      <td>ИЗДАТЬ ЗВУК</td>\n",
       "    </tr>\n",
       "    <tr>\n",
       "      <th>11</th>\n",
       "      <td>АКАТЬ</td>\n",
       "      <td>107094-V</td>\n",
       "      <td>ПРОИЗНЕСТИ, ВЫГОВОРИТЬ, ПРОГОВОРИТЬ</td>\n",
       "    </tr>\n",
       "    <tr>\n",
       "      <th>12</th>\n",
       "      <td>АКАТЬ</td>\n",
       "      <td>106933-V</td>\n",
       "      <td>ГЛОТАТЬ ВНУТРЬ СЕБЯ</td>\n",
       "    </tr>\n",
       "    <tr>\n",
       "      <th>13</th>\n",
       "      <td>АКАТЬ</td>\n",
       "      <td>106876-V</td>\n",
       "      <td>ВЫСКАЗАТЬ</td>\n",
       "    </tr>\n",
       "    <tr>\n",
       "      <th>14</th>\n",
       "      <td>АКАТЬ</td>\n",
       "      <td>106934-V</td>\n",
       "      <td>ЕСТЬ, ПРИНИМАТЬ ПИЩУ</td>\n",
       "    </tr>\n",
       "  </tbody>\n",
       "</table>\n",
       "</div>"
      ],
      "text/plain": [
       "             noun    result                              result_text\n",
       "0   АДСОРБИРОВАТЬ  111097-V          ИЗМЕНЕНИЕ АГРЕГАТНОГО СОСТОЯНИЯ\n",
       "1   АДСОРБИРОВАТЬ  106629-V                    ИЗМЕНИТЬСЯ, ИЗМЕНЕНИЕ\n",
       "2   АДСОРБИРОВАТЬ  106631-V                   ИЗМЕНИТЬ, СДЕЛАТЬ ИНЫМ\n",
       "3   АДСОРБИРОВАТЬ  106950-V  ПРЕВРАТИТЬ (ПРИДАТЬ ИНОЙ ВИД, КАЧЕСТВО)\n",
       "4   АДСОРБИРОВАТЬ  106501-V                    ЗАНЯТИЕ, ДЕЯТЕЛЬНОСТЬ\n",
       "5   АДСОРБИРОВАТЬ  112139-V                      ОЧИСТКА ОТ ПРИМЕСЕЙ\n",
       "6   АДСОРБИРОВАТЬ  106534-V       ОБРАБАТЫВАТЬ, ПОДВЕРГАТЬ ОБРАБОТКЕ\n",
       "7   АДСОРБИРОВАТЬ  112136-V             ПРОПУСТИТЬ (ДАТЬ ПРОНИКНУТЬ)\n",
       "8   АДСОРБИРОВАТЬ  107417-V                 ОТДЕЛИТЬ ЧАСТЬ ОТ ЦЕЛОГО\n",
       "9   АДСОРБИРОВАТЬ  145451-V                          СЕПАРАЦИЯ СМЕСИ\n",
       "10          АКАТЬ  107093-V                              ИЗДАТЬ ЗВУК\n",
       "11          АКАТЬ  107094-V      ПРОИЗНЕСТИ, ВЫГОВОРИТЬ, ПРОГОВОРИТЬ\n",
       "12          АКАТЬ  106933-V                      ГЛОТАТЬ ВНУТРЬ СЕБЯ\n",
       "13          АКАТЬ  106876-V                                ВЫСКАЗАТЬ\n",
       "14          АКАТЬ  106934-V                     ЕСТЬ, ПРИНИМАТЬ ПИЩУ"
      ]
     },
     "execution_count": 143,
     "metadata": {},
     "output_type": "execute_result"
    }
   ],
   "source": [
    "sub.to_csv('results/private_verbs_v0_strange.tsv', sep='\\t', encoding='utf-8', header=None, index=None)\n",
    "sub.head(15)"
   ]
  },
  {
   "cell_type": "markdown",
   "metadata": {},
   "source": [
    "# Гипотеза с n-граммами"
   ]
  },
  {
   "cell_type": "markdown",
   "metadata": {},
   "source": [
    "http://www.ruscorpora.ru/new/corpora-freq.html"
   ]
  },
  {
   "cell_type": "code",
   "execution_count": 465,
   "metadata": {},
   "outputs": [],
   "source": [
    "ngrams_path = 'C:/Users/ddale/Downloads/NLP/ruscorpora_ngrams'"
   ]
  },
  {
   "cell_type": "code",
   "execution_count": 470,
   "metadata": {},
   "outputs": [],
   "source": [
    "import os\n",
    "import pandas as pd"
   ]
  },
  {
   "cell_type": "code",
   "execution_count": 473,
   "metadata": {},
   "outputs": [
    {
     "name": "stdout",
     "output_type": "stream",
     "text": [
      "1grams-3.txt\n",
      "2grams-3.txt\n",
      "3grams-3.txt\n",
      "4grams-2.txt\n",
      "5grams-2.txt\n"
     ]
    }
   ],
   "source": [
    "p = ngrams_path\n",
    "\n",
    "grams_lines = {}\n",
    "for fn in os.listdir(p):\n",
    "    if not fn.endswith('txt'):\n",
    "        continue\n",
    "    print(fn)\n",
    "    f0 = int(fn[0])\n",
    "    with open(os.path.join(p, fn), encoding='utf-8') as f:\n",
    "        grams_lines[f0] = [l.split('\\t') for l in f.readlines()]"
   ]
  },
  {
   "cell_type": "code",
   "execution_count": 474,
   "metadata": {},
   "outputs": [],
   "source": [
    "def get_ngram(l):\n",
    "    l = [w.strip() for w in l[1:]]\n",
    "    return '_'.join([w for w in l if w])"
   ]
  },
  {
   "cell_type": "code",
   "execution_count": 475,
   "metadata": {},
   "outputs": [],
   "source": [
    "grams_freq = {\n",
    "    n: {\n",
    "        get_ngram(l): int(l[0])\n",
    "        for l in d\n",
    "    }\n",
    "    for n, d in grams_lines.items()\n",
    "}"
   ]
  },
  {
   "cell_type": "markdown",
   "metadata": {},
   "source": [
    "Из биграм мы узнаём, что \"захламленной\" может быть комната или квартира. БОльшие n не сообщают ничего"
   ]
  },
  {
   "cell_type": "code",
   "execution_count": 484,
   "metadata": {},
   "outputs": [
    {
     "name": "stdout",
     "output_type": "stream",
     "text": [
      "был_захламлен 5\n",
      "захламленной_комнате 5\n",
      "в_захламленной 4\n",
      "в_захламленном 4\n",
      "в_захламленный 4\n",
      "захламленную_комнату 4\n",
      "по_захламленному 4\n",
      "была_захламлена 3\n",
      "захламленной_квартире 3\n",
      "захламленности_и 3\n"
     ]
    }
   ],
   "source": [
    "for k, v in grams_freq[2].items():\n",
    "    if 'захламл' in k:\n",
    "        print(k, v)"
   ]
  },
  {
   "cell_type": "markdown",
   "metadata": {},
   "source": [
    "Фасттекст умнее - он знает, что это слово похоже на замусорять, загромождивать и загаживать, что бы это ни значило :)"
   ]
  },
  {
   "cell_type": "code",
   "execution_count": 485,
   "metadata": {},
   "outputs": [
    {
     "data": {
      "text/plain": [
       "[('захламлать', 0.9291685819625854),\n",
       " ('захламливать', 0.9029788970947266),\n",
       " ('захламленный', 0.8950067758560181),\n",
       " ('захламленность', 0.7632160186767578),\n",
       " ('замусорять', 0.6844406127929688),\n",
       " ('загромождивать', 0.6693085432052612),\n",
       " ('загаживать', 0.6531472206115723),\n",
       " ('загромождать', 0.6455291509628296),\n",
       " ('замусорить', 0.6451689600944519),\n",
       " ('задымлять', 0.642647385597229)]"
      ]
     },
     "execution_count": 485,
     "metadata": {},
     "output_type": "execute_result"
    }
   ],
   "source": [
    "ft.most_similar('захламлять')"
   ]
  },
  {
   "cell_type": "code",
   "execution_count": null,
   "metadata": {},
   "outputs": [],
   "source": []
  }
 ],
 "metadata": {
  "kernelspec": {
   "display_name": "Python 3",
   "language": "python",
   "name": "python3"
  },
  "language_info": {
   "codemirror_mode": {
    "name": "ipython",
    "version": 3
   },
   "file_extension": ".py",
   "mimetype": "text/x-python",
   "name": "python",
   "nbconvert_exporter": "python",
   "pygments_lexer": "ipython3",
   "version": "3.6.8"
  }
 },
 "nbformat": 4,
 "nbformat_minor": 2
}
