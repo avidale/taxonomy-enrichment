{
 "cells": [
  {
   "cell_type": "code",
   "execution_count": 14,
   "metadata": {},
   "outputs": [],
   "source": [
    "import pandas as pd\n",
    "import numpy as np\n",
    "import pickle\n",
    "from collections import Counter, defaultdict"
   ]
  },
  {
   "cell_type": "code",
   "execution_count": 15,
   "metadata": {},
   "outputs": [],
   "source": [
    "import sys\n",
    "import os\n",
    "def add_sys_path(p):\n",
    "    p = os.path.abspath(p)\n",
    "    if p not in sys.path:\n",
    "        sys.path.append(p)\n",
    "\n",
    "add_sys_path('..')"
   ]
  },
  {
   "cell_type": "code",
   "execution_count": 16,
   "metadata": {},
   "outputs": [],
   "source": [
    "import evaluate"
   ]
  },
  {
   "cell_type": "code",
   "execution_count": 17,
   "metadata": {},
   "outputs": [],
   "source": [
    "import data_split"
   ]
  },
  {
   "cell_type": "code",
   "execution_count": 18,
   "metadata": {},
   "outputs": [],
   "source": [
    "from evaluate import read_dataset"
   ]
  },
  {
   "cell_type": "code",
   "execution_count": 19,
   "metadata": {},
   "outputs": [],
   "source": [
    "import json"
   ]
  },
  {
   "cell_type": "code",
   "execution_count": 20,
   "metadata": {},
   "outputs": [],
   "source": [
    "from tqdm.auto import tqdm, trange"
   ]
  },
  {
   "cell_type": "markdown",
   "metadata": {},
   "source": [
    "# Чтение и сплит данных"
   ]
  },
  {
   "cell_type": "code",
   "execution_count": 21,
   "metadata": {},
   "outputs": [],
   "source": [
    "v_ds = read_dataset('../data/training_data/training_verbs.tsv',  lambda x: json.loads(x))"
   ]
  },
  {
   "cell_type": "code",
   "execution_count": 22,
   "metadata": {},
   "outputs": [
    {
     "data": {
      "text/plain": [
       "[['115444-V', '120034-V'], ['117915-V', '135001-V']]"
      ]
     },
     "execution_count": 22,
     "metadata": {},
     "output_type": "execute_result"
    }
   ],
   "source": [
    "v_ds['АМНИСТИРОВАТЬ']"
   ]
  },
  {
   "cell_type": "code",
   "execution_count": 24,
   "metadata": {},
   "outputs": [],
   "source": [
    "train, dev, test1, test2, hid, forbidden_words = data_split.split_dict(v_ds)"
   ]
  },
  {
   "cell_type": "markdown",
   "metadata": {},
   "source": [
    "# Применение бейзлайна"
   ]
  },
  {
   "cell_type": "code",
   "execution_count": 265,
   "metadata": {},
   "outputs": [
    {
     "data": {
      "text/plain": [
       "<module 'my_knn' from 'C:\\\\Users\\\\ddale\\\\YandexDisk\\\\code\\\\NLP\\\\taxonomy-enrichment\\\\experiments\\\\my_knn.py'>"
      ]
     },
     "execution_count": 265,
     "metadata": {},
     "output_type": "execute_result"
    }
   ],
   "source": [
    "import my_knn\n",
    "from importlib import reload\n",
    "reload(my_knn)"
   ]
  },
  {
   "cell_type": "code",
   "execution_count": 163,
   "metadata": {},
   "outputs": [],
   "source": [
    "import gensim\n",
    "# this is araneum 2018 ft model from rusvectores\n",
    "ft = gensim.models.fasttext.FastTextKeyedVectors.load(\n",
    "    'C:/Users/ddale/Downloads/NLP/rusvectores/model.model'\n",
    ")"
   ]
  },
  {
   "cell_type": "code",
   "execution_count": 266,
   "metadata": {},
   "outputs": [
    {
     "name": "stdout",
     "output_type": "stream",
     "text": [
      "(300,)\n"
     ]
    }
   ],
   "source": [
    "#embedder = my_knn.SentenceEmbedder(ft=ft, n=300, normalize_word=True)\n",
    "embedder = my_knn.SentenceEmbedder(ft=ft, n=300, normalize_word=True, pos_weights={'INFN': 1.0, 'PREP': 0.1})\n",
    "print(embedder('привет как дела').shape)"
   ]
  },
  {
   "cell_type": "code",
   "execution_count": 132,
   "metadata": {},
   "outputs": [],
   "source": [
    "taiga = gensim.models.KeyedVectors.load_word2vec_format(\n",
    "    'C:/Users/ddale/Downloads/NLP/rusvectores/taiga_skipgram/model.bin', \n",
    "    binary=True,\n",
    ")"
   ]
  },
  {
   "cell_type": "code",
   "execution_count": 267,
   "metadata": {},
   "outputs": [],
   "source": [
    "wrapper = my_knn.W2VWrapper(taiga)"
   ]
  },
  {
   "cell_type": "code",
   "execution_count": 165,
   "metadata": {},
   "outputs": [
    {
     "name": "stdout",
     "output_type": "stream",
     "text": [
      "number of texts: 32822\n",
      "forbidden senses are 1390\n",
      "numer of ids 7521 long list is 28657\n"
     ]
    },
    {
     "data": {
      "application/vnd.jupyter.widget-view+json": {
       "model_id": "ac17142632324b53a91a37a9eb506c71",
       "version_major": 2,
       "version_minor": 0
      },
      "text/plain": [
       "HBox(children=(FloatProgress(value=1.0, bar_style='info', max=1.0), HTML(value='')))"
      ]
     },
     "metadata": {},
     "output_type": "display_data"
    },
    {
     "name": "stdout",
     "output_type": "stream",
     "text": [
      "\n",
      "5752\n",
      "186\n",
      "5\n",
      "7480\n"
     ]
    }
   ],
   "source": [
    "verbs_storage, verbs_rel_storage, rel_df = my_knn.prepare_storages(\n",
    "    synsets_filename='../data/ruwordnet/synsets.V.xml',\n",
    "    relations_filename='../data/ruwordnet/synset_relations.V.xml',\n",
    "    forbidden_words=forbidden_words\n",
    ")"
   ]
  },
  {
   "cell_type": "code",
   "execution_count": 166,
   "metadata": {},
   "outputs": [
    {
     "data": {
      "text/plain": [
       "28657"
      ]
     },
     "execution_count": 166,
     "metadata": {},
     "output_type": "execute_result"
    }
   ],
   "source": [
    "len(verbs_storage.texts_long)"
   ]
  },
  {
   "cell_type": "code",
   "execution_count": 167,
   "metadata": {},
   "outputs": [],
   "source": [
    "import random"
   ]
  },
  {
   "cell_type": "code",
   "execution_count": 168,
   "metadata": {},
   "outputs": [],
   "source": [
    "from pymorphy2 import MorphAnalyzer\n",
    "\n",
    "morphAnalyzer = MorphAnalyzer()\n",
    "\n",
    "def word2pos(w):\n",
    "    parses = morphAnalyzer.parse(w)\n",
    "    if not parses:\n",
    "        return None\n",
    "    parse = parses[0]\n",
    "    if not parse.tag:\n",
    "        return None\n",
    "    if not parse.tag.POS:\n",
    "        return None\n",
    "    return parse.tag.POS"
   ]
  },
  {
   "cell_type": "code",
   "execution_count": 170,
   "metadata": {},
   "outputs": [
    {
     "name": "stdout",
     "output_type": "stream",
     "text": [
      "РАЗУЧИТЬСЯ, УТРАТИТЬ УМЕНИЕ\n",
      "['INFN', 'INFN', 'NOUN']\n",
      "ПОРТРЕТИРОВАТЬ\n",
      "['INFN']\n",
      "ПОДПУСКАТЬ ; ПОДПУСКАТЬ БЛИЗКИЙ ; ПОДПУСКАТЬ НА БЛИЗКИЙ РАССТОЯНИЕ ; ПОДПУСТИТЬ ; ПОДПУСТИТЬ БЛИЖЕ ; ПОДПУСТИТЬ БЛИЗКИЙ ; ПОДПУСТИТЬ НА БЛИЗКИЙ РАССТОЯНИЕ\n",
      "['INFN', 'INFN', 'ADJF', 'INFN', 'PREP', 'ADJF', 'NOUN', 'INFN', 'INFN', 'COMP', 'INFN', 'ADJF', 'INFN', 'PREP', 'ADJF', 'NOUN']\n",
      "ШАРОМЫЖНИЧАТЬ\n",
      "['INFN']\n",
      "РАЗРАБАТЫВАТЬ МЕСТОРОЖДЕНИЕ ГАЗ\n",
      "['INFN', 'NOUN', 'NOUN']\n"
     ]
    }
   ],
   "source": [
    "s = random.sample(verbs_storage.texts_long, 5)\n",
    "for t in s:\n",
    "    print(t)\n",
    "    print([word2pos(w) for w in my_knn.tokenize(t)])"
   ]
  },
  {
   "cell_type": "code",
   "execution_count": 171,
   "metadata": {},
   "outputs": [
    {
     "data": {
      "application/vnd.jupyter.widget-view+json": {
       "model_id": "7535a8e715f14b29b6330f415b153431",
       "version_major": 2,
       "version_minor": 0
      },
      "text/plain": [
       "HBox(children=(FloatProgress(value=0.0, max=28657.0), HTML(value='')))"
      ]
     },
     "metadata": {},
     "output_type": "display_data"
    },
    {
     "name": "stdout",
     "output_type": "stream",
     "text": [
      "\n"
     ]
    }
   ],
   "source": [
    "from sklearn.neighbors import KDTree\n",
    "vecs = np.stack([embedder(t) for t in tqdm(verbs_storage.texts_long) ])\n",
    "tree = KDTree(vecs)"
   ]
  },
  {
   "cell_type": "code",
   "execution_count": 271,
   "metadata": {},
   "outputs": [
    {
     "data": {
      "application/vnd.jupyter.widget-view+json": {
       "model_id": "316739172b22412bbd6dfd04ab75d975",
       "version_major": 2,
       "version_minor": 0
      },
      "text/plain": [
       "HBox(children=(FloatProgress(value=0.0, max=28657.0), HTML(value='')))"
      ]
     },
     "metadata": {},
     "output_type": "display_data"
    },
    {
     "name": "stdout",
     "output_type": "stream",
     "text": [
      "\n"
     ]
    }
   ],
   "source": [
    "w2v_vecs = np.stack([wrapper(t) for t in tqdm(verbs_storage.texts_long) ])\n",
    "w2v_tree = KDTree(w2v_vecs)"
   ]
  },
  {
   "cell_type": "code",
   "execution_count": 173,
   "metadata": {},
   "outputs": [
    {
     "name": "stdout",
     "output_type": "stream",
     "text": [
      "1.0 1.0\n"
     ]
    }
   ],
   "source": [
    "# проверка, что сравнение само с собой всегда получает скор 1\n",
    "dev_pred = {k: [v0 for val in vals for v0 in val] for k, vals in dev.items()}\n",
    "mean_ap, mean_rr = evaluate.get_score(dev, dev_pred, k=10)\n",
    "print(mean_ap, mean_rr)"
   ]
  },
  {
   "cell_type": "code",
   "execution_count": 276,
   "metadata": {},
   "outputs": [],
   "source": [
    "def w2v_scorer(text1, text2):\n",
    "    return np.dot(wrapper.get_text_vec(text1), wrapper.get_text_vec(text2)) ** 2"
   ]
  },
  {
   "cell_type": "code",
   "execution_count": 277,
   "metadata": {},
   "outputs": [
    {
     "data": {
      "application/vnd.jupyter.widget-view+json": {
       "model_id": "4f7ee8540c8c4336b61aa93536496865",
       "version_major": 2,
       "version_minor": 0
      },
      "text/plain": [
       "HBox(children=(FloatProgress(value=0.0, max=149.0), HTML(value='')))"
      ]
     },
     "metadata": {},
     "output_type": "display_data"
    },
    {
     "name": "stdout",
     "output_type": "stream",
     "text": [
      "\n"
     ]
    }
   ],
   "source": [
    "#texts = ttest_test1.one_text.drop_duplicates()\n",
    "small_hypos = {}\n",
    "for txt in tqdm(dev.keys()):\n",
    "    hypos = my_knn.hypotheses_knn(\n",
    "        txt, \n",
    "        #index=tree, text2vec=embedder, \n",
    "        index=w2v_tree, text2vec=wrapper,\n",
    "        synset_storage=verbs_storage, rel_storage=verbs_rel_storage,\n",
    "        decay=3, \n",
    "        k=100, \n",
    "        grand_mult=0.5,\n",
    "        return_hypotheses=True,\n",
    "        neighbor_scorer=w2v_scorer,\n",
    "    )\n",
    "    hypos = my_knn.transitivity_rerank(hypos, txt, verbs_storage.id2synset, mul=1.001)\n",
    "    small_hypos[txt] = my_knn.get_top(hypos, 10)"
   ]
  },
  {
   "cell_type": "markdown",
   "metadata": {},
   "source": [
    "Когда я выкинул из синсетов запрещённое, получаю 21% 27%, а если ещё из отношений, то 20% 26%. \n",
    "\n",
    "Хотя на паблик тесте вообще 24% 27%. \n",
    "\n",
    "Вывод: вообще-то перед сабмишнами надо пересчитываться на полной выборке. "
   ]
  },
  {
   "cell_type": "code",
   "execution_count": 278,
   "metadata": {},
   "outputs": [
    {
     "name": "stdout",
     "output_type": "stream",
     "text": [
      "0.260688984766166 0.3427239799723022\n"
     ]
    }
   ],
   "source": [
    "mean_ap, mean_rr = evaluate.get_score(dev, small_hypos, k=10)\n",
    "print(mean_ap, mean_rr)"
   ]
  },
  {
   "cell_type": "markdown",
   "metadata": {},
   "source": [
    "```\n",
    "0.20069866126913108 0.26436294875892197 - baseline\n",
    "0.19999533929903057 0.2675482049643124 - not normalize word vecs (inconclusive)\n",
    "\n",
    "0.18938824970704168 0.24604239906253328 - baseline + weight{verb = 3}\n",
    "0.19966265402507014 0.2668610844785341 - baseline + weight{verb=1.1}\n",
    "0.20093569120414756 0.2669250026632577 - baseline + weight{prep=0.8} (definitely helps!)\n",
    "0.20307894783565925 0.2682939171194206 - baseline + weight{prep=0.1} (we'll keep it this way)\n",
    "0.2034944160363623 0.26912485352082666 - transitivity rerank (1.01)\n",
    "0.2032758069670821 0.2687786300202407  - transitivity rerank (1.03)\n",
    "0.1968120805369127 0.26168903803132    - transitivity rerank (1.2)\n",
    "\n",
    "0.22727974858847338 0.2913257696814745 - penalize by w2v similarity ^ 1\n",
    "0.23582614253755194 0.3011691701289017 - similarity ^ 2 \n",
    "0.23904202620645573 0.3038670501757751- similarity ^ 3\n",
    "0.23729981179645612 0.3064717162032599 - similarity ^ 5\n",
    "0.21469851922872057 0.2766565462874188 - exp(1*similarity)\n",
    "0.23159422605731322 0.2943858527751146 - exp(3*similarity)\n",
    "0.23811210539398467 0.3061760945989136 - exp(10*similarity)\n",
    "0.21968147437946095 0.2850990731863215 - exp(30*similarity)\n",
    "0.26026175384396866 0.3428811121764142*- use w2v only for retrieval (penalty is similarity ** 3) \n",
    "0.260688984766166 0.3427239799723022   - use w2v only for retrieval (penalty is similarity ** 2)\n",
    "```"
   ]
  },
  {
   "cell_type": "markdown",
   "metadata": {},
   "source": [
    "#### Проверяем полноту моей системы"
   ]
  },
  {
   "cell_type": "code",
   "execution_count": 664,
   "metadata": {},
   "outputs": [
    {
     "data": {
      "application/vnd.jupyter.widget-view+json": {
       "model_id": "346b720be555458bacfc7042af9108e5",
       "version_major": 2,
       "version_minor": 0
      },
      "text/plain": [
       "HBox(children=(FloatProgress(value=0.0, max=149.0), HTML(value='')))"
      ]
     },
     "metadata": {},
     "output_type": "display_data"
    },
    {
     "name": "stdout",
     "output_type": "stream",
     "text": [
      "\n"
     ]
    }
   ],
   "source": [
    "small_hypos_large = {\n",
    "    txt: \n",
    "    my_knn.hypotheses_knn(\n",
    "        txt, \n",
    "        index=tree, text2vec=embedder, synset_storage=verbs_storage, rel_storage=verb_rel_storage,\n",
    "        decay=3, \n",
    "        k=100, \n",
    "        grand_mult=0.5,\n",
    "        result_size=100\n",
    "    )  \n",
    "    for txt in tqdm(dev.keys())\n",
    "}"
   ]
  },
  {
   "cell_type": "code",
   "execution_count": 665,
   "metadata": {},
   "outputs": [
    {
     "data": {
      "text/plain": [
       "[['117993-V', '118191-V'], ['107011-V', '108870-V']]"
      ]
     },
     "execution_count": 665,
     "metadata": {},
     "output_type": "execute_result"
    }
   ],
   "source": [
    "dev[k]"
   ]
  },
  {
   "cell_type": "code",
   "execution_count": 666,
   "metadata": {},
   "outputs": [],
   "source": [
    "for k, v in small_hypos_large.items():\n",
    "    gts = {sense for senses in dev[k] for sense in senses}\n",
    "    small_hypos_large[k] = [sense for sense in v if sense in gts]"
   ]
  },
  {
   "cell_type": "code",
   "execution_count": 667,
   "metadata": {},
   "outputs": [
    {
     "name": "stdout",
     "output_type": "stream",
     "text": [
      "0.623042505592841 0.7449664429530202\n"
     ]
    }
   ],
   "source": [
    "print(*evaluate.get_score(dev, small_hypos_large, k=10))"
   ]
  },
  {
   "cell_type": "markdown",
   "metadata": {},
   "source": [
    "Если бы я имел возможность более правильно переранжировать мои ВСЕ кандидаты, я бы получил скор 63%/75%, достаточно, чтобы победить в этом соревновании. Но увы. \n",
    "\n",
    "30 кандидатов - 48% / 61%, достаточно высоко тоже. \n",
    "\n",
    "10 кандидатов - 36% / 48%, если только выкинуть мусор. Но как это сделать?"
   ]
  },
  {
   "cell_type": "markdown",
   "metadata": {},
   "source": [
    "### частные случаи"
   ]
  },
  {
   "cell_type": "markdown",
   "metadata": {},
   "source": [
    "Проверяю, что может быть не так"
   ]
  },
  {
   "cell_type": "code",
   "execution_count": 695,
   "metadata": {},
   "outputs": [
    {
     "name": "stdout",
     "output_type": "stream",
     "text": [
      "ОБЕСТОЧИТЬСЯ\n",
      "[['107417-V', '111842-V', '137256-V']]\n",
      "[['ОТДЕЛИТЬ ЧАСТЬ ОТ ЦЕЛОГО', 'ВЫКЛЮЧИТЬ (ПРЕКРАТИТЬ)', 'ОТКЛЮЧИТЬ ОТ СЕТИ']]\n"
     ]
    }
   ],
   "source": [
    "word = random.choice(list(dev.keys()))\n",
    "print(word)\n",
    "\n",
    "print(dev[word])\n",
    "print([\n",
    "    [verbs_storage.id2synset[id]['@ruthes_name'] for id in ids]\n",
    "    for ids in dev[word]\n",
    "])"
   ]
  },
  {
   "cell_type": "code",
   "execution_count": 696,
   "metadata": {},
   "outputs": [
    {
     "name": "stdout",
     "output_type": "stream",
     "text": [
      "116921-V [] ПЕРЕЖИТЬ, ИСПЫТАТЬ\n",
      "120955-V [] ИЗМЕНЕНИЕ СОСТОЯНИЯ\n",
      "106629-V [] ИЗМЕНИТЬСЯ, ИЗМЕНЕНИЕ\n",
      "119625-V [] СЛАБЕТЬ, ТЕРЯТЬ СИЛУ\n",
      "116929-V [] СТРАДАТЬ, ИСПЫТЫВАТЬ СТРАДАНИЯ\n",
      "111944-V [] НАЗНАЧИТЬ, УСТАНОВИТЬ, ОПРЕДЕЛИТЬ\n",
      "111086-V [] ГНУТЬСЯ, СОГНУТЬСЯ\n",
      "144428-V [] ТОКАРНЫЕ РАБОТЫ\n",
      "112080-V [] СРЕЗАТЬ С КРАЕВ\n",
      "130868-V [] ЗЛЕТЬ, ОЗЛОБИТЬСЯ\n"
     ]
    }
   ],
   "source": [
    "for h in small_hypos[word]:\n",
    "    indices = [i for i, senses in enumerate(dev[word]) if h in senses]\n",
    "    print(h, indices, verbs_storage.id2synset[h]['@ruthes_name'])"
   ]
  },
  {
   "cell_type": "code",
   "execution_count": 681,
   "metadata": {},
   "outputs": [
    {
     "name": "stdout",
     "output_type": "stream",
     "text": [
      "0.0\n",
      "0.0\n"
     ]
    }
   ],
   "source": [
    "print(evaluate.compute_ap(dev[word], small_hypos[word], 10))\n",
    "print(evaluate.compute_rr([j for i in dev[word] for j in i], small_hypos[word], 10))"
   ]
  },
  {
   "cell_type": "code",
   "execution_count": null,
   "metadata": {},
   "outputs": [],
   "source": []
  },
  {
   "cell_type": "code",
   "execution_count": 578,
   "metadata": {},
   "outputs": [
    {
     "name": "stdout",
     "output_type": "stream",
     "text": [
      "NOUN,anim,femn sing,nomn\n",
      "None\n"
     ]
    }
   ],
   "source": [
    "tag = morphAnalyzer.parse('корова')[0].tag\n",
    "print(tag)\n",
    "print(tag.transitivity)"
   ]
  },
  {
   "cell_type": "code",
   "execution_count": 584,
   "metadata": {},
   "outputs": [],
   "source": [
    "hypos = my_knn.hypotheses_knn(\n",
    "        word, \n",
    "        index=tree, text2vec=embedder, synset_storage=verbs_storage, rel_storage=verb_rel_storage,\n",
    "        decay=3,  k=100, grand_mult=0.5,\n",
    "        return_hypotheses=True\n",
    "    ) "
   ]
  },
  {
   "cell_type": "code",
   "execution_count": 610,
   "metadata": {},
   "outputs": [],
   "source": []
  },
  {
   "cell_type": "code",
   "execution_count": 623,
   "metadata": {},
   "outputs": [],
   "source": [
    "new_hypos = transitivity_rerank(hypos, word, verbs_storage.id2synset, mul=2)"
   ]
  },
  {
   "cell_type": "code",
   "execution_count": 626,
   "metadata": {},
   "outputs": [],
   "source": []
  },
  {
   "cell_type": "code",
   "execution_count": 627,
   "metadata": {},
   "outputs": [],
   "source": [
    "new_top = get_top(new_hypos)"
   ]
  },
  {
   "cell_type": "code",
   "execution_count": 628,
   "metadata": {},
   "outputs": [
    {
     "name": "stdout",
     "output_type": "stream",
     "text": [
      "119562-V [] ПРЕГРАДИТЬ, МЕШАТЬ ДВИЖЕНИЮ\n",
      "110719-V [3] ЛИТЬ ЖИДКОСТЬ\n",
      "111098-V [] ПЛАВЛЕНИЕ ВЕЩЕСТВА\n",
      "116248-V [] ПЕРЕГОРОДИТЬ\n",
      "144157-V [] ОЧИСТКА ОТ ВРЕДНЫХ ВЕЩЕСТВ\n",
      "128431-V [] ОБЕЗВРЕДИТЬ\n",
      "106483-V [] УНИЧТОЖИТЬ, ПРЕКРАТИТЬ СУЩЕСТВОВАНИЕ\n",
      "4255-V [] ОХРАНА ВОД\n",
      "114638-V [] СМОЧИТЬ\n",
      "118060-V [] РАЗМЫТЬ ПОТОКОМ\n"
     ]
    }
   ],
   "source": [
    "for h in new_top:\n",
    "    indices = [i for i, senses in enumerate(dev[word]) if h in senses]\n",
    "    print(h, indices, verbs_storage.id2synset[h]['@ruthes_name'])"
   ]
  },
  {
   "cell_type": "code",
   "execution_count": 1,
   "metadata": {},
   "outputs": [],
   "source": [
    "import gensim"
   ]
  },
  {
   "cell_type": "code",
   "execution_count": 149,
   "metadata": {},
   "outputs": [],
   "source": [
    "import random"
   ]
  },
  {
   "cell_type": "code",
   "execution_count": 31,
   "metadata": {},
   "outputs": [],
   "source": [
    "from pymorphy2 import MorphAnalyzer\n",
    "\n",
    "morphAnalyzer = MorphAnalyzer()"
   ]
  },
  {
   "cell_type": "code",
   "execution_count": null,
   "metadata": {},
   "outputs": [],
   "source": [
    "prefix2word = defaultdict(set)\n",
    "for w in taiga.vocab.keys():\n",
    "    for n in range(1, len(w)-2):\n",
    "        prefix2word[w[:-n]].add(w)\n",
    "prefix2word = {k: v for k, v in prefix2wordx2word.items()}"
   ]
  },
  {
   "cell_type": "code",
   "execution_count": 105,
   "metadata": {},
   "outputs": [],
   "source": [
    "POS_MAP = {\n",
    "    'INFN': 'VERB',\n",
    "    'ADJF': 'ADJ',\n",
    "    'ADVB': 'ADV',\n",
    "}\n",
    "POS_MISS = {\n",
    "    'PREP'\n",
    "}"
   ]
  },
  {
   "cell_type": "code",
   "execution_count": 94,
   "metadata": {},
   "outputs": [],
   "source": [
    "def find_prefix(word, mapping, min_len=2):\n",
    "    if word in mapping:\n",
    "        return mapping[word]\n",
    "    for i in range(1, len(word)-min_len):\n",
    "        t = mapping.get(word[:-i])\n",
    "        if t is not None:\n",
    "            return t"
   ]
  },
  {
   "cell_type": "code",
   "execution_count": 124,
   "metadata": {},
   "outputs": [
    {
     "name": "stdout",
     "output_type": "stream",
     "text": [
      "ХРИСТИАНИЗАЦИЯ\n"
     ]
    }
   ],
   "source": [
    "synset_id = random.choice(list(verbs_storage.id2synset.keys()))\n",
    "text = verbs_storage.id2synset[synset_id]['@ruthes_name']\n",
    "print(text)"
   ]
  },
  {
   "cell_type": "code",
   "execution_count": 125,
   "metadata": {},
   "outputs": [
    {
     "name": "stdout",
     "output_type": "stream",
     "text": [
      "христианизация NOUN\n",
      "yes\n"
     ]
    }
   ],
   "source": [
    "toks = my_knn.tokenize(text)\n",
    "for tok in toks:\n",
    "    parse = morphAnalyzer.parse(tok)[0]\n",
    "    tag = parse.tag\n",
    "    print(tok, tag.POS)\n",
    "    new_pos = POS_MAP.get(tag.POS, tag.POS)\n",
    "    if new_pos in POS_MISS:\n",
    "        continue\n",
    "    key = tok + '_' + new_pos\n",
    "    key2 = parse.normal_form + '_' + new_pos\n",
    "    if key in taiga.vocab:\n",
    "        print('yes')\n",
    "    elif key2 in taiga.vocab:\n",
    "        print('nf')\n",
    "    else:\n",
    "        print(find_prefix(key, prefix2word))"
   ]
  },
  {
   "cell_type": "code",
   "execution_count": 127,
   "metadata": {},
   "outputs": [
    {
     "data": {
      "text/plain": [
       "300"
      ]
     },
     "execution_count": 127,
     "metadata": {},
     "output_type": "execute_result"
    }
   ],
   "source": [
    "taiga.vectors.shape[1]"
   ]
  },
  {
   "cell_type": "code",
   "execution_count": 50,
   "metadata": {},
   "outputs": [],
   "source": []
  },
  {
   "cell_type": "code",
   "execution_count": 56,
   "metadata": {},
   "outputs": [
    {
     "data": {
      "text/plain": [
       "{'завинчивать_VERB', 'завинчиваться_VERB', 'завинщать_VERB'}"
      ]
     },
     "execution_count": 56,
     "metadata": {},
     "output_type": "execute_result"
    }
   ],
   "source": [
    "prefix2word['завин']"
   ]
  },
  {
   "cell_type": "code",
   "execution_count": 45,
   "metadata": {},
   "outputs": [
    {
     "ename": "KeyError",
     "evalue": "\"word 'завинтить_VERB' not in vocabulary\"",
     "output_type": "error",
     "traceback": [
      "\u001b[1;31m---------------------------------------------------------------------------\u001b[0m",
      "\u001b[1;31mKeyError\u001b[0m                                  Traceback (most recent call last)",
      "\u001b[1;32m<ipython-input-45-5b7fdfbbc4e5>\u001b[0m in \u001b[0;36m<module>\u001b[1;34m\u001b[0m\n\u001b[1;32m----> 1\u001b[1;33m \u001b[0mtaiga\u001b[0m\u001b[1;33m.\u001b[0m\u001b[0mmost_similar_cosmul\u001b[0m\u001b[1;33m(\u001b[0m\u001b[1;34m'завинтить_VERB'\u001b[0m\u001b[1;33m)\u001b[0m\u001b[1;33m\u001b[0m\u001b[1;33m\u001b[0m\u001b[0m\n\u001b[0m",
      "\u001b[1;32mc:\\users\\ddale\\appdata\\local\\programs\\python\\python36\\lib\\site-packages\\gensim\\models\\keyedvectors.py\u001b[0m in \u001b[0;36mmost_similar_cosmul\u001b[1;34m(self, positive, negative, topn)\u001b[0m\n\u001b[0;32m    830\u001b[0m         positive = [\n\u001b[0;32m    831\u001b[0m             \u001b[0mself\u001b[0m\u001b[1;33m.\u001b[0m\u001b[0mword_vec\u001b[0m\u001b[1;33m(\u001b[0m\u001b[0mword\u001b[0m\u001b[1;33m,\u001b[0m \u001b[0muse_norm\u001b[0m\u001b[1;33m=\u001b[0m\u001b[1;32mTrue\u001b[0m\u001b[1;33m)\u001b[0m \u001b[1;32mif\u001b[0m \u001b[0misinstance\u001b[0m\u001b[1;33m(\u001b[0m\u001b[0mword\u001b[0m\u001b[1;33m,\u001b[0m \u001b[0mstring_types\u001b[0m\u001b[1;33m)\u001b[0m \u001b[1;32melse\u001b[0m \u001b[0mword\u001b[0m\u001b[1;33m\u001b[0m\u001b[1;33m\u001b[0m\u001b[0m\n\u001b[1;32m--> 832\u001b[1;33m             \u001b[1;32mfor\u001b[0m \u001b[0mword\u001b[0m \u001b[1;32min\u001b[0m \u001b[0mpositive\u001b[0m\u001b[1;33m\u001b[0m\u001b[1;33m\u001b[0m\u001b[0m\n\u001b[0m\u001b[0;32m    833\u001b[0m         ]\n\u001b[0;32m    834\u001b[0m         negative = [\n",
      "\u001b[1;32mc:\\users\\ddale\\appdata\\local\\programs\\python\\python36\\lib\\site-packages\\gensim\\models\\keyedvectors.py\u001b[0m in \u001b[0;36m<listcomp>\u001b[1;34m(.0)\u001b[0m\n\u001b[0;32m    830\u001b[0m         positive = [\n\u001b[0;32m    831\u001b[0m             \u001b[0mself\u001b[0m\u001b[1;33m.\u001b[0m\u001b[0mword_vec\u001b[0m\u001b[1;33m(\u001b[0m\u001b[0mword\u001b[0m\u001b[1;33m,\u001b[0m \u001b[0muse_norm\u001b[0m\u001b[1;33m=\u001b[0m\u001b[1;32mTrue\u001b[0m\u001b[1;33m)\u001b[0m \u001b[1;32mif\u001b[0m \u001b[0misinstance\u001b[0m\u001b[1;33m(\u001b[0m\u001b[0mword\u001b[0m\u001b[1;33m,\u001b[0m \u001b[0mstring_types\u001b[0m\u001b[1;33m)\u001b[0m \u001b[1;32melse\u001b[0m \u001b[0mword\u001b[0m\u001b[1;33m\u001b[0m\u001b[1;33m\u001b[0m\u001b[0m\n\u001b[1;32m--> 832\u001b[1;33m             \u001b[1;32mfor\u001b[0m \u001b[0mword\u001b[0m \u001b[1;32min\u001b[0m \u001b[0mpositive\u001b[0m\u001b[1;33m\u001b[0m\u001b[1;33m\u001b[0m\u001b[0m\n\u001b[0m\u001b[0;32m    833\u001b[0m         ]\n\u001b[0;32m    834\u001b[0m         negative = [\n",
      "\u001b[1;32mc:\\users\\ddale\\appdata\\local\\programs\\python\\python36\\lib\\site-packages\\gensim\\models\\keyedvectors.py\u001b[0m in \u001b[0;36mword_vec\u001b[1;34m(self, word, use_norm)\u001b[0m\n\u001b[0;32m    466\u001b[0m             \u001b[1;32mreturn\u001b[0m \u001b[0mresult\u001b[0m\u001b[1;33m\u001b[0m\u001b[1;33m\u001b[0m\u001b[0m\n\u001b[0;32m    467\u001b[0m         \u001b[1;32melse\u001b[0m\u001b[1;33m:\u001b[0m\u001b[1;33m\u001b[0m\u001b[1;33m\u001b[0m\u001b[0m\n\u001b[1;32m--> 468\u001b[1;33m             \u001b[1;32mraise\u001b[0m \u001b[0mKeyError\u001b[0m\u001b[1;33m(\u001b[0m\u001b[1;34m\"word '%s' not in vocabulary\"\u001b[0m \u001b[1;33m%\u001b[0m \u001b[0mword\u001b[0m\u001b[1;33m)\u001b[0m\u001b[1;33m\u001b[0m\u001b[1;33m\u001b[0m\u001b[0m\n\u001b[0m\u001b[0;32m    469\u001b[0m \u001b[1;33m\u001b[0m\u001b[0m\n\u001b[0;32m    470\u001b[0m     \u001b[1;32mdef\u001b[0m \u001b[0mget_vector\u001b[0m\u001b[1;33m(\u001b[0m\u001b[0mself\u001b[0m\u001b[1;33m,\u001b[0m \u001b[0mword\u001b[0m\u001b[1;33m)\u001b[0m\u001b[1;33m:\u001b[0m\u001b[1;33m\u001b[0m\u001b[1;33m\u001b[0m\u001b[0m\n",
      "\u001b[1;31mKeyError\u001b[0m: \"word 'завинтить_VERB' not in vocabulary\""
     ]
    }
   ],
   "source": [
    "taiga.most_similar_cosmul('завинтить_VERB')"
   ]
  },
  {
   "cell_type": "code",
   "execution_count": 42,
   "metadata": {},
   "outputs": [
    {
     "ename": "KeyError",
     "evalue": "\"word 'завинить_VERB' not in vocabulary\"",
     "output_type": "error",
     "traceback": [
      "\u001b[1;31m---------------------------------------------------------------------------\u001b[0m",
      "\u001b[1;31mKeyError\u001b[0m                                  Traceback (most recent call last)",
      "\u001b[1;32m<ipython-input-42-5defc961ecd1>\u001b[0m in \u001b[0;36m<module>\u001b[1;34m\u001b[0m\n\u001b[1;32m----> 1\u001b[1;33m \u001b[0mtaiga\u001b[0m\u001b[1;33m[\u001b[0m\u001b[1;34m'завинить_VERB'\u001b[0m\u001b[1;33m]\u001b[0m\u001b[1;33m\u001b[0m\u001b[1;33m\u001b[0m\u001b[0m\n\u001b[0m",
      "\u001b[1;32mc:\\users\\ddale\\appdata\\local\\programs\\python\\python36\\lib\\site-packages\\gensim\\models\\keyedvectors.py\u001b[0m in \u001b[0;36m__getitem__\u001b[1;34m(self, entities)\u001b[0m\n\u001b[0;32m    351\u001b[0m         \u001b[1;32mif\u001b[0m \u001b[0misinstance\u001b[0m\u001b[1;33m(\u001b[0m\u001b[0mentities\u001b[0m\u001b[1;33m,\u001b[0m \u001b[0mstring_types\u001b[0m\u001b[1;33m)\u001b[0m\u001b[1;33m:\u001b[0m\u001b[1;33m\u001b[0m\u001b[1;33m\u001b[0m\u001b[0m\n\u001b[0;32m    352\u001b[0m             \u001b[1;31m# allow calls like trained_model['office'], as a shorthand for trained_model[['office']]\u001b[0m\u001b[1;33m\u001b[0m\u001b[1;33m\u001b[0m\u001b[1;33m\u001b[0m\u001b[0m\n\u001b[1;32m--> 353\u001b[1;33m             \u001b[1;32mreturn\u001b[0m \u001b[0mself\u001b[0m\u001b[1;33m.\u001b[0m\u001b[0mget_vector\u001b[0m\u001b[1;33m(\u001b[0m\u001b[0mentities\u001b[0m\u001b[1;33m)\u001b[0m\u001b[1;33m\u001b[0m\u001b[1;33m\u001b[0m\u001b[0m\n\u001b[0m\u001b[0;32m    354\u001b[0m \u001b[1;33m\u001b[0m\u001b[0m\n\u001b[0;32m    355\u001b[0m         \u001b[1;32mreturn\u001b[0m \u001b[0mvstack\u001b[0m\u001b[1;33m(\u001b[0m\u001b[1;33m[\u001b[0m\u001b[0mself\u001b[0m\u001b[1;33m.\u001b[0m\u001b[0mget_vector\u001b[0m\u001b[1;33m(\u001b[0m\u001b[0mentity\u001b[0m\u001b[1;33m)\u001b[0m \u001b[1;32mfor\u001b[0m \u001b[0mentity\u001b[0m \u001b[1;32min\u001b[0m \u001b[0mentities\u001b[0m\u001b[1;33m]\u001b[0m\u001b[1;33m)\u001b[0m\u001b[1;33m\u001b[0m\u001b[1;33m\u001b[0m\u001b[0m\n",
      "\u001b[1;32mc:\\users\\ddale\\appdata\\local\\programs\\python\\python36\\lib\\site-packages\\gensim\\models\\keyedvectors.py\u001b[0m in \u001b[0;36mget_vector\u001b[1;34m(self, word)\u001b[0m\n\u001b[0;32m    469\u001b[0m \u001b[1;33m\u001b[0m\u001b[0m\n\u001b[0;32m    470\u001b[0m     \u001b[1;32mdef\u001b[0m \u001b[0mget_vector\u001b[0m\u001b[1;33m(\u001b[0m\u001b[0mself\u001b[0m\u001b[1;33m,\u001b[0m \u001b[0mword\u001b[0m\u001b[1;33m)\u001b[0m\u001b[1;33m:\u001b[0m\u001b[1;33m\u001b[0m\u001b[1;33m\u001b[0m\u001b[0m\n\u001b[1;32m--> 471\u001b[1;33m         \u001b[1;32mreturn\u001b[0m \u001b[0mself\u001b[0m\u001b[1;33m.\u001b[0m\u001b[0mword_vec\u001b[0m\u001b[1;33m(\u001b[0m\u001b[0mword\u001b[0m\u001b[1;33m)\u001b[0m\u001b[1;33m\u001b[0m\u001b[1;33m\u001b[0m\u001b[0m\n\u001b[0m\u001b[0;32m    472\u001b[0m \u001b[1;33m\u001b[0m\u001b[0m\n\u001b[0;32m    473\u001b[0m     \u001b[1;32mdef\u001b[0m \u001b[0mwords_closer_than\u001b[0m\u001b[1;33m(\u001b[0m\u001b[0mself\u001b[0m\u001b[1;33m,\u001b[0m \u001b[0mw1\u001b[0m\u001b[1;33m,\u001b[0m \u001b[0mw2\u001b[0m\u001b[1;33m)\u001b[0m\u001b[1;33m:\u001b[0m\u001b[1;33m\u001b[0m\u001b[1;33m\u001b[0m\u001b[0m\n",
      "\u001b[1;32mc:\\users\\ddale\\appdata\\local\\programs\\python\\python36\\lib\\site-packages\\gensim\\models\\keyedvectors.py\u001b[0m in \u001b[0;36mword_vec\u001b[1;34m(self, word, use_norm)\u001b[0m\n\u001b[0;32m    466\u001b[0m             \u001b[1;32mreturn\u001b[0m \u001b[0mresult\u001b[0m\u001b[1;33m\u001b[0m\u001b[1;33m\u001b[0m\u001b[0m\n\u001b[0;32m    467\u001b[0m         \u001b[1;32melse\u001b[0m\u001b[1;33m:\u001b[0m\u001b[1;33m\u001b[0m\u001b[1;33m\u001b[0m\u001b[0m\n\u001b[1;32m--> 468\u001b[1;33m             \u001b[1;32mraise\u001b[0m \u001b[0mKeyError\u001b[0m\u001b[1;33m(\u001b[0m\u001b[1;34m\"word '%s' not in vocabulary\"\u001b[0m \u001b[1;33m%\u001b[0m \u001b[0mword\u001b[0m\u001b[1;33m)\u001b[0m\u001b[1;33m\u001b[0m\u001b[1;33m\u001b[0m\u001b[0m\n\u001b[0m\u001b[0;32m    469\u001b[0m \u001b[1;33m\u001b[0m\u001b[0m\n\u001b[0;32m    470\u001b[0m     \u001b[1;32mdef\u001b[0m \u001b[0mget_vector\u001b[0m\u001b[1;33m(\u001b[0m\u001b[0mself\u001b[0m\u001b[1;33m,\u001b[0m \u001b[0mword\u001b[0m\u001b[1;33m)\u001b[0m\u001b[1;33m:\u001b[0m\u001b[1;33m\u001b[0m\u001b[1;33m\u001b[0m\u001b[0m\n",
      "\u001b[1;31mKeyError\u001b[0m: \"word 'завинить_VERB' not in vocabulary\""
     ]
    }
   ],
   "source": [
    "taiga['завинить_VERB']"
   ]
  },
  {
   "cell_type": "code",
   "execution_count": null,
   "metadata": {},
   "outputs": [],
   "source": [
    "def "
   ]
  },
  {
   "cell_type": "code",
   "execution_count": null,
   "metadata": {},
   "outputs": [],
   "source": [
    "taiga.mo"
   ]
  },
  {
   "cell_type": "code",
   "execution_count": 697,
   "metadata": {},
   "outputs": [
    {
     "name": "stdout",
     "output_type": "stream",
     "text": [
      "0.7517580250040728 1 129220-V СТОЧИТЬ 2\n",
      "0.7564952747742115 1 129342-V УЖЕСТОЧИТЬСЯ 1\n",
      "0.7851116630549265 1 117811-V ОЖЕСТОЧИТЬСЯ 1\n",
      "0.7935909973567986 1 129220-V СТАЧИВАТЬ ; СТОЧИТЬ ; СТОЧИТЬ (СРЕЗАТЬ) 2\n",
      "0.8237797165360515 1 129342-V ЗАВИНТИТЬ ГАЙКА ; ЗАВИНЧИВАТЬ ГАЙКА ; УЖЕСТОЧАТЬ ; УЖЕСТОЧАТЬСЯ ; УЖЕСТОЧИТЬ ; УЖЕСТОЧИТЬ (СДЕЛАТЬ ЖЕСТКИМ, ЖЕСТЧЕ) ; УЖЕСТОЧИТЬСЯ 1\n",
      "0.8440579620242072 1 129220-V СТОЧИТЬ (СРЕЗАТЬ) 2\n",
      "0.8484946725978589 1 129342-V УЖЕСТОЧИТЬ 1\n",
      "0.8516737881101539 1 117811-V ОЖЕСТОЧАТЬСЯ ; ОЖЕСТОЧИТЬСЯ 1\n",
      "0.9125355716624214 1 131003-V КРЮЧИТЬСЯ 1\n",
      "0.922303187490691 1 107104-V РАЗОРАТЬСЯ 1\n",
      "0.9236072398647539 1 116929-V ПРОМУЧИТЬСЯ 1\n",
      "0.9240812043003783 1 117325-V ПРОМАЯТЬСЯ 1\n",
      "0.924514512359255 1 116929-V ЗАМУЧИТЬСЯ 1\n",
      "0.9245191921964133 1 118993-V ОТОЩАТЬ 1\n",
      "0.9249648742502856 1 128589-V РАЗБАЛИВАТЬСЯ ; РАЗБОЛЕТЬСЯ ; РАЗБОЛЕТЬСЯ, РАСХВОРАТЬСЯ ; РАСХВАРЫВАТЬСЯ ; РАСХВОРАТЬСЯ 1\n",
      "0.9258115948383597 1 125830-V ВЫМОЧИТЬСЯ 2\n",
      "0.9276494504329605 1 135453-V ЗАТИХАТЬ ; ЗАТИХНУТЬ ; ПОУТИХНУТЬ ; ПРИУТИХНУТЬ ; УГОМОНИТЬСЯ ; УГОМОНЯТЬСЯ ; УНЯТЬСЯ ; УТИХАТЬ ; УТИХНУТЬ ; УТИХОМИРИВАТЬСЯ ; УТИХОМИРИТЬСЯ ; УТИХОМИРИТЬСЯ (УСПОКОИТЬСЯ) 1\n",
      "0.9282395450904916 1 118335-V НАМУЧИТЬСЯ 2\n",
      "0.9282766200735165 1 119085-V ИСКОРЕЖИТЬСЯ ; КОРЕЖИТЬСЯ ; КОРОБИТЬСЯ ; ПОКОРЕЖИТЬСЯ ; ПОКОРОБИТЬСЯ ; СКОРЕЖИТЬСЯ ; СКОРОБИТЬСЯ ; СКУКОЖИВАТЬСЯ ; СКУКОЖИТЬСЯ 1\n",
      "0.9288132758082358 1 117320-V ВЫБИТЬСЯ ИЗ СИЛА ; ЗАМОРИТЬСЯ ; ИЗМОРИТЬСЯ ; ПЕРЕУТОМИТЬСЯ ; ПЕРЕУТОМЛЯТЬСЯ ; ПОДУСТАТЬ ; ПРИТОМИТЬСЯ ; ПРИУСТАТЬ ; УМОРИТЬСЯ ; УСТАВАТЬ ; УСТАТЬ ; УТОМИТЬСЯ ; УТОМИТЬСЯ, УСТАТЬ ; УТОМЛЯТЬСЯ ; УХОДИТЬСЯ 1\n",
      "0.9290244304056683 1 118428-V ОБЛАМЫВАТЬСЯ ; ОБЛОМИТЬСЯ ; ОБЛОМИТЬСЯ (СЛОМАТЬСЯ, ОБРУШИТЬСЯ) 1\n",
      "0.9291960068722841 1 129342-V УЖЕСТОЧАТЬСЯ 1\n",
      "0.9293079435077696 1 118428-V ОБЛОМИТЬСЯ (СЛОМАТЬСЯ, ОБРУШИТЬСЯ) 1\n",
      "0.9305048427608276 1 116775-V ПРОДЫРЯВИТЬСЯ ; ПРОДЫРЯВИТЬСЯ (СТАТЬ ДЫРЯВЫМ) ; ПРОДЫРЯВЛИВАТЬСЯ ; ПРОХУДИТЬСЯ 1\n",
      "0.9320903987721786 1 118335-V НАТЕРПЕТЬСЯ, НАМУЧИТЬСЯ 2\n",
      "0.9323574814262718 1 143237-V РАСПЫЛИТЬСЯ ; РАСПЫЛИТЬСЯ (РАССРЕДОТОЧИТЬСЯ И ОСЛАБЕТЬ) ; РАСПЫЛЯТЬСЯ 2\n",
      "0.9327312099786444 1 130868-V ЗЛЕТЬ, ОЗЛОБИТЬСЯ 1\n",
      "0.9333330368754362 1 131063-V ЗАБИТЬСЯ (ЗАСОРИТЬСЯ) 2\n",
      "0.9335778933770864 1 143214-V ДРОБИТЬСЯ (РАЗМЕЛЬЧИТЬСЯ) 1\n",
      "0.9349030972050562 1 130868-V ЗЛЕТЬ ; ЗЛЕТЬ, ОЗЛОБИТЬСЯ ; ОЗЛОБИТЬСЯ ; ОЗЛОБЛЯТЬСЯ 1\n",
      "0.9370929292385805 1 117325-V ИЗМАЯТЬСЯ ; ИЗНЫВАТЬ ; ИЗНЫТЬ ; ИСТОМИТЬСЯ ; МАЯТЬСЯ ; ПОМАЯТЬСЯ ; ПРОМАЯТЬСЯ ; ТОМИТЬСЯ 1\n",
      "0.9373829147563397 1 117320-V ИЗМОРИТЬСЯ 1\n",
      "0.9376175276917345 1 117674-V ЗЛИТЬСЯ ; ЗЛОБИТЬСЯ ; ОБОЗЛИТЬСЯ ; ОЗЛИТЬСЯ ; ОКРЫСИТЬСЯ ; РАЗОЗЛИТЬСЯ 2\n",
      "0.937781647893414 1 120756-V КОРЕЖИТЬСЯ ; КОРЧИТЬСЯ ; СКОРЕЖИТЬСЯ 2\n",
      "0.9387733345510261 1 143237-V РАСПЫЛИТЬСЯ (РАССРЕДОТОЧИТЬСЯ И ОСЛАБЕТЬ) 2\n",
      "0.9391430145032614 1 131062-V ЗАСОРИТЬСЯ 1\n",
      "0.9400218633755546 1 118441-V УНИМАТЬСЯ ; УНЯТЬСЯ ; УНЯТЬСЯ (ПРЕКРАТИТЬСЯ) 1\n",
      "0.9412342313346945 1 128380-V ПОДЛАМЫВАТЬСЯ ; ПОДЛОМИТЬСЯ ; ПРОЛАМЛИВАТЬСЯ ; ПРОЛОМИТЬСЯ ; ПРОЛОМИТЬСЯ (ПРОДАВИТЬСЯ, ТРЕСНУТЬ) 3\n",
      "0.9412760577177368 1 131062-V ЗАСОРИТЬСЯ ; ЗАСОРИТЬСЯ (СТАТЬ ЗАСОРЕННЫМ) ; ЗАСОРЯТЬСЯ 1\n",
      "0.9440807503500431 1 121249-V РАЗМЕЛЬЧИТЬСЯ 1\n",
      "0.9455380716823539 1 135695-V НАКАЛИТЬСЯ ; НАКАЛЯТЬСЯ ; ОБОСТРИТЬСЯ ; ОБОСТРИТЬСЯ, НАКАЛИТЬСЯ ; ОБОСТРЯТЬСЯ ; РАСКАЛИТЬСЯ ; РАСКАЛЯТЬСЯ ; УГЛУБИТЬСЯ ; УГЛУБЛЯТЬСЯ 1\n",
      "0.9466735394913645 1 116929-V ЗАМУЧИТЬСЯ ; ИЗВЕСТИСЬ ; ИЗВОДИТЬСЯ ; ИЗМУЧИТЬСЯ ; ИСПЫТЫВАТЬ МУКА ; ИСПЫТЫВАТЬ МУЧЕНИЕ ; ИССТРАДАТЬСЯ ; МУЧИТЬСЯ ; ПОМУЧИТЬСЯ ; ПРОМУЧИТЬСЯ ; СТРАДАТЬ ; СТРАДАТЬ, ИСПЫТЫВАТЬ СТРАДАНИЯ ; ТЕРПЕТЬ МУКА 1\n",
      "0.9468394886266517 1 120756-V СКОРЕЖИТЬСЯ 2\n",
      "0.9468394886266517 1 119085-V СКОРЕЖИТЬСЯ 1\n",
      "0.9468442369504686 1 124534-V ИЗДЕРЖАТЬСЯ ; ИЗДЕРЖИВАТЬСЯ ; ПОИЗДЕРЖАТЬСЯ ; ПОТРАТИТЬ СВОЙ ДЕНЬГИ ; ПОТРАТИТЬСЯ ; РАЗОРИТЬСЯ ; РАСКОШЕЛИВАТЬСЯ ; РАСКОШЕЛИТЬСЯ ; ТРАТИТЬ СВОЙ ДЕНЬГИ ; ТРАТИТЬСЯ ; ТРАТИТЬСЯ, ТРАТИТЬ СВОИ ДЕНЬГИ 1\n",
      "0.9470680995209945 1 116775-V ПРОДЫРЯВЛИВАТЬСЯ 1\n",
      "0.9471201898820828 1 133514-V НАЕДАТЬ БРЮХО ; НАЕСТЬ БРЮХО ; ОТЪЕДАТЬСЯ ; ОТЪЕСТЬСЯ ; ОТЪЕСТЬСЯ, РАЗЪЕСТЬСЯ ; РАЗЪЕДАТЬСЯ ; РАЗЪЕСТЬСЯ ; РАСКАРМЛИВАТЬСЯ ; РАСКОРМИТЬСЯ 1\n",
      "0.9474136709954928 1 121249-V ИЗМЕЛЬЧАТЬСЯ ; ИЗМЕЛЬЧИТЬСЯ ; РАЗМЕЛЬЧИТЬСЯ 1\n",
      "0.9476549724466536 1 124534-V РАЗОРИТЬСЯ 1\n",
      "0.9481954843525568 1 106715-V ЗАТРАТИТЬ ; ЗАТРАЧИВАТЬ ; ИЗРАСХОДОВАТЬ ; ИЗРАСХОДОВАТЬСЯ ; ИСТРАТИТЬ ; ИСТРАТИТЬ, ИЗРАСХОДОВАТЬ ; ИСТРАТИТЬСЯ ; КОНЧАТЬСЯ ; КОНЧИТЬСЯ ; ПОИСТРАТИТЬСЯ ; ПОНЕСТИ ЗАТРАТА ; ПОНЕСТИ РАСХОД ; ПОТРАТИТЬ ; РАСТРАТИТЬ ; РАСТРАТИТЬСЯ ; РАСТРАЧИВАТЬ ; РАСХОДОВАТЬ ; РАСХОДОВАТЬСЯ ; ТРАТИТЬ ; ТРАТИТЬСЯ 1\n",
      "0.9495060050693673 1 118441-V УНЯТЬСЯ (ПРЕКРАТИТЬСЯ) 1\n",
      "0.9505922416769824 1 131140-V ЗАГНАИВАТЬСЯ 1\n",
      "0.9513980278530386 1 128589-V РАЗБОЛЕТЬСЯ, РАСХВОРАТЬСЯ 1\n",
      "0.9515481087189994 1 117811-V ОЖЕСТОЧАТЬСЯ 1\n",
      "0.9517741596849656 1 117320-V ЗАМОРИТЬСЯ 1\n",
      "0.9531000304534378 1 127069-V НАКИПЕТЬ (СКОПИТЬСЯ) 1\n",
      "0.9531849538201069 1 131003-V КРЮЧИТЬСЯ ; КРЮЧИТЬСЯ (СГИБАТЬСЯ КРЮЧКОМ) ; СКРЮЧИТЬСЯ 1\n",
      "0.953715890598773 1 130934-V ДОНИМАТЬ ; ДОНЯТЬ ; ДОНЯТЬ, ДОПЕЧЬ ; ДОПЕКАТЬ ; ДОПЕЧЬ ; ПРЕСЛЕДОВАТЬ 2\n",
      "0.9567043147240484 1 106674-V ЗАТОЧИТЬ ПОД 1\n",
      "0.9568073358896856 1 107281-V ДОМУЧИТЬСЯ 0\n",
      "0.95705584906516 1 114872-V ЗАТОЧИТЬ 1\n",
      "0.95705584906516 1 106674-V ЗАТОЧИТЬ 1\n",
      "0.9601409703259643 1 111114-V НАКАЛИВАТЬСЯ ; НАКАЛИТЬСЯ ; НАКАЛИТЬСЯ, РАСКАЛИТЬСЯ ; НАКАЛЯТЬСЯ ; РАСКАЛИВАТЬСЯ ; РАСКАЛИТЬСЯ ; РАСПАЛИТЬСЯ ; РАСПАЛЯТЬСЯ 0\n",
      "0.9608119624125763 1 132994-V ИЗНЕМОГАТЬ ; ИЗНЕМОЧЬ ; ЛИШАТЬСЯ СИЛ ; ЛИШИТЬСЯ СИЛ ; НИКНУТЬ ; ОБЕСКРОВЕТЬ ; ОБЕССИЛЕВАТЬ ; ОБЕССИЛЕТЬ ; ОБЕССИЛЕТЬ, ИЗНЕМОЧЬ ; ПОМЕРЕТЬ ; ПОМИРАТЬ ; ПОНИКНУТЬ ; ПОТЕРЯТЬ СИЛА ; СНИКНУТЬ 1\n",
      "0.9618427263505828 1 127502-V ПЕРЕБРАНИВАТЬСЯ ; ПЕРЕБРАНКА, ГРОМКАЯ ССОРА ; ПЕРЕГРЫЗАТЬСЯ ; ПЕРЕГРЫЗТЬСЯ ; ПЕРЕРУГИВАТЬСЯ 2\n",
      "0.9631762160967775 1 135081-V СЛЕЗОТОЧИТЬ 1\n",
      "0.9639958413157509 1 115278-V ОБТОЧИТЬ 1\n",
      "0.9656157621012549 1 1061-V ПРОЛЕЧИТЬСЯ 2\n",
      "0.9659174294532431 1 127502-V ПЕРЕГРЫЗАТЬСЯ 2\n",
      "0.9660734446733333 1 135622-V ЗАХИЛЕТЬ ; ЗАХИРЕТЬ ; ХИЛЕТЬ ; ХИЛЕТЬ, ХИРЕТЬ ; ХИРЕТЬ 1\n",
      "0.9662476161337653 1 129342-V УЖЕСТОЧАТЬ 1\n",
      "0.9668308721828686 1 132988-V ОБЕЗВОЖИВАТЬ 1\n",
      "0.9675166902045232 1 135144-V ВЫМЕСТИТЬ ; ВЫМЕСТИТЬ, СОРВАТЬСЯ ; ВЫМЕЩАТЬ ; ОТЫГРАТЬСЯ ; ОТЫГРЫВАТЬСЯ ; СОРВАТЬ ЗЛО ; СОРВАТЬСЯ ; СРЫВАТЬСЯ 3\n",
      "0.9681871125859293 1 118250-V ЗАВАЛИВАТЬСЯ ; ЗАВАЛИТЬСЯ ; ЗАСЫПАТЬСЯ ; СРЕЗАТЬСЯ ; СРЕЗАТЬСЯ НА ЭКЗАМЕН ; СРЕЗАТЬСЯ НА ЭКЗАМЕНЕ ; СРЕЗЫВАТЬСЯ 0\n",
      "0.9684305600967171 1 146822-V РАЗМОРАЖИВАТЬСЯ 0\n",
      "0.9685685100722095 1 117325-V ИЗМАЯТЬСЯ 1\n",
      "0.9688069338061016 1 125191-V БЕДСТВОВАТЬ ; БЕДСТВОВАТЬ, НУЖДАТЬСЯ ; НУЖДАТЬСЯ ; ПРОЗЯБАТЬ В БЕДНОСТЬ ; ПРОЗЯБАТЬ В НИЩЕТА ; СИДЕТЬ БЕЗ ДЕНЬГИ ; СИДЕТЬ БЕЗ КОПЕЙКА ; ТЕРПЕТЬ ЛИШЕНИЕ 1\n",
      "0.9690189790366881 1 132994-V ОБЕССИЛЕТЬ 1\n",
      "0.9695839162351754 1 127049-V НАГЛЕТЬ ; НАГЛЕТЬ, ОБНАГЛЕТЬ ; ОБНАГЛЕТЬ ; ОБОРЗЕТЬ 1\n",
      "0.9697750888125838 1 119481-V ЗАМОРИТЬ ; МОРИТЬ ; МОРИТЬ (МУЧИТЬ, ИЗНУРЯТЬ) ; ПРОМОРИТЬ ; УМОРИТЬ 1\n",
      "0.9701787154727696 1 117065-V ЧИНИТЬ, ТОЧИТЬ КАРАНДАШ 1\n",
      "0.9702566679213157 1 148336-V ЖАЛЕТЬ ДЕНЬГИ ; ЗАТЯГИВАТЬ ПОЯС ; ЗАТЯНУТЬ ПОЯС ; СЭКОНОМИТЬ ; ТРЯСТИСЬ НАД КАЖДЫЙ КОПЕЙКА ; ТРЯСТИСЬ НАД КАЖДЫЙ РУБЛЬ ; ТУГО ЗАТЯНУТЬ ПОЯС ; ЭКОНОМИТЬ ; ЭКОНОМИТЬ ДЕНЬГИ ; ЭКОНОМИЯ СРЕДСТВ 1\n",
      "0.9725929779422972 1 121249-V ИЗМЕЛЬЧИТЬСЯ 1\n",
      "0.9726951325864716 1 135695-V ОБОСТРИТЬСЯ, НАКАЛИТЬСЯ 1\n",
      "0.9731535279187584 1 127069-V НАКИПАТЬ ; НАКИПЕТЬ ; НАКИПЕТЬ (СКОПИТЬСЯ) 1\n",
      "0.9734601662792385 1 118379-V ИЗЛАМЫВАТЬСЯ ; ИЗЛОМАТЬСЯ ; РАЗЛАМЫВАТЬСЯ ; РАЗЛОМАТЬСЯ 1\n",
      "0.9737333642292697 1 128380-V ПРОЛАМЛИВАТЬСЯ 3\n",
      "0.9748834577826582 1 124534-V РАСКОШЕЛИВАТЬСЯ 1\n",
      "0.975337652661479 1 131062-V ЗАСОРИТЬСЯ (СТАТЬ ЗАСОРЕННЫМ) 1\n",
      "0.9759236474705125 1 154747-V ВЗБЕЛЕНИТЬСЯ ; ВЗБЕСИТЬСЯ ; ВЗЪЯРИТЬСЯ ; ВЗЪЯРЯТЬСЯ ; МЕТАТЬ ГРОМ И МОЛНИЯ ; РАЗЪЯРИТЬСЯ ; РАЗЪЯРЯТЬСЯ ; РАССВИРЕПЕТЬ ; РВАТЬ И МЕТАТЬ ; СВИРЕПЕТЬ ; СТЕРВЕНЕТЬ 1\n",
      "0.9760302716624959 1 146822-V ОТТАИВАТЬ ; ОТТАЯТЬ ; РАЗМОРАЖИВАТЬСЯ ; РАЗМОРОЗИТЬСЯ 0\n",
      "0.9760671800645266 1 135622-V ЗАХИЛЕТЬ 1\n",
      "0.9765428340195499 1 135453-V УГОМОНИТЬСЯ 1\n",
      "0.976580825603315 1 119451-V ОТМАЧИВАТЬ ; ОТМОЧИТЬ ; РАЗМАЧИВАТЬ ; РАЗМОЧИТЬ ; РАЗМОЧИТЬ (РАЗМЯГЧИТЬ) 1\n",
      "0.9768580539808943 1 147203-V ПЕРЕКРЕДИТОВАТЬСЯ 1\n",
      "0.9768846786693228 1 118441-V УНЯТЬСЯ 1\n",
      "0.9768846786693228 1 135453-V УНЯТЬСЯ 1\n",
      "0.9770073619630544 1 132994-V ОБЕССИЛЕТЬ, ИЗНЕМОЧЬ 1\n",
      "0.9770152095101273 1 137959-V БРОСАТЬСЯ ; КИДАТЬСЯ ; НАБРАСЫВАТЬСЯ ; НАБРОСИТЬСЯ ; НАКИДЫВАТЬСЯ ; НАКИНУТЬСЯ ; ОБРУШИВАТЬСЯ ; ОБРУШИТЬСЯ ; ОБРУШИТЬСЯ (НАПАСТЬ) 1\n",
      "0.9776591961941405 1 133514-V ОТЪЕДАТЬСЯ 1\n",
      "100\n",
      "4.601849743243303 116921-V ПЕРЕЖИТЬ, ИСПЫТАТЬ\n",
      "3.9411120879181727 120955-V ИЗМЕНЕНИЕ СОСТОЯНИЯ\n",
      "3.630586882263649 106629-V ИЗМЕНИТЬСЯ, ИЗМЕНЕНИЕ\n",
      "2.890338304927975 119625-V СЛАБЕТЬ, ТЕРЯТЬ СИЛУ\n",
      "2.6380378765097934 116929-V СТРАДАТЬ, ИСПЫТЫВАТЬ СТРАДАНИЯ\n",
      "2.6172662194102614 111944-V НАЗНАЧИТЬ, УСТАНОВИТЬ, ОПРЕДЕЛИТЬ\n",
      "2.1932478878599637 111086-V ГНУТЬСЯ, СОГНУТЬСЯ\n",
      "1.8086041713362548 144428-V ТОКАРНЫЕ РАБОТЫ\n",
      "1.8086041713362548 112080-V СРЕЗАТЬ С КРАЕВ\n",
      "1.5779958483939542 130868-V ЗЛЕТЬ, ОЗЛОБИТЬСЯ\n",
      "116921-V ПЕРЕЖИТЬ, ИСПЫТАТЬ\n",
      "120955-V ИЗМЕНЕНИЕ СОСТОЯНИЯ\n",
      "106629-V ИЗМЕНИТЬСЯ, ИЗМЕНЕНИЕ\n",
      "119625-V СЛАБЕТЬ, ТЕРЯТЬ СИЛУ\n",
      "116929-V СТРАДАТЬ, ИСПЫТЫВАТЬ СТРАДАНИЯ\n",
      "111944-V НАЗНАЧИТЬ, УСТАНОВИТЬ, ОПРЕДЕЛИТЬ\n",
      "111086-V ГНУТЬСЯ, СОГНУТЬСЯ\n",
      "144428-V ТОКАРНЫЕ РАБОТЫ\n",
      "112080-V СРЕЗАТЬ С КРАЕВ\n",
      "130868-V ЗЛЕТЬ, ОЗЛОБИТЬСЯ\n"
     ]
    }
   ],
   "source": [
    "for h in my_knn.hypotheses_knn(\n",
    "        word, \n",
    "        index=tree, text2vec=embedder, synset_storage=verbs_storage, rel_storage=verb_rel_storage,\n",
    "        decay=3,  k=100, grand_mult=0.5,\n",
    "        verbose=1,\n",
    "    ) :\n",
    "    print(h, verbs_storage.id2synset[h]['@ruthes_name'])"
   ]
  },
  {
   "cell_type": "markdown",
   "metadata": {},
   "source": [
    "Заметные проблемы:\n",
    "* композиционность (\"вывести из эксплуатации\", \"пробиться через препятствие\", \"давать на лапу\") - ???\n",
    "* не основной смысл (\"блестеть\") - нужна диверсификация ответа по смыслам?\n",
    "* редкий вид слова (\"обмолачивать - обмолотить\") - добавлять в кандидатов разные формы\n",
    "* неверно определены валентности, в частности, переходность (\"морить голодом\" - \"страдать\")\n",
    "* слишком далёкие синонимы (\"мародерствовать\" - \"изуверствовать\", \"паникерствовать\", \"зверствовать\")"
   ]
  },
  {
   "cell_type": "code",
   "execution_count": 448,
   "metadata": {},
   "outputs": [
    {
     "name": "stdout",
     "output_type": "stream",
     "text": [
      "114124-V ОБМОЛОТ ЗЕРНА\n"
     ]
    }
   ],
   "source": [
    "for sense in verbs_storage.word2sense[word]:\n",
    "    print(sense, verbs_storage.id2synset[sense]['@ruthes_name'])"
   ]
  },
  {
   "cell_type": "markdown",
   "metadata": {},
   "source": [
    "# Оценка применения"
   ]
  },
  {
   "cell_type": "code",
   "execution_count": 241,
   "metadata": {},
   "outputs": [
    {
     "name": "stdout",
     "output_type": "stream",
     "text": [
      "number of texts: 32822\n",
      "forbidden senses are 0\n",
      "numer of ids 7521 long list is 49002\n"
     ]
    },
    {
     "data": {
      "application/vnd.jupyter.widget-view+json": {
       "model_id": "0ff386e67b714a5dbfe368e92fa19c76",
       "version_major": 2,
       "version_minor": 0
      },
      "text/plain": [
       "HBox(children=(FloatProgress(value=1.0, bar_style='info', max=1.0), HTML(value='')))"
      ]
     },
     "metadata": {},
     "output_type": "display_data"
    },
    {
     "name": "stdout",
     "output_type": "stream",
     "text": [
      "\n",
      "7408\n",
      "218\n",
      "5\n",
      "10317\n"
     ]
    }
   ],
   "source": [
    "full_syn_storage, full_rel_storage, full_rel_df = my_knn.prepare_storages(\n",
    "    synsets_filename='../data/ruwordnet/synsets.V.xml',\n",
    "    relations_filename='../data/ruwordnet/synset_relations.V.xml',\n",
    "    forbidden_words=set()\n",
    ")"
   ]
  },
  {
   "cell_type": "code",
   "execution_count": 243,
   "metadata": {},
   "outputs": [],
   "source": [
    "embedder = my_knn.SentenceEmbedder(\n",
    "    ft=ft, n=300, normalize_word=True, pos_weights={'INFN': 1.0, 'PREP': 0.1}, default_weight=0.5\n",
    ")"
   ]
  },
  {
   "cell_type": "code",
   "execution_count": 244,
   "metadata": {},
   "outputs": [
    {
     "data": {
      "application/vnd.jupyter.widget-view+json": {
       "model_id": "aa4a0360ddeb4ebd837cbfe09997e964",
       "version_major": 2,
       "version_minor": 0
      },
      "text/plain": [
       "HBox(children=(FloatProgress(value=0.0, max=49002.0), HTML(value='')))"
      ]
     },
     "metadata": {},
     "output_type": "display_data"
    },
    {
     "name": "stdout",
     "output_type": "stream",
     "text": [
      "\n"
     ]
    }
   ],
   "source": [
    "full_vecs = np.stack([embedder(t) for t in tqdm(full_syn_storage.texts_long) ])\n",
    "full_tree = KDTree(full_vecs)"
   ]
  },
  {
   "cell_type": "code",
   "execution_count": 279,
   "metadata": {},
   "outputs": [
    {
     "data": {
      "application/vnd.jupyter.widget-view+json": {
       "model_id": "061966122f46430cb7f531f38d40a219",
       "version_major": 2,
       "version_minor": 0
      },
      "text/plain": [
       "HBox(children=(FloatProgress(value=0.0, max=49002.0), HTML(value='')))"
      ]
     },
     "metadata": {},
     "output_type": "display_data"
    },
    {
     "name": "stdout",
     "output_type": "stream",
     "text": [
      "\n"
     ]
    }
   ],
   "source": [
    "w2v_wrapper = my_knn.W2VWrapper(taiga, pos_weights={'INFN': 1.0, 'PREP': 0.1}, default_weight=0.5, n=300)\n",
    "full_w2v_vecs = np.stack([w2v_wrapper(t) for t in tqdm(full_syn_storage.texts_long) ])\n",
    "full_w2v_tree = KDTree(full_w2v_vecs)"
   ]
  },
  {
   "cell_type": "code",
   "execution_count": 280,
   "metadata": {},
   "outputs": [],
   "source": [
    "public_test_verbs = pd.read_csv('../data/public_test/verbs_public.tsv', header=None)\n",
    "public_test_verbs.columns = ['text']"
   ]
  },
  {
   "cell_type": "code",
   "execution_count": 281,
   "metadata": {},
   "outputs": [],
   "source": [
    "def w2v_scorer(text1, text2):\n",
    "    return np.dot(wrapper.get_text_vec(text1), wrapper.get_text_vec(text2)) ** 3"
   ]
  },
  {
   "cell_type": "code",
   "execution_count": 282,
   "metadata": {},
   "outputs": [
    {
     "data": {
      "application/vnd.jupyter.widget-view+json": {
       "model_id": "66caf885f5454e09abbbaae3d1fd5b3b",
       "version_major": 2,
       "version_minor": 0
      },
      "text/plain": [
       "HBox(children=(FloatProgress(value=0.0, max=175.0), HTML(value='')))"
      ]
     },
     "metadata": {},
     "output_type": "display_data"
    },
    {
     "name": "stdout",
     "output_type": "stream",
     "text": [
      "\n"
     ]
    }
   ],
   "source": [
    "public_test_hypos = {\n",
    "    txt: \n",
    "    my_knn.hypotheses_knn(\n",
    "        txt, \n",
    "        #index=full_tree, text2vec=embedder, \n",
    "        index=full_w2v_tree, text2vec=w2v_wrapper,\n",
    "        synset_storage=full_syn_storage, rel_storage=full_rel_storage,\n",
    "        decay=3, \n",
    "        k=100, \n",
    "        grand_mult=0.5,\n",
    "        neighbor_scorer=w2v_scorer,\n",
    "    )  \n",
    "    for txt in tqdm(public_test_verbs.text)\n",
    "}"
   ]
  },
  {
   "cell_type": "code",
   "execution_count": 283,
   "metadata": {},
   "outputs": [
    {
     "data": {
      "text/html": [
       "<div>\n",
       "<style scoped>\n",
       "    .dataframe tbody tr th:only-of-type {\n",
       "        vertical-align: middle;\n",
       "    }\n",
       "\n",
       "    .dataframe tbody tr th {\n",
       "        vertical-align: top;\n",
       "    }\n",
       "\n",
       "    .dataframe thead th {\n",
       "        text-align: right;\n",
       "    }\n",
       "</style>\n",
       "<table border=\"1\" class=\"dataframe\">\n",
       "  <thead>\n",
       "    <tr style=\"text-align: right;\">\n",
       "      <th></th>\n",
       "      <th>noun</th>\n",
       "      <th>result</th>\n",
       "      <th>result_text</th>\n",
       "    </tr>\n",
       "  </thead>\n",
       "  <tbody>\n",
       "    <tr>\n",
       "      <th>0</th>\n",
       "      <td>АБСОЛЮТИЗИРОВАТЬ</td>\n",
       "      <td>116390-V</td>\n",
       "      <td>ИСКАЗИТЬ, ПРЕДСТАВИТЬ В ЛОЖНОМ СВЕТЕ</td>\n",
       "    </tr>\n",
       "    <tr>\n",
       "      <th>1</th>\n",
       "      <td>АБСОЛЮТИЗИРОВАТЬ</td>\n",
       "      <td>141697-V</td>\n",
       "      <td>ПРЕДСТАВИТЬ В ВИДЕ</td>\n",
       "    </tr>\n",
       "    <tr>\n",
       "      <th>2</th>\n",
       "      <td>АБСОЛЮТИЗИРОВАТЬ</td>\n",
       "      <td>149806-V</td>\n",
       "      <td>УТВЕРЖДАТЬ, ДЕЛАТЬ УТВЕРЖДЕНИЕ</td>\n",
       "    </tr>\n",
       "    <tr>\n",
       "      <th>3</th>\n",
       "      <td>АБСОЛЮТИЗИРОВАТЬ</td>\n",
       "      <td>106877-V</td>\n",
       "      <td>ВЫСКАЗАТЬ МНЕНИЕ</td>\n",
       "    </tr>\n",
       "    <tr>\n",
       "      <th>4</th>\n",
       "      <td>АБСОЛЮТИЗИРОВАТЬ</td>\n",
       "      <td>119125-V</td>\n",
       "      <td>РАСПРОСТРАНИТЬСЯ, ПОЛУЧИТЬ РАСПРОСТРАНЕНИЕ</td>\n",
       "    </tr>\n",
       "    <tr>\n",
       "      <th>5</th>\n",
       "      <td>АБСОЛЮТИЗИРОВАТЬ</td>\n",
       "      <td>106456-V</td>\n",
       "      <td>ВЫРАЗИТЬ (ПОКАЗАТЬ)</td>\n",
       "    </tr>\n",
       "    <tr>\n",
       "      <th>6</th>\n",
       "      <td>АБСОЛЮТИЗИРОВАТЬ</td>\n",
       "      <td>118698-V</td>\n",
       "      <td>ДЕЙСТВИЕ, ЦЕЛЕНАПРАВЛЕННОЕ ДЕЙСТВИЕ</td>\n",
       "    </tr>\n",
       "    <tr>\n",
       "      <th>7</th>\n",
       "      <td>АБСОЛЮТИЗИРОВАТЬ</td>\n",
       "      <td>106710-V</td>\n",
       "      <td>ОПРЕДЕЛИТЬ, ВЫЯСНИТЬ</td>\n",
       "    </tr>\n",
       "    <tr>\n",
       "      <th>8</th>\n",
       "      <td>АБСОЛЮТИЗИРОВАТЬ</td>\n",
       "      <td>117532-V</td>\n",
       "      <td>НАСТОЯТЬ НА СВОЕМ МНЕНИИ</td>\n",
       "    </tr>\n",
       "    <tr>\n",
       "      <th>9</th>\n",
       "      <td>АБСОЛЮТИЗИРОВАТЬ</td>\n",
       "      <td>106517-V</td>\n",
       "      <td>СРАВНИТЬ, СОПОСТАВИТЬ</td>\n",
       "    </tr>\n",
       "    <tr>\n",
       "      <th>10</th>\n",
       "      <td>АКТИВИРОВАТЬ</td>\n",
       "      <td>107417-V</td>\n",
       "      <td>ОТДЕЛИТЬ ЧАСТЬ ОТ ЦЕЛОГО</td>\n",
       "    </tr>\n",
       "    <tr>\n",
       "      <th>11</th>\n",
       "      <td>АКТИВИРОВАТЬ</td>\n",
       "      <td>106473-V</td>\n",
       "      <td>ОБУСЛАВЛИВАТЬ, СПОСОБСТВОВАТЬ</td>\n",
       "    </tr>\n",
       "    <tr>\n",
       "      <th>12</th>\n",
       "      <td>АКТИВИРОВАТЬ</td>\n",
       "      <td>121460-V</td>\n",
       "      <td>ОТКРЫТЬ ДОСТУП</td>\n",
       "    </tr>\n",
       "    <tr>\n",
       "      <th>13</th>\n",
       "      <td>АКТИВИРОВАТЬ</td>\n",
       "      <td>111842-V</td>\n",
       "      <td>ВЫКЛЮЧИТЬ (ПРЕКРАТИТЬ)</td>\n",
       "    </tr>\n",
       "    <tr>\n",
       "      <th>14</th>\n",
       "      <td>АКТИВИРОВАТЬ</td>\n",
       "      <td>106704-V</td>\n",
       "      <td>МЕШАТЬ, СОЗДАВАТЬ ПРЕПЯТСТВИЕ</td>\n",
       "    </tr>\n",
       "  </tbody>\n",
       "</table>\n",
       "</div>"
      ],
      "text/plain": [
       "                noun    result                                 result_text\n",
       "0   АБСОЛЮТИЗИРОВАТЬ  116390-V        ИСКАЗИТЬ, ПРЕДСТАВИТЬ В ЛОЖНОМ СВЕТЕ\n",
       "1   АБСОЛЮТИЗИРОВАТЬ  141697-V                          ПРЕДСТАВИТЬ В ВИДЕ\n",
       "2   АБСОЛЮТИЗИРОВАТЬ  149806-V              УТВЕРЖДАТЬ, ДЕЛАТЬ УТВЕРЖДЕНИЕ\n",
       "3   АБСОЛЮТИЗИРОВАТЬ  106877-V                            ВЫСКАЗАТЬ МНЕНИЕ\n",
       "4   АБСОЛЮТИЗИРОВАТЬ  119125-V  РАСПРОСТРАНИТЬСЯ, ПОЛУЧИТЬ РАСПРОСТРАНЕНИЕ\n",
       "5   АБСОЛЮТИЗИРОВАТЬ  106456-V                         ВЫРАЗИТЬ (ПОКАЗАТЬ)\n",
       "6   АБСОЛЮТИЗИРОВАТЬ  118698-V         ДЕЙСТВИЕ, ЦЕЛЕНАПРАВЛЕННОЕ ДЕЙСТВИЕ\n",
       "7   АБСОЛЮТИЗИРОВАТЬ  106710-V                        ОПРЕДЕЛИТЬ, ВЫЯСНИТЬ\n",
       "8   АБСОЛЮТИЗИРОВАТЬ  117532-V                    НАСТОЯТЬ НА СВОЕМ МНЕНИИ\n",
       "9   АБСОЛЮТИЗИРОВАТЬ  106517-V                       СРАВНИТЬ, СОПОСТАВИТЬ\n",
       "10      АКТИВИРОВАТЬ  107417-V                    ОТДЕЛИТЬ ЧАСТЬ ОТ ЦЕЛОГО\n",
       "11      АКТИВИРОВАТЬ  106473-V               ОБУСЛАВЛИВАТЬ, СПОСОБСТВОВАТЬ\n",
       "12      АКТИВИРОВАТЬ  121460-V                              ОТКРЫТЬ ДОСТУП\n",
       "13      АКТИВИРОВАТЬ  111842-V                      ВЫКЛЮЧИТЬ (ПРЕКРАТИТЬ)\n",
       "14      АКТИВИРОВАТЬ  106704-V               МЕШАТЬ, СОЗДАВАТЬ ПРЕПЯТСТВИЕ"
      ]
     },
     "execution_count": 283,
     "metadata": {},
     "output_type": "execute_result"
    }
   ],
   "source": [
    "sub = my_knn.dict2submission(public_test_hypos, full_syn_storage.id2synset)\n",
    "sub.head(15)"
   ]
  },
  {
   "cell_type": "code",
   "execution_count": 284,
   "metadata": {},
   "outputs": [],
   "source": [
    "sub.to_csv('results/verbs_v5_w2v_only.tsv', sep='\\t', encoding='utf-8', header=None, index=None)"
   ]
  },
  {
   "cell_type": "markdown",
   "metadata": {},
   "source": [
    "Проверка на идентичность с предыдущей заливкой"
   ]
  },
  {
   "cell_type": "code",
   "execution_count": 183,
   "metadata": {},
   "outputs": [],
   "source": [
    "prev = pd.read_csv('results/verbs_v0_strange.tsv', sep='\\t', encoding='utf-8', header=None)\n",
    "prev.columns = sub.columns"
   ]
  },
  {
   "cell_type": "code",
   "execution_count": 191,
   "metadata": {},
   "outputs": [],
   "source": [
    "assert prev.shape == sub.shape\n",
    "assert (prev.noun == sub.noun).all()\n",
    "assert (prev.result == sub.result).all()"
   ]
  },
  {
   "cell_type": "markdown",
   "metadata": {},
   "source": [
    "# Финальная заливка"
   ]
  },
  {
   "cell_type": "code",
   "execution_count": 286,
   "metadata": {},
   "outputs": [],
   "source": [
    "private_test_verbs = pd.read_csv('../data/private_test/verbs_private.tsv', header=None)\n",
    "private_test_verbs.columns = ['text']"
   ]
  },
  {
   "cell_type": "code",
   "execution_count": 287,
   "metadata": {},
   "outputs": [
    {
     "data": {
      "application/vnd.jupyter.widget-view+json": {
       "model_id": "ad004bfea51d41038f08fce289e7fa7c",
       "version_major": 2,
       "version_minor": 0
      },
      "text/plain": [
       "HBox(children=(FloatProgress(value=0.0, max=350.0), HTML(value='')))"
      ]
     },
     "metadata": {},
     "output_type": "display_data"
    },
    {
     "name": "stdout",
     "output_type": "stream",
     "text": [
      "\n"
     ]
    }
   ],
   "source": [
    "private_test_hypos = {\n",
    "    txt: \n",
    "    my_knn.hypotheses_knn(\n",
    "        txt, \n",
    "        #index=full_tree, text2vec=embedder, \n",
    "        index=full_w2v_tree, text2vec=w2v_wrapper,\n",
    "        synset_storage=full_syn_storage, rel_storage=full_rel_storage,\n",
    "        decay=3, \n",
    "        k=100, \n",
    "        grand_mult=0.5,\n",
    "        neighbor_scorer=w2v_scorer,\n",
    "    )  \n",
    "    for txt in tqdm(private_test_verbs.text)\n",
    "}"
   ]
  },
  {
   "cell_type": "code",
   "execution_count": 288,
   "metadata": {},
   "outputs": [],
   "source": [
    "sub = my_knn.dict2submission(private_test_hypos, verbs_storage.id2synset)"
   ]
  },
  {
   "cell_type": "code",
   "execution_count": 289,
   "metadata": {},
   "outputs": [
    {
     "data": {
      "text/html": [
       "<div>\n",
       "<style scoped>\n",
       "    .dataframe tbody tr th:only-of-type {\n",
       "        vertical-align: middle;\n",
       "    }\n",
       "\n",
       "    .dataframe tbody tr th {\n",
       "        vertical-align: top;\n",
       "    }\n",
       "\n",
       "    .dataframe thead th {\n",
       "        text-align: right;\n",
       "    }\n",
       "</style>\n",
       "<table border=\"1\" class=\"dataframe\">\n",
       "  <thead>\n",
       "    <tr style=\"text-align: right;\">\n",
       "      <th></th>\n",
       "      <th>noun</th>\n",
       "      <th>result</th>\n",
       "      <th>result_text</th>\n",
       "    </tr>\n",
       "  </thead>\n",
       "  <tbody>\n",
       "    <tr>\n",
       "      <th>0</th>\n",
       "      <td>АДСОРБИРОВАТЬ</td>\n",
       "      <td>106950-V</td>\n",
       "      <td>ПРЕВРАТИТЬ (ПРИДАТЬ ИНОЙ ВИД, КАЧЕСТВО)</td>\n",
       "    </tr>\n",
       "    <tr>\n",
       "      <th>1</th>\n",
       "      <td>АДСОРБИРОВАТЬ</td>\n",
       "      <td>114441-V</td>\n",
       "      <td>ОЧИСТИТЬ ОТ ПРИСУТСТВИЯ</td>\n",
       "    </tr>\n",
       "    <tr>\n",
       "      <th>2</th>\n",
       "      <td>АДСОРБИРОВАТЬ</td>\n",
       "      <td>111097-V</td>\n",
       "      <td>ИЗМЕНЕНИЕ АГРЕГАТНОГО СОСТОЯНИЯ</td>\n",
       "    </tr>\n",
       "    <tr>\n",
       "      <th>3</th>\n",
       "      <td>АДСОРБИРОВАТЬ</td>\n",
       "      <td>106629-V</td>\n",
       "      <td>ИЗМЕНИТЬСЯ, ИЗМЕНЕНИЕ</td>\n",
       "    </tr>\n",
       "    <tr>\n",
       "      <th>4</th>\n",
       "      <td>АДСОРБИРОВАТЬ</td>\n",
       "      <td>106483-V</td>\n",
       "      <td>УНИЧТОЖИТЬ, ПРЕКРАТИТЬ СУЩЕСТВОВАНИЕ</td>\n",
       "    </tr>\n",
       "    <tr>\n",
       "      <th>...</th>\n",
       "      <td>...</td>\n",
       "      <td>...</td>\n",
       "      <td>...</td>\n",
       "    </tr>\n",
       "    <tr>\n",
       "      <th>3495</th>\n",
       "      <td>ЮМОРИТЬ</td>\n",
       "      <td>116284-V</td>\n",
       "      <td>ВЫСМЕЯТЬ, ОСМЕЯТЬ</td>\n",
       "    </tr>\n",
       "    <tr>\n",
       "      <th>3496</th>\n",
       "      <td>ЮМОРИТЬ</td>\n",
       "      <td>118698-V</td>\n",
       "      <td>ДЕЙСТВИЕ, ЦЕЛЕНАПРАВЛЕННОЕ ДЕЙСТВИЕ</td>\n",
       "    </tr>\n",
       "    <tr>\n",
       "      <th>3497</th>\n",
       "      <td>ЮМОРИТЬ</td>\n",
       "      <td>106504-V</td>\n",
       "      <td>ПОСТУПОК ЧЕЛОВЕКА</td>\n",
       "    </tr>\n",
       "    <tr>\n",
       "      <th>3498</th>\n",
       "      <td>ЮМОРИТЬ</td>\n",
       "      <td>117970-V</td>\n",
       "      <td>ВАЖНИЧАТЬ</td>\n",
       "    </tr>\n",
       "    <tr>\n",
       "      <th>3499</th>\n",
       "      <td>ЮМОРИТЬ</td>\n",
       "      <td>115208-V</td>\n",
       "      <td>ОСКОРБИТЬ</td>\n",
       "    </tr>\n",
       "  </tbody>\n",
       "</table>\n",
       "<p>3500 rows × 3 columns</p>\n",
       "</div>"
      ],
      "text/plain": [
       "               noun    result                              result_text\n",
       "0     АДСОРБИРОВАТЬ  106950-V  ПРЕВРАТИТЬ (ПРИДАТЬ ИНОЙ ВИД, КАЧЕСТВО)\n",
       "1     АДСОРБИРОВАТЬ  114441-V                  ОЧИСТИТЬ ОТ ПРИСУТСТВИЯ\n",
       "2     АДСОРБИРОВАТЬ  111097-V          ИЗМЕНЕНИЕ АГРЕГАТНОГО СОСТОЯНИЯ\n",
       "3     АДСОРБИРОВАТЬ  106629-V                    ИЗМЕНИТЬСЯ, ИЗМЕНЕНИЕ\n",
       "4     АДСОРБИРОВАТЬ  106483-V     УНИЧТОЖИТЬ, ПРЕКРАТИТЬ СУЩЕСТВОВАНИЕ\n",
       "...             ...       ...                                      ...\n",
       "3495        ЮМОРИТЬ  116284-V                        ВЫСМЕЯТЬ, ОСМЕЯТЬ\n",
       "3496        ЮМОРИТЬ  118698-V      ДЕЙСТВИЕ, ЦЕЛЕНАПРАВЛЕННОЕ ДЕЙСТВИЕ\n",
       "3497        ЮМОРИТЬ  106504-V                        ПОСТУПОК ЧЕЛОВЕКА\n",
       "3498        ЮМОРИТЬ  117970-V                                ВАЖНИЧАТЬ\n",
       "3499        ЮМОРИТЬ  115208-V                                ОСКОРБИТЬ\n",
       "\n",
       "[3500 rows x 3 columns]"
      ]
     },
     "execution_count": 289,
     "metadata": {},
     "output_type": "execute_result"
    }
   ],
   "source": [
    "sub"
   ]
  },
  {
   "cell_type": "code",
   "execution_count": 290,
   "metadata": {},
   "outputs": [],
   "source": [
    "sub.to_csv('results/private_verbs_v5_w2v_only.tsv', sep='\\t', encoding='utf-8', header=None, index=None)"
   ]
  },
  {
   "cell_type": "markdown",
   "metadata": {},
   "source": [
    "# Гипотеза с n-граммами"
   ]
  },
  {
   "cell_type": "markdown",
   "metadata": {},
   "source": [
    "http://www.ruscorpora.ru/new/corpora-freq.html"
   ]
  },
  {
   "cell_type": "code",
   "execution_count": 465,
   "metadata": {},
   "outputs": [],
   "source": [
    "ngrams_path = 'C:/Users/ddale/Downloads/NLP/ruscorpora_ngrams'"
   ]
  },
  {
   "cell_type": "code",
   "execution_count": 470,
   "metadata": {},
   "outputs": [],
   "source": [
    "import os\n",
    "import pandas as pd"
   ]
  },
  {
   "cell_type": "code",
   "execution_count": 473,
   "metadata": {},
   "outputs": [
    {
     "name": "stdout",
     "output_type": "stream",
     "text": [
      "1grams-3.txt\n",
      "2grams-3.txt\n",
      "3grams-3.txt\n",
      "4grams-2.txt\n",
      "5grams-2.txt\n"
     ]
    }
   ],
   "source": [
    "p = ngrams_path\n",
    "\n",
    "grams_lines = {}\n",
    "for fn in os.listdir(p):\n",
    "    if not fn.endswith('txt'):\n",
    "        continue\n",
    "    print(fn)\n",
    "    f0 = int(fn[0])\n",
    "    with open(os.path.join(p, fn), encoding='utf-8') as f:\n",
    "        grams_lines[f0] = [l.split('\\t') for l in f.readlines()]"
   ]
  },
  {
   "cell_type": "code",
   "execution_count": 474,
   "metadata": {},
   "outputs": [],
   "source": [
    "def get_ngram(l):\n",
    "    l = [w.strip() for w in l[1:]]\n",
    "    return '_'.join([w for w in l if w])"
   ]
  },
  {
   "cell_type": "code",
   "execution_count": 475,
   "metadata": {},
   "outputs": [],
   "source": [
    "grams_freq = {\n",
    "    n: {\n",
    "        get_ngram(l): int(l[0])\n",
    "        for l in d\n",
    "    }\n",
    "    for n, d in grams_lines.items()\n",
    "}"
   ]
  },
  {
   "cell_type": "markdown",
   "metadata": {},
   "source": [
    "Из биграм мы узнаём, что \"захламленной\" может быть комната или квартира. БОльшие n не сообщают ничего"
   ]
  },
  {
   "cell_type": "code",
   "execution_count": 484,
   "metadata": {},
   "outputs": [
    {
     "name": "stdout",
     "output_type": "stream",
     "text": [
      "был_захламлен 5\n",
      "захламленной_комнате 5\n",
      "в_захламленной 4\n",
      "в_захламленном 4\n",
      "в_захламленный 4\n",
      "захламленную_комнату 4\n",
      "по_захламленному 4\n",
      "была_захламлена 3\n",
      "захламленной_квартире 3\n",
      "захламленности_и 3\n"
     ]
    }
   ],
   "source": [
    "for k, v in grams_freq[2].items():\n",
    "    if 'захламл' in k:\n",
    "        print(k, v)"
   ]
  },
  {
   "cell_type": "markdown",
   "metadata": {},
   "source": [
    "Фасттекст умнее - он знает, что это слово похоже на замусорять, загромождивать и загаживать, что бы это ни значило :)"
   ]
  },
  {
   "cell_type": "code",
   "execution_count": 485,
   "metadata": {},
   "outputs": [
    {
     "data": {
      "text/plain": [
       "[('захламлать', 0.9291685819625854),\n",
       " ('захламливать', 0.9029788970947266),\n",
       " ('захламленный', 0.8950067758560181),\n",
       " ('захламленность', 0.7632160186767578),\n",
       " ('замусорять', 0.6844406127929688),\n",
       " ('загромождивать', 0.6693085432052612),\n",
       " ('загаживать', 0.6531472206115723),\n",
       " ('загромождать', 0.6455291509628296),\n",
       " ('замусорить', 0.6451689600944519),\n",
       " ('задымлять', 0.642647385597229)]"
      ]
     },
     "execution_count": 485,
     "metadata": {},
     "output_type": "execute_result"
    }
   ],
   "source": [
    "ft.most_similar('захламлять')"
   ]
  },
  {
   "cell_type": "code",
   "execution_count": null,
   "metadata": {},
   "outputs": [],
   "source": []
  }
 ],
 "metadata": {
  "kernelspec": {
   "display_name": "Python 3",
   "language": "python",
   "name": "python3"
  },
  "language_info": {
   "codemirror_mode": {
    "name": "ipython",
    "version": 3
   },
   "file_extension": ".py",
   "mimetype": "text/x-python",
   "name": "python",
   "nbconvert_exporter": "python",
   "pygments_lexer": "ipython3",
   "version": "3.6.8"
  }
 },
 "nbformat": 4,
 "nbformat_minor": 2
}
