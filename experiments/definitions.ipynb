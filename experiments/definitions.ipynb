{
 "cells": [
  {
   "cell_type": "code",
   "execution_count": 156,
   "metadata": {},
   "outputs": [],
   "source": [
    "import pandas as pd\n",
    "import numpy as np\n",
    "import pickle\n",
    "from collections import Counter, defaultdict"
   ]
  },
  {
   "cell_type": "code",
   "execution_count": 157,
   "metadata": {},
   "outputs": [],
   "source": [
    "import sys\n",
    "import os\n",
    "def add_sys_path(p):\n",
    "    p = os.path.abspath(p)\n",
    "    if p not in sys.path:\n",
    "        sys.path.append(p)\n",
    "\n",
    "add_sys_path('..')"
   ]
  },
  {
   "cell_type": "code",
   "execution_count": 158,
   "metadata": {},
   "outputs": [],
   "source": [
    "import evaluate"
   ]
  },
  {
   "cell_type": "code",
   "execution_count": 159,
   "metadata": {},
   "outputs": [],
   "source": [
    "def evaluate_mine(hypotheses, texts, gt_table):\n",
    "    gts = defaultdict(list)\n",
    "    for r, row in gt_table.iterrows():\n",
    "        gts[row.one_text].append(row.parents_list)\n",
    "    aps = pd.Series([evaluate.compute_ap(gts[w], hyps, k=10) for w, hyps in zip(texts, hypotheses)])\n",
    "    return aps, gts"
   ]
  },
  {
   "cell_type": "code",
   "execution_count": 160,
   "metadata": {},
   "outputs": [],
   "source": [
    "with open('cache/wiki_test_0_1000.pkl', 'rb') as f:\n",
    "    docs_test = pickle.load(f)"
   ]
  },
  {
   "cell_type": "code",
   "execution_count": 161,
   "metadata": {},
   "outputs": [
    {
     "data": {
      "text/plain": [
       "762"
      ]
     },
     "execution_count": 161,
     "metadata": {},
     "output_type": "execute_result"
    }
   ],
   "source": [
    "len(docs_test)"
   ]
  },
  {
   "cell_type": "code",
   "execution_count": 162,
   "metadata": {},
   "outputs": [
    {
     "data": {
      "text/plain": [
       "['Абдоминопластика  (от лат. abdomen «живот») — объёмное оперативное вмешательство, осуществляемое с целью восстановления эстетических пропорций живота. Абдоминопластика направлена на иссечение избытков кожи и жировых отложений, образовавшихся после родов или в силу особенностей строения организма. Как правило, большая часть пациентов — женщины после родов.\\n',\n",
       " 'Сорбенты (от лат. sorbens — поглощающий) — твердые тела или жидкости, избирательно поглощающие (сорбирующие) из окружающей среды газы, пары или растворённые вещества. В зависимости от характера сорбции различают абсорбенты — тела, образующие с поглощённым веществом твёрдый или жидкий раствор, адсорбенты — тела, поглощающие (сгущающие) вещество на своей (обычно сильно развитой) поверхности, и химические поглотители, которые связывают поглощаемое вещество, вступая с ним в химическое взаимодействие. Отдельную группу составляют ионообменные сорбенты (иониты), поглощающие из растворов ионы одного типа с выделением в раствор эквивалентного количества ионов другого типа. Широко используют активированный уголь, силикагель, оксид алюминия, диоксид кремния, различные ионообменные смолы, дибутилфталат и др.\\n',\n",
       " 'Аваль (фр. aval, предположительно от араб. حوالة\\u200e) — поручительство по векселю или чеку; допускается для любого лица, кроме плательщика. Авалист ответствен наравне с векселедателем, причём его обязательство действительно даже в том случае, если то обязательство, которое он гарантировал, окажется недействительным по какому бы то ни было основанию, иному, чем дефект формы. В этом отношении аваль совершенно равен не поручительству, которое носит дополнительный (акцессорный) характер по отношению к основному обязательству, а банковской гарантии. Ответственность авалиста носит солидарный характер с лицом, за которое он поручился[1]. \\n']"
      ]
     },
     "execution_count": 162,
     "metadata": {},
     "output_type": "execute_result"
    }
   ],
   "source": [
    "docs_test[:3]"
   ]
  },
  {
   "cell_type": "code",
   "execution_count": 163,
   "metadata": {},
   "outputs": [],
   "source": [
    "public_test_nouns = pd.read_csv('../data/public_test/nouns_public.tsv', header=None, encoding='utf-8')\n",
    "public_test_nouns.columns = ['noun']"
   ]
  },
  {
   "cell_type": "code",
   "execution_count": 164,
   "metadata": {},
   "outputs": [],
   "source": [
    "public_test_nouns['definition'] = docs_test"
   ]
  },
  {
   "cell_type": "code",
   "execution_count": 165,
   "metadata": {},
   "outputs": [],
   "source": [
    "pd.options.display.max_colwidth = 500"
   ]
  },
  {
   "cell_type": "code",
   "execution_count": 166,
   "metadata": {},
   "outputs": [
    {
     "data": {
      "text/html": [
       "<div>\n",
       "<style scoped>\n",
       "    .dataframe tbody tr th:only-of-type {\n",
       "        vertical-align: middle;\n",
       "    }\n",
       "\n",
       "    .dataframe tbody tr th {\n",
       "        vertical-align: top;\n",
       "    }\n",
       "\n",
       "    .dataframe thead th {\n",
       "        text-align: right;\n",
       "    }\n",
       "</style>\n",
       "<table border=\"1\" class=\"dataframe\">\n",
       "  <thead>\n",
       "    <tr style=\"text-align: right;\">\n",
       "      <th></th>\n",
       "      <th>noun</th>\n",
       "      <th>definition</th>\n",
       "    </tr>\n",
       "  </thead>\n",
       "  <tbody>\n",
       "    <tr>\n",
       "      <th>478</th>\n",
       "      <td>ПНЕВМОКОКК</td>\n",
       "      <td>Пневмококк[2] (лат. Streptococcus pneumoniae) — вид бактерий из рода стрептококков (Streptococcus), неподвижный ланцетовидный диплококк длиной 0,5—1,25 мкм. В русскоязычной литературе известен также как диплококк Вейксельбаума и диплококк Френкеля.\\n</td>\n",
       "    </tr>\n",
       "    <tr>\n",
       "      <th>350</th>\n",
       "      <td>МЕМУАРЫ</td>\n",
       "      <td>Мемуарная литература, мемуары (от фр. mémoires — воспоминания) — записки современников, повествующие о событиях, в которых автор записок принимал участие или которые известны ему от очевидцев, и о людях, с которыми автор был знаком. Важная особенность мемуаров заключается в претензии на достоверность воссоздаваемого прошлого и, соответственно, на документальный характер текста, хотя в действительности не все мемуары являются правдивыми и точными.\\n</td>\n",
       "    </tr>\n",
       "    <tr>\n",
       "      <th>287</th>\n",
       "      <td>КОШАРА</td>\n",
       "      <td>Кошара:\\n</td>\n",
       "    </tr>\n",
       "  </tbody>\n",
       "</table>\n",
       "</div>"
      ],
      "text/plain": [
       "           noun  \\\n",
       "478  ПНЕВМОКОКК   \n",
       "350     МЕМУАРЫ   \n",
       "287      КОШАРА   \n",
       "\n",
       "                                                                                                                                                                                                                                                                                                                                                                                                                                                               definition  \n",
       "478                                                                                                                                                                                                            Пневмококк[2] (лат. Streptococcus pneumoniae) — вид бактерий из рода стрептококков (Streptococcus), неподвижный ланцетовидный диплококк длиной 0,5—1,25 мкм. В русскоязычной литературе известен также как диплококк Вейксельбаума и диплококк Френкеля.\\n  \n",
       "350  Мемуарная литература, мемуары (от фр. mémoires — воспоминания) — записки современников, повествующие о событиях, в которых автор записок принимал участие или которые известны ему от очевидцев, и о людях, с которыми автор был знаком. Важная особенность мемуаров заключается в претензии на достоверность воссоздаваемого прошлого и, соответственно, на документальный характер текста, хотя в действительности не все мемуары являются правдивыми и точными.\\n  \n",
       "287                                                                                                                                                                                                                                                                                                                                                                                                                                                             Кошара:\\n  "
      ]
     },
     "execution_count": 166,
     "metadata": {},
     "output_type": "execute_result"
    }
   ],
   "source": [
    "public_test_nouns.sample(3)"
   ]
  },
  {
   "cell_type": "markdown",
   "metadata": {},
   "source": [
    "**Бейзлайн**: находим все синсеты, слова из которых входят в данный текст после первого тире. "
   ]
  },
  {
   "cell_type": "code",
   "execution_count": 167,
   "metadata": {},
   "outputs": [
    {
     "name": "stdout",
     "output_type": "stream",
     "text": [
      "Криптон \n",
      "  химический элемент с атомным номером 36[4]. Принадлежит к 18-й группе периодической таблицы химических элементов (по устаревшей короткой форме периодической системы принадлежит к главной подгруппе VIII группы, или к группе VIIIA), находится в четвёртом периоде таблицы. Атомная масса элемента 83,798(2) а. е. м.[1].  Обозначается символом Kr (от лат. Krypton). Простое вещество криптон — инертный одноатомный газ без цвета, вкуса и запаха.\n",
      "\n"
     ]
    }
   ],
   "source": [
    "l, r = public_test_nouns.definition[293].split('—', maxsplit=1)\n",
    "print(l)\n",
    "print(r)"
   ]
  },
  {
   "cell_type": "code",
   "execution_count": 168,
   "metadata": {},
   "outputs": [],
   "source": [
    "from pymorphy2 import MorphAnalyzer\n",
    "from functools import lru_cache\n",
    "\n",
    "morph = MorphAnalyzer()\n",
    "\n",
    "@lru_cache(maxsize=10000)\n",
    "def word2lemma(word):\n",
    "    parses = morph.parse(word)\n",
    "    for p in parses:\n",
    "        if p.normal_form:\n",
    "            return p.normal_form\n",
    "    return word"
   ]
  },
  {
   "cell_type": "code",
   "execution_count": 169,
   "metadata": {},
   "outputs": [],
   "source": [
    "import razdel"
   ]
  },
  {
   "cell_type": "code",
   "execution_count": 172,
   "metadata": {},
   "outputs": [],
   "source": [
    "def prepare_definition(text, first_sentence=False):\n",
    "    if first_sentence:\n",
    "        text = list(razdel.sentenize(text))[0].text\n",
    "    if '—' not in text:\n",
    "        return ''\n",
    "    l, r = text.split('—', maxsplit=1)\n",
    "    prepared = ' '.join([word2lemma(w.text) for w in razdel.tokenize(r)]).upper()\n",
    "    return prepared"
   ]
  },
  {
   "cell_type": "code",
   "execution_count": 173,
   "metadata": {},
   "outputs": [
    {
     "data": {
      "text/plain": [
       "'ХИМИЧЕСКИЙ ЭЛЕМЕНТ С АТОМНЫЙ НОМЕР 36 [ 4 ] . ПРИНАДЛЕЖАТЬ К 18-ТЬ ГРУППА ПЕРИОДИЧЕСКИЙ ТАБЛИЦА ХИМИЧЕСКИЙ ЭЛЕМЕНТ ( ПО УСТАРЕВШИЙ КОРОТКИЙ ФОРМА ПЕРИОДИЧЕСКИЙ СИСТЕМА ПРИНАДЛЕЖАТЬ К ГЛАВНЫЙ ПОДГРУППА VIII ГРУППА , ИЛИ К ГРУППА VIIIA ) , НАХОДИТЬСЯ В ЧЕТЫРЕ ПЕРИОД ТАБЛИЦА . АТОМНЫЙ МАССА ЭЛЕМЕНТ 83,798 ( 2 ) А . Е . МЕТР . [ 1 ] . ОБОЗНАЧАТЬСЯ СИМВОЛ KR ( ОТ ЛАТА . KRYPTON ) . ПРОСТОЙ ВЕЩЕСТВО КРИПТОН — ИНЕРТНЫЙ ОДНОАТОМНЫЙ ГАЗ БЕЗ ЦВЕТ , ВКУС И ЗАПАХ .'"
      ]
     },
     "execution_count": 173,
     "metadata": {},
     "output_type": "execute_result"
    }
   ],
   "source": [
    "prepare_definition(public_test_nouns.definition[293], first_sentence=False)"
   ]
  },
  {
   "cell_type": "code",
   "execution_count": 175,
   "metadata": {},
   "outputs": [],
   "source": [
    "import xmltodict"
   ]
  },
  {
   "cell_type": "code",
   "execution_count": 176,
   "metadata": {},
   "outputs": [
    {
     "name": "stdout",
     "output_type": "stream",
     "text": [
      "29296\n",
      "86549\n"
     ]
    }
   ],
   "source": [
    "with open('../data/ruwordnet/synsets.N.xml', 'r', encoding='utf-8') as f:\n",
    "    synsets_n_raw = xmltodict.parse(f.read(), process_namespaces=True)\n",
    "\n",
    "id2synset = {v['@id']: v for v in synsets_n_raw['synsets']['synset']}\n",
    "print(len(id2synset))\n",
    "    \n",
    "word2sense = defaultdict(set)\n",
    "for synset_id, synset in id2synset.items():\n",
    "    senses = synset['sense']\n",
    "    if not isinstance(senses, list):\n",
    "        senses = [senses]\n",
    "    texts = {sense['#text'] for sense in senses}\n",
    "    texts.add(synset['@ruthes_name'])\n",
    "    for text in texts:\n",
    "        word2sense[text].add(synset_id)\n",
    "print(len(word2sense))"
   ]
  },
  {
   "cell_type": "code",
   "execution_count": 177,
   "metadata": {},
   "outputs": [],
   "source": [
    "ttest_dev = pd.read_pickle('ttest_dev.pkl')\n",
    "ttest_dev['definition'] = pd.read_pickle('cache/wiki_ttest_dev_0_1000.pkl')"
   ]
  },
  {
   "cell_type": "code",
   "execution_count": 178,
   "metadata": {},
   "outputs": [],
   "source": [
    "ttest_test1 = pd.read_pickle('ttest_test1.pkl')\n",
    "ttest_test1['definition'] = pd.read_pickle('cache/wiki_ttest_test1_0_1000.pkl')"
   ]
  },
  {
   "cell_type": "code",
   "execution_count": 179,
   "metadata": {},
   "outputs": [
    {
     "name": "stdout",
     "output_type": "stream",
     "text": [
      "140470-N\n"
     ]
    },
    {
     "data": {
      "text/html": [
       "<div>\n",
       "<style scoped>\n",
       "    .dataframe tbody tr th:only-of-type {\n",
       "        vertical-align: middle;\n",
       "    }\n",
       "\n",
       "    .dataframe tbody tr th {\n",
       "        vertical-align: top;\n",
       "    }\n",
       "\n",
       "    .dataframe thead th {\n",
       "        text-align: right;\n",
       "    }\n",
       "</style>\n",
       "<table border=\"1\" class=\"dataframe\">\n",
       "  <thead>\n",
       "    <tr style=\"text-align: right;\">\n",
       "      <th></th>\n",
       "      <th>SYNSET_ID</th>\n",
       "      <th>TEXT</th>\n",
       "      <th>PARENTS</th>\n",
       "      <th>DEFINITION</th>\n",
       "      <th>parents_list</th>\n",
       "      <th>synset_hash</th>\n",
       "      <th>one_text</th>\n",
       "      <th>definition</th>\n",
       "    </tr>\n",
       "  </thead>\n",
       "  <tbody>\n",
       "    <tr>\n",
       "      <th>4096</th>\n",
       "      <td>140470-N</td>\n",
       "      <td>ПЕРЕСТРОЙКА</td>\n",
       "      <td>126898-N,106549-N</td>\n",
       "      <td>название исторического периода в СССР с 1986 по 1991 гг.</td>\n",
       "      <td>[126898-N, 106549-N]</td>\n",
       "      <td>0.815291</td>\n",
       "      <td>ПЕРЕСТРОЙКА</td>\n",
       "      <td>Перестройка — масштабные изменения в государственной идеологии, экономике, внутренней и внешней политике СССР, начавшиеся во второй половине 1980-х годов.\\n</td>\n",
       "    </tr>\n",
       "    <tr>\n",
       "      <th>4097</th>\n",
       "      <td>140470-N</td>\n",
       "      <td>ПЕРЕСТРОЙКА</td>\n",
       "      <td>137303-N,106785-N</td>\n",
       "      <td>название исторического периода в СССР с 1986 по 1991 гг.</td>\n",
       "      <td>[137303-N, 106785-N]</td>\n",
       "      <td>0.815291</td>\n",
       "      <td>ПЕРЕСТРОЙКА</td>\n",
       "      <td>Перестройка — масштабные изменения в государственной идеологии, экономике, внутренней и внешней политике СССР, начавшиеся во второй половине 1980-х годов.\\n</td>\n",
       "    </tr>\n",
       "    <tr>\n",
       "      <th>4098</th>\n",
       "      <td>140470-N</td>\n",
       "      <td>ПЕРЕСТРОЙКА</td>\n",
       "      <td>7936-N,106629-N,106785-N</td>\n",
       "      <td>название исторического периода в СССР с 1986 по 1991 гг.</td>\n",
       "      <td>[7936-N, 106629-N, 106785-N]</td>\n",
       "      <td>0.815291</td>\n",
       "      <td>ПЕРЕСТРОЙКА</td>\n",
       "      <td>Перестройка — масштабные изменения в государственной идеологии, экономике, внутренней и внешней политике СССР, начавшиеся во второй половине 1980-х годов.\\n</td>\n",
       "    </tr>\n",
       "  </tbody>\n",
       "</table>\n",
       "</div>"
      ],
      "text/plain": [
       "     SYNSET_ID         TEXT                   PARENTS  \\\n",
       "4096  140470-N  ПЕРЕСТРОЙКА         126898-N,106549-N   \n",
       "4097  140470-N  ПЕРЕСТРОЙКА         137303-N,106785-N   \n",
       "4098  140470-N  ПЕРЕСТРОЙКА  7936-N,106629-N,106785-N   \n",
       "\n",
       "                                                    DEFINITION  \\\n",
       "4096  название исторического периода в СССР с 1986 по 1991 гг.   \n",
       "4097  название исторического периода в СССР с 1986 по 1991 гг.   \n",
       "4098  название исторического периода в СССР с 1986 по 1991 гг.   \n",
       "\n",
       "                      parents_list  synset_hash     one_text  \\\n",
       "4096          [126898-N, 106549-N]     0.815291  ПЕРЕСТРОЙКА   \n",
       "4097          [137303-N, 106785-N]     0.815291  ПЕРЕСТРОЙКА   \n",
       "4098  [7936-N, 106629-N, 106785-N]     0.815291  ПЕРЕСТРОЙКА   \n",
       "\n",
       "                                                                                                                                                        definition  \n",
       "4096  Перестройка — масштабные изменения в государственной идеологии, экономике, внутренней и внешней политике СССР, начавшиеся во второй половине 1980-х годов.\\n  \n",
       "4097  Перестройка — масштабные изменения в государственной идеологии, экономике, внутренней и внешней политике СССР, начавшиеся во второй половине 1980-х годов.\\n  \n",
       "4098  Перестройка — масштабные изменения в государственной идеологии, экономике, внутренней и внешней политике СССР, начавшиеся во второй половине 1980-х годов.\\n  "
      ]
     },
     "execution_count": 179,
     "metadata": {},
     "output_type": "execute_result"
    }
   ],
   "source": [
    "synset_id = ttest_dev.sample(1).iloc[0].SYNSET_ID\n",
    "print(synset_id)\n",
    "df = ttest_dev[ttest_dev.SYNSET_ID==synset_id]\n",
    "df"
   ]
  },
  {
   "cell_type": "code",
   "execution_count": 180,
   "metadata": {},
   "outputs": [
    {
     "name": "stdout",
     "output_type": "stream",
     "text": [
      "СОБЫТИЕ ИСТОРИИ | СОБЫТИЕ, ФАКТ\n",
      "ПЕРЕСТРОИТЬ ПОРЯДОК, СИСТЕМУ | ПРЕОБРАЗОВАТЬ, ПЕРЕДЕЛАТЬ\n",
      "РЕФОРМА | ИЗМЕНИТЬСЯ, ИЗМЕНЕНИЕ | ПРЕОБРАЗОВАТЬ, ПЕРЕДЕЛАТЬ\n"
     ]
    }
   ],
   "source": [
    "for pars in df.parents_list:\n",
    "    print(' | '.join([id2synset[p]['@ruthes_name'] for p in pars]))"
   ]
  },
  {
   "cell_type": "code",
   "execution_count": 181,
   "metadata": {},
   "outputs": [
    {
     "name": "stdout",
     "output_type": "stream",
     "text": [
      "МАСШТАБНЫЙ ИЗМЕНЕНИЕ В ГОСУДАРСТВЕННЫЙ ИДЕОЛОГИЯ , ЭКОНОМИКА , ВНУТРЕННИЙ И ВНЕШНИЙ ПОЛИТИКА СССР , НАЧАТЬСЯ В ДВА ПОЛОВИНА 1980-ХА ГОД .\n"
     ]
    }
   ],
   "source": [
    "defin = prepare_definition(df.definition.iloc[0], first_sentence=True)\n",
    "print(defin)"
   ]
  },
  {
   "cell_type": "code",
   "execution_count": 182,
   "metadata": {},
   "outputs": [],
   "source": [
    "from tqdm.auto import trange, tqdm"
   ]
  },
  {
   "cell_type": "code",
   "execution_count": 183,
   "metadata": {},
   "outputs": [],
   "source": [
    "def extract_hypotheses(dataframe, first_sentence=True):\n",
    "    origins = []\n",
    "    words = []\n",
    "    senses = []\n",
    "    targets = []\n",
    "    features = []\n",
    "\n",
    "    for synset_id in tqdm(set(dataframe.SYNSET_ID)):\n",
    "        df = dataframe[dataframe.SYNSET_ID==synset_id]\n",
    "        defin = prepare_definition(df.definition.iloc[0], first_sentence=first_sentence)\n",
    "        if 'parents_list' in df.columns:\n",
    "            true_values = {v for pars in df.parents_list for v in pars}\n",
    "        else:\n",
    "            true_values = set()\n",
    "        for w, wsenses in word2sense.items():\n",
    "            if w in defin:        \n",
    "                for sense in wsenses:\n",
    "                    origins.append(df.one_text.iloc[0])\n",
    "                    words.append(w)\n",
    "                    senses.append(sense)\n",
    "                    targets.append(sense in true_values)\n",
    "                    features.append({'position': defin.find(w), 'len': len(w), 'n_senses': len(wsenses)})\n",
    "    features = pd.DataFrame.from_records(features)\n",
    "    targets = pd.Series(targets)\n",
    "    return origins, words, senses, features, targets"
   ]
  },
  {
   "cell_type": "code",
   "execution_count": 184,
   "metadata": {},
   "outputs": [
    {
     "data": {
      "application/vnd.jupyter.widget-view+json": {
       "model_id": "113987e032f44eb7a7ace283fbc367b8",
       "version_major": 2,
       "version_minor": 0
      },
      "text/plain": [
       "HBox(children=(FloatProgress(value=0.0, max=233.0), HTML(value='')))"
      ]
     },
     "metadata": {},
     "output_type": "display_data"
    },
    {
     "name": "stdout",
     "output_type": "stream",
     "text": [
      "\n",
      "(9663, 3)\n",
      "0.012418503570319777 120\n"
     ]
    }
   ],
   "source": [
    "origins, words, senses, X_dev, y_dev = extract_hypotheses(ttest_dev, first_sentence=False)\n",
    "print(X_dev.shape)\n",
    "print(y_dev.mean(), y_dev.sum())"
   ]
  },
  {
   "cell_type": "code",
   "execution_count": 163,
   "metadata": {},
   "outputs": [],
   "source": [
    "from sklearn.linear_model import LogisticRegression"
   ]
  },
  {
   "cell_type": "code",
   "execution_count": 164,
   "metadata": {},
   "outputs": [
    {
     "name": "stdout",
     "output_type": "stream",
     "text": [
      "[[-0.00867818  0.13265812 -0.42108646]]\n"
     ]
    }
   ],
   "source": [
    "lr = LogisticRegression()\n",
    "lr.fit(X_dev, y_dev);\n",
    "print(lr.coef_)"
   ]
  },
  {
   "cell_type": "code",
   "execution_count": 165,
   "metadata": {},
   "outputs": [
    {
     "data": {
      "application/vnd.jupyter.widget-view+json": {
       "model_id": "0a6b4dde58374b1f8a59e7ddd73e5dc9",
       "version_major": 2,
       "version_minor": 0
      },
      "text/plain": [
       "HBox(children=(FloatProgress(value=0.0, max=249.0), HTML(value='')))"
      ]
     },
     "metadata": {},
     "output_type": "display_data"
    },
    {
     "name": "stdout",
     "output_type": "stream",
     "text": [
      "\n",
      "(10858, 3)\n",
      "0.010130779149014552 110\n"
     ]
    }
   ],
   "source": [
    "origins, words, senses, X_test1, y_test1 = extract_hypotheses(ttest_test1, first_sentence=False)\n",
    "print(X_test1.shape)\n",
    "print(y_test1.mean(), y_test1.sum())"
   ]
  },
  {
   "cell_type": "code",
   "execution_count": 166,
   "metadata": {},
   "outputs": [],
   "source": [
    "scores = lr.predict_proba(X_test1)[:, 1]"
   ]
  },
  {
   "cell_type": "code",
   "execution_count": 167,
   "metadata": {},
   "outputs": [],
   "source": [
    "from sklearn.metrics import roc_auc_score"
   ]
  },
  {
   "cell_type": "code",
   "execution_count": 168,
   "metadata": {},
   "outputs": [
    {
     "name": "stdout",
     "output_type": "stream",
     "text": [
      "0.7124369861623303\n"
     ]
    }
   ],
   "source": [
    "print(roc_auc_score(y_test1, scores)*2-1)"
   ]
  },
  {
   "cell_type": "code",
   "execution_count": 169,
   "metadata": {},
   "outputs": [],
   "source": [
    "scores_df = pd.DataFrame({'origin': origins, 'sense': senses, 'score': scores})"
   ]
  },
  {
   "cell_type": "code",
   "execution_count": 170,
   "metadata": {},
   "outputs": [
    {
     "data": {
      "text/plain": [
       "origin\n",
       "АБСОЛЮТНОСТЬ            [114364-N, 6783-N, 145566-N, 511-N, 119354-N, 4226-N, 146591-N, 106488-N, 107442-N, 121686-N]\n",
       "АВИАДИСПЕТЧЕР               [129838-N, 7003-N, 198-N, 3698-N, 2550-N, 6577-N, 106529-N, 106530-N, 126350-N, 145684-N]\n",
       "АЗАРТ                [120522-N, 106968-N, 106651-N, 4131-N, 140086-N, 5641-N, 110249-N, 106660-N, 126367-N, 120999-N]\n",
       "АЙМАРА           [105048-N, 101422-N, 109776-N, 105137-N, 104707-N, 107581-N, 103506-N, 100070-N, 126820-N, 148389-N]\n",
       "АКСАЙ                    [7472-N, 8765-N, 110872-N, 9019-N, 114364-N, 3264-N, 107257-N, 100022-N, 138562-N, 108669-N]\n",
       "                                                                 ...                                                 \n",
       "ШАШКА                                                                                    [114364-N, 107257-N, 3264-N]\n",
       "ЩАВЕЛЬ                    [6862-N, 134162-N, 4339-N, 127599-N, 761-N, 121049-N, 107445-N, 4339-N, 109156-N, 148327-N]\n",
       "ЭЛЕКТРОЛИЗ                  [6052-N, 111680-N, 106509-N, 5497-N, 2102-N, 123480-N, 135044-N, 2458-N, 820-N, 112863-N]\n",
       "ЭПИДЕМИОЛОГ            [1059-N, 46-N, 106477-N, 106455-N, 132155-N, 128241-N, 120841-N, 119127-N, 119125-N, 109776-N]\n",
       "ЯКОРЬ                 [119921-N, 139509-N, 100270-N, 208-N, 110284-N, 110486-N, 109776-N, 8728-N, 126792-N, 106559-N]\n",
       "Length: 165, dtype: object"
      ]
     },
     "execution_count": 170,
     "metadata": {},
     "output_type": "execute_result"
    }
   ],
   "source": [
    "hypos_ranked_df = scores_df.groupby('origin').apply(lambda x: x.sort_values('score', ascending=False).sense.head(10).tolist())\n",
    "hypos_ranked_df"
   ]
  },
  {
   "cell_type": "code",
   "execution_count": 171,
   "metadata": {},
   "outputs": [],
   "source": [
    "small_hypos = hypos_ranked_df.values.tolist()\n",
    "texts = hypos_ranked_df.index.tolist()"
   ]
  },
  {
   "cell_type": "markdown",
   "metadata": {},
   "source": [
    "Что ж, на бейзлайне мы получили качество 14.67%[31%|47%] (против тех 25%, что у меня на лидерборде). \n",
    "\n",
    "Если брать целый текст, то будет 14.2%[35%|40%]\n",
    "\n",
    "Есть куда расти, конечно. Но уже очень впечатляет!"
   ]
  },
  {
   "cell_type": "code",
   "execution_count": 172,
   "metadata": {},
   "outputs": [
    {
     "name": "stdout",
     "output_type": "stream",
     "text": [
      "0.14201018117684783\n",
      "0.3515151515151515\n",
      "0.4039944809341361\n"
     ]
    },
    {
     "data": {
      "text/plain": [
       "count    165.000000\n",
       "mean       0.142010\n",
       "std        0.267568\n",
       "min        0.000000\n",
       "25%        0.000000\n",
       "50%        0.000000\n",
       "75%        0.166667\n",
       "max        1.000000\n",
       "dtype: float64"
      ]
     },
     "execution_count": 172,
     "metadata": {},
     "output_type": "execute_result"
    }
   ],
   "source": [
    "aps, _ = evaluate_mine(small_hypos, texts, ttest_test1)\n",
    "print(aps.mean())\n",
    "print((aps>0).mean())\n",
    "print(aps[aps>0].mean())\n",
    "aps.describe()"
   ]
  },
  {
   "cell_type": "markdown",
   "metadata": {},
   "source": [
    "А что будет, если мы научимся ранжировать гипотезы идеально? Какая максимальная капасити самой матчилки-по-вхождению-строки?\n",
    "\n",
    "Что оказывается:\n",
    "* Скор 33% для первого предложения / 40% для абзаца  - это меньше, чем у лидера лидерборда, но дохуя больше, чем я выдаю сейчас\n",
    "* При этом хоть один верный родитель извлекается в 38% (из первого предложения) / 44% (из первого абзаца) случаев.\n",
    "* Если хоть один верный родитель извлёкся, то 90% родителей извлеклись!"
   ]
  },
  {
   "cell_type": "code",
   "execution_count": 173,
   "metadata": {},
   "outputs": [
    {
     "name": "stdout",
     "output_type": "stream",
     "text": [
      "0.39898989898989895\n",
      "0.44242424242424244\n",
      "0.9018264840182649\n"
     ]
    },
    {
     "data": {
      "text/plain": [
       "count    165.000000\n",
       "mean       0.398990\n",
       "std        0.468412\n",
       "min        0.000000\n",
       "25%        0.000000\n",
       "50%        0.000000\n",
       "75%        1.000000\n",
       "max        1.000000\n",
       "dtype: float64"
      ]
     },
     "execution_count": 173,
     "metadata": {},
     "output_type": "execute_result"
    }
   ],
   "source": [
    "scores_df = pd.DataFrame({'origin': origins, 'sense': senses, 'score': y_test1})\n",
    "hypos_ranked_df = scores_df.groupby('origin').apply(lambda x: x.sort_values('score', ascending=False).sense.head(10).tolist())\n",
    "small_hypos = hypos_ranked_df.values.tolist()\n",
    "texts = hypos_ranked_df.index.tolist()\n",
    "\n",
    "aps, _ = evaluate_mine(small_hypos, texts, ttest_test1)\n",
    "print(aps.mean())\n",
    "print((aps>0).mean())\n",
    "print(aps[aps>0].mean())\n",
    "aps.describe()"
   ]
  },
  {
   "cell_type": "markdown",
   "metadata": {},
   "source": [
    "# Анализ полноты вытаскивателя вики"
   ]
  },
  {
   "cell_type": "code",
   "execution_count": 6,
   "metadata": {},
   "outputs": [],
   "source": [
    "import download_wiki\n",
    "from importlib import reload\n",
    "reload(download_wiki);"
   ]
  },
  {
   "cell_type": "code",
   "execution_count": 25,
   "metadata": {},
   "outputs": [],
   "source": [
    "import evaluate\n",
    "import json\n",
    "import random\n",
    "import my_knn"
   ]
  },
  {
   "cell_type": "code",
   "execution_count": 10,
   "metadata": {},
   "outputs": [],
   "source": [
    "n_ds = evaluate.read_dataset('../data/training_data/training_nouns.tsv',  lambda x: json.loads(x))"
   ]
  },
  {
   "cell_type": "code",
   "execution_count": 98,
   "metadata": {},
   "outputs": [],
   "source": [
    "public_test_nouns = pd.read_csv('../data/public_test/nouns_public.tsv', header=None)\n",
    "public_test_nouns.columns = ['text']"
   ]
  },
  {
   "cell_type": "code",
   "execution_count": 94,
   "metadata": {},
   "outputs": [
    {
     "data": {
      "image/png": "[encoded data removed]",
      "text/plain": [
       "<Figure size 432x288 with 1 Axes>"
      ]
     },
     "metadata": {
      "needs_background": "light"
     },
     "output_type": "display_data"
    }
   ],
   "source": [
    "pd.Series(list(n_ds.keys())).apply(lambda x: len(x.split())).hist();"
   ]
  },
  {
   "cell_type": "code",
   "execution_count": 99,
   "metadata": {},
   "outputs": [
    {
     "data": {
      "image/png": "[encoded data removed]",
      "text/plain": [
       "<Figure size 432x288 with 1 Axes>"
      ]
     },
     "metadata": {
      "needs_background": "light"
     },
     "output_type": "display_data"
    }
   ],
   "source": [
    "public_test_nouns.text.apply(lambda x: len(x.split())).hist();"
   ]
  },
  {
   "cell_type": "code",
   "execution_count": 27,
   "metadata": {},
   "outputs": [
    {
     "name": "stdout",
     "output_type": "stream",
     "text": [
      "number of texts: 86549\n",
      "forbidden senses are 0\n",
      "numer of ids 29296 long list is 119273\n"
     ]
    },
    {
     "data": {
      "application/vnd.jupyter.widget-view+json": {
       "model_id": "055f98d429e2450ba2a71ed8cd58f7b3",
       "version_major": 2,
       "version_minor": 0
      },
      "text/plain": [
       "HBox(children=(FloatProgress(value=1.0, bar_style='info', max=1.0), HTML(value='')))"
      ]
     },
     "metadata": {},
     "output_type": "display_data"
    },
    {
     "name": "stdout",
     "output_type": "stream",
     "text": [
      "\n",
      "28118\n",
      "555\n",
      "5\n",
      "37249\n"
     ]
    }
   ],
   "source": [
    "syns_storage, rel_storage, rel_df = my_knn.prepare_storages(\n",
    "    synsets_filename='../data/ruwordnet/synsets.N.xml',\n",
    "    relations_filename='../data/ruwordnet/synset_relations.N.xml',\n",
    "    forbidden_words=set(),\n",
    ")"
   ]
  },
  {
   "cell_type": "code",
   "execution_count": 11,
   "metadata": {},
   "outputs": [],
   "source": [
    "nouns = list(n_ds.keys())"
   ]
  },
  {
   "cell_type": "code",
   "execution_count": 125,
   "metadata": {},
   "outputs": [],
   "source": [
    "w = random.choice(nouns)"
   ]
  },
  {
   "cell_type": "code",
   "execution_count": 146,
   "metadata": {},
   "outputs": [
    {
     "name": "stdout",
     "output_type": "stream",
     "text": [
      "http://ru.m.wikipedia.org/w/index.php?search=%D0%91%D0%9B%D0%90%D0%93%D0%9E%D0%A3%D0%A1%D0%A2%D0%A0%D0%9E%D0%99%D0%A1%D0%A2%D0%92%D0%9E\n"
     ]
    }
   ],
   "source": [
    "import urllib.parse\n",
    "\n",
    "domain = 'ru.m.wikipedia.org'\n",
    "query = urllib.parse.quote_plus(w)\n",
    "url = 'http://{}/w/index.php?search={}'.format(domain, query)\n",
    "print(url)"
   ]
  },
  {
   "cell_type": "markdown",
   "metadata": {},
   "source": [
    "прохладность\n",
    "выдалбливание\n",
    "подкатка\n",
    "чуванка\n",
    "нетерпение\n",
    "харканье (есть плеванье, перенаправлено с харкание)\n",
    "смиренность (есть смирение)"
   ]
  },
  {
   "cell_type": "code",
   "execution_count": 155,
   "metadata": {
    "scrolled": true
   },
   "outputs": [
    {
     "name": "stdout",
     "output_type": "stream",
     "text": [
      "ОБРЫВАНИЕ\n",
      "['РАЗЪЕДИНИТЬ, ПРЕРВАТЬ СОЕДИНЕНИЕ', 'ДЕЛИТЬ, РАЗДЕЛЯТЬ НА ЧАСТИ', 'ОТДЕЛИТЬ ЧАСТЬ ОТ ЦЕЛОГО', 'УДАЛИТЬ, ОТДАЛИТЬ НА РАССТОЯНИЕ']\n",
      "['ПРЕКРАТИТЬ, ПОЛОЖИТЬ КОНЕЦ', 'ПРИНУДИТЬ, ЗАСТАВИТЬ']\n",
      "ОБРЫВАНИЕ\n",
      "http://ru.m.wikipedia.org/w/index.php?search=%D0%9E%D0%91%D0%A0%D0%AB%D0%92%D0%90%D0%9D%D0%98%D0%95\n"
     ]
    },
    {
     "name": "stderr",
     "output_type": "stream",
     "text": [
      "C:\\Users\\ddale\\YandexDisk\\code\\NLP\\taxonomy-enrichment\\experiments\\download_wiki.py:36: UserWarning: No parser was explicitly specified, so I'm using the best available HTML parser for this system (\"lxml\"). This usually isn't a problem, but if you run this code on another system, or in a different virtual environment, it may use a different parser and behave differently.\n",
      "\n",
      "The code that caused this warning is on line 36 of the file C:\\Users\\ddale\\YandexDisk\\code\\NLP\\taxonomy-enrichment\\experiments\\download_wiki.py. To get rid of this warning, pass the additional argument 'features=\"lxml\"' to the BeautifulSoup constructor.\n",
      "\n",
      "  soup = BeautifulSoup(t)\n"
     ]
    }
   ],
   "source": [
    "while True:\n",
    "    w = random.choice(nouns)\n",
    "    if len(w.split()) > 1:\n",
    "        continue\n",
    "    print(w)\n",
    "    for component in n_ds[w]:\n",
    "        print([syns_storage.get_synset_name(ss) for ss in component])\n",
    "    dfn = download_wiki.get_definition(w)\n",
    "    if dfn == 'no_p':\n",
    "        query = urllib.parse.quote_plus(w)\n",
    "        print('http://{}/w/index.php?search={}'.format(domain, query))\n",
    "        break"
   ]
  },
  {
   "cell_type": "code",
   "execution_count": 143,
   "metadata": {},
   "outputs": [
    {
     "name": "stdout",
     "output_type": "stream",
     "text": [
      "РОСТОВЧАНИН\n",
      "no_p\n"
     ]
    }
   ],
   "source": [
    "dfn = download_wiki.get_definition(w)\n",
    "print(dfn)"
   ]
  },
  {
   "cell_type": "markdown",
   "metadata": {},
   "source": [
    "Проблемы:\n",
    "* (3) слишком абстрактное слово (\"отключение\", \"нарезание\", \"прессовка\") - поискать в других источниках\n",
    "* (3) составное понятие ( \"пункт приема\", \"похищение автомобиля\", \"революционные перемены\") - оставить только голову\n",
    "* (2) частичный мэтч (\"настоятель церкви\" vs \"настоятель\", \"онкологический диспансер\") - попробовать первый результат\n",
    "* (1) слишком редкое слово (лесопиломатериал, сельхозинститут, центризбирком) - попробовать сначала найти расшифровку слова\n",
    "* (1) необычная форма слова (\"половчанка\") - попробовать поискать другие формы\n",
    "* (1) имя собственное вместо нарицательного (\"телеэкран\")\n",
    "\n",
    "Идеи: \n",
    "* если идёт пара \"существительное прилагательное\" или \"существительное существительного\", гипероним - это определяемое существительное\n",
    "\n",
    "впрочем, на паблик и прайват тесте все понятия - однословные. \n",
    "\n",
    "может, мне мои данные так же пофильтровать?"
   ]
  },
  {
   "cell_type": "code",
   "execution_count": 145,
   "metadata": {},
   "outputs": [
    {
     "name": "stdout",
     "output_type": "stream",
     "text": [
      "http://ru.m.wikipedia.org/w/index.php?search=%D0%91%D0%9B%D0%90%D0%93%D0%9E%D0%A3%D0%A1%D0%A2%D0%A0%D0%9E%D0%99%D0%A1%D0%A2%D0%92%D0%9E\n"
     ]
    }
   ],
   "source": []
  },
  {
   "cell_type": "markdown",
   "metadata": {},
   "source": [
    "# Joint cache"
   ]
  },
  {
   "cell_type": "code",
   "execution_count": 186,
   "metadata": {},
   "outputs": [],
   "source": [
    "import pandas as pd"
   ]
  },
  {
   "cell_type": "code",
   "execution_count": 193,
   "metadata": {},
   "outputs": [],
   "source": [
    "df = pd.read_csv('../data/training_data/training_nouns.tsv', sep='\\t', encoding='utf-8', header=None)\n",
    "texts = df[0]"
   ]
  },
  {
   "cell_type": "code",
   "execution_count": 194,
   "metadata": {},
   "outputs": [
    {
     "data": {
      "text/plain": [
       "0                            CALL-ЦЕНТР\n",
       "1                                   GPB\n",
       "2                        HR ДЕПАРТАМЕНТ\n",
       "3                              HR ОТДЕЛ\n",
       "4                           LCD МОНИТОР\n",
       "                      ...              \n",
       "32442              ЯЩИК ДЛЯ ГОЛОСОВАНИЯ\n",
       "32443    ЯЩИК ИЗ ГОФРИРОВАННОГО КАРТОНА\n",
       "32444                   ЯЩИК ИЗ КАРТОНА\n",
       "32445                    ЯЩИК КАРТОННЫЙ\n",
       "32446                              ЯЩУР\n",
       "Name: 0, Length: 32447, dtype: object"
      ]
     },
     "execution_count": 194,
     "metadata": {},
     "output_type": "execute_result"
    }
   ],
   "source": [
    "texts"
   ]
  },
  {
   "cell_type": "code",
   "execution_count": null,
   "metadata": {},
   "outputs": [],
   "source": []
  }
 ],
 "metadata": {
  "kernelspec": {
   "display_name": "Python 3",
   "language": "python",
   "name": "python3"
  },
  "language_info": {
   "codemirror_mode": {
    "name": "ipython",
    "version": 3
   },
   "file_extension": ".py",
   "mimetype": "text/x-python",
   "name": "python",
   "nbconvert_exporter": "python",
   "pygments_lexer": "ipython3",
   "version": "3.6.8"
  }
 },
 "nbformat": 4,
 "nbformat_minor": 2
}
