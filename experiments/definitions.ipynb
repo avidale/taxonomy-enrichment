{
 "cells": [
  {
   "cell_type": "code",
   "execution_count": 53,
   "metadata": {},
   "outputs": [],
   "source": [
    "import pandas as pd\n",
    "import numpy as np\n",
    "import pickle\n",
    "from collections import Counter, defaultdict"
   ]
  },
  {
   "cell_type": "code",
   "execution_count": 149,
   "metadata": {},
   "outputs": [],
   "source": [
    "import sys\n",
    "import os\n",
    "def add_sys_path(p):\n",
    "    p = os.path.abspath(p)\n",
    "    if p not in sys.path:\n",
    "        sys.path.append(p)\n",
    "\n",
    "add_sys_path('..')"
   ]
  },
  {
   "cell_type": "code",
   "execution_count": 150,
   "metadata": {},
   "outputs": [],
   "source": [
    "import evaluate"
   ]
  },
  {
   "cell_type": "code",
   "execution_count": 151,
   "metadata": {},
   "outputs": [],
   "source": [
    "def evaluate_mine(hypotheses, texts, gt_table):\n",
    "    gts = defaultdict(list)\n",
    "    for r, row in gt_table.iterrows():\n",
    "        gts[row.one_text].append(row.parents_list)\n",
    "    aps = pd.Series([evaluate.compute_ap(gts[w], hyps, k=10) for w, hyps in zip(texts, hypotheses)])\n",
    "    return aps, gts"
   ]
  },
  {
   "cell_type": "code",
   "execution_count": 3,
   "metadata": {},
   "outputs": [],
   "source": [
    "with open('cache/wiki_test_0_1000.pkl', 'rb') as f:\n",
    "    docs_test = pickle.load(f)"
   ]
  },
  {
   "cell_type": "code",
   "execution_count": 4,
   "metadata": {},
   "outputs": [
    {
     "data": {
      "text/plain": [
       "762"
      ]
     },
     "execution_count": 4,
     "metadata": {},
     "output_type": "execute_result"
    }
   ],
   "source": [
    "len(docs_test)"
   ]
  },
  {
   "cell_type": "code",
   "execution_count": 12,
   "metadata": {},
   "outputs": [
    {
     "data": {
      "text/plain": [
       "['Абдоминопластика  (от лат. abdomen «живот») — объёмное оперативное вмешательство, осуществляемое с целью восстановления эстетических пропорций живота. Абдоминопластика направлена на иссечение избытков кожи и жировых отложений, образовавшихся после родов или в силу особенностей строения организма. Как правило, большая часть пациентов — женщины после родов.\\n',\n",
       " 'Сорбенты (от лат. sorbens — поглощающий) — твердые тела или жидкости, избирательно поглощающие (сорбирующие) из окружающей среды газы, пары или растворённые вещества. В зависимости от характера сорбции различают абсорбенты — тела, образующие с поглощённым веществом твёрдый или жидкий раствор, адсорбенты — тела, поглощающие (сгущающие) вещество на своей (обычно сильно развитой) поверхности, и химические поглотители, которые связывают поглощаемое вещество, вступая с ним в химическое взаимодействие. Отдельную группу составляют ионообменные сорбенты (иониты), поглощающие из растворов ионы одного типа с выделением в раствор эквивалентного количества ионов другого типа. Широко используют активированный уголь, силикагель, оксид алюминия, диоксид кремния, различные ионообменные смолы, дибутилфталат и др.\\n',\n",
       " 'Аваль (фр. aval, предположительно от араб. حوالة\\u200e) — поручительство по векселю или чеку; допускается для любого лица, кроме плательщика. Авалист ответствен наравне с векселедателем, причём его обязательство действительно даже в том случае, если то обязательство, которое он гарантировал, окажется недействительным по какому бы то ни было основанию, иному, чем дефект формы. В этом отношении аваль совершенно равен не поручительству, которое носит дополнительный (акцессорный) характер по отношению к основному обязательству, а банковской гарантии. Ответственность авалиста носит солидарный характер с лицом, за которое он поручился[1]. \\n']"
      ]
     },
     "execution_count": 12,
     "metadata": {},
     "output_type": "execute_result"
    }
   ],
   "source": [
    "docs_test[:3]"
   ]
  },
  {
   "cell_type": "code",
   "execution_count": 17,
   "metadata": {},
   "outputs": [],
   "source": [
    "public_test_nouns = pd.read_csv('../data/public_test/nouns_public.tsv', header=None, encoding='utf-8')\n",
    "public_test_nouns.columns = ['noun']"
   ]
  },
  {
   "cell_type": "code",
   "execution_count": 18,
   "metadata": {},
   "outputs": [],
   "source": [
    "public_test_nouns['definition'] = docs_test"
   ]
  },
  {
   "cell_type": "code",
   "execution_count": 19,
   "metadata": {},
   "outputs": [],
   "source": [
    "pd.options.display.max_colwidth = 500"
   ]
  },
  {
   "cell_type": "code",
   "execution_count": 20,
   "metadata": {},
   "outputs": [
    {
     "data": {
      "text/html": [
       "<div>\n",
       "<style scoped>\n",
       "    .dataframe tbody tr th:only-of-type {\n",
       "        vertical-align: middle;\n",
       "    }\n",
       "\n",
       "    .dataframe tbody tr th {\n",
       "        vertical-align: top;\n",
       "    }\n",
       "\n",
       "    .dataframe thead th {\n",
       "        text-align: right;\n",
       "    }\n",
       "</style>\n",
       "<table border=\"1\" class=\"dataframe\">\n",
       "  <thead>\n",
       "    <tr style=\"text-align: right;\">\n",
       "      <th></th>\n",
       "      <th>noun</th>\n",
       "      <th>definition</th>\n",
       "    </tr>\n",
       "  </thead>\n",
       "  <tbody>\n",
       "    <tr>\n",
       "      <th>447</th>\n",
       "      <td>ПАРЕЗ</td>\n",
       "      <td>Парез (от др.-греч. πάρεσις [парэсис] «ослабление») — неврологический синдром, снижение силы мышц, обусловленное поражением двигательного пути нервной системы или периферического нерва.\\n</td>\n",
       "    </tr>\n",
       "    <tr>\n",
       "      <th>638</th>\n",
       "      <td>ТАРАНТЕЛЛА</td>\n",
       "      <td>Тарантелла (итал. Tarantella) — итальянский народный танец в сопровождении гитары, тамбурина (он же бубен) и кастаньет (в Сицилии), музыкальный размер — 6/8, 3/8. С историей тарантеллы связано много легенд. Начиная с XV века в течение двух столетий тарантелла считалась единственным средством излечения «тарантизма» — безумия, вызываемого, как полагали, укусом тарантула (название паука тарантул, также как и танца, производят от названия южноитальянского города Таранто). «Таково очевидно происх...</td>\n",
       "    </tr>\n",
       "    <tr>\n",
       "      <th>692</th>\n",
       "      <td>ФРАМУГА</td>\n",
       "      <td>Фрамуга — горизонтальная верхняя глухая часть окна, боковая или верхняя часть проема двери.\\n</td>\n",
       "    </tr>\n",
       "  </tbody>\n",
       "</table>\n",
       "</div>"
      ],
      "text/plain": [
       "           noun  \\\n",
       "447       ПАРЕЗ   \n",
       "638  ТАРАНТЕЛЛА   \n",
       "692     ФРАМУГА   \n",
       "\n",
       "                                                                                                                                                                                                                                                                                                                                                                                                                                                                                                              definition  \n",
       "447                                                                                                                                                                                                                                                                                                                          Парез (от др.-греч. πάρεσις [парэсис] «ослабление») — неврологический синдром, снижение силы мышц, обусловленное поражением двигательного пути нервной системы или периферического нерва.\\n  \n",
       "638  Тарантелла (итал. Tarantella) — итальянский народный танец в сопровождении гитары, тамбурина (он же бубен) и кастаньет (в Сицилии), музыкальный размер — 6/8, 3/8. С историей тарантеллы связано много легенд. Начиная с XV века в течение двух столетий тарантелла считалась единственным средством излечения «тарантизма» — безумия, вызываемого, как полагали, укусом тарантула (название паука тарантул, также как и танца, производят от названия южноитальянского города Таранто). «Таково очевидно происх...  \n",
       "692                                                                                                                                                                                                                                                                                                                                                                                                                        Фрамуга — горизонтальная верхняя глухая часть окна, боковая или верхняя часть проема двери.\\n  "
      ]
     },
     "execution_count": 20,
     "metadata": {},
     "output_type": "execute_result"
    }
   ],
   "source": [
    "public_test_nouns.sample(3)"
   ]
  },
  {
   "cell_type": "markdown",
   "metadata": {},
   "source": [
    "**Бейзлайн**: находим все синсеты, слова из которых входят в данный текст после первого тире. "
   ]
  },
  {
   "cell_type": "code",
   "execution_count": 25,
   "metadata": {},
   "outputs": [
    {
     "name": "stdout",
     "output_type": "stream",
     "text": [
      "Криптон \n",
      "  химический элемент с атомным номером 36[4]. Принадлежит к 18-й группе периодической таблицы химических элементов (по устаревшей короткой форме периодической системы принадлежит к главной подгруппе VIII группы, или к группе VIIIA), находится в четвёртом периоде таблицы. Атомная масса элемента 83,798(2) а. е. м.[1].  Обозначается символом Kr (от лат. Krypton). Простое вещество криптон — инертный одноатомный газ без цвета, вкуса и запаха.\n",
      "\n"
     ]
    }
   ],
   "source": [
    "l, r = public_test_nouns.definition[293].split('—', maxsplit=1)\n",
    "print(l)\n",
    "print(r)"
   ]
  },
  {
   "cell_type": "code",
   "execution_count": 38,
   "metadata": {},
   "outputs": [],
   "source": [
    "from pymorphy2 import MorphAnalyzer\n",
    "from functools import lru_cache\n",
    "\n",
    "morph = MorphAnalyzer()\n",
    "\n",
    "@lru_cache(maxsize=10000)\n",
    "def word2lemma(word):\n",
    "    parses = morph.parse(word)\n",
    "    for p in parses:\n",
    "        if p.normal_form:\n",
    "            return p.normal_form\n",
    "    return word"
   ]
  },
  {
   "cell_type": "code",
   "execution_count": 84,
   "metadata": {},
   "outputs": [],
   "source": [
    "import razdel"
   ]
  },
  {
   "cell_type": "code",
   "execution_count": 88,
   "metadata": {},
   "outputs": [
    {
     "data": {
      "text/plain": [
       "'Белорусы (белор. беларусы) — восточнославянский народ (этнос и нация).'"
      ]
     },
     "execution_count": 88,
     "metadata": {},
     "output_type": "execute_result"
    }
   ],
   "source": [
    "list(razdel.sentenize(df.definition.iloc[0]))[0].text"
   ]
  },
  {
   "cell_type": "code",
   "execution_count": 83,
   "metadata": {},
   "outputs": [
    {
     "data": {
      "text/plain": [
       "['Белорусы (белор.',\n",
       " 'беларусы) — восточнославянский народ (этнос и нация).',\n",
       " 'Общая численность — около 10 миллионов человек.',\n",
       " 'Проживают преимущественно на территории Белоруссии, где являются доминирующей национальностью (83,7 % в 2009 году).',\n",
       " 'Значительное число белорусов населяют смежные с Белоруссией территории России, Польши, Украины, Латвии и Литвы, где являются национальным меньшинством.',\n",
       " 'Белорусы широко расселились по территории бывшего СССР, а также мигрировали в ряд стран за его пределами (Канада, США, Германия).']"
      ]
     },
     "execution_count": 83,
     "metadata": {},
     "output_type": "execute_result"
    }
   ],
   "source": [
    "sent_tokenize(df.definition.iloc[0])"
   ]
  },
  {
   "cell_type": "code",
   "execution_count": 92,
   "metadata": {},
   "outputs": [],
   "source": [
    "def prepare_definition(text, first_sentence=False):\n",
    "    if first_sentence:\n",
    "        text = list(razdel.sentenize(text))[0].text\n",
    "    if '—' not in text:\n",
    "        return ''\n",
    "    l, r = text.split('—', maxsplit=1)\n",
    "    prepared = ' '.join([word2lemma(w.text) for w in razdel.tokenize(r)]).upper()\n",
    "    return prepared"
   ]
  },
  {
   "cell_type": "code",
   "execution_count": 95,
   "metadata": {},
   "outputs": [
    {
     "data": {
      "text/plain": [
       "'ХИМИЧЕСКИЙ ЭЛЕМЕНТ С АТОМНЫЙ НОМЕР 36 [ 4 ] . ПРИНАДЛЕЖАТЬ К 18-ТЬ ГРУППА ПЕРИОДИЧЕСКИЙ ТАБЛИЦА ХИМИЧЕСКИЙ ЭЛЕМЕНТ ( ПО УСТАРЕВШИЙ КОРОТКИЙ ФОРМА ПЕРИОДИЧЕСКИЙ СИСТЕМА ПРИНАДЛЕЖАТЬ К ГЛАВНЫЙ ПОДГРУППА VIII ГРУППА , ИЛИ К ГРУППА VIIIA ) , НАХОДИТЬСЯ В ЧЕТЫРЕ ПЕРИОД ТАБЛИЦА . АТОМНЫЙ МАССА ЭЛЕМЕНТ 83,798 ( 2 ) А . Е . МЕТР . [ 1 ] . ОБОЗНАЧАТЬСЯ СИМВОЛ KR ( ОТ ЛАТА . KRYPTON ) . ПРОСТОЙ ВЕЩЕСТВО КРИПТОН — ИНЕРТНЫЙ ОДНОАТОМНЫЙ ГАЗ БЕЗ ЦВЕТ , ВКУС И ЗАПАХ .'"
      ]
     },
     "execution_count": 95,
     "metadata": {},
     "output_type": "execute_result"
    }
   ],
   "source": [
    "prepare_definition(public_test_nouns.definition[293], first_sentence=False)"
   ]
  },
  {
   "cell_type": "code",
   "execution_count": 54,
   "metadata": {},
   "outputs": [
    {
     "name": "stdout",
     "output_type": "stream",
     "text": [
      "29296\n",
      "86549\n"
     ]
    }
   ],
   "source": [
    "with open('../data/ruwordnet/synsets.N.xml', 'r', encoding='utf-8') as f:\n",
    "    synsets_n_raw = xmltodict.parse(f.read(), process_namespaces=True)\n",
    "\n",
    "id2synset = {v['@id']: v for v in synsets_n_raw['synsets']['synset']}\n",
    "print(len(id2synset))\n",
    "    \n",
    "word2sense = defaultdict(set)\n",
    "for synset_id, synset in id2synset.items():\n",
    "    senses = synset['sense']\n",
    "    if not isinstance(senses, list):\n",
    "        senses = [senses]\n",
    "    texts = {sense['#text'] for sense in senses}\n",
    "    texts.add(synset['@ruthes_name'])\n",
    "    for text in texts:\n",
    "        word2sense[text].add(synset_id)\n",
    "print(len(word2sense))\n"
   ]
  },
  {
   "cell_type": "code",
   "execution_count": 58,
   "metadata": {},
   "outputs": [],
   "source": [
    "ttest_dev = pd.read_pickle('ttest_dev.pkl')\n",
    "ttest_dev['definition'] = pd.read_pickle('cache/wiki_ttest_dev_0_1000.pkl')"
   ]
  },
  {
   "cell_type": "code",
   "execution_count": 57,
   "metadata": {},
   "outputs": [],
   "source": [
    "ttest_test1 = pd.read_pickle('ttest_test1.pkl')\n",
    "ttest_test1['definition'] = pd.read_pickle('cache/wiki_ttest_test1_0_1000.pkl')"
   ]
  },
  {
   "cell_type": "code",
   "execution_count": 105,
   "metadata": {},
   "outputs": [
    {
     "name": "stdout",
     "output_type": "stream",
     "text": [
      "105452-N\n"
     ]
    },
    {
     "data": {
      "text/html": [
       "<div>\n",
       "<style scoped>\n",
       "    .dataframe tbody tr th:only-of-type {\n",
       "        vertical-align: middle;\n",
       "    }\n",
       "\n",
       "    .dataframe tbody tr th {\n",
       "        vertical-align: top;\n",
       "    }\n",
       "\n",
       "    .dataframe thead th {\n",
       "        text-align: right;\n",
       "    }\n",
       "</style>\n",
       "<table border=\"1\" class=\"dataframe\">\n",
       "  <thead>\n",
       "    <tr style=\"text-align: right;\">\n",
       "      <th></th>\n",
       "      <th>SYNSET_ID</th>\n",
       "      <th>TEXT</th>\n",
       "      <th>PARENTS</th>\n",
       "      <th>DEFINITION</th>\n",
       "      <th>parents_list</th>\n",
       "      <th>synset_hash</th>\n",
       "      <th>one_text</th>\n",
       "      <th>definition</th>\n",
       "    </tr>\n",
       "  </thead>\n",
       "  <tbody>\n",
       "    <tr>\n",
       "      <th>1220</th>\n",
       "      <td>105452-N</td>\n",
       "      <td>ТУАРЕГИ</td>\n",
       "      <td>105451-N,100046-N</td>\n",
       "      <td>NaN</td>\n",
       "      <td>[105451-N, 100046-N]</td>\n",
       "      <td>0.806334</td>\n",
       "      <td>ТУАРЕГИ</td>\n",
       "      <td>Туареги (араб. طوارق‎, самоназвание — имощаг, имошаг[10]) — народ группы берберов в Мали, Нигере, Буркина-Фасо, Алжире и Ливии.\\n</td>\n",
       "    </tr>\n",
       "    <tr>\n",
       "      <th>1221</th>\n",
       "      <td>105452-N</td>\n",
       "      <td>ТУАРЕГИ</td>\n",
       "      <td>100046-N,7739-N</td>\n",
       "      <td>NaN</td>\n",
       "      <td>[100046-N, 7739-N]</td>\n",
       "      <td>0.806334</td>\n",
       "      <td>ТУАРЕГИ</td>\n",
       "      <td>Туареги (араб. طوارق‎, самоназвание — имощаг, имошаг[10]) — народ группы берберов в Мали, Нигере, Буркина-Фасо, Алжире и Ливии.\\n</td>\n",
       "    </tr>\n",
       "  </tbody>\n",
       "</table>\n",
       "</div>"
      ],
      "text/plain": [
       "     SYNSET_ID     TEXT            PARENTS DEFINITION          parents_list  \\\n",
       "1220  105452-N  ТУАРЕГИ  105451-N,100046-N        NaN  [105451-N, 100046-N]   \n",
       "1221  105452-N  ТУАРЕГИ    100046-N,7739-N        NaN    [100046-N, 7739-N]   \n",
       "\n",
       "      synset_hash one_text  \\\n",
       "1220     0.806334  ТУАРЕГИ   \n",
       "1221     0.806334  ТУАРЕГИ   \n",
       "\n",
       "                                                                                                                             definition  \n",
       "1220  Туареги (араб. طوارق‎, самоназвание — имощаг, имошаг[10]) — народ группы берберов в Мали, Нигере, Буркина-Фасо, Алжире и Ливии.\\n  \n",
       "1221  Туареги (араб. طوارق‎, самоназвание — имощаг, имошаг[10]) — народ группы берберов в Мали, Нигере, Буркина-Фасо, Алжире и Ливии.\\n  "
      ]
     },
     "execution_count": 105,
     "metadata": {},
     "output_type": "execute_result"
    }
   ],
   "source": [
    "synset_id = ttest_dev.sample(1).iloc[0].SYNSET_ID\n",
    "print(synset_id)\n",
    "df = ttest_dev[ttest_dev.SYNSET_ID==synset_id]\n",
    "df"
   ]
  },
  {
   "cell_type": "code",
   "execution_count": 106,
   "metadata": {},
   "outputs": [
    {
     "name": "stdout",
     "output_type": "stream",
     "text": [
      "БЕРБЕРЫ | ЭТНИЧЕСКИЕ НАРОДЫ\n",
      "ЭТНИЧЕСКИЕ НАРОДЫ | ЭТНИЧЕСКАЯ ОБЩНОСТЬ\n"
     ]
    }
   ],
   "source": [
    "for pars in df.parents_list:\n",
    "    print(' | '.join([id2synset[p]['@ruthes_name'] for p in pars]))"
   ]
  },
  {
   "cell_type": "code",
   "execution_count": 107,
   "metadata": {},
   "outputs": [
    {
     "name": "stdout",
     "output_type": "stream",
     "text": [
      "ИМОЩАГ , ИМОШАГ [ 10 ] ) — НАРОД ГРУППА БЕРБЕР В МАЛИ , НИГЕР , БУРКИНА-ФАСО , АЛЖИР И ЛИВИЯ .\n"
     ]
    }
   ],
   "source": [
    "defin = prepare_definition(df.definition.iloc[0], first_sentence=True)\n",
    "print(defin)"
   ]
  },
  {
   "cell_type": "code",
   "execution_count": 108,
   "metadata": {},
   "outputs": [],
   "source": [
    "from tqdm.auto import trange, tqdm"
   ]
  },
  {
   "cell_type": "code",
   "execution_count": null,
   "metadata": {},
   "outputs": [],
   "source": []
  },
  {
   "cell_type": "code",
   "execution_count": 159,
   "metadata": {},
   "outputs": [],
   "source": [
    "def extract_hypotheses(dataframe, first_sentence=True):\n",
    "    origins = []\n",
    "    words = []\n",
    "    senses = []\n",
    "    targets = []\n",
    "    features = []\n",
    "\n",
    "    for synset_id in tqdm(set(dataframe.SYNSET_ID)):\n",
    "        df = dataframe[dataframe.SYNSET_ID==synset_id]\n",
    "        defin = prepare_definition(df.definition.iloc[0], first_sentence=first_sentence)\n",
    "        if 'parents_list' in df.columns:\n",
    "            true_values = {v for pars in df.parents_list for v in pars}\n",
    "        else:\n",
    "            true_values = set()\n",
    "        for w, wsenses in word2sense.items():\n",
    "            if w in defin:        \n",
    "                for sense in wsenses:\n",
    "                    origins.append(df.one_text.iloc[0])\n",
    "                    words.append(w)\n",
    "                    senses.append(sense)\n",
    "                    targets.append(sense in true_values)\n",
    "                    features.append({'position': defin.find(w), 'len': len(w), 'n_senses': len(wsenses)})\n",
    "    features = pd.DataFrame.from_records(features)\n",
    "    targets = pd.Series(targets)\n",
    "    return origins, words, senses, features, targets"
   ]
  },
  {
   "cell_type": "code",
   "execution_count": 162,
   "metadata": {},
   "outputs": [
    {
     "data": {
      "application/vnd.jupyter.widget-view+json": {
       "model_id": "caa768ccd7004240b2ef4074da3a1ba8",
       "version_major": 2,
       "version_minor": 0
      },
      "text/plain": [
       "HBox(children=(FloatProgress(value=0.0, max=233.0), HTML(value='')))"
      ]
     },
     "metadata": {},
     "output_type": "display_data"
    },
    {
     "name": "stdout",
     "output_type": "stream",
     "text": [
      "\n",
      "(9663, 3)\n",
      "0.012418503570319777 120\n"
     ]
    }
   ],
   "source": [
    "origins, words, senses, X_dev, y_dev = extract_hypotheses(ttest_dev, first_sentence=False)\n",
    "print(X_dev.shape)\n",
    "print(y_dev.mean(), y_dev.sum())"
   ]
  },
  {
   "cell_type": "code",
   "execution_count": 163,
   "metadata": {},
   "outputs": [],
   "source": [
    "from sklearn.linear_model import LogisticRegression"
   ]
  },
  {
   "cell_type": "code",
   "execution_count": 164,
   "metadata": {},
   "outputs": [
    {
     "name": "stdout",
     "output_type": "stream",
     "text": [
      "[[-0.00867818  0.13265812 -0.42108646]]\n"
     ]
    }
   ],
   "source": [
    "lr = LogisticRegression()\n",
    "lr.fit(X_dev, y_dev);\n",
    "print(lr.coef_)"
   ]
  },
  {
   "cell_type": "code",
   "execution_count": 165,
   "metadata": {},
   "outputs": [
    {
     "data": {
      "application/vnd.jupyter.widget-view+json": {
       "model_id": "0a6b4dde58374b1f8a59e7ddd73e5dc9",
       "version_major": 2,
       "version_minor": 0
      },
      "text/plain": [
       "HBox(children=(FloatProgress(value=0.0, max=249.0), HTML(value='')))"
      ]
     },
     "metadata": {},
     "output_type": "display_data"
    },
    {
     "name": "stdout",
     "output_type": "stream",
     "text": [
      "\n",
      "(10858, 3)\n",
      "0.010130779149014552 110\n"
     ]
    }
   ],
   "source": [
    "origins, words, senses, X_test1, y_test1 = extract_hypotheses(ttest_test1, first_sentence=False)\n",
    "print(X_test1.shape)\n",
    "print(y_test1.mean(), y_test1.sum())"
   ]
  },
  {
   "cell_type": "code",
   "execution_count": 166,
   "metadata": {},
   "outputs": [],
   "source": [
    "scores = lr.predict_proba(X_test1)[:, 1]"
   ]
  },
  {
   "cell_type": "code",
   "execution_count": 167,
   "metadata": {},
   "outputs": [],
   "source": [
    "from sklearn.metrics import roc_auc_score"
   ]
  },
  {
   "cell_type": "code",
   "execution_count": 168,
   "metadata": {},
   "outputs": [
    {
     "name": "stdout",
     "output_type": "stream",
     "text": [
      "0.7124369861623303\n"
     ]
    }
   ],
   "source": [
    "print(roc_auc_score(y_test1, scores)*2-1)"
   ]
  },
  {
   "cell_type": "code",
   "execution_count": 169,
   "metadata": {},
   "outputs": [],
   "source": [
    "scores_df = pd.DataFrame({'origin': origins, 'sense': senses, 'score': scores})"
   ]
  },
  {
   "cell_type": "code",
   "execution_count": 170,
   "metadata": {},
   "outputs": [
    {
     "data": {
      "text/plain": [
       "origin\n",
       "АБСОЛЮТНОСТЬ            [114364-N, 6783-N, 145566-N, 511-N, 119354-N, 4226-N, 146591-N, 106488-N, 107442-N, 121686-N]\n",
       "АВИАДИСПЕТЧЕР               [129838-N, 7003-N, 198-N, 3698-N, 2550-N, 6577-N, 106529-N, 106530-N, 126350-N, 145684-N]\n",
       "АЗАРТ                [120522-N, 106968-N, 106651-N, 4131-N, 140086-N, 5641-N, 110249-N, 106660-N, 126367-N, 120999-N]\n",
       "АЙМАРА           [105048-N, 101422-N, 109776-N, 105137-N, 104707-N, 107581-N, 103506-N, 100070-N, 126820-N, 148389-N]\n",
       "АКСАЙ                    [7472-N, 8765-N, 110872-N, 9019-N, 114364-N, 3264-N, 107257-N, 100022-N, 138562-N, 108669-N]\n",
       "                                                                 ...                                                 \n",
       "ШАШКА                                                                                    [114364-N, 107257-N, 3264-N]\n",
       "ЩАВЕЛЬ                    [6862-N, 134162-N, 4339-N, 127599-N, 761-N, 121049-N, 107445-N, 4339-N, 109156-N, 148327-N]\n",
       "ЭЛЕКТРОЛИЗ                  [6052-N, 111680-N, 106509-N, 5497-N, 2102-N, 123480-N, 135044-N, 2458-N, 820-N, 112863-N]\n",
       "ЭПИДЕМИОЛОГ            [1059-N, 46-N, 106477-N, 106455-N, 132155-N, 128241-N, 120841-N, 119127-N, 119125-N, 109776-N]\n",
       "ЯКОРЬ                 [119921-N, 139509-N, 100270-N, 208-N, 110284-N, 110486-N, 109776-N, 8728-N, 126792-N, 106559-N]\n",
       "Length: 165, dtype: object"
      ]
     },
     "execution_count": 170,
     "metadata": {},
     "output_type": "execute_result"
    }
   ],
   "source": [
    "hypos_ranked_df = scores_df.groupby('origin').apply(lambda x: x.sort_values('score', ascending=False).sense.head(10).tolist())\n",
    "hypos_ranked_df"
   ]
  },
  {
   "cell_type": "code",
   "execution_count": 171,
   "metadata": {},
   "outputs": [],
   "source": [
    "small_hypos = hypos_ranked_df.values.tolist()\n",
    "texts = hypos_ranked_df.index.tolist()"
   ]
  },
  {
   "cell_type": "markdown",
   "metadata": {},
   "source": [
    "Что ж, на бейзлайне мы получили качество 14.67%[31%|47%] (против тех 25%, что у меня на лидерборде). \n",
    "\n",
    "Если брать целый текст, то будет 14.2%[35%|40%]\n",
    "\n",
    "Есть куда расти, конечно. Но уже очень впечатляет!"
   ]
  },
  {
   "cell_type": "code",
   "execution_count": 172,
   "metadata": {},
   "outputs": [
    {
     "name": "stdout",
     "output_type": "stream",
     "text": [
      "0.14201018117684783\n",
      "0.3515151515151515\n",
      "0.4039944809341361\n"
     ]
    },
    {
     "data": {
      "text/plain": [
       "count    165.000000\n",
       "mean       0.142010\n",
       "std        0.267568\n",
       "min        0.000000\n",
       "25%        0.000000\n",
       "50%        0.000000\n",
       "75%        0.166667\n",
       "max        1.000000\n",
       "dtype: float64"
      ]
     },
     "execution_count": 172,
     "metadata": {},
     "output_type": "execute_result"
    }
   ],
   "source": [
    "aps, _ = evaluate_mine(small_hypos, texts, ttest_test1)\n",
    "print(aps.mean())\n",
    "print((aps>0).mean())\n",
    "print(aps[aps>0].mean())\n",
    "aps.describe()"
   ]
  },
  {
   "cell_type": "markdown",
   "metadata": {},
   "source": [
    "А что будет, если мы научимся ранжировать гипотезы идеально? Какая максимальная капасити самой матчилки-по-вхождению-строки?\n",
    "\n",
    "Что оказывается:\n",
    "* Скор 33% для первого предложения / 40% для абзаца  - это меньше, чем у лидера лидерборда, но дохуя больше, чем я выдаю сейчас\n",
    "* При этом хоть один верный родитель извлекается в 38% (из первого предложения) / 44% (из первого абзаца) случаев.\n",
    "* Если хоть один верный родитель извлёкся, то 90% родителей извлеклись!"
   ]
  },
  {
   "cell_type": "code",
   "execution_count": 173,
   "metadata": {},
   "outputs": [
    {
     "name": "stdout",
     "output_type": "stream",
     "text": [
      "0.39898989898989895\n",
      "0.44242424242424244\n",
      "0.9018264840182649\n"
     ]
    },
    {
     "data": {
      "text/plain": [
       "count    165.000000\n",
       "mean       0.398990\n",
       "std        0.468412\n",
       "min        0.000000\n",
       "25%        0.000000\n",
       "50%        0.000000\n",
       "75%        1.000000\n",
       "max        1.000000\n",
       "dtype: float64"
      ]
     },
     "execution_count": 173,
     "metadata": {},
     "output_type": "execute_result"
    }
   ],
   "source": [
    "scores_df = pd.DataFrame({'origin': origins, 'sense': senses, 'score': y_test1})\n",
    "hypos_ranked_df = scores_df.groupby('origin').apply(lambda x: x.sort_values('score', ascending=False).sense.head(10).tolist())\n",
    "small_hypos = hypos_ranked_df.values.tolist()\n",
    "texts = hypos_ranked_df.index.tolist()\n",
    "\n",
    "aps, _ = evaluate_mine(small_hypos, texts, ttest_test1)\n",
    "print(aps.mean())\n",
    "print((aps>0).mean())\n",
    "print(aps[aps>0].mean())\n",
    "aps.describe()"
   ]
  },
  {
   "cell_type": "code",
   "execution_count": null,
   "metadata": {},
   "outputs": [],
   "source": []
  }
 ],
 "metadata": {
  "kernelspec": {
   "display_name": "Python 3",
   "language": "python",
   "name": "python3"
  },
  "language_info": {
   "codemirror_mode": {
    "name": "ipython",
    "version": 3
   },
   "file_extension": ".py",
   "mimetype": "text/x-python",
   "name": "python",
   "nbconvert_exporter": "python",
   "pygments_lexer": "ipython3",
   "version": "3.6.8"
  }
 },
 "nbformat": 4,
 "nbformat_minor": 2
}
