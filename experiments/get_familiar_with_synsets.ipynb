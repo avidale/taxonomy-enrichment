{
 "cells": [
  {
   "cell_type": "code",
   "execution_count": 1,
   "metadata": {},
   "outputs": [],
   "source": [
    "import xmltodict\n",
    "import os\n",
    "import pandas as pd\n",
    "import numpy as np"
   ]
  },
  {
   "cell_type": "markdown",
   "metadata": {},
   "source": [
    "Скоры на моём тесте и на публичном:\n",
    "```\n",
    "* 0.005482 --> 0.0137 (линрег)\n",
    "* 0.067141 --> 0.0611 (knn)\n",
    "```\n",
    "Следующий шаг\n",
    "* положить в knn не по одному слову из синсета, а все (хотя бы - разделённые через запятую), чтобы обогатить пространство соседей. \n",
    "* попробовать выкачать другую модель, с бОльшим количеством слов"
   ]
  },
  {
   "cell_type": "markdown",
   "metadata": {},
   "source": [
    "# Данные"
   ]
  },
  {
   "cell_type": "code",
   "execution_count": 2,
   "metadata": {},
   "outputs": [],
   "source": [
    "repo_root = '..'"
   ]
  },
  {
   "cell_type": "code",
   "execution_count": 3,
   "metadata": {},
   "outputs": [],
   "source": [
    "with open('../data/ruwordnet/synsets.N.xml', 'r', encoding='utf-8') as f:\n",
    "    synsets_n_raw = xmltodict.parse(f.read(), process_namespaces=True)"
   ]
  },
  {
   "cell_type": "code",
   "execution_count": 4,
   "metadata": {},
   "outputs": [],
   "source": [
    "with open('../data/ruwordnet/synset_relations.N.xml', 'r', encoding='utf-8') as f:\n",
    "    rel_n_raw = xmltodict.parse(f.read(), process_namespaces=True)"
   ]
  },
  {
   "cell_type": "code",
   "execution_count": 5,
   "metadata": {},
   "outputs": [],
   "source": [
    "id2synset = {v['@id']: v for v in synsets_n_raw['synsets']['synset']}"
   ]
  },
  {
   "cell_type": "code",
   "execution_count": 6,
   "metadata": {},
   "outputs": [],
   "source": [
    "rel_df = pd.DataFrame(rel_n_raw['relations']['relation'])"
   ]
  },
  {
   "cell_type": "markdown",
   "metadata": {},
   "source": [
    "* гиперним - parent частный случай от child \n",
    "* гипоним - child более общий, чем parent\n",
    "* domain - parent относится к теме child\n",
    "* POS-synonymy - parent и child из разных частей речи\n",
    "* part holonym - parent является частью child\n",
    "* part meronym - parent является надсистемой child\n",
    "* instance hypernym - parent является одним из элементов, множество которых есть child\n",
    "* instance hyponym - parent является множеством, включающим в себя child. \n",
    "* antonym - противоположности (части речи выглядят покоцанными)\n",
    "\n",
    "Все свойства строго симметричны (кроме POS-synonymy, которая тоже симметрична, но распределена между разными файлами)"
   ]
  },
  {
   "cell_type": "code",
   "execution_count": 7,
   "metadata": {},
   "outputs": [],
   "source": [
    "rel_df['parent'] = rel_df['@parent_id'].apply(lambda x: id2synset[x]['@ruthes_name'])\n",
    "rel_df['child'] = rel_df['@child_id'].apply(lambda x: id2synset.get(x, {}).get('@ruthes_name'))"
   ]
  },
  {
   "cell_type": "code",
   "execution_count": 8,
   "metadata": {},
   "outputs": [
    {
     "data": {
      "text/plain": [
       "hyponym              37249\n",
       "hypernym             37249\n",
       "domain               27339\n",
       "POS-synonymy         18137\n",
       "part holonym          3448\n",
       "part meronym          3448\n",
       "instance hyponym      1861\n",
       "instance hypernym     1861\n",
       "antonym                442\n",
       "Name: @name, dtype: int64"
      ]
     },
     "execution_count": 8,
     "metadata": {},
     "output_type": "execute_result"
    }
   ],
   "source": [
    "rel_df['@name'].value_counts()"
   ]
  },
  {
   "cell_type": "code",
   "execution_count": 9,
   "metadata": {},
   "outputs": [
    {
     "data": {
      "text/html": [
       "<div>\n",
       "<style scoped>\n",
       "    .dataframe tbody tr th:only-of-type {\n",
       "        vertical-align: middle;\n",
       "    }\n",
       "\n",
       "    .dataframe tbody tr th {\n",
       "        vertical-align: top;\n",
       "    }\n",
       "\n",
       "    .dataframe thead th {\n",
       "        text-align: right;\n",
       "    }\n",
       "</style>\n",
       "<table border=\"1\" class=\"dataframe\">\n",
       "  <thead>\n",
       "    <tr style=\"text-align: right;\">\n",
       "      <th></th>\n",
       "      <th>@parent_id</th>\n",
       "      <th>@child_id</th>\n",
       "      <th>@name</th>\n",
       "      <th>parent</th>\n",
       "      <th>child</th>\n",
       "    </tr>\n",
       "  </thead>\n",
       "  <tbody>\n",
       "    <tr>\n",
       "      <th>50369</th>\n",
       "      <td>4068-N</td>\n",
       "      <td>6976-N</td>\n",
       "      <td>hyponym</td>\n",
       "      <td>ГОСУДАРСТВЕННАЯ ФИНАНСОВАЯ ПОДДЕРЖКА</td>\n",
       "      <td>ГОСУДАРСТВЕННОЕ ФИНАНСИРОВАНИЕ</td>\n",
       "    </tr>\n",
       "    <tr>\n",
       "      <th>51261</th>\n",
       "      <td>115964-N</td>\n",
       "      <td>115966-N</td>\n",
       "      <td>hyponym</td>\n",
       "      <td>ВТЕРЕТЬ</td>\n",
       "      <td>НАТЕРЕТЬ ПОВЕРХНОСТЬ</td>\n",
       "    </tr>\n",
       "    <tr>\n",
       "      <th>85138</th>\n",
       "      <td>106817-N</td>\n",
       "      <td>113648-N</td>\n",
       "      <td>hyponym</td>\n",
       "      <td>ПРИНУДИТЬ, ЗАСТАВИТЬ</td>\n",
       "      <td>ГАШЕНИЕ ОГНЯ</td>\n",
       "    </tr>\n",
       "    <tr>\n",
       "      <th>39061</th>\n",
       "      <td>7670-N</td>\n",
       "      <td>4071-N</td>\n",
       "      <td>hyponym</td>\n",
       "      <td>ОБЩАЯ СОБСТВЕННОСТЬ</td>\n",
       "      <td>ДОЛЕВАЯ СОБСТВЕННОСТЬ</td>\n",
       "    </tr>\n",
       "    <tr>\n",
       "      <th>91255</th>\n",
       "      <td>257-N</td>\n",
       "      <td>9221-N</td>\n",
       "      <td>hyponym</td>\n",
       "      <td>АРЕНДНАЯ ПЛАТА</td>\n",
       "      <td>ФРАХТОВЫЙ ПЛАТЕЖ</td>\n",
       "    </tr>\n",
       "    <tr>\n",
       "      <th>16364</th>\n",
       "      <td>106846-N</td>\n",
       "      <td>110163-N</td>\n",
       "      <td>hyponym</td>\n",
       "      <td>ВАРИАНТ, РАЗНОВИДНОСТЬ</td>\n",
       "      <td>ЛЕКАРСТВЕННАЯ ФОРМА</td>\n",
       "    </tr>\n",
       "    <tr>\n",
       "      <th>109599</th>\n",
       "      <td>4773-N</td>\n",
       "      <td>146942-N</td>\n",
       "      <td>hyponym</td>\n",
       "      <td>ЖИТЕЛЬ ГОРОДА</td>\n",
       "      <td>ТОКИЙЦЫ</td>\n",
       "    </tr>\n",
       "    <tr>\n",
       "      <th>117624</th>\n",
       "      <td>123397-N</td>\n",
       "      <td>125213-N</td>\n",
       "      <td>hyponym</td>\n",
       "      <td>ШАЛУН</td>\n",
       "      <td>БЕЗОБРАЗНИК, ШКОДНИК</td>\n",
       "    </tr>\n",
       "    <tr>\n",
       "      <th>11113</th>\n",
       "      <td>115387-N</td>\n",
       "      <td>119685-N</td>\n",
       "      <td>hyponym</td>\n",
       "      <td>РАЗЛИЧНЫЙ, РАЗНООБРАЗНЫЙ</td>\n",
       "      <td>МНОГООБРАЗНЫЙ</td>\n",
       "    </tr>\n",
       "    <tr>\n",
       "      <th>62723</th>\n",
       "      <td>207-N</td>\n",
       "      <td>104055-N</td>\n",
       "      <td>hyponym</td>\n",
       "      <td>ПОРТ</td>\n",
       "      <td>АЛИКАНТЕ</td>\n",
       "    </tr>\n",
       "  </tbody>\n",
       "</table>\n",
       "</div>"
      ],
      "text/plain": [
       "       @parent_id @child_id    @name                                parent  \\\n",
       "50369      4068-N    6976-N  hyponym  ГОСУДАРСТВЕННАЯ ФИНАНСОВАЯ ПОДДЕРЖКА   \n",
       "51261    115964-N  115966-N  hyponym                               ВТЕРЕТЬ   \n",
       "85138    106817-N  113648-N  hyponym                  ПРИНУДИТЬ, ЗАСТАВИТЬ   \n",
       "39061      7670-N    4071-N  hyponym                   ОБЩАЯ СОБСТВЕННОСТЬ   \n",
       "91255       257-N    9221-N  hyponym                        АРЕНДНАЯ ПЛАТА   \n",
       "16364    106846-N  110163-N  hyponym                ВАРИАНТ, РАЗНОВИДНОСТЬ   \n",
       "109599     4773-N  146942-N  hyponym                         ЖИТЕЛЬ ГОРОДА   \n",
       "117624   123397-N  125213-N  hyponym                                 ШАЛУН   \n",
       "11113    115387-N  119685-N  hyponym              РАЗЛИЧНЫЙ, РАЗНООБРАЗНЫЙ   \n",
       "62723       207-N  104055-N  hyponym                                  ПОРТ   \n",
       "\n",
       "                                 child  \n",
       "50369   ГОСУДАРСТВЕННОЕ ФИНАНСИРОВАНИЕ  \n",
       "51261             НАТЕРЕТЬ ПОВЕРХНОСТЬ  \n",
       "85138                     ГАШЕНИЕ ОГНЯ  \n",
       "39061            ДОЛЕВАЯ СОБСТВЕННОСТЬ  \n",
       "91255                 ФРАХТОВЫЙ ПЛАТЕЖ  \n",
       "16364              ЛЕКАРСТВЕННАЯ ФОРМА  \n",
       "109599                         ТОКИЙЦЫ  \n",
       "117624            БЕЗОБРАЗНИК, ШКОДНИК  \n",
       "11113                    МНОГООБРАЗНЫЙ  \n",
       "62723                         АЛИКАНТЕ  "
      ]
     },
     "execution_count": 9,
     "metadata": {},
     "output_type": "execute_result"
    }
   ],
   "source": [
    "rel_df[rel_df['@name']=='hyponym'].sample(10)"
   ]
  },
  {
   "cell_type": "code",
   "execution_count": 10,
   "metadata": {},
   "outputs": [
    {
     "data": {
      "text/plain": [
       "OrderedDict([('@parent_id', '5417-N'),\n",
       "             ('@child_id', '2921-N'),\n",
       "             ('@name', 'domain')])"
      ]
     },
     "execution_count": 10,
     "metadata": {},
     "output_type": "execute_result"
    }
   ],
   "source": [
    "rel_n_raw['relations']['relation'][10000]"
   ]
  },
  {
   "cell_type": "code",
   "execution_count": 11,
   "metadata": {},
   "outputs": [
    {
     "data": {
      "text/plain": [
       "OrderedDict([('@id', '7793-N'),\n",
       "             ('@ruthes_name', 'ПОДВЕДОМСТВЕННОСТЬ СУДАМ'),\n",
       "             ('@definition', ''),\n",
       "             ('@part_of_speech', 'N'),\n",
       "             ('sense',\n",
       "              [OrderedDict([('@id', '7793-N-109004'),\n",
       "                            ('#text', 'ПОДВЕДОМСТВЕННОСТЬ')]),\n",
       "               OrderedDict([('@id', '7793-N-208651'),\n",
       "                            ('#text', 'ПОДВЕДОМСТВЕННОСТЬ СУД')]),\n",
       "               OrderedDict([('@id', '7793-N-208650'),\n",
       "                            ('#text', 'ПОДВЕДОМСТВЕННОСТЬ ДЕЛО')]),\n",
       "               OrderedDict([('@id', '7793-N-215552'),\n",
       "                            ('#text', 'СУДЕБНЫЙ ПОДВЕДОМСТВЕННОСТЬ')]),\n",
       "               OrderedDict([('@id', '7793-N-118387'),\n",
       "                            ('#text', 'СУДЕБНЫЙ ЮРИСДИКЦИЯ')]),\n",
       "               OrderedDict([('@id', '7793-N-215553'),\n",
       "                            ('#text', 'ЮРИСДИКЦИЯ СУД')]),\n",
       "               OrderedDict([('@id', '7793-N-210822'),\n",
       "                            ('#text', 'НЕПОДВЕДОМСТВЕННОСТЬ')])])])"
      ]
     },
     "execution_count": 11,
     "metadata": {},
     "output_type": "execute_result"
    }
   ],
   "source": [
    "synsets_n_raw['synsets']['synset'][10]"
   ]
  },
  {
   "cell_type": "code",
   "execution_count": null,
   "metadata": {},
   "outputs": [],
   "source": []
  },
  {
   "cell_type": "code",
   "execution_count": 16,
   "metadata": {},
   "outputs": [],
   "source": [
    "train_n = pd.read_csv('../data/training_data/training_nouns.tsv', sep='\\t', encoding='utf-8')\n",
    "train_n['parents_list'] = train_n.PARENTS.apply(lambda x: x.split(','))"
   ]
  },
  {
   "cell_type": "code",
   "execution_count": 17,
   "metadata": {},
   "outputs": [
    {
     "data": {
      "text/plain": [
       "29296"
      ]
     },
     "execution_count": 17,
     "metadata": {},
     "output_type": "execute_result"
    }
   ],
   "source": [
    "len(id2synset)"
   ]
  },
  {
   "cell_type": "code",
   "execution_count": 18,
   "metadata": {},
   "outputs": [
    {
     "data": {
      "text/html": [
       "<div>\n",
       "<style scoped>\n",
       "    .dataframe tbody tr th:only-of-type {\n",
       "        vertical-align: middle;\n",
       "    }\n",
       "\n",
       "    .dataframe tbody tr th {\n",
       "        vertical-align: top;\n",
       "    }\n",
       "\n",
       "    .dataframe thead th {\n",
       "        text-align: right;\n",
       "    }\n",
       "</style>\n",
       "<table border=\"1\" class=\"dataframe\">\n",
       "  <thead>\n",
       "    <tr style=\"text-align: right;\">\n",
       "      <th></th>\n",
       "      <th>SYNSET_ID</th>\n",
       "      <th>TEXT</th>\n",
       "      <th>PARENTS</th>\n",
       "      <th>DEFINITION</th>\n",
       "      <th>parents_list</th>\n",
       "    </tr>\n",
       "  </thead>\n",
       "  <tbody>\n",
       "    <tr>\n",
       "      <th>8070</th>\n",
       "      <td>145491-N</td>\n",
       "      <td>ОРДЕР</td>\n",
       "      <td>128056-N,2525-N</td>\n",
       "      <td>в античности — архитектурный стиль, определяем...</td>\n",
       "      <td>[128056-N, 2525-N]</td>\n",
       "    </tr>\n",
       "    <tr>\n",
       "      <th>1172</th>\n",
       "      <td>136126-N</td>\n",
       "      <td>БИОГАЗ</td>\n",
       "      <td>150-N,461-N,133238-N</td>\n",
       "      <td>NaN</td>\n",
       "      <td>[150-N, 461-N, 133238-N]</td>\n",
       "    </tr>\n",
       "    <tr>\n",
       "      <th>6981</th>\n",
       "      <td>114822-N</td>\n",
       "      <td>СВИНЦОВОСТЬ</td>\n",
       "      <td>109487-N,106944-N</td>\n",
       "      <td>цветом напоминающий свинец; тёмно-серый</td>\n",
       "      <td>[109487-N, 106944-N]</td>\n",
       "    </tr>\n",
       "    <tr>\n",
       "      <th>14267</th>\n",
       "      <td>137378-N</td>\n",
       "      <td>ВПИСЫВАНИЕ</td>\n",
       "      <td>150090-N,111625-N</td>\n",
       "      <td>чертить одну фигуру внутри другой, так, чтобы ...</td>\n",
       "      <td>[150090-N, 111625-N]</td>\n",
       "    </tr>\n",
       "    <tr>\n",
       "      <th>4936</th>\n",
       "      <td>112021-N</td>\n",
       "      <td>БЕНЕФИС</td>\n",
       "      <td>144510-N,3237-N,112022-N</td>\n",
       "      <td>NaN</td>\n",
       "      <td>[144510-N, 3237-N, 112022-N]</td>\n",
       "    </tr>\n",
       "    <tr>\n",
       "      <th>11411</th>\n",
       "      <td>153504-N</td>\n",
       "      <td>СТАФФОРД,АМСТАФФ</td>\n",
       "      <td>108524-N,7678-N</td>\n",
       "      <td>NaN</td>\n",
       "      <td>[108524-N, 7678-N]</td>\n",
       "    </tr>\n",
       "    <tr>\n",
       "      <th>13276</th>\n",
       "      <td>127489-N</td>\n",
       "      <td>ПЕРЕКАТ</td>\n",
       "      <td>148413-N,106611-N</td>\n",
       "      <td>NaN</td>\n",
       "      <td>[148413-N, 106611-N]</td>\n",
       "    </tr>\n",
       "    <tr>\n",
       "      <th>131</th>\n",
       "      <td>112747-N</td>\n",
       "      <td>ПРОРУБКА,ВЫРУБАНИЕ,ВЫРУБКА,ПРОРУБАНИЕ,ПРОСЕКАН...</td>\n",
       "      <td>112429-N,111853-N</td>\n",
       "      <td>делать отверстие, нарушать целость ударом чего...</td>\n",
       "      <td>[112429-N, 111853-N]</td>\n",
       "    </tr>\n",
       "    <tr>\n",
       "      <th>1249</th>\n",
       "      <td>114955-N</td>\n",
       "      <td>МЕТРО</td>\n",
       "      <td>3405-N,2525-N</td>\n",
       "      <td>NaN</td>\n",
       "      <td>[3405-N, 2525-N]</td>\n",
       "    </tr>\n",
       "    <tr>\n",
       "      <th>2808</th>\n",
       "      <td>144882-N</td>\n",
       "      <td>ИЗОЛЕНТА</td>\n",
       "      <td>133840-N,2409-N</td>\n",
       "      <td>NaN</td>\n",
       "      <td>[133840-N, 2409-N]</td>\n",
       "    </tr>\n",
       "  </tbody>\n",
       "</table>\n",
       "</div>"
      ],
      "text/plain": [
       "      SYNSET_ID                                               TEXT  \\\n",
       "8070   145491-N                                              ОРДЕР   \n",
       "1172   136126-N                                             БИОГАЗ   \n",
       "6981   114822-N                                        СВИНЦОВОСТЬ   \n",
       "14267  137378-N                                         ВПИСЫВАНИЕ   \n",
       "4936   112021-N                                            БЕНЕФИС   \n",
       "11411  153504-N                                   СТАФФОРД,АМСТАФФ   \n",
       "13276  127489-N                                            ПЕРЕКАТ   \n",
       "131    112747-N  ПРОРУБКА,ВЫРУБАНИЕ,ВЫРУБКА,ПРОРУБАНИЕ,ПРОСЕКАН...   \n",
       "1249   114955-N                                              МЕТРО   \n",
       "2808   144882-N                                           ИЗОЛЕНТА   \n",
       "\n",
       "                        PARENTS  \\\n",
       "8070            128056-N,2525-N   \n",
       "1172       150-N,461-N,133238-N   \n",
       "6981          109487-N,106944-N   \n",
       "14267         150090-N,111625-N   \n",
       "4936   144510-N,3237-N,112022-N   \n",
       "11411           108524-N,7678-N   \n",
       "13276         148413-N,106611-N   \n",
       "131           112429-N,111853-N   \n",
       "1249              3405-N,2525-N   \n",
       "2808            133840-N,2409-N   \n",
       "\n",
       "                                              DEFINITION  \\\n",
       "8070   в античности — архитектурный стиль, определяем...   \n",
       "1172                                                 NaN   \n",
       "6981             цветом напоминающий свинец; тёмно-серый   \n",
       "14267  чертить одну фигуру внутри другой, так, чтобы ...   \n",
       "4936                                                 NaN   \n",
       "11411                                                NaN   \n",
       "13276                                                NaN   \n",
       "131    делать отверстие, нарушать целость ударом чего...   \n",
       "1249                                                 NaN   \n",
       "2808                                                 NaN   \n",
       "\n",
       "                       parents_list  \n",
       "8070             [128056-N, 2525-N]  \n",
       "1172       [150-N, 461-N, 133238-N]  \n",
       "6981           [109487-N, 106944-N]  \n",
       "14267          [150090-N, 111625-N]  \n",
       "4936   [144510-N, 3237-N, 112022-N]  \n",
       "11411            [108524-N, 7678-N]  \n",
       "13276          [148413-N, 106611-N]  \n",
       "131            [112429-N, 111853-N]  \n",
       "1249               [3405-N, 2525-N]  \n",
       "2808             [133840-N, 2409-N]  "
      ]
     },
     "execution_count": 18,
     "metadata": {},
     "output_type": "execute_result"
    }
   ],
   "source": [
    "train_n.sample(10)"
   ]
  },
  {
   "cell_type": "code",
   "execution_count": 22,
   "metadata": {},
   "outputs": [
    {
     "data": {
      "text/plain": [
       "OrderedDict([('@id', '153504-N'),\n",
       "             ('@ruthes_name', 'СТАФФОРДШИРСКИЙ ТЕРЬЕР'),\n",
       "             ('@definition', ''),\n",
       "             ('@part_of_speech', 'N'),\n",
       "             ('sense',\n",
       "              [OrderedDict([('@id', '153504-N-749257'),\n",
       "                            ('#text', 'СТАФФОРДСКИЙ ТЕРЬЕР')]),\n",
       "               OrderedDict([('@id', '153504-N-749256'),\n",
       "                            ('#text', 'СТАФФОРДШИРСКИЙ ТЕРЬЕР')]),\n",
       "               OrderedDict([('@id', '153504-N-749259'),\n",
       "                            ('#text', 'АМЕРИКАНСКИЙ СТАФФОРДШИРСКИЙ ТЕРЬЕР')]),\n",
       "               OrderedDict([('@id', '153504-N-128529'),\n",
       "                            ('#text', 'СТАФФОРД')]),\n",
       "               OrderedDict([('@id', '153504-N-749258'),\n",
       "                            ('#text', 'АМСТАФФ')])])])"
      ]
     },
     "execution_count": 22,
     "metadata": {},
     "output_type": "execute_result"
    }
   ],
   "source": [
    "id2synset['153504-N']"
   ]
  },
  {
   "cell_type": "markdown",
   "metadata": {},
   "source": [
    "Все слова из обучающей выборки содержатся и в исходном тезаурусе. Гут. И все родители - тоже. "
   ]
  },
  {
   "cell_type": "code",
   "execution_count": 24,
   "metadata": {},
   "outputs": [
    {
     "data": {
      "text/plain": [
       "(12393, 0)"
      ]
     },
     "execution_count": 24,
     "metadata": {},
     "output_type": "execute_result"
    }
   ],
   "source": [
    "len(set(train_n.SYNSET_ID)), len(set(train_n.SYNSET_ID).difference(set(id2synset.keys())))"
   ]
  },
  {
   "cell_type": "code",
   "execution_count": 25,
   "metadata": {},
   "outputs": [
    {
     "data": {
      "text/plain": [
       "(8164, 0)"
      ]
     },
     "execution_count": 25,
     "metadata": {},
     "output_type": "execute_result"
    }
   ],
   "source": [
    "all_parents = {p for pl in train_n.parents_list for p in pl}\n",
    "len(all_parents), len(all_parents.difference(set(id2synset.keys())))"
   ]
  },
  {
   "cell_type": "code",
   "execution_count": 26,
   "metadata": {},
   "outputs": [
    {
     "data": {
      "text/plain": [
       "count    16790.000000\n",
       "mean         2.355152\n",
       "std          0.555096\n",
       "min          1.000000\n",
       "25%          2.000000\n",
       "50%          2.000000\n",
       "75%          3.000000\n",
       "max          5.000000\n",
       "Name: parents_list, dtype: float64"
      ]
     },
     "execution_count": 26,
     "metadata": {},
     "output_type": "execute_result"
    }
   ],
   "source": [
    "train_n.parents_list.apply(len).describe()"
   ]
  },
  {
   "cell_type": "code",
   "execution_count": 27,
   "metadata": {},
   "outputs": [
    {
     "data": {
      "text/plain": [
       "OrderedDict([('@id', '146-N'),\n",
       "             ('@ruthes_name', 'НЕФТЕПРОДУКТ'),\n",
       "             ('@definition', 'продукт переработки нефти'),\n",
       "             ('@part_of_speech', 'N'),\n",
       "             ('sense',\n",
       "              [OrderedDict([('@id', '146-N-182579'),\n",
       "                            ('#text', 'ПРОДУКЦИЯ НЕФТЕХИМИЧЕСКИЙ КОМПЛЕКС')]),\n",
       "               OrderedDict([('@id', '146-N-124154'),\n",
       "                            ('#text', 'НЕФТЕНАЛИВНОЙ ГРУЗ')]),\n",
       "               OrderedDict([('@id', '146-N-182580'),\n",
       "                            ('#text', 'ПРОДУКЦИЯ НЕФТЕПЕРЕРАБОТКА')]),\n",
       "               OrderedDict([('@id', '146-N-107631'),\n",
       "                            ('#text', 'НЕФТЕПРОДУКТ')]),\n",
       "               OrderedDict([('@id', '146-N-109923'),\n",
       "                            ('#text', 'ПРОДУКТ НЕФТЕПЕРЕРАБОТКА')]),\n",
       "               OrderedDict([('@id', '146-N-117243'),\n",
       "                            ('#text', 'НЕФТЯНОЙ ПРОДУКТ')])])])"
      ]
     },
     "execution_count": 27,
     "metadata": {},
     "output_type": "execute_result"
    }
   ],
   "source": [
    "id2synset['146-N']"
   ]
  },
  {
   "cell_type": "code",
   "execution_count": 28,
   "metadata": {},
   "outputs": [
    {
     "data": {
      "text/plain": [
       "OrderedDict([('@id', '8998-N'),\n",
       "             ('@ruthes_name', 'УГЛЕВОДОРОД'),\n",
       "             ('@definition',\n",
       "              'органическое соединение, молекула которого состоит только из атомов углерода и водорода'),\n",
       "             ('@part_of_speech', 'N'),\n",
       "             ('sense',\n",
       "              OrderedDict([('@id', '8998-N-117378'),\n",
       "                           ('#text', 'УГЛЕВОДОРОД')]))])"
      ]
     },
     "execution_count": 28,
     "metadata": {},
     "output_type": "execute_result"
    }
   ],
   "source": [
    "id2synset['8998-N']"
   ]
  },
  {
   "cell_type": "code",
   "execution_count": 29,
   "metadata": {},
   "outputs": [
    {
     "data": {
      "text/plain": [
       "OrderedDict([('@id', '133238-N'),\n",
       "             ('@ruthes_name', 'ОРГАНИЧЕСКОЕ ТОПЛИВО'),\n",
       "             ('@definition', ''),\n",
       "             ('@part_of_speech', 'N'),\n",
       "             ('sense',\n",
       "              [OrderedDict([('@id', '133238-N-187338'),\n",
       "                            ('#text', 'ОРГАНИЧЕСКИЙ ТОПЛИВО')]),\n",
       "               OrderedDict([('@id', '133238-N-691213'),\n",
       "                            ('#text', 'ОРГАНИЧЕСКИЙ ГОРЮЧЕЕ')])])])"
      ]
     },
     "execution_count": 29,
     "metadata": {},
     "output_type": "execute_result"
    }
   ],
   "source": [
    "id2synset['133238-N']"
   ]
  },
  {
   "cell_type": "code",
   "execution_count": 30,
   "metadata": {},
   "outputs": [
    {
     "data": {
      "text/plain": [
       "OrderedDict([('@id', '56-N'),\n",
       "             ('@ruthes_name', 'ПРОМЫШЛЕННАЯ ПРОДУКЦИЯ'),\n",
       "             ('@definition', ''),\n",
       "             ('@part_of_speech', 'N'),\n",
       "             ('sense',\n",
       "              [OrderedDict([('@id', '56-N-110034'),\n",
       "                            ('#text', 'ПРОМЫШЛЕННЫЙ ПРОДУКЦИЯ')]),\n",
       "               OrderedDict([('@id', '56-N-110039'),\n",
       "                            ('#text', 'ПРОМЫШЛЕННЫЙ ИЗДЕЛИЕ')]),\n",
       "               OrderedDict([('@id', '56-N-120875'),\n",
       "                            ('#text', 'ПРОМЫШЛЕННЫЙ ПРОДУКТ')]),\n",
       "               OrderedDict([('@id', '56-N-722047'),\n",
       "                            ('#text', 'ФАБРИЧНЫЙ ПРОДУКЦИЯ')]),\n",
       "               OrderedDict([('@id', '56-N-103811'),\n",
       "                            ('#text', 'ПРОДУКЦИЯ ПРОМЫШЛЕННОСТЬ')]),\n",
       "               OrderedDict([('@id', '56-N-109931'),\n",
       "                            ('#text',\n",
       "                             'ПРОДУКЦИЯ ПРОМЫШЛЕННЫЙ ПРЕДПРИЯТИЕ')])])])"
      ]
     },
     "execution_count": 30,
     "metadata": {},
     "output_type": "execute_result"
    }
   ],
   "source": [
    "id2synset['56-N']"
   ]
  },
  {
   "cell_type": "markdown",
   "metadata": {},
   "source": [
    "Например: МАЗУТ вообще не входит в нашу таксономию, но вот зато он есть в обучающей выборке. "
   ]
  },
  {
   "cell_type": "code",
   "execution_count": 31,
   "metadata": {},
   "outputs": [
    {
     "data": {
      "text/plain": [
       "OrderedDict([('@id', '147-N'),\n",
       "             ('@ruthes_name', 'МАЗУТ'),\n",
       "             ('@definition', ''),\n",
       "             ('@part_of_speech', 'N'),\n",
       "             ('sense',\n",
       "              [OrderedDict([('@id', '147-N-217729'),\n",
       "                            ('#text', 'ОСТАТОЧНЫЙ НЕФТЕПРОДУКТ')]),\n",
       "               OrderedDict([('@id', '147-N-217730'),\n",
       "                            ('#text', 'НЕФТЯНОЙ ОСТАТОК')]),\n",
       "               OrderedDict([('@id', '147-N-106087'), ('#text', 'МАЗУТ')])])])"
      ]
     },
     "execution_count": 31,
     "metadata": {},
     "output_type": "execute_result"
    }
   ],
   "source": [
    "id2synset['147-N']"
   ]
  },
  {
   "cell_type": "code",
   "execution_count": 32,
   "metadata": {},
   "outputs": [
    {
     "data": {
      "text/html": [
       "<div>\n",
       "<style scoped>\n",
       "    .dataframe tbody tr th:only-of-type {\n",
       "        vertical-align: middle;\n",
       "    }\n",
       "\n",
       "    .dataframe tbody tr th {\n",
       "        vertical-align: top;\n",
       "    }\n",
       "\n",
       "    .dataframe thead th {\n",
       "        text-align: right;\n",
       "    }\n",
       "</style>\n",
       "<table border=\"1\" class=\"dataframe\">\n",
       "  <thead>\n",
       "    <tr style=\"text-align: right;\">\n",
       "      <th></th>\n",
       "      <th>@parent_id</th>\n",
       "      <th>@child_id</th>\n",
       "      <th>@name</th>\n",
       "      <th>parent</th>\n",
       "      <th>child</th>\n",
       "    </tr>\n",
       "  </thead>\n",
       "  <tbody>\n",
       "  </tbody>\n",
       "</table>\n",
       "</div>"
      ],
      "text/plain": [
       "Empty DataFrame\n",
       "Columns: [@parent_id, @child_id, @name, parent, child]\n",
       "Index: []"
      ]
     },
     "execution_count": 32,
     "metadata": {},
     "output_type": "execute_result"
    }
   ],
   "source": [
    "rel_df[rel_df.child=='147-N']"
   ]
  },
  {
   "cell_type": "markdown",
   "metadata": {},
   "source": [
    "Возможная стратегия решения:\n",
    "* Для каждого синсета вычисляем эмбеддинг\n",
    "* Выучиваем функцию из эмбеддинга гиперонима в эмбеддинг гипонима (можно ещё обратную, для надёжности)\n",
    "* Для каждого нового слова вычисляем координаты предположительного гипонима. \n",
    "* Берём ближайших соседей предположительного гипонима. Это наши кандидаты. \n",
    "* Для каждой кандидатной пары применяем скоринговую функцию (от двух эмбеддингов и возможно чего-то ещё), предсказывающую вероятность, что эта пара корректная\n",
    "* Ранжируем кандидаты-гипонимы этой функцией\n",
    "* Делаем рекурсивное замыкание этой фигни, на каждом следующем шаге домножая на вероятности-скоры\n",
    "* Финальный список кандидатов - топ всех результатов рекурсии, отранжированный по произведению всех вероятностей. "
   ]
  },
  {
   "cell_type": "code",
   "execution_count": 33,
   "metadata": {},
   "outputs": [
    {
     "data": {
      "text/plain": [
       "29296"
      ]
     },
     "execution_count": 33,
     "metadata": {},
     "output_type": "execute_result"
    }
   ],
   "source": [
    "len(id2synset)"
   ]
  },
  {
   "cell_type": "markdown",
   "metadata": {},
   "source": [
    "# Оценка качества"
   ]
  },
  {
   "cell_type": "code",
   "execution_count": 34,
   "metadata": {},
   "outputs": [],
   "source": [
    "import sys\n",
    "import os\n",
    "def add_sys_path(p):\n",
    "    p = os.path.abspath(p)\n",
    "    if p not in sys.path:\n",
    "        sys.path.append(p)\n",
    "\n",
    "add_sys_path('..')"
   ]
  },
  {
   "cell_type": "code",
   "execution_count": 35,
   "metadata": {},
   "outputs": [],
   "source": [
    "import evaluate"
   ]
  },
  {
   "cell_type": "code",
   "execution_count": 36,
   "metadata": {},
   "outputs": [],
   "source": [
    "assert evaluate.compute_ap([], [], k=10) == 0\n",
    "\n",
    "assert evaluate.compute_ap([{'lol'}, {'kek'}], ['kek', 'lol'], k=10) == 1.0\n",
    "assert evaluate.compute_ap([{'lol'}, {'not kek'}], ['kek'], k=10) == 0.0\n",
    "assert evaluate.compute_ap([{'lol'}, {'not kek'}, {'cheburek'}], ['not kek'], k=10) == sum([1]) / 3\n",
    "assert evaluate.compute_ap([{'lol'}, {'not kek'}, {'cheburek'}], ['not kek', 'zhopa'], k=10) == sum([1, 0]) / 3\n",
    "assert evaluate.compute_ap([{'lol'}, {'not kek'}, {'cheburek'}], ['zhopa', 'not kek'], k=10) == sum([0, 0.5]) / 3"
   ]
  },
  {
   "cell_type": "markdown",
   "metadata": {},
   "source": [
    "# Бейзлайн"
   ]
  },
  {
   "cell_type": "code",
   "execution_count": 37,
   "metadata": {},
   "outputs": [],
   "source": [
    "import gensim\n",
    "# this is araneum 2018 ft model from rusvectores\n",
    "ft = gensim.models.fasttext.FastTextKeyedVectors.load(\n",
    "    'C:/Users/ddale/Downloads/NLP/rusvectores/model.model'\n",
    ")\n",
    "ft.adjust_vectors()"
   ]
  },
  {
   "cell_type": "code",
   "execution_count": 38,
   "metadata": {},
   "outputs": [],
   "source": [
    "from nltk import wordpunct_tokenize\n",
    "from string import punctuation\n",
    "\n",
    "def tokenize(text):\n",
    "    return [t for t in wordpunct_tokenize(text.lower()) if not all(c in punctuation for c in t)]\n",
    "\n",
    "def mean_ft(tokens, n=300):\n",
    "    vecs = [normalize(ft[w]) for w in tokens]\n",
    "    if len(vecs) == 0:\n",
    "        return np.zeros(n)\n",
    "    return normalize(sum(vecs))\n",
    "\n",
    "def normalize(v):\n",
    "    return v / sum(v**2)**0.5"
   ]
  },
  {
   "cell_type": "code",
   "execution_count": 39,
   "metadata": {},
   "outputs": [],
   "source": [
    "ids = sorted(id2synset.keys())"
   ]
  },
  {
   "cell_type": "code",
   "execution_count": 40,
   "metadata": {},
   "outputs": [],
   "source": [
    "from tqdm.auto import tqdm, trange"
   ]
  },
  {
   "cell_type": "code",
   "execution_count": 41,
   "metadata": {},
   "outputs": [],
   "source": [
    "def text2vec(text):\n",
    "    return mean_ft(tokenize(text))"
   ]
  },
  {
   "cell_type": "code",
   "execution_count": 43,
   "metadata": {},
   "outputs": [],
   "source": [
    "s = id2synset['147-N']"
   ]
  },
  {
   "cell_type": "code",
   "execution_count": 44,
   "metadata": {},
   "outputs": [
    {
     "data": {
      "text/plain": [
       "OrderedDict([('@id', '147-N'),\n",
       "             ('@ruthes_name', 'МАЗУТ'),\n",
       "             ('@definition', ''),\n",
       "             ('@part_of_speech', 'N'),\n",
       "             ('sense',\n",
       "              [OrderedDict([('@id', '147-N-217729'),\n",
       "                            ('#text', 'ОСТАТОЧНЫЙ НЕФТЕПРОДУКТ')]),\n",
       "               OrderedDict([('@id', '147-N-217730'),\n",
       "                            ('#text', 'НЕФТЯНОЙ ОСТАТОК')]),\n",
       "               OrderedDict([('@id', '147-N-106087'), ('#text', 'МАЗУТ')])])])"
      ]
     },
     "execution_count": 44,
     "metadata": {},
     "output_type": "execute_result"
    }
   ],
   "source": [
    "s"
   ]
  },
  {
   "cell_type": "code",
   "execution_count": 45,
   "metadata": {},
   "outputs": [
    {
     "data": {
      "text/plain": [
       "'МАЗУТ'"
      ]
     },
     "execution_count": 45,
     "metadata": {},
     "output_type": "execute_result"
    }
   ],
   "source": [
    "s['@ruthes_name']"
   ]
  },
  {
   "cell_type": "code",
   "execution_count": 46,
   "metadata": {},
   "outputs": [
    {
     "name": "stdout",
     "output_type": "stream",
     "text": [
      "ОСТАТОЧНЫЙ НЕФТЕПРОДУКТ\n",
      "НЕФТЯНОЙ ОСТАТОК\n",
      "МАЗУТ\n"
     ]
    }
   ],
   "source": [
    "for sense in s['sense']:\n",
    "    print(sense['#text'])"
   ]
  },
  {
   "cell_type": "code",
   "execution_count": 49,
   "metadata": {},
   "outputs": [
    {
     "data": {
      "text/plain": [
       "OrderedDict([('@id', '100007-N-125592'), ('#text', 'ТИХИЙ ОКЕАН')])"
      ]
     },
     "execution_count": 49,
     "metadata": {},
     "output_type": "execute_result"
    }
   ],
   "source": [
    "s['sense']"
   ]
  },
  {
   "cell_type": "code",
   "execution_count": 50,
   "metadata": {},
   "outputs": [
    {
     "ename": "TypeError",
     "evalue": "string indices must be integers",
     "output_type": "error",
     "traceback": [
      "\u001b[1;31m---------------------------------------------------------------------------\u001b[0m",
      "\u001b[1;31mTypeError\u001b[0m                                 Traceback (most recent call last)",
      "\u001b[1;32m<ipython-input-50-d95c054b5e15>\u001b[0m in \u001b[0;36m<module>\u001b[1;34m\u001b[0m\n\u001b[1;32m----> 1\u001b[1;33m \u001b[1;33m{\u001b[0m\u001b[0msense\u001b[0m\u001b[1;33m[\u001b[0m\u001b[1;34m'#text'\u001b[0m\u001b[1;33m]\u001b[0m \u001b[1;32mfor\u001b[0m \u001b[0msense\u001b[0m \u001b[1;32min\u001b[0m \u001b[0ms\u001b[0m\u001b[1;33m[\u001b[0m\u001b[1;34m'sense'\u001b[0m\u001b[1;33m]\u001b[0m\u001b[1;33m}\u001b[0m\u001b[1;33m\u001b[0m\u001b[1;33m\u001b[0m\u001b[0m\n\u001b[0m",
      "\u001b[1;32m<ipython-input-50-d95c054b5e15>\u001b[0m in \u001b[0;36m<setcomp>\u001b[1;34m(.0)\u001b[0m\n\u001b[1;32m----> 1\u001b[1;33m \u001b[1;33m{\u001b[0m\u001b[0msense\u001b[0m\u001b[1;33m[\u001b[0m\u001b[1;34m'#text'\u001b[0m\u001b[1;33m]\u001b[0m \u001b[1;32mfor\u001b[0m \u001b[0msense\u001b[0m \u001b[1;32min\u001b[0m \u001b[0ms\u001b[0m\u001b[1;33m[\u001b[0m\u001b[1;34m'sense'\u001b[0m\u001b[1;33m]\u001b[0m\u001b[1;33m}\u001b[0m\u001b[1;33m\u001b[0m\u001b[1;33m\u001b[0m\u001b[0m\n\u001b[0m",
      "\u001b[1;31mTypeError\u001b[0m: string indices must be integers"
     ]
    }
   ],
   "source": [
    "{sense['#text'] for sense in s['sense']}"
   ]
  },
  {
   "cell_type": "code",
   "execution_count": 52,
   "metadata": {},
   "outputs": [
    {
     "data": {
      "text/plain": [
       "19"
      ]
     },
     "execution_count": 52,
     "metadata": {},
     "output_type": "execute_result"
    }
   ],
   "source": [
    "len(ids_long)"
   ]
  },
  {
   "cell_type": "code",
   "execution_count": 51,
   "metadata": {},
   "outputs": [
    {
     "data": {
      "text/plain": [
       "'100007-N'"
      ]
     },
     "execution_count": 51,
     "metadata": {},
     "output_type": "execute_result"
    }
   ],
   "source": [
    "id"
   ]
  },
  {
   "cell_type": "code",
   "execution_count": 53,
   "metadata": {},
   "outputs": [
    {
     "data": {
      "text/plain": [
       "OrderedDict([('@id', '100007-N'),\n",
       "             ('@ruthes_name', 'ТИХИЙ ОКЕАН'),\n",
       "             ('@definition', ''),\n",
       "             ('@part_of_speech', 'N'),\n",
       "             ('sense',\n",
       "              OrderedDict([('@id', '100007-N-125592'),\n",
       "                           ('#text', 'ТИХИЙ ОКЕАН')]))])"
      ]
     },
     "execution_count": 53,
     "metadata": {},
     "output_type": "execute_result"
    }
   ],
   "source": [
    "s"
   ]
  },
  {
   "cell_type": "code",
   "execution_count": 59,
   "metadata": {},
   "outputs": [
    {
     "name": "stdout",
     "output_type": "stream",
     "text": [
      "29296 119273\n"
     ]
    }
   ],
   "source": [
    "ids_long = []\n",
    "texts_long = []\n",
    "for id in ids:\n",
    "    s = id2synset[id]\n",
    "    senses = s['sense']\n",
    "    if not isinstance(senses, list):\n",
    "        senses = [senses]\n",
    "    texts = {sense['#text'] for sense in senses}\n",
    "    texts.add(s['@ruthes_name'])\n",
    "    if len(texts) > 1:\n",
    "        texts.add(' ; '.join(sorted(texts)))\n",
    "    for text in sorted(texts):\n",
    "        ids_long.append(id)\n",
    "        texts_long.append(text)\n",
    "print(len(ids), len(ids_long))"
   ]
  },
  {
   "cell_type": "code",
   "execution_count": 60,
   "metadata": {},
   "outputs": [
    {
     "data": {
      "application/vnd.jupyter.widget-view+json": {
       "model_id": "14c4a454d4d64730806495f801d82189",
       "version_major": 2,
       "version_minor": 0
      },
      "text/plain": [
       "HBox(children=(FloatProgress(value=0.0, max=119273.0), HTML(value='')))"
      ]
     },
     "metadata": {},
     "output_type": "display_data"
    },
    {
     "name": "stdout",
     "output_type": "stream",
     "text": [
      "\n"
     ]
    },
    {
     "data": {
      "text/plain": [
       "(119273, 300)"
      ]
     },
     "execution_count": 60,
     "metadata": {},
     "output_type": "execute_result"
    }
   ],
   "source": [
    "#vecs = np.stack([mean_ft(tokenize(id2synset[idx]['@ruthes_name'])) for idx in tqdm(ids) ])\n",
    "vecs = np.stack([mean_ft(tokenize(t)) for t in tqdm(texts_long) ])\n",
    "vecs.shape"
   ]
  },
  {
   "cell_type": "code",
   "execution_count": 61,
   "metadata": {},
   "outputs": [],
   "source": [
    "from sklearn.model_selection import train_test_split"
   ]
  },
  {
   "cell_type": "code",
   "execution_count": 62,
   "metadata": {},
   "outputs": [],
   "source": [
    "ttrain, ttest = train_test_split(train_n, test_size=0.5, random_state=1)"
   ]
  },
  {
   "cell_type": "code",
   "execution_count": 54,
   "metadata": {},
   "outputs": [
    {
     "data": {
      "text/plain": [
       "(8395, 5)"
      ]
     },
     "execution_count": 54,
     "metadata": {},
     "output_type": "execute_result"
    }
   ],
   "source": [
    "ttrain.shape"
   ]
  },
  {
   "cell_type": "code",
   "execution_count": 55,
   "metadata": {},
   "outputs": [
    {
     "data": {
      "text/html": [
       "<div>\n",
       "<style scoped>\n",
       "    .dataframe tbody tr th:only-of-type {\n",
       "        vertical-align: middle;\n",
       "    }\n",
       "\n",
       "    .dataframe tbody tr th {\n",
       "        vertical-align: top;\n",
       "    }\n",
       "\n",
       "    .dataframe thead th {\n",
       "        text-align: right;\n",
       "    }\n",
       "</style>\n",
       "<table border=\"1\" class=\"dataframe\">\n",
       "  <thead>\n",
       "    <tr style=\"text-align: right;\">\n",
       "      <th></th>\n",
       "      <th>SYNSET_ID</th>\n",
       "      <th>TEXT</th>\n",
       "      <th>PARENTS</th>\n",
       "      <th>DEFINITION</th>\n",
       "      <th>parents_list</th>\n",
       "    </tr>\n",
       "  </thead>\n",
       "  <tbody>\n",
       "    <tr>\n",
       "      <th>12235</th>\n",
       "      <td>144195-N</td>\n",
       "      <td>БАНАН</td>\n",
       "      <td>8534-N,354-N</td>\n",
       "      <td>плод банана</td>\n",
       "      <td>[8534-N, 354-N]</td>\n",
       "    </tr>\n",
       "    <tr>\n",
       "      <th>13508</th>\n",
       "      <td>138098-N</td>\n",
       "      <td>ЕМКОСТЬ</td>\n",
       "      <td>110871-N,106841-N</td>\n",
       "      <td>NaN</td>\n",
       "      <td>[110871-N, 106841-N]</td>\n",
       "    </tr>\n",
       "    <tr>\n",
       "      <th>12052</th>\n",
       "      <td>104516-N</td>\n",
       "      <td>ТАСМАНИЯ</td>\n",
       "      <td>3465-N,7166-N,107135-N</td>\n",
       "      <td>NaN</td>\n",
       "      <td>[3465-N, 7166-N, 107135-N]</td>\n",
       "    </tr>\n",
       "    <tr>\n",
       "      <th>2199</th>\n",
       "      <td>105878-N</td>\n",
       "      <td>БАКУРИАНИ</td>\n",
       "      <td>242-N,123680-N,145516-N</td>\n",
       "      <td>NaN</td>\n",
       "      <td>[242-N, 123680-N, 145516-N]</td>\n",
       "    </tr>\n",
       "    <tr>\n",
       "      <th>1813</th>\n",
       "      <td>100699-N</td>\n",
       "      <td>ЗЫРЯНОВСК</td>\n",
       "      <td>242-N,123680-N,145516-N</td>\n",
       "      <td>NaN</td>\n",
       "      <td>[242-N, 123680-N, 145516-N]</td>\n",
       "    </tr>\n",
       "    <tr>\n",
       "      <th>13056</th>\n",
       "      <td>123882-N</td>\n",
       "      <td>ВСКРЫТИЕ</td>\n",
       "      <td>121544-N,119282-N</td>\n",
       "      <td>NaN</td>\n",
       "      <td>[121544-N, 119282-N]</td>\n",
       "    </tr>\n",
       "    <tr>\n",
       "      <th>13480</th>\n",
       "      <td>5970-N</td>\n",
       "      <td>КОРАБЛЕВОЖДЕНИЕ,СУДОВОЖДЕНИЕ</td>\n",
       "      <td>106614-N,145755-N</td>\n",
       "      <td>NaN</td>\n",
       "      <td>[106614-N, 145755-N]</td>\n",
       "    </tr>\n",
       "    <tr>\n",
       "      <th>14137</th>\n",
       "      <td>123858-N</td>\n",
       "      <td>КОНТУЗИЯ</td>\n",
       "      <td>2059-N,113696-N,3406-N</td>\n",
       "      <td>сотрясение, травма, общее поражение организма ...</td>\n",
       "      <td>[2059-N, 113696-N, 3406-N]</td>\n",
       "    </tr>\n",
       "    <tr>\n",
       "      <th>13000</th>\n",
       "      <td>153577-N</td>\n",
       "      <td>ПОЛОСКАНИЕ</td>\n",
       "      <td>9725-N,7529-N</td>\n",
       "      <td>промыть (рот, горло), полоща водой или каким-л...</td>\n",
       "      <td>[9725-N, 7529-N]</td>\n",
       "    </tr>\n",
       "    <tr>\n",
       "      <th>8512</th>\n",
       "      <td>146369-N</td>\n",
       "      <td>САЛОМАС</td>\n",
       "      <td>1724-N,552-N</td>\n",
       "      <td>NaN</td>\n",
       "      <td>[1724-N, 552-N]</td>\n",
       "    </tr>\n",
       "  </tbody>\n",
       "</table>\n",
       "</div>"
      ],
      "text/plain": [
       "      SYNSET_ID                          TEXT                  PARENTS  \\\n",
       "12235  144195-N                         БАНАН             8534-N,354-N   \n",
       "13508  138098-N                       ЕМКОСТЬ        110871-N,106841-N   \n",
       "12052  104516-N                      ТАСМАНИЯ   3465-N,7166-N,107135-N   \n",
       "2199   105878-N                     БАКУРИАНИ  242-N,123680-N,145516-N   \n",
       "1813   100699-N                     ЗЫРЯНОВСК  242-N,123680-N,145516-N   \n",
       "13056  123882-N                      ВСКРЫТИЕ        121544-N,119282-N   \n",
       "13480    5970-N  КОРАБЛЕВОЖДЕНИЕ,СУДОВОЖДЕНИЕ        106614-N,145755-N   \n",
       "14137  123858-N                      КОНТУЗИЯ   2059-N,113696-N,3406-N   \n",
       "13000  153577-N                    ПОЛОСКАНИЕ            9725-N,7529-N   \n",
       "8512   146369-N                       САЛОМАС             1724-N,552-N   \n",
       "\n",
       "                                              DEFINITION  \\\n",
       "12235                                        плод банана   \n",
       "13508                                                NaN   \n",
       "12052                                                NaN   \n",
       "2199                                                 NaN   \n",
       "1813                                                 NaN   \n",
       "13056                                                NaN   \n",
       "13480                                                NaN   \n",
       "14137  сотрясение, травма, общее поражение организма ...   \n",
       "13000  промыть (рот, горло), полоща водой или каким-л...   \n",
       "8512                                                 NaN   \n",
       "\n",
       "                      parents_list  \n",
       "12235              [8534-N, 354-N]  \n",
       "13508         [110871-N, 106841-N]  \n",
       "12052   [3465-N, 7166-N, 107135-N]  \n",
       "2199   [242-N, 123680-N, 145516-N]  \n",
       "1813   [242-N, 123680-N, 145516-N]  \n",
       "13056         [121544-N, 119282-N]  \n",
       "13480         [106614-N, 145755-N]  \n",
       "14137   [2059-N, 113696-N, 3406-N]  \n",
       "13000             [9725-N, 7529-N]  \n",
       "8512               [1724-N, 552-N]  "
      ]
     },
     "execution_count": 55,
     "metadata": {},
     "output_type": "execute_result"
    }
   ],
   "source": [
    "ttrain.sample(10)"
   ]
  },
  {
   "cell_type": "code",
   "execution_count": 56,
   "metadata": {},
   "outputs": [],
   "source": [
    "id2idx = {name: idx for idx, name in  enumerate(ids)}"
   ]
  },
  {
   "cell_type": "code",
   "execution_count": 57,
   "metadata": {},
   "outputs": [],
   "source": [
    "from collections import defaultdict"
   ]
  },
  {
   "cell_type": "code",
   "execution_count": 74,
   "metadata": {},
   "outputs": [],
   "source": [
    "id2hyponym = defaultdict(set)\n",
    "id2hypernym = defaultdict(set)\n",
    "\n",
    "def add_pair(hypo_id, hyper_id):\n",
    "    if hypo_id in id2hyponym[hyper_id]:\n",
    "        # the pair is already here\n",
    "        return \n",
    "    if hypo_id in id2hypernym[hyper_id]:\n",
    "        raise ValueError('{} is already a hypernym of {}, so it cannot become its hyponym'.format(hypo_id, hyper_id))\n",
    "    for next_hypo in id2hyponym[hypo_id]:\n",
    "        add_pair(next_hypo, hyper_id)\n",
    "    for next_hyper in id2hypernym[hyper_id]:\n",
    "        add_pair(hypo_id, next_hyper)\n",
    "    id2hyponym[hyper_id].add(hypo_id)\n",
    "    id2hypernym[hypo_id].add(hyper_id)\n",
    "        "
   ]
  },
  {
   "cell_type": "markdown",
   "metadata": {},
   "source": [
    "До обогащения: 28118 ключей, 268637 пар, максимальное число родителей - 63"
   ]
  },
  {
   "cell_type": "code",
   "execution_count": 75,
   "metadata": {},
   "outputs": [
    {
     "data": {
      "application/vnd.jupyter.widget-view+json": {
       "model_id": "e085ee299f1845ea84de7aae1f70390c",
       "version_major": 2,
       "version_minor": 0
      },
      "text/plain": [
       "HBox(children=(FloatProgress(value=1.0, bar_style='info', max=1.0), HTML(value='')))"
      ]
     },
     "metadata": {},
     "output_type": "display_data"
    },
    {
     "name": "stdout",
     "output_type": "stream",
     "text": [
      "\n"
     ]
    }
   ],
   "source": [
    "hypo_df = rel_df[rel_df['@name']=='hyponym']\n",
    "for r, row in tqdm(hypo_df.iterrows()):\n",
    "    hypo_id = row['@child_id']\n",
    "    hyper_id = row['@parent_id']\n",
    "    add_pair(hypo_id, hyper_id)"
   ]
  },
  {
   "cell_type": "code",
   "execution_count": 325,
   "metadata": {},
   "outputs": [
    {
     "name": "stdout",
     "output_type": "stream",
     "text": [
      "28119\n",
      "18488\n",
      "63\n",
      "268637\n"
     ]
    }
   ],
   "source": [
    "print(len(id2hyponym))\n",
    "print(max(len(c) for c in id2hyponym.values()))\n",
    "print(max(len(c) for c in id2hypernym.values()))\n",
    "print(sum(len(c) for c in id2hypernym.values()))"
   ]
  },
  {
   "cell_type": "code",
   "execution_count": 324,
   "metadata": {},
   "outputs": [
    {
     "name": "stdout",
     "output_type": "stream",
     "text": [
      "ПОЗДРАВИТЬ\n",
      "ВЫСКАЗАТЬ МНЕНИЕ\n",
      "ВЫСКАЗАТЬ\n",
      "СООБЩИТЬ, УВЕДОМИТЬ\n",
      "СОГЛАСИТЬСЯ, ДАТЬ СОГЛАСИЕ\n",
      "ПРОИСХОДЯЩАЯ СУЩНОСТЬ\n",
      "ПОСТУПОК ЧЕЛОВЕКА\n",
      "ОДОБРИТЬ\n",
      "ДЕЙСТВИЕ ЧЕЛОВЕКА\n",
      "ОТВЕТИТЬ, ПОСТУПИТЬ В ОТВЕТ\n",
      "ДЕЙСТВИЕ, ЦЕЛЕНАПРАВЛЕННОЕ ДЕЙСТВИЕ\n"
     ]
    }
   ],
   "source": [
    "import random\n",
    "key = random.choice(list(id2hypernym.keys()))\n",
    "print(id2synset[key]['@ruthes_name'])\n",
    "for v in id2hypernym[key]:\n",
    "    print(id2synset[v]['@ruthes_name'])"
   ]
  },
  {
   "cell_type": "markdown",
   "metadata": {},
   "source": [
    "Теперь добавляем объектов из обучающей выборки. Кажется, что после обогащения не особо что-то изменилось. "
   ]
  },
  {
   "cell_type": "code",
   "execution_count": 361,
   "metadata": {},
   "outputs": [
    {
     "data": {
      "text/html": [
       "<div>\n",
       "<style scoped>\n",
       "    .dataframe tbody tr th:only-of-type {\n",
       "        vertical-align: middle;\n",
       "    }\n",
       "\n",
       "    .dataframe tbody tr th {\n",
       "        vertical-align: top;\n",
       "    }\n",
       "\n",
       "    .dataframe thead th {\n",
       "        text-align: right;\n",
       "    }\n",
       "</style>\n",
       "<table border=\"1\" class=\"dataframe\">\n",
       "  <thead>\n",
       "    <tr style=\"text-align: right;\">\n",
       "      <th></th>\n",
       "      <th>SYNSET_ID</th>\n",
       "      <th>TEXT</th>\n",
       "      <th>PARENTS</th>\n",
       "      <th>DEFINITION</th>\n",
       "      <th>parents_list</th>\n",
       "    </tr>\n",
       "  </thead>\n",
       "  <tbody>\n",
       "    <tr>\n",
       "      <th>5038</th>\n",
       "      <td>3191-N</td>\n",
       "      <td>ТЕХЗАДАНИЕ</td>\n",
       "      <td>5875-N,2428-N</td>\n",
       "      <td>NaN</td>\n",
       "      <td>[5875-N, 2428-N]</td>\n",
       "    </tr>\n",
       "    <tr>\n",
       "      <th>12704</th>\n",
       "      <td>125133-N</td>\n",
       "      <td>ВЗДОР,ГЛУПОСТЬ,ДИЧЬ,ЕРУНДА,ЛАБУДА,МУРА,МУТЬ,ТА...</td>\n",
       "      <td>124894-N,107257-N</td>\n",
       "      <td>нечто неважное, бессмысленное, чепуха</td>\n",
       "      <td>[124894-N, 107257-N]</td>\n",
       "    </tr>\n",
       "    <tr>\n",
       "      <th>15350</th>\n",
       "      <td>144328-N</td>\n",
       "      <td>БОЯРЫШНИК</td>\n",
       "      <td>107842-N,107871-N,144341-N</td>\n",
       "      <td>NaN</td>\n",
       "      <td>[107842-N, 107871-N, 144341-N]</td>\n",
       "    </tr>\n",
       "  </tbody>\n",
       "</table>\n",
       "</div>"
      ],
      "text/plain": [
       "      SYNSET_ID                                               TEXT  \\\n",
       "5038     3191-N                                         ТЕХЗАДАНИЕ   \n",
       "12704  125133-N  ВЗДОР,ГЛУПОСТЬ,ДИЧЬ,ЕРУНДА,ЛАБУДА,МУРА,МУТЬ,ТА...   \n",
       "15350  144328-N                                          БОЯРЫШНИК   \n",
       "\n",
       "                          PARENTS                             DEFINITION  \\\n",
       "5038                5875-N,2428-N                                    NaN   \n",
       "12704           124894-N,107257-N  нечто неважное, бессмысленное, чепуха   \n",
       "15350  107842-N,107871-N,144341-N                                    NaN   \n",
       "\n",
       "                         parents_list  \n",
       "5038                 [5875-N, 2428-N]  \n",
       "12704            [124894-N, 107257-N]  \n",
       "15350  [107842-N, 107871-N, 144341-N]  "
      ]
     },
     "execution_count": 361,
     "metadata": {},
     "output_type": "execute_result"
    }
   ],
   "source": [
    "ttrain.sample(3)"
   ]
  },
  {
   "cell_type": "code",
   "execution_count": 327,
   "metadata": {},
   "outputs": [
    {
     "data": {
      "application/vnd.jupyter.widget-view+json": {
       "model_id": "7f44a82e0fbd430183aa38fc9690af6a",
       "version_major": 2,
       "version_minor": 0
      },
      "text/plain": [
       "HBox(children=(FloatProgress(value=0.0, max=8395.0), HTML(value='')))"
      ]
     },
     "metadata": {},
     "output_type": "display_data"
    },
    {
     "name": "stdout",
     "output_type": "stream",
     "text": [
      "\n"
     ]
    }
   ],
   "source": [
    "for r, row in tqdm(ttrain.iterrows(), total=ttrain.shape[0]):\n",
    "    hypo_id = row['SYNSET_ID']\n",
    "    for hyper_id in row.parents_list:\n",
    "        add_pair(hypo_id, hyper_id)"
   ]
  },
  {
   "cell_type": "code",
   "execution_count": 328,
   "metadata": {},
   "outputs": [
    {
     "name": "stdout",
     "output_type": "stream",
     "text": [
      "28636\n",
      "18928\n",
      "63\n",
      "274902\n"
     ]
    }
   ],
   "source": [
    "print(len(id2hyponym))\n",
    "print(max(len(c) for c in id2hyponym.values()))\n",
    "print(max(len(c) for c in id2hypernym.values()))\n",
    "print(sum(len(c) for c in id2hypernym.values()))"
   ]
  },
  {
   "cell_type": "code",
   "execution_count": 79,
   "metadata": {},
   "outputs": [],
   "source": [
    "hypo_indices = []\n",
    "hyper_indices = []\n",
    "for key, values in id2hyponym.items():\n",
    "    for value in values:\n",
    "        hypo_indices.append(value)\n",
    "        hyper_indices.append(key)"
   ]
  },
  {
   "cell_type": "code",
   "execution_count": 85,
   "metadata": {},
   "outputs": [],
   "source": [
    "synX = vecs[[id2idx[ix] for ix in hypo_indices]]\n",
    "synY = vecs[[id2idx[ix] for ix in hyper_indices]]"
   ]
  },
  {
   "cell_type": "code",
   "execution_count": 90,
   "metadata": {},
   "outputs": [
    {
     "data": {
      "text/plain": [
       "0.0025339746"
      ]
     },
     "execution_count": 90,
     "metadata": {},
     "output_type": "execute_result"
    }
   ],
   "source": [
    "synX.var(axis=0).mean()"
   ]
  },
  {
   "cell_type": "code",
   "execution_count": 96,
   "metadata": {},
   "outputs": [
    {
     "data": {
      "text/plain": [
       "0.004187228"
      ]
     },
     "execution_count": 96,
     "metadata": {},
     "output_type": "execute_result"
    }
   ],
   "source": [
    "(synX-synY).var(axis=0).mean()"
   ]
  },
  {
   "cell_type": "code",
   "execution_count": 92,
   "metadata": {},
   "outputs": [],
   "source": [
    "from sklearn.linear_model import LinearRegression"
   ]
  },
  {
   "cell_type": "code",
   "execution_count": 93,
   "metadata": {},
   "outputs": [],
   "source": [
    "linreg = LinearRegression().fit(synX, synY)"
   ]
  },
  {
   "cell_type": "code",
   "execution_count": 94,
   "metadata": {},
   "outputs": [],
   "source": [
    "pred = linreg.predict(synX)"
   ]
  },
  {
   "cell_type": "code",
   "execution_count": 97,
   "metadata": {},
   "outputs": [
    {
     "data": {
      "text/plain": [
       "0.0021273529"
      ]
     },
     "execution_count": 97,
     "metadata": {},
     "output_type": "execute_result"
    }
   ],
   "source": [
    "(synY-pred).var(axis=0).mean()"
   ]
  },
  {
   "cell_type": "markdown",
   "metadata": {},
   "source": [
    "Ага! Линейная регрессия немножко помогает :)"
   ]
  },
  {
   "cell_type": "code",
   "execution_count": 103,
   "metadata": {},
   "outputs": [],
   "source": [
    "pred_norm = (pred.T / ((pred**2).sum(axis=1)**0.5)).T"
   ]
  },
  {
   "cell_type": "markdown",
   "metadata": {},
   "source": [
    "Удивительно, но после нормализации MSE только возрастает. "
   ]
  },
  {
   "cell_type": "code",
   "execution_count": 104,
   "metadata": {},
   "outputs": [
    {
     "data": {
      "text/plain": [
       "0.0021941925"
      ]
     },
     "execution_count": 104,
     "metadata": {},
     "output_type": "execute_result"
    }
   ],
   "source": [
    "(synY-pred_norm).var(axis=0).mean()"
   ]
  },
  {
   "cell_type": "code",
   "execution_count": 136,
   "metadata": {},
   "outputs": [],
   "source": [
    "from sklearn.neighbors import KDTree"
   ]
  },
  {
   "cell_type": "code",
   "execution_count": 137,
   "metadata": {},
   "outputs": [],
   "source": [
    "tree = KDTree(vecs)"
   ]
  },
  {
   "cell_type": "markdown",
   "metadata": {},
   "source": [
    "#### пример работы моего алгоритма"
   ]
  },
  {
   "cell_type": "code",
   "execution_count": 217,
   "metadata": {},
   "outputs": [
    {
     "name": "stdout",
     "output_type": "stream",
     "text": [
      "ДИПЛОМАТИЧЕСКИЙ РАБОТНИК\n",
      "ДОЛЖНОСТНОЕ ЛИЦО\n",
      "РАБОТНИК ЗАГРАНУЧРЕЖДЕНИЯ\n",
      "ПРЕДСТАВИТЕЛЬ ИНТЕРЕСОВ\n"
     ]
    },
    {
     "data": {
      "text/html": [
       "<div>\n",
       "<style scoped>\n",
       "    .dataframe tbody tr th:only-of-type {\n",
       "        vertical-align: middle;\n",
       "    }\n",
       "\n",
       "    .dataframe tbody tr th {\n",
       "        vertical-align: top;\n",
       "    }\n",
       "\n",
       "    .dataframe thead th {\n",
       "        text-align: right;\n",
       "    }\n",
       "</style>\n",
       "<table border=\"1\" class=\"dataframe\">\n",
       "  <thead>\n",
       "    <tr style=\"text-align: right;\">\n",
       "      <th></th>\n",
       "      <th>SYNSET_ID</th>\n",
       "      <th>TEXT</th>\n",
       "      <th>PARENTS</th>\n",
       "      <th>DEFINITION</th>\n",
       "      <th>parents_list</th>\n",
       "    </tr>\n",
       "  </thead>\n",
       "  <tbody>\n",
       "    <tr>\n",
       "      <th>13636</th>\n",
       "      <td>127185-N</td>\n",
       "      <td>НУНЦИЙ</td>\n",
       "      <td>1179-N,3361-N,8688-N,106891-N</td>\n",
       "      <td>NaN</td>\n",
       "      <td>[1179-N, 3361-N, 8688-N, 106891-N]</td>\n",
       "    </tr>\n",
       "  </tbody>\n",
       "</table>\n",
       "</div>"
      ],
      "text/plain": [
       "      SYNSET_ID    TEXT                        PARENTS DEFINITION  \\\n",
       "13636  127185-N  НУНЦИЙ  1179-N,3361-N,8688-N,106891-N        NaN   \n",
       "\n",
       "                             parents_list  \n",
       "13636  [1179-N, 3361-N, 8688-N, 106891-N]  "
      ]
     },
     "execution_count": 217,
     "metadata": {},
     "output_type": "execute_result"
    }
   ],
   "source": [
    "row = ttrain.sample(1)\n",
    "\n",
    "for p in row.parents_list.iloc[0]:\n",
    "    print(id2synset[p]['@ruthes_name'])\n",
    "row"
   ]
  },
  {
   "cell_type": "code",
   "execution_count": 173,
   "metadata": {},
   "outputs": [
    {
     "name": "stdout",
     "output_type": "stream",
     "text": [
      "ТЕКСТИЛЬЩИК\n",
      "РАБОТНИК ЛЕГКОЙ ПРОМЫШЛЕННОСТИ\n"
     ]
    }
   ],
   "source": []
  },
  {
   "cell_type": "code",
   "execution_count": 174,
   "metadata": {},
   "outputs": [],
   "source": [
    "vec = vecs[id2idx[row.SYNSET_ID.iloc[0]]].reshape(1, -1)"
   ]
  },
  {
   "cell_type": "code",
   "execution_count": 175,
   "metadata": {},
   "outputs": [],
   "source": [
    "vec_pred = normalize(linreg.predict(vec).ravel())"
   ]
  },
  {
   "cell_type": "code",
   "execution_count": 176,
   "metadata": {},
   "outputs": [],
   "source": [
    "distances, indices = tree.query(vec_pred.reshape(1, -1), k=10)"
   ]
  },
  {
   "cell_type": "code",
   "execution_count": 177,
   "metadata": {},
   "outputs": [
    {
     "name": "stdout",
     "output_type": "stream",
     "text": [
      "0.6634564139419517 150414-N БИОЛОГИЧЕСКАЯ СУЩНОСТЬ\n",
      "0.6879088440684842 147509-N ЭНЕРГИЯ ЧЕЛОВЕКА\n",
      "0.6916229001163239 145529-N ФУНКЦИОНАЛЬНАЯ НЕДОСТАТОЧНОСТЬ ОРГАНА\n",
      "0.6940315004049996 147134-N ФИЗИЧЕСКАЯ СУЩНОСТЬ\n",
      "0.6955260006298274 142922-N КОНСТИТУЦИОНАЛЬНЫЕ ОСОБЕННОСТИ ОРГАНИЗМА\n",
      "0.6966659523655019 150555-N ЧЕЛОВЕК ПО СФЕРЕ ДЕЯТЕЛЬНОСТИ\n",
      "0.6983008243630823 140126-N СОЦИАЛЬНО-ДЕМОГРАФИЧЕСКАЯ ОБЩНОСТЬ\n",
      "0.7105105770528403 139946-N СОЦИАЛЬНАЯ ОБЩНОСТЬ\n",
      "0.722326210037546 153782-N ПОСТОЯННАЯ СУЩНОСТЬ\n",
      "0.7238719449947625 125061-N СУБЪЕКТ СУЖДЕНИЯ\n"
     ]
    }
   ],
   "source": [
    "for i, d in zip(indices.ravel(), distances.ravel()):\n",
    "    print(d, ids[i], id2synset[ids[i]]['@ruthes_name'])"
   ]
  },
  {
   "cell_type": "code",
   "execution_count": 204,
   "metadata": {},
   "outputs": [],
   "source": [
    "def vec2hypo(vec):\n",
    "    vec_pred = normalize(linreg.predict(vec.reshape(1, -1)).ravel())\n",
    "    distances, indices = tree.query(vec_pred.reshape(1, -1), k=10)\n",
    "    return [ids[i] for i in indices.ravel()]\n",
    "\n",
    "def get_hypotheses(id):\n",
    "    vec = vecs[id2idx[id]]\n",
    "    return vec2hypo(vec)"
   ]
  },
  {
   "cell_type": "code",
   "execution_count": 205,
   "metadata": {},
   "outputs": [
    {
     "data": {
      "text/plain": [
       "['150414-N',\n",
       " '147509-N',\n",
       " '145529-N',\n",
       " '147134-N',\n",
       " '142922-N',\n",
       " '150555-N',\n",
       " '140126-N',\n",
       " '139946-N',\n",
       " '153782-N',\n",
       " '125061-N']"
      ]
     },
     "execution_count": 205,
     "metadata": {},
     "output_type": "execute_result"
    }
   ],
   "source": [
    "get_hypotheses('8667-N')"
   ]
  },
  {
   "cell_type": "code",
   "execution_count": 182,
   "metadata": {},
   "outputs": [
    {
     "data": {
      "application/vnd.jupyter.widget-view+json": {
       "model_id": "843e2b8bc9cb465c817ef11da97773c0",
       "version_major": 2,
       "version_minor": 0
      },
      "text/plain": [
       "HBox(children=(FloatProgress(value=0.0, max=8395.0), HTML(value='')))"
      ]
     },
     "metadata": {},
     "output_type": "display_data"
    },
    {
     "name": "stdout",
     "output_type": "stream",
     "text": [
      "\n"
     ]
    }
   ],
   "source": [
    "ttest_hypotheses = [get_hypotheses(id) for id in tqdm(ttest.SYNSET_ID)]"
   ]
  },
  {
   "cell_type": "code",
   "execution_count": 185,
   "metadata": {},
   "outputs": [],
   "source": [
    "ttest_gt = ttest.parents_list.apply(lambda x: [{c} for c in x]).tolist()"
   ]
  },
  {
   "cell_type": "code",
   "execution_count": 187,
   "metadata": {},
   "outputs": [
    {
     "data": {
      "text/plain": [
       "[{'119261-N'}, {'106775-N'}]"
      ]
     },
     "execution_count": 187,
     "metadata": {},
     "output_type": "execute_result"
    }
   ],
   "source": [
    "ttest_gt[0]"
   ]
  },
  {
   "cell_type": "code",
   "execution_count": 188,
   "metadata": {},
   "outputs": [
    {
     "data": {
      "text/plain": [
       "['147134-N',\n",
       " '150414-N',\n",
       " '153782-N',\n",
       " '136567-N',\n",
       " '142922-N',\n",
       " '153471-N',\n",
       " '146671-N',\n",
       " '106569-N',\n",
       " '123796-N',\n",
       " '125061-N']"
      ]
     },
     "execution_count": 188,
     "metadata": {},
     "output_type": "execute_result"
    }
   ],
   "source": [
    "ttest_hypotheses[0]"
   ]
  },
  {
   "cell_type": "code",
   "execution_count": 192,
   "metadata": {},
   "outputs": [],
   "source": [
    "aps = pd.Series([evaluate.compute_ap(gt, hyps, k=10) for gt, hyps in zip(ttest_gt, ttest_hypotheses)])"
   ]
  },
  {
   "cell_type": "code",
   "execution_count": 193,
   "metadata": {},
   "outputs": [
    {
     "data": {
      "text/plain": [
       "count    8395.000000\n",
       "mean        0.005482\n",
       "std         0.037432\n",
       "min         0.000000\n",
       "25%         0.000000\n",
       "50%         0.000000\n",
       "75%         0.000000\n",
       "max         0.555556\n",
       "dtype: float64"
      ]
     },
     "execution_count": 193,
     "metadata": {},
     "output_type": "execute_result"
    }
   ],
   "source": [
    "aps.describe()"
   ]
  },
  {
   "cell_type": "code",
   "execution_count": 194,
   "metadata": {},
   "outputs": [
    {
     "data": {
      "text/plain": [
       "0.03704586063132817"
      ]
     },
     "execution_count": 194,
     "metadata": {},
     "output_type": "execute_result"
    }
   ],
   "source": [
    "(aps>0).mean()"
   ]
  },
  {
   "cell_type": "code",
   "execution_count": 195,
   "metadata": {},
   "outputs": [
    {
     "data": {
      "text/plain": [
       "count    311.000000\n",
       "mean       0.147967\n",
       "std        0.129571\n",
       "min        0.022222\n",
       "25%        0.062500\n",
       "50%        0.111111\n",
       "75%        0.166667\n",
       "max        0.555556\n",
       "dtype: float64"
      ]
     },
     "execution_count": 195,
     "metadata": {},
     "output_type": "execute_result"
    }
   ],
   "source": [
    "aps[aps>0].describe()"
   ]
  },
  {
   "cell_type": "markdown",
   "metadata": {},
   "source": [
    "# Сабмитим бейзлайн"
   ]
  },
  {
   "cell_type": "code",
   "execution_count": 198,
   "metadata": {},
   "outputs": [],
   "source": [
    "public_test_nouns = pd.read_csv('../data/public_test/nouns_public.tsv', header=None, encoding='utf-8')\n",
    "public_test_nouns.columns = ['noun']"
   ]
  },
  {
   "cell_type": "code",
   "execution_count": 199,
   "metadata": {},
   "outputs": [
    {
     "data": {
      "text/plain": [
       "762"
      ]
     },
     "execution_count": 199,
     "metadata": {},
     "output_type": "execute_result"
    }
   ],
   "source": [
    "len(set(public_test_nouns['noun'])), len(set(public_test_nouns['noun']).difference())"
   ]
  },
  {
   "cell_type": "code",
   "execution_count": 202,
   "metadata": {},
   "outputs": [
    {
     "data": {
      "text/html": [
       "<div>\n",
       "<style scoped>\n",
       "    .dataframe tbody tr th:only-of-type {\n",
       "        vertical-align: middle;\n",
       "    }\n",
       "\n",
       "    .dataframe tbody tr th {\n",
       "        vertical-align: top;\n",
       "    }\n",
       "\n",
       "    .dataframe thead th {\n",
       "        text-align: right;\n",
       "    }\n",
       "</style>\n",
       "<table border=\"1\" class=\"dataframe\">\n",
       "  <thead>\n",
       "    <tr style=\"text-align: right;\">\n",
       "      <th></th>\n",
       "      <th>noun</th>\n",
       "    </tr>\n",
       "  </thead>\n",
       "  <tbody>\n",
       "    <tr>\n",
       "      <th>686</th>\n",
       "      <td>ФЛУКТУАЦИЯ</td>\n",
       "    </tr>\n",
       "    <tr>\n",
       "      <th>107</th>\n",
       "      <td>ВОСКРЕСНИК</td>\n",
       "    </tr>\n",
       "    <tr>\n",
       "      <th>148</th>\n",
       "      <td>ГУДРОН</td>\n",
       "    </tr>\n",
       "    <tr>\n",
       "      <th>192</th>\n",
       "      <td>ЖБАН</td>\n",
       "    </tr>\n",
       "    <tr>\n",
       "      <th>633</th>\n",
       "      <td>ТАБАКОВОДСТВО</td>\n",
       "    </tr>\n",
       "  </tbody>\n",
       "</table>\n",
       "</div>"
      ],
      "text/plain": [
       "              noun\n",
       "686     ФЛУКТУАЦИЯ\n",
       "107     ВОСКРЕСНИК\n",
       "148         ГУДРОН\n",
       "192           ЖБАН\n",
       "633  ТАБАКОВОДСТВО"
      ]
     },
     "execution_count": 202,
     "metadata": {},
     "output_type": "execute_result"
    }
   ],
   "source": [
    "public_test_nouns.sample(5)"
   ]
  },
  {
   "cell_type": "code",
   "execution_count": 203,
   "metadata": {},
   "outputs": [
    {
     "data": {
      "application/vnd.jupyter.widget-view+json": {
       "model_id": "b1db8dabc04c4065b30c0421025d6ac3",
       "version_major": 2,
       "version_minor": 0
      },
      "text/plain": [
       "HBox(children=(FloatProgress(value=0.0, max=762.0), HTML(value='')))"
      ]
     },
     "metadata": {},
     "output_type": "display_data"
    },
    {
     "name": "stdout",
     "output_type": "stream",
     "text": [
      "\n"
     ]
    }
   ],
   "source": [
    "public_test_embs = np.stack([mean_ft(tokenize(x)) for x in tqdm(public_test_nouns['noun']) ])"
   ]
  },
  {
   "cell_type": "code",
   "execution_count": 206,
   "metadata": {},
   "outputs": [
    {
     "data": {
      "application/vnd.jupyter.widget-view+json": {
       "model_id": "8076ad02def14e5bbba6464717e8a1ea",
       "version_major": 2,
       "version_minor": 0
      },
      "text/plain": [
       "HBox(children=(FloatProgress(value=0.0, max=762.0), HTML(value='')))"
      ]
     },
     "metadata": {},
     "output_type": "display_data"
    },
    {
     "name": "stdout",
     "output_type": "stream",
     "text": [
      "\n"
     ]
    }
   ],
   "source": [
    "public_test_hypos = [vec2hypo(v) for v in tqdm(public_test_embs)]"
   ]
  },
  {
   "cell_type": "code",
   "execution_count": 209,
   "metadata": {},
   "outputs": [],
   "source": [
    "result_nouns = []\n",
    "result_hyperonyms = []\n",
    "result_hyper_names = []\n",
    "for n, h in zip(public_test_nouns.noun, public_test_hypos):\n",
    "    for hypo in h:\n",
    "        result_nouns.append(n)\n",
    "        result_hyperonyms.append(hypo)\n",
    "        result_hyper_names.append(id2synset[hypo]['@ruthes_name'])\n",
    "result_df = pd.DataFrame({'noun': result_nouns, 'result': result_hyperonyms, 'result_text': result_hyper_names})\n",
    "result_df.sample(10)"
   ]
  },
  {
   "cell_type": "code",
   "execution_count": 210,
   "metadata": {},
   "outputs": [],
   "source": []
  },
  {
   "cell_type": "code",
   "execution_count": 215,
   "metadata": {},
   "outputs": [
    {
     "data": {
      "text/html": [
       "<div>\n",
       "<style scoped>\n",
       "    .dataframe tbody tr th:only-of-type {\n",
       "        vertical-align: middle;\n",
       "    }\n",
       "\n",
       "    .dataframe tbody tr th {\n",
       "        vertical-align: top;\n",
       "    }\n",
       "\n",
       "    .dataframe thead th {\n",
       "        text-align: right;\n",
       "    }\n",
       "</style>\n",
       "<table border=\"1\" class=\"dataframe\">\n",
       "  <thead>\n",
       "    <tr style=\"text-align: right;\">\n",
       "      <th></th>\n",
       "      <th>noun</th>\n",
       "      <th>result</th>\n",
       "      <th>result_text</th>\n",
       "    </tr>\n",
       "  </thead>\n",
       "  <tbody>\n",
       "    <tr>\n",
       "      <th>5222</th>\n",
       "      <td>ПУБЛИКАТОР</td>\n",
       "      <td>142922-N</td>\n",
       "      <td>КОНСТИТУЦИОНАЛЬНЫЕ ОСОБЕННОСТИ ОРГАНИЗМА</td>\n",
       "    </tr>\n",
       "    <tr>\n",
       "      <th>2571</th>\n",
       "      <td>КИПРЕЙ</td>\n",
       "      <td>125061-N</td>\n",
       "      <td>СУБЪЕКТ СУЖДЕНИЯ</td>\n",
       "    </tr>\n",
       "    <tr>\n",
       "      <th>435</th>\n",
       "      <td>БАКАЛАВРИАТ</td>\n",
       "      <td>145529-N</td>\n",
       "      <td>ФУНКЦИОНАЛЬНАЯ НЕДОСТАТОЧНОСТЬ ОРГАНА</td>\n",
       "    </tr>\n",
       "    <tr>\n",
       "      <th>5188</th>\n",
       "      <td>ПРОУШИНА</td>\n",
       "      <td>119304-N</td>\n",
       "      <td>ПИТАТЕЛЬНЫЙ (СОДЕРЖАЩИЙ НЕОБХОДИМЫЕ ВЕЩЕСТВА)</td>\n",
       "    </tr>\n",
       "    <tr>\n",
       "      <th>2324</th>\n",
       "      <td>КАЙТБОРДИНГ</td>\n",
       "      <td>140126-N</td>\n",
       "      <td>СОЦИАЛЬНО-ДЕМОГРАФИЧЕСКАЯ ОБЩНОСТЬ</td>\n",
       "    </tr>\n",
       "    <tr>\n",
       "      <th>4539</th>\n",
       "      <td>ПАТИССОН</td>\n",
       "      <td>143716-N</td>\n",
       "      <td>ПАРАЗИТИЗМ, ПОТРЕБИТЕЛЬСТВО</td>\n",
       "    </tr>\n",
       "    <tr>\n",
       "      <th>3234</th>\n",
       "      <td>ЛОБСТЕР</td>\n",
       "      <td>150414-N</td>\n",
       "      <td>БИОЛОГИЧЕСКАЯ СУЩНОСТЬ</td>\n",
       "    </tr>\n",
       "    <tr>\n",
       "      <th>2272</th>\n",
       "      <td>ИСТОРИОГРАФ</td>\n",
       "      <td>142922-N</td>\n",
       "      <td>КОНСТИТУЦИОНАЛЬНЫЕ ОСОБЕННОСТИ ОРГАНИЗМА</td>\n",
       "    </tr>\n",
       "    <tr>\n",
       "      <th>1616</th>\n",
       "      <td>ДЕЛИСТИНГ</td>\n",
       "      <td>141259-N</td>\n",
       "      <td>УЧАСТНИК ВНЕШНЕЭКОНОМИЧЕСКОЙ ДЕЯТЕЛЬНОСТИ</td>\n",
       "    </tr>\n",
       "    <tr>\n",
       "      <th>2588</th>\n",
       "      <td>КИСЕТ</td>\n",
       "      <td>132381-N</td>\n",
       "      <td>ПОТРЕБИТЕЛЬСКИЕ ТОВАРЫ ДЛИТЕЛЬНОГО ПОЛЬЗОВАНИЯ</td>\n",
       "    </tr>\n",
       "  </tbody>\n",
       "</table>\n",
       "</div>"
      ],
      "text/plain": [
       "             noun    result                                     result_text\n",
       "5222   ПУБЛИКАТОР  142922-N        КОНСТИТУЦИОНАЛЬНЫЕ ОСОБЕННОСТИ ОРГАНИЗМА\n",
       "2571       КИПРЕЙ  125061-N                                СУБЪЕКТ СУЖДЕНИЯ\n",
       "435   БАКАЛАВРИАТ  145529-N           ФУНКЦИОНАЛЬНАЯ НЕДОСТАТОЧНОСТЬ ОРГАНА\n",
       "5188     ПРОУШИНА  119304-N   ПИТАТЕЛЬНЫЙ (СОДЕРЖАЩИЙ НЕОБХОДИМЫЕ ВЕЩЕСТВА)\n",
       "2324  КАЙТБОРДИНГ  140126-N              СОЦИАЛЬНО-ДЕМОГРАФИЧЕСКАЯ ОБЩНОСТЬ\n",
       "4539     ПАТИССОН  143716-N                     ПАРАЗИТИЗМ, ПОТРЕБИТЕЛЬСТВО\n",
       "3234      ЛОБСТЕР  150414-N                          БИОЛОГИЧЕСКАЯ СУЩНОСТЬ\n",
       "2272  ИСТОРИОГРАФ  142922-N        КОНСТИТУЦИОНАЛЬНЫЕ ОСОБЕННОСТИ ОРГАНИЗМА\n",
       "1616    ДЕЛИСТИНГ  141259-N       УЧАСТНИК ВНЕШНЕЭКОНОМИЧЕСКОЙ ДЕЯТЕЛЬНОСТИ\n",
       "2588        КИСЕТ  132381-N  ПОТРЕБИТЕЛЬСКИЕ ТОВАРЫ ДЛИТЕЛЬНОГО ПОЛЬЗОВАНИЯ"
      ]
     },
     "execution_count": 215,
     "metadata": {},
     "output_type": "execute_result"
    }
   ],
   "source": []
  },
  {
   "cell_type": "code",
   "execution_count": 216,
   "metadata": {},
   "outputs": [],
   "source": [
    "result_df.to_csv('nouns_ft_linreg_v1.tsv', sep='\\t', encoding='utf-8', header=None, index=None)"
   ]
  },
  {
   "cell_type": "markdown",
   "metadata": {},
   "source": [
    "# Второй подход: метод ближайших соседей\n",
    "\n",
    "А что, если находить \"родителей\", просто глядя на предков похожих текстов?"
   ]
  },
  {
   "cell_type": "code",
   "execution_count": 232,
   "metadata": {},
   "outputs": [
    {
     "name": "stdout",
     "output_type": "stream",
     "text": [
      "КОПЧЕНЫЕ МЯСНЫЕ ПРОДУКТЫ\n",
      "МЯСНЫЕ ПРОДУКТЫ\n",
      "КОПЧЕНЫЕ ПРОДУКТЫ\n"
     ]
    },
    {
     "data": {
      "text/html": [
       "<div>\n",
       "<style scoped>\n",
       "    .dataframe tbody tr th:only-of-type {\n",
       "        vertical-align: middle;\n",
       "    }\n",
       "\n",
       "    .dataframe tbody tr th {\n",
       "        vertical-align: top;\n",
       "    }\n",
       "\n",
       "    .dataframe thead th {\n",
       "        text-align: right;\n",
       "    }\n",
       "</style>\n",
       "<table border=\"1\" class=\"dataframe\">\n",
       "  <thead>\n",
       "    <tr style=\"text-align: right;\">\n",
       "      <th></th>\n",
       "      <th>SYNSET_ID</th>\n",
       "      <th>TEXT</th>\n",
       "      <th>PARENTS</th>\n",
       "      <th>DEFINITION</th>\n",
       "      <th>parents_list</th>\n",
       "    </tr>\n",
       "  </thead>\n",
       "  <tbody>\n",
       "    <tr>\n",
       "      <th>12592</th>\n",
       "      <td>109065-N</td>\n",
       "      <td>БЕКОН</td>\n",
       "      <td>108355-N,108354-N,143722-N</td>\n",
       "      <td>NaN</td>\n",
       "      <td>[108355-N, 108354-N, 143722-N]</td>\n",
       "    </tr>\n",
       "  </tbody>\n",
       "</table>\n",
       "</div>"
      ],
      "text/plain": [
       "      SYNSET_ID   TEXT                     PARENTS DEFINITION  \\\n",
       "12592  109065-N  БЕКОН  108355-N,108354-N,143722-N        NaN   \n",
       "\n",
       "                         parents_list  \n",
       "12592  [108355-N, 108354-N, 143722-N]  "
      ]
     },
     "execution_count": 232,
     "metadata": {},
     "output_type": "execute_result"
    }
   ],
   "source": [
    "row = ttrain.sample(1)\n",
    "\n",
    "for p in row.parents_list.iloc[0]:\n",
    "    print(id2synset[p]['@ruthes_name'])\n",
    "row"
   ]
  },
  {
   "cell_type": "code",
   "execution_count": 233,
   "metadata": {},
   "outputs": [
    {
     "name": "stdout",
     "output_type": "stream",
     "text": [
      "0.0 109065-N БЕКОН\n",
      "0.8712710167339206 150730-N ТМИН (ПРЯНОСТЬ)\n",
      "0.8841478623142824 108934-N ШАМПИНЬОН\n",
      "0.8960343825610356 144272-N МЯСНОЕ ФИЛЕ\n",
      "0.8995815147611657 109097-N ВЕРМИШЕЛЬ\n",
      "0.9025935634314826 109769-N САРДИНА\n",
      "0.9049464338759658 143187-N ЧИПСЫ\n",
      "0.9052300484934338 107975-N АНЧОУС\n",
      "0.9117641744036451 111660-N ПЕРЕЦ (ПРЯНОСТЬ)\n",
      "0.9121563760060882 109768-N САРДЕЛЬКА\n"
     ]
    }
   ],
   "source": [
    "vec = vecs[id2idx[row.SYNSET_ID.iloc[0]]]\n",
    "\n",
    "distances, indices = tree.query(vec.reshape(1, -1), k=10)\n",
    "\n",
    "for i, d in zip(indices.ravel(), distances.ravel()):\n",
    "    print(d, ids[i], id2synset[ids[i]]['@ruthes_name'])"
   ]
  },
  {
   "cell_type": "code",
   "execution_count": 263,
   "metadata": {},
   "outputs": [],
   "source": [
    "from collections import Counter"
   ]
  },
  {
   "cell_type": "code",
   "execution_count": 378,
   "metadata": {},
   "outputs": [
    {
     "name": "stdout",
     "output_type": "stream",
     "text": [
      "ДАЛЬТОНИК\n",
      "0.908786353357731 106371-N ДАЛЛАС\n",
      "0.93271615402465 142698-N ТОНИК\n",
      "0.9738889412194028 125980-N ДАЛЬНОМЕР\n",
      "0.9810747714139905 140495-N САНТА-БАРБАРА\n",
      "0.9834304232131871 105005-N КОЛОМБО\n",
      "0.9963476631222952 105193-N СЕНТ-ВИНСЕНТ\n",
      "0.9964537579113368 140703-N РИМЕЙК ФИЛЬМА\n",
      "0.996730228507747 104693-N СЕНТ-ЛЮСИЯ\n",
      "0.9986403244813133 136332-N БРЕЙК-ДАНС\n",
      "1.002067081091842 127132-N ПЕРЕЛЕТ (ПАДЕНИЕ ДАЛЬШЕ ЦЕЛИ)\n",
      "67\n",
      "7 153782-N ПОСТОЯННАЯ СУЩНОСТЬ\n",
      "5 147134-N ФИЗИЧЕСКАЯ СУЩНОСТЬ\n",
      "4 149182-N ПУБЛИЧНО-ПРАВОВОЕ ОБРАЗОВАНИЕ\n",
      "4 149189-N СУБЪЕКТ ПРАВА\n",
      "4 138167-N СУБЪЕКТ ДЕЯТЕЛЬНОСТИ\n",
      "3 123680-N МУНИЦИПАЛЬНОЕ ОБРАЗОВАНИЕ\n",
      "3 590-N НАСЕЛЕННЫЙ ПУНКТ\n",
      "3 2052-N АДМИНИСТРАТИВНО-ТЕРРИТОРИАЛЬНАЯ ЕДИНИЦА\n",
      "3 145516-N ГОРОДСКОЕ ПОСЕЛЕНИЕ\n",
      "3 7166-N ГЕОГРАФИЧЕСКИЙ ОБЪЕКТ\n"
     ]
    }
   ],
   "source": [
    "text = public_test_nouns.noun.sample(1).iloc[0]\n",
    "print(text)\n",
    "vec = text2vec(text)\n",
    "distances, indices = tree.query(vec.reshape(1, -1), k=10)\n",
    "\n",
    "hypotheses = Counter()\n",
    "\n",
    "for i, d in zip(indices.ravel(), distances.ravel()):\n",
    "    print(d, ids[i], id2synset[ids[i]]['@ruthes_name'])\n",
    "    for parent in id2hypernym.get(ids[i], set()):\n",
    "        hypotheses[parent] += 1\n",
    "print(len(hypotheses))\n",
    "for hypo, cnt in hypotheses.most_common(10):\n",
    "    print(cnt, hypo, id2synset[hypo]['@ruthes_name'])"
   ]
  },
  {
   "cell_type": "code",
   "execution_count": 283,
   "metadata": {},
   "outputs": [],
   "source": [
    "def hypotheses_knn(text, index, k=10, verbose=False):\n",
    "    vec = text2vec(text)\n",
    "    distances, indices = index.query(vec.reshape(1, -1), k=k)\n",
    "    hypotheses = Counter()\n",
    "    for i, d in zip(indices.ravel(), distances.ravel()):\n",
    "        if verbose:\n",
    "            print(d, ids[i], id2synset[ids[i]]['@ruthes_name'])\n",
    "        for parent in id2hypernym.get(ids[i], set()):\n",
    "            hypotheses[parent] += 1\n",
    "    if verbose:\n",
    "        print(len(hypotheses))\n",
    "    result = []\n",
    "    for hypo, cnt in hypotheses.most_common(10):\n",
    "        if verbose:\n",
    "            print(cnt, hypo, id2synset[hypo]['@ruthes_name'])\n",
    "        result.append(hypo)\n",
    "    return result"
   ]
  },
  {
   "cell_type": "code",
   "execution_count": 288,
   "metadata": {},
   "outputs": [
    {
     "name": "stdout",
     "output_type": "stream",
     "text": [
      "0.0 108058-N ТЕТЕРЕВ\n",
      "0.7437579398387988 8956-N ГЛУХАРЬ\n",
      "0.7674193551437258 143552-N СЕМЕЙСТВО ТЕТЕРЕВИНЫЕ\n",
      "0.7996734758427403 8911-N КУРОПАТКА\n",
      "0.8146013732630116 107767-N ЖУРАВЛЬ (ПТИЦА)\n",
      "0.8384177525280063 107811-N ВОРОНА (ПТИЦА)\n",
      "0.8384968496822458 108189-N ОВСЯНКА (ПТИЦА)\n",
      "0.8472328710193752 102893-N ТЕТЕРЕВ (ПРИТ. ДНЕПРА)\n",
      "0.8545029887220364 134699-N РЯБЧИК\n",
      "0.8639614736208439 107927-N КУКУШКА (ПТИЦА)\n",
      "21\n",
      "10 153782-N ПОСТОЯННАЯ СУЩНОСТЬ\n",
      "10 147134-N ФИЗИЧЕСКАЯ СУЩНОСТЬ\n",
      "9 963-N ПТИЦА\n",
      "9 150414-N БИОЛОГИЧЕСКАЯ СУЩНОСТЬ\n",
      "9 106579-N ЖИВОЙ ОРГАНИЗМ\n",
      "9 144174-N ЖИВОТНОЕ\n",
      "8 4091-N ДИКОЕ ЖИВОТНОЕ\n",
      "8 5681-N ДИКАЯ ПТИЦА\n",
      "5 141894-N ПЕРНАТАЯ ДИЧЬ\n",
      "5 145929-N ОХОТНИЧЬЕ-ПРОМЫСЛОВЫЕ ЖИВОТНЫЕ\n"
     ]
    },
    {
     "data": {
      "text/plain": [
       "['153782-N',\n",
       " '147134-N',\n",
       " '963-N',\n",
       " '150414-N',\n",
       " '106579-N',\n",
       " '144174-N',\n",
       " '4091-N',\n",
       " '5681-N',\n",
       " '141894-N',\n",
       " '145929-N']"
      ]
     },
     "execution_count": 288,
     "metadata": {},
     "output_type": "execute_result"
    }
   ],
   "source": [
    "hypotheses_knn('тетерев', index=tree, verbose=True)"
   ]
  },
  {
   "cell_type": "code",
   "execution_count": 289,
   "metadata": {},
   "outputs": [
    {
     "data": {
      "text/html": [
       "<div>\n",
       "<style scoped>\n",
       "    .dataframe tbody tr th:only-of-type {\n",
       "        vertical-align: middle;\n",
       "    }\n",
       "\n",
       "    .dataframe tbody tr th {\n",
       "        vertical-align: top;\n",
       "    }\n",
       "\n",
       "    .dataframe thead th {\n",
       "        text-align: right;\n",
       "    }\n",
       "</style>\n",
       "<table border=\"1\" class=\"dataframe\">\n",
       "  <thead>\n",
       "    <tr style=\"text-align: right;\">\n",
       "      <th></th>\n",
       "      <th>SYNSET_ID</th>\n",
       "      <th>TEXT</th>\n",
       "      <th>PARENTS</th>\n",
       "      <th>DEFINITION</th>\n",
       "      <th>parents_list</th>\n",
       "    </tr>\n",
       "  </thead>\n",
       "  <tbody>\n",
       "    <tr>\n",
       "      <th>4203</th>\n",
       "      <td>131140-N</td>\n",
       "      <td>ЗАГНОЕНИЕ,ГНОЕНИЕ</td>\n",
       "      <td>120550-N,125011-N,152470-N</td>\n",
       "      <td>NaN</td>\n",
       "      <td>[120550-N, 125011-N, 152470-N]</td>\n",
       "    </tr>\n",
       "    <tr>\n",
       "      <th>13749</th>\n",
       "      <td>138126-N</td>\n",
       "      <td>УДАРОПРОЧНОСТЬ</td>\n",
       "      <td>127016-N,118598-N,119010-N</td>\n",
       "      <td>NaN</td>\n",
       "      <td>[127016-N, 118598-N, 119010-N]</td>\n",
       "    </tr>\n",
       "    <tr>\n",
       "      <th>15441</th>\n",
       "      <td>136755-N</td>\n",
       "      <td>ЭМБОЛИЯ</td>\n",
       "      <td>136754-N,6129-N,119562-N</td>\n",
       "      <td>NaN</td>\n",
       "      <td>[136754-N, 6129-N, 119562-N]</td>\n",
       "    </tr>\n",
       "  </tbody>\n",
       "</table>\n",
       "</div>"
      ],
      "text/plain": [
       "      SYNSET_ID               TEXT                     PARENTS DEFINITION  \\\n",
       "4203   131140-N  ЗАГНОЕНИЕ,ГНОЕНИЕ  120550-N,125011-N,152470-N        NaN   \n",
       "13749  138126-N     УДАРОПРОЧНОСТЬ  127016-N,118598-N,119010-N        NaN   \n",
       "15441  136755-N            ЭМБОЛИЯ    136754-N,6129-N,119562-N        NaN   \n",
       "\n",
       "                         parents_list  \n",
       "4203   [120550-N, 125011-N, 152470-N]  \n",
       "13749  [127016-N, 118598-N, 119010-N]  \n",
       "15441    [136754-N, 6129-N, 119562-N]  "
      ]
     },
     "execution_count": 289,
     "metadata": {},
     "output_type": "execute_result"
    }
   ],
   "source": [
    "ttest.sample(3)"
   ]
  },
  {
   "cell_type": "code",
   "execution_count": 296,
   "metadata": {},
   "outputs": [
    {
     "data": {
      "application/vnd.jupyter.widget-view+json": {
       "model_id": "524ba713c5734c69b33fc0507dc5df55",
       "version_major": 2,
       "version_minor": 0
      },
      "text/plain": [
       "HBox(children=(FloatProgress(value=0.0, max=8395.0), HTML(value='')))"
      ]
     },
     "metadata": {},
     "output_type": "display_data"
    },
    {
     "name": "stdout",
     "output_type": "stream",
     "text": [
      "\n"
     ]
    }
   ],
   "source": [
    "ttest_hypotheses = [hypotheses_knn(txt, index=tree) for txt in tqdm(ttest.TEXT)]"
   ]
  },
  {
   "cell_type": "code",
   "execution_count": 298,
   "metadata": {},
   "outputs": [
    {
     "name": "stdout",
     "output_type": "stream",
     "text": [
      "0.3970220369267421\n",
      "0.16911255808120496\n"
     ]
    },
    {
     "data": {
      "text/plain": [
       "count    8395.000000\n",
       "mean        0.067141\n",
       "std         0.121018\n",
       "min         0.000000\n",
       "25%         0.000000\n",
       "50%         0.000000\n",
       "75%         0.083333\n",
       "max         1.000000\n",
       "dtype: float64"
      ]
     },
     "execution_count": 298,
     "metadata": {},
     "output_type": "execute_result"
    }
   ],
   "source": [
    "aps = pd.Series([evaluate.compute_ap(gt, hyps, k=10) for gt, hyps in zip(ttest_gt, ttest_hypotheses)])\n",
    "print((aps>0).mean())\n",
    "print(aps[aps>0].mean())\n",
    "aps.describe()"
   ]
  },
  {
   "cell_type": "code",
   "execution_count": 293,
   "metadata": {},
   "outputs": [
    {
     "data": {
      "application/vnd.jupyter.widget-view+json": {
       "model_id": "4d27b2b21ce646429615d92442cdcd9b",
       "version_major": 2,
       "version_minor": 0
      },
      "text/plain": [
       "HBox(children=(FloatProgress(value=0.0, max=762.0), HTML(value='')))"
      ]
     },
     "metadata": {},
     "output_type": "display_data"
    },
    {
     "name": "stdout",
     "output_type": "stream",
     "text": [
      "\n"
     ]
    }
   ],
   "source": [
    "public_test_hypos = [hypotheses_knn(t, index=tree) for t in tqdm(public_test_nouns.noun)]"
   ]
  },
  {
   "cell_type": "code",
   "execution_count": 362,
   "metadata": {},
   "outputs": [
    {
     "data": {
      "text/plain": [
       "count    762.000000\n",
       "mean       9.994751\n",
       "std        0.144905\n",
       "min        6.000000\n",
       "25%       10.000000\n",
       "50%       10.000000\n",
       "75%       10.000000\n",
       "max       10.000000\n",
       "dtype: float64"
      ]
     },
     "execution_count": 362,
     "metadata": {},
     "output_type": "execute_result"
    }
   ],
   "source": [
    "pd.Series(public_test_hypos).apply(len).describe()"
   ]
  },
  {
   "cell_type": "code",
   "execution_count": 294,
   "metadata": {},
   "outputs": [
    {
     "data": {
      "text/html": [
       "<div>\n",
       "<style scoped>\n",
       "    .dataframe tbody tr th:only-of-type {\n",
       "        vertical-align: middle;\n",
       "    }\n",
       "\n",
       "    .dataframe tbody tr th {\n",
       "        vertical-align: top;\n",
       "    }\n",
       "\n",
       "    .dataframe thead th {\n",
       "        text-align: right;\n",
       "    }\n",
       "</style>\n",
       "<table border=\"1\" class=\"dataframe\">\n",
       "  <thead>\n",
       "    <tr style=\"text-align: right;\">\n",
       "      <th></th>\n",
       "      <th>noun</th>\n",
       "      <th>result</th>\n",
       "      <th>result_text</th>\n",
       "    </tr>\n",
       "  </thead>\n",
       "  <tbody>\n",
       "    <tr>\n",
       "      <th>3454</th>\n",
       "      <td>МЕДИАНА</td>\n",
       "      <td>106451-N</td>\n",
       "      <td>МЕСТО В ПРОСТРАНСТВЕ</td>\n",
       "    </tr>\n",
       "    <tr>\n",
       "      <th>6999</th>\n",
       "      <td>ХАРЧО</td>\n",
       "      <td>107778-N</td>\n",
       "      <td>КУШАНЬЕ</td>\n",
       "    </tr>\n",
       "    <tr>\n",
       "      <th>3232</th>\n",
       "      <td>ЛОБСТЕР</td>\n",
       "      <td>820-N</td>\n",
       "      <td>ВЕЩЕСТВО</td>\n",
       "    </tr>\n",
       "    <tr>\n",
       "      <th>4438</th>\n",
       "      <td>ПАНТОГРАФ</td>\n",
       "      <td>111816-N</td>\n",
       "      <td>СОЗДАТЕЛЬ</td>\n",
       "    </tr>\n",
       "    <tr>\n",
       "      <th>2031</th>\n",
       "      <td>ЗАТОВАРИВАНИЕ</td>\n",
       "      <td>106473-N</td>\n",
       "      <td>ОБУСЛАВЛИВАТЬ, СПОСОБСТВОВАТЬ</td>\n",
       "    </tr>\n",
       "    <tr>\n",
       "      <th>7499</th>\n",
       "      <td>ЭЛЕФАНТИАЗ</td>\n",
       "      <td>2149-N</td>\n",
       "      <td>ЧЕЛОВЕК</td>\n",
       "    </tr>\n",
       "    <tr>\n",
       "      <th>4784</th>\n",
       "      <td>ПНЕВМОКОКК</td>\n",
       "      <td>147134-N</td>\n",
       "      <td>ФИЗИЧЕСКАЯ СУЩНОСТЬ</td>\n",
       "    </tr>\n",
       "    <tr>\n",
       "      <th>25</th>\n",
       "      <td>АВАЛЬ</td>\n",
       "      <td>106627-N</td>\n",
       "      <td>ГРУППА ЛЮДЕЙ</td>\n",
       "    </tr>\n",
       "    <tr>\n",
       "      <th>5241</th>\n",
       "      <td>ПУСТЕЛЬГА</td>\n",
       "      <td>147134-N</td>\n",
       "      <td>ФИЗИЧЕСКАЯ СУЩНОСТЬ</td>\n",
       "    </tr>\n",
       "    <tr>\n",
       "      <th>6930</th>\n",
       "      <td>ФРЕКИНГ</td>\n",
       "      <td>106646-N</td>\n",
       "      <td>ОТНОШЕНИЕ МЕЖДУ СУЩНОСТЯМИ</td>\n",
       "    </tr>\n",
       "  </tbody>\n",
       "</table>\n",
       "</div>"
      ],
      "text/plain": [
       "               noun    result                    result_text\n",
       "3454        МЕДИАНА  106451-N           МЕСТО В ПРОСТРАНСТВЕ\n",
       "6999          ХАРЧО  107778-N                        КУШАНЬЕ\n",
       "3232        ЛОБСТЕР     820-N                       ВЕЩЕСТВО\n",
       "4438      ПАНТОГРАФ  111816-N                      СОЗДАТЕЛЬ\n",
       "2031  ЗАТОВАРИВАНИЕ  106473-N  ОБУСЛАВЛИВАТЬ, СПОСОБСТВОВАТЬ\n",
       "7499     ЭЛЕФАНТИАЗ    2149-N                        ЧЕЛОВЕК\n",
       "4784     ПНЕВМОКОКК  147134-N            ФИЗИЧЕСКАЯ СУЩНОСТЬ\n",
       "25            АВАЛЬ  106627-N                   ГРУППА ЛЮДЕЙ\n",
       "5241      ПУСТЕЛЬГА  147134-N            ФИЗИЧЕСКАЯ СУЩНОСТЬ\n",
       "6930        ФРЕКИНГ  106646-N     ОТНОШЕНИЕ МЕЖДУ СУЩНОСТЯМИ"
      ]
     },
     "execution_count": 294,
     "metadata": {},
     "output_type": "execute_result"
    }
   ],
   "source": [
    "result_nouns = []\n",
    "result_hyperonyms = []\n",
    "result_hyper_names = []\n",
    "for n, h in zip(public_test_nouns.noun, public_test_hypos):\n",
    "    for hypo in h:\n",
    "        result_nouns.append(n)\n",
    "        result_hyperonyms.append(hypo)\n",
    "        result_hyper_names.append(id2synset[hypo]['@ruthes_name'])\n",
    "result_df = pd.DataFrame({'noun': result_nouns, 'result': result_hyperonyms, 'result_text': result_hyper_names})\n",
    "result_df.sample(10)"
   ]
  },
  {
   "cell_type": "code",
   "execution_count": 295,
   "metadata": {},
   "outputs": [],
   "source": [
    "result_df.to_csv('nouns_ft_knn_v2.tsv', sep='\\t', encoding='utf-8', header=None, index=None)"
   ]
  },
  {
   "cell_type": "code",
   "execution_count": null,
   "metadata": {},
   "outputs": [],
   "source": []
  }
 ],
 "metadata": {
  "kernelspec": {
   "display_name": "Python 3",
   "language": "python",
   "name": "python3"
  },
  "language_info": {
   "codemirror_mode": {
    "name": "ipython",
    "version": 3
   },
   "file_extension": ".py",
   "mimetype": "text/x-python",
   "name": "python",
   "nbconvert_exporter": "python",
   "pygments_lexer": "ipython3",
   "version": "3.6.8"
  }
 },
 "nbformat": 4,
 "nbformat_minor": 2
}
