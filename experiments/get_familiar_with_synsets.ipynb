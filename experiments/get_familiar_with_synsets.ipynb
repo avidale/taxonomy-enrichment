{
 "cells": [
  {
   "cell_type": "markdown",
   "metadata": {},
   "source": [
    "А ещё вот как можно: http://www.ruwordnet.ru/ru/search/МОСКВА"
   ]
  },
  {
   "cell_type": "code",
   "execution_count": 1,
   "metadata": {},
   "outputs": [],
   "source": [
    "import xmltodict\n",
    "import os\n",
    "import pandas as pd\n",
    "import numpy as np"
   ]
  },
  {
   "cell_type": "markdown",
   "metadata": {},
   "source": [
    "Скоры на моём тесте и на публичном:\n",
    "```\n",
    "* 0.005482            --> 0.0137 (линрег)\n",
    "* 0.067141            --> 0.0611 (knn)\n",
    "* 0.102801 (0.096671) --> 0.0593 (knn,  k=10, d=0, положил все синонимы в индекс)\n",
    "*          (0.1123  ) --> 0.0575534829 (k=10, d=0.3)\n",
    "*          (0.2111  ) --> 0.0722224826 (k= 3, d=0.3)\n",
    "*          (0.2666  ) --> 0.0764651814 (k= 1, d=0.3)\n",
    "```\n",
    "После правильного пересчёта GT\n",
    "```\n",
    "* 0.005482            --> 0.0137 (линрег)\n",
    "* 0.067141            --> 0.0611 (knn)\n",
    "* 0.102801 (0.096671) --> 0.0593 (knn,  k=10, d=0, положил все синонимы в индекс)\n",
    "*          (0.1123  ) --> 0.0575534829 (k=10, d=0.3)\n",
    "*          (0.2111  ) --> 0.0722224826 (k= 3, d=0.3)\n",
    "*          (0.2666  ) --> 0.0764651814 (k= 1, d=0.3)\n",
    "```\n",
    "\n",
    "Следующий шаг\n",
    "* положить в knn не по одному слову из синсета, а все (хотя бы - разделённые через запятую), чтобы обогатить пространство соседей. \n",
    "* попробовать выкачать другую модель, с бОльшим количеством слов"
   ]
  },
  {
   "cell_type": "markdown",
   "metadata": {},
   "source": [
    "# Данные"
   ]
  },
  {
   "cell_type": "code",
   "execution_count": 2,
   "metadata": {},
   "outputs": [],
   "source": [
    "repo_root = '..'"
   ]
  },
  {
   "cell_type": "code",
   "execution_count": 3,
   "metadata": {},
   "outputs": [],
   "source": [
    "with open('../data/ruwordnet/synsets.N.xml', 'r', encoding='utf-8') as f:\n",
    "    synsets_n_raw = xmltodict.parse(f.read(), process_namespaces=True)"
   ]
  },
  {
   "cell_type": "code",
   "execution_count": 4,
   "metadata": {},
   "outputs": [],
   "source": [
    "with open('../data/ruwordnet/synset_relations.N.xml', 'r', encoding='utf-8') as f:\n",
    "    rel_n_raw = xmltodict.parse(f.read(), process_namespaces=True)"
   ]
  },
  {
   "cell_type": "code",
   "execution_count": 5,
   "metadata": {},
   "outputs": [],
   "source": [
    "id2synset = {v['@id']: v for v in synsets_n_raw['synsets']['synset']}"
   ]
  },
  {
   "cell_type": "code",
   "execution_count": 261,
   "metadata": {},
   "outputs": [],
   "source": [
    "from collections import Counter, defaultdict"
   ]
  },
  {
   "cell_type": "code",
   "execution_count": 312,
   "metadata": {},
   "outputs": [
    {
     "data": {
      "text/plain": [
       "86549"
      ]
     },
     "execution_count": 312,
     "metadata": {},
     "output_type": "execute_result"
    }
   ],
   "source": [
    "word2sense = defaultdict(set)\n",
    "\n",
    "for synset_id, synset in id2synset.items():\n",
    "    senses = synset['sense']\n",
    "    if not isinstance(senses, list):\n",
    "        senses = [senses]\n",
    "    texts = {sense['#text'] for sense in senses}\n",
    "    texts.add(synset['@ruthes_name'])\n",
    "    for text in texts:\n",
    "        word2sense[text].add(synset_id)\n",
    "len(word2sense)"
   ]
  },
  {
   "cell_type": "code",
   "execution_count": null,
   "metadata": {},
   "outputs": [],
   "source": []
  },
  {
   "cell_type": "code",
   "execution_count": 6,
   "metadata": {},
   "outputs": [],
   "source": [
    "rel_df = pd.DataFrame(rel_n_raw['relations']['relation'])"
   ]
  },
  {
   "cell_type": "markdown",
   "metadata": {},
   "source": [
    "* гиперним - parent частный случай от child \n",
    "* гипоним - child более общий, чем parent\n",
    "* domain - parent относится к теме child\n",
    "* POS-synonymy - parent и child из разных частей речи\n",
    "* part holonym - parent является частью child\n",
    "* part meronym - parent является надсистемой child\n",
    "* instance hypernym - parent является одним из элементов, множество которых есть child\n",
    "* instance hyponym - parent является множеством, включающим в себя child. \n",
    "* antonym - противоположности (части речи выглядят покоцанными)\n",
    "\n",
    "Все свойства строго симметричны (кроме POS-synonymy, которая тоже симметрична, но распределена между разными файлами)"
   ]
  },
  {
   "cell_type": "code",
   "execution_count": 7,
   "metadata": {},
   "outputs": [],
   "source": [
    "rel_df['parent'] = rel_df['@parent_id'].apply(lambda x: id2synset[x]['@ruthes_name'])\n",
    "rel_df['child'] = rel_df['@child_id'].apply(lambda x: id2synset.get(x, {}).get('@ruthes_name'))"
   ]
  },
  {
   "cell_type": "code",
   "execution_count": 8,
   "metadata": {},
   "outputs": [
    {
     "data": {
      "text/plain": [
       "hyponym              37249\n",
       "hypernym             37249\n",
       "domain               27339\n",
       "POS-synonymy         18137\n",
       "part holonym          3448\n",
       "part meronym          3448\n",
       "instance hypernym     1861\n",
       "instance hyponym      1861\n",
       "antonym                442\n",
       "Name: @name, dtype: int64"
      ]
     },
     "execution_count": 8,
     "metadata": {},
     "output_type": "execute_result"
    }
   ],
   "source": [
    "rel_df['@name'].value_counts()"
   ]
  },
  {
   "cell_type": "code",
   "execution_count": 9,
   "metadata": {},
   "outputs": [
    {
     "data": {
      "text/html": [
       "<div>\n",
       "<style scoped>\n",
       "    .dataframe tbody tr th:only-of-type {\n",
       "        vertical-align: middle;\n",
       "    }\n",
       "\n",
       "    .dataframe tbody tr th {\n",
       "        vertical-align: top;\n",
       "    }\n",
       "\n",
       "    .dataframe thead th {\n",
       "        text-align: right;\n",
       "    }\n",
       "</style>\n",
       "<table border=\"1\" class=\"dataframe\">\n",
       "  <thead>\n",
       "    <tr style=\"text-align: right;\">\n",
       "      <th></th>\n",
       "      <th>@parent_id</th>\n",
       "      <th>@child_id</th>\n",
       "      <th>@name</th>\n",
       "      <th>parent</th>\n",
       "      <th>child</th>\n",
       "    </tr>\n",
       "  </thead>\n",
       "  <tbody>\n",
       "    <tr>\n",
       "      <th>100694</th>\n",
       "      <td>4577-N</td>\n",
       "      <td>138032-N</td>\n",
       "      <td>hyponym</td>\n",
       "      <td>ХИМИЧЕСКОЕ СЫРЬЕ</td>\n",
       "      <td>ПРЕКУРСОР</td>\n",
       "    </tr>\n",
       "    <tr>\n",
       "      <th>54726</th>\n",
       "      <td>111501-N</td>\n",
       "      <td>129766-N</td>\n",
       "      <td>hyponym</td>\n",
       "      <td>БРОШЮРА</td>\n",
       "      <td>ОТТИСК СТАТЬИ</td>\n",
       "    </tr>\n",
       "    <tr>\n",
       "      <th>8761</th>\n",
       "      <td>123-N</td>\n",
       "      <td>3489-N</td>\n",
       "      <td>hyponym</td>\n",
       "      <td>ШКОЛА</td>\n",
       "      <td>ОБЩЕОБРАЗОВАТЕЛЬНАЯ ШКОЛА</td>\n",
       "    </tr>\n",
       "    <tr>\n",
       "      <th>117969</th>\n",
       "      <td>113110-N</td>\n",
       "      <td>131325-N</td>\n",
       "      <td>hyponym</td>\n",
       "      <td>ГАРНИТУР</td>\n",
       "      <td>МЕБЕЛЬНЫЙ ГАРНИТУР</td>\n",
       "    </tr>\n",
       "    <tr>\n",
       "      <th>73826</th>\n",
       "      <td>106489-N</td>\n",
       "      <td>107129-N</td>\n",
       "      <td>hyponym</td>\n",
       "      <td>РЕГУЛИРОВАТЬ, УПОРЯДОЧИВАТЬ</td>\n",
       "      <td>СИСТЕМАТИЗИРОВАТЬ</td>\n",
       "    </tr>\n",
       "    <tr>\n",
       "      <th>73764</th>\n",
       "      <td>124141-N</td>\n",
       "      <td>136604-N</td>\n",
       "      <td>hyponym</td>\n",
       "      <td>ПОДОРВАТЬ, РАСШАТАТЬ</td>\n",
       "      <td>ДИСКРЕДИТИРОВАТЬ</td>\n",
       "    </tr>\n",
       "    <tr>\n",
       "      <th>70665</th>\n",
       "      <td>2720-N</td>\n",
       "      <td>114404-N</td>\n",
       "      <td>hyponym</td>\n",
       "      <td>АВТОР</td>\n",
       "      <td>СОАВТОР</td>\n",
       "    </tr>\n",
       "    <tr>\n",
       "      <th>88662</th>\n",
       "      <td>111490-N</td>\n",
       "      <td>128317-N</td>\n",
       "      <td>hyponym</td>\n",
       "      <td>СОЮЗ (ОБЪЕДИНЕНИЕ)</td>\n",
       "      <td>ФЕДЕРАЦИЯ (ОРГАНИЗАЦИЯ)</td>\n",
       "    </tr>\n",
       "    <tr>\n",
       "      <th>76146</th>\n",
       "      <td>148292-N</td>\n",
       "      <td>125159-N</td>\n",
       "      <td>hyponym</td>\n",
       "      <td>АВТОР-ИСПОЛНИТЕЛЬ</td>\n",
       "      <td>БАРД (АВТОР-ИСПОЛНИТЕЛЬ)</td>\n",
       "    </tr>\n",
       "    <tr>\n",
       "      <th>74944</th>\n",
       "      <td>107598-N</td>\n",
       "      <td>126386-N</td>\n",
       "      <td>hyponym</td>\n",
       "      <td>РАССУЖДЕНИЕ (УМОЗАКЛЮЧЕНИЕ)</td>\n",
       "      <td>КАЗУИСТИКА (РАССУЖДЕНИЕ)</td>\n",
       "    </tr>\n",
       "  </tbody>\n",
       "</table>\n",
       "</div>"
      ],
      "text/plain": [
       "       @parent_id @child_id    @name                       parent  \\\n",
       "100694     4577-N  138032-N  hyponym             ХИМИЧЕСКОЕ СЫРЬЕ   \n",
       "54726    111501-N  129766-N  hyponym                      БРОШЮРА   \n",
       "8761        123-N    3489-N  hyponym                        ШКОЛА   \n",
       "117969   113110-N  131325-N  hyponym                     ГАРНИТУР   \n",
       "73826    106489-N  107129-N  hyponym  РЕГУЛИРОВАТЬ, УПОРЯДОЧИВАТЬ   \n",
       "73764    124141-N  136604-N  hyponym         ПОДОРВАТЬ, РАСШАТАТЬ   \n",
       "70665      2720-N  114404-N  hyponym                        АВТОР   \n",
       "88662    111490-N  128317-N  hyponym           СОЮЗ (ОБЪЕДИНЕНИЕ)   \n",
       "76146    148292-N  125159-N  hyponym            АВТОР-ИСПОЛНИТЕЛЬ   \n",
       "74944    107598-N  126386-N  hyponym  РАССУЖДЕНИЕ (УМОЗАКЛЮЧЕНИЕ)   \n",
       "\n",
       "                            child  \n",
       "100694                  ПРЕКУРСОР  \n",
       "54726               ОТТИСК СТАТЬИ  \n",
       "8761    ОБЩЕОБРАЗОВАТЕЛЬНАЯ ШКОЛА  \n",
       "117969         МЕБЕЛЬНЫЙ ГАРНИТУР  \n",
       "73826           СИСТЕМАТИЗИРОВАТЬ  \n",
       "73764            ДИСКРЕДИТИРОВАТЬ  \n",
       "70665                     СОАВТОР  \n",
       "88662     ФЕДЕРАЦИЯ (ОРГАНИЗАЦИЯ)  \n",
       "76146    БАРД (АВТОР-ИСПОЛНИТЕЛЬ)  \n",
       "74944    КАЗУИСТИКА (РАССУЖДЕНИЕ)  "
      ]
     },
     "execution_count": 9,
     "metadata": {},
     "output_type": "execute_result"
    }
   ],
   "source": [
    "rel_df[rel_df['@name']=='hyponym'].sample(10)"
   ]
  },
  {
   "cell_type": "code",
   "execution_count": 10,
   "metadata": {},
   "outputs": [
    {
     "data": {
      "text/plain": [
       "OrderedDict([('@parent_id', '5417-N'),\n",
       "             ('@child_id', '2921-N'),\n",
       "             ('@name', 'domain')])"
      ]
     },
     "execution_count": 10,
     "metadata": {},
     "output_type": "execute_result"
    }
   ],
   "source": [
    "rel_n_raw['relations']['relation'][10000]"
   ]
  },
  {
   "cell_type": "code",
   "execution_count": 11,
   "metadata": {},
   "outputs": [
    {
     "data": {
      "text/plain": [
       "OrderedDict([('@id', '7793-N'),\n",
       "             ('@ruthes_name', 'ПОДВЕДОМСТВЕННОСТЬ СУДАМ'),\n",
       "             ('@definition', ''),\n",
       "             ('@part_of_speech', 'N'),\n",
       "             ('sense',\n",
       "              [OrderedDict([('@id', '7793-N-109004'),\n",
       "                            ('#text', 'ПОДВЕДОМСТВЕННОСТЬ')]),\n",
       "               OrderedDict([('@id', '7793-N-208651'),\n",
       "                            ('#text', 'ПОДВЕДОМСТВЕННОСТЬ СУД')]),\n",
       "               OrderedDict([('@id', '7793-N-208650'),\n",
       "                            ('#text', 'ПОДВЕДОМСТВЕННОСТЬ ДЕЛО')]),\n",
       "               OrderedDict([('@id', '7793-N-215552'),\n",
       "                            ('#text', 'СУДЕБНЫЙ ПОДВЕДОМСТВЕННОСТЬ')]),\n",
       "               OrderedDict([('@id', '7793-N-118387'),\n",
       "                            ('#text', 'СУДЕБНЫЙ ЮРИСДИКЦИЯ')]),\n",
       "               OrderedDict([('@id', '7793-N-215553'),\n",
       "                            ('#text', 'ЮРИСДИКЦИЯ СУД')]),\n",
       "               OrderedDict([('@id', '7793-N-210822'),\n",
       "                            ('#text', 'НЕПОДВЕДОМСТВЕННОСТЬ')])])])"
      ]
     },
     "execution_count": 11,
     "metadata": {},
     "output_type": "execute_result"
    }
   ],
   "source": [
    "synsets_n_raw['synsets']['synset'][10]"
   ]
  },
  {
   "cell_type": "code",
   "execution_count": 12,
   "metadata": {},
   "outputs": [],
   "source": [
    "train_n = pd.read_csv('../data/training_data/training_nouns.tsv', sep='\\t', encoding='utf-8')\n",
    "train_n['parents_list'] = train_n.PARENTS.apply(lambda x: x.split(','))"
   ]
  },
  {
   "cell_type": "code",
   "execution_count": 13,
   "metadata": {},
   "outputs": [
    {
     "data": {
      "text/plain": [
       "29296"
      ]
     },
     "execution_count": 13,
     "metadata": {},
     "output_type": "execute_result"
    }
   ],
   "source": [
    "len(id2synset)"
   ]
  },
  {
   "cell_type": "code",
   "execution_count": 14,
   "metadata": {},
   "outputs": [
    {
     "data": {
      "text/html": [
       "<div>\n",
       "<style scoped>\n",
       "    .dataframe tbody tr th:only-of-type {\n",
       "        vertical-align: middle;\n",
       "    }\n",
       "\n",
       "    .dataframe tbody tr th {\n",
       "        vertical-align: top;\n",
       "    }\n",
       "\n",
       "    .dataframe thead th {\n",
       "        text-align: right;\n",
       "    }\n",
       "</style>\n",
       "<table border=\"1\" class=\"dataframe\">\n",
       "  <thead>\n",
       "    <tr style=\"text-align: right;\">\n",
       "      <th></th>\n",
       "      <th>SYNSET_ID</th>\n",
       "      <th>TEXT</th>\n",
       "      <th>PARENTS</th>\n",
       "      <th>DEFINITION</th>\n",
       "      <th>parents_list</th>\n",
       "    </tr>\n",
       "  </thead>\n",
       "  <tbody>\n",
       "    <tr>\n",
       "      <th>16679</th>\n",
       "      <td>124290-N</td>\n",
       "      <td>ПРОЛЕТАРИЙ</td>\n",
       "      <td>110125-N,2550-N</td>\n",
       "      <td>NaN</td>\n",
       "      <td>[110125-N, 2550-N]</td>\n",
       "    </tr>\n",
       "    <tr>\n",
       "      <th>9394</th>\n",
       "      <td>129086-N</td>\n",
       "      <td>ОБЛЕГЧЕНИЕ</td>\n",
       "      <td>117914-N,106802-N</td>\n",
       "      <td>NaN</td>\n",
       "      <td>[117914-N, 106802-N]</td>\n",
       "    </tr>\n",
       "    <tr>\n",
       "      <th>6450</th>\n",
       "      <td>4783-N</td>\n",
       "      <td>НАЦИЗМ</td>\n",
       "      <td>3144-N,600-N,2801-N,6639-N</td>\n",
       "      <td>доктрина, сочетающая фашизм с расизмом; официа...</td>\n",
       "      <td>[3144-N, 600-N, 2801-N, 6639-N]</td>\n",
       "    </tr>\n",
       "    <tr>\n",
       "      <th>14571</th>\n",
       "      <td>125643-N</td>\n",
       "      <td>УКОРЕНЕНИЕ</td>\n",
       "      <td>125640-N,125642-N,131211-N</td>\n",
       "      <td>NaN</td>\n",
       "      <td>[125640-N, 125642-N, 131211-N]</td>\n",
       "    </tr>\n",
       "    <tr>\n",
       "      <th>16480</th>\n",
       "      <td>116963-N</td>\n",
       "      <td>КАССА</td>\n",
       "      <td>1276-N,566-N</td>\n",
       "      <td>NaN</td>\n",
       "      <td>[1276-N, 566-N]</td>\n",
       "    </tr>\n",
       "    <tr>\n",
       "      <th>16182</th>\n",
       "      <td>104134-N</td>\n",
       "      <td>ЭТНА</td>\n",
       "      <td>4928-N,3484-N,141139-N</td>\n",
       "      <td>NaN</td>\n",
       "      <td>[4928-N, 3484-N, 141139-N]</td>\n",
       "    </tr>\n",
       "    <tr>\n",
       "      <th>13423</th>\n",
       "      <td>142063-N</td>\n",
       "      <td>АРТИСТ,АРТИСТКА,АКТРИСА,ЛИЦЕДЕЙ,ЛИЦЕДЕЙКА,АКТЕР</td>\n",
       "      <td>124715-N,111320-N</td>\n",
       "      <td>NaN</td>\n",
       "      <td>[124715-N, 111320-N]</td>\n",
       "    </tr>\n",
       "    <tr>\n",
       "      <th>2624</th>\n",
       "      <td>137885-N</td>\n",
       "      <td>ГАЗОНЕПРОНИЦАЕМОСТЬ</td>\n",
       "      <td>138936-N,107083-N</td>\n",
       "      <td>NaN</td>\n",
       "      <td>[138936-N, 107083-N]</td>\n",
       "    </tr>\n",
       "    <tr>\n",
       "      <th>13759</th>\n",
       "      <td>129149-N</td>\n",
       "      <td>ТАТАРСТАНКА,ТАТАРСТАНЕЦ</td>\n",
       "      <td>3291-N,132681-N,1310-N</td>\n",
       "      <td>житель или уроженец Татарстана</td>\n",
       "      <td>[3291-N, 132681-N, 1310-N]</td>\n",
       "    </tr>\n",
       "    <tr>\n",
       "      <th>15683</th>\n",
       "      <td>4673-N</td>\n",
       "      <td>ИНКАССО,ИНКАССИРОВАНИЕ,ИНКАССАЦИЯ</td>\n",
       "      <td>151047-N,2181-N,144359-N</td>\n",
       "      <td>посредническая банковская операция по передаче...</td>\n",
       "      <td>[151047-N, 2181-N, 144359-N]</td>\n",
       "    </tr>\n",
       "  </tbody>\n",
       "</table>\n",
       "</div>"
      ],
      "text/plain": [
       "      SYNSET_ID                                             TEXT  \\\n",
       "16679  124290-N                                       ПРОЛЕТАРИЙ   \n",
       "9394   129086-N                                       ОБЛЕГЧЕНИЕ   \n",
       "6450     4783-N                                           НАЦИЗМ   \n",
       "14571  125643-N                                       УКОРЕНЕНИЕ   \n",
       "16480  116963-N                                            КАССА   \n",
       "16182  104134-N                                             ЭТНА   \n",
       "13423  142063-N  АРТИСТ,АРТИСТКА,АКТРИСА,ЛИЦЕДЕЙ,ЛИЦЕДЕЙКА,АКТЕР   \n",
       "2624   137885-N                              ГАЗОНЕПРОНИЦАЕМОСТЬ   \n",
       "13759  129149-N                          ТАТАРСТАНКА,ТАТАРСТАНЕЦ   \n",
       "15683    4673-N                ИНКАССО,ИНКАССИРОВАНИЕ,ИНКАССАЦИЯ   \n",
       "\n",
       "                          PARENTS  \\\n",
       "16679             110125-N,2550-N   \n",
       "9394            117914-N,106802-N   \n",
       "6450   3144-N,600-N,2801-N,6639-N   \n",
       "14571  125640-N,125642-N,131211-N   \n",
       "16480                1276-N,566-N   \n",
       "16182      4928-N,3484-N,141139-N   \n",
       "13423           124715-N,111320-N   \n",
       "2624            138936-N,107083-N   \n",
       "13759      3291-N,132681-N,1310-N   \n",
       "15683    151047-N,2181-N,144359-N   \n",
       "\n",
       "                                              DEFINITION  \\\n",
       "16679                                                NaN   \n",
       "9394                                                 NaN   \n",
       "6450   доктрина, сочетающая фашизм с расизмом; официа...   \n",
       "14571                                                NaN   \n",
       "16480                                                NaN   \n",
       "16182                                                NaN   \n",
       "13423                                                NaN   \n",
       "2624                                                 NaN   \n",
       "13759                     житель или уроженец Татарстана   \n",
       "15683  посредническая банковская операция по передаче...   \n",
       "\n",
       "                          parents_list  \n",
       "16679               [110125-N, 2550-N]  \n",
       "9394              [117914-N, 106802-N]  \n",
       "6450   [3144-N, 600-N, 2801-N, 6639-N]  \n",
       "14571   [125640-N, 125642-N, 131211-N]  \n",
       "16480                  [1276-N, 566-N]  \n",
       "16182       [4928-N, 3484-N, 141139-N]  \n",
       "13423             [124715-N, 111320-N]  \n",
       "2624              [138936-N, 107083-N]  \n",
       "13759       [3291-N, 132681-N, 1310-N]  \n",
       "15683     [151047-N, 2181-N, 144359-N]  "
      ]
     },
     "execution_count": 14,
     "metadata": {},
     "output_type": "execute_result"
    }
   ],
   "source": [
    "train_n.sample(10)"
   ]
  },
  {
   "cell_type": "code",
   "execution_count": 15,
   "metadata": {},
   "outputs": [
    {
     "data": {
      "text/plain": [
       "OrderedDict([('@id', '153504-N'),\n",
       "             ('@ruthes_name', 'СТАФФОРДШИРСКИЙ ТЕРЬЕР'),\n",
       "             ('@definition', ''),\n",
       "             ('@part_of_speech', 'N'),\n",
       "             ('sense',\n",
       "              [OrderedDict([('@id', '153504-N-749257'),\n",
       "                            ('#text', 'СТАФФОРДСКИЙ ТЕРЬЕР')]),\n",
       "               OrderedDict([('@id', '153504-N-749256'),\n",
       "                            ('#text', 'СТАФФОРДШИРСКИЙ ТЕРЬЕР')]),\n",
       "               OrderedDict([('@id', '153504-N-749259'),\n",
       "                            ('#text', 'АМЕРИКАНСКИЙ СТАФФОРДШИРСКИЙ ТЕРЬЕР')]),\n",
       "               OrderedDict([('@id', '153504-N-128529'),\n",
       "                            ('#text', 'СТАФФОРД')]),\n",
       "               OrderedDict([('@id', '153504-N-749258'),\n",
       "                            ('#text', 'АМСТАФФ')])])])"
      ]
     },
     "execution_count": 15,
     "metadata": {},
     "output_type": "execute_result"
    }
   ],
   "source": [
    "id2synset['153504-N']"
   ]
  },
  {
   "cell_type": "markdown",
   "metadata": {},
   "source": [
    "Все слова из обучающей выборки содержатся и в исходном тезаурусе. Гут. И все родители - тоже. "
   ]
  },
  {
   "cell_type": "code",
   "execution_count": 16,
   "metadata": {},
   "outputs": [
    {
     "data": {
      "text/plain": [
       "(12393, 0)"
      ]
     },
     "execution_count": 16,
     "metadata": {},
     "output_type": "execute_result"
    }
   ],
   "source": [
    "len(set(train_n.SYNSET_ID)), len(set(train_n.SYNSET_ID).difference(set(id2synset.keys())))"
   ]
  },
  {
   "cell_type": "code",
   "execution_count": 17,
   "metadata": {},
   "outputs": [
    {
     "data": {
      "text/plain": [
       "(8164, 0)"
      ]
     },
     "execution_count": 17,
     "metadata": {},
     "output_type": "execute_result"
    }
   ],
   "source": [
    "all_parents = {p for pl in train_n.parents_list for p in pl}\n",
    "len(all_parents), len(all_parents.difference(set(id2synset.keys())))"
   ]
  },
  {
   "cell_type": "code",
   "execution_count": 18,
   "metadata": {},
   "outputs": [
    {
     "data": {
      "text/plain": [
       "count    16790.000000\n",
       "mean         2.355152\n",
       "std          0.555096\n",
       "min          1.000000\n",
       "25%          2.000000\n",
       "50%          2.000000\n",
       "75%          3.000000\n",
       "max          5.000000\n",
       "Name: parents_list, dtype: float64"
      ]
     },
     "execution_count": 18,
     "metadata": {},
     "output_type": "execute_result"
    }
   ],
   "source": [
    "train_n.parents_list.apply(len).describe()"
   ]
  },
  {
   "cell_type": "code",
   "execution_count": 19,
   "metadata": {},
   "outputs": [
    {
     "data": {
      "text/plain": [
       "OrderedDict([('@id', '146-N'),\n",
       "             ('@ruthes_name', 'НЕФТЕПРОДУКТ'),\n",
       "             ('@definition', 'продукт переработки нефти'),\n",
       "             ('@part_of_speech', 'N'),\n",
       "             ('sense',\n",
       "              [OrderedDict([('@id', '146-N-182579'),\n",
       "                            ('#text', 'ПРОДУКЦИЯ НЕФТЕХИМИЧЕСКИЙ КОМПЛЕКС')]),\n",
       "               OrderedDict([('@id', '146-N-124154'),\n",
       "                            ('#text', 'НЕФТЕНАЛИВНОЙ ГРУЗ')]),\n",
       "               OrderedDict([('@id', '146-N-182580'),\n",
       "                            ('#text', 'ПРОДУКЦИЯ НЕФТЕПЕРЕРАБОТКА')]),\n",
       "               OrderedDict([('@id', '146-N-107631'),\n",
       "                            ('#text', 'НЕФТЕПРОДУКТ')]),\n",
       "               OrderedDict([('@id', '146-N-109923'),\n",
       "                            ('#text', 'ПРОДУКТ НЕФТЕПЕРЕРАБОТКА')]),\n",
       "               OrderedDict([('@id', '146-N-117243'),\n",
       "                            ('#text', 'НЕФТЯНОЙ ПРОДУКТ')])])])"
      ]
     },
     "execution_count": 19,
     "metadata": {},
     "output_type": "execute_result"
    }
   ],
   "source": [
    "id2synset['146-N']"
   ]
  },
  {
   "cell_type": "code",
   "execution_count": 20,
   "metadata": {},
   "outputs": [
    {
     "data": {
      "text/plain": [
       "OrderedDict([('@id', '8998-N'),\n",
       "             ('@ruthes_name', 'УГЛЕВОДОРОД'),\n",
       "             ('@definition',\n",
       "              'органическое соединение, молекула которого состоит только из атомов углерода и водорода'),\n",
       "             ('@part_of_speech', 'N'),\n",
       "             ('sense',\n",
       "              OrderedDict([('@id', '8998-N-117378'),\n",
       "                           ('#text', 'УГЛЕВОДОРОД')]))])"
      ]
     },
     "execution_count": 20,
     "metadata": {},
     "output_type": "execute_result"
    }
   ],
   "source": [
    "id2synset['8998-N']"
   ]
  },
  {
   "cell_type": "code",
   "execution_count": 21,
   "metadata": {},
   "outputs": [
    {
     "data": {
      "text/plain": [
       "OrderedDict([('@id', '133238-N'),\n",
       "             ('@ruthes_name', 'ОРГАНИЧЕСКОЕ ТОПЛИВО'),\n",
       "             ('@definition', ''),\n",
       "             ('@part_of_speech', 'N'),\n",
       "             ('sense',\n",
       "              [OrderedDict([('@id', '133238-N-187338'),\n",
       "                            ('#text', 'ОРГАНИЧЕСКИЙ ТОПЛИВО')]),\n",
       "               OrderedDict([('@id', '133238-N-691213'),\n",
       "                            ('#text', 'ОРГАНИЧЕСКИЙ ГОРЮЧЕЕ')])])])"
      ]
     },
     "execution_count": 21,
     "metadata": {},
     "output_type": "execute_result"
    }
   ],
   "source": [
    "id2synset['133238-N']"
   ]
  },
  {
   "cell_type": "code",
   "execution_count": 22,
   "metadata": {},
   "outputs": [
    {
     "data": {
      "text/plain": [
       "OrderedDict([('@id', '56-N'),\n",
       "             ('@ruthes_name', 'ПРОМЫШЛЕННАЯ ПРОДУКЦИЯ'),\n",
       "             ('@definition', ''),\n",
       "             ('@part_of_speech', 'N'),\n",
       "             ('sense',\n",
       "              [OrderedDict([('@id', '56-N-110034'),\n",
       "                            ('#text', 'ПРОМЫШЛЕННЫЙ ПРОДУКЦИЯ')]),\n",
       "               OrderedDict([('@id', '56-N-110039'),\n",
       "                            ('#text', 'ПРОМЫШЛЕННЫЙ ИЗДЕЛИЕ')]),\n",
       "               OrderedDict([('@id', '56-N-120875'),\n",
       "                            ('#text', 'ПРОМЫШЛЕННЫЙ ПРОДУКТ')]),\n",
       "               OrderedDict([('@id', '56-N-722047'),\n",
       "                            ('#text', 'ФАБРИЧНЫЙ ПРОДУКЦИЯ')]),\n",
       "               OrderedDict([('@id', '56-N-103811'),\n",
       "                            ('#text', 'ПРОДУКЦИЯ ПРОМЫШЛЕННОСТЬ')]),\n",
       "               OrderedDict([('@id', '56-N-109931'),\n",
       "                            ('#text',\n",
       "                             'ПРОДУКЦИЯ ПРОМЫШЛЕННЫЙ ПРЕДПРИЯТИЕ')])])])"
      ]
     },
     "execution_count": 22,
     "metadata": {},
     "output_type": "execute_result"
    }
   ],
   "source": [
    "id2synset['56-N']"
   ]
  },
  {
   "cell_type": "markdown",
   "metadata": {},
   "source": [
    "Например: МАЗУТ вообще не входит в нашу таксономию, но вот зато он есть в обучающей выборке. "
   ]
  },
  {
   "cell_type": "code",
   "execution_count": 23,
   "metadata": {},
   "outputs": [
    {
     "data": {
      "text/plain": [
       "OrderedDict([('@id', '147-N'),\n",
       "             ('@ruthes_name', 'МАЗУТ'),\n",
       "             ('@definition', ''),\n",
       "             ('@part_of_speech', 'N'),\n",
       "             ('sense',\n",
       "              [OrderedDict([('@id', '147-N-217729'),\n",
       "                            ('#text', 'ОСТАТОЧНЫЙ НЕФТЕПРОДУКТ')]),\n",
       "               OrderedDict([('@id', '147-N-217730'),\n",
       "                            ('#text', 'НЕФТЯНОЙ ОСТАТОК')]),\n",
       "               OrderedDict([('@id', '147-N-106087'), ('#text', 'МАЗУТ')])])])"
      ]
     },
     "execution_count": 23,
     "metadata": {},
     "output_type": "execute_result"
    }
   ],
   "source": [
    "id2synset['147-N']"
   ]
  },
  {
   "cell_type": "code",
   "execution_count": 24,
   "metadata": {},
   "outputs": [
    {
     "data": {
      "text/html": [
       "<div>\n",
       "<style scoped>\n",
       "    .dataframe tbody tr th:only-of-type {\n",
       "        vertical-align: middle;\n",
       "    }\n",
       "\n",
       "    .dataframe tbody tr th {\n",
       "        vertical-align: top;\n",
       "    }\n",
       "\n",
       "    .dataframe thead th {\n",
       "        text-align: right;\n",
       "    }\n",
       "</style>\n",
       "<table border=\"1\" class=\"dataframe\">\n",
       "  <thead>\n",
       "    <tr style=\"text-align: right;\">\n",
       "      <th></th>\n",
       "      <th>@parent_id</th>\n",
       "      <th>@child_id</th>\n",
       "      <th>@name</th>\n",
       "      <th>parent</th>\n",
       "      <th>child</th>\n",
       "    </tr>\n",
       "  </thead>\n",
       "  <tbody>\n",
       "  </tbody>\n",
       "</table>\n",
       "</div>"
      ],
      "text/plain": [
       "Empty DataFrame\n",
       "Columns: [@parent_id, @child_id, @name, parent, child]\n",
       "Index: []"
      ]
     },
     "execution_count": 24,
     "metadata": {},
     "output_type": "execute_result"
    }
   ],
   "source": [
    "rel_df[rel_df.child=='147-N']"
   ]
  },
  {
   "cell_type": "markdown",
   "metadata": {},
   "source": [
    "Возможная стратегия решения:\n",
    "* Для каждого синсета вычисляем эмбеддинг\n",
    "* Выучиваем функцию из эмбеддинга гиперонима в эмбеддинг гипонима (можно ещё обратную, для надёжности)\n",
    "* Для каждого нового слова вычисляем координаты предположительного гипонима. \n",
    "* Берём ближайших соседей предположительного гипонима. Это наши кандидаты. \n",
    "* Для каждой кандидатной пары применяем скоринговую функцию (от двух эмбеддингов и возможно чего-то ещё), предсказывающую вероятность, что эта пара корректная\n",
    "* Ранжируем кандидаты-гипонимы этой функцией\n",
    "* Делаем рекурсивное замыкание этой фигни, на каждом следующем шаге домножая на вероятности-скоры\n",
    "* Финальный список кандидатов - топ всех результатов рекурсии, отранжированный по произведению всех вероятностей. "
   ]
  },
  {
   "cell_type": "code",
   "execution_count": 25,
   "metadata": {},
   "outputs": [
    {
     "data": {
      "text/plain": [
       "29296"
      ]
     },
     "execution_count": 25,
     "metadata": {},
     "output_type": "execute_result"
    }
   ],
   "source": [
    "len(id2synset)"
   ]
  },
  {
   "cell_type": "code",
   "execution_count": 88,
   "metadata": {},
   "outputs": [],
   "source": [
    "public_test_nouns = pd.read_csv('../data/public_test/nouns_public.tsv', header=None, encoding='utf-8')\n",
    "public_test_nouns.columns = ['noun']"
   ]
  },
  {
   "cell_type": "code",
   "execution_count": 377,
   "metadata": {},
   "outputs": [
    {
     "data": {
      "text/plain": [
       "(762, 1)"
      ]
     },
     "execution_count": 377,
     "metadata": {},
     "output_type": "execute_result"
    }
   ],
   "source": [
    "public_test_nouns.shape"
   ]
  },
  {
   "cell_type": "code",
   "execution_count": 89,
   "metadata": {},
   "outputs": [],
   "source": [
    "def prepare_submission(words, hypotheses, id2synset):\n",
    "    result_nouns = []\n",
    "    result_hyperonyms = []\n",
    "    result_hyper_names = []\n",
    "    for n, h in zip(words, hypotheses):\n",
    "        for hypo in h:\n",
    "            result_nouns.append(n)\n",
    "            result_hyperonyms.append(hypo)\n",
    "            result_hyper_names.append(id2synset[hypo]['@ruthes_name'])\n",
    "    result_df = pd.DataFrame({'noun': result_nouns, 'result': result_hyperonyms, 'result_text': result_hyper_names})\n",
    "    return result_df"
   ]
  },
  {
   "cell_type": "markdown",
   "metadata": {},
   "source": [
    "# Оценка качества"
   ]
  },
  {
   "cell_type": "code",
   "execution_count": 26,
   "metadata": {},
   "outputs": [],
   "source": [
    "import sys\n",
    "import os\n",
    "def add_sys_path(p):\n",
    "    p = os.path.abspath(p)\n",
    "    if p not in sys.path:\n",
    "        sys.path.append(p)\n",
    "\n",
    "add_sys_path('..')"
   ]
  },
  {
   "cell_type": "code",
   "execution_count": 27,
   "metadata": {},
   "outputs": [],
   "source": [
    "import evaluate"
   ]
  },
  {
   "cell_type": "code",
   "execution_count": 28,
   "metadata": {},
   "outputs": [],
   "source": [
    "assert evaluate.compute_ap([], [], k=10) == 0\n",
    "\n",
    "assert evaluate.compute_ap([{'lol'}, {'kek'}], ['kek', 'lol'], k=10) == 1.0\n",
    "assert evaluate.compute_ap([{'lol'}, {'not kek'}], ['kek'], k=10) == 0.0\n",
    "assert evaluate.compute_ap([{'lol'}, {'not kek'}, {'cheburek'}], ['not kek'], k=10) == sum([1]) / 3\n",
    "assert evaluate.compute_ap([{'lol'}, {'not kek'}, {'cheburek'}], ['not kek', 'zhopa'], k=10) == sum([1, 0]) / 3\n",
    "assert evaluate.compute_ap([{'lol'}, {'not kek'}, {'cheburek'}], ['zhopa', 'not kek'], k=10) == sum([0, 0.5]) / 3"
   ]
  },
  {
   "cell_type": "code",
   "execution_count": 29,
   "metadata": {},
   "outputs": [
    {
     "data": {
      "text/plain": [
       "(16790, 12393)"
      ]
     },
     "execution_count": 29,
     "metadata": {},
     "output_type": "execute_result"
    }
   ],
   "source": [
    "train_n.shape[0], train_n.SYNSET_ID.nunique()"
   ]
  },
  {
   "cell_type": "code",
   "execution_count": 30,
   "metadata": {},
   "outputs": [],
   "source": [
    "import hashlib\n",
    "def hash_float(text, salt='1', base=1000000):\n",
    "    return int(hashlib.sha256((text+salt).encode('utf-8')).hexdigest(), 16) % base / base"
   ]
  },
  {
   "cell_type": "code",
   "execution_count": null,
   "metadata": {},
   "outputs": [],
   "source": []
  },
  {
   "cell_type": "code",
   "execution_count": 33,
   "metadata": {},
   "outputs": [],
   "source": [
    "train_n['synset_hash'] = train_n.SYNSET_ID.apply(hash_float)\n",
    "train_n['one_text'] = train_n.TEXT.apply(lambda x: sorted(x.split(','), key=hash_float)[0])"
   ]
  },
  {
   "cell_type": "code",
   "execution_count": 34,
   "metadata": {},
   "outputs": [
    {
     "data": {
      "text/html": [
       "<div>\n",
       "<style scoped>\n",
       "    .dataframe tbody tr th:only-of-type {\n",
       "        vertical-align: middle;\n",
       "    }\n",
       "\n",
       "    .dataframe tbody tr th {\n",
       "        vertical-align: top;\n",
       "    }\n",
       "\n",
       "    .dataframe thead th {\n",
       "        text-align: right;\n",
       "    }\n",
       "</style>\n",
       "<table border=\"1\" class=\"dataframe\">\n",
       "  <thead>\n",
       "    <tr style=\"text-align: right;\">\n",
       "      <th></th>\n",
       "      <th>SYNSET_ID</th>\n",
       "      <th>TEXT</th>\n",
       "      <th>PARENTS</th>\n",
       "      <th>DEFINITION</th>\n",
       "      <th>parents_list</th>\n",
       "      <th>synset_hash</th>\n",
       "      <th>one_text</th>\n",
       "    </tr>\n",
       "  </thead>\n",
       "  <tbody>\n",
       "    <tr>\n",
       "      <th>3343</th>\n",
       "      <td>125531-N</td>\n",
       "      <td>ВБИВАНИЕ,ВДАЛБЛИВАНИЕ</td>\n",
       "      <td>120095-N,111611-N</td>\n",
       "      <td>NaN</td>\n",
       "      <td>[120095-N, 111611-N]</td>\n",
       "      <td>0.075422</td>\n",
       "      <td>ВДАЛБЛИВАНИЕ</td>\n",
       "    </tr>\n",
       "    <tr>\n",
       "      <th>4824</th>\n",
       "      <td>111434-N</td>\n",
       "      <td>БЕШЕНСТВО,ЯРОСТЬ</td>\n",
       "      <td>107062-N,107058-N</td>\n",
       "      <td>крайняя степень раздражения, буйная ярость</td>\n",
       "      <td>[107062-N, 107058-N]</td>\n",
       "      <td>0.107961</td>\n",
       "      <td>ЯРОСТЬ</td>\n",
       "    </tr>\n",
       "    <tr>\n",
       "      <th>5396</th>\n",
       "      <td>132685-N</td>\n",
       "      <td>МИШУРА</td>\n",
       "      <td>108669-N,106554-N</td>\n",
       "      <td>NaN</td>\n",
       "      <td>[108669-N, 106554-N]</td>\n",
       "      <td>0.584092</td>\n",
       "      <td>МИШУРА</td>\n",
       "    </tr>\n",
       "    <tr>\n",
       "      <th>9792</th>\n",
       "      <td>108788-N</td>\n",
       "      <td>КАНИСТРА</td>\n",
       "      <td>121685-N,107039-N</td>\n",
       "      <td>NaN</td>\n",
       "      <td>[121685-N, 107039-N]</td>\n",
       "      <td>0.836040</td>\n",
       "      <td>КАНИСТРА</td>\n",
       "    </tr>\n",
       "    <tr>\n",
       "      <th>1052</th>\n",
       "      <td>128641-N</td>\n",
       "      <td>РАЗЗАДОРИВАНИЕ,ПОДНАЧИВАНЬЕ,ПОДНАЧКА,ПОДЗАДОРИ...</td>\n",
       "      <td>110474-N,106473-N</td>\n",
       "      <td>NaN</td>\n",
       "      <td>[110474-N, 106473-N]</td>\n",
       "      <td>0.902552</td>\n",
       "      <td>ПОДНАЧИВАНЬЕ</td>\n",
       "    </tr>\n",
       "  </tbody>\n",
       "</table>\n",
       "</div>"
      ],
      "text/plain": [
       "     SYNSET_ID                                               TEXT  \\\n",
       "3343  125531-N                              ВБИВАНИЕ,ВДАЛБЛИВАНИЕ   \n",
       "4824  111434-N                                   БЕШЕНСТВО,ЯРОСТЬ   \n",
       "5396  132685-N                                             МИШУРА   \n",
       "9792  108788-N                                           КАНИСТРА   \n",
       "1052  128641-N  РАЗЗАДОРИВАНИЕ,ПОДНАЧИВАНЬЕ,ПОДНАЧКА,ПОДЗАДОРИ...   \n",
       "\n",
       "                PARENTS                                  DEFINITION  \\\n",
       "3343  120095-N,111611-N                                         NaN   \n",
       "4824  107062-N,107058-N  крайняя степень раздражения, буйная ярость   \n",
       "5396  108669-N,106554-N                                         NaN   \n",
       "9792  121685-N,107039-N                                         NaN   \n",
       "1052  110474-N,106473-N                                         NaN   \n",
       "\n",
       "              parents_list  synset_hash      one_text  \n",
       "3343  [120095-N, 111611-N]     0.075422  ВДАЛБЛИВАНИЕ  \n",
       "4824  [107062-N, 107058-N]     0.107961        ЯРОСТЬ  \n",
       "5396  [108669-N, 106554-N]     0.584092        МИШУРА  \n",
       "9792  [121685-N, 107039-N]     0.836040      КАНИСТРА  \n",
       "1052  [110474-N, 106473-N]     0.902552  ПОДНАЧИВАНЬЕ  "
      ]
     },
     "execution_count": 34,
     "metadata": {},
     "output_type": "execute_result"
    }
   ],
   "source": [
    "train_n.sample(5)"
   ]
  },
  {
   "cell_type": "code",
   "execution_count": 42,
   "metadata": {},
   "outputs": [],
   "source": [
    "ttrain = train_n[train_n.synset_hash <= 0.8]\n",
    "ttest = train_n[train_n.synset_hash > 0.8]\n",
    "ttest_dev = ttest[ttest.synset_hash <= 0.82]\n",
    "ttest_test1 = ttest[(ttest.synset_hash > 0.82) & (ttest.synset_hash <= 0.84)]\n",
    "ttest_test2 = ttest[(ttest.synset_hash > 0.84) & (ttest.synset_hash <= 0.86)]\n",
    "ttest_hidden = ttest[(ttest.synset_hash > 0.86)]\n",
    "\n",
    "forbidden_id = set(ttest.SYNSET_ID)"
   ]
  },
  {
   "cell_type": "code",
   "execution_count": 405,
   "metadata": {},
   "outputs": [],
   "source": [
    "ttest_dev.to_pickle('ttest_dev.pkl')\n",
    "ttest_test1.to_pickle('ttest_test1.pkl')"
   ]
  },
  {
   "cell_type": "code",
   "execution_count": 43,
   "metadata": {},
   "outputs": [
    {
     "data": {
      "text/html": [
       "<div>\n",
       "<style scoped>\n",
       "    .dataframe tbody tr th:only-of-type {\n",
       "        vertical-align: middle;\n",
       "    }\n",
       "\n",
       "    .dataframe tbody tr th {\n",
       "        vertical-align: top;\n",
       "    }\n",
       "\n",
       "    .dataframe thead th {\n",
       "        text-align: right;\n",
       "    }\n",
       "</style>\n",
       "<table border=\"1\" class=\"dataframe\">\n",
       "  <thead>\n",
       "    <tr style=\"text-align: right;\">\n",
       "      <th></th>\n",
       "      <th>SYNSET_ID</th>\n",
       "      <th>TEXT</th>\n",
       "      <th>PARENTS</th>\n",
       "      <th>DEFINITION</th>\n",
       "      <th>parents_list</th>\n",
       "      <th>synset_hash</th>\n",
       "      <th>one_text</th>\n",
       "    </tr>\n",
       "  </thead>\n",
       "  <tbody>\n",
       "    <tr>\n",
       "      <th>0</th>\n",
       "      <td>120440-N</td>\n",
       "      <td>УСМЕШКА,УХМЫЛКА</td>\n",
       "      <td>112039-N,126984-N,112037-N</td>\n",
       "      <td>NaN</td>\n",
       "      <td>[112039-N, 126984-N, 112037-N]</td>\n",
       "      <td>0.378537</td>\n",
       "      <td>УХМЫЛКА</td>\n",
       "    </tr>\n",
       "    <tr>\n",
       "      <th>1</th>\n",
       "      <td>120440-N</td>\n",
       "      <td>УСМЕШКА,УХМЫЛКА</td>\n",
       "      <td>116284-N,141697-N</td>\n",
       "      <td>NaN</td>\n",
       "      <td>[116284-N, 141697-N]</td>\n",
       "      <td>0.378537</td>\n",
       "      <td>УХМЫЛКА</td>\n",
       "    </tr>\n",
       "    <tr>\n",
       "      <th>2</th>\n",
       "      <td>1746-N</td>\n",
       "      <td>ОКУПАЕМОСТЬ</td>\n",
       "      <td>7072-N,2116-N,107583-N</td>\n",
       "      <td>NaN</td>\n",
       "      <td>[7072-N, 2116-N, 107583-N]</td>\n",
       "      <td>0.367679</td>\n",
       "      <td>ОКУПАЕМОСТЬ</td>\n",
       "    </tr>\n",
       "    <tr>\n",
       "      <th>3</th>\n",
       "      <td>141479-N</td>\n",
       "      <td>МОНЕТИЗАЦИЯ</td>\n",
       "      <td>7072-N,2116-N,107583-N</td>\n",
       "      <td>NaN</td>\n",
       "      <td>[7072-N, 2116-N, 107583-N]</td>\n",
       "      <td>0.904428</td>\n",
       "      <td>МОНЕТИЗАЦИЯ</td>\n",
       "    </tr>\n",
       "    <tr>\n",
       "      <th>4</th>\n",
       "      <td>147246-N</td>\n",
       "      <td>СОБИРАЕМОСТЬ</td>\n",
       "      <td>7072-N,2116-N,107583-N</td>\n",
       "      <td>NaN</td>\n",
       "      <td>[7072-N, 2116-N, 107583-N]</td>\n",
       "      <td>0.979079</td>\n",
       "      <td>СОБИРАЕМОСТЬ</td>\n",
       "    </tr>\n",
       "    <tr>\n",
       "      <th>5</th>\n",
       "      <td>149509-N</td>\n",
       "      <td>КАПИТАЛИЗАЦИЯ</td>\n",
       "      <td>7072-N,2116-N,107583-N</td>\n",
       "      <td>NaN</td>\n",
       "      <td>[7072-N, 2116-N, 107583-N]</td>\n",
       "      <td>0.674827</td>\n",
       "      <td>КАПИТАЛИЗАЦИЯ</td>\n",
       "    </tr>\n",
       "    <tr>\n",
       "      <th>6</th>\n",
       "      <td>149509-N</td>\n",
       "      <td>КАПИТАЛИЗАЦИЯ</td>\n",
       "      <td>149212-N,150878-N,147449-N</td>\n",
       "      <td>NaN</td>\n",
       "      <td>[149212-N, 150878-N, 147449-N]</td>\n",
       "      <td>0.674827</td>\n",
       "      <td>КАПИТАЛИЗАЦИЯ</td>\n",
       "    </tr>\n",
       "    <tr>\n",
       "      <th>7</th>\n",
       "      <td>109570-N</td>\n",
       "      <td>КРУИЗ</td>\n",
       "      <td>5920-N,106587-N,2661-N</td>\n",
       "      <td>NaN</td>\n",
       "      <td>[5920-N, 106587-N, 2661-N]</td>\n",
       "      <td>0.713627</td>\n",
       "      <td>КРУИЗ</td>\n",
       "    </tr>\n",
       "    <tr>\n",
       "      <th>8</th>\n",
       "      <td>109570-N</td>\n",
       "      <td>КРУИЗ</td>\n",
       "      <td>137121-N,2661-N,134047-N,152303-N</td>\n",
       "      <td>NaN</td>\n",
       "      <td>[137121-N, 2661-N, 134047-N, 152303-N]</td>\n",
       "      <td>0.713627</td>\n",
       "      <td>КРУИЗ</td>\n",
       "    </tr>\n",
       "    <tr>\n",
       "      <th>9</th>\n",
       "      <td>109570-N</td>\n",
       "      <td>КРУИЗ</td>\n",
       "      <td>143590-N,5920-N,2661-N,152303-N</td>\n",
       "      <td>NaN</td>\n",
       "      <td>[143590-N, 5920-N, 2661-N, 152303-N]</td>\n",
       "      <td>0.713627</td>\n",
       "      <td>КРУИЗ</td>\n",
       "    </tr>\n",
       "  </tbody>\n",
       "</table>\n",
       "</div>"
      ],
      "text/plain": [
       "  SYNSET_ID             TEXT                            PARENTS DEFINITION  \\\n",
       "0  120440-N  УСМЕШКА,УХМЫЛКА         112039-N,126984-N,112037-N        NaN   \n",
       "1  120440-N  УСМЕШКА,УХМЫЛКА                  116284-N,141697-N        NaN   \n",
       "2    1746-N      ОКУПАЕМОСТЬ             7072-N,2116-N,107583-N        NaN   \n",
       "3  141479-N      МОНЕТИЗАЦИЯ             7072-N,2116-N,107583-N        NaN   \n",
       "4  147246-N     СОБИРАЕМОСТЬ             7072-N,2116-N,107583-N        NaN   \n",
       "5  149509-N    КАПИТАЛИЗАЦИЯ             7072-N,2116-N,107583-N        NaN   \n",
       "6  149509-N    КАПИТАЛИЗАЦИЯ         149212-N,150878-N,147449-N        NaN   \n",
       "7  109570-N            КРУИЗ             5920-N,106587-N,2661-N        NaN   \n",
       "8  109570-N            КРУИЗ  137121-N,2661-N,134047-N,152303-N        NaN   \n",
       "9  109570-N            КРУИЗ    143590-N,5920-N,2661-N,152303-N        NaN   \n",
       "\n",
       "                             parents_list  synset_hash       one_text  \n",
       "0          [112039-N, 126984-N, 112037-N]     0.378537        УХМЫЛКА  \n",
       "1                    [116284-N, 141697-N]     0.378537        УХМЫЛКА  \n",
       "2              [7072-N, 2116-N, 107583-N]     0.367679    ОКУПАЕМОСТЬ  \n",
       "3              [7072-N, 2116-N, 107583-N]     0.904428    МОНЕТИЗАЦИЯ  \n",
       "4              [7072-N, 2116-N, 107583-N]     0.979079   СОБИРАЕМОСТЬ  \n",
       "5              [7072-N, 2116-N, 107583-N]     0.674827  КАПИТАЛИЗАЦИЯ  \n",
       "6          [149212-N, 150878-N, 147449-N]     0.674827  КАПИТАЛИЗАЦИЯ  \n",
       "7              [5920-N, 106587-N, 2661-N]     0.713627          КРУИЗ  \n",
       "8  [137121-N, 2661-N, 134047-N, 152303-N]     0.713627          КРУИЗ  \n",
       "9    [143590-N, 5920-N, 2661-N, 152303-N]     0.713627          КРУИЗ  "
      ]
     },
     "execution_count": 43,
     "metadata": {},
     "output_type": "execute_result"
    }
   ],
   "source": [
    "train_n.head(10)"
   ]
  },
  {
   "cell_type": "code",
   "execution_count": 40,
   "metadata": {},
   "outputs": [
    {
     "name": "stdout",
     "output_type": "stream",
     "text": [
      "28101\n",
      "2302\n"
     ]
    }
   ],
   "source": [
    "hypernyms_ids = set(rel_df['@parent_id'][rel_df['@name']=='hypernym'])\n",
    "print(len(hypernyms_ids))\n",
    "print(len(hypernyms_ids.intersection(set(ttest.SYNSET_ID))))"
   ]
  },
  {
   "cell_type": "code",
   "execution_count": 244,
   "metadata": {},
   "outputs": [
    {
     "data": {
      "text/plain": [
       "26837"
      ]
     },
     "execution_count": 244,
     "metadata": {},
     "output_type": "execute_result"
    }
   ],
   "source": [
    "ids = sorted(set(id2synset.keys()).difference(forbidden_id))\n",
    "len(ids)"
   ]
  },
  {
   "cell_type": "code",
   "execution_count": 148,
   "metadata": {},
   "outputs": [],
   "source": [
    "def evaluate_mine(hypotheses, texts, gt_table):\n",
    "    gts = defaultdict(list)\n",
    "    for r, row in gt_table.iterrows():\n",
    "        gts[row.one_text].append(row.parents_list)\n",
    "    aps = pd.Series([evaluate.compute_ap(gts[w], hyps, k=10) for w, hyps in zip(texts, hypotheses)])\n",
    "    return aps, gts"
   ]
  },
  {
   "cell_type": "markdown",
   "metadata": {},
   "source": [
    "# Бейзлайн"
   ]
  },
  {
   "cell_type": "code",
   "execution_count": 37,
   "metadata": {},
   "outputs": [],
   "source": [
    "import gensim\n",
    "# this is araneum 2018 ft model from rusvectores\n",
    "ft = gensim.models.fasttext.FastTextKeyedVectors.load(\n",
    "    'C:/Users/ddale/Downloads/NLP/rusvectores/model.model'\n",
    ")\n",
    "ft.adjust_vectors()"
   ]
  },
  {
   "cell_type": "code",
   "execution_count": 38,
   "metadata": {},
   "outputs": [],
   "source": [
    "from nltk import wordpunct_tokenize\n",
    "from string import punctuation\n",
    "\n",
    "def tokenize(text):\n",
    "    return [t for t in wordpunct_tokenize(text.lower()) if not all(c in punctuation for c in t)]\n",
    "\n",
    "def mean_ft(tokens, n=300):\n",
    "    vecs = [normalize(ft[w]) for w in tokens]\n",
    "    if len(vecs) == 0:\n",
    "        return np.zeros(n)\n",
    "    return normalize(sum(vecs))\n",
    "\n",
    "def normalize(v):\n",
    "    return v / sum(v**2)**0.5"
   ]
  },
  {
   "cell_type": "code",
   "execution_count": 39,
   "metadata": {},
   "outputs": [],
   "source": [
    "ids = sorted(id2synset.keys())"
   ]
  },
  {
   "cell_type": "code",
   "execution_count": 40,
   "metadata": {},
   "outputs": [],
   "source": [
    "from tqdm.auto import tqdm, trange"
   ]
  },
  {
   "cell_type": "code",
   "execution_count": 41,
   "metadata": {},
   "outputs": [],
   "source": [
    "def text2vec(text):\n",
    "    return mean_ft(tokenize(text))"
   ]
  },
  {
   "cell_type": "code",
   "execution_count": 59,
   "metadata": {},
   "outputs": [
    {
     "name": "stdout",
     "output_type": "stream",
     "text": [
      "29296 119273\n"
     ]
    }
   ],
   "source": [
    "ids_long = []\n",
    "texts_long = []\n",
    "for id in ids:\n",
    "    s = id2synset[id]\n",
    "    senses = s['sense']\n",
    "    if not isinstance(senses, list):\n",
    "        senses = [senses]\n",
    "    texts = {sense['#text'] for sense in senses}\n",
    "    texts.add(s['@ruthes_name'])\n",
    "    if len(texts) > 1:\n",
    "        texts.add(' ; '.join(sorted(texts)))\n",
    "    for text in sorted(texts):\n",
    "        ids_long.append(id)\n",
    "        texts_long.append(text)\n",
    "print(len(ids), len(ids_long))"
   ]
  },
  {
   "cell_type": "code",
   "execution_count": 60,
   "metadata": {},
   "outputs": [
    {
     "data": {
      "application/vnd.jupyter.widget-view+json": {
       "model_id": "14c4a454d4d64730806495f801d82189",
       "version_major": 2,
       "version_minor": 0
      },
      "text/plain": [
       "HBox(children=(FloatProgress(value=0.0, max=119273.0), HTML(value='')))"
      ]
     },
     "metadata": {},
     "output_type": "display_data"
    },
    {
     "name": "stdout",
     "output_type": "stream",
     "text": [
      "\n"
     ]
    },
    {
     "data": {
      "text/plain": [
       "(119273, 300)"
      ]
     },
     "execution_count": 60,
     "metadata": {},
     "output_type": "execute_result"
    }
   ],
   "source": [
    "#vecs = np.stack([mean_ft(tokenize(id2synset[idx]['@ruthes_name'])) for idx in tqdm(ids) ])\n",
    "vecs = np.stack([mean_ft(tokenize(t)) for t in tqdm(texts_long) ])\n",
    "vecs.shape"
   ]
  },
  {
   "cell_type": "code",
   "execution_count": 63,
   "metadata": {},
   "outputs": [
    {
     "data": {
      "text/plain": [
       "(8395, 5)"
      ]
     },
     "execution_count": 63,
     "metadata": {},
     "output_type": "execute_result"
    }
   ],
   "source": [
    "ttrain.shape"
   ]
  },
  {
   "cell_type": "code",
   "execution_count": 64,
   "metadata": {},
   "outputs": [
    {
     "data": {
      "text/html": [
       "<div>\n",
       "<style scoped>\n",
       "    .dataframe tbody tr th:only-of-type {\n",
       "        vertical-align: middle;\n",
       "    }\n",
       "\n",
       "    .dataframe tbody tr th {\n",
       "        vertical-align: top;\n",
       "    }\n",
       "\n",
       "    .dataframe thead th {\n",
       "        text-align: right;\n",
       "    }\n",
       "</style>\n",
       "<table border=\"1\" class=\"dataframe\">\n",
       "  <thead>\n",
       "    <tr style=\"text-align: right;\">\n",
       "      <th></th>\n",
       "      <th>SYNSET_ID</th>\n",
       "      <th>TEXT</th>\n",
       "      <th>PARENTS</th>\n",
       "      <th>DEFINITION</th>\n",
       "      <th>parents_list</th>\n",
       "    </tr>\n",
       "  </thead>\n",
       "  <tbody>\n",
       "    <tr>\n",
       "      <th>3975</th>\n",
       "      <td>136656-N</td>\n",
       "      <td>ЭХОЛОКАЦИЯ</td>\n",
       "      <td>112514-N,106710-N</td>\n",
       "      <td>NaN</td>\n",
       "      <td>[112514-N, 106710-N]</td>\n",
       "    </tr>\n",
       "    <tr>\n",
       "      <th>5472</th>\n",
       "      <td>105496-N</td>\n",
       "      <td>МАРОККАНЕЦ,МАРОККАНКА</td>\n",
       "      <td>105413-N,134850-N,106131-N</td>\n",
       "      <td>гражданин, житель или уроженец Марокко</td>\n",
       "      <td>[105413-N, 134850-N, 106131-N]</td>\n",
       "    </tr>\n",
       "    <tr>\n",
       "      <th>540</th>\n",
       "      <td>1238-N</td>\n",
       "      <td>СЕБЕСТОИМОСТЬ</td>\n",
       "      <td>1759-N,2116-N</td>\n",
       "      <td>NaN</td>\n",
       "      <td>[1759-N, 2116-N]</td>\n",
       "    </tr>\n",
       "    <tr>\n",
       "      <th>4637</th>\n",
       "      <td>113452-N</td>\n",
       "      <td>ПОДЪЕЗД</td>\n",
       "      <td>106587-N,135044-N</td>\n",
       "      <td>приближаться на транспортном средстве к какому...</td>\n",
       "      <td>[106587-N, 135044-N]</td>\n",
       "    </tr>\n",
       "    <tr>\n",
       "      <th>6123</th>\n",
       "      <td>5671-N</td>\n",
       "      <td>ДАМБА</td>\n",
       "      <td>107559-N,107558-N</td>\n",
       "      <td>насыпь или вал на берегах для предохранения от...</td>\n",
       "      <td>[107559-N, 107558-N]</td>\n",
       "    </tr>\n",
       "    <tr>\n",
       "      <th>4769</th>\n",
       "      <td>5421-N</td>\n",
       "      <td>НЕДОИМКА</td>\n",
       "      <td>6179-N,647-N</td>\n",
       "      <td>не уплаченная в срок часть налога или какого-л...</td>\n",
       "      <td>[6179-N, 647-N]</td>\n",
       "    </tr>\n",
       "    <tr>\n",
       "      <th>9459</th>\n",
       "      <td>536-N</td>\n",
       "      <td>ХИМНЕФТЕПРОМ,НЕФТЕХИМПРОМ,НЕФТЕХИМИЯ</td>\n",
       "      <td>533-N,7127-N,531-N</td>\n",
       "      <td>NaN</td>\n",
       "      <td>[533-N, 7127-N, 531-N]</td>\n",
       "    </tr>\n",
       "    <tr>\n",
       "      <th>9863</th>\n",
       "      <td>111125-N</td>\n",
       "      <td>НИКОТИН</td>\n",
       "      <td>1011-N,959-N</td>\n",
       "      <td>алкалоид, содержащийся в растениях семейства п...</td>\n",
       "      <td>[1011-N, 959-N]</td>\n",
       "    </tr>\n",
       "    <tr>\n",
       "      <th>494</th>\n",
       "      <td>972-N</td>\n",
       "      <td>МИНЕРАЛКА</td>\n",
       "      <td>550-N,549-N</td>\n",
       "      <td>NaN</td>\n",
       "      <td>[550-N, 549-N]</td>\n",
       "    </tr>\n",
       "    <tr>\n",
       "      <th>11407</th>\n",
       "      <td>4639-N</td>\n",
       "      <td>АСФАЛЬТИРОВКА,АСФАЛЬТИРОВАНИЕ</td>\n",
       "      <td>111871-N,107325-N</td>\n",
       "      <td>NaN</td>\n",
       "      <td>[111871-N, 107325-N]</td>\n",
       "    </tr>\n",
       "  </tbody>\n",
       "</table>\n",
       "</div>"
      ],
      "text/plain": [
       "      SYNSET_ID                                  TEXT  \\\n",
       "3975   136656-N                            ЭХОЛОКАЦИЯ   \n",
       "5472   105496-N                 МАРОККАНЕЦ,МАРОККАНКА   \n",
       "540      1238-N                         СЕБЕСТОИМОСТЬ   \n",
       "4637   113452-N                               ПОДЪЕЗД   \n",
       "6123     5671-N                                 ДАМБА   \n",
       "4769     5421-N                              НЕДОИМКА   \n",
       "9459      536-N  ХИМНЕФТЕПРОМ,НЕФТЕХИМПРОМ,НЕФТЕХИМИЯ   \n",
       "9863   111125-N                               НИКОТИН   \n",
       "494       972-N                             МИНЕРАЛКА   \n",
       "11407    4639-N         АСФАЛЬТИРОВКА,АСФАЛЬТИРОВАНИЕ   \n",
       "\n",
       "                          PARENTS  \\\n",
       "3975            112514-N,106710-N   \n",
       "5472   105413-N,134850-N,106131-N   \n",
       "540                 1759-N,2116-N   \n",
       "4637            106587-N,135044-N   \n",
       "6123            107559-N,107558-N   \n",
       "4769                 6179-N,647-N   \n",
       "9459           533-N,7127-N,531-N   \n",
       "9863                 1011-N,959-N   \n",
       "494                   550-N,549-N   \n",
       "11407           111871-N,107325-N   \n",
       "\n",
       "                                              DEFINITION  \\\n",
       "3975                                                 NaN   \n",
       "5472              гражданин, житель или уроженец Марокко   \n",
       "540                                                  NaN   \n",
       "4637   приближаться на транспортном средстве к какому...   \n",
       "6123   насыпь или вал на берегах для предохранения от...   \n",
       "4769   не уплаченная в срок часть налога или какого-л...   \n",
       "9459                                                 NaN   \n",
       "9863   алкалоид, содержащийся в растениях семейства п...   \n",
       "494                                                  NaN   \n",
       "11407                                                NaN   \n",
       "\n",
       "                         parents_list  \n",
       "3975             [112514-N, 106710-N]  \n",
       "5472   [105413-N, 134850-N, 106131-N]  \n",
       "540                  [1759-N, 2116-N]  \n",
       "4637             [106587-N, 135044-N]  \n",
       "6123             [107559-N, 107558-N]  \n",
       "4769                  [6179-N, 647-N]  \n",
       "9459           [533-N, 7127-N, 531-N]  \n",
       "9863                  [1011-N, 959-N]  \n",
       "494                    [550-N, 549-N]  \n",
       "11407            [111871-N, 107325-N]  "
      ]
     },
     "execution_count": 64,
     "metadata": {},
     "output_type": "execute_result"
    }
   ],
   "source": [
    "ttrain.sample(10)"
   ]
  },
  {
   "cell_type": "code",
   "execution_count": 65,
   "metadata": {},
   "outputs": [],
   "source": [
    "id2idx = {name: idx for idx, name in  enumerate(ids)}"
   ]
  },
  {
   "cell_type": "code",
   "execution_count": 66,
   "metadata": {},
   "outputs": [],
   "source": []
  },
  {
   "cell_type": "code",
   "execution_count": 492,
   "metadata": {},
   "outputs": [],
   "source": [
    "from collections import defaultdict\n",
    "\n",
    "def add_pair(hypo_id, hyper_id, max_depth=100500):\n",
    "    if max_depth <= 0:\n",
    "        return\n",
    "    if hypo_id in id2hyponym[hyper_id]:\n",
    "        # the pair is already here\n",
    "        return \n",
    "    if hypo_id in id2hypernym[hyper_id]:\n",
    "        raise ValueError('{} is already a hypernym of {}, so it cannot become its hyponym'.format(hypo_id, hyper_id))\n",
    "    for next_hypo in id2hyponym[hypo_id]:\n",
    "        add_pair(next_hypo, hyper_id, max_depth=max_depth-1)\n",
    "    for next_hyper in id2hypernym[hyper_id]:\n",
    "        add_pair(hypo_id, next_hyper, max_depth=max_depth-1)\n",
    "    id2hyponym[hyper_id].add(hypo_id)\n",
    "    id2hypernym[hypo_id].add(hyper_id)\n",
    "        "
   ]
  },
  {
   "cell_type": "markdown",
   "metadata": {},
   "source": [
    "* До обогащения (все предки): 28118 ключей, 268'637 пар, максимальное число предков - 63\n",
    "* До обогащения (максимум бабушка): 28118 ключей, 141'576 пар, максимальное число предков - 24\n",
    "* До обогащения (максимум мать): 28118 ключей, 37'249 пар, максимальное число предков - 5\n",
    "* До обогащения (без тестовых детей): 25816 ключей, 34165 пар, максимальное число предков - 5"
   ]
  },
  {
   "cell_type": "code",
   "execution_count": 556,
   "metadata": {},
   "outputs": [
    {
     "data": {
      "application/vnd.jupyter.widget-view+json": {
       "model_id": "d6d21c8cd37545028081750002a9512a",
       "version_major": 2,
       "version_minor": 0
      },
      "text/plain": [
       "HBox(children=(FloatProgress(value=1.0, bar_style='info', max=1.0), HTML(value='')))"
      ]
     },
     "metadata": {},
     "output_type": "display_data"
    },
    {
     "name": "stdout",
     "output_type": "stream",
     "text": [
      "\n"
     ]
    }
   ],
   "source": [
    "id2hyponym = defaultdict(set)\n",
    "id2hypernym = defaultdict(set)\n",
    "forbidden_id = set(ttest.SYNSET_ID)\n",
    "\n",
    "hypo_df = rel_df[rel_df['@name']=='hyponym']\n",
    "for r, row in tqdm(hypo_df.iterrows()):\n",
    "    hypo_id = row['@child_id']\n",
    "    hyper_id = row['@parent_id']\n",
    "    if hypo_id not in forbidden_id and hyper_id not in forbidden_id:\n",
    "        add_pair(hypo_id, hyper_id, max_depth=1)  # во второй версии поставим максимальную глубину, равную 2"
   ]
  },
  {
   "cell_type": "code",
   "execution_count": 552,
   "metadata": {},
   "outputs": [
    {
     "data": {
      "text/html": [
       "<div>\n",
       "<style scoped>\n",
       "    .dataframe tbody tr th:only-of-type {\n",
       "        vertical-align: middle;\n",
       "    }\n",
       "\n",
       "    .dataframe tbody tr th {\n",
       "        vertical-align: top;\n",
       "    }\n",
       "\n",
       "    .dataframe thead th {\n",
       "        text-align: right;\n",
       "    }\n",
       "</style>\n",
       "<table border=\"1\" class=\"dataframe\">\n",
       "  <thead>\n",
       "    <tr style=\"text-align: right;\">\n",
       "      <th></th>\n",
       "      <th>@parent_id</th>\n",
       "      <th>@child_id</th>\n",
       "      <th>@name</th>\n",
       "      <th>parent</th>\n",
       "      <th>child</th>\n",
       "    </tr>\n",
       "  </thead>\n",
       "  <tbody>\n",
       "    <tr>\n",
       "      <th>59111</th>\n",
       "      <td>116610-N</td>\n",
       "      <td>117306-N</td>\n",
       "      <td>hyponym</td>\n",
       "      <td>ПЕРЕНЕСТИ НА ДРУГОЕ МЕСТО</td>\n",
       "      <td>СМЫТЬ ТЕЧЕНИЕМ</td>\n",
       "    </tr>\n",
       "    <tr>\n",
       "      <th>11198</th>\n",
       "      <td>135523-N</td>\n",
       "      <td>6668-N</td>\n",
       "      <td>hypernym</td>\n",
       "      <td>СТАТС-СЕКРЕТАРЬ</td>\n",
       "      <td>ГОСУДАРСТВЕННЫЙ СЛУЖАЩИЙ</td>\n",
       "    </tr>\n",
       "    <tr>\n",
       "      <th>62842</th>\n",
       "      <td>101204-N</td>\n",
       "      <td>101206-N</td>\n",
       "      <td>part meronym</td>\n",
       "      <td>КАРАЧАЕВО-ЧЕРКЕССИЯ</td>\n",
       "      <td>КАРАЧАЕВСК</td>\n",
       "    </tr>\n",
       "    <tr>\n",
       "      <th>41097</th>\n",
       "      <td>145635-N</td>\n",
       "      <td>145635-A</td>\n",
       "      <td>POS-synonymy</td>\n",
       "      <td>ТРАНСПОРТНЫЙ КОНВОЙ</td>\n",
       "      <td>None</td>\n",
       "    </tr>\n",
       "    <tr>\n",
       "      <th>49252</th>\n",
       "      <td>107696-N</td>\n",
       "      <td>107696-V</td>\n",
       "      <td>POS-synonymy</td>\n",
       "      <td>ПРАВО (ВОЗМОЖНОСТЬ)</td>\n",
       "      <td>None</td>\n",
       "    </tr>\n",
       "    <tr>\n",
       "      <th>69848</th>\n",
       "      <td>145633-N</td>\n",
       "      <td>111437-N</td>\n",
       "      <td>hypernym</td>\n",
       "      <td>КОНСЕРВИРОВАТЬ (ПРЕДОХРАНИТЬ ОТ ПОРЧИ)</td>\n",
       "      <td>ПРЕДОХРАНИТЬ (ЗАРАНЕЕ ОХРАНИТЬ, ОБЕРЕЧЬ)</td>\n",
       "    </tr>\n",
       "    <tr>\n",
       "      <th>116601</th>\n",
       "      <td>154154-N</td>\n",
       "      <td>50-N</td>\n",
       "      <td>domain</td>\n",
       "      <td>КИСЛОРОДНАЯ МАСКА</td>\n",
       "      <td>ПРОМЫШЛЕННОСТЬ</td>\n",
       "    </tr>\n",
       "    <tr>\n",
       "      <th>39403</th>\n",
       "      <td>107429-N</td>\n",
       "      <td>7131-N</td>\n",
       "      <td>hyponym</td>\n",
       "      <td>ОСТАТОК, ОСТАВШАЯСЯ ЧАСТЬ</td>\n",
       "      <td>ОТРУБИ</td>\n",
       "    </tr>\n",
       "    <tr>\n",
       "      <th>470</th>\n",
       "      <td>112701-N</td>\n",
       "      <td>6293-N</td>\n",
       "      <td>domain</td>\n",
       "      <td>САНДАЛ (ДЕРЕВО)</td>\n",
       "      <td>БОТАНИКА</td>\n",
       "    </tr>\n",
       "    <tr>\n",
       "      <th>2114</th>\n",
       "      <td>136183-N</td>\n",
       "      <td>6527-N</td>\n",
       "      <td>hypernym</td>\n",
       "      <td>ПОЛИЦЕЙСКИЙ</td>\n",
       "      <td>СОТРУДНИК ПРАВООХРАНИТЕЛЬНЫХ ОРГАНОВ</td>\n",
       "    </tr>\n",
       "  </tbody>\n",
       "</table>\n",
       "</div>"
      ],
      "text/plain": [
       "       @parent_id @child_id         @name  \\\n",
       "59111    116610-N  117306-N       hyponym   \n",
       "11198    135523-N    6668-N      hypernym   \n",
       "62842    101204-N  101206-N  part meronym   \n",
       "41097    145635-N  145635-A  POS-synonymy   \n",
       "49252    107696-N  107696-V  POS-synonymy   \n",
       "69848    145633-N  111437-N      hypernym   \n",
       "116601   154154-N      50-N        domain   \n",
       "39403    107429-N    7131-N       hyponym   \n",
       "470      112701-N    6293-N        domain   \n",
       "2114     136183-N    6527-N      hypernym   \n",
       "\n",
       "                                        parent  \\\n",
       "59111                ПЕРЕНЕСТИ НА ДРУГОЕ МЕСТО   \n",
       "11198                          СТАТС-СЕКРЕТАРЬ   \n",
       "62842                      КАРАЧАЕВО-ЧЕРКЕССИЯ   \n",
       "41097                      ТРАНСПОРТНЫЙ КОНВОЙ   \n",
       "49252                      ПРАВО (ВОЗМОЖНОСТЬ)   \n",
       "69848   КОНСЕРВИРОВАТЬ (ПРЕДОХРАНИТЬ ОТ ПОРЧИ)   \n",
       "116601                       КИСЛОРОДНАЯ МАСКА   \n",
       "39403                ОСТАТОК, ОСТАВШАЯСЯ ЧАСТЬ   \n",
       "470                            САНДАЛ (ДЕРЕВО)   \n",
       "2114                               ПОЛИЦЕЙСКИЙ   \n",
       "\n",
       "                                           child  \n",
       "59111                             СМЫТЬ ТЕЧЕНИЕМ  \n",
       "11198                   ГОСУДАРСТВЕННЫЙ СЛУЖАЩИЙ  \n",
       "62842                                 КАРАЧАЕВСК  \n",
       "41097                                       None  \n",
       "49252                                       None  \n",
       "69848   ПРЕДОХРАНИТЬ (ЗАРАНЕЕ ОХРАНИТЬ, ОБЕРЕЧЬ)  \n",
       "116601                            ПРОМЫШЛЕННОСТЬ  \n",
       "39403                                     ОТРУБИ  \n",
       "470                                     БОТАНИКА  \n",
       "2114        СОТРУДНИК ПРАВООХРАНИТЕЛЬНЫХ ОРГАНОВ  "
      ]
     },
     "execution_count": 552,
     "metadata": {},
     "output_type": "execute_result"
    }
   ],
   "source": [
    "rel_df.sample(10)"
   ]
  },
  {
   "cell_type": "code",
   "execution_count": 555,
   "metadata": {},
   "outputs": [
    {
     "ename": "NameError",
     "evalue": "name 'id2hyperym' is not defined",
     "output_type": "error",
     "traceback": [
      "\u001b[1;31m---------------------------------------------------------------------------\u001b[0m",
      "\u001b[1;31mNameError\u001b[0m                                 Traceback (most recent call last)",
      "\u001b[1;32m<ipython-input-555-c767dfde17a2>\u001b[0m in \u001b[0;36m<module>\u001b[1;34m\u001b[0m\n\u001b[1;32m----> 1\u001b[1;33m \u001b[0mid2hyperym\u001b[0m\u001b[1;33m[\u001b[0m\u001b[1;34m'9464-N'\u001b[0m\u001b[1;33m]\u001b[0m\u001b[1;33m\u001b[0m\u001b[1;33m\u001b[0m\u001b[0m\n\u001b[0m",
      "\u001b[1;31mNameError\u001b[0m: name 'id2hyperym' is not defined"
     ]
    }
   ],
   "source": [
    "id2hyperym['9464-N']"
   ]
  },
  {
   "cell_type": "code",
   "execution_count": 553,
   "metadata": {},
   "outputs": [
    {
     "data": {
      "text/html": [
       "<div>\n",
       "<style scoped>\n",
       "    .dataframe tbody tr th:only-of-type {\n",
       "        vertical-align: middle;\n",
       "    }\n",
       "\n",
       "    .dataframe tbody tr th {\n",
       "        vertical-align: top;\n",
       "    }\n",
       "\n",
       "    .dataframe thead th {\n",
       "        text-align: right;\n",
       "    }\n",
       "</style>\n",
       "<table border=\"1\" class=\"dataframe\">\n",
       "  <thead>\n",
       "    <tr style=\"text-align: right;\">\n",
       "      <th></th>\n",
       "      <th>@parent_id</th>\n",
       "      <th>@child_id</th>\n",
       "      <th>@name</th>\n",
       "      <th>parent</th>\n",
       "      <th>child</th>\n",
       "    </tr>\n",
       "  </thead>\n",
       "  <tbody>\n",
       "    <tr>\n",
       "      <th>1969</th>\n",
       "      <td>9464-N</td>\n",
       "      <td>9464-A</td>\n",
       "      <td>POS-synonymy</td>\n",
       "      <td>НЕВРОЛОГИЯ</td>\n",
       "      <td>None</td>\n",
       "    </tr>\n",
       "    <tr>\n",
       "      <th>1970</th>\n",
       "      <td>9464-N</td>\n",
       "      <td>1047-N</td>\n",
       "      <td>hypernym</td>\n",
       "      <td>НЕВРОЛОГИЯ</td>\n",
       "      <td>МЕДИЦИНА</td>\n",
       "    </tr>\n",
       "    <tr>\n",
       "      <th>1971</th>\n",
       "      <td>9464-N</td>\n",
       "      <td>9465-N</td>\n",
       "      <td>hyponym</td>\n",
       "      <td>НЕВРОЛОГИЯ</td>\n",
       "      <td>НЕВРОПАТОЛОГИЯ</td>\n",
       "    </tr>\n",
       "    <tr>\n",
       "      <th>1972</th>\n",
       "      <td>9464-N</td>\n",
       "      <td>1047-N</td>\n",
       "      <td>domain</td>\n",
       "      <td>НЕВРОЛОГИЯ</td>\n",
       "      <td>МЕДИЦИНА</td>\n",
       "    </tr>\n",
       "  </tbody>\n",
       "</table>\n",
       "</div>"
      ],
      "text/plain": [
       "     @parent_id @child_id         @name      parent           child\n",
       "1969     9464-N    9464-A  POS-synonymy  НЕВРОЛОГИЯ            None\n",
       "1970     9464-N    1047-N      hypernym  НЕВРОЛОГИЯ        МЕДИЦИНА\n",
       "1971     9464-N    9465-N       hyponym  НЕВРОЛОГИЯ  НЕВРОПАТОЛОГИЯ\n",
       "1972     9464-N    1047-N        domain  НЕВРОЛОГИЯ        МЕДИЦИНА"
      ]
     },
     "execution_count": 553,
     "metadata": {},
     "output_type": "execute_result"
    }
   ],
   "source": [
    "rel_df[rel_df.parent=='НЕВРОЛОГИЯ']"
   ]
  },
  {
   "cell_type": "code",
   "execution_count": 495,
   "metadata": {},
   "outputs": [
    {
     "name": "stdout",
     "output_type": "stream",
     "text": [
      "25816\n",
      "446\n",
      "5\n",
      "34165\n"
     ]
    }
   ],
   "source": [
    "print(len(id2hyponym))\n",
    "print(max(len(c) for c in id2hyponym.values()))\n",
    "print(max(len(c) for c in id2hypernym.values()))\n",
    "print(sum(len(c) for c in id2hypernym.values()))"
   ]
  },
  {
   "cell_type": "code",
   "execution_count": 324,
   "metadata": {},
   "outputs": [
    {
     "name": "stdout",
     "output_type": "stream",
     "text": [
      "ПОЗДРАВИТЬ\n",
      "ВЫСКАЗАТЬ МНЕНИЕ\n",
      "ВЫСКАЗАТЬ\n",
      "СООБЩИТЬ, УВЕДОМИТЬ\n",
      "СОГЛАСИТЬСЯ, ДАТЬ СОГЛАСИЕ\n",
      "ПРОИСХОДЯЩАЯ СУЩНОСТЬ\n",
      "ПОСТУПОК ЧЕЛОВЕКА\n",
      "ОДОБРИТЬ\n",
      "ДЕЙСТВИЕ ЧЕЛОВЕКА\n",
      "ОТВЕТИТЬ, ПОСТУПИТЬ В ОТВЕТ\n",
      "ДЕЙСТВИЕ, ЦЕЛЕНАПРАВЛЕННОЕ ДЕЙСТВИЕ\n"
     ]
    }
   ],
   "source": [
    "import random\n",
    "key = random.choice(list(id2hypernym.keys()))\n",
    "print(id2synset[key]['@ruthes_name'])\n",
    "for v in id2hypernym[key]:\n",
    "    print(id2synset[v]['@ruthes_name'])"
   ]
  },
  {
   "cell_type": "markdown",
   "metadata": {},
   "source": [
    "Теперь добавляем объектов из обучающей выборки. Кажется, что после обогащения не особо что-то изменилось. "
   ]
  },
  {
   "cell_type": "code",
   "execution_count": 361,
   "metadata": {},
   "outputs": [
    {
     "data": {
      "text/html": [
       "<div>\n",
       "<style scoped>\n",
       "    .dataframe tbody tr th:only-of-type {\n",
       "        vertical-align: middle;\n",
       "    }\n",
       "\n",
       "    .dataframe tbody tr th {\n",
       "        vertical-align: top;\n",
       "    }\n",
       "\n",
       "    .dataframe thead th {\n",
       "        text-align: right;\n",
       "    }\n",
       "</style>\n",
       "<table border=\"1\" class=\"dataframe\">\n",
       "  <thead>\n",
       "    <tr style=\"text-align: right;\">\n",
       "      <th></th>\n",
       "      <th>SYNSET_ID</th>\n",
       "      <th>TEXT</th>\n",
       "      <th>PARENTS</th>\n",
       "      <th>DEFINITION</th>\n",
       "      <th>parents_list</th>\n",
       "    </tr>\n",
       "  </thead>\n",
       "  <tbody>\n",
       "    <tr>\n",
       "      <th>5038</th>\n",
       "      <td>3191-N</td>\n",
       "      <td>ТЕХЗАДАНИЕ</td>\n",
       "      <td>5875-N,2428-N</td>\n",
       "      <td>NaN</td>\n",
       "      <td>[5875-N, 2428-N]</td>\n",
       "    </tr>\n",
       "    <tr>\n",
       "      <th>12704</th>\n",
       "      <td>125133-N</td>\n",
       "      <td>ВЗДОР,ГЛУПОСТЬ,ДИЧЬ,ЕРУНДА,ЛАБУДА,МУРА,МУТЬ,ТА...</td>\n",
       "      <td>124894-N,107257-N</td>\n",
       "      <td>нечто неважное, бессмысленное, чепуха</td>\n",
       "      <td>[124894-N, 107257-N]</td>\n",
       "    </tr>\n",
       "    <tr>\n",
       "      <th>15350</th>\n",
       "      <td>144328-N</td>\n",
       "      <td>БОЯРЫШНИК</td>\n",
       "      <td>107842-N,107871-N,144341-N</td>\n",
       "      <td>NaN</td>\n",
       "      <td>[107842-N, 107871-N, 144341-N]</td>\n",
       "    </tr>\n",
       "  </tbody>\n",
       "</table>\n",
       "</div>"
      ],
      "text/plain": [
       "      SYNSET_ID                                               TEXT  \\\n",
       "5038     3191-N                                         ТЕХЗАДАНИЕ   \n",
       "12704  125133-N  ВЗДОР,ГЛУПОСТЬ,ДИЧЬ,ЕРУНДА,ЛАБУДА,МУРА,МУТЬ,ТА...   \n",
       "15350  144328-N                                          БОЯРЫШНИК   \n",
       "\n",
       "                          PARENTS                             DEFINITION  \\\n",
       "5038                5875-N,2428-N                                    NaN   \n",
       "12704           124894-N,107257-N  нечто неважное, бессмысленное, чепуха   \n",
       "15350  107842-N,107871-N,144341-N                                    NaN   \n",
       "\n",
       "                         parents_list  \n",
       "5038                 [5875-N, 2428-N]  \n",
       "12704            [124894-N, 107257-N]  \n",
       "15350  [107842-N, 107871-N, 144341-N]  "
      ]
     },
     "execution_count": 361,
     "metadata": {},
     "output_type": "execute_result"
    }
   ],
   "source": [
    "ttrain.sample(3)"
   ]
  },
  {
   "cell_type": "code",
   "execution_count": 327,
   "metadata": {},
   "outputs": [
    {
     "data": {
      "application/vnd.jupyter.widget-view+json": {
       "model_id": "7f44a82e0fbd430183aa38fc9690af6a",
       "version_major": 2,
       "version_minor": 0
      },
      "text/plain": [
       "HBox(children=(FloatProgress(value=0.0, max=8395.0), HTML(value='')))"
      ]
     },
     "metadata": {},
     "output_type": "display_data"
    },
    {
     "name": "stdout",
     "output_type": "stream",
     "text": [
      "\n"
     ]
    }
   ],
   "source": [
    "for r, row in tqdm(ttrain.iterrows(), total=ttrain.shape[0]):\n",
    "    hypo_id = row['SYNSET_ID']\n",
    "    for hyper_id in row.parents_list:\n",
    "        add_pair(hypo_id, hyper_id)"
   ]
  },
  {
   "cell_type": "code",
   "execution_count": 328,
   "metadata": {},
   "outputs": [
    {
     "name": "stdout",
     "output_type": "stream",
     "text": [
      "28636\n",
      "18928\n",
      "63\n",
      "274902\n"
     ]
    }
   ],
   "source": [
    "print(len(id2hyponym))\n",
    "print(max(len(c) for c in id2hyponym.values()))\n",
    "print(max(len(c) for c in id2hypernym.values()))\n",
    "print(sum(len(c) for c in id2hypernym.values()))"
   ]
  },
  {
   "cell_type": "code",
   "execution_count": 79,
   "metadata": {},
   "outputs": [],
   "source": [
    "hypo_indices = []\n",
    "hyper_indices = []\n",
    "for key, values in id2hyponym.items():\n",
    "    for value in values:\n",
    "        hypo_indices.append(value)\n",
    "        hyper_indices.append(key)"
   ]
  },
  {
   "cell_type": "code",
   "execution_count": 85,
   "metadata": {},
   "outputs": [],
   "source": [
    "synX = vecs[[id2idx[ix] for ix in hypo_indices]]\n",
    "synY = vecs[[id2idx[ix] for ix in hyper_indices]]"
   ]
  },
  {
   "cell_type": "code",
   "execution_count": 90,
   "metadata": {},
   "outputs": [
    {
     "data": {
      "text/plain": [
       "0.0025339746"
      ]
     },
     "execution_count": 90,
     "metadata": {},
     "output_type": "execute_result"
    }
   ],
   "source": [
    "synX.var(axis=0).mean()"
   ]
  },
  {
   "cell_type": "code",
   "execution_count": 96,
   "metadata": {},
   "outputs": [
    {
     "data": {
      "text/plain": [
       "0.004187228"
      ]
     },
     "execution_count": 96,
     "metadata": {},
     "output_type": "execute_result"
    }
   ],
   "source": [
    "(synX-synY).var(axis=0).mean()"
   ]
  },
  {
   "cell_type": "code",
   "execution_count": 92,
   "metadata": {},
   "outputs": [],
   "source": [
    "from sklearn.linear_model import LinearRegression"
   ]
  },
  {
   "cell_type": "code",
   "execution_count": 93,
   "metadata": {},
   "outputs": [],
   "source": [
    "linreg = LinearRegression().fit(synX, synY)"
   ]
  },
  {
   "cell_type": "code",
   "execution_count": 94,
   "metadata": {},
   "outputs": [],
   "source": [
    "pred = linreg.predict(synX)"
   ]
  },
  {
   "cell_type": "code",
   "execution_count": 97,
   "metadata": {},
   "outputs": [
    {
     "data": {
      "text/plain": [
       "0.0021273529"
      ]
     },
     "execution_count": 97,
     "metadata": {},
     "output_type": "execute_result"
    }
   ],
   "source": [
    "(synY-pred).var(axis=0).mean()"
   ]
  },
  {
   "cell_type": "markdown",
   "metadata": {},
   "source": [
    "Ага! Линейная регрессия немножко помогает :)"
   ]
  },
  {
   "cell_type": "code",
   "execution_count": 103,
   "metadata": {},
   "outputs": [],
   "source": [
    "pred_norm = (pred.T / ((pred**2).sum(axis=1)**0.5)).T"
   ]
  },
  {
   "cell_type": "markdown",
   "metadata": {},
   "source": [
    "Удивительно, но после нормализации MSE только возрастает. "
   ]
  },
  {
   "cell_type": "code",
   "execution_count": 104,
   "metadata": {},
   "outputs": [
    {
     "data": {
      "text/plain": [
       "0.0021941925"
      ]
     },
     "execution_count": 104,
     "metadata": {},
     "output_type": "execute_result"
    }
   ],
   "source": [
    "(synY-pred_norm).var(axis=0).mean()"
   ]
  },
  {
   "cell_type": "code",
   "execution_count": 136,
   "metadata": {},
   "outputs": [],
   "source": [
    "from sklearn.neighbors import KDTree"
   ]
  },
  {
   "cell_type": "code",
   "execution_count": 137,
   "metadata": {},
   "outputs": [],
   "source": [
    "tree = KDTree(vecs)"
   ]
  },
  {
   "cell_type": "markdown",
   "metadata": {},
   "source": [
    "#### пример работы моего алгоритма"
   ]
  },
  {
   "cell_type": "code",
   "execution_count": 217,
   "metadata": {},
   "outputs": [
    {
     "name": "stdout",
     "output_type": "stream",
     "text": [
      "ДИПЛОМАТИЧЕСКИЙ РАБОТНИК\n",
      "ДОЛЖНОСТНОЕ ЛИЦО\n",
      "РАБОТНИК ЗАГРАНУЧРЕЖДЕНИЯ\n",
      "ПРЕДСТАВИТЕЛЬ ИНТЕРЕСОВ\n"
     ]
    },
    {
     "data": {
      "text/html": [
       "<div>\n",
       "<style scoped>\n",
       "    .dataframe tbody tr th:only-of-type {\n",
       "        vertical-align: middle;\n",
       "    }\n",
       "\n",
       "    .dataframe tbody tr th {\n",
       "        vertical-align: top;\n",
       "    }\n",
       "\n",
       "    .dataframe thead th {\n",
       "        text-align: right;\n",
       "    }\n",
       "</style>\n",
       "<table border=\"1\" class=\"dataframe\">\n",
       "  <thead>\n",
       "    <tr style=\"text-align: right;\">\n",
       "      <th></th>\n",
       "      <th>SYNSET_ID</th>\n",
       "      <th>TEXT</th>\n",
       "      <th>PARENTS</th>\n",
       "      <th>DEFINITION</th>\n",
       "      <th>parents_list</th>\n",
       "    </tr>\n",
       "  </thead>\n",
       "  <tbody>\n",
       "    <tr>\n",
       "      <th>13636</th>\n",
       "      <td>127185-N</td>\n",
       "      <td>НУНЦИЙ</td>\n",
       "      <td>1179-N,3361-N,8688-N,106891-N</td>\n",
       "      <td>NaN</td>\n",
       "      <td>[1179-N, 3361-N, 8688-N, 106891-N]</td>\n",
       "    </tr>\n",
       "  </tbody>\n",
       "</table>\n",
       "</div>"
      ],
      "text/plain": [
       "      SYNSET_ID    TEXT                        PARENTS DEFINITION  \\\n",
       "13636  127185-N  НУНЦИЙ  1179-N,3361-N,8688-N,106891-N        NaN   \n",
       "\n",
       "                             parents_list  \n",
       "13636  [1179-N, 3361-N, 8688-N, 106891-N]  "
      ]
     },
     "execution_count": 217,
     "metadata": {},
     "output_type": "execute_result"
    }
   ],
   "source": [
    "row = ttrain.sample(1)\n",
    "\n",
    "for p in row.parents_list.iloc[0]:\n",
    "    print(id2synset[p]['@ruthes_name'])\n",
    "row"
   ]
  },
  {
   "cell_type": "code",
   "execution_count": 173,
   "metadata": {},
   "outputs": [
    {
     "name": "stdout",
     "output_type": "stream",
     "text": [
      "ТЕКСТИЛЬЩИК\n",
      "РАБОТНИК ЛЕГКОЙ ПРОМЫШЛЕННОСТИ\n"
     ]
    }
   ],
   "source": []
  },
  {
   "cell_type": "code",
   "execution_count": 174,
   "metadata": {},
   "outputs": [],
   "source": [
    "vec = vecs[id2idx[row.SYNSET_ID.iloc[0]]].reshape(1, -1)"
   ]
  },
  {
   "cell_type": "code",
   "execution_count": 175,
   "metadata": {},
   "outputs": [],
   "source": [
    "vec_pred = normalize(linreg.predict(vec).ravel())"
   ]
  },
  {
   "cell_type": "code",
   "execution_count": 176,
   "metadata": {},
   "outputs": [],
   "source": [
    "distances, indices = tree.query(vec_pred.reshape(1, -1), k=10)"
   ]
  },
  {
   "cell_type": "code",
   "execution_count": 177,
   "metadata": {},
   "outputs": [
    {
     "name": "stdout",
     "output_type": "stream",
     "text": [
      "0.6634564139419517 150414-N БИОЛОГИЧЕСКАЯ СУЩНОСТЬ\n",
      "0.6879088440684842 147509-N ЭНЕРГИЯ ЧЕЛОВЕКА\n",
      "0.6916229001163239 145529-N ФУНКЦИОНАЛЬНАЯ НЕДОСТАТОЧНОСТЬ ОРГАНА\n",
      "0.6940315004049996 147134-N ФИЗИЧЕСКАЯ СУЩНОСТЬ\n",
      "0.6955260006298274 142922-N КОНСТИТУЦИОНАЛЬНЫЕ ОСОБЕННОСТИ ОРГАНИЗМА\n",
      "0.6966659523655019 150555-N ЧЕЛОВЕК ПО СФЕРЕ ДЕЯТЕЛЬНОСТИ\n",
      "0.6983008243630823 140126-N СОЦИАЛЬНО-ДЕМОГРАФИЧЕСКАЯ ОБЩНОСТЬ\n",
      "0.7105105770528403 139946-N СОЦИАЛЬНАЯ ОБЩНОСТЬ\n",
      "0.722326210037546 153782-N ПОСТОЯННАЯ СУЩНОСТЬ\n",
      "0.7238719449947625 125061-N СУБЪЕКТ СУЖДЕНИЯ\n"
     ]
    }
   ],
   "source": [
    "for i, d in zip(indices.ravel(), distances.ravel()):\n",
    "    print(d, ids[i], id2synset[ids[i]]['@ruthes_name'])"
   ]
  },
  {
   "cell_type": "code",
   "execution_count": 204,
   "metadata": {},
   "outputs": [],
   "source": [
    "def vec2hypo(vec):\n",
    "    vec_pred = normalize(linreg.predict(vec.reshape(1, -1)).ravel())\n",
    "    distances, indices = tree.query(vec_pred.reshape(1, -1), k=10)\n",
    "    return [ids[i] for i in indices.ravel()]\n",
    "\n",
    "def get_hypotheses(id):\n",
    "    vec = vecs[id2idx[id]]\n",
    "    return vec2hypo(vec)"
   ]
  },
  {
   "cell_type": "code",
   "execution_count": 205,
   "metadata": {},
   "outputs": [
    {
     "data": {
      "text/plain": [
       "['150414-N',\n",
       " '147509-N',\n",
       " '145529-N',\n",
       " '147134-N',\n",
       " '142922-N',\n",
       " '150555-N',\n",
       " '140126-N',\n",
       " '139946-N',\n",
       " '153782-N',\n",
       " '125061-N']"
      ]
     },
     "execution_count": 205,
     "metadata": {},
     "output_type": "execute_result"
    }
   ],
   "source": [
    "get_hypotheses('8667-N')"
   ]
  },
  {
   "cell_type": "code",
   "execution_count": 182,
   "metadata": {},
   "outputs": [
    {
     "data": {
      "application/vnd.jupyter.widget-view+json": {
       "model_id": "843e2b8bc9cb465c817ef11da97773c0",
       "version_major": 2,
       "version_minor": 0
      },
      "text/plain": [
       "HBox(children=(FloatProgress(value=0.0, max=8395.0), HTML(value='')))"
      ]
     },
     "metadata": {},
     "output_type": "display_data"
    },
    {
     "name": "stdout",
     "output_type": "stream",
     "text": [
      "\n"
     ]
    }
   ],
   "source": [
    "ttest_hypotheses = [get_hypotheses(id) for id in tqdm(ttest.SYNSET_ID)]"
   ]
  },
  {
   "cell_type": "code",
   "execution_count": 185,
   "metadata": {},
   "outputs": [],
   "source": [
    "ttest_gt = ttest.parents_list.apply(lambda x: [{c} for c in x]).tolist()"
   ]
  },
  {
   "cell_type": "code",
   "execution_count": 187,
   "metadata": {},
   "outputs": [
    {
     "data": {
      "text/plain": [
       "[{'119261-N'}, {'106775-N'}]"
      ]
     },
     "execution_count": 187,
     "metadata": {},
     "output_type": "execute_result"
    }
   ],
   "source": [
    "ttest_gt[0]"
   ]
  },
  {
   "cell_type": "code",
   "execution_count": 188,
   "metadata": {},
   "outputs": [
    {
     "data": {
      "text/plain": [
       "['147134-N',\n",
       " '150414-N',\n",
       " '153782-N',\n",
       " '136567-N',\n",
       " '142922-N',\n",
       " '153471-N',\n",
       " '146671-N',\n",
       " '106569-N',\n",
       " '123796-N',\n",
       " '125061-N']"
      ]
     },
     "execution_count": 188,
     "metadata": {},
     "output_type": "execute_result"
    }
   ],
   "source": [
    "ttest_hypotheses[0]"
   ]
  },
  {
   "cell_type": "code",
   "execution_count": 192,
   "metadata": {},
   "outputs": [],
   "source": [
    "aps = pd.Series([evaluate.compute_ap(gt, hyps, k=10) for gt, hyps in zip(ttest_gt, ttest_hypotheses)])"
   ]
  },
  {
   "cell_type": "code",
   "execution_count": 193,
   "metadata": {},
   "outputs": [
    {
     "data": {
      "text/plain": [
       "count    8395.000000\n",
       "mean        0.005482\n",
       "std         0.037432\n",
       "min         0.000000\n",
       "25%         0.000000\n",
       "50%         0.000000\n",
       "75%         0.000000\n",
       "max         0.555556\n",
       "dtype: float64"
      ]
     },
     "execution_count": 193,
     "metadata": {},
     "output_type": "execute_result"
    }
   ],
   "source": [
    "aps.describe()"
   ]
  },
  {
   "cell_type": "code",
   "execution_count": 194,
   "metadata": {},
   "outputs": [
    {
     "data": {
      "text/plain": [
       "0.03704586063132817"
      ]
     },
     "execution_count": 194,
     "metadata": {},
     "output_type": "execute_result"
    }
   ],
   "source": [
    "(aps>0).mean()"
   ]
  },
  {
   "cell_type": "code",
   "execution_count": 195,
   "metadata": {},
   "outputs": [
    {
     "data": {
      "text/plain": [
       "count    311.000000\n",
       "mean       0.147967\n",
       "std        0.129571\n",
       "min        0.022222\n",
       "25%        0.062500\n",
       "50%        0.111111\n",
       "75%        0.166667\n",
       "max        0.555556\n",
       "dtype: float64"
      ]
     },
     "execution_count": 195,
     "metadata": {},
     "output_type": "execute_result"
    }
   ],
   "source": [
    "aps[aps>0].describe()"
   ]
  },
  {
   "cell_type": "markdown",
   "metadata": {},
   "source": [
    "# Сабмитим бейзлайн"
   ]
  },
  {
   "cell_type": "code",
   "execution_count": 198,
   "metadata": {},
   "outputs": [],
   "source": [
    "public_test_nouns = pd.read_csv('../data/public_test/nouns_public.tsv', header=None, encoding='utf-8')\n",
    "public_test_nouns.columns = ['noun']"
   ]
  },
  {
   "cell_type": "code",
   "execution_count": 199,
   "metadata": {},
   "outputs": [
    {
     "data": {
      "text/plain": [
       "762"
      ]
     },
     "execution_count": 199,
     "metadata": {},
     "output_type": "execute_result"
    }
   ],
   "source": [
    "len(set(public_test_nouns['noun'])), len(set(public_test_nouns['noun']).difference())"
   ]
  },
  {
   "cell_type": "code",
   "execution_count": 202,
   "metadata": {},
   "outputs": [
    {
     "data": {
      "text/html": [
       "<div>\n",
       "<style scoped>\n",
       "    .dataframe tbody tr th:only-of-type {\n",
       "        vertical-align: middle;\n",
       "    }\n",
       "\n",
       "    .dataframe tbody tr th {\n",
       "        vertical-align: top;\n",
       "    }\n",
       "\n",
       "    .dataframe thead th {\n",
       "        text-align: right;\n",
       "    }\n",
       "</style>\n",
       "<table border=\"1\" class=\"dataframe\">\n",
       "  <thead>\n",
       "    <tr style=\"text-align: right;\">\n",
       "      <th></th>\n",
       "      <th>noun</th>\n",
       "    </tr>\n",
       "  </thead>\n",
       "  <tbody>\n",
       "    <tr>\n",
       "      <th>686</th>\n",
       "      <td>ФЛУКТУАЦИЯ</td>\n",
       "    </tr>\n",
       "    <tr>\n",
       "      <th>107</th>\n",
       "      <td>ВОСКРЕСНИК</td>\n",
       "    </tr>\n",
       "    <tr>\n",
       "      <th>148</th>\n",
       "      <td>ГУДРОН</td>\n",
       "    </tr>\n",
       "    <tr>\n",
       "      <th>192</th>\n",
       "      <td>ЖБАН</td>\n",
       "    </tr>\n",
       "    <tr>\n",
       "      <th>633</th>\n",
       "      <td>ТАБАКОВОДСТВО</td>\n",
       "    </tr>\n",
       "  </tbody>\n",
       "</table>\n",
       "</div>"
      ],
      "text/plain": [
       "              noun\n",
       "686     ФЛУКТУАЦИЯ\n",
       "107     ВОСКРЕСНИК\n",
       "148         ГУДРОН\n",
       "192           ЖБАН\n",
       "633  ТАБАКОВОДСТВО"
      ]
     },
     "execution_count": 202,
     "metadata": {},
     "output_type": "execute_result"
    }
   ],
   "source": [
    "public_test_nouns.sample(5)"
   ]
  },
  {
   "cell_type": "code",
   "execution_count": 203,
   "metadata": {},
   "outputs": [
    {
     "data": {
      "application/vnd.jupyter.widget-view+json": {
       "model_id": "b1db8dabc04c4065b30c0421025d6ac3",
       "version_major": 2,
       "version_minor": 0
      },
      "text/plain": [
       "HBox(children=(FloatProgress(value=0.0, max=762.0), HTML(value='')))"
      ]
     },
     "metadata": {},
     "output_type": "display_data"
    },
    {
     "name": "stdout",
     "output_type": "stream",
     "text": [
      "\n"
     ]
    }
   ],
   "source": [
    "public_test_embs = np.stack([mean_ft(tokenize(x)) for x in tqdm(public_test_nouns['noun']) ])"
   ]
  },
  {
   "cell_type": "code",
   "execution_count": 206,
   "metadata": {},
   "outputs": [
    {
     "data": {
      "application/vnd.jupyter.widget-view+json": {
       "model_id": "8076ad02def14e5bbba6464717e8a1ea",
       "version_major": 2,
       "version_minor": 0
      },
      "text/plain": [
       "HBox(children=(FloatProgress(value=0.0, max=762.0), HTML(value='')))"
      ]
     },
     "metadata": {},
     "output_type": "display_data"
    },
    {
     "name": "stdout",
     "output_type": "stream",
     "text": [
      "\n"
     ]
    }
   ],
   "source": [
    "public_test_hypos = [vec2hypo(v) for v in tqdm(public_test_embs)]"
   ]
  },
  {
   "cell_type": "code",
   "execution_count": 121,
   "metadata": {},
   "outputs": [],
   "source": []
  },
  {
   "cell_type": "code",
   "execution_count": 209,
   "metadata": {},
   "outputs": [],
   "source": [
    "result_df = prepare_submission(public_test_nouns.noun, public_test_hypos, id2synset)\n",
    "result_df.sample(10)"
   ]
  },
  {
   "cell_type": "code",
   "execution_count": 216,
   "metadata": {},
   "outputs": [],
   "source": [
    "result_df.to_csv('nouns_ft_linreg_v1.tsv', sep='\\t', encoding='utf-8', header=None, index=None)"
   ]
  },
  {
   "cell_type": "markdown",
   "metadata": {},
   "source": [
    "# Второй подход: метод ближайших соседей\n",
    "\n",
    "А что, если находить \"родителей\", просто глядя на предков похожих текстов?"
   ]
  },
  {
   "cell_type": "code",
   "execution_count": 232,
   "metadata": {},
   "outputs": [
    {
     "name": "stdout",
     "output_type": "stream",
     "text": [
      "КОПЧЕНЫЕ МЯСНЫЕ ПРОДУКТЫ\n",
      "МЯСНЫЕ ПРОДУКТЫ\n",
      "КОПЧЕНЫЕ ПРОДУКТЫ\n"
     ]
    },
    {
     "data": {
      "text/html": [
       "<div>\n",
       "<style scoped>\n",
       "    .dataframe tbody tr th:only-of-type {\n",
       "        vertical-align: middle;\n",
       "    }\n",
       "\n",
       "    .dataframe tbody tr th {\n",
       "        vertical-align: top;\n",
       "    }\n",
       "\n",
       "    .dataframe thead th {\n",
       "        text-align: right;\n",
       "    }\n",
       "</style>\n",
       "<table border=\"1\" class=\"dataframe\">\n",
       "  <thead>\n",
       "    <tr style=\"text-align: right;\">\n",
       "      <th></th>\n",
       "      <th>SYNSET_ID</th>\n",
       "      <th>TEXT</th>\n",
       "      <th>PARENTS</th>\n",
       "      <th>DEFINITION</th>\n",
       "      <th>parents_list</th>\n",
       "    </tr>\n",
       "  </thead>\n",
       "  <tbody>\n",
       "    <tr>\n",
       "      <th>12592</th>\n",
       "      <td>109065-N</td>\n",
       "      <td>БЕКОН</td>\n",
       "      <td>108355-N,108354-N,143722-N</td>\n",
       "      <td>NaN</td>\n",
       "      <td>[108355-N, 108354-N, 143722-N]</td>\n",
       "    </tr>\n",
       "  </tbody>\n",
       "</table>\n",
       "</div>"
      ],
      "text/plain": [
       "      SYNSET_ID   TEXT                     PARENTS DEFINITION  \\\n",
       "12592  109065-N  БЕКОН  108355-N,108354-N,143722-N        NaN   \n",
       "\n",
       "                         parents_list  \n",
       "12592  [108355-N, 108354-N, 143722-N]  "
      ]
     },
     "execution_count": 232,
     "metadata": {},
     "output_type": "execute_result"
    }
   ],
   "source": [
    "row = ttrain.sample(1)\n",
    "\n",
    "for p in row.parents_list.iloc[0]:\n",
    "    print(id2synset[p]['@ruthes_name'])\n",
    "row"
   ]
  },
  {
   "cell_type": "code",
   "execution_count": 233,
   "metadata": {},
   "outputs": [
    {
     "name": "stdout",
     "output_type": "stream",
     "text": [
      "0.0 109065-N БЕКОН\n",
      "0.8712710167339206 150730-N ТМИН (ПРЯНОСТЬ)\n",
      "0.8841478623142824 108934-N ШАМПИНЬОН\n",
      "0.8960343825610356 144272-N МЯСНОЕ ФИЛЕ\n",
      "0.8995815147611657 109097-N ВЕРМИШЕЛЬ\n",
      "0.9025935634314826 109769-N САРДИНА\n",
      "0.9049464338759658 143187-N ЧИПСЫ\n",
      "0.9052300484934338 107975-N АНЧОУС\n",
      "0.9117641744036451 111660-N ПЕРЕЦ (ПРЯНОСТЬ)\n",
      "0.9121563760060882 109768-N САРДЕЛЬКА\n"
     ]
    }
   ],
   "source": [
    "vec = vecs[id2idx[row.SYNSET_ID.iloc[0]]]\n",
    "\n",
    "distances, indices = tree.query(vec.reshape(1, -1), k=10)\n",
    "\n",
    "for i, d in zip(indices.ravel(), distances.ravel()):\n",
    "    print(d, ids[i], id2synset[ids[i]]['@ruthes_name'])"
   ]
  },
  {
   "cell_type": "code",
   "execution_count": 263,
   "metadata": {},
   "outputs": [],
   "source": [
    "from collections import Counter"
   ]
  },
  {
   "cell_type": "code",
   "execution_count": 378,
   "metadata": {},
   "outputs": [
    {
     "name": "stdout",
     "output_type": "stream",
     "text": [
      "ДАЛЬТОНИК\n",
      "0.908786353357731 106371-N ДАЛЛАС\n",
      "0.93271615402465 142698-N ТОНИК\n",
      "0.9738889412194028 125980-N ДАЛЬНОМЕР\n",
      "0.9810747714139905 140495-N САНТА-БАРБАРА\n",
      "0.9834304232131871 105005-N КОЛОМБО\n",
      "0.9963476631222952 105193-N СЕНТ-ВИНСЕНТ\n",
      "0.9964537579113368 140703-N РИМЕЙК ФИЛЬМА\n",
      "0.996730228507747 104693-N СЕНТ-ЛЮСИЯ\n",
      "0.9986403244813133 136332-N БРЕЙК-ДАНС\n",
      "1.002067081091842 127132-N ПЕРЕЛЕТ (ПАДЕНИЕ ДАЛЬШЕ ЦЕЛИ)\n",
      "67\n",
      "7 153782-N ПОСТОЯННАЯ СУЩНОСТЬ\n",
      "5 147134-N ФИЗИЧЕСКАЯ СУЩНОСТЬ\n",
      "4 149182-N ПУБЛИЧНО-ПРАВОВОЕ ОБРАЗОВАНИЕ\n",
      "4 149189-N СУБЪЕКТ ПРАВА\n",
      "4 138167-N СУБЪЕКТ ДЕЯТЕЛЬНОСТИ\n",
      "3 123680-N МУНИЦИПАЛЬНОЕ ОБРАЗОВАНИЕ\n",
      "3 590-N НАСЕЛЕННЫЙ ПУНКТ\n",
      "3 2052-N АДМИНИСТРАТИВНО-ТЕРРИТОРИАЛЬНАЯ ЕДИНИЦА\n",
      "3 145516-N ГОРОДСКОЕ ПОСЕЛЕНИЕ\n",
      "3 7166-N ГЕОГРАФИЧЕСКИЙ ОБЪЕКТ\n"
     ]
    }
   ],
   "source": [
    "text = public_test_nouns.noun.sample(1).iloc[0]\n",
    "print(text)\n",
    "vec = text2vec(text)\n",
    "distances, indices = tree.query(vec.reshape(1, -1), k=10)\n",
    "\n",
    "hypotheses = Counter()\n",
    "\n",
    "for i, d in zip(indices.ravel(), distances.ravel()):\n",
    "    print(d, ids[i], id2synset[ids[i]]['@ruthes_name'])\n",
    "    for parent in id2hypernym.get(ids[i], set()):\n",
    "        hypotheses[parent] += 1\n",
    "print(len(hypotheses))\n",
    "for hypo, cnt in hypotheses.most_common(10):\n",
    "    print(cnt, hypo, id2synset[hypo]['@ruthes_name'])"
   ]
  },
  {
   "cell_type": "code",
   "execution_count": 283,
   "metadata": {},
   "outputs": [],
   "source": [
    "def hypotheses_knn(text, index, k=10, verbose=False):\n",
    "    vec = text2vec(text)\n",
    "    distances, indices = index.query(vec.reshape(1, -1), k=k)\n",
    "    hypotheses = Counter()\n",
    "    for i, d in zip(indices.ravel(), distances.ravel()):\n",
    "        if verbose:\n",
    "            print(d, ids[i], id2synset[ids[i]]['@ruthes_name'])\n",
    "        for parent in id2hypernym.get(ids[i], set()):\n",
    "            hypotheses[parent] += 1\n",
    "    if verbose:\n",
    "        print(len(hypotheses))\n",
    "    result = []\n",
    "    for hypo, cnt in hypotheses.most_common(10):\n",
    "        if verbose:\n",
    "            print(cnt, hypo, id2synset[hypo]['@ruthes_name'])\n",
    "        result.append(hypo)\n",
    "    return result"
   ]
  },
  {
   "cell_type": "code",
   "execution_count": 288,
   "metadata": {},
   "outputs": [
    {
     "name": "stdout",
     "output_type": "stream",
     "text": [
      "0.0 108058-N ТЕТЕРЕВ\n",
      "0.7437579398387988 8956-N ГЛУХАРЬ\n",
      "0.7674193551437258 143552-N СЕМЕЙСТВО ТЕТЕРЕВИНЫЕ\n",
      "0.7996734758427403 8911-N КУРОПАТКА\n",
      "0.8146013732630116 107767-N ЖУРАВЛЬ (ПТИЦА)\n",
      "0.8384177525280063 107811-N ВОРОНА (ПТИЦА)\n",
      "0.8384968496822458 108189-N ОВСЯНКА (ПТИЦА)\n",
      "0.8472328710193752 102893-N ТЕТЕРЕВ (ПРИТ. ДНЕПРА)\n",
      "0.8545029887220364 134699-N РЯБЧИК\n",
      "0.8639614736208439 107927-N КУКУШКА (ПТИЦА)\n",
      "21\n",
      "10 153782-N ПОСТОЯННАЯ СУЩНОСТЬ\n",
      "10 147134-N ФИЗИЧЕСКАЯ СУЩНОСТЬ\n",
      "9 963-N ПТИЦА\n",
      "9 150414-N БИОЛОГИЧЕСКАЯ СУЩНОСТЬ\n",
      "9 106579-N ЖИВОЙ ОРГАНИЗМ\n",
      "9 144174-N ЖИВОТНОЕ\n",
      "8 4091-N ДИКОЕ ЖИВОТНОЕ\n",
      "8 5681-N ДИКАЯ ПТИЦА\n",
      "5 141894-N ПЕРНАТАЯ ДИЧЬ\n",
      "5 145929-N ОХОТНИЧЬЕ-ПРОМЫСЛОВЫЕ ЖИВОТНЫЕ\n"
     ]
    },
    {
     "data": {
      "text/plain": [
       "['153782-N',\n",
       " '147134-N',\n",
       " '963-N',\n",
       " '150414-N',\n",
       " '106579-N',\n",
       " '144174-N',\n",
       " '4091-N',\n",
       " '5681-N',\n",
       " '141894-N',\n",
       " '145929-N']"
      ]
     },
     "execution_count": 288,
     "metadata": {},
     "output_type": "execute_result"
    }
   ],
   "source": [
    "hypotheses_knn('тетерев', index=tree, verbose=True)"
   ]
  },
  {
   "cell_type": "code",
   "execution_count": 289,
   "metadata": {},
   "outputs": [
    {
     "data": {
      "text/html": [
       "<div>\n",
       "<style scoped>\n",
       "    .dataframe tbody tr th:only-of-type {\n",
       "        vertical-align: middle;\n",
       "    }\n",
       "\n",
       "    .dataframe tbody tr th {\n",
       "        vertical-align: top;\n",
       "    }\n",
       "\n",
       "    .dataframe thead th {\n",
       "        text-align: right;\n",
       "    }\n",
       "</style>\n",
       "<table border=\"1\" class=\"dataframe\">\n",
       "  <thead>\n",
       "    <tr style=\"text-align: right;\">\n",
       "      <th></th>\n",
       "      <th>SYNSET_ID</th>\n",
       "      <th>TEXT</th>\n",
       "      <th>PARENTS</th>\n",
       "      <th>DEFINITION</th>\n",
       "      <th>parents_list</th>\n",
       "    </tr>\n",
       "  </thead>\n",
       "  <tbody>\n",
       "    <tr>\n",
       "      <th>4203</th>\n",
       "      <td>131140-N</td>\n",
       "      <td>ЗАГНОЕНИЕ,ГНОЕНИЕ</td>\n",
       "      <td>120550-N,125011-N,152470-N</td>\n",
       "      <td>NaN</td>\n",
       "      <td>[120550-N, 125011-N, 152470-N]</td>\n",
       "    </tr>\n",
       "    <tr>\n",
       "      <th>13749</th>\n",
       "      <td>138126-N</td>\n",
       "      <td>УДАРОПРОЧНОСТЬ</td>\n",
       "      <td>127016-N,118598-N,119010-N</td>\n",
       "      <td>NaN</td>\n",
       "      <td>[127016-N, 118598-N, 119010-N]</td>\n",
       "    </tr>\n",
       "    <tr>\n",
       "      <th>15441</th>\n",
       "      <td>136755-N</td>\n",
       "      <td>ЭМБОЛИЯ</td>\n",
       "      <td>136754-N,6129-N,119562-N</td>\n",
       "      <td>NaN</td>\n",
       "      <td>[136754-N, 6129-N, 119562-N]</td>\n",
       "    </tr>\n",
       "  </tbody>\n",
       "</table>\n",
       "</div>"
      ],
      "text/plain": [
       "      SYNSET_ID               TEXT                     PARENTS DEFINITION  \\\n",
       "4203   131140-N  ЗАГНОЕНИЕ,ГНОЕНИЕ  120550-N,125011-N,152470-N        NaN   \n",
       "13749  138126-N     УДАРОПРОЧНОСТЬ  127016-N,118598-N,119010-N        NaN   \n",
       "15441  136755-N            ЭМБОЛИЯ    136754-N,6129-N,119562-N        NaN   \n",
       "\n",
       "                         parents_list  \n",
       "4203   [120550-N, 125011-N, 152470-N]  \n",
       "13749  [127016-N, 118598-N, 119010-N]  \n",
       "15441    [136754-N, 6129-N, 119562-N]  "
      ]
     },
     "execution_count": 289,
     "metadata": {},
     "output_type": "execute_result"
    }
   ],
   "source": [
    "ttest.sample(3)"
   ]
  },
  {
   "cell_type": "code",
   "execution_count": 296,
   "metadata": {},
   "outputs": [
    {
     "data": {
      "application/vnd.jupyter.widget-view+json": {
       "model_id": "524ba713c5734c69b33fc0507dc5df55",
       "version_major": 2,
       "version_minor": 0
      },
      "text/plain": [
       "HBox(children=(FloatProgress(value=0.0, max=8395.0), HTML(value='')))"
      ]
     },
     "metadata": {},
     "output_type": "display_data"
    },
    {
     "name": "stdout",
     "output_type": "stream",
     "text": [
      "\n"
     ]
    }
   ],
   "source": [
    "ttest_hypotheses = [hypotheses_knn(txt, index=tree) for txt in tqdm(ttest.TEXT)]"
   ]
  },
  {
   "cell_type": "code",
   "execution_count": 298,
   "metadata": {},
   "outputs": [
    {
     "name": "stdout",
     "output_type": "stream",
     "text": [
      "0.3970220369267421\n",
      "0.16911255808120496\n"
     ]
    },
    {
     "data": {
      "text/plain": [
       "count    8395.000000\n",
       "mean        0.067141\n",
       "std         0.121018\n",
       "min         0.000000\n",
       "25%         0.000000\n",
       "50%         0.000000\n",
       "75%         0.083333\n",
       "max         1.000000\n",
       "dtype: float64"
      ]
     },
     "execution_count": 298,
     "metadata": {},
     "output_type": "execute_result"
    }
   ],
   "source": [
    "aps = pd.Series([evaluate.compute_ap(gt, hyps, k=10) for gt, hyps in zip(ttest_gt, ttest_hypotheses)])\n",
    "print((aps>0).mean())\n",
    "print(aps[aps>0].mean())\n",
    "aps.describe()"
   ]
  },
  {
   "cell_type": "code",
   "execution_count": 293,
   "metadata": {},
   "outputs": [
    {
     "data": {
      "application/vnd.jupyter.widget-view+json": {
       "model_id": "4d27b2b21ce646429615d92442cdcd9b",
       "version_major": 2,
       "version_minor": 0
      },
      "text/plain": [
       "HBox(children=(FloatProgress(value=0.0, max=762.0), HTML(value='')))"
      ]
     },
     "metadata": {},
     "output_type": "display_data"
    },
    {
     "name": "stdout",
     "output_type": "stream",
     "text": [
      "\n"
     ]
    }
   ],
   "source": [
    "public_test_hypos = [hypotheses_knn(t, index=tree) for t in tqdm(public_test_nouns.noun)]"
   ]
  },
  {
   "cell_type": "code",
   "execution_count": 362,
   "metadata": {},
   "outputs": [
    {
     "data": {
      "text/plain": [
       "count    762.000000\n",
       "mean       9.994751\n",
       "std        0.144905\n",
       "min        6.000000\n",
       "25%       10.000000\n",
       "50%       10.000000\n",
       "75%       10.000000\n",
       "max       10.000000\n",
       "dtype: float64"
      ]
     },
     "execution_count": 362,
     "metadata": {},
     "output_type": "execute_result"
    }
   ],
   "source": [
    "pd.Series(public_test_hypos).apply(len).describe()"
   ]
  },
  {
   "cell_type": "code",
   "execution_count": 294,
   "metadata": {},
   "outputs": [
    {
     "data": {
      "text/html": [
       "<div>\n",
       "<style scoped>\n",
       "    .dataframe tbody tr th:only-of-type {\n",
       "        vertical-align: middle;\n",
       "    }\n",
       "\n",
       "    .dataframe tbody tr th {\n",
       "        vertical-align: top;\n",
       "    }\n",
       "\n",
       "    .dataframe thead th {\n",
       "        text-align: right;\n",
       "    }\n",
       "</style>\n",
       "<table border=\"1\" class=\"dataframe\">\n",
       "  <thead>\n",
       "    <tr style=\"text-align: right;\">\n",
       "      <th></th>\n",
       "      <th>noun</th>\n",
       "      <th>result</th>\n",
       "      <th>result_text</th>\n",
       "    </tr>\n",
       "  </thead>\n",
       "  <tbody>\n",
       "    <tr>\n",
       "      <th>3454</th>\n",
       "      <td>МЕДИАНА</td>\n",
       "      <td>106451-N</td>\n",
       "      <td>МЕСТО В ПРОСТРАНСТВЕ</td>\n",
       "    </tr>\n",
       "    <tr>\n",
       "      <th>6999</th>\n",
       "      <td>ХАРЧО</td>\n",
       "      <td>107778-N</td>\n",
       "      <td>КУШАНЬЕ</td>\n",
       "    </tr>\n",
       "    <tr>\n",
       "      <th>3232</th>\n",
       "      <td>ЛОБСТЕР</td>\n",
       "      <td>820-N</td>\n",
       "      <td>ВЕЩЕСТВО</td>\n",
       "    </tr>\n",
       "    <tr>\n",
       "      <th>4438</th>\n",
       "      <td>ПАНТОГРАФ</td>\n",
       "      <td>111816-N</td>\n",
       "      <td>СОЗДАТЕЛЬ</td>\n",
       "    </tr>\n",
       "    <tr>\n",
       "      <th>2031</th>\n",
       "      <td>ЗАТОВАРИВАНИЕ</td>\n",
       "      <td>106473-N</td>\n",
       "      <td>ОБУСЛАВЛИВАТЬ, СПОСОБСТВОВАТЬ</td>\n",
       "    </tr>\n",
       "    <tr>\n",
       "      <th>7499</th>\n",
       "      <td>ЭЛЕФАНТИАЗ</td>\n",
       "      <td>2149-N</td>\n",
       "      <td>ЧЕЛОВЕК</td>\n",
       "    </tr>\n",
       "    <tr>\n",
       "      <th>4784</th>\n",
       "      <td>ПНЕВМОКОКК</td>\n",
       "      <td>147134-N</td>\n",
       "      <td>ФИЗИЧЕСКАЯ СУЩНОСТЬ</td>\n",
       "    </tr>\n",
       "    <tr>\n",
       "      <th>25</th>\n",
       "      <td>АВАЛЬ</td>\n",
       "      <td>106627-N</td>\n",
       "      <td>ГРУППА ЛЮДЕЙ</td>\n",
       "    </tr>\n",
       "    <tr>\n",
       "      <th>5241</th>\n",
       "      <td>ПУСТЕЛЬГА</td>\n",
       "      <td>147134-N</td>\n",
       "      <td>ФИЗИЧЕСКАЯ СУЩНОСТЬ</td>\n",
       "    </tr>\n",
       "    <tr>\n",
       "      <th>6930</th>\n",
       "      <td>ФРЕКИНГ</td>\n",
       "      <td>106646-N</td>\n",
       "      <td>ОТНОШЕНИЕ МЕЖДУ СУЩНОСТЯМИ</td>\n",
       "    </tr>\n",
       "  </tbody>\n",
       "</table>\n",
       "</div>"
      ],
      "text/plain": [
       "               noun    result                    result_text\n",
       "3454        МЕДИАНА  106451-N           МЕСТО В ПРОСТРАНСТВЕ\n",
       "6999          ХАРЧО  107778-N                        КУШАНЬЕ\n",
       "3232        ЛОБСТЕР     820-N                       ВЕЩЕСТВО\n",
       "4438      ПАНТОГРАФ  111816-N                      СОЗДАТЕЛЬ\n",
       "2031  ЗАТОВАРИВАНИЕ  106473-N  ОБУСЛАВЛИВАТЬ, СПОСОБСТВОВАТЬ\n",
       "7499     ЭЛЕФАНТИАЗ    2149-N                        ЧЕЛОВЕК\n",
       "4784     ПНЕВМОКОКК  147134-N            ФИЗИЧЕСКАЯ СУЩНОСТЬ\n",
       "25            АВАЛЬ  106627-N                   ГРУППА ЛЮДЕЙ\n",
       "5241      ПУСТЕЛЬГА  147134-N            ФИЗИЧЕСКАЯ СУЩНОСТЬ\n",
       "6930        ФРЕКИНГ  106646-N     ОТНОШЕНИЕ МЕЖДУ СУЩНОСТЯМИ"
      ]
     },
     "execution_count": 294,
     "metadata": {},
     "output_type": "execute_result"
    }
   ],
   "source": [
    "result_nouns = []\n",
    "result_hyperonyms = []\n",
    "result_hyper_names = []\n",
    "for n, h in zip(public_test_nouns.noun, public_test_hypos):\n",
    "    for hypo in h:\n",
    "        result_nouns.append(n)\n",
    "        result_hyperonyms.append(hypo)\n",
    "        result_hyper_names.append(id2synset[hypo]['@ruthes_name'])\n",
    "result_df = pd.DataFrame({'noun': result_nouns, 'result': result_hyperonyms, 'result_text': result_hyper_names})\n",
    "result_df.sample(10)"
   ]
  },
  {
   "cell_type": "code",
   "execution_count": 295,
   "metadata": {},
   "outputs": [],
   "source": [
    "result_df.to_csv('nouns_ft_knn_v2.tsv', sep='\\t', encoding='utf-8', header=None, index=None)"
   ]
  },
  {
   "cell_type": "markdown",
   "metadata": {},
   "source": [
    "# Третий подход: расширяем knn"
   ]
  },
  {
   "cell_type": "code",
   "execution_count": 79,
   "metadata": {},
   "outputs": [],
   "source": [
    "public_test_nouns = pd.read_csv('../data/public_test/nouns_public.tsv', header=None, encoding='utf-8')\n",
    "public_test_nouns.columns = ['noun']"
   ]
  },
  {
   "cell_type": "code",
   "execution_count": 37,
   "metadata": {},
   "outputs": [],
   "source": [
    "import gensim\n",
    "# this is araneum 2018 ft model from rusvectores\n",
    "ft = gensim.models.fasttext.FastTextKeyedVectors.load(\n",
    "    'C:/Users/ddale/Downloads/NLP/rusvectores/model.model'\n",
    ")\n",
    "ft.adjust_vectors()"
   ]
  },
  {
   "cell_type": "code",
   "execution_count": 38,
   "metadata": {},
   "outputs": [],
   "source": [
    "from nltk import wordpunct_tokenize\n",
    "from string import punctuation\n",
    "\n",
    "def tokenize(text):\n",
    "    return [t for t in wordpunct_tokenize(text.lower()) if not all(c in punctuation for c in t)]\n",
    "\n",
    "def mean_ft(tokens, n=300):\n",
    "    vecs = [normalize(ft[w]) for w in tokens]\n",
    "    if len(vecs) == 0:\n",
    "        return np.zeros(n)\n",
    "    return normalize(sum(vecs))\n",
    "\n",
    "def normalize(v):\n",
    "    return v / sum(v**2)**0.5"
   ]
  },
  {
   "cell_type": "code",
   "execution_count": 502,
   "metadata": {},
   "outputs": [
    {
     "data": {
      "text/plain": [
       "26837"
      ]
     },
     "execution_count": 502,
     "metadata": {},
     "output_type": "execute_result"
    }
   ],
   "source": [
    "ids = sorted(set(id2synset.keys()).difference(forbidden_id))\n",
    "len(ids)"
   ]
  },
  {
   "cell_type": "code",
   "execution_count": 503,
   "metadata": {},
   "outputs": [],
   "source": [
    "from tqdm.auto import tqdm, trange"
   ]
  },
  {
   "cell_type": "code",
   "execution_count": 504,
   "metadata": {},
   "outputs": [],
   "source": [
    "def text2vec(text):\n",
    "    return mean_ft(tokenize(text))"
   ]
  },
  {
   "cell_type": "code",
   "execution_count": 505,
   "metadata": {},
   "outputs": [
    {
     "name": "stdout",
     "output_type": "stream",
     "text": [
      "26837 110588\n"
     ]
    }
   ],
   "source": [
    "ids_long = []\n",
    "texts_long = []\n",
    "for id in ids:\n",
    "    s = id2synset[id]\n",
    "    senses = s['sense']\n",
    "    if not isinstance(senses, list):\n",
    "        senses = [senses]\n",
    "    texts = {sense['#text'] for sense in senses}\n",
    "    texts.add(s['@ruthes_name'])\n",
    "    if len(texts) > 1:\n",
    "        texts.add(' ; '.join(sorted(texts)))\n",
    "    for text in sorted(texts):\n",
    "        ids_long.append(id)\n",
    "        texts_long.append(text)\n",
    "print(len(ids), len(ids_long))"
   ]
  },
  {
   "cell_type": "code",
   "execution_count": null,
   "metadata": {},
   "outputs": [],
   "source": [
    "119273"
   ]
  },
  {
   "cell_type": "code",
   "execution_count": 506,
   "metadata": {
    "scrolled": true
   },
   "outputs": [
    {
     "data": {
      "application/vnd.jupyter.widget-view+json": {
       "model_id": "0c88ae01f2134850a6095ce241d3353e",
       "version_major": 2,
       "version_minor": 0
      },
      "text/plain": [
       "HBox(children=(FloatProgress(value=0.0, max=110588.0), HTML(value='')))"
      ]
     },
     "metadata": {},
     "output_type": "display_data"
    },
    {
     "name": "stdout",
     "output_type": "stream",
     "text": [
      "\n"
     ]
    },
    {
     "data": {
      "text/plain": [
       "(110588, 300)"
      ]
     },
     "execution_count": 506,
     "metadata": {},
     "output_type": "execute_result"
    }
   ],
   "source": [
    "#vecs = np.stack([mean_ft(tokenize(id2synset[idx]['@ruthes_name'])) for idx in tqdm(ids) ])\n",
    "vecs = np.stack([mean_ft(tokenize(t)) for t in tqdm(texts_long) ])\n",
    "vecs.shape"
   ]
  },
  {
   "cell_type": "code",
   "execution_count": 507,
   "metadata": {},
   "outputs": [],
   "source": [
    "from sklearn.neighbors import KDTree\n",
    "\n",
    "tree = KDTree(vecs)"
   ]
  },
  {
   "cell_type": "code",
   "execution_count": 67,
   "metadata": {},
   "outputs": [],
   "source": [
    "from collections import defaultdict"
   ]
  },
  {
   "cell_type": "markdown",
   "metadata": {},
   "source": [
    "id2hyponym = defaultdict(set)\n",
    "id2hypernym = defaultdict(set)\n",
    "\n",
    "def add_pair(hypo_id, hyper_id):\n",
    "    if hypo_id in id2hyponym[hyper_id]:\n",
    "        # the pair is already here\n",
    "        return \n",
    "    if hypo_id in id2hypernym[hyper_id]:\n",
    "        raise ValueError('{} is already a hypernym of {}, so it cannot become its hyponym'.format(hypo_id, hyper_id))\n",
    "    for next_hypo in id2hyponym[hypo_id]:\n",
    "        add_pair(next_hypo, hyper_id)\n",
    "    for next_hyper in id2hypernym[hyper_id]:\n",
    "        add_pair(hypo_id, next_hyper)\n",
    "    id2hyponym[hyper_id].add(hypo_id)\n",
    "    id2hypernym[hypo_id].add(hyper_id)\n",
    "        "
   ]
  },
  {
   "cell_type": "markdown",
   "metadata": {},
   "source": [
    "hypo_df = rel_df[rel_df['@name']=='hyponym']\n",
    "for r, row in tqdm(hypo_df.iterrows()):\n",
    "    hypo_id = row['@child_id']\n",
    "    hyper_id = row['@parent_id']\n",
    "    add_pair(hypo_id, hyper_id)"
   ]
  },
  {
   "cell_type": "code",
   "execution_count": 261,
   "metadata": {},
   "outputs": [],
   "source": [
    "from collections import Counter\n",
    "\n",
    "def hypotheses_knn(text, index, ids_list=ids_long, texts_list=texts_long, k=10, verbose=False, decay=0, grand_mult=1):\n",
    "    # todo: distance decay\n",
    "    vec = text2vec(text)\n",
    "    distances, indices = index.query(vec.reshape(1, -1), k=k)\n",
    "    hypotheses = Counter()\n",
    "    for i, d in zip(indices.ravel(), distances.ravel()):\n",
    "        hypers = id2hypernym.get(ids_list[i], set())\n",
    "        if verbose:\n",
    "            print(d, 1, ids_list[i], texts_list[i], len(hypers))\n",
    "        for parent in hypers:\n",
    "            hypotheses[parent] += np.exp(-d**decay)\n",
    "            for grandparent in id2hypernym.get(parent, set()):\n",
    "                hypotheses[grandparent] += np.exp(-d**decay) * grand_mult\n",
    "    if verbose:\n",
    "        print(len(hypotheses))\n",
    "    result = []\n",
    "    for hypo, cnt in hypotheses.most_common(10):\n",
    "        if verbose:\n",
    "            print(cnt, hypo, id2synset[hypo]['@ruthes_name'])\n",
    "        result.append(hypo)\n",
    "    return result"
   ]
  },
  {
   "cell_type": "code",
   "execution_count": 320,
   "metadata": {},
   "outputs": [
    {
     "data": {
      "text/html": [
       "<div>\n",
       "<style scoped>\n",
       "    .dataframe tbody tr th:only-of-type {\n",
       "        vertical-align: middle;\n",
       "    }\n",
       "\n",
       "    .dataframe tbody tr th {\n",
       "        vertical-align: top;\n",
       "    }\n",
       "\n",
       "    .dataframe thead th {\n",
       "        text-align: right;\n",
       "    }\n",
       "</style>\n",
       "<table border=\"1\" class=\"dataframe\">\n",
       "  <thead>\n",
       "    <tr style=\"text-align: right;\">\n",
       "      <th></th>\n",
       "      <th>SYNSET_ID</th>\n",
       "      <th>TEXT</th>\n",
       "      <th>PARENTS</th>\n",
       "      <th>DEFINITION</th>\n",
       "      <th>parents_list</th>\n",
       "      <th>gt</th>\n",
       "    </tr>\n",
       "  </thead>\n",
       "  <tbody>\n",
       "    <tr>\n",
       "      <th>251</th>\n",
       "      <td>108784-N</td>\n",
       "      <td>ЛОКОН</td>\n",
       "      <td>108783-N,108951-N,121266-N</td>\n",
       "      <td>вьющаяся или завитая прядь волос</td>\n",
       "      <td>[108783-N, 108951-N, 121266-N]</td>\n",
       "      <td>[{108783-N}, {108951-N}, {121266-N}]</td>\n",
       "    </tr>\n",
       "    <tr>\n",
       "      <th>12274</th>\n",
       "      <td>141589-N</td>\n",
       "      <td>ТРЕТИРОВАНИЕ</td>\n",
       "      <td>118094-N,107181-N,116506-N</td>\n",
       "      <td>NaN</td>\n",
       "      <td>[118094-N, 107181-N, 116506-N]</td>\n",
       "      <td>[{118094-N}, {107181-N}, {116506-N}]</td>\n",
       "    </tr>\n",
       "    <tr>\n",
       "      <th>2621</th>\n",
       "      <td>116040-N</td>\n",
       "      <td>СКОРНЯК</td>\n",
       "      <td>116038-N,110125-N</td>\n",
       "      <td>NaN</td>\n",
       "      <td>[116038-N, 110125-N]</td>\n",
       "      <td>[{116038-N}, {110125-N}]</td>\n",
       "    </tr>\n",
       "  </tbody>\n",
       "</table>\n",
       "</div>"
      ],
      "text/plain": [
       "      SYNSET_ID          TEXT                     PARENTS  \\\n",
       "251    108784-N         ЛОКОН  108783-N,108951-N,121266-N   \n",
       "12274  141589-N  ТРЕТИРОВАНИЕ  118094-N,107181-N,116506-N   \n",
       "2621   116040-N       СКОРНЯК           116038-N,110125-N   \n",
       "\n",
       "                             DEFINITION                    parents_list  \\\n",
       "251    вьющаяся или завитая прядь волос  [108783-N, 108951-N, 121266-N]   \n",
       "12274                               NaN  [118094-N, 107181-N, 116506-N]   \n",
       "2621                                NaN            [116038-N, 110125-N]   \n",
       "\n",
       "                                         gt  \n",
       "251    [{108783-N}, {108951-N}, {121266-N}]  \n",
       "12274  [{118094-N}, {107181-N}, {116506-N}]  \n",
       "2621               [{116038-N}, {110125-N}]  "
      ]
     },
     "execution_count": 320,
     "metadata": {},
     "output_type": "execute_result"
    }
   ],
   "source": [
    "ssid = ttest_small.sample(1).SYNSET_ID.iloc[0]\n",
    "smpl "
   ]
  },
  {
   "cell_type": "code",
   "execution_count": 316,
   "metadata": {},
   "outputs": [
    {
     "data": {
      "text/html": [
       "<div>\n",
       "<style scoped>\n",
       "    .dataframe tbody tr th:only-of-type {\n",
       "        vertical-align: middle;\n",
       "    }\n",
       "\n",
       "    .dataframe tbody tr th {\n",
       "        vertical-align: top;\n",
       "    }\n",
       "\n",
       "    .dataframe thead th {\n",
       "        text-align: right;\n",
       "    }\n",
       "</style>\n",
       "<table border=\"1\" class=\"dataframe\">\n",
       "  <thead>\n",
       "    <tr style=\"text-align: right;\">\n",
       "      <th></th>\n",
       "      <th>noun</th>\n",
       "    </tr>\n",
       "  </thead>\n",
       "  <tbody>\n",
       "    <tr>\n",
       "      <th>523</th>\n",
       "      <td>ПУЛЬСАР</td>\n",
       "    </tr>\n",
       "    <tr>\n",
       "      <th>665</th>\n",
       "      <td>ТУЖУРКА</td>\n",
       "    </tr>\n",
       "    <tr>\n",
       "      <th>366</th>\n",
       "      <td>МОНОКЛЬ</td>\n",
       "    </tr>\n",
       "  </tbody>\n",
       "</table>\n",
       "</div>"
      ],
      "text/plain": [
       "        noun\n",
       "523  ПУЛЬСАР\n",
       "665  ТУЖУРКА\n",
       "366  МОНОКЛЬ"
      ]
     },
     "execution_count": 316,
     "metadata": {},
     "output_type": "execute_result"
    }
   ],
   "source": [
    "public_test_nouns.sample(3)"
   ]
  },
  {
   "cell_type": "code",
   "execution_count": 319,
   "metadata": {},
   "outputs": [
    {
     "name": "stdout",
     "output_type": "stream",
     "text": [
      "0.689579460591365 1 108048-N КУРТКА ; КУРТОЧКА 1\n",
      "0.710060161871439 1 6892-N ПАЛЬТИШКО ; ПАЛЬТО 1\n",
      "0.7102982663458153 1 108048-N КУРТОЧКА 1\n",
      "2\n",
      "1.2315741056326779 4024-N ВЕРХНЯЯ ОДЕЖДА\n",
      "1.2315741056326779 1256-N ОДЕЖДА\n"
     ]
    },
    {
     "data": {
      "text/plain": [
       "['4024-N', '1256-N']"
      ]
     },
     "execution_count": 319,
     "metadata": {},
     "output_type": "execute_result"
    }
   ],
   "source": [
    "hypotheses_knn('ТУЖУРКА', index=tree, verbose=True, decay=0.33, k=3)"
   ]
  },
  {
   "cell_type": "code",
   "execution_count": 97,
   "metadata": {},
   "outputs": [
    {
     "data": {
      "text/plain": [
       "OrderedDict([('@id', '128670-N'),\n",
       "             ('@ruthes_name',\n",
       "              'РАМКА (ПРЯМОУГОЛЬНОЕ ОБРАМЛЕНИЕ ТЕКСТА ИЛИ РИСУНКА)'),\n",
       "             ('@definition', ''),\n",
       "             ('@part_of_speech', 'N'),\n",
       "             ('sense',\n",
       "              [OrderedDict([('@id', '128670-N-752015'), ('#text', 'РАМОЧКА')]),\n",
       "               OrderedDict([('@id', '128670-N-731117'),\n",
       "                            ('#text', 'ГРАФИЧЕСКИЙ РАМКА')]),\n",
       "               OrderedDict([('@id', '128670-N-169743'),\n",
       "                            ('#text', 'РАМКА')])])])"
      ]
     },
     "execution_count": 97,
     "metadata": {},
     "output_type": "execute_result"
    }
   ],
   "source": [
    "id2synset['128670-N']"
   ]
  },
  {
   "cell_type": "code",
   "execution_count": 106,
   "metadata": {},
   "outputs": [
    {
     "data": {
      "text/html": [
       "<div>\n",
       "<style scoped>\n",
       "    .dataframe tbody tr th:only-of-type {\n",
       "        vertical-align: middle;\n",
       "    }\n",
       "\n",
       "    .dataframe tbody tr th {\n",
       "        vertical-align: top;\n",
       "    }\n",
       "\n",
       "    .dataframe thead th {\n",
       "        text-align: right;\n",
       "    }\n",
       "</style>\n",
       "<table border=\"1\" class=\"dataframe\">\n",
       "  <thead>\n",
       "    <tr style=\"text-align: right;\">\n",
       "      <th></th>\n",
       "      <th>SYNSET_ID</th>\n",
       "      <th>TEXT</th>\n",
       "      <th>PARENTS</th>\n",
       "      <th>DEFINITION</th>\n",
       "      <th>parents_list</th>\n",
       "      <th>text_small</th>\n",
       "    </tr>\n",
       "  </thead>\n",
       "  <tbody>\n",
       "    <tr>\n",
       "      <th>4952</th>\n",
       "      <td>153474-N</td>\n",
       "      <td>АНЕВРИЗМА</td>\n",
       "      <td>6129-N,616-N</td>\n",
       "      <td>NaN</td>\n",
       "      <td>[6129-N, 616-N]</td>\n",
       "      <td>АНЕВРИЗМА</td>\n",
       "    </tr>\n",
       "    <tr>\n",
       "      <th>11574</th>\n",
       "      <td>109293-N</td>\n",
       "      <td>БАЛЛАДА</td>\n",
       "      <td>4235-N,107667-N,1447-N</td>\n",
       "      <td>NaN</td>\n",
       "      <td>[4235-N, 107667-N, 1447-N]</td>\n",
       "      <td>БАЛЛАДА</td>\n",
       "    </tr>\n",
       "    <tr>\n",
       "      <th>6839</th>\n",
       "      <td>137138-N</td>\n",
       "      <td>САМОВЛЮБЛЕННОСТЬ,НАРЦИССИЗМ</td>\n",
       "      <td>111367-N,111260-N</td>\n",
       "      <td>NaN</td>\n",
       "      <td>[111367-N, 111260-N]</td>\n",
       "      <td>САМОВЛЮБЛЕННОСТЬ</td>\n",
       "    </tr>\n",
       "  </tbody>\n",
       "</table>\n",
       "</div>"
      ],
      "text/plain": [
       "      SYNSET_ID                         TEXT                 PARENTS  \\\n",
       "4952   153474-N                    АНЕВРИЗМА            6129-N,616-N   \n",
       "11574  109293-N                      БАЛЛАДА  4235-N,107667-N,1447-N   \n",
       "6839   137138-N  САМОВЛЮБЛЕННОСТЬ,НАРЦИССИЗМ       111367-N,111260-N   \n",
       "\n",
       "      DEFINITION                parents_list        text_small  \n",
       "4952         NaN             [6129-N, 616-N]         АНЕВРИЗМА  \n",
       "11574        NaN  [4235-N, 107667-N, 1447-N]           БАЛЛАДА  \n",
       "6839         NaN        [111367-N, 111260-N]  САМОВЛЮБЛЕННОСТЬ  "
      ]
     },
     "execution_count": 106,
     "metadata": {},
     "output_type": "execute_result"
    }
   ],
   "source": [
    "ttest.sample(3)"
   ]
  },
  {
   "cell_type": "code",
   "execution_count": 105,
   "metadata": {},
   "outputs": [
    {
     "data": {
      "application/vnd.jupyter.widget-view+json": {
       "model_id": "992911419b1d4f74b3c5d9e0a8790a22",
       "version_major": 2,
       "version_minor": 0
      },
      "text/plain": [
       "HBox(children=(FloatProgress(value=0.0, max=8395.0), HTML(value='')))"
      ]
     },
     "metadata": {},
     "output_type": "display_data"
    },
    {
     "name": "stdout",
     "output_type": "stream",
     "text": [
      "\n"
     ]
    }
   ],
   "source": [
    "ttest_hypotheses = [hypotheses_knn(txt, index=tree) for txt in tqdm(ttest.TEXT.apply(lambda x: x.split(',')[0]))]"
   ]
  },
  {
   "cell_type": "code",
   "execution_count": 107,
   "metadata": {},
   "outputs": [
    {
     "name": "stdout",
     "output_type": "stream",
     "text": [
      "0.5627159023228112\n",
      "0.1826877262453575\n"
     ]
    },
    {
     "data": {
      "text/plain": [
       "count    8395.000000\n",
       "mean        0.102801\n",
       "std         0.137840\n",
       "min         0.000000\n",
       "25%         0.000000\n",
       "50%         0.041667\n",
       "75%         0.182540\n",
       "max         1.000000\n",
       "dtype: float64"
      ]
     },
     "execution_count": 107,
     "metadata": {},
     "output_type": "execute_result"
    }
   ],
   "source": [
    "aps = pd.Series([evaluate.compute_ap(gt, hyps, k=10) for gt, hyps in zip(ttest_gt, ttest_hypotheses)])\n",
    "print((aps>0).mean())\n",
    "print(aps[aps>0].mean())\n",
    "aps.describe()"
   ]
  },
  {
   "cell_type": "markdown",
   "metadata": {},
   "source": [
    "Чтобы быстрее проверять гипотезы, считаю мой скор на маленькой выборке. \n",
    "\n",
    "\n",
    "```\n",
    "Для k = 10\n",
    "decay      score\n",
    "  0         9.66 %\n",
    "  0.00001  11.23%\n",
    "  0.001    11.23 %\n",
    "  0.01     11.23 %\n",
    "  0.1      11.23 %\n",
    "  0.3      11.26 %\n",
    "  0.6      11.26 %\n",
    "  0.8      11.11 %\n",
    "  1        11.09 %\n",
    "  3        10.36 %\n",
    " 10         9.80 %\n",
    "100         9.45 %\n",
    "\n",
    "Для d = 0.3\n",
    "k          score\n",
    "   1       26.66 %\n",
    "   2       23.38 %\n",
    "   3       21.11 %\n",
    "  10       11.23 %\n",
    "  30        5.09 %\n",
    " 100        2.37 %\n",
    "\n",
    "Для d = 0\n",
    "k  \n",
    "   1        26.68 %\n",
    "   2        23.38 %\n",
    "   3        19.34 %\n",
    "  10         9.66 %\n",
    "    \n",
    "d=0,   k=2  23.38 %\n",
    "d=0.3, k=2  23.38 %\n",
    "d=1,   k=2  23.38 %   \n",
    "d=100, k=2  23.38 %\n",
    "\n",
    "\n",
    "А если пересчитать всё по-новой, с максимум бабушкой\n",
    "\n",
    "Для k=10\n",
    " d\n",
    " 0          0.310785\n",
    " 0.0001     0.368592\n",
    " 0.01       0.368592\n",
    " 0.1        0.368592\n",
    " 0.3        0.368787\n",
    " 0.6        0.370336\n",
    " 0.7        0.370354*\n",
    " 0.8        0.364852\n",
    " 1          0.361027\n",
    "10          0.322040\n",
    "\n",
    "Для d=0.7\n",
    "   k\n",
    "    1       0.461711\n",
    "    2       0.475920*\n",
    "    3       0.463350\n",
    "    4       0.449713\n",
    "    6       0.413960\n",
    "   10       0.370354\n",
    "   20       0.267284\n",
    "\n",
    "Для k=2\n",
    " d\n",
    " 0          0.475920\n",
    " 0.1        0.475920\n",
    " 0.7        0.475920\n",
    " 3          0.475920\n",
    "10          0.475920\n",
    "\n",
    "Для k=3\n",
    " d\n",
    " 0          0.440182\n",
    " 0.001      0.469816\n",
    " 0.01       0.469816\n",
    " 0.1        0.469816\n",
    " 0.3        0.469816\n",
    " 0.5        0.467909\n",
    " 0.7        0.463350\n",
    " \n",
    "\n",
    "Игры с предками:\n",
    "\n",
    "d=0.7, k=2\n",
    "grand_mult  score\n",
    " None       0.475920 тут я просто с самого начала добавлял в список предков и 1, и 2 порядки\n",
    " 0          0.341454\n",
    " 0.1        0.646319\n",
    " 0.3        0.649679\n",
    " 0.9        0.702381\n",
    " 0.99       0.700714\n",
    " 0.9999     0.700714\n",
    " 1          0.721821*\n",
    " 1.01       0.696454\n",
    " 1.1        0.696176\n",
    " 1.5        0.695454\n",
    " 2          0.683550\n",
    " 3          0.664040\n",
    " \n",
    "grand_mul=1, k=2\n",
    " d\n",
    " 0          0.716492\n",
    " 0.01       0.726965\n",
    " 0.1        0.726965*\n",
    " 0.3        0.726965\n",
    " 0.45       0.725761\n",
    " 0.6        0.722099\n",
    " 0.7        0.721821\n",
    "\n",
    "d=0.7, k=3, gm=1   0.729596\n",
    "d=0.7, k=4, gm=1   0.713257\n",
    "\n",
    "k = 3, gm=1\n",
    " d\n",
    " 0          0.698706\n",
    " 0.1        0.743212\n",
    " 0.3        0.743212\n",
    " 0.33       0.743212 * \n",
    " 0.37       0.741471\n",
    " 0.45       0.738971\n",
    " 0.6        0.733920\n",
    " 0.7        0.729596\n",
    " \n",
    "d=0.33, k=4, gm=1   0.717169\n",
    "\n",
    "d=0.33, k=3, gm=0.999   0.727180\n",
    "d=0.33, k=3, gm=1       0.743212*\n",
    "d=0.33, k=3, gm=1.001   0.723716\n",
    "```\n"
   ]
  },
  {
   "cell_type": "markdown",
   "metadata": {},
   "source": [
    "В общем, пока что кажется, что наилучший алгоритм - `d=0.7, k=2`. \n",
    "\n",
    "Причём в этом случае мы покрываем 88% кейсов хотя бы одним верным ответом, но при этом в 50% случаев он не на первом месте. \n",
    "\n",
    "А что, если я введу лёгкий штрафец за бабушек, дедушек и прочих бумеров, по сравнению с папами и мамами?"
   ]
  },
  {
   "cell_type": "code",
   "execution_count": 447,
   "metadata": {},
   "outputs": [
    {
     "data": {
      "text/html": [
       "<div>\n",
       "<style scoped>\n",
       "    .dataframe tbody tr th:only-of-type {\n",
       "        vertical-align: middle;\n",
       "    }\n",
       "\n",
       "    .dataframe tbody tr th {\n",
       "        vertical-align: top;\n",
       "    }\n",
       "\n",
       "    .dataframe thead th {\n",
       "        text-align: right;\n",
       "    }\n",
       "</style>\n",
       "<table border=\"1\" class=\"dataframe\">\n",
       "  <thead>\n",
       "    <tr style=\"text-align: right;\">\n",
       "      <th></th>\n",
       "      <th>SYNSET_ID</th>\n",
       "      <th>TEXT</th>\n",
       "      <th>PARENTS</th>\n",
       "      <th>DEFINITION</th>\n",
       "      <th>parents_list</th>\n",
       "      <th>synset_hash</th>\n",
       "      <th>one_text</th>\n",
       "    </tr>\n",
       "  </thead>\n",
       "  <tbody>\n",
       "    <tr>\n",
       "      <th>10161</th>\n",
       "      <td>6033-N</td>\n",
       "      <td>РАКОВИНА,УМЫВАЛЬНИК</td>\n",
       "      <td>132526-N,5693-N</td>\n",
       "      <td>санитарно-техническое приспособление в виде ча...</td>\n",
       "      <td>[132526-N, 5693-N]</td>\n",
       "      <td>0.832298</td>\n",
       "      <td>РАКОВИНА</td>\n",
       "    </tr>\n",
       "    <tr>\n",
       "      <th>12272</th>\n",
       "      <td>147381-N</td>\n",
       "      <td>ГИЛЬЗА</td>\n",
       "      <td>120512-N,106554-N</td>\n",
       "      <td>NaN</td>\n",
       "      <td>[120512-N, 106554-N]</td>\n",
       "      <td>0.829609</td>\n",
       "      <td>ГИЛЬЗА</td>\n",
       "    </tr>\n",
       "    <tr>\n",
       "      <th>1631</th>\n",
       "      <td>104908-N</td>\n",
       "      <td>ДОМИНИКАНА</td>\n",
       "      <td>2062-N,445-N</td>\n",
       "      <td>NaN</td>\n",
       "      <td>[2062-N, 445-N]</td>\n",
       "      <td>0.821098</td>\n",
       "      <td>ДОМИНИКАНА</td>\n",
       "    </tr>\n",
       "  </tbody>\n",
       "</table>\n",
       "</div>"
      ],
      "text/plain": [
       "      SYNSET_ID                 TEXT            PARENTS  \\\n",
       "10161    6033-N  РАКОВИНА,УМЫВАЛЬНИК    132526-N,5693-N   \n",
       "12272  147381-N               ГИЛЬЗА  120512-N,106554-N   \n",
       "1631   104908-N           ДОМИНИКАНА       2062-N,445-N   \n",
       "\n",
       "                                              DEFINITION  \\\n",
       "10161  санитарно-техническое приспособление в виде ча...   \n",
       "12272                                                NaN   \n",
       "1631                                                 NaN   \n",
       "\n",
       "               parents_list  synset_hash    one_text  \n",
       "10161    [132526-N, 5693-N]     0.832298    РАКОВИНА  \n",
       "12272  [120512-N, 106554-N]     0.829609      ГИЛЬЗА  \n",
       "1631        [2062-N, 445-N]     0.821098  ДОМИНИКАНА  "
      ]
     },
     "execution_count": 447,
     "metadata": {},
     "output_type": "execute_result"
    }
   ],
   "source": [
    "ttest_test1.sample(3)"
   ]
  },
  {
   "cell_type": "code",
   "execution_count": 66,
   "metadata": {},
   "outputs": [],
   "source": [
    "def evaluate_mine(hypotheses, texts, gt_table):\n",
    "    gts = defaultdict(list)\n",
    "    for r, row in gt_table.iterrows():\n",
    "        gts[row.one_text].append(row.parents_list)\n",
    "    aps = pd.Series([evaluate.compute_ap(gts[w], hyps, k=10) for w, hyps in zip(texts, hypotheses)])\n",
    "    return aps"
   ]
  },
  {
   "cell_type": "code",
   "execution_count": null,
   "metadata": {},
   "outputs": [],
   "source": [
    "decay=0.33, k=80, grand_mult=1\n",
    "0.06466653865847415\n",
    "0.125\n",
    "0.5173323092677931\n",
    "\n",
    "decay=0.33, k=160, grand_mult=1\n",
    "0.06578661034306195\n",
    "0.12903225806451613\n",
    "0.5098462301587301\n",
    "\n",
    "decay=0.33, k=160, grand_mult=0.99  * \n",
    "0.06579221070148489\n",
    "0.12903225806451613\n",
    "0.5098896329365079\n",
    "\n",
    "decay=0.33, k=160, grand_mult=0.97\n",
    "0.06551219278033793\n",
    "0.125\n",
    "0.5240975422427036\n",
    "\n",
    "decay=0.33, k=160, grand_mult=0.9\n",
    "0.06554819508448541\n",
    "0.125\n",
    "0.5243855606758833\n",
    "\n",
    "decay=0.33, k=160, grand_mult=0.5\n",
    "0.06295602918586789\n",
    "0.12096774193548387\n",
    "0.5204365079365079\n",
    "\n",
    "decay=0.1, k=160, grand_mult=0.99\n",
    "0.06551219278033793\n",
    "0.125\n",
    "0.5240975422427036\n",
    "\n",
    "decay=0.33, k=160, grand_mult=0.99\n",
    "0.06579221070148489\n",
    "0.12903225806451613\n",
    "0.5098896329365079\n",
    "\n",
    "decay=0.50, k=160, grand_mult=0.99\n",
    "0.06579221070148489\n",
    "0.12903225806451613\n",
    "0.5098896329365079\n",
    "\n",
    "decay=1   , k=160, grand_mult=0.99\n",
    "0.06583701356886841\n",
    "0.12903225806451613\n",
    "0.5102368551587302\n",
    "\n",
    "decay=10   , k=160, grand_mult=0.99  *\n",
    "0.06702508960573476\n",
    "0.12903225806451613\n",
    "0.5194444444444444"
   ]
  },
  {
   "cell_type": "code",
   "execution_count": 64,
   "metadata": {},
   "outputs": [
    {
     "data": {
      "application/vnd.jupyter.widget-view+json": {
       "model_id": "2b6d0f48181c422888414f48c38d90ec",
       "version_major": 2,
       "version_minor": 0
      },
      "text/plain": [
       "HBox(children=(FloatProgress(value=0.0, max=248.0), HTML(value='')))"
      ]
     },
     "metadata": {},
     "output_type": "display_data"
    },
    {
     "name": "stdout",
     "output_type": "stream",
     "text": [
      "\n"
     ]
    }
   ],
   "source": [
    "texts = ttest_test1.one_text.drop_duplicates()\n",
    "small_hypos = [hypotheses_knn(txt, index=tree, decay=0.33, k=3, grand_mult=1)  for txt in tqdm(texts)]"
   ]
  },
  {
   "cell_type": "code",
   "execution_count": 67,
   "metadata": {},
   "outputs": [
    {
     "name": "stdout",
     "output_type": "stream",
     "text": [
      "0.10321460573476703\n",
      "0.15725806451612903\n",
      "0.6563390313390313\n"
     ]
    },
    {
     "data": {
      "text/plain": [
       "count    248.000000\n",
       "mean       0.103215\n",
       "std        0.278574\n",
       "min        0.000000\n",
       "25%        0.000000\n",
       "50%        0.000000\n",
       "75%        0.000000\n",
       "max        1.000000\n",
       "dtype: float64"
      ]
     },
     "execution_count": 67,
     "metadata": {},
     "output_type": "execute_result"
    }
   ],
   "source": [
    "aps = evaluate_mine(small_hypos, texts, ttest_test1)\n",
    "print(aps.mean())\n",
    "print((aps>0).mean())\n",
    "print(aps[aps>0].mean())\n",
    "aps.describe()"
   ]
  },
  {
   "cell_type": "code",
   "execution_count": 541,
   "metadata": {
    "scrolled": true
   },
   "outputs": [
    {
     "data": {
      "text/plain": [
       "0    0.0\n",
       "1    0.0\n",
       "2    0.0\n",
       "3    0.0\n",
       "4    0.0\n",
       "5    0.0\n",
       "6    0.0\n",
       "7    0.0\n",
       "8    0.0\n",
       "9    0.0\n",
       "dtype: float64"
      ]
     },
     "execution_count": 541,
     "metadata": {},
     "output_type": "execute_result"
    }
   ],
   "source": [
    "aps.head(10)"
   ]
  },
  {
   "cell_type": "code",
   "execution_count": 542,
   "metadata": {
    "scrolled": true
   },
   "outputs": [
    {
     "data": {
      "text/plain": [
       "19        ВБРАСЫВАНИЕ\n",
       "315       ПРИСТЫКОВКА\n",
       "357         КОРОМЫСЛО\n",
       "358    НЕВРОПАТОЛОГИЯ\n",
       "493         МИНЕРАЛКА\n",
       "513             НЫРОК\n",
       "613          КАЛАМБУР\n",
       "628          КОРОЛЕВА\n",
       "651            КОБЫЛА\n",
       "819        САЛАМАНДРА\n",
       "Name: one_text, dtype: object"
      ]
     },
     "execution_count": 542,
     "metadata": {},
     "output_type": "execute_result"
    }
   ],
   "source": [
    "texts.iloc[0:10]"
   ]
  },
  {
   "cell_type": "code",
   "execution_count": 473,
   "metadata": {},
   "outputs": [
    {
     "data": {
      "text/plain": [
       "['106938-N',\n",
       " '111022-N',\n",
       " '107325-N',\n",
       " '115672-N',\n",
       " '119751-N',\n",
       " '106817-N',\n",
       " '111970-N',\n",
       " '146751-N',\n",
       " '106698-N']"
      ]
     },
     "execution_count": 473,
     "metadata": {},
     "output_type": "execute_result"
    }
   ],
   "source": [
    "small_hypos[0]"
   ]
  },
  {
   "cell_type": "code",
   "execution_count": 543,
   "metadata": {},
   "outputs": [
    {
     "data": {
      "text/html": [
       "<div>\n",
       "<style scoped>\n",
       "    .dataframe tbody tr th:only-of-type {\n",
       "        vertical-align: middle;\n",
       "    }\n",
       "\n",
       "    .dataframe tbody tr th {\n",
       "        vertical-align: top;\n",
       "    }\n",
       "\n",
       "    .dataframe thead th {\n",
       "        text-align: right;\n",
       "    }\n",
       "</style>\n",
       "<table border=\"1\" class=\"dataframe\">\n",
       "  <thead>\n",
       "    <tr style=\"text-align: right;\">\n",
       "      <th></th>\n",
       "      <th>SYNSET_ID</th>\n",
       "      <th>TEXT</th>\n",
       "      <th>PARENTS</th>\n",
       "      <th>DEFINITION</th>\n",
       "      <th>parents_list</th>\n",
       "      <th>synset_hash</th>\n",
       "      <th>one_text</th>\n",
       "    </tr>\n",
       "  </thead>\n",
       "  <tbody>\n",
       "    <tr>\n",
       "      <th>19</th>\n",
       "      <td>114996-N</td>\n",
       "      <td>ВБРАСЫВАНИЕ</td>\n",
       "      <td>111022-N,106938-N</td>\n",
       "      <td>бросать куда-либо, внутрь чего-либо</td>\n",
       "      <td>[111022-N, 106938-N]</td>\n",
       "      <td>0.820991</td>\n",
       "      <td>ВБРАСЫВАНИЕ</td>\n",
       "    </tr>\n",
       "  </tbody>\n",
       "</table>\n",
       "</div>"
      ],
      "text/plain": [
       "   SYNSET_ID         TEXT            PARENTS  \\\n",
       "19  114996-N  ВБРАСЫВАНИЕ  111022-N,106938-N   \n",
       "\n",
       "                             DEFINITION          parents_list  synset_hash  \\\n",
       "19  бросать куда-либо, внутрь чего-либо  [111022-N, 106938-N]     0.820991   \n",
       "\n",
       "       one_text  \n",
       "19  ВБРАСЫВАНИЕ  "
      ]
     },
     "execution_count": 543,
     "metadata": {},
     "output_type": "execute_result"
    }
   ],
   "source": [
    "ttest_test1.query('one_text==\"ВБРАСЫВАНИЕ\"')"
   ]
  },
  {
   "cell_type": "code",
   "execution_count": 483,
   "metadata": {},
   "outputs": [
    {
     "data": {
      "text/plain": [
       "{'9464-N'}"
      ]
     },
     "execution_count": 483,
     "metadata": {},
     "output_type": "execute_result"
    }
   ],
   "source": [
    "id2hypernym['9465-N']"
   ]
  },
  {
   "cell_type": "code",
   "execution_count": 561,
   "metadata": {},
   "outputs": [
    {
     "data": {
      "text/plain": [
       "0.17015401681817366"
      ]
     },
     "execution_count": 561,
     "metadata": {},
     "output_type": "execute_result"
    }
   ],
   "source": [
    "sum(text2vec('КОРОЛЕВА')* text2vec('ЗАСТЕГИВАНИЕ'))"
   ]
  },
  {
   "cell_type": "code",
   "execution_count": 558,
   "metadata": {},
   "outputs": [
    {
     "name": "stdout",
     "output_type": "stream",
     "text": [
      "0.0 1 109165-N ЗАСТЕГИВАНИЕ 1\n",
      "0.0 1 108945-N ВСКИПАНИЕ ; ЗАКИПАНИЕ ; ЗАКИПАНИЕ ЖИДКОСТЬ ; КИПЕНИЕ ; КИПЕНИЕ ЖИДКОСТИ ; КИПЕНИЕ ЖИДКОСТЬ 1\n",
      "0.0 1 145884-N СОЧИНЕНИЕ В ШКОЛА 2\n",
      "0.5556717163511176 1 109165-N ЗАСТЕГИВАНИЕ ; ЗАСТЕГНУТЬ 1\n",
      "0.583304251518645 1 145884-N СОЧИНЕНИЕ НА ЗАДАННЫЙ ТЕМА 2\n",
      "0.5913969610706188 1 113033-N ПЕТЕЛЬКА ; ПЕТЛЯ ; ПЕТЛЯ ДЛЯ ПУГОВИЦА ; ПЕТЛЯ ДЛЯ ПУГОВИЦЫ 1\n",
      "0.606433698338929 1 113033-N ПЕТЕЛЬКА 1\n",
      "0.6083565367414903 1 144428-N ТОЧЕНИЕ 3\n",
      "0.608890887294049 1 144429-N КУПАЛЬНЯ 1\n",
      "0.6302759659251665 1 113033-N ПЕТЛЯ 1\n",
      "18\n",
      "1.866743496811373 106493-N СОЗДАТЬ (СДЕЛАТЬ СУЩЕСТВУЮЩИМ)\n",
      "1.4387876157076822 106557-N СОЕДИНИТЬ В ОДНО ЦЕЛОЕ\n",
      "1.4329909602330535 147047-N УЧЕБНОЕ ЗАДАНИЕ\n",
      "1.4329909602330535 121096-N ЗАДАНИЕ\n",
      "1.4329909602330535 121396-N ИЗЛОЖЕНИЕ (ТО, ЧТО ИЗЛОЖЕНО)\n",
      "1.4329909602330535 106605-N СООБЩЕНИЕ, ИЗВЕСТИЕ\n",
      "1.2833871816355402 107087-N ОТВЕРСТИЕ\n",
      "1.2833871816355402 106451-N МЕСТО В ПРОСТРАНСТВЕ\n",
      "1.0 119726-N БУРЛИТЬ, КЛОКОТАТЬ\n",
      "1.0 113288-N РОКОТАТЬ\n"
     ]
    },
    {
     "data": {
      "text/plain": [
       "['106493-N',\n",
       " '106557-N',\n",
       " '147047-N',\n",
       " '121096-N',\n",
       " '121396-N',\n",
       " '106605-N',\n",
       " '107087-N',\n",
       " '106451-N',\n",
       " '119726-N',\n",
       " '113288-N']"
      ]
     },
     "execution_count": 558,
     "metadata": {},
     "output_type": "execute_result"
    }
   ],
   "source": [
    "hypotheses_knn('КОРОЛЕВА', index=tree, decay=0.33, k=10, grand_mult=1, verbose=1)"
   ]
  },
  {
   "cell_type": "code",
   "execution_count": null,
   "metadata": {},
   "outputs": [],
   "source": []
  },
  {
   "cell_type": "code",
   "execution_count": 469,
   "metadata": {},
   "outputs": [
    {
     "name": "stdout",
     "output_type": "stream",
     "text": [
      "0.00492271505376344\n",
      "0.016129032258064516\n",
      "0.3052083333333333\n"
     ]
    },
    {
     "data": {
      "text/plain": [
       "count    248.000000\n",
       "mean       0.004923\n",
       "std        0.043372\n",
       "min        0.000000\n",
       "25%        0.000000\n",
       "50%        0.000000\n",
       "75%        0.000000\n",
       "max        0.500000\n",
       "dtype: float64"
      ]
     },
     "execution_count": 469,
     "metadata": {},
     "output_type": "execute_result"
    }
   ],
   "source": [
    "#small_hypos = [\n",
    "#    hypotheses_knn(txt, index=tree, decay=0.33, k=3, grand_mult=1) \n",
    "#    for txt in tqdm(ttest_test1.one_text.drop_duplicates())\n",
    "#]\n",
    "\n",
    "#aps = pd.Series([evaluate.compute_ap(gt, hyps, k=10) for gt, hyps in zip(ttest_small['gt'], small_hypos)])\n",
    "print(aps.mean())\n",
    "print((aps>0).mean())\n",
    "print(aps[aps>0].mean())\n",
    "aps.describe()"
   ]
  },
  {
   "cell_type": "markdown",
   "metadata": {},
   "source": [
    "Окей, всё идёт по плану. Сабмичу. "
   ]
  },
  {
   "cell_type": "code",
   "execution_count": 119,
   "metadata": {},
   "outputs": [
    {
     "data": {
      "application/vnd.jupyter.widget-view+json": {
       "model_id": "5db27ef7f697432a886d05969b92a4e0",
       "version_major": 2,
       "version_minor": 0
      },
      "text/plain": [
       "HBox(children=(FloatProgress(value=0.0, max=762.0), HTML(value='')))"
      ]
     },
     "metadata": {},
     "output_type": "display_data"
    },
    {
     "name": "stdout",
     "output_type": "stream",
     "text": [
      "\n"
     ]
    }
   ],
   "source": [
    "public_test_hypos = [hypotheses_knn(t, index=tree) for t in tqdm(public_test_nouns.noun)]"
   ]
  },
  {
   "cell_type": "code",
   "execution_count": 249,
   "metadata": {},
   "outputs": [],
   "source": [
    "#sub3 = prepare_submission(public_test_nouns.noun, public_test_hypos, id2synset)\n",
    "#sub3.to_csv('nouns_ft_knn_v3.tsv', sep='\\t', encoding='utf-8', header=None, index=None)\n",
    "#sub3.sample(3)"
   ]
  },
  {
   "cell_type": "code",
   "execution_count": null,
   "metadata": {},
   "outputs": [],
   "source": [
    "#public_test_hypos = [hypotheses_knn(t, index=tree, decay=0.3, k=3) for t in tqdm(public_test_nouns.noun)]\n",
    "#sub4 = prepare_submission(public_test_nouns.noun, public_test_hypos, id2synset)\n",
    "#sub4.sample(3)\n",
    "#sub4.to_csv('nouns_ft_knn_k3_d03_v4.tsv', sep='\\t', encoding='utf-8', header=None, index=None)"
   ]
  },
  {
   "cell_type": "code",
   "execution_count": 123,
   "metadata": {},
   "outputs": [],
   "source": [
    "#public_test_hypos = [hypotheses_knn(t, index=tree, decay=0.7, k=2) for t in tqdm(public_test_nouns.noun)]\n",
    "#sub4 = prepare_submission(public_test_nouns.noun, public_test_hypos, id2synset)\n",
    "#sub4.sample(3)\n",
    "#sub4.to_csv('nouns_ft_knn_new_k2_d07_v5.tsv', sep='\\t', encoding='utf-8', header=None, index=None)"
   ]
  },
  {
   "cell_type": "code",
   "execution_count": 297,
   "metadata": {},
   "outputs": [
    {
     "data": {
      "application/vnd.jupyter.widget-view+json": {
       "model_id": "afbd6dde778f448cbc5d0620748d562c",
       "version_major": 2,
       "version_minor": 0
      },
      "text/plain": [
       "HBox(children=(FloatProgress(value=0.0, max=762.0), HTML(value='')))"
      ]
     },
     "metadata": {},
     "output_type": "display_data"
    },
    {
     "name": "stdout",
     "output_type": "stream",
     "text": [
      "\n"
     ]
    }
   ],
   "source": [
    "public_test_hypos = [hypotheses_knn(t, index=tree, decay=0.33, k=3, grand_mult=1) for t in tqdm(public_test_nouns.noun)]\n",
    "sub = prepare_submission(public_test_nouns.noun, public_test_hypos, id2synset)\n",
    "sub.sample(3)\n",
    "sub.to_csv('nouns_ft_knn_grn1_k3_d33_v6.tsv', sep='\\t', encoding='utf-8', header=None, index=None)"
   ]
  },
  {
   "cell_type": "code",
   "execution_count": 300,
   "metadata": {},
   "outputs": [
    {
     "data": {
      "text/plain": [
       "5"
      ]
     },
     "execution_count": 300,
     "metadata": {},
     "output_type": "execute_result"
    }
   ],
   "source": []
  },
  {
   "cell_type": "code",
   "execution_count": 306,
   "metadata": {},
   "outputs": [
    {
     "name": "stdout",
     "output_type": "stream",
     "text": [
      "count    762.000000\n",
      "mean       6.692913\n",
      "std        2.455422\n",
      "min        0.000000\n",
      "25%        5.000000\n",
      "50%        7.000000\n",
      "75%        9.000000\n",
      "max       10.000000\n",
      "dtype: float64\n"
     ]
    },
    {
     "data": {
      "image/png": "[encoded data removed]",
      "text/plain": [
       "<Figure size 432x288 with 1 Axes>"
      ]
     },
     "metadata": {
      "needs_background": "light"
     },
     "output_type": "display_data"
    }
   ],
   "source": [
    "lens = pd.Series([len(h) for h in public_test_hypos])\n",
    "print(lens.describe())\n",
    "lens.hist(bins=10, density=True);"
   ]
  },
  {
   "cell_type": "code",
   "execution_count": 187,
   "metadata": {},
   "outputs": [],
   "source": [
    "k = '151967-N'"
   ]
  },
  {
   "cell_type": "code",
   "execution_count": 188,
   "metadata": {},
   "outputs": [
    {
     "data": {
      "text/plain": [
       "OrderedDict([('@id', '151967-N'),\n",
       "             ('@ruthes_name', 'СПОРТИВНЫЙ ПРИЕМ'),\n",
       "             ('@definition', ''),\n",
       "             ('@part_of_speech', 'N'),\n",
       "             ('sense',\n",
       "              OrderedDict([('@id', '151967-N-740014'),\n",
       "                           ('#text', 'СПОРТИВНЫЙ ПРИЕМ')]))])"
      ]
     },
     "execution_count": 188,
     "metadata": {},
     "output_type": "execute_result"
    }
   ],
   "source": [
    "id2synset[k]"
   ]
  },
  {
   "cell_type": "code",
   "execution_count": 189,
   "metadata": {},
   "outputs": [
    {
     "name": "stdout",
     "output_type": "stream",
     "text": [
      "106552-N СПОСОБ, СРЕДСТВО\n",
      "106828-N ПРИЕМ (СПОСОБ)\n",
      "106613-N РОЛЬ, ПОЛОЖЕНИЕ, МЕСТО\n"
     ]
    }
   ],
   "source": [
    "for c in id2hypernym[k]:\n",
    "    print(c, id2synset[c]['@ruthes_name'])"
   ]
  },
  {
   "cell_type": "code",
   "execution_count": 190,
   "metadata": {},
   "outputs": [
    {
     "data": {
      "text/html": [
       "<div>\n",
       "<style scoped>\n",
       "    .dataframe tbody tr th:only-of-type {\n",
       "        vertical-align: middle;\n",
       "    }\n",
       "\n",
       "    .dataframe tbody tr th {\n",
       "        vertical-align: top;\n",
       "    }\n",
       "\n",
       "    .dataframe thead th {\n",
       "        text-align: right;\n",
       "    }\n",
       "</style>\n",
       "<table border=\"1\" class=\"dataframe\">\n",
       "  <thead>\n",
       "    <tr style=\"text-align: right;\">\n",
       "      <th></th>\n",
       "      <th>@parent_id</th>\n",
       "      <th>@child_id</th>\n",
       "      <th>@name</th>\n",
       "      <th>parent</th>\n",
       "      <th>child</th>\n",
       "    </tr>\n",
       "  </thead>\n",
       "  <tbody>\n",
       "    <tr>\n",
       "      <th>70190</th>\n",
       "      <td>3694-N</td>\n",
       "      <td>116489-N</td>\n",
       "      <td>hypernym</td>\n",
       "      <td>ДИСЦИПЛИНАРНОЕ ВЗЫСКАНИЕ</td>\n",
       "      <td>ВЗЫСКАНИЕ (НАКАЗАНИЕ)</td>\n",
       "    </tr>\n",
       "    <tr>\n",
       "      <th>83065</th>\n",
       "      <td>111260-N</td>\n",
       "      <td>111325-N</td>\n",
       "      <td>hyponym</td>\n",
       "      <td>ПЛОХОЙ ПОСТУПОК</td>\n",
       "      <td>НАГЛЫЙ ПОСТУПОК</td>\n",
       "    </tr>\n",
       "    <tr>\n",
       "      <th>88196</th>\n",
       "      <td>9144-N</td>\n",
       "      <td>5973-N</td>\n",
       "      <td>hyponym</td>\n",
       "      <td>МОРСКАЯ РЫБА</td>\n",
       "      <td>СЕЛЬДЬ</td>\n",
       "    </tr>\n",
       "  </tbody>\n",
       "</table>\n",
       "</div>"
      ],
      "text/plain": [
       "      @parent_id @child_id     @name                    parent  \\\n",
       "70190     3694-N  116489-N  hypernym  ДИСЦИПЛИНАРНОЕ ВЗЫСКАНИЕ   \n",
       "83065   111260-N  111325-N   hyponym           ПЛОХОЙ ПОСТУПОК   \n",
       "88196     9144-N    5973-N   hyponym              МОРСКАЯ РЫБА   \n",
       "\n",
       "                       child  \n",
       "70190  ВЗЫСКАНИЕ (НАКАЗАНИЕ)  \n",
       "83065        НАГЛЫЙ ПОСТУПОК  \n",
       "88196                 СЕЛЬДЬ  "
      ]
     },
     "execution_count": 190,
     "metadata": {},
     "output_type": "execute_result"
    }
   ],
   "source": [
    "rel_df.sample(3)"
   ]
  },
  {
   "cell_type": "code",
   "execution_count": null,
   "metadata": {},
   "outputs": [],
   "source": [
    "rel_df[(rel_df['@parent_id']==k)&&(rel_df['@parent_id']==k)]f"
   ]
  },
  {
   "cell_type": "code",
   "execution_count": 168,
   "metadata": {},
   "outputs": [
    {
     "data": {
      "text/html": [
       "<div>\n",
       "<style scoped>\n",
       "    .dataframe tbody tr th:only-of-type {\n",
       "        vertical-align: middle;\n",
       "    }\n",
       "\n",
       "    .dataframe tbody tr th {\n",
       "        vertical-align: top;\n",
       "    }\n",
       "\n",
       "    .dataframe thead th {\n",
       "        text-align: right;\n",
       "    }\n",
       "</style>\n",
       "<table border=\"1\" class=\"dataframe\">\n",
       "  <thead>\n",
       "    <tr style=\"text-align: right;\">\n",
       "      <th></th>\n",
       "      <th>SYNSET_ID</th>\n",
       "      <th>TEXT</th>\n",
       "      <th>PARENTS</th>\n",
       "      <th>DEFINITION</th>\n",
       "      <th>parents_list</th>\n",
       "      <th>gt</th>\n",
       "    </tr>\n",
       "  </thead>\n",
       "  <tbody>\n",
       "    <tr>\n",
       "      <th>2621</th>\n",
       "      <td>116040-N</td>\n",
       "      <td>СКОРНЯК</td>\n",
       "      <td>116038-N,110125-N</td>\n",
       "      <td>NaN</td>\n",
       "      <td>[116038-N, 110125-N]</td>\n",
       "      <td>[{116038-N}, {110125-N}]</td>\n",
       "    </tr>\n",
       "    <tr>\n",
       "      <th>15714</th>\n",
       "      <td>111515-N</td>\n",
       "      <td>КСЕНДЗ</td>\n",
       "      <td>110384-N,7365-N,4545-N</td>\n",
       "      <td>NaN</td>\n",
       "      <td>[110384-N, 7365-N, 4545-N]</td>\n",
       "      <td>[{110384-N}, {7365-N}, {4545-N}]</td>\n",
       "    </tr>\n",
       "    <tr>\n",
       "      <th>12340</th>\n",
       "      <td>10100-N</td>\n",
       "      <td>МОРФИН,МОРФИЙ</td>\n",
       "      <td>124322-N,649-N</td>\n",
       "      <td>NaN</td>\n",
       "      <td>[124322-N, 649-N]</td>\n",
       "      <td>[{124322-N}, {649-N}]</td>\n",
       "    </tr>\n",
       "  </tbody>\n",
       "</table>\n",
       "</div>"
      ],
      "text/plain": [
       "      SYNSET_ID           TEXT                 PARENTS DEFINITION  \\\n",
       "2621   116040-N        СКОРНЯК       116038-N,110125-N        NaN   \n",
       "15714  111515-N         КСЕНДЗ  110384-N,7365-N,4545-N        NaN   \n",
       "12340   10100-N  МОРФИН,МОРФИЙ          124322-N,649-N        NaN   \n",
       "\n",
       "                     parents_list                                gt  \n",
       "2621         [116038-N, 110125-N]          [{116038-N}, {110125-N}]  \n",
       "15714  [110384-N, 7365-N, 4545-N]  [{110384-N}, {7365-N}, {4545-N}]  \n",
       "12340           [124322-N, 649-N]             [{124322-N}, {649-N}]  "
      ]
     },
     "execution_count": 168,
     "metadata": {},
     "output_type": "execute_result"
    }
   ],
   "source": [
    "ttest_small.sample(3)"
   ]
  },
  {
   "cell_type": "code",
   "execution_count": 170,
   "metadata": {},
   "outputs": [
    {
     "data": {
      "text/plain": [
       "set()"
      ]
     },
     "execution_count": 170,
     "metadata": {},
     "output_type": "execute_result"
    }
   ],
   "source": []
  },
  {
   "cell_type": "code",
   "execution_count": 172,
   "metadata": {},
   "outputs": [
    {
     "data": {
      "text/plain": [
       "count    300.0\n",
       "mean       0.0\n",
       "std        0.0\n",
       "min        0.0\n",
       "25%        0.0\n",
       "50%        0.0\n",
       "75%        0.0\n",
       "max        0.0\n",
       "Name: SYNSET_ID, dtype: float64"
      ]
     },
     "execution_count": 172,
     "metadata": {},
     "output_type": "execute_result"
    }
   ],
   "source": [
    "lens = pd.Series(ttest_small.SYNSET_ID.apply(lambda x: len(id2hyponym.get(x, []))))\n",
    "lens.describe()"
   ]
  },
  {
   "cell_type": "markdown",
   "metadata": {},
   "source": [
    "# Ошибка в метрике"
   ]
  },
  {
   "cell_type": "code",
   "execution_count": 191,
   "metadata": {},
   "outputs": [],
   "source": [
    "def compute_ap(actual, predicted, k=10):\n",
    "    if not actual:\n",
    "        return 0.0\n",
    "\n",
    "    predicted = predicted[:k]\n",
    "\n",
    "    score = 0.0\n",
    "    num_hits = 0.0\n",
    "    already_predicted = set()\n",
    "    skipped = 0\n",
    "    for i, p in enumerate(predicted):\n",
    "        if p in already_predicted:\n",
    "            skipped += 1\n",
    "            continue\n",
    "        for parents in actual:\n",
    "            if p in parents:\n",
    "                num_hits += 1.0\n",
    "                score += num_hits / (i + 1.0 - skipped)\n",
    "                already_predicted.update(parents)\n",
    "                break\n",
    "\n",
    "    return score / min(len(actual), k)"
   ]
  },
  {
   "cell_type": "code",
   "execution_count": 204,
   "metadata": {},
   "outputs": [
    {
     "name": "stdout",
     "output_type": "stream",
     "text": [
      "1.0\n",
      "0.5\n",
      "0.5\n",
      "0.5\n",
      "1.0\n"
     ]
    }
   ],
   "source": [
    "actual = [['среднее специальное', 'профессиональное'], ['медицинское', 'профессиональное']]\n",
    "print(compute_ap(actual, ['среднее специальное', 'медицинское']))\n",
    "print(compute_ap(actual, ['среднее специальное', 'профессиональное'])) # второй родитель считается не найденным\n",
    "print(compute_ap(actual, ['медицинское', 'профессиональное'])) # первый родитель считается не найденным\n",
    "print(compute_ap(actual, ['профессиональное'])) # снова второй родитель считается не найденным\n",
    "print(compute_ap(actual, ['профессиональное', 'медицинское'])) # должны считать "
   ]
  },
  {
   "cell_type": "code",
   "execution_count": 209,
   "metadata": {},
   "outputs": [
    {
     "name": "stdout",
     "output_type": "stream",
     "text": [
      "0.5\n",
      "1.0\n"
     ]
    }
   ],
   "source": [
    "print(compute_ap([['A', 'C'],['B', 'C']], ['C', 'A'])) # получаем 0.5\n",
    "print(compute_ap([['B', 'C'],['A', 'C']], ['C', 'A'])) # получаем 1.0"
   ]
  },
  {
   "cell_type": "markdown",
   "metadata": {},
   "source": [
    "Бля, чё-то я задолбался. Наверное, пора спатеньки. "
   ]
  },
  {
   "cell_type": "markdown",
   "metadata": {},
   "source": [
    "# Кажется, все параметры придётся подбирать заново"
   ]
  },
  {
   "cell_type": "code",
   "execution_count": 60,
   "metadata": {},
   "outputs": [],
   "source": [
    "from collections import defaultdict\n",
    "\n",
    "def add_pair(hypo_id, hyper_id, max_depth=100500):\n",
    "    if max_depth <= 0:\n",
    "        return\n",
    "    if hypo_id in id2hyponym[hyper_id]:\n",
    "        # the pair is already here\n",
    "        return \n",
    "    if hypo_id in id2hypernym[hyper_id]:\n",
    "        raise ValueError('{} is already a hypernym of {}, so it cannot become its hyponym'.format(hypo_id, hyper_id))\n",
    "    for next_hypo in id2hyponym[hypo_id]:\n",
    "        add_pair(next_hypo, hyper_id, max_depth=max_depth-1)\n",
    "    for next_hyper in id2hypernym[hyper_id]:\n",
    "        add_pair(hypo_id, next_hyper, max_depth=max_depth-1)\n",
    "    id2hyponym[hyper_id].add(hypo_id)\n",
    "    id2hypernym[hypo_id].add(hyper_id)\n",
    "        "
   ]
  },
  {
   "cell_type": "code",
   "execution_count": 61,
   "metadata": {},
   "outputs": [
    {
     "data": {
      "application/vnd.jupyter.widget-view+json": {
       "model_id": "46ad88b01b74483b8602e09635bac06b",
       "version_major": 2,
       "version_minor": 0
      },
      "text/plain": [
       "HBox(children=(FloatProgress(value=1.0, bar_style='info', max=1.0), HTML(value='')))"
      ]
     },
     "metadata": {},
     "output_type": "display_data"
    },
    {
     "name": "stdout",
     "output_type": "stream",
     "text": [
      "\n",
      "25816\n",
      "446\n",
      "5\n",
      "34165\n"
     ]
    }
   ],
   "source": [
    "id2hyponym = defaultdict(set)\n",
    "id2hypernym = defaultdict(set)\n",
    "forbidden_id = set(ttest.SYNSET_ID)\n",
    "\n",
    "hypo_df = rel_df[rel_df['@name']=='hyponym']\n",
    "for r, row in tqdm(hypo_df.iterrows()):\n",
    "    hypo_id = row['@child_id']\n",
    "    hyper_id = row['@parent_id']\n",
    "    if hypo_id not in forbidden_id and hyper_id not in forbidden_id:\n",
    "        add_pair(hypo_id, hyper_id, max_depth=1)  # во второй версии поставим максимальную глубину, равную 2\n",
    "\n",
    "print(len(id2hyponym))\n",
    "print(max(len(c) for c in id2hyponym.values()))\n",
    "print(max(len(c) for c in id2hypernym.values()))\n",
    "print(sum(len(c) for c in id2hypernym.values()))"
   ]
  },
  {
   "cell_type": "code",
   "execution_count": 50,
   "metadata": {},
   "outputs": [],
   "source": [
    "import gensim\n",
    "# this is araneum 2018 ft model from rusvectores\n",
    "ft = gensim.models.fasttext.FastTextKeyedVectors.load(\n",
    "    'C:/Users/ddale/Downloads/NLP/rusvectores/model.model'\n",
    ")\n",
    "ft.adjust_vectors()"
   ]
  },
  {
   "cell_type": "code",
   "execution_count": 51,
   "metadata": {},
   "outputs": [],
   "source": [
    "from nltk import wordpunct_tokenize\n",
    "from string import punctuation\n",
    "\n",
    "def tokenize(text):\n",
    "    return [t for t in wordpunct_tokenize(text.lower()) if not all(c in punctuation for c in t)]\n",
    "\n",
    "def mean_ft(tokens, n=300):\n",
    "    vecs = [normalize(ft[w]) for w in tokens]\n",
    "    if len(vecs) == 0:\n",
    "        return np.zeros(n)\n",
    "    return normalize(sum(vecs))\n",
    "\n",
    "def normalize(v):\n",
    "    return v / sum(v**2)**0.5"
   ]
  },
  {
   "cell_type": "code",
   "execution_count": 245,
   "metadata": {},
   "outputs": [],
   "source": [
    "from tqdm.auto import tqdm, trange"
   ]
  },
  {
   "cell_type": "code",
   "execution_count": 246,
   "metadata": {},
   "outputs": [],
   "source": [
    "def text2vec(text):\n",
    "    return mean_ft(tokenize(text))"
   ]
  },
  {
   "cell_type": "code",
   "execution_count": 267,
   "metadata": {},
   "outputs": [
    {
     "name": "stdout",
     "output_type": "stream",
     "text": [
      "26837 103891\n"
     ]
    }
   ],
   "source": [
    "ids_long = []\n",
    "texts_long = []\n",
    "for id in ids:\n",
    "    s = id2synset[id]\n",
    "    senses = s['sense']\n",
    "    if not isinstance(senses, list):\n",
    "        senses = [senses]\n",
    "    texts = {sense['#text'] for sense in senses}\n",
    "    texts.add(s['@ruthes_name'])\n",
    "    \n",
    "    # исключаем все слова, омонимичные с тем, что есть в тестовой выборке \n",
    "    senses = {synset_id for w in texts for synset_id in word2sense[w]}\n",
    "    if senses.intersection(forbidden_id):\n",
    "        continue\n",
    "    \n",
    "    if len(texts) > 1:\n",
    "        texts.add(' ; '.join(sorted(texts)))\n",
    "    for text in sorted(texts):\n",
    "        ids_long.append(id)\n",
    "        texts_long.append(text)\n",
    "print(len(ids), len(ids_long))"
   ]
  },
  {
   "cell_type": "code",
   "execution_count": 268,
   "metadata": {},
   "outputs": [
    {
     "data": {
      "application/vnd.jupyter.widget-view+json": {
       "model_id": "709ee03f65d14ab3a1034313e2a45e20",
       "version_major": 2,
       "version_minor": 0
      },
      "text/plain": [
       "HBox(children=(FloatProgress(value=0.0, max=103891.0), HTML(value='')))"
      ]
     },
     "metadata": {},
     "output_type": "display_data"
    },
    {
     "name": "stdout",
     "output_type": "stream",
     "text": [
      "\n"
     ]
    },
    {
     "data": {
      "text/plain": [
       "(103891, 300)"
      ]
     },
     "execution_count": 268,
     "metadata": {},
     "output_type": "execute_result"
    }
   ],
   "source": [
    "#vecs = np.stack([mean_ft(tokenize(id2synset[idx]['@ruthes_name'])) for idx in tqdm(ids) ])\n",
    "vecs = np.stack([mean_ft(tokenize(t)) for t in tqdm(texts_long) ])\n",
    "vecs.shape"
   ]
  },
  {
   "cell_type": "code",
   "execution_count": 269,
   "metadata": {},
   "outputs": [],
   "source": [
    "from sklearn.neighbors import KDTree\n",
    "tree = KDTree(vecs)"
   ]
  },
  {
   "cell_type": "code",
   "execution_count": 270,
   "metadata": {},
   "outputs": [],
   "source": [
    "from collections import Counter\n",
    "\n",
    "def hypotheses_knn(text, index, ids_list=ids_long, texts_list=texts_long, k=10, verbose=False, decay=0, grand_mult=1):\n",
    "    # todo: distance decay\n",
    "    vec = text2vec(text)\n",
    "    distances, indices = index.query(vec.reshape(1, -1), k=k)\n",
    "    hypotheses = Counter()\n",
    "    for i, d in zip(indices.ravel(), distances.ravel()):\n",
    "        hypers = id2hypernym.get(ids_list[i], set())\n",
    "        if verbose:\n",
    "            print(d, 1, ids_list[i], texts_list[i], len(hypers))\n",
    "        for parent in hypers:\n",
    "            hypotheses[parent] += np.exp(-d**decay)\n",
    "            for grandparent in id2hypernym.get(parent, set()):\n",
    "                hypotheses[grandparent] += np.exp(-d**decay) * grand_mult\n",
    "    if verbose:\n",
    "        print(len(hypotheses))\n",
    "    result = []\n",
    "    for hypo, cnt in hypotheses.most_common(10):\n",
    "        if verbose:\n",
    "            print(cnt, hypo, id2synset[hypo]['@ruthes_name'])\n",
    "        result.append(hypo)\n",
    "    return result"
   ]
  },
  {
   "cell_type": "code",
   "execution_count": 271,
   "metadata": {},
   "outputs": [
    {
     "data": {
      "text/plain": [
       "4356"
      ]
     },
     "execution_count": 271,
     "metadata": {},
     "output_type": "execute_result"
    }
   ],
   "source": [
    "import gc\n",
    "gc.collect()"
   ]
  },
  {
   "cell_type": "code",
   "execution_count": 73,
   "metadata": {},
   "outputs": [
    {
     "name": "stdout",
     "output_type": "stream",
     "text": [
      "0.0 1 114996-N ВБРАСЫВАНИЕ 0\n",
      "0.5116056677363932 1 131068-N ЗАБРАСЫВАНИЕ 2\n",
      "0.5116056677363932 1 119772-N ЗАБРАСЫВАНИЕ 2\n",
      "0.5116056677363932 1 116671-N ЗАБРАСЫВАНИЕ 1\n",
      "0.5406045954990208 1 111021-N ВЫБРАСЫВАНИЕ 1\n",
      "0.5414842330504848 1 114996-N ВБРАСЫВАНИЕ ; ВБРОСИТЬ 0\n",
      "0.5929697593510923 1 115142-N ОТБРАСЫВАНИЕ 1\n",
      "0.5929697593510923 1 133422-N ОТБРАСЫВАНИЕ 0\n",
      "0.5962406770915919 1 115653-N ПЕРЕБРАСЫВАНИЕ 1\n",
      "0.5962406770915919 1 137813-N ПЕРЕБРАСЫВАНИЕ 2\n",
      "14\n",
      "2.1889925173882725 106938-N ПЕРЕМЕСТИТЬ\n",
      "1.3100085107581332 111022-N БРОСИТЬ (ПЕРЕМЕСТИТЬ)\n",
      "0.8972362024580601 107325-N ПОКРЫТЬ ПОВЕРХНОСТЬ\n",
      "0.8789840066301394 106817-N ПРИНУДИТЬ, ЗАСТАВИТЬ\n",
      "0.44861810122903006 111970-N ОСЫПАТЬ, ОБСЫПАТЬ\n",
      "0.44861810122903006 106698-N ПОМЕСТИТЬ, НАЙТИ МЕСТО\n",
      "0.44861810122903006 146751-N ОБРАБОТКА ПОВЕРХНОСТИ\n",
      "0.44861810122903006 119751-N НАПРАВИТЬ (ПОСЛАТЬ)\n",
      "0.44861810122903006 115672-N ДОСТАВИТЬ К МЕСТУ НАЗНАЧЕНИЯ\n",
      "0.44206384181699887 110908-N УДАЛИТЬ НАРУЖУ\n"
     ]
    },
    {
     "data": {
      "text/plain": [
       "['106938-N',\n",
       " '111022-N',\n",
       " '107325-N',\n",
       " '106817-N',\n",
       " '111970-N',\n",
       " '106698-N',\n",
       " '146751-N',\n",
       " '119751-N',\n",
       " '115672-N',\n",
       " '110908-N']"
      ]
     },
     "execution_count": 73,
     "metadata": {},
     "output_type": "execute_result"
    }
   ],
   "source": [
    "hypotheses_knn('ВБРАСЫВАНИЕ', index=tree, decay=0.33, k=10, grand_mult=1, verbose=1)"
   ]
  },
  {
   "cell_type": "markdown",
   "metadata": {},
   "source": [
    "decay=0.33, k=3, grand_mult=1\n",
    "0.10321460573476703\n",
    "0.15725806451612903\n",
    "0.6563390313390313\n",
    "\n",
    "decay=0.33, k=10, grand_mult=1\n",
    "0.16934843830005117\n",
    "0.3588709677419355\n",
    "0.47189227751025503\n",
    "\n",
    "decay=0.33, k=30, grand_mult=1\n",
    "0.23650606972179553\n",
    "0.4717741935483871\n",
    "0.5013120110342332\n",
    "\n",
    "decay=0.33, k=100, grand_mult=1\n",
    "0.25543194764464927\n",
    "0.5040322580645161\n",
    "0.5067769841269841\n",
    "\n",
    "decay=0.33, k=100, grand_mult=0.99\n",
    "0.2583937371991808\n",
    "0.5040322580645161\n",
    "0.5126531746031746\n",
    "\n",
    "decay=0.33, k=100, grand_mult=0.9\n",
    "0.26030985983102917\n",
    "0.5120967741935484\n",
    "0.508321616047994\n",
    "\n",
    "decay=0.33, k=100, grand_mult=0.5\n",
    "0.2639172907066052\n",
    "0.5040322580645161\n",
    "0.5236119047619049\n",
    "\n",
    "decay=0.33, k=100, grand_mult=0.1\n",
    "0.2623479902713774\n",
    "0.4959677419354839\n",
    "0.5289618015227772\n",
    "\n",
    "decay=3, k=100, grand_mult=0.5\n",
    "0.2650841653865847\n",
    "0.5\n",
    "0.5301683307731694\n",
    "\n",
    "decay=1, k=100, grand_mult=0.5 ***\n",
    "0.26547459037378396\n",
    "0.5040322580645161\n",
    "0.5267015873015873\n",
    "\n",
    "decay=0.33, k=100, grand_mult=0.5 * \n",
    "0.2639172907066052\n",
    "0.5040322580645161\n",
    "0.5236119047619049\n",
    "\n",
    "decay=0.1, k=100, grand_mult=0.5 **\n",
    "0.26458453341013827\n",
    "0.5080645161290323\n",
    "0.5207695578231293\n",
    "\n",
    "decay=0.01, k=100, grand_mult=0.5 \n",
    "0.26458453341013827\n",
    "0.5080645161290323\n",
    "0.5207695578231293\n",
    "\n"
   ]
  },
  {
   "cell_type": "markdown",
   "metadata": {},
   "source": [
    "И снова перечитываем всё заново! С более правильным индексом, без антиутечек\n",
    "\n",
    "decay=1, k=300, grand_mult=0.5\n",
    "0.24447724654377878\n",
    "0.5282258064516129\n",
    "0.4628271537622683\n",
    "\n",
    "decay=1, k=120, grand_mult=0.5\n",
    "0.26279761904761906\n",
    "0.4879032258064516\n",
    "0.5386265249901614\n",
    "\n",
    "decay=1, k=100, grand_mult=0.5 * \n",
    "0.2677061998634579\n",
    "0.4879032258064516\n",
    "0.548687087323451\n",
    "\n",
    "decay=1, k=80, grand_mult=0.5\n",
    "0.25930699564772147\n",
    "0.46774193548387094\n",
    "0.5543804734537494\n",
    "\n",
    "decay=1, k=30, grand_mult=0.5\n",
    "0.2400193612391193\n",
    "0.45161290322580644\n",
    "0.5314714427437641\n",
    "\n",
    "decay=0.8, k=100, grand_mult=0.5\n",
    "0.2677061998634579\n",
    "0.4879032258064516\n",
    "0.548687087323451\n",
    "\n",
    "decay=1, k=100, grand_mult=0.5\n",
    "0.2677061998634579\n",
    "0.4879032258064516\n",
    "0.548687087323451\n",
    "\n",
    "decay=1.2, k=100, grand_mult=0.5\n",
    "0.2682345003413552\n",
    "0.4879032258064516\n",
    "0.5497698849971576\n",
    "\n",
    "decay=2, k=100, grand_mult=0.5\n",
    "0.27040423920464246\n",
    "0.4879032258064516\n",
    "0.5542169530805895\n",
    "\n",
    "decay=2.5, k=100, grand_mult=0.5\n",
    "0.2714699074074074\n",
    "0.49193548387096775\n",
    "0.551840467516697\n",
    "\n",
    "decay=3, k=100, grand_mult=0.5 * \n",
    "0.2715419120157023\n",
    "0.49193548387096775\n",
    "0.5519868375401161\n",
    "\n",
    "decay=3.5, k=100, grand_mult=0.5\n",
    "0.26925216547192354\n",
    "0.4879032258064516\n",
    "0.5518556779920416\n",
    "\n",
    "decay=4, k=100, grand_mult=0.5\n",
    "0.26925216547192354\n",
    "0.4879032258064516\n",
    "0.5518556779920416\n",
    "\n",
    "decay=10, k=100, grand_mult=0.5\n",
    "0.26544392174432496\n",
    "0.49193548387096775\n",
    "0.5395909228901032\n",
    "\n",
    "decay=3, k=100, grand_mult=0.45\n",
    "0.2670328234340331\n",
    "0.4959677419354839\n",
    "0.5384076439970749\n",
    "\n",
    "decay=3, k=100, grand_mult=0.5 * \n",
    "0.2715419120157023\n",
    "0.49193548387096775\n",
    "0.5519868375401161\n",
    "\n",
    "decay=3, k=100, grand_mult=0.55\n",
    "0.27112108508277866\n",
    "0.4838709677419355\n",
    "0.5603169091710759"
   ]
  },
  {
   "cell_type": "code",
   "execution_count": 294,
   "metadata": {},
   "outputs": [
    {
     "data": {
      "application/vnd.jupyter.widget-view+json": {
       "model_id": "27a5622cdc184bf5a3f219042a4560e1",
       "version_major": 2,
       "version_minor": 0
      },
      "text/plain": [
       "HBox(children=(FloatProgress(value=0.0, max=248.0), HTML(value='')))"
      ]
     },
     "metadata": {},
     "output_type": "display_data"
    },
    {
     "name": "stdout",
     "output_type": "stream",
     "text": [
      "\n",
      "0.2715419120157023\n",
      "0.49193548387096775\n",
      "0.5519868375401161\n"
     ]
    },
    {
     "data": {
      "text/plain": [
       "count    248.000000\n",
       "mean       0.271542\n",
       "std        0.375511\n",
       "min        0.000000\n",
       "25%        0.000000\n",
       "50%        0.000000\n",
       "75%        0.500000\n",
       "max        1.000000\n",
       "dtype: float64"
      ]
     },
     "execution_count": 294,
     "metadata": {},
     "output_type": "execute_result"
    }
   ],
   "source": [
    "texts = ttest_test1.one_text.drop_duplicates()\n",
    "small_hypos = [hypotheses_knn(txt, index=tree, decay=3, k=100, grand_mult=0.5)  for txt in tqdm(texts)]\n",
    "\n",
    "aps, _ = evaluate_mine(small_hypos, texts, ttest_test1)\n",
    "print(aps.mean())\n",
    "print((aps>0).mean())\n",
    "print(aps[aps>0].mean())\n",
    "aps.describe()"
   ]
  },
  {
   "cell_type": "code",
   "execution_count": 71,
   "metadata": {
    "scrolled": true
   },
   "outputs": [
    {
     "data": {
      "text/plain": [
       "0    0.2\n",
       "1    0.0\n",
       "2    0.0\n",
       "3    1.0\n",
       "4    0.0\n",
       "5    0.0\n",
       "6    1.0\n",
       "7    0.0\n",
       "8    0.0\n",
       "9    0.0\n",
       "dtype: float64"
      ]
     },
     "execution_count": 71,
     "metadata": {},
     "output_type": "execute_result"
    }
   ],
   "source": [
    "aps.head(10)"
   ]
  },
  {
   "cell_type": "code",
   "execution_count": 72,
   "metadata": {
    "scrolled": true
   },
   "outputs": [
    {
     "data": {
      "text/plain": [
       "19        ВБРАСЫВАНИЕ\n",
       "315       ПРИСТЫКОВКА\n",
       "357         КОРОМЫСЛО\n",
       "358    НЕВРОПАТОЛОГИЯ\n",
       "493         МИНЕРАЛКА\n",
       "513             НЫРОК\n",
       "613          КАЛАМБУР\n",
       "628          КОРОЛЕВА\n",
       "651            КОБЫЛА\n",
       "819        САЛАМАНДРА\n",
       "Name: one_text, dtype: object"
      ]
     },
     "execution_count": 72,
     "metadata": {},
     "output_type": "execute_result"
    }
   ],
   "source": [
    "texts.iloc[0:10]"
   ]
  },
  {
   "cell_type": "code",
   "execution_count": 295,
   "metadata": {},
   "outputs": [
    {
     "data": {
      "application/vnd.jupyter.widget-view+json": {
       "model_id": "afc3d44d69c7407aa9ec24f3b50b0e76",
       "version_major": 2,
       "version_minor": 0
      },
      "text/plain": [
       "HBox(children=(FloatProgress(value=0.0, max=762.0), HTML(value='')))"
      ]
     },
     "metadata": {},
     "output_type": "display_data"
    },
    {
     "name": "stdout",
     "output_type": "stream",
     "text": [
      "\n"
     ]
    },
    {
     "data": {
      "text/html": [
       "<div>\n",
       "<style scoped>\n",
       "    .dataframe tbody tr th:only-of-type {\n",
       "        vertical-align: middle;\n",
       "    }\n",
       "\n",
       "    .dataframe tbody tr th {\n",
       "        vertical-align: top;\n",
       "    }\n",
       "\n",
       "    .dataframe thead th {\n",
       "        text-align: right;\n",
       "    }\n",
       "</style>\n",
       "<table border=\"1\" class=\"dataframe\">\n",
       "  <thead>\n",
       "    <tr style=\"text-align: right;\">\n",
       "      <th></th>\n",
       "      <th>noun</th>\n",
       "      <th>result</th>\n",
       "      <th>result_text</th>\n",
       "    </tr>\n",
       "  </thead>\n",
       "  <tbody>\n",
       "    <tr>\n",
       "      <th>0</th>\n",
       "      <td>АБДОМИНОПЛАСТИКА</td>\n",
       "      <td>106536-N</td>\n",
       "      <td>МАТЕРИАЛ ДЛЯ ИЗГОТОВЛЕНИЯ</td>\n",
       "    </tr>\n",
       "    <tr>\n",
       "      <th>1</th>\n",
       "      <td>АБДОМИНОПЛАСТИКА</td>\n",
       "      <td>106555-N</td>\n",
       "      <td>ТЕХНИЧЕСКОЕ УСТРОЙСТВО</td>\n",
       "    </tr>\n",
       "    <tr>\n",
       "      <th>2</th>\n",
       "      <td>АБДОМИНОПЛАСТИКА</td>\n",
       "      <td>118950-N</td>\n",
       "      <td>КРАСОТА, КРАСА</td>\n",
       "    </tr>\n",
       "    <tr>\n",
       "      <th>3</th>\n",
       "      <td>АБДОМИНОПЛАСТИКА</td>\n",
       "      <td>4503-N</td>\n",
       "      <td>ТЕКСТИЛЬНАЯ ПРОДУКЦИЯ</td>\n",
       "    </tr>\n",
       "    <tr>\n",
       "      <th>4</th>\n",
       "      <td>АБДОМИНОПЛАСТИКА</td>\n",
       "      <td>919-N</td>\n",
       "      <td>СИНТЕТИЧЕСКИЕ МАТЕРИАЛЫ</td>\n",
       "    </tr>\n",
       "    <tr>\n",
       "      <th>5</th>\n",
       "      <td>АБДОМИНОПЛАСТИКА</td>\n",
       "      <td>4567-N</td>\n",
       "      <td>ОРГТЕХНИКА</td>\n",
       "    </tr>\n",
       "    <tr>\n",
       "      <th>6</th>\n",
       "      <td>АБДОМИНОПЛАСТИКА</td>\n",
       "      <td>8218-N</td>\n",
       "      <td>ИЗДЕЛИЕ ЛЕГКОЙ ПРОМЫШЛЕННОСТИ</td>\n",
       "    </tr>\n",
       "    <tr>\n",
       "      <th>7</th>\n",
       "      <td>АБДОМИНОПЛАСТИКА</td>\n",
       "      <td>106553-N</td>\n",
       "      <td>ПРИСПОСОБЛЕНИЕ, ИНСТРУМЕНТ</td>\n",
       "    </tr>\n",
       "    <tr>\n",
       "      <th>8</th>\n",
       "      <td>АБДОМИНОПЛАСТИКА</td>\n",
       "      <td>510-N</td>\n",
       "      <td>ЭЛЕКТРОННОЕ ОБОРУДОВАНИЕ</td>\n",
       "    </tr>\n",
       "    <tr>\n",
       "      <th>9</th>\n",
       "      <td>АБДОМИНОПЛАСТИКА</td>\n",
       "      <td>132393-N</td>\n",
       "      <td>ПРОДУКЦИЯ ПРОИЗВОДСТВЕННО-ТЕХНИЧЕСКОГО НАЗНАЧЕНИЯ</td>\n",
       "    </tr>\n",
       "    <tr>\n",
       "      <th>10</th>\n",
       "      <td>АБСОРБЕНТ</td>\n",
       "      <td>820-N</td>\n",
       "      <td>ВЕЩЕСТВО</td>\n",
       "    </tr>\n",
       "    <tr>\n",
       "      <th>11</th>\n",
       "      <td>АБСОРБЕНТ</td>\n",
       "      <td>108760-N</td>\n",
       "      <td>ХИМИЧЕСКОЕ СОЕДИНЕНИЕ</td>\n",
       "    </tr>\n",
       "    <tr>\n",
       "      <th>12</th>\n",
       "      <td>АБСОРБЕНТ</td>\n",
       "      <td>124326-N</td>\n",
       "      <td>ОКСИДЫ</td>\n",
       "    </tr>\n",
       "    <tr>\n",
       "      <th>13</th>\n",
       "      <td>АБСОРБЕНТ</td>\n",
       "      <td>461-N</td>\n",
       "      <td>ГАЗООБРАЗНОЕ ВЕЩЕСТВО</td>\n",
       "    </tr>\n",
       "    <tr>\n",
       "      <th>14</th>\n",
       "      <td>АБСОРБЕНТ</td>\n",
       "      <td>959-N</td>\n",
       "      <td>ВРЕДНОЕ ВЕЩЕСТВО</td>\n",
       "    </tr>\n",
       "  </tbody>\n",
       "</table>\n",
       "</div>"
      ],
      "text/plain": [
       "                noun    result  \\\n",
       "0   АБДОМИНОПЛАСТИКА  106536-N   \n",
       "1   АБДОМИНОПЛАСТИКА  106555-N   \n",
       "2   АБДОМИНОПЛАСТИКА  118950-N   \n",
       "3   АБДОМИНОПЛАСТИКА    4503-N   \n",
       "4   АБДОМИНОПЛАСТИКА     919-N   \n",
       "5   АБДОМИНОПЛАСТИКА    4567-N   \n",
       "6   АБДОМИНОПЛАСТИКА    8218-N   \n",
       "7   АБДОМИНОПЛАСТИКА  106553-N   \n",
       "8   АБДОМИНОПЛАСТИКА     510-N   \n",
       "9   АБДОМИНОПЛАСТИКА  132393-N   \n",
       "10         АБСОРБЕНТ     820-N   \n",
       "11         АБСОРБЕНТ  108760-N   \n",
       "12         АБСОРБЕНТ  124326-N   \n",
       "13         АБСОРБЕНТ     461-N   \n",
       "14         АБСОРБЕНТ     959-N   \n",
       "\n",
       "                                          result_text  \n",
       "0                           МАТЕРИАЛ ДЛЯ ИЗГОТОВЛЕНИЯ  \n",
       "1                              ТЕХНИЧЕСКОЕ УСТРОЙСТВО  \n",
       "2                                      КРАСОТА, КРАСА  \n",
       "3                               ТЕКСТИЛЬНАЯ ПРОДУКЦИЯ  \n",
       "4                             СИНТЕТИЧЕСКИЕ МАТЕРИАЛЫ  \n",
       "5                                          ОРГТЕХНИКА  \n",
       "6                       ИЗДЕЛИЕ ЛЕГКОЙ ПРОМЫШЛЕННОСТИ  \n",
       "7                          ПРИСПОСОБЛЕНИЕ, ИНСТРУМЕНТ  \n",
       "8                            ЭЛЕКТРОННОЕ ОБОРУДОВАНИЕ  \n",
       "9   ПРОДУКЦИЯ ПРОИЗВОДСТВЕННО-ТЕХНИЧЕСКОГО НАЗНАЧЕНИЯ  \n",
       "10                                           ВЕЩЕСТВО  \n",
       "11                              ХИМИЧЕСКОЕ СОЕДИНЕНИЕ  \n",
       "12                                             ОКСИДЫ  \n",
       "13                              ГАЗООБРАЗНОЕ ВЕЩЕСТВО  \n",
       "14                                   ВРЕДНОЕ ВЕЩЕСТВО  "
      ]
     },
     "execution_count": 295,
     "metadata": {},
     "output_type": "execute_result"
    }
   ],
   "source": [
    "public_test_hypos = [hypotheses_knn(t, index=tree, decay=3, k=100, grand_mult=0.5) for t in tqdm(public_test_nouns.noun)]\n",
    "sub = prepare_submission(public_test_nouns.noun, public_test_hypos, id2synset)\n",
    "sub.to_csv('nouns_v08_ft_knn_grn05_k100_d3.tsv', sep='\\t', encoding='utf-8', header=None, index=None)\n",
    "sub.head(15)"
   ]
  },
  {
   "cell_type": "markdown",
   "metadata": {},
   "source": [
    "# Ручной разбор"
   ]
  },
  {
   "cell_type": "markdown",
   "metadata": {},
   "source": [
    "Итак, что мы имеем на сегодняшний день:\n",
    "* Скор вдвое хуже, чем у лидера\n",
    "* 50% запросов - не найдены, 50% - плохо проранжированы\n",
    "\n",
    "Идеи:\n",
    "* Изучить, для какой доли тестовой выборки гипероним вообще есть в дереве. Оказывается, целых 98%\n",
    "  * те около 2%, для кого гиперонимов нет - почти на 100% топонимы или национальности. Для них можно сделать отдельный хак или поглядеть в Википедии. \n",
    "* понять, насколько хорошо справляется knn\n",
    "  * "
   ]
  },
  {
   "cell_type": "code",
   "execution_count": 94,
   "metadata": {},
   "outputs": [],
   "source": [
    "possible_parents = set(id2hyponym.keys())"
   ]
  },
  {
   "cell_type": "code",
   "execution_count": 97,
   "metadata": {},
   "outputs": [
    {
     "data": {
      "text/plain": [
       "count    342.000000\n",
       "mean       0.980019\n",
       "std        0.108338\n",
       "min        0.000000\n",
       "25%        1.000000\n",
       "50%        1.000000\n",
       "75%        1.000000\n",
       "max        1.000000\n",
       "Name: parents_list, dtype: float64"
      ]
     },
     "execution_count": 97,
     "metadata": {},
     "output_type": "execute_result"
    }
   ],
   "source": [
    "p_share = ttest_test1.parents_list.apply(lambda x: np.mean([c in possible_parents for c in x]))\n",
    "p_share.describe()"
   ]
  },
  {
   "cell_type": "code",
   "execution_count": 99,
   "metadata": {},
   "outputs": [
    {
     "data": {
      "text/html": [
       "<div>\n",
       "<style scoped>\n",
       "    .dataframe tbody tr th:only-of-type {\n",
       "        vertical-align: middle;\n",
       "    }\n",
       "\n",
       "    .dataframe tbody tr th {\n",
       "        vertical-align: top;\n",
       "    }\n",
       "\n",
       "    .dataframe thead th {\n",
       "        text-align: right;\n",
       "    }\n",
       "</style>\n",
       "<table border=\"1\" class=\"dataframe\">\n",
       "  <thead>\n",
       "    <tr style=\"text-align: right;\">\n",
       "      <th></th>\n",
       "      <th>SYNSET_ID</th>\n",
       "      <th>TEXT</th>\n",
       "      <th>PARENTS</th>\n",
       "      <th>DEFINITION</th>\n",
       "      <th>parents_list</th>\n",
       "      <th>synset_hash</th>\n",
       "      <th>one_text</th>\n",
       "    </tr>\n",
       "  </thead>\n",
       "  <tbody>\n",
       "    <tr>\n",
       "      <th>938</th>\n",
       "      <td>102221-N</td>\n",
       "      <td>ОБЬ</td>\n",
       "      <td>136801-N,134530-N</td>\n",
       "      <td>NaN</td>\n",
       "      <td>[136801-N, 134530-N]</td>\n",
       "      <td>0.820223</td>\n",
       "      <td>ОБЬ</td>\n",
       "    </tr>\n",
       "    <tr>\n",
       "      <th>5198</th>\n",
       "      <td>100406-N</td>\n",
       "      <td>СТЕРЛИТАМАК</td>\n",
       "      <td>135115-N,134530-N</td>\n",
       "      <td>NaN</td>\n",
       "      <td>[135115-N, 134530-N]</td>\n",
       "      <td>0.821024</td>\n",
       "      <td>СТЕРЛИТАМАК</td>\n",
       "    </tr>\n",
       "    <tr>\n",
       "      <th>5307</th>\n",
       "      <td>102172-N</td>\n",
       "      <td>СЕРГАЧ</td>\n",
       "      <td>136800-N,134530-N</td>\n",
       "      <td>NaN</td>\n",
       "      <td>[136800-N, 134530-N]</td>\n",
       "      <td>0.832989</td>\n",
       "      <td>СЕРГАЧ</td>\n",
       "    </tr>\n",
       "    <tr>\n",
       "      <th>5428</th>\n",
       "      <td>105391-N</td>\n",
       "      <td>НИДЕРЛАНДЕЦ,НИДЕРЛАНДКА,ГОЛЛАНДКА,ГОЛЛАНДЕЦ</td>\n",
       "      <td>106128-N,106123-N</td>\n",
       "      <td>житель или уроженец Голландии</td>\n",
       "      <td>[106128-N, 106123-N]</td>\n",
       "      <td>0.828110</td>\n",
       "      <td>НИДЕРЛАНДКА</td>\n",
       "    </tr>\n",
       "    <tr>\n",
       "      <th>6328</th>\n",
       "      <td>100681-N</td>\n",
       "      <td>ВОРОНЕЖ</td>\n",
       "      <td>136766-N,134530-N</td>\n",
       "      <td>NaN</td>\n",
       "      <td>[136766-N, 134530-N]</td>\n",
       "      <td>0.834573</td>\n",
       "      <td>ВОРОНЕЖ</td>\n",
       "    </tr>\n",
       "    <tr>\n",
       "      <th>6930</th>\n",
       "      <td>101688-N</td>\n",
       "      <td>ИВАНГОРОД</td>\n",
       "      <td>136785-N,134530-N</td>\n",
       "      <td>NaN</td>\n",
       "      <td>[136785-N, 134530-N]</td>\n",
       "      <td>0.829863</td>\n",
       "      <td>ИВАНГОРОД</td>\n",
       "    </tr>\n",
       "    <tr>\n",
       "      <th>7568</th>\n",
       "      <td>105437-N</td>\n",
       "      <td>ТУРЧАНКА,ТУРОК</td>\n",
       "      <td>106148-N,106147-N,106131-N</td>\n",
       "      <td>житель или уроженец Турции, представитель наро...</td>\n",
       "      <td>[106148-N, 106147-N, 106131-N]</td>\n",
       "      <td>0.837287</td>\n",
       "      <td>ТУРОК</td>\n",
       "    </tr>\n",
       "    <tr>\n",
       "      <th>7578</th>\n",
       "      <td>105612-N</td>\n",
       "      <td>ХАКАС,ХАКАСКА</td>\n",
       "      <td>106148-N,106147-N,106131-N</td>\n",
       "      <td>NaN</td>\n",
       "      <td>[106148-N, 106147-N, 106131-N]</td>\n",
       "      <td>0.834086</td>\n",
       "      <td>ХАКАСКА</td>\n",
       "    </tr>\n",
       "    <tr>\n",
       "      <th>10321</th>\n",
       "      <td>103003-N</td>\n",
       "      <td>АМУРСК</td>\n",
       "      <td>136195-N,134530-N</td>\n",
       "      <td>NaN</td>\n",
       "      <td>[136195-N, 134530-N]</td>\n",
       "      <td>0.823959</td>\n",
       "      <td>АМУРСК</td>\n",
       "    </tr>\n",
       "    <tr>\n",
       "      <th>12668</th>\n",
       "      <td>105697-N</td>\n",
       "      <td>УСТЬ-ИЛИМСК</td>\n",
       "      <td>134529-N,134530-N</td>\n",
       "      <td>NaN</td>\n",
       "      <td>[134529-N, 134530-N]</td>\n",
       "      <td>0.833169</td>\n",
       "      <td>УСТЬ-ИЛИМСК</td>\n",
       "    </tr>\n",
       "    <tr>\n",
       "      <th>14476</th>\n",
       "      <td>102523-N</td>\n",
       "      <td>АКСАЙ</td>\n",
       "      <td>136895-N,134530-N</td>\n",
       "      <td>NaN</td>\n",
       "      <td>[136895-N, 134530-N]</td>\n",
       "      <td>0.836798</td>\n",
       "      <td>АКСАЙ</td>\n",
       "    </tr>\n",
       "    <tr>\n",
       "      <th>16111</th>\n",
       "      <td>102738-N</td>\n",
       "      <td>НЕФТЕКУМСК</td>\n",
       "      <td>137782-N,134530-N</td>\n",
       "      <td>NaN</td>\n",
       "      <td>[137782-N, 134530-N]</td>\n",
       "      <td>0.836311</td>\n",
       "      <td>НЕФТЕКУМСК</td>\n",
       "    </tr>\n",
       "  </tbody>\n",
       "</table>\n",
       "</div>"
      ],
      "text/plain": [
       "      SYNSET_ID                                         TEXT  \\\n",
       "938    102221-N                                          ОБЬ   \n",
       "5198   100406-N                                  СТЕРЛИТАМАК   \n",
       "5307   102172-N                                       СЕРГАЧ   \n",
       "5428   105391-N  НИДЕРЛАНДЕЦ,НИДЕРЛАНДКА,ГОЛЛАНДКА,ГОЛЛАНДЕЦ   \n",
       "6328   100681-N                                      ВОРОНЕЖ   \n",
       "6930   101688-N                                    ИВАНГОРОД   \n",
       "7568   105437-N                               ТУРЧАНКА,ТУРОК   \n",
       "7578   105612-N                                ХАКАС,ХАКАСКА   \n",
       "10321  103003-N                                       АМУРСК   \n",
       "12668  105697-N                                  УСТЬ-ИЛИМСК   \n",
       "14476  102523-N                                        АКСАЙ   \n",
       "16111  102738-N                                   НЕФТЕКУМСК   \n",
       "\n",
       "                          PARENTS  \\\n",
       "938             136801-N,134530-N   \n",
       "5198            135115-N,134530-N   \n",
       "5307            136800-N,134530-N   \n",
       "5428            106128-N,106123-N   \n",
       "6328            136766-N,134530-N   \n",
       "6930            136785-N,134530-N   \n",
       "7568   106148-N,106147-N,106131-N   \n",
       "7578   106148-N,106147-N,106131-N   \n",
       "10321           136195-N,134530-N   \n",
       "12668           134529-N,134530-N   \n",
       "14476           136895-N,134530-N   \n",
       "16111           137782-N,134530-N   \n",
       "\n",
       "                                              DEFINITION  \\\n",
       "938                                                  NaN   \n",
       "5198                                                 NaN   \n",
       "5307                                                 NaN   \n",
       "5428                       житель или уроженец Голландии   \n",
       "6328                                                 NaN   \n",
       "6930                                                 NaN   \n",
       "7568   житель или уроженец Турции, представитель наро...   \n",
       "7578                                                 NaN   \n",
       "10321                                                NaN   \n",
       "12668                                                NaN   \n",
       "14476                                                NaN   \n",
       "16111                                                NaN   \n",
       "\n",
       "                         parents_list  synset_hash     one_text  \n",
       "938              [136801-N, 134530-N]     0.820223          ОБЬ  \n",
       "5198             [135115-N, 134530-N]     0.821024  СТЕРЛИТАМАК  \n",
       "5307             [136800-N, 134530-N]     0.832989       СЕРГАЧ  \n",
       "5428             [106128-N, 106123-N]     0.828110  НИДЕРЛАНДКА  \n",
       "6328             [136766-N, 134530-N]     0.834573      ВОРОНЕЖ  \n",
       "6930             [136785-N, 134530-N]     0.829863    ИВАНГОРОД  \n",
       "7568   [106148-N, 106147-N, 106131-N]     0.837287        ТУРОК  \n",
       "7578   [106148-N, 106147-N, 106131-N]     0.834086      ХАКАСКА  \n",
       "10321            [136195-N, 134530-N]     0.823959       АМУРСК  \n",
       "12668            [134529-N, 134530-N]     0.833169  УСТЬ-ИЛИМСК  \n",
       "14476            [136895-N, 134530-N]     0.836798        АКСАЙ  \n",
       "16111            [137782-N, 134530-N]     0.836311   НЕФТЕКУМСК  "
      ]
     },
     "execution_count": 99,
     "metadata": {},
     "output_type": "execute_result"
    }
   ],
   "source": [
    "ttest_test1[p_share.values < 1]"
   ]
  },
  {
   "cell_type": "code",
   "execution_count": 144,
   "metadata": {},
   "outputs": [
    {
     "data": {
      "text/html": [
       "<div>\n",
       "<style scoped>\n",
       "    .dataframe tbody tr th:only-of-type {\n",
       "        vertical-align: middle;\n",
       "    }\n",
       "\n",
       "    .dataframe tbody tr th {\n",
       "        vertical-align: top;\n",
       "    }\n",
       "\n",
       "    .dataframe thead th {\n",
       "        text-align: right;\n",
       "    }\n",
       "</style>\n",
       "<table border=\"1\" class=\"dataframe\">\n",
       "  <thead>\n",
       "    <tr style=\"text-align: right;\">\n",
       "      <th></th>\n",
       "      <th>SYNSET_ID</th>\n",
       "      <th>TEXT</th>\n",
       "      <th>PARENTS</th>\n",
       "      <th>DEFINITION</th>\n",
       "      <th>parents_list</th>\n",
       "      <th>synset_hash</th>\n",
       "      <th>one_text</th>\n",
       "    </tr>\n",
       "  </thead>\n",
       "  <tbody>\n",
       "    <tr>\n",
       "      <th>7578</th>\n",
       "      <td>105612-N</td>\n",
       "      <td>ХАКАС,ХАКАСКА</td>\n",
       "      <td>106148-N,106147-N,106131-N</td>\n",
       "      <td>NaN</td>\n",
       "      <td>[106148-N, 106147-N, 106131-N]</td>\n",
       "      <td>0.834086</td>\n",
       "      <td>ХАКАСКА</td>\n",
       "    </tr>\n",
       "    <tr>\n",
       "      <th>7579</th>\n",
       "      <td>105612-N</td>\n",
       "      <td>ХАКАС,ХАКАСКА</td>\n",
       "      <td>100046-N,7739-N</td>\n",
       "      <td>NaN</td>\n",
       "      <td>[100046-N, 7739-N]</td>\n",
       "      <td>0.834086</td>\n",
       "      <td>ХАКАСКА</td>\n",
       "    </tr>\n",
       "    <tr>\n",
       "      <th>7580</th>\n",
       "      <td>105612-N</td>\n",
       "      <td>ХАКАС,ХАКАСКА</td>\n",
       "      <td>3291-N,132681-N,1310-N</td>\n",
       "      <td>NaN</td>\n",
       "      <td>[3291-N, 132681-N, 1310-N]</td>\n",
       "      <td>0.834086</td>\n",
       "      <td>ХАКАСКА</td>\n",
       "    </tr>\n",
       "  </tbody>\n",
       "</table>\n",
       "</div>"
      ],
      "text/plain": [
       "     SYNSET_ID           TEXT                     PARENTS DEFINITION  \\\n",
       "7578  105612-N  ХАКАС,ХАКАСКА  106148-N,106147-N,106131-N        NaN   \n",
       "7579  105612-N  ХАКАС,ХАКАСКА             100046-N,7739-N        NaN   \n",
       "7580  105612-N  ХАКАС,ХАКАСКА      3291-N,132681-N,1310-N        NaN   \n",
       "\n",
       "                        parents_list  synset_hash one_text  \n",
       "7578  [106148-N, 106147-N, 106131-N]     0.834086  ХАКАСКА  \n",
       "7579              [100046-N, 7739-N]     0.834086  ХАКАСКА  \n",
       "7580      [3291-N, 132681-N, 1310-N]     0.834086  ХАКАСКА  "
      ]
     },
     "execution_count": 144,
     "metadata": {},
     "output_type": "execute_result"
    }
   ],
   "source": [
    "train_n.query('SYNSET_ID==\"105612-N\"')"
   ]
  },
  {
   "cell_type": "code",
   "execution_count": 100,
   "metadata": {},
   "outputs": [
    {
     "data": {
      "text/plain": [
       "set()"
      ]
     },
     "execution_count": 100,
     "metadata": {},
     "output_type": "execute_result"
    }
   ],
   "source": [
    "id2hypernym['136801-N']"
   ]
  },
  {
   "cell_type": "code",
   "execution_count": 147,
   "metadata": {},
   "outputs": [
    {
     "data": {
      "text/plain": [
       "OrderedDict([('@id', '3291-N'),\n",
       "             ('@ruthes_name', 'РОССИЯНЕ'),\n",
       "             ('@definition',\n",
       "              'жители или граждане России или выходцы из этой страны'),\n",
       "             ('@part_of_speech', 'N'),\n",
       "             ('sense',\n",
       "              [OrderedDict([('@id', '3291-N-185764'),\n",
       "                            ('#text', 'НАСЕЛЕНИЕ РОССИЙСКИЙ ФЕДЕРАЦИЯ')]),\n",
       "               OrderedDict([('@id', '3291-N-207832'),\n",
       "                            ('#text', 'НАРОД РОССИЙСКИЙ ФЕДЕРАЦИЯ')]),\n",
       "               OrderedDict([('@id', '3291-N-110915'),\n",
       "                            ('#text', 'РОССИЙСКИЙ ГРАЖДАНИН')]),\n",
       "               OrderedDict([('@id', '3291-N-207833'),\n",
       "                            ('#text', 'НАРОД РОССИЯ')]),\n",
       "               OrderedDict([('@id', '3291-N-207815'),\n",
       "                            ('#text', 'ГРАЖДАНИН РОССИЯ')]),\n",
       "               OrderedDict([('@id', '3291-N-185762'),\n",
       "                            ('#text', 'НАСЕЛЕНИЕ РОССИЯ')]),\n",
       "               OrderedDict([('@id', '3291-N-166957'),\n",
       "                            ('#text', 'ЖИТЕЛЬ РОССИЙСКИЙ ФЕДЕРАЦИЯ')]),\n",
       "               OrderedDict([('@id', '3291-N-166959'), ('#text', 'ЖИТЕЛЬ РФ')]),\n",
       "               OrderedDict([('@id', '3291-N-166956'),\n",
       "                            ('#text', 'ЖИТЕЛЬ РОССИЯ')]),\n",
       "               OrderedDict([('@id', '3291-N-110925'),\n",
       "                            ('#text', 'РОССИЙСКИЙ ОБЩЕСТВО')]),\n",
       "               OrderedDict([('@id', '3291-N-110924'),\n",
       "                            ('#text', 'РОССИЙСКИЙ НАСЕЛЕНИЕ')]),\n",
       "               OrderedDict([('@id', '3291-N-166965'),\n",
       "                            ('#text', 'РОССИЙСКИЙ ЖИТЕЛЬ')]),\n",
       "               OrderedDict([('@id', '3291-N-110916'),\n",
       "                            ('#text', 'РОССИЙСКИЙ НАРОД')]),\n",
       "               OrderedDict([('@id', '3291-N-207814'),\n",
       "                            ('#text', 'ГРАЖДАНИН РОССИЙСКИЙ ФЕДЕРАЦИЯ')]),\n",
       "               OrderedDict([('@id', '3291-N-207816'),\n",
       "                            ('#text', 'ГРАЖДАНИН РФ')]),\n",
       "               OrderedDict([('@id', '3291-N-110928'), ('#text', 'РОССИЯНИН')]),\n",
       "               OrderedDict([('@id', '3291-N-123110'), ('#text', 'РОССИЯНКА')]),\n",
       "               OrderedDict([('@id', '3291-N-110913'),\n",
       "                            ('#text', 'РОССИЙСКИЙ ОБЩЕСТВЕННОСТЬ')]),\n",
       "               OrderedDict([('@id', '3291-N-114806'),\n",
       "                            ('#text', 'ЭТНИЧЕСКИЙ РОССИЯНИН')]),\n",
       "               OrderedDict([('@id', '3291-N-185763'),\n",
       "                            ('#text', 'НАСЕЛЕНИЕ РФ')])])])"
      ]
     },
     "execution_count": 147,
     "metadata": {},
     "output_type": "execute_result"
    }
   ],
   "source": [
    "id2synset['3291-N']"
   ]
  },
  {
   "cell_type": "code",
   "execution_count": 109,
   "metadata": {},
   "outputs": [],
   "source": [
    "import requests\n",
    "from bs4 import BeautifulSoup"
   ]
  },
  {
   "cell_type": "code",
   "execution_count": 323,
   "metadata": {},
   "outputs": [],
   "source": [
    "STRESS_CHAR = '́'\n",
    "\n",
    "def get_definition(query):\n",
    "    t = requests.get('https://ru.wikipedia.org/w/index.php?search={}'.format(query)).text\n",
    "    soup = BeautifulSoup(t)\n",
    "    d = soup.find('div', {'id': 'mw-content-text'}).find('div')\n",
    "    for c in d.children:\n",
    "        if c.name=='p':\n",
    "            break\n",
    "    return c.text.replace(STRESS_CHAR, '').replace('\\xa0', ' ')"
   ]
  },
  {
   "cell_type": "code",
   "execution_count": 366,
   "metadata": {},
   "outputs": [],
   "source": [
    "def get_definition(query, mobile=True):\n",
    "    if mobile:\n",
    "        domain = 'ru.m.wikipedia.org'\n",
    "    else:\n",
    "        domain = 'ru.wikipedia.org'\n",
    "    url = 'http://{}/w/index.php?search={}'.format(domain, query)\n",
    "    t = requests.get(url).text\n",
    "    soup = BeautifulSoup(t)\n",
    "    d = soup.find('div', {'id': 'mw-content-text'}).find('div')\n",
    "    if mobile:\n",
    "        d = d.find('section')\n",
    "    for c in d.children:\n",
    "        if c.name=='p':\n",
    "            break\n",
    "    return c.text.replace(STRESS_CHAR, '').replace('\\xa0', ' ')"
   ]
  },
  {
   "cell_type": "markdown",
   "metadata": {},
   "source": [
    "Примерно 1-1.3s занимает поход на wikipedia.org, и столько же, увы, на мобильную версию. "
   ]
  },
  {
   "cell_type": "code",
   "execution_count": 369,
   "metadata": {},
   "outputs": [
    {
     "data": {
      "text/plain": [
       "'Литва (лит. Lietuva), официальное название — Литовская Республика (лит. Lietuvos Respublika) — государство, расположенное в северной части Европы. Столица страны — Вильнюс.\\n'"
      ]
     },
     "execution_count": 369,
     "metadata": {},
     "output_type": "execute_result"
    }
   ],
   "source": [
    "get_definition('литва', mobile=True)"
   ]
  },
  {
   "cell_type": "code",
   "execution_count": 373,
   "metadata": {},
   "outputs": [
    {
     "name": "stdout",
     "output_type": "stream",
     "text": [
      "1.35 s ± 90.4 ms per loop (mean ± std. dev. of 7 runs, 1 loop each)\n"
     ]
    }
   ],
   "source": [
    "%%timeit\n",
    "get_definition('литва', mobile=False)"
   ]
  },
  {
   "cell_type": "code",
   "execution_count": 317,
   "metadata": {},
   "outputs": [
    {
     "data": {
      "text/plain": [
       "set()"
      ]
     },
     "execution_count": 317,
     "metadata": {},
     "output_type": "execute_result"
    }
   ],
   "source": [
    "word2sense['центр Московской области'.upper()]"
   ]
  },
  {
   "cell_type": "code",
   "execution_count": 151,
   "metadata": {},
   "outputs": [
    {
     "data": {
      "application/vnd.jupyter.widget-view+json": {
       "model_id": "0470ab7984c74ca093f8e03662c3f8ed",
       "version_major": 2,
       "version_minor": 0
      },
      "text/plain": [
       "HBox(children=(FloatProgress(value=0.0, max=233.0), HTML(value='')))"
      ]
     },
     "metadata": {},
     "output_type": "display_data"
    },
    {
     "name": "stdout",
     "output_type": "stream",
     "text": [
      "\n",
      "0.24984757136044689\n",
      "0.5793991416309013\n",
      "0.4312184009406232\n"
     ]
    },
    {
     "data": {
      "text/plain": [
       "count    233.000000\n",
       "mean       0.249848\n",
       "std        0.323905\n",
       "min        0.000000\n",
       "25%        0.000000\n",
       "50%        0.125000\n",
       "75%        0.400000\n",
       "max        1.000000\n",
       "dtype: float64"
      ]
     },
     "execution_count": 151,
     "metadata": {},
     "output_type": "execute_result"
    }
   ],
   "source": [
    "texts = ttest_dev.one_text.drop_duplicates()\n",
    "small_hypos = [hypotheses_knn(txt, index=tree, decay=1, k=300, grand_mult=0.5)  for txt in tqdm(texts)]\n",
    "\n",
    "aps, _ = evaluate_mine(small_hypos, texts, ttest_dev)\n",
    "print(aps.mean())\n",
    "print((aps>0).mean())\n",
    "print(aps[aps>0].mean())\n",
    "aps.describe()"
   ]
  },
  {
   "cell_type": "code",
   "execution_count": 152,
   "metadata": {},
   "outputs": [
    {
     "data": {
      "text/plain": [
       "0    0.000000\n",
       "1    0.375000\n",
       "2    0.125000\n",
       "3    0.000000\n",
       "4    0.000000\n",
       "5    0.500000\n",
       "6    0.000000\n",
       "7    0.000000\n",
       "8    0.142857\n",
       "9    0.100000\n",
       "dtype: float64"
      ]
     },
     "execution_count": 152,
     "metadata": {},
     "output_type": "execute_result"
    }
   ],
   "source": [
    "aps[:10]"
   ]
  },
  {
   "cell_type": "markdown",
   "metadata": {},
   "source": [
    "```\n",
    "129     ВООДУШЕВЛЕНИЕ - в тестовых данных имелся в виду процесс, а в обучающих нашлось состояние. Спросить, как быть. \n",
    "134            МОСКВА - в GT много специфической информации, которая по соседям плохо собирается. Но всё есть в вики. \n",
    "178        ЯДОВИТОСТЬ - редкое слово, эмбеддинг не оч информативен. Можно поискать от прилагательного. И многозначное.\n",
    "355             БАГЕТ - многозначное слово, поймал не то значение. \n",
    "384             ВИЛОК - многозначное слово (\"вилка\"), поймал не то значение. в вики есть дизамбигуация, но хз как юзать\n",
    "425         КАЛЕНДУЛА - примерно поймал смысл, но не поймал биологические факты. есть в вики. \n",
    "552      ЭЛАСТИЧНОСТЬ - многозначное слово, поймал не то\n",
    "635         НОВОВЯТСК - поймал что это город, но GT - что это город Кировской области. Нужны факты. \n",
    "932        ГОЛЕНОСТОП - это сустав, а knn начал вытягивать в основном болезни (в их названиях есть это слово)\n",
    "1075            ЗАМОК - снова поймал не то значение многозначного слова. \n",
    "```"
   ]
  },
  {
   "cell_type": "code",
   "execution_count": 154,
   "metadata": {},
   "outputs": [
    {
     "data": {
      "text/plain": [
       "129     ВООДУШЕВЛЕНИЕ\n",
       "134            МОСКВА\n",
       "178        ЯДОВИТОСТЬ\n",
       "355             БАГЕТ\n",
       "384             ВИЛОК\n",
       "425         КАЛЕНДУЛА\n",
       "552      ЭЛАСТИЧНОСТЬ\n",
       "635         НОВОВЯТСК\n",
       "932        ГОЛЕНОСТОП\n",
       "1075            ЗАМОК\n",
       "Name: one_text, dtype: object"
      ]
     },
     "execution_count": 154,
     "metadata": {},
     "output_type": "execute_result"
    }
   ],
   "source": [
    "texts[:10]"
   ]
  },
  {
   "cell_type": "code",
   "execution_count": 233,
   "metadata": {},
   "outputs": [
    {
     "name": "stdout",
     "output_type": "stream",
     "text": [
      "109543-N ЗАПОР, ЗАПОРНОЕ УСТРОЙСТВО\n",
      "106553-N ПРИСПОСОБЛЕНИЕ, ИНСТРУМЕНТ\n",
      "2525-N СООРУЖЕНИЕ, ПОСТРОЙКА\n",
      "106451-N МЕСТО В ПРОСТРАНСТВЕ\n",
      "2526-N ЗДАНИЕ\n",
      "106573-N ПОМЕЩЕНИЕ, ВНУТРЕННОСТЬ ЗДАНИЯ\n",
      "107233-N СТЕРЖЕНЬ (ПРЕДМЕТ)\n",
      "537-N СТРОИТЕЛЬНЫЕ КОНСТРУКЦИИ\n",
      "479-N ЖИЛОЕ ЗДАНИЕ\n",
      "107087-N ОТВЕРСТИЕ\n"
     ]
    }
   ],
   "source": [
    "for c in small_hypos[9]:\n",
    "    print(c, id2synset[c]['@ruthes_name'])"
   ]
  },
  {
   "cell_type": "code",
   "execution_count": 303,
   "metadata": {},
   "outputs": [
    {
     "data": {
      "text/html": [
       "<div>\n",
       "<style scoped>\n",
       "    .dataframe tbody tr th:only-of-type {\n",
       "        vertical-align: middle;\n",
       "    }\n",
       "\n",
       "    .dataframe tbody tr th {\n",
       "        vertical-align: top;\n",
       "    }\n",
       "\n",
       "    .dataframe thead th {\n",
       "        text-align: right;\n",
       "    }\n",
       "</style>\n",
       "<table border=\"1\" class=\"dataframe\">\n",
       "  <thead>\n",
       "    <tr style=\"text-align: right;\">\n",
       "      <th></th>\n",
       "      <th>SYNSET_ID</th>\n",
       "      <th>TEXT</th>\n",
       "      <th>PARENTS</th>\n",
       "      <th>DEFINITION</th>\n",
       "      <th>parents_list</th>\n",
       "      <th>synset_hash</th>\n",
       "      <th>one_text</th>\n",
       "    </tr>\n",
       "  </thead>\n",
       "  <tbody>\n",
       "    <tr>\n",
       "      <th>134</th>\n",
       "      <td>2641-N</td>\n",
       "      <td>МОСКВА</td>\n",
       "      <td>9923-N,242-N,2637-N</td>\n",
       "      <td>NaN</td>\n",
       "      <td>[9923-N, 242-N, 2637-N]</td>\n",
       "      <td>0.803397</td>\n",
       "      <td>МОСКВА</td>\n",
       "    </tr>\n",
       "    <tr>\n",
       "      <th>135</th>\n",
       "      <td>2641-N</td>\n",
       "      <td>МОСКВА</td>\n",
       "      <td>134783-N,242-N</td>\n",
       "      <td>NaN</td>\n",
       "      <td>[134783-N, 242-N]</td>\n",
       "      <td>0.803397</td>\n",
       "      <td>МОСКВА</td>\n",
       "    </tr>\n",
       "    <tr>\n",
       "      <th>136</th>\n",
       "      <td>2641-N</td>\n",
       "      <td>МОСКВА</td>\n",
       "      <td>134321-N,134313-N</td>\n",
       "      <td>NaN</td>\n",
       "      <td>[134321-N, 134313-N]</td>\n",
       "      <td>0.803397</td>\n",
       "      <td>МОСКВА</td>\n",
       "    </tr>\n",
       "    <tr>\n",
       "      <th>137</th>\n",
       "      <td>2641-N</td>\n",
       "      <td>МОСКВА</td>\n",
       "      <td>3208-N,242-N,151357-N</td>\n",
       "      <td>NaN</td>\n",
       "      <td>[3208-N, 242-N, 151357-N]</td>\n",
       "      <td>0.803397</td>\n",
       "      <td>МОСКВА</td>\n",
       "    </tr>\n",
       "  </tbody>\n",
       "</table>\n",
       "</div>"
      ],
      "text/plain": [
       "    SYNSET_ID    TEXT                PARENTS DEFINITION  \\\n",
       "134    2641-N  МОСКВА    9923-N,242-N,2637-N        NaN   \n",
       "135    2641-N  МОСКВА         134783-N,242-N        NaN   \n",
       "136    2641-N  МОСКВА      134321-N,134313-N        NaN   \n",
       "137    2641-N  МОСКВА  3208-N,242-N,151357-N        NaN   \n",
       "\n",
       "                  parents_list  synset_hash one_text  \n",
       "134    [9923-N, 242-N, 2637-N]     0.803397   МОСКВА  \n",
       "135          [134783-N, 242-N]     0.803397   МОСКВА  \n",
       "136       [134321-N, 134313-N]     0.803397   МОСКВА  \n",
       "137  [3208-N, 242-N, 151357-N]     0.803397   МОСКВА  "
      ]
     },
     "execution_count": 303,
     "metadata": {},
     "output_type": "execute_result"
    }
   ],
   "source": [
    "d = ttest_dev.query('one_text==\"МОСКВА\"')\n",
    "d"
   ]
  },
  {
   "cell_type": "code",
   "execution_count": 309,
   "metadata": {},
   "outputs": [
    {
     "data": {
      "text/plain": [
       "OrderedDict([('@id', '9923-N'),\n",
       "             ('@ruthes_name', 'ГОРОД ФЕДЕРАЛЬНОГО ЗНАЧЕНИЯ'),\n",
       "             ('@definition', ''),\n",
       "             ('@part_of_speech', 'N'),\n",
       "             ('sense',\n",
       "              OrderedDict([('@id', '9923-N-123297'),\n",
       "                           ('#text', 'ГОРОД ФЕДЕРАЛЬНЫЙ ЗНАЧЕНИЕ')]))])"
      ]
     },
     "execution_count": 309,
     "metadata": {},
     "output_type": "execute_result"
    }
   ],
   "source": [
    "id2synset['9923-N']"
   ]
  },
  {
   "cell_type": "code",
   "execution_count": 313,
   "metadata": {},
   "outputs": [
    {
     "data": {
      "text/plain": [
       "{'9923-N'}"
      ]
     },
     "execution_count": 313,
     "metadata": {},
     "output_type": "execute_result"
    }
   ],
   "source": [
    "word2sense['ГОРОД ФЕДЕРАЛЬНОГО ЗНАЧЕНИЯ']"
   ]
  },
  {
   "cell_type": "code",
   "execution_count": 306,
   "metadata": {},
   "outputs": [
    {
     "data": {
      "text/plain": [
       "85334"
      ]
     },
     "execution_count": 306,
     "metadata": {},
     "output_type": "execute_result"
    }
   ],
   "source": [
    "len(word2sense)"
   ]
  },
  {
   "cell_type": "code",
   "execution_count": 304,
   "metadata": {},
   "outputs": [
    {
     "name": "stdout",
     "output_type": "stream",
     "text": [
      "ГОРОД ФЕДЕРАЛЬНОГО ЗНАЧЕНИЯ | ГОРОД | СУБЪЕКТ РОССИЙСКОЙ ФЕДЕРАЦИИ\n",
      "МЕГАПОЛИС, ГОРОД-МИЛЛИОНЕР | ГОРОД\n",
      "ЦЕНТР ЦЕНТРАЛЬНОГО ФЕДЕРАЛЬНОГО ОКРУГА | ЦЕНТР ФЕДЕРАЛЬНОГО ОКРУГА РФ\n",
      "СТОЛИЦА ГОСУДАРСТВА | ГОРОД | АДМИНИСТРАТИВНЫЙ ЦЕНТР\n"
     ]
    }
   ],
   "source": [
    "for pp in d.parents_list:\n",
    "    print(' | '.join([ id2synset[c]['@ruthes_name'] for c in pp]))"
   ]
  },
  {
   "cell_type": "code",
   "execution_count": 254,
   "metadata": {},
   "outputs": [
    {
     "name": "stdout",
     "output_type": "stream",
     "text": [
      "0.0 1 114707-N ЗАМОК 1\n",
      "0.5208078430396857 1 153372-N ЗАЩЕЛКА ЗАМОК 1\n",
      "0.5352649885284523 1 114704-N КЛЮЧ ЗАМОК 1\n",
      "0.575655892650233 1 114707-N ЗАМОК ; ЗАМОК ДЛЯ ЗАПИРАНИЕ ; ЗАМОК ДЛЯ ЗАПИРАНИЯ ; ЗАМОЧЕК 1\n",
      "0.5824655840310942 1 148407-N ЗАМОК С КОД ; ЗАМОК С ШИФР ; КОДОВЫЙ ЗАМОК ; НАБОРНЫЙ ЗАМОК 1\n",
      "0.6217534688634724 1 148434-N СКВАЖИНА ЗАМОК 1\n",
      "0.6266361900893433 1 148407-N КОДОВЫЙ ЗАМОК 1\n",
      "0.6384004164972609 1 148407-N НАБОРНЫЙ ЗАМОК 1\n",
      "0.658082657400115 1 148434-N ОТВЕРСТИЕ ЗАМОК 1\n",
      "0.7110617743886067 1 114707-N ЗАМОК ДЛЯ ЗАПИРАНИЯ 1\n",
      "0.7230722398769986 1 114704-N КЛЮЧ К ЗАМОК 1\n",
      "0.7320238734875024 1 114707-N ЗАМОК ДЛЯ ЗАПИРАНИЕ 1\n",
      "0.7457962149853562 1 148407-N ЗАМОК С ШИФР 1\n",
      "0.7664942600797695 1 114704-N ЗАМОЧНЫЙ КЛЮЧ ; КЛЮЧ ; КЛЮЧ ЗАМОК ; КЛЮЧ К ЗАМКУ ; КЛЮЧ К ЗАМОК ; КЛЮЧИК 1\n",
      "0.7784294865185707 1 148407-N ЗАМОК С КОД 1\n",
      "0.7851388881603731 1 153372-N ЗАЩЕЛКА ; ЗАЩЕЛКА ЗАМКА ; ЗАЩЕЛКА ЗАМОК 1\n",
      "0.8107683417167264 1 148434-N ЗАМОЧНАЯ СКВАЖИНА ; ЗАМОЧНЫЙ СКВАЖИНА ; ОТВЕРСТИЕ ЗАМОК ; СКВАЖИНА ДЛЯ КЛЮЧ ; СКВАЖИНА ЗАМОК 1\n",
      "0.8615681013906876 1 114704-N ЗАМОЧНЫЙ КЛЮЧ 1\n",
      "0.9344155899900932 1 109544-N ЗАЩЕЛКА ; ЩЕКОЛДА 1\n",
      "0.9461383444997625 1 121119-N ЗАМОЧКА 1\n",
      "0.9532541940245396 1 131588-N ЗАСОВ (ДВЕРНАЯ ЗАДВИЖКА) 1\n",
      "0.9550012656630502 1 142056-N ЗАПЕРЕТЬ ВНУТРИ ; ЗАПИРАНИЕ 1\n",
      "0.9574656506985655 1 117310-N БАШЕННЫЙ ДОМ ; БАШНЯ ; БАШНЯ (МНОГОЭТАЖНЫЙ ДОМ) ; ДОМ БАШЕННЫЙ ТИП 1\n",
      "0.9639559041198424 1 114707-N ЗАМОЧЕК 1\n",
      "0.9653602717541535 1 153372-N ЗАЩЕЛКА ЗАМКА 1\n",
      "0.9654352594494685 1 148434-N ЗАМОЧНАЯ СКВАЖИНА 1\n",
      "0.9740902405729258 1 131588-N ЗАСОВ ; ЗАСОВ (ДВЕРНАЯ ЗАДВИЖКА) 1\n",
      "0.9795692099353308 1 142056-N ЗАПИРАНИЕ 1\n",
      "0.9803944811052347 1 117310-N БАШЕННЫЙ ДОМ 1\n",
      "0.9842717546931501 1 109544-N ЩЕКОЛДА 1\n",
      "0.98896841075227 1 147497-N ДВЕРНАЯ КОНСТРУКЦИЯ ; ДВЕРНОЙ БЛОК ; ДВЕРНОЙ КОНСТРУКЦИЯ ; ДВЕРНОЙ КОРОБКА ; ДВЕРЬ 1\n",
      "0.9938673092930566 1 142026-N ЗАПОРНЫЙ ЗАДВИЖКА 2\n",
      "0.9957902578525452 1 107150-N ДВЕРКА ; ДВЕРНОЙ ПЛИТА ; ДВЕРЦА ; ДВЕРЬ ; ДВЕРЬ, ДВЕРНАЯ ПЛИТА 1\n",
      "0.9987415138426269 1 117310-N БАШНЯ (МНОГОЭТАЖНЫЙ ДОМ) 1\n",
      "1.001800653828019 1 148434-N ЗАМОЧНЫЙ СКВАЖИНА 1\n",
      "1.0020612103154485 1 109550-N ЗАДВИЖКА 1\n",
      "1.002721675038722 1 109543-N ЗАПИРАЮЩИЙ УСТРОЙСТВО 1\n",
      "1.0042712259004116 1 109543-N ЗАПИРАЮЩИЙ УСТРОЙСТВО ; ЗАПОР ; ЗАПОР, ЗАПОРНОЕ УСТРОЙСТВО ; ЗАПОРНЫЙ МЕХАНИЗМ ; ЗАПОРНЫЙ УСТРОЙСТВО ; ЗАТВОР ; ЗАТВОРНЫЙ УСТРОЙСТВО 1\n",
      "1.0056796793023572 1 109544-N ЗАЩЕЛКА 1\n",
      "1.0056796793023572 1 153372-N ЗАЩЕЛКА 1\n",
      "1.0072570177743254 1 109795-N КЛЮЧ ; МУЗЫКАЛЬНЫЙ КЛЮЧ 3\n",
      "1.0083815035364472 1 148366-N ЗАПИРАЮЩИЙСЯ ШКАФЧИК 1\n",
      "1.0114542926392556 1 145840-N ДВЕРКА ; ДВЕРНОЙ ПРОЕМ ; ДВЕРЬ 2\n",
      "1.0121692568417053 1 107725-N БАШЕНКА 1\n",
      "1.0136227058607254 1 107150-N ДВЕРЬ, ДВЕРНАЯ ПЛИТА 1\n",
      "1.0140110505168356 1 107725-N БАШЕНКА ; БАШНЯ ; БАШНЯ (СООРУЖЕНИЕ) ; СООРУЖЕНИЕ БАШЕННЫЙ ТИП 1\n",
      "1.0168426208423074 1 117755-N КАРНИЗ ДОМ 1\n",
      "1.0230623123078317 1 113935-N ПАЛАЦЦО 1\n",
      "1.0250625427520468 1 5582-N ВОДОНАПОРНЫЙ БАШНЯ 1\n",
      "1.0251728342802398 1 117310-N ДОМ БАШЕННЫЙ ТИП 1\n",
      "1.028530146855946 1 141994-N КЛЮЧ ; КЛЮЧ ШИФРОВАНИЕ ; КЛЮЧ ШИФРОВАНИЯ 1\n",
      "1.0288087033626483 1 154325-N КЛЮЧ ; КЛЮЧ ДЛЯ ПОНИМАНИЯ, ОВЛАДЕНИЯ ; КЛЮЧ К ; КЛЮЧИК 1\n",
      "1.0296847081288258 1 124722-N БРЕВЕНЧАТЫЙ ДОМ 2\n",
      "1.0312316696819284 1 133563-N БАШНЯ ; ОРУДИЙНАЯ БАШНЯ ; ОРУДИЙНЫЙ БАШНЯ 2\n",
      "1.0314781796599783 1 109795-N КЛЮЧ 3\n",
      "1.0314781796599783 1 109799-N КЛЮЧ 2\n",
      "1.0314781796599783 1 154325-N КЛЮЧ 1\n",
      "1.0314781796599783 1 114704-N КЛЮЧ 1\n",
      "1.0314781796599783 1 141994-N КЛЮЧ 1\n",
      "1.033353741082882 1 107150-N ДВЕРНОЙ ПЛИТА 1\n",
      "1.03419161731214 1 118086-N КНОПКА (ЗАСТЕЖКА) 1\n",
      "1.0348174226951539 1 113935-N ДВОРЕЦ ; ПАЛАЦЦО 1\n",
      "1.0356846048982642 1 147497-N ДВЕРНОЙ КОРОБКА 1\n",
      "1.0359535313982444 1 109795-N МУЗЫКАЛЬНЫЙ КЛЮЧ 3\n",
      "1.0359790815558545 1 118086-N КНОПОЧНЫЙ ЗАСТЕЖКА 1\n",
      "1.0377445067644782 1 107725-N БАШНЯ 1\n",
      "1.0377445067644782 1 117310-N БАШНЯ 1\n",
      "1.0377445067644782 1 133563-N БАШНЯ 2\n",
      "1.0380226232314755 1 133563-N ОРУДИЙНАЯ БАШНЯ 2\n",
      "1.0401073215456105 1 136375-N ВЗЛОМЩИК СЕЙФ 1\n",
      "1.0403864340398206 1 114571-N ЗАДВИНУТЬ (ЗАКРЫТЬ (ШТОРУ, ДВЕРЦУ) 1\n",
      "1.042235415494918 1 107085-N СТЕНА ДОМ 1\n",
      "1.0425322805189303 1 107486-N ФАСАД ДОМ 1\n",
      "1.042969595422171 1 4749-N МНОГОКВАРТИРНЫЙ ДОМ 2\n",
      "1.0465948482122462 1 119980-N ПЕРЕКРЫТИЕ ДОМ 1\n",
      "1.0466434550884907 1 145840-N ДВЕРНОЙ ПРОЕМ 2\n",
      "1.0469247113865945 1 114571-N ЗАДВИГАНИЕ ; ЗАДВИНУТЬ (ЗАКРЫТЬ (ШТОРУ, ДВЕРЦУ) 1\n",
      "1.0471400907305863 1 8127-N КАЗЕМАТ ; КАМЕРА ; ПОМЕЩЕНИЕ КАМЕРНЫЙ ТИП ; ТЮРЕМНАЯ КАМЕРА ; ТЮРЕМНЫЙ КАМЕРА 1\n",
      "1.0475959117069191 1 114704-N КЛЮЧ К ЗАМКУ 1\n",
      "1.0482301732168282 1 125603-N ВЗЛАМЫВАНИЕ ; ВЗЛОМ ; ВЗЛОМАТЬ (ВСКРЫТЬ) 1\n",
      "1.0486114796993553 1 147497-N ДВЕРНОЙ КОНСТРУКЦИЯ 1\n",
      "1.0493048605178965 1 141994-N КЛЮЧ ШИФРОВАНИЯ 1\n",
      "1.0494579034462186 1 124628-N ПОДРАМОК 1\n",
      "1.04971448072218 1 142056-N ЗАПЕРЕТЬ ВНУТРИ 1\n",
      "1.050671661479898 1 139603-N ЗАПОРНЫЙ КРЮК ; КРЮК ; КРЮЧОК 2\n",
      "1.0511829352928073 1 107209-N ЧЕРДАЧНЫЙ ПОМЕЩЕНИЕ 1\n",
      "1.0516623669443603 1 144461-N ВЗЛАМЫВАНИЕ ; ВЗЛОМ ; ВЗЛОМАТЬ ЗАЩИТУ 1\n",
      "1.0517911345597333 1 124996-N АМБРАЗУРА, БОЙНИЦА 1\n",
      "1.0519017318345303 1 114705-N БОРОДКА КЛЮЧ 1\n",
      "1.051974613329689 1 141967-N ИГОРНЫЙ ДОМ 1\n",
      "1.053480441780232 1 126777-N НЕСГОРАЕМЫЙ МЕТАЛЛИЧЕСКИЙ ШКАФ 2\n",
      "1.053872979960456 1 107916-N ЗАСТЕЖКА 1\n",
      "1.053877430775294 1 128119-N ПОРТИК ; ПОРТИК ЗДАНИЕ ; ПОРТИК ЗДАНИЯ 1\n",
      "1.055405759394571 1 128853-N РАТУША 1\n",
      "1.0554691931301419 1 482-N ПОСТРОЙКА ДОМ 1\n",
      "1.0555612338949263 1 107209-N ЧЕРДАК ; ЧЕРДАЧНЫЙ ПОМЕЩЕНИЕ 1\n",
      "1.0556358611949754 1 114303-N ВОРОТА 1\n",
      "1.0556358611949754 1 107165-N ВОРОТА 2\n",
      "1.0566321364722595 1 1362-N ДОМ ПЕЧАТЬ 2\n",
      "1.059323059113184 1 121423-N СОБАЧКА ; СПУСКОВОЙ КРЮЧОК ; СПУСКОВОЙ СОБАЧКА 2\n",
      "87\n",
      "6.2276755350889985 109543-N ЗАПОР, ЗАПОРНОЕ УСТРОЙСТВО\n",
      "4.686094382087867 106553-N ПРИСПОСОБЛЕНИЕ, ИНСТРУМЕНТ\n",
      "2.8400224742545754 107233-N СТЕРЖЕНЬ (ПРЕДМЕТ)\n",
      "2.7113741757910073 106451-N МЕСТО В ПРОСТРАНСТВЕ\n",
      "2.596708203462783 107087-N ОТВЕРСТИЕ\n",
      "2.5545254625189164 114707-N ЗАМОК ДЛЯ ЗАПИРАНИЯ\n",
      "2.1434291323661006 107496-N ДЕТАЛЬ УСТРОЙСТВА\n",
      "2.1407796634530727 107519-N ЗНАК, ОБОЗНАЧЕНИЕ\n",
      "1.8953427740801678 109550-N ЗАДВИЖКА\n",
      "1.840357534462179 146447-N ВЫСОТНОЕ ЗДАНИЕ\n"
     ]
    },
    {
     "data": {
      "text/plain": [
       "['109543-N',\n",
       " '106553-N',\n",
       " '107233-N',\n",
       " '106451-N',\n",
       " '107087-N',\n",
       " '114707-N',\n",
       " '107496-N',\n",
       " '107519-N',\n",
       " '109550-N',\n",
       " '146447-N']"
      ]
     },
     "execution_count": 254,
     "metadata": {},
     "output_type": "execute_result"
    }
   ],
   "source": [
    "hypotheses_knn('ЗАМОК', index=tree, decay=1, k=100, grand_mult=0.5, verbose=True)"
   ]
  },
  {
   "cell_type": "code",
   "execution_count": 272,
   "metadata": {},
   "outputs": [
    {
     "name": "stdout",
     "output_type": "stream",
     "text": [
      "762 0\n",
      "233 0\n"
     ]
    }
   ],
   "source": [
    "pst = set(public_test_nouns.noun)\n",
    "tst = set(ttest_dev.one_text)\n",
    "lst = set(texts_long)\n",
    "print(len(pst), len(pst.intersection(lst))) \n",
    "print(len(tst), len(tst.intersection(lst))) # было 61 из 233"
   ]
  },
  {
   "cell_type": "markdown",
   "metadata": {},
   "source": [
    "Ага, а вот и обнаруженная проблема: в настоящей тестовой выборке нет слов с кучей значений, а в моей искуственной - есть. Происходит антиутечка, которая, возможно, занижает мои метрики и заставляет увеличивать число соседей и сглаживание. \n",
    "\n",
    "Видимо, нужно исключить из индекса не только мои синсеты, но и другие синсеты, содержащие то же слово. "
   ]
  },
  {
   "cell_type": "code",
   "execution_count": 260,
   "metadata": {},
   "outputs": [
    {
     "data": {
      "text/plain": [
       "541         РЕВМАТОЛОГ\n",
       "529    РАЗБАЛАНСИРОВКА\n",
       "395         НЕГАТИВИЗМ\n",
       "297        КРОЛЬЧАТНИК\n",
       "344      МАШИНОВЕДЕНИЕ\n",
       "505       ПРИВАТИЗАТОР\n",
       "440              ПАЛАШ\n",
       "637      ТАНКОСТРОЕНИЕ\n",
       "256              КИЗИЛ\n",
       "10          АКСЕЛЬБАНТ\n",
       "Name: noun, dtype: object"
      ]
     },
     "execution_count": 260,
     "metadata": {},
     "output_type": "execute_result"
    }
   ],
   "source": [
    "public_test_nouns.noun.sample(10)"
   ]
  },
  {
   "cell_type": "code",
   "execution_count": 322,
   "metadata": {},
   "outputs": [
    {
     "ename": "UnpicklingError",
     "evalue": "invalid load key, '3'.",
     "output_type": "error",
     "traceback": [
      "\u001b[1;31m---------------------------------------------------------------------------\u001b[0m",
      "\u001b[1;31mUnpicklingError\u001b[0m                           Traceback (most recent call last)",
      "\u001b[1;32m<ipython-input-322-4fba63b3cb93>\u001b[0m in \u001b[0;36m<module>\u001b[1;34m\u001b[0m\n\u001b[0;32m      2\u001b[0m \u001b[1;31m# this is araneum 2018 ft model from rusvectores\u001b[0m\u001b[1;33m\u001b[0m\u001b[1;33m\u001b[0m\u001b[1;33m\u001b[0m\u001b[0m\n\u001b[0;32m      3\u001b[0m m = gensim.models.fasttext.FastTextKeyedVectors.load(\n\u001b[1;32m----> 4\u001b[1;33m     \u001b[1;34m'C:/Users/ddale/Downloads/NLP/rusvectores/web.bin'\u001b[0m\u001b[1;33m\u001b[0m\u001b[1;33m\u001b[0m\u001b[0m\n\u001b[0m\u001b[0;32m      5\u001b[0m )\n\u001b[0;32m      6\u001b[0m \u001b[0mm\u001b[0m\u001b[1;33m.\u001b[0m\u001b[0madjust_vectors\u001b[0m\u001b[1;33m(\u001b[0m\u001b[1;33m)\u001b[0m\u001b[1;33m\u001b[0m\u001b[1;33m\u001b[0m\u001b[0m\n",
      "\u001b[1;32mc:\\users\\ddale\\appdata\\local\\programs\\python\\python36\\lib\\site-packages\\gensim\\models\\keyedvectors.py\u001b[0m in \u001b[0;36mload\u001b[1;34m(cls, fname_or_handle, **kwargs)\u001b[0m\n\u001b[0;32m   2007\u001b[0m     \u001b[1;33m@\u001b[0m\u001b[0mclassmethod\u001b[0m\u001b[1;33m\u001b[0m\u001b[1;33m\u001b[0m\u001b[0m\n\u001b[0;32m   2008\u001b[0m     \u001b[1;32mdef\u001b[0m \u001b[0mload\u001b[0m\u001b[1;33m(\u001b[0m\u001b[0mcls\u001b[0m\u001b[1;33m,\u001b[0m \u001b[0mfname_or_handle\u001b[0m\u001b[1;33m,\u001b[0m \u001b[1;33m**\u001b[0m\u001b[0mkwargs\u001b[0m\u001b[1;33m)\u001b[0m\u001b[1;33m:\u001b[0m\u001b[1;33m\u001b[0m\u001b[1;33m\u001b[0m\u001b[0m\n\u001b[1;32m-> 2009\u001b[1;33m         \u001b[0mmodel\u001b[0m \u001b[1;33m=\u001b[0m \u001b[0msuper\u001b[0m\u001b[1;33m(\u001b[0m\u001b[0mWordEmbeddingsKeyedVectors\u001b[0m\u001b[1;33m,\u001b[0m \u001b[0mcls\u001b[0m\u001b[1;33m)\u001b[0m\u001b[1;33m.\u001b[0m\u001b[0mload\u001b[0m\u001b[1;33m(\u001b[0m\u001b[0mfname_or_handle\u001b[0m\u001b[1;33m,\u001b[0m \u001b[1;33m**\u001b[0m\u001b[0mkwargs\u001b[0m\u001b[1;33m)\u001b[0m\u001b[1;33m\u001b[0m\u001b[1;33m\u001b[0m\u001b[0m\n\u001b[0m\u001b[0;32m   2010\u001b[0m         \u001b[0m_try_upgrade\u001b[0m\u001b[1;33m(\u001b[0m\u001b[0mmodel\u001b[0m\u001b[1;33m)\u001b[0m\u001b[1;33m\u001b[0m\u001b[1;33m\u001b[0m\u001b[0m\n\u001b[0;32m   2011\u001b[0m         \u001b[1;32mreturn\u001b[0m \u001b[0mmodel\u001b[0m\u001b[1;33m\u001b[0m\u001b[1;33m\u001b[0m\u001b[0m\n",
      "\u001b[1;32mc:\\users\\ddale\\appdata\\local\\programs\\python\\python36\\lib\\site-packages\\gensim\\models\\keyedvectors.py\u001b[0m in \u001b[0;36mload\u001b[1;34m(cls, fname_or_handle, **kwargs)\u001b[0m\n\u001b[0;32m    226\u001b[0m     \u001b[1;33m@\u001b[0m\u001b[0mclassmethod\u001b[0m\u001b[1;33m\u001b[0m\u001b[1;33m\u001b[0m\u001b[0m\n\u001b[0;32m    227\u001b[0m     \u001b[1;32mdef\u001b[0m \u001b[0mload\u001b[0m\u001b[1;33m(\u001b[0m\u001b[0mcls\u001b[0m\u001b[1;33m,\u001b[0m \u001b[0mfname_or_handle\u001b[0m\u001b[1;33m,\u001b[0m \u001b[1;33m**\u001b[0m\u001b[0mkwargs\u001b[0m\u001b[1;33m)\u001b[0m\u001b[1;33m:\u001b[0m\u001b[1;33m\u001b[0m\u001b[1;33m\u001b[0m\u001b[0m\n\u001b[1;32m--> 228\u001b[1;33m         \u001b[1;32mreturn\u001b[0m \u001b[0msuper\u001b[0m\u001b[1;33m(\u001b[0m\u001b[0mBaseKeyedVectors\u001b[0m\u001b[1;33m,\u001b[0m \u001b[0mcls\u001b[0m\u001b[1;33m)\u001b[0m\u001b[1;33m.\u001b[0m\u001b[0mload\u001b[0m\u001b[1;33m(\u001b[0m\u001b[0mfname_or_handle\u001b[0m\u001b[1;33m,\u001b[0m \u001b[1;33m**\u001b[0m\u001b[0mkwargs\u001b[0m\u001b[1;33m)\u001b[0m\u001b[1;33m\u001b[0m\u001b[1;33m\u001b[0m\u001b[0m\n\u001b[0m\u001b[0;32m    229\u001b[0m \u001b[1;33m\u001b[0m\u001b[0m\n\u001b[0;32m    230\u001b[0m     \u001b[1;32mdef\u001b[0m \u001b[0msimilarity\u001b[0m\u001b[1;33m(\u001b[0m\u001b[0mself\u001b[0m\u001b[1;33m,\u001b[0m \u001b[0mentity1\u001b[0m\u001b[1;33m,\u001b[0m \u001b[0mentity2\u001b[0m\u001b[1;33m)\u001b[0m\u001b[1;33m:\u001b[0m\u001b[1;33m\u001b[0m\u001b[1;33m\u001b[0m\u001b[0m\n",
      "\u001b[1;32mc:\\users\\ddale\\appdata\\local\\programs\\python\\python36\\lib\\site-packages\\gensim\\utils.py\u001b[0m in \u001b[0;36mload\u001b[1;34m(cls, fname, mmap)\u001b[0m\n\u001b[0;32m    424\u001b[0m         \u001b[0mcompress\u001b[0m\u001b[1;33m,\u001b[0m \u001b[0msubname\u001b[0m \u001b[1;33m=\u001b[0m \u001b[0mSaveLoad\u001b[0m\u001b[1;33m.\u001b[0m\u001b[0m_adapt_by_suffix\u001b[0m\u001b[1;33m(\u001b[0m\u001b[0mfname\u001b[0m\u001b[1;33m)\u001b[0m\u001b[1;33m\u001b[0m\u001b[1;33m\u001b[0m\u001b[0m\n\u001b[0;32m    425\u001b[0m \u001b[1;33m\u001b[0m\u001b[0m\n\u001b[1;32m--> 426\u001b[1;33m         \u001b[0mobj\u001b[0m \u001b[1;33m=\u001b[0m \u001b[0munpickle\u001b[0m\u001b[1;33m(\u001b[0m\u001b[0mfname\u001b[0m\u001b[1;33m)\u001b[0m\u001b[1;33m\u001b[0m\u001b[1;33m\u001b[0m\u001b[0m\n\u001b[0m\u001b[0;32m    427\u001b[0m         \u001b[0mobj\u001b[0m\u001b[1;33m.\u001b[0m\u001b[0m_load_specials\u001b[0m\u001b[1;33m(\u001b[0m\u001b[0mfname\u001b[0m\u001b[1;33m,\u001b[0m \u001b[0mmmap\u001b[0m\u001b[1;33m,\u001b[0m \u001b[0mcompress\u001b[0m\u001b[1;33m,\u001b[0m \u001b[0msubname\u001b[0m\u001b[1;33m)\u001b[0m\u001b[1;33m\u001b[0m\u001b[1;33m\u001b[0m\u001b[0m\n\u001b[0;32m    428\u001b[0m         \u001b[0mlogger\u001b[0m\u001b[1;33m.\u001b[0m\u001b[0minfo\u001b[0m\u001b[1;33m(\u001b[0m\u001b[1;34m\"loaded %s\"\u001b[0m\u001b[1;33m,\u001b[0m \u001b[0mfname\u001b[0m\u001b[1;33m)\u001b[0m\u001b[1;33m\u001b[0m\u001b[1;33m\u001b[0m\u001b[0m\n",
      "\u001b[1;32mc:\\users\\ddale\\appdata\\local\\programs\\python\\python36\\lib\\site-packages\\gensim\\utils.py\u001b[0m in \u001b[0;36munpickle\u001b[1;34m(fname)\u001b[0m\n\u001b[0;32m   1382\u001b[0m         \u001b[1;31m# Because of loading from S3 load can't be used (missing readline in smart_open)\u001b[0m\u001b[1;33m\u001b[0m\u001b[1;33m\u001b[0m\u001b[1;33m\u001b[0m\u001b[0m\n\u001b[0;32m   1383\u001b[0m         \u001b[1;32mif\u001b[0m \u001b[0msys\u001b[0m\u001b[1;33m.\u001b[0m\u001b[0mversion_info\u001b[0m \u001b[1;33m>\u001b[0m \u001b[1;33m(\u001b[0m\u001b[1;36m3\u001b[0m\u001b[1;33m,\u001b[0m \u001b[1;36m0\u001b[0m\u001b[1;33m)\u001b[0m\u001b[1;33m:\u001b[0m\u001b[1;33m\u001b[0m\u001b[1;33m\u001b[0m\u001b[0m\n\u001b[1;32m-> 1384\u001b[1;33m             \u001b[1;32mreturn\u001b[0m \u001b[0m_pickle\u001b[0m\u001b[1;33m.\u001b[0m\u001b[0mload\u001b[0m\u001b[1;33m(\u001b[0m\u001b[0mf\u001b[0m\u001b[1;33m,\u001b[0m \u001b[0mencoding\u001b[0m\u001b[1;33m=\u001b[0m\u001b[1;34m'latin1'\u001b[0m\u001b[1;33m)\u001b[0m\u001b[1;33m\u001b[0m\u001b[1;33m\u001b[0m\u001b[0m\n\u001b[0m\u001b[0;32m   1385\u001b[0m         \u001b[1;32melse\u001b[0m\u001b[1;33m:\u001b[0m\u001b[1;33m\u001b[0m\u001b[1;33m\u001b[0m\u001b[0m\n\u001b[0;32m   1386\u001b[0m             \u001b[1;32mreturn\u001b[0m \u001b[0m_pickle\u001b[0m\u001b[1;33m.\u001b[0m\u001b[0mloads\u001b[0m\u001b[1;33m(\u001b[0m\u001b[0mf\u001b[0m\u001b[1;33m.\u001b[0m\u001b[0mread\u001b[0m\u001b[1;33m(\u001b[0m\u001b[1;33m)\u001b[0m\u001b[1;33m)\u001b[0m\u001b[1;33m\u001b[0m\u001b[1;33m\u001b[0m\u001b[0m\n",
      "\u001b[1;31mUnpicklingError\u001b[0m: invalid load key, '3'."
     ]
    }
   ],
   "source": [
    "import gensim\n",
    "# this is araneum 2018 ft model from rusvectores\n",
    "m = gensim.models.fasttext.FastTextKeyedVectors.load(\n",
    "    'C:/Users/ddale/Downloads/NLP/rusvectores/web.bin'\n",
    ")\n",
    "m.adjust_vectors()"
   ]
  },
  {
   "cell_type": "code",
   "execution_count": 399,
   "metadata": {},
   "outputs": [
    {
     "data": {
      "text/html": [
       "<div>\n",
       "<style scoped>\n",
       "    .dataframe tbody tr th:only-of-type {\n",
       "        vertical-align: middle;\n",
       "    }\n",
       "\n",
       "    .dataframe tbody tr th {\n",
       "        vertical-align: top;\n",
       "    }\n",
       "\n",
       "    .dataframe thead th {\n",
       "        text-align: right;\n",
       "    }\n",
       "</style>\n",
       "<table border=\"1\" class=\"dataframe\">\n",
       "  <thead>\n",
       "    <tr style=\"text-align: right;\">\n",
       "      <th></th>\n",
       "      <th>SYNSET_ID</th>\n",
       "      <th>TEXT</th>\n",
       "      <th>PARENTS</th>\n",
       "      <th>DEFINITION</th>\n",
       "      <th>parents_list</th>\n",
       "      <th>synset_hash</th>\n",
       "      <th>one_text</th>\n",
       "    </tr>\n",
       "  </thead>\n",
       "  <tbody>\n",
       "    <tr>\n",
       "      <th>425</th>\n",
       "      <td>108310-N</td>\n",
       "      <td>НОГОТКИ,КАЛЕНДУЛА</td>\n",
       "      <td>965-N,144172-N</td>\n",
       "      <td>NaN</td>\n",
       "      <td>[965-N, 144172-N]</td>\n",
       "      <td>0.804773</td>\n",
       "      <td>КАЛЕНДУЛА</td>\n",
       "    </tr>\n",
       "    <tr>\n",
       "      <th>426</th>\n",
       "      <td>108310-N</td>\n",
       "      <td>НОГОТКИ,КАЛЕНДУЛА</td>\n",
       "      <td>4789-N,144172-N</td>\n",
       "      <td>NaN</td>\n",
       "      <td>[4789-N, 144172-N]</td>\n",
       "      <td>0.804773</td>\n",
       "      <td>КАЛЕНДУЛА</td>\n",
       "    </tr>\n",
       "  </tbody>\n",
       "</table>\n",
       "</div>"
      ],
      "text/plain": [
       "    SYNSET_ID               TEXT          PARENTS DEFINITION  \\\n",
       "425  108310-N  НОГОТКИ,КАЛЕНДУЛА   965-N,144172-N        NaN   \n",
       "426  108310-N  НОГОТКИ,КАЛЕНДУЛА  4789-N,144172-N        NaN   \n",
       "\n",
       "           parents_list  synset_hash   one_text  \n",
       "425   [965-N, 144172-N]     0.804773  КАЛЕНДУЛА  \n",
       "426  [4789-N, 144172-N]     0.804773  КАЛЕНДУЛА  "
      ]
     },
     "execution_count": 399,
     "metadata": {},
     "output_type": "execute_result"
    }
   ],
   "source": [
    "s = ttest_dev.sample(1).SYNSET_ID.iloc[0]\n",
    "d = ttest_dev[ttest_dev.SYNSET_ID==s]\n",
    "d\n"
   ]
  },
  {
   "cell_type": "code",
   "execution_count": 400,
   "metadata": {},
   "outputs": [
    {
     "name": "stdout",
     "output_type": "stream",
     "text": [
      "ЦВЕТКОВОЕ РАСТЕНИЕ | РАСТЕНИЕ\n",
      "ТРАВЯНИСТОЕ РАСТЕНИЕ | РАСТЕНИЕ\n"
     ]
    }
   ],
   "source": [
    "for pp in d.parents_list:\n",
    "    print(' | '.join([ id2synset[c]['@ruthes_name'] for c in pp]))"
   ]
  },
  {
   "cell_type": "code",
   "execution_count": 401,
   "metadata": {},
   "outputs": [
    {
     "data": {
      "text/plain": [
       "'Календула, или Ноготки (лат. Caléndula) — род травянистых растений семейства Астровые (Asteraceae).\\n'"
      ]
     },
     "execution_count": 401,
     "metadata": {},
     "output_type": "execute_result"
    }
   ],
   "source": [
    "get_definition(d.one_text.iloc[0], mobile=False)"
   ]
  },
  {
   "cell_type": "code",
   "execution_count": 402,
   "metadata": {},
   "outputs": [
    {
     "data": {
      "text/plain": [
       "OrderedDict([('@id', '142193-N'),\n",
       "             ('@ruthes_name', 'ЕВРОПЕЙСКАЯ СТРАНА'),\n",
       "             ('@definition', ''),\n",
       "             ('@part_of_speech', 'N'),\n",
       "             ('sense',\n",
       "              [OrderedDict([('@id', '142193-N-216006'),\n",
       "                            ('#text', 'ГОСУДАРСТВО ЕВРОПА')]),\n",
       "               OrderedDict([('@id', '142193-N-216000'),\n",
       "                            ('#text', 'СТРАНА ЕВРОПА')]),\n",
       "               OrderedDict([('@id', '142193-N-216005'),\n",
       "                            ('#text', 'ЕВРОПЕЙСКИЙ ГОСУДАРСТВО')]),\n",
       "               OrderedDict([('@id', '142193-N-215999'),\n",
       "                            ('#text', 'ЕВРОПЕЙСКИЙ СТРАНА')])])])"
      ]
     },
     "execution_count": 402,
     "metadata": {},
     "output_type": "execute_result"
    }
   ],
   "source": [
    "id2synset['142193-N']"
   ]
  },
  {
   "cell_type": "code",
   "execution_count": null,
   "metadata": {},
   "outputs": [],
   "source": []
  }
 ],
 "metadata": {
  "kernelspec": {
   "display_name": "Python 3",
   "language": "python",
   "name": "python3"
  },
  "language_info": {
   "codemirror_mode": {
    "name": "ipython",
    "version": 3
   },
   "file_extension": ".py",
   "mimetype": "text/x-python",
   "name": "python",
   "nbconvert_exporter": "python",
   "pygments_lexer": "ipython3",
   "version": "3.6.8"
  }
 },
 "nbformat": 4,
 "nbformat_minor": 2
}
