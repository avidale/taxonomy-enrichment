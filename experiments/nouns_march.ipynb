{
 "cells": [
  {
   "cell_type": "code",
   "execution_count": 1,
   "metadata": {},
   "outputs": [],
   "source": [
    "import pandas as pd\n",
    "import numpy as np\n",
    "import pickle\n",
    "from collections import Counter, defaultdict"
   ]
  },
  {
   "cell_type": "code",
   "execution_count": 2,
   "metadata": {},
   "outputs": [],
   "source": [
    "import sys\n",
    "import os\n",
    "def add_sys_path(p):\n",
    "    p = os.path.abspath(p)\n",
    "    if p not in sys.path:\n",
    "        sys.path.append(p)\n",
    "\n",
    "add_sys_path('..')"
   ]
  },
  {
   "cell_type": "code",
   "execution_count": 3,
   "metadata": {},
   "outputs": [],
   "source": [
    "import evaluate"
   ]
  },
  {
   "cell_type": "code",
   "execution_count": 4,
   "metadata": {},
   "outputs": [],
   "source": [
    "import data_split"
   ]
  },
  {
   "cell_type": "code",
   "execution_count": 5,
   "metadata": {},
   "outputs": [],
   "source": [
    "from evaluate import read_dataset"
   ]
  },
  {
   "cell_type": "code",
   "execution_count": 6,
   "metadata": {},
   "outputs": [],
   "source": [
    "import json"
   ]
  },
  {
   "cell_type": "code",
   "execution_count": 29,
   "metadata": {},
   "outputs": [],
   "source": [
    "from tqdm.auto import tqdm, trange"
   ]
  },
  {
   "cell_type": "markdown",
   "metadata": {},
   "source": [
    "# Чтение и сплит данных"
   ]
  },
  {
   "cell_type": "code",
   "execution_count": 9,
   "metadata": {},
   "outputs": [],
   "source": [
    "n_ds = read_dataset('../data/training_data/training_nouns.tsv',  lambda x: json.loads(x))"
   ]
  },
  {
   "cell_type": "code",
   "execution_count": 10,
   "metadata": {},
   "outputs": [
    {
     "data": {
      "text/plain": [
       "25376"
      ]
     },
     "execution_count": 10,
     "metadata": {},
     "output_type": "execute_result"
    }
   ],
   "source": [
    "len(n_ds)"
   ]
  },
  {
   "cell_type": "code",
   "execution_count": 11,
   "metadata": {},
   "outputs": [],
   "source": [
    "train_share = 0.8\n",
    "dev_share = 0.02\n",
    "test1_share = 0.02\n",
    "test2_share = 0.02\n",
    "hid_share = 0.14\n",
    "\n",
    "assert train_share + dev_share + test1_share + test2_share + hid_share == 1"
   ]
  },
  {
   "cell_type": "code",
   "execution_count": 12,
   "metadata": {},
   "outputs": [],
   "source": [
    "from data_split import hash_float"
   ]
  },
  {
   "cell_type": "code",
   "execution_count": 13,
   "metadata": {},
   "outputs": [],
   "source": [
    "train, dev, test1, test2, hid = {}, {}, {} , {}, {}\n",
    "\n",
    "for k, v in n_ds.items():\n",
    "    h = hash_float(k)\n",
    "    if h <= train_share:\n",
    "        train[k] = v\n",
    "    elif h <= train_share + dev_share:\n",
    "        dev[k] = v\n",
    "    elif h <= train_share + dev_share + test1_share:\n",
    "        test1[k] = v\n",
    "    elif h <= train_share + dev_share + test1_share + test2_share:\n",
    "        test2[k] = v\n",
    "    else:\n",
    "        hid[k] = v"
   ]
  },
  {
   "cell_type": "markdown",
   "metadata": {},
   "source": [
    "# Применение бейзлайна"
   ]
  },
  {
   "cell_type": "code",
   "execution_count": 14,
   "metadata": {},
   "outputs": [
    {
     "data": {
      "text/plain": [
       "<module 'my_knn' from 'C:\\\\Users\\\\ddale\\\\YandexDisk\\\\code\\\\NLP\\\\taxonomy-enrichment\\\\experiments\\\\my_knn.py'>"
      ]
     },
     "execution_count": 14,
     "metadata": {},
     "output_type": "execute_result"
    }
   ],
   "source": [
    "import my_knn\n",
    "from importlib import reload\n",
    "reload(my_knn)"
   ]
  },
  {
   "cell_type": "code",
   "execution_count": 15,
   "metadata": {},
   "outputs": [],
   "source": [
    "import gensim\n",
    "# this is araneum 2018 ft model from rusvectores\n",
    "ft = gensim.models.fasttext.FastTextKeyedVectors.load(\n",
    "    'C:/Users/ddale/Downloads/NLP/rusvectores/model.model'\n",
    ")"
   ]
  },
  {
   "cell_type": "code",
   "execution_count": 16,
   "metadata": {},
   "outputs": [],
   "source": [
    "embedder = my_knn.SentenceEmbedder(ft=ft, n=300)"
   ]
  },
  {
   "cell_type": "code",
   "execution_count": 17,
   "metadata": {},
   "outputs": [
    {
     "data": {
      "text/plain": [
       "(300,)"
      ]
     },
     "execution_count": 17,
     "metadata": {},
     "output_type": "execute_result"
    }
   ],
   "source": [
    "embedder('привет как дела').shape"
   ]
  },
  {
   "cell_type": "code",
   "execution_count": 21,
   "metadata": {},
   "outputs": [],
   "source": [
    "import xmltodict\n",
    "with open('../data/ruwordnet/synsets.N.xml', 'r', encoding='utf-8') as f:\n",
    "    synsets_n_raw = xmltodict.parse(f.read(), process_namespaces=True)"
   ]
  },
  {
   "cell_type": "code",
   "execution_count": 22,
   "metadata": {},
   "outputs": [],
   "source": [
    "with open('../data/ruwordnet/synset_relations.N.xml', 'r', encoding='utf-8') as f:\n",
    "    rel_n_raw = xmltodict.parse(f.read(), process_namespaces=True)"
   ]
  },
  {
   "cell_type": "code",
   "execution_count": 23,
   "metadata": {},
   "outputs": [
    {
     "name": "stdout",
     "output_type": "stream",
     "text": [
      "29296 119273\n"
     ]
    }
   ],
   "source": [
    "syns_storage = my_knn.SynsetStorage.construct(synsets_n_raw)"
   ]
  },
  {
   "cell_type": "code",
   "execution_count": 24,
   "metadata": {},
   "outputs": [],
   "source": [
    "rel_df = my_knn.make_rel_df(rel_n_raw, syns_storage.id2synset)"
   ]
  },
  {
   "cell_type": "code",
   "execution_count": 25,
   "metadata": {},
   "outputs": [
    {
     "data": {
      "text/html": [
       "<div>\n",
       "<style scoped>\n",
       "    .dataframe tbody tr th:only-of-type {\n",
       "        vertical-align: middle;\n",
       "    }\n",
       "\n",
       "    .dataframe tbody tr th {\n",
       "        vertical-align: top;\n",
       "    }\n",
       "\n",
       "    .dataframe thead th {\n",
       "        text-align: right;\n",
       "    }\n",
       "</style>\n",
       "<table border=\"1\" class=\"dataframe\">\n",
       "  <thead>\n",
       "    <tr style=\"text-align: right;\">\n",
       "      <th></th>\n",
       "      <th>@parent_id</th>\n",
       "      <th>@child_id</th>\n",
       "      <th>@name</th>\n",
       "      <th>parent</th>\n",
       "      <th>child</th>\n",
       "    </tr>\n",
       "  </thead>\n",
       "  <tbody>\n",
       "    <tr>\n",
       "      <th>0</th>\n",
       "      <td>147272-N</td>\n",
       "      <td>147272-A</td>\n",
       "      <td>POS-synonymy</td>\n",
       "      <td>КРЕСТНЫЙ РОДИТЕЛЬ</td>\n",
       "      <td>None</td>\n",
       "    </tr>\n",
       "    <tr>\n",
       "      <th>1</th>\n",
       "      <td>147272-N</td>\n",
       "      <td>4544-N</td>\n",
       "      <td>hypernym</td>\n",
       "      <td>КРЕСТНЫЙ РОДИТЕЛЬ</td>\n",
       "      <td>ХРИСТИАНИН</td>\n",
       "    </tr>\n",
       "    <tr>\n",
       "      <th>2</th>\n",
       "      <td>147272-N</td>\n",
       "      <td>126551-N</td>\n",
       "      <td>hyponym</td>\n",
       "      <td>КРЕСТНЫЙ РОДИТЕЛЬ</td>\n",
       "      <td>КРЕСТНЫЙ ОТЕЦ</td>\n",
       "    </tr>\n",
       "    <tr>\n",
       "      <th>3</th>\n",
       "      <td>147272-N</td>\n",
       "      <td>2201-N</td>\n",
       "      <td>domain</td>\n",
       "      <td>КРЕСТНЫЙ РОДИТЕЛЬ</td>\n",
       "      <td>РЕЛИГИЯ</td>\n",
       "    </tr>\n",
       "    <tr>\n",
       "      <th>4</th>\n",
       "      <td>147272-N</td>\n",
       "      <td>1150-N</td>\n",
       "      <td>domain</td>\n",
       "      <td>КРЕСТНЫЙ РОДИТЕЛЬ</td>\n",
       "      <td>ХРИСТИАНСТВО</td>\n",
       "    </tr>\n",
       "  </tbody>\n",
       "</table>\n",
       "</div>"
      ],
      "text/plain": [
       "  @parent_id @child_id         @name             parent          child\n",
       "0   147272-N  147272-A  POS-synonymy  КРЕСТНЫЙ РОДИТЕЛЬ           None\n",
       "1   147272-N    4544-N      hypernym  КРЕСТНЫЙ РОДИТЕЛЬ     ХРИСТИАНИН\n",
       "2   147272-N  126551-N       hyponym  КРЕСТНЫЙ РОДИТЕЛЬ  КРЕСТНЫЙ ОТЕЦ\n",
       "3   147272-N    2201-N        domain  КРЕСТНЫЙ РОДИТЕЛЬ        РЕЛИГИЯ\n",
       "4   147272-N    1150-N        domain  КРЕСТНЫЙ РОДИТЕЛЬ   ХРИСТИАНСТВО"
      ]
     },
     "execution_count": 25,
     "metadata": {},
     "output_type": "execute_result"
    }
   ],
   "source": [
    "rel_df.head()"
   ]
  },
  {
   "cell_type": "code",
   "execution_count": 26,
   "metadata": {},
   "outputs": [
    {
     "data": {
      "application/vnd.jupyter.widget-view+json": {
       "model_id": "ca1d0b252e8540349f280cbed54c15a8",
       "version_major": 2,
       "version_minor": 0
      },
      "text/plain": [
       "HBox(children=(FloatProgress(value=1.0, bar_style='info', max=1.0), HTML(value='')))"
      ]
     },
     "metadata": {},
     "output_type": "display_data"
    },
    {
     "name": "stdout",
     "output_type": "stream",
     "text": [
      "\n",
      "28118\n",
      "555\n",
      "5\n",
      "37249\n"
     ]
    }
   ],
   "source": [
    "rel_storage = my_knn.RelationStorage() # todo: add forbidden_id\n",
    "rel_storage.construct_relations(rel_df)"
   ]
  },
  {
   "cell_type": "code",
   "execution_count": 27,
   "metadata": {},
   "outputs": [
    {
     "data": {
      "text/plain": [
       "119273"
      ]
     },
     "execution_count": 27,
     "metadata": {},
     "output_type": "execute_result"
    }
   ],
   "source": [
    "len(syns_storage.texts_long)"
   ]
  },
  {
   "cell_type": "code",
   "execution_count": 30,
   "metadata": {},
   "outputs": [
    {
     "data": {
      "application/vnd.jupyter.widget-view+json": {
       "model_id": "a0f8eac48db44b3d8061eb5557990fe0",
       "version_major": 2,
       "version_minor": 0
      },
      "text/plain": [
       "HBox(children=(FloatProgress(value=0.0, max=119273.0), HTML(value='')))"
      ]
     },
     "metadata": {},
     "output_type": "display_data"
    },
    {
     "name": "stdout",
     "output_type": "stream",
     "text": [
      "\n"
     ]
    }
   ],
   "source": [
    "vecs = np.stack([embedder(t) for t in tqdm(syns_storage.texts_long) ])"
   ]
  },
  {
   "cell_type": "code",
   "execution_count": 31,
   "metadata": {},
   "outputs": [],
   "source": [
    "from sklearn.neighbors import KDTree\n",
    "tree = KDTree(vecs)"
   ]
  },
  {
   "cell_type": "code",
   "execution_count": 33,
   "metadata": {},
   "outputs": [
    {
     "data": {
      "text/plain": [
       "['1256-N', '8218-N', '109873-N', '108194-N', '4024-N', '108612-N', '108091-N']"
      ]
     },
     "execution_count": 33,
     "metadata": {},
     "output_type": "execute_result"
    }
   ],
   "source": [
    "hypos = my_knn.hypotheses_knn('брюки', index=tree, text2vec=embedder, synset_storage=syns_storage, rel_storage=rel_storage)\n",
    "hypos"
   ]
  },
  {
   "cell_type": "code",
   "execution_count": 34,
   "metadata": {},
   "outputs": [
    {
     "name": "stdout",
     "output_type": "stream",
     "text": [
      "ОДЕЖДА\n",
      "ИЗДЕЛИЕ ЛЕГКОЙ ПРОМЫШЛЕННОСТИ\n",
      "ИЗДЕЛИЕ\n",
      "ШТАНЫ, БРЮКИ\n",
      "ВЕРХНЯЯ ОДЕЖДА\n",
      "КОСТЮМ (ОДЕЖДА)\n",
      "ЖЕНСКАЯ ОДЕЖДА\n"
     ]
    }
   ],
   "source": [
    "for id in hypos:\n",
    "    print(syns_storage.id2synset[id]['@ruthes_name'])"
   ]
  },
  {
   "cell_type": "code",
   "execution_count": 35,
   "metadata": {},
   "outputs": [
    {
     "name": "stdout",
     "output_type": "stream",
     "text": [
      "0.9996719160104987 1.0\n"
     ]
    }
   ],
   "source": [
    "# проверка, что сравнение само с собой всегда получает скор 1\n",
    "dev_pred = {k: [v0 for val in vals for v0 in val] for k, vals in dev.items()}\n",
    "mean_ap, mean_rr = evaluate.get_score(dev, dev_pred, k=10)\n",
    "print(mean_ap, mean_rr)"
   ]
  },
  {
   "cell_type": "code",
   "execution_count": 36,
   "metadata": {},
   "outputs": [
    {
     "data": {
      "application/vnd.jupyter.widget-view+json": {
       "model_id": "7386815c4cf04f33a3567a6865be7c0e",
       "version_major": 2,
       "version_minor": 0
      },
      "text/plain": [
       "HBox(children=(FloatProgress(value=0.0, max=508.0), HTML(value='')))"
      ]
     },
     "metadata": {},
     "output_type": "display_data"
    },
    {
     "name": "stdout",
     "output_type": "stream",
     "text": [
      "\n"
     ]
    }
   ],
   "source": [
    "#texts = ttest_test1.one_text.drop_duplicates()\n",
    "texts = sorted(dev.keys())\n",
    "small_hypos = {\n",
    "    txt: \n",
    "    my_knn.hypotheses_knn(\n",
    "        txt, \n",
    "        index=tree, text2vec=embedder, synset_storage=syns_storage, rel_storage=rel_storage,\n",
    "        decay=3, \n",
    "        k=100, \n",
    "        grand_mult=0.5,\n",
    "    )  \n",
    "    for txt in tqdm(texts)\n",
    "}\n"
   ]
  },
  {
   "cell_type": "code",
   "execution_count": 37,
   "metadata": {},
   "outputs": [
    {
     "name": "stdout",
     "output_type": "stream",
     "text": [
      "0.5949077979835851 0.6197334708161476\n"
     ]
    }
   ],
   "source": [
    "mean_ap, mean_rr = evaluate.get_score(dev, small_hypos, k=10)\n",
    "print(mean_ap, mean_rr)"
   ]
  },
  {
   "cell_type": "markdown",
   "metadata": {},
   "source": [
    "# Оценка применения"
   ]
  },
  {
   "cell_type": "code",
   "execution_count": 38,
   "metadata": {},
   "outputs": [],
   "source": [
    "public_test_verbs = pd.read_csv('../data/public_test/nouns_public.tsv', header=None)\n",
    "public_test_verbs.columns = ['text']"
   ]
  },
  {
   "cell_type": "code",
   "execution_count": 39,
   "metadata": {},
   "outputs": [
    {
     "data": {
      "application/vnd.jupyter.widget-view+json": {
       "model_id": "b88fd6cca6dd4eccad71eb9eb6905ecb",
       "version_major": 2,
       "version_minor": 0
      },
      "text/plain": [
       "HBox(children=(FloatProgress(value=0.0, max=762.0), HTML(value='')))"
      ]
     },
     "metadata": {},
     "output_type": "display_data"
    },
    {
     "name": "stdout",
     "output_type": "stream",
     "text": [
      "\n"
     ]
    }
   ],
   "source": [
    "public_test_hypos = {\n",
    "    txt: \n",
    "    my_knn.hypotheses_knn(\n",
    "        txt, \n",
    "        index=tree, text2vec=embedder, synset_storage=syns_storage, rel_storage=rel_storage,\n",
    "        decay=3, \n",
    "        k=100, \n",
    "        grand_mult=0.5,\n",
    "    )  \n",
    "    for txt in tqdm(public_test_verbs.text)\n",
    "}"
   ]
  },
  {
   "cell_type": "code",
   "execution_count": 40,
   "metadata": {},
   "outputs": [],
   "source": [
    "sub = my_knn.dict2submission(public_test_hypos, syns_storage.id2synset)"
   ]
  },
  {
   "cell_type": "code",
   "execution_count": 41,
   "metadata": {},
   "outputs": [
    {
     "data": {
      "text/html": [
       "<div>\n",
       "<style scoped>\n",
       "    .dataframe tbody tr th:only-of-type {\n",
       "        vertical-align: middle;\n",
       "    }\n",
       "\n",
       "    .dataframe tbody tr th {\n",
       "        vertical-align: top;\n",
       "    }\n",
       "\n",
       "    .dataframe thead th {\n",
       "        text-align: right;\n",
       "    }\n",
       "</style>\n",
       "<table border=\"1\" class=\"dataframe\">\n",
       "  <thead>\n",
       "    <tr style=\"text-align: right;\">\n",
       "      <th></th>\n",
       "      <th>noun</th>\n",
       "      <th>result</th>\n",
       "      <th>result_text</th>\n",
       "    </tr>\n",
       "  </thead>\n",
       "  <tbody>\n",
       "    <tr>\n",
       "      <th>0</th>\n",
       "      <td>АБДОМИНОПЛАСТИКА</td>\n",
       "      <td>106536-N</td>\n",
       "      <td>МАТЕРИАЛ ДЛЯ ИЗГОТОВЛЕНИЯ</td>\n",
       "    </tr>\n",
       "    <tr>\n",
       "      <th>1</th>\n",
       "      <td>АБДОМИНОПЛАСТИКА</td>\n",
       "      <td>919-N</td>\n",
       "      <td>СИНТЕТИЧЕСКИЕ МАТЕРИАЛЫ</td>\n",
       "    </tr>\n",
       "    <tr>\n",
       "      <th>2</th>\n",
       "      <td>АБДОМИНОПЛАСТИКА</td>\n",
       "      <td>132393-N</td>\n",
       "      <td>ПРОДУКЦИЯ ПРОИЗВОДСТВЕННО-ТЕХНИЧЕСКОГО НАЗНАЧЕНИЯ</td>\n",
       "    </tr>\n",
       "    <tr>\n",
       "      <th>3</th>\n",
       "      <td>АБДОМИНОПЛАСТИКА</td>\n",
       "      <td>540-N</td>\n",
       "      <td>ИСКУССТВО</td>\n",
       "    </tr>\n",
       "    <tr>\n",
       "      <th>4</th>\n",
       "      <td>АБДОМИНОПЛАСТИКА</td>\n",
       "      <td>118950-N</td>\n",
       "      <td>КРАСОТА, КРАСА</td>\n",
       "    </tr>\n",
       "    <tr>\n",
       "      <th>...</th>\n",
       "      <td>...</td>\n",
       "      <td>...</td>\n",
       "      <td>...</td>\n",
       "    </tr>\n",
       "    <tr>\n",
       "      <th>7615</th>\n",
       "      <td>ЯТАГАН</td>\n",
       "      <td>106554-N</td>\n",
       "      <td>ПРЕДМЕТ, ВЕЩЬ</td>\n",
       "    </tr>\n",
       "    <tr>\n",
       "      <th>7616</th>\n",
       "      <td>ЯТАГАН</td>\n",
       "      <td>153018-N</td>\n",
       "      <td>РУБЯЩЕЕ ОРУЖИЕ</td>\n",
       "    </tr>\n",
       "    <tr>\n",
       "      <th>7617</th>\n",
       "      <td>ЯТАГАН</td>\n",
       "      <td>107709-N</td>\n",
       "      <td>ПАЛКА (ПРЕДМЕТ)</td>\n",
       "    </tr>\n",
       "    <tr>\n",
       "      <th>7618</th>\n",
       "      <td>ЯТАГАН</td>\n",
       "      <td>153561-N</td>\n",
       "      <td>ПИРОТЕХНИЧЕСКИЕ ИЗДЕЛИЯ</td>\n",
       "    </tr>\n",
       "    <tr>\n",
       "      <th>7619</th>\n",
       "      <td>ЯТАГАН</td>\n",
       "      <td>819-N</td>\n",
       "      <td>ВЗРЫВЧАТОЕ ВЕЩЕСТВО</td>\n",
       "    </tr>\n",
       "  </tbody>\n",
       "</table>\n",
       "<p>7620 rows × 3 columns</p>\n",
       "</div>"
      ],
      "text/plain": [
       "                  noun    result  \\\n",
       "0     АБДОМИНОПЛАСТИКА  106536-N   \n",
       "1     АБДОМИНОПЛАСТИКА     919-N   \n",
       "2     АБДОМИНОПЛАСТИКА  132393-N   \n",
       "3     АБДОМИНОПЛАСТИКА     540-N   \n",
       "4     АБДОМИНОПЛАСТИКА  118950-N   \n",
       "...                ...       ...   \n",
       "7615            ЯТАГАН  106554-N   \n",
       "7616            ЯТАГАН  153018-N   \n",
       "7617            ЯТАГАН  107709-N   \n",
       "7618            ЯТАГАН  153561-N   \n",
       "7619            ЯТАГАН     819-N   \n",
       "\n",
       "                                            result_text  \n",
       "0                             МАТЕРИАЛ ДЛЯ ИЗГОТОВЛЕНИЯ  \n",
       "1                               СИНТЕТИЧЕСКИЕ МАТЕРИАЛЫ  \n",
       "2     ПРОДУКЦИЯ ПРОИЗВОДСТВЕННО-ТЕХНИЧЕСКОГО НАЗНАЧЕНИЯ  \n",
       "3                                             ИСКУССТВО  \n",
       "4                                        КРАСОТА, КРАСА  \n",
       "...                                                 ...  \n",
       "7615                                      ПРЕДМЕТ, ВЕЩЬ  \n",
       "7616                                     РУБЯЩЕЕ ОРУЖИЕ  \n",
       "7617                                    ПАЛКА (ПРЕДМЕТ)  \n",
       "7618                            ПИРОТЕХНИЧЕСКИЕ ИЗДЕЛИЯ  \n",
       "7619                                ВЗРЫВЧАТОЕ ВЕЩЕСТВО  \n",
       "\n",
       "[7620 rows x 3 columns]"
      ]
     },
     "execution_count": 41,
     "metadata": {},
     "output_type": "execute_result"
    }
   ],
   "source": [
    "sub"
   ]
  },
  {
   "cell_type": "code",
   "execution_count": 42,
   "metadata": {},
   "outputs": [
    {
     "data": {
      "text/html": [
       "<div>\n",
       "<style scoped>\n",
       "    .dataframe tbody tr th:only-of-type {\n",
       "        vertical-align: middle;\n",
       "    }\n",
       "\n",
       "    .dataframe tbody tr th {\n",
       "        vertical-align: top;\n",
       "    }\n",
       "\n",
       "    .dataframe thead th {\n",
       "        text-align: right;\n",
       "    }\n",
       "</style>\n",
       "<table border=\"1\" class=\"dataframe\">\n",
       "  <thead>\n",
       "    <tr style=\"text-align: right;\">\n",
       "      <th></th>\n",
       "      <th>noun</th>\n",
       "      <th>result</th>\n",
       "      <th>result_text</th>\n",
       "    </tr>\n",
       "  </thead>\n",
       "  <tbody>\n",
       "    <tr>\n",
       "      <th>0</th>\n",
       "      <td>АБДОМИНОПЛАСТИКА</td>\n",
       "      <td>106536-N</td>\n",
       "      <td>МАТЕРИАЛ ДЛЯ ИЗГОТОВЛЕНИЯ</td>\n",
       "    </tr>\n",
       "    <tr>\n",
       "      <th>1</th>\n",
       "      <td>АБДОМИНОПЛАСТИКА</td>\n",
       "      <td>919-N</td>\n",
       "      <td>СИНТЕТИЧЕСКИЕ МАТЕРИАЛЫ</td>\n",
       "    </tr>\n",
       "    <tr>\n",
       "      <th>2</th>\n",
       "      <td>АБДОМИНОПЛАСТИКА</td>\n",
       "      <td>132393-N</td>\n",
       "      <td>ПРОДУКЦИЯ ПРОИЗВОДСТВЕННО-ТЕХНИЧЕСКОГО НАЗНАЧЕНИЯ</td>\n",
       "    </tr>\n",
       "    <tr>\n",
       "      <th>3</th>\n",
       "      <td>АБДОМИНОПЛАСТИКА</td>\n",
       "      <td>540-N</td>\n",
       "      <td>ИСКУССТВО</td>\n",
       "    </tr>\n",
       "    <tr>\n",
       "      <th>4</th>\n",
       "      <td>АБДОМИНОПЛАСТИКА</td>\n",
       "      <td>118950-N</td>\n",
       "      <td>КРАСОТА, КРАСА</td>\n",
       "    </tr>\n",
       "    <tr>\n",
       "      <th>5</th>\n",
       "      <td>АБДОМИНОПЛАСТИКА</td>\n",
       "      <td>511-N</td>\n",
       "      <td>НОСИТЕЛЬ ИНФОРМАЦИИ</td>\n",
       "    </tr>\n",
       "    <tr>\n",
       "      <th>6</th>\n",
       "      <td>АБДОМИНОПЛАСТИКА</td>\n",
       "      <td>920-N</td>\n",
       "      <td>ПЛАСТМАССА</td>\n",
       "    </tr>\n",
       "    <tr>\n",
       "      <th>7</th>\n",
       "      <td>АБДОМИНОПЛАСТИКА</td>\n",
       "      <td>4241-N</td>\n",
       "      <td>МАГНИТНЫЙ НОСИТЕЛЬ</td>\n",
       "    </tr>\n",
       "    <tr>\n",
       "      <th>8</th>\n",
       "      <td>АБДОМИНОПЛАСТИКА</td>\n",
       "      <td>110935-N</td>\n",
       "      <td>ПИСЬМЕННЫЕ ПРИНАДЛЕЖНОСТИ</td>\n",
       "    </tr>\n",
       "    <tr>\n",
       "      <th>9</th>\n",
       "      <td>АБДОМИНОПЛАСТИКА</td>\n",
       "      <td>144594-N</td>\n",
       "      <td>КОСМЕТИЧЕСКАЯ ОПЕРАЦИЯ</td>\n",
       "    </tr>\n",
       "    <tr>\n",
       "      <th>10</th>\n",
       "      <td>АБСОРБЕНТ</td>\n",
       "      <td>820-N</td>\n",
       "      <td>ВЕЩЕСТВО</td>\n",
       "    </tr>\n",
       "    <tr>\n",
       "      <th>11</th>\n",
       "      <td>АБСОРБЕНТ</td>\n",
       "      <td>461-N</td>\n",
       "      <td>ГАЗООБРАЗНОЕ ВЕЩЕСТВО</td>\n",
       "    </tr>\n",
       "    <tr>\n",
       "      <th>12</th>\n",
       "      <td>АБСОРБЕНТ</td>\n",
       "      <td>124326-N</td>\n",
       "      <td>ОКСИДЫ</td>\n",
       "    </tr>\n",
       "    <tr>\n",
       "      <th>13</th>\n",
       "      <td>АБСОРБЕНТ</td>\n",
       "      <td>108760-N</td>\n",
       "      <td>ХИМИЧЕСКОЕ СОЕДИНЕНИЕ</td>\n",
       "    </tr>\n",
       "    <tr>\n",
       "      <th>14</th>\n",
       "      <td>АБСОРБЕНТ</td>\n",
       "      <td>959-N</td>\n",
       "      <td>ВРЕДНОЕ ВЕЩЕСТВО</td>\n",
       "    </tr>\n",
       "  </tbody>\n",
       "</table>\n",
       "</div>"
      ],
      "text/plain": [
       "                noun    result  \\\n",
       "0   АБДОМИНОПЛАСТИКА  106536-N   \n",
       "1   АБДОМИНОПЛАСТИКА     919-N   \n",
       "2   АБДОМИНОПЛАСТИКА  132393-N   \n",
       "3   АБДОМИНОПЛАСТИКА     540-N   \n",
       "4   АБДОМИНОПЛАСТИКА  118950-N   \n",
       "5   АБДОМИНОПЛАСТИКА     511-N   \n",
       "6   АБДОМИНОПЛАСТИКА     920-N   \n",
       "7   АБДОМИНОПЛАСТИКА    4241-N   \n",
       "8   АБДОМИНОПЛАСТИКА  110935-N   \n",
       "9   АБДОМИНОПЛАСТИКА  144594-N   \n",
       "10         АБСОРБЕНТ     820-N   \n",
       "11         АБСОРБЕНТ     461-N   \n",
       "12         АБСОРБЕНТ  124326-N   \n",
       "13         АБСОРБЕНТ  108760-N   \n",
       "14         АБСОРБЕНТ     959-N   \n",
       "\n",
       "                                          result_text  \n",
       "0                           МАТЕРИАЛ ДЛЯ ИЗГОТОВЛЕНИЯ  \n",
       "1                             СИНТЕТИЧЕСКИЕ МАТЕРИАЛЫ  \n",
       "2   ПРОДУКЦИЯ ПРОИЗВОДСТВЕННО-ТЕХНИЧЕСКОГО НАЗНАЧЕНИЯ  \n",
       "3                                           ИСКУССТВО  \n",
       "4                                      КРАСОТА, КРАСА  \n",
       "5                                 НОСИТЕЛЬ ИНФОРМАЦИИ  \n",
       "6                                          ПЛАСТМАССА  \n",
       "7                                  МАГНИТНЫЙ НОСИТЕЛЬ  \n",
       "8                           ПИСЬМЕННЫЕ ПРИНАДЛЕЖНОСТИ  \n",
       "9                              КОСМЕТИЧЕСКАЯ ОПЕРАЦИЯ  \n",
       "10                                           ВЕЩЕСТВО  \n",
       "11                              ГАЗООБРАЗНОЕ ВЕЩЕСТВО  \n",
       "12                                             ОКСИДЫ  \n",
       "13                              ХИМИЧЕСКОЕ СОЕДИНЕНИЕ  \n",
       "14                                   ВРЕДНОЕ ВЕЩЕСТВО  "
      ]
     },
     "execution_count": 42,
     "metadata": {},
     "output_type": "execute_result"
    }
   ],
   "source": [
    "sub.to_csv('results/nouns_v0_strange.tsv', sep='\\t', encoding='utf-8', header=None, index=None)\n",
    "sub.head(15)"
   ]
  },
  {
   "cell_type": "markdown",
   "metadata": {},
   "source": [
    "# Финальная заливка"
   ]
  },
  {
   "cell_type": "code",
   "execution_count": 48,
   "metadata": {},
   "outputs": [],
   "source": [
    "private_test_verbs = pd.read_csv('../data/private_test/nouns_private.tsv', header=None)\n",
    "private_test_verbs.columns = ['text']"
   ]
  },
  {
   "cell_type": "code",
   "execution_count": 44,
   "metadata": {},
   "outputs": [
    {
     "data": {
      "application/vnd.jupyter.widget-view+json": {
       "model_id": "578a41de2772425dad03e8a0c09a6590",
       "version_major": 2,
       "version_minor": 0
      },
      "text/plain": [
       "HBox(children=(FloatProgress(value=0.0, max=1525.0), HTML(value='')))"
      ]
     },
     "metadata": {},
     "output_type": "display_data"
    },
    {
     "name": "stdout",
     "output_type": "stream",
     "text": [
      "\n"
     ]
    }
   ],
   "source": [
    "private_test_hypos = {\n",
    "    txt: \n",
    "    my_knn.hypotheses_knn(\n",
    "        txt, \n",
    "        index=tree, text2vec=embedder, synset_storage=syns_storage, rel_storage=rel_storage,\n",
    "        decay=3, \n",
    "        k=100, \n",
    "        grand_mult=0.5,\n",
    "    )  \n",
    "    for txt in tqdm(private_test_verbs.text)\n",
    "}"
   ]
  },
  {
   "cell_type": "code",
   "execution_count": 45,
   "metadata": {},
   "outputs": [],
   "source": [
    "sub = my_knn.dict2submission(private_test_hypos, syns_storage.id2synset)"
   ]
  },
  {
   "cell_type": "code",
   "execution_count": 46,
   "metadata": {},
   "outputs": [
    {
     "data": {
      "text/html": [
       "<div>\n",
       "<style scoped>\n",
       "    .dataframe tbody tr th:only-of-type {\n",
       "        vertical-align: middle;\n",
       "    }\n",
       "\n",
       "    .dataframe tbody tr th {\n",
       "        vertical-align: top;\n",
       "    }\n",
       "\n",
       "    .dataframe thead th {\n",
       "        text-align: right;\n",
       "    }\n",
       "</style>\n",
       "<table border=\"1\" class=\"dataframe\">\n",
       "  <thead>\n",
       "    <tr style=\"text-align: right;\">\n",
       "      <th></th>\n",
       "      <th>noun</th>\n",
       "      <th>result</th>\n",
       "      <th>result_text</th>\n",
       "    </tr>\n",
       "  </thead>\n",
       "  <tbody>\n",
       "    <tr>\n",
       "      <th>0</th>\n",
       "      <td>АБСЕНТЕИЗМ</td>\n",
       "      <td>119563-N</td>\n",
       "      <td>МИРОВОЗЗРЕНИЕ</td>\n",
       "    </tr>\n",
       "    <tr>\n",
       "      <th>1</th>\n",
       "      <td>АБСЕНТЕИЗМ</td>\n",
       "      <td>132973-N</td>\n",
       "      <td>ФИЛОСОФСКОЕ УЧЕНИЕ</td>\n",
       "    </tr>\n",
       "    <tr>\n",
       "      <th>2</th>\n",
       "      <td>АБСЕНТЕИЗМ</td>\n",
       "      <td>121514-N</td>\n",
       "      <td>УЧЕНИЕ (СОВОКУПНОСТЬ ТЕОРЕТИЧ. ПОЛОЖЕНИЙ)</td>\n",
       "    </tr>\n",
       "    <tr>\n",
       "      <th>3</th>\n",
       "      <td>АБСЕНТЕИЗМ</td>\n",
       "      <td>106470-N</td>\n",
       "      <td>УБЕЖДЕНИЯ, ВЗГЛЯДЫ</td>\n",
       "    </tr>\n",
       "    <tr>\n",
       "      <th>4</th>\n",
       "      <td>АБСЕНТЕИЗМ</td>\n",
       "      <td>2201-N</td>\n",
       "      <td>РЕЛИГИЯ</td>\n",
       "    </tr>\n",
       "    <tr>\n",
       "      <th>...</th>\n",
       "      <td>...</td>\n",
       "      <td>...</td>\n",
       "      <td>...</td>\n",
       "    </tr>\n",
       "    <tr>\n",
       "      <th>15245</th>\n",
       "      <td>ЯШМА</td>\n",
       "      <td>106554-N</td>\n",
       "      <td>ПРЕДМЕТ, ВЕЩЬ</td>\n",
       "    </tr>\n",
       "    <tr>\n",
       "      <th>15246</th>\n",
       "      <td>ЯШМА</td>\n",
       "      <td>109444-N</td>\n",
       "      <td>УКРАСИТЬ</td>\n",
       "    </tr>\n",
       "    <tr>\n",
       "      <th>15247</th>\n",
       "      <td>ЯШМА</td>\n",
       "      <td>820-N</td>\n",
       "      <td>ВЕЩЕСТВО</td>\n",
       "    </tr>\n",
       "    <tr>\n",
       "      <th>15248</th>\n",
       "      <td>ЯШМА</td>\n",
       "      <td>143683-N</td>\n",
       "      <td>ПРИРОДНОЕ МИНЕРАЛЬНОЕ ОБРАЗОВАНИЕ</td>\n",
       "    </tr>\n",
       "    <tr>\n",
       "      <th>15249</th>\n",
       "      <td>ЯШМА</td>\n",
       "      <td>5600-N</td>\n",
       "      <td>КЕРАМИЧЕСКИЕ МАТЕРИАЛЫ</td>\n",
       "    </tr>\n",
       "  </tbody>\n",
       "</table>\n",
       "<p>15250 rows × 3 columns</p>\n",
       "</div>"
      ],
      "text/plain": [
       "             noun    result                                result_text\n",
       "0      АБСЕНТЕИЗМ  119563-N                              МИРОВОЗЗРЕНИЕ\n",
       "1      АБСЕНТЕИЗМ  132973-N                         ФИЛОСОФСКОЕ УЧЕНИЕ\n",
       "2      АБСЕНТЕИЗМ  121514-N  УЧЕНИЕ (СОВОКУПНОСТЬ ТЕОРЕТИЧ. ПОЛОЖЕНИЙ)\n",
       "3      АБСЕНТЕИЗМ  106470-N                         УБЕЖДЕНИЯ, ВЗГЛЯДЫ\n",
       "4      АБСЕНТЕИЗМ    2201-N                                    РЕЛИГИЯ\n",
       "...           ...       ...                                        ...\n",
       "15245        ЯШМА  106554-N                              ПРЕДМЕТ, ВЕЩЬ\n",
       "15246        ЯШМА  109444-N                                   УКРАСИТЬ\n",
       "15247        ЯШМА     820-N                                   ВЕЩЕСТВО\n",
       "15248        ЯШМА  143683-N          ПРИРОДНОЕ МИНЕРАЛЬНОЕ ОБРАЗОВАНИЕ\n",
       "15249        ЯШМА    5600-N                     КЕРАМИЧЕСКИЕ МАТЕРИАЛЫ\n",
       "\n",
       "[15250 rows x 3 columns]"
      ]
     },
     "execution_count": 46,
     "metadata": {},
     "output_type": "execute_result"
    }
   ],
   "source": [
    "sub"
   ]
  },
  {
   "cell_type": "code",
   "execution_count": 47,
   "metadata": {},
   "outputs": [
    {
     "data": {
      "text/html": [
       "<div>\n",
       "<style scoped>\n",
       "    .dataframe tbody tr th:only-of-type {\n",
       "        vertical-align: middle;\n",
       "    }\n",
       "\n",
       "    .dataframe tbody tr th {\n",
       "        vertical-align: top;\n",
       "    }\n",
       "\n",
       "    .dataframe thead th {\n",
       "        text-align: right;\n",
       "    }\n",
       "</style>\n",
       "<table border=\"1\" class=\"dataframe\">\n",
       "  <thead>\n",
       "    <tr style=\"text-align: right;\">\n",
       "      <th></th>\n",
       "      <th>noun</th>\n",
       "      <th>result</th>\n",
       "      <th>result_text</th>\n",
       "    </tr>\n",
       "  </thead>\n",
       "  <tbody>\n",
       "    <tr>\n",
       "      <th>0</th>\n",
       "      <td>АБСЕНТЕИЗМ</td>\n",
       "      <td>119563-N</td>\n",
       "      <td>МИРОВОЗЗРЕНИЕ</td>\n",
       "    </tr>\n",
       "    <tr>\n",
       "      <th>1</th>\n",
       "      <td>АБСЕНТЕИЗМ</td>\n",
       "      <td>132973-N</td>\n",
       "      <td>ФИЛОСОФСКОЕ УЧЕНИЕ</td>\n",
       "    </tr>\n",
       "    <tr>\n",
       "      <th>2</th>\n",
       "      <td>АБСЕНТЕИЗМ</td>\n",
       "      <td>121514-N</td>\n",
       "      <td>УЧЕНИЕ (СОВОКУПНОСТЬ ТЕОРЕТИЧ. ПОЛОЖЕНИЙ)</td>\n",
       "    </tr>\n",
       "    <tr>\n",
       "      <th>3</th>\n",
       "      <td>АБСЕНТЕИЗМ</td>\n",
       "      <td>106470-N</td>\n",
       "      <td>УБЕЖДЕНИЯ, ВЗГЛЯДЫ</td>\n",
       "    </tr>\n",
       "    <tr>\n",
       "      <th>4</th>\n",
       "      <td>АБСЕНТЕИЗМ</td>\n",
       "      <td>2201-N</td>\n",
       "      <td>РЕЛИГИЯ</td>\n",
       "    </tr>\n",
       "    <tr>\n",
       "      <th>5</th>\n",
       "      <td>АБСЕНТЕИЗМ</td>\n",
       "      <td>108333-N</td>\n",
       "      <td>СТИЛЬ В ИСКУССТВЕ</td>\n",
       "    </tr>\n",
       "    <tr>\n",
       "      <th>6</th>\n",
       "      <td>АБСЕНТЕИЗМ</td>\n",
       "      <td>124135-N</td>\n",
       "      <td>ИДЕОЛОГИЯ</td>\n",
       "    </tr>\n",
       "    <tr>\n",
       "      <th>7</th>\n",
       "      <td>АБСЕНТЕИЗМ</td>\n",
       "      <td>111965-N</td>\n",
       "      <td>ИДЕАЛИЗМ</td>\n",
       "    </tr>\n",
       "    <tr>\n",
       "      <th>8</th>\n",
       "      <td>АБСЕНТЕИЗМ</td>\n",
       "      <td>121164-N</td>\n",
       "      <td>ИЗВРАЩЕНИЕ (ПРОТИВОЕСТЕСТВЕННОЕ ПОВЕДЕНИЕ)</td>\n",
       "    </tr>\n",
       "    <tr>\n",
       "      <th>9</th>\n",
       "      <td>АБСЕНТЕИЗМ</td>\n",
       "      <td>6639-N</td>\n",
       "      <td>ПОЛИТИЧЕСКОЕ ТЕЧЕНИЕ</td>\n",
       "    </tr>\n",
       "    <tr>\n",
       "      <th>10</th>\n",
       "      <td>АБСОЛЮТИЗАЦИЯ</td>\n",
       "      <td>833-N</td>\n",
       "      <td>ЭКОНОМИЧЕСКАЯ ПОЛИТИКА</td>\n",
       "    </tr>\n",
       "    <tr>\n",
       "      <th>11</th>\n",
       "      <td>АБСОЛЮТИЗАЦИЯ</td>\n",
       "      <td>601-N</td>\n",
       "      <td>ГОСУДАРСТВЕННАЯ ПОЛИТИКА</td>\n",
       "    </tr>\n",
       "    <tr>\n",
       "      <th>12</th>\n",
       "      <td>АБСОЛЮТИЗАЦИЯ</td>\n",
       "      <td>7936-N</td>\n",
       "      <td>РЕФОРМА</td>\n",
       "    </tr>\n",
       "    <tr>\n",
       "      <th>13</th>\n",
       "      <td>АБСОЛЮТИЗАЦИЯ</td>\n",
       "      <td>139989-N</td>\n",
       "      <td>СОЦИАЛЬНЫЙ ПРОЦЕСС</td>\n",
       "    </tr>\n",
       "    <tr>\n",
       "      <th>14</th>\n",
       "      <td>АБСОЛЮТИЗАЦИЯ</td>\n",
       "      <td>106629-N</td>\n",
       "      <td>ИЗМЕНИТЬСЯ, ИЗМЕНЕНИЕ</td>\n",
       "    </tr>\n",
       "  </tbody>\n",
       "</table>\n",
       "</div>"
      ],
      "text/plain": [
       "             noun    result                                 result_text\n",
       "0      АБСЕНТЕИЗМ  119563-N                               МИРОВОЗЗРЕНИЕ\n",
       "1      АБСЕНТЕИЗМ  132973-N                          ФИЛОСОФСКОЕ УЧЕНИЕ\n",
       "2      АБСЕНТЕИЗМ  121514-N   УЧЕНИЕ (СОВОКУПНОСТЬ ТЕОРЕТИЧ. ПОЛОЖЕНИЙ)\n",
       "3      АБСЕНТЕИЗМ  106470-N                          УБЕЖДЕНИЯ, ВЗГЛЯДЫ\n",
       "4      АБСЕНТЕИЗМ    2201-N                                     РЕЛИГИЯ\n",
       "5      АБСЕНТЕИЗМ  108333-N                           СТИЛЬ В ИСКУССТВЕ\n",
       "6      АБСЕНТЕИЗМ  124135-N                                   ИДЕОЛОГИЯ\n",
       "7      АБСЕНТЕИЗМ  111965-N                                    ИДЕАЛИЗМ\n",
       "8      АБСЕНТЕИЗМ  121164-N  ИЗВРАЩЕНИЕ (ПРОТИВОЕСТЕСТВЕННОЕ ПОВЕДЕНИЕ)\n",
       "9      АБСЕНТЕИЗМ    6639-N                        ПОЛИТИЧЕСКОЕ ТЕЧЕНИЕ\n",
       "10  АБСОЛЮТИЗАЦИЯ     833-N                      ЭКОНОМИЧЕСКАЯ ПОЛИТИКА\n",
       "11  АБСОЛЮТИЗАЦИЯ     601-N                    ГОСУДАРСТВЕННАЯ ПОЛИТИКА\n",
       "12  АБСОЛЮТИЗАЦИЯ    7936-N                                     РЕФОРМА\n",
       "13  АБСОЛЮТИЗАЦИЯ  139989-N                          СОЦИАЛЬНЫЙ ПРОЦЕСС\n",
       "14  АБСОЛЮТИЗАЦИЯ  106629-N                       ИЗМЕНИТЬСЯ, ИЗМЕНЕНИЕ"
      ]
     },
     "execution_count": 47,
     "metadata": {},
     "output_type": "execute_result"
    }
   ],
   "source": [
    "sub.to_csv('results/private_nouns_v0_strange.tsv', sep='\\t', encoding='utf-8', header=None, index=None)\n",
    "sub.head(15)"
   ]
  },
  {
   "cell_type": "code",
   "execution_count": null,
   "metadata": {},
   "outputs": [],
   "source": []
  }
 ],
 "metadata": {
  "kernelspec": {
   "display_name": "Python 3",
   "language": "python",
   "name": "python3"
  },
  "language_info": {
   "codemirror_mode": {
    "name": "ipython",
    "version": 3
   },
   "file_extension": ".py",
   "mimetype": "text/x-python",
   "name": "python",
   "nbconvert_exporter": "python",
   "pygments_lexer": "ipython3",
   "version": "3.6.8"
  }
 },
 "nbformat": 4,
 "nbformat_minor": 2
}
