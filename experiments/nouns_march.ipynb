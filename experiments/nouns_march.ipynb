{
 "cells": [
  {
   "cell_type": "code",
   "execution_count": 1,
   "metadata": {},
   "outputs": [],
   "source": [
    "import pandas as pd\n",
    "import numpy as np\n",
    "import pickle\n",
    "from collections import Counter, defaultdict"
   ]
  },
  {
   "cell_type": "code",
   "execution_count": 2,
   "metadata": {},
   "outputs": [],
   "source": [
    "import sys\n",
    "import os\n",
    "def add_sys_path(p):\n",
    "    p = os.path.abspath(p)\n",
    "    if p not in sys.path:\n",
    "        sys.path.append(p)\n",
    "\n",
    "add_sys_path('..')"
   ]
  },
  {
   "cell_type": "code",
   "execution_count": 3,
   "metadata": {},
   "outputs": [],
   "source": [
    "import evaluate"
   ]
  },
  {
   "cell_type": "code",
   "execution_count": 4,
   "metadata": {},
   "outputs": [],
   "source": [
    "import data_split"
   ]
  },
  {
   "cell_type": "code",
   "execution_count": 5,
   "metadata": {},
   "outputs": [],
   "source": [
    "from evaluate import read_dataset"
   ]
  },
  {
   "cell_type": "code",
   "execution_count": 6,
   "metadata": {},
   "outputs": [],
   "source": [
    "import json"
   ]
  },
  {
   "cell_type": "code",
   "execution_count": 7,
   "metadata": {},
   "outputs": [],
   "source": [
    "from tqdm.auto import tqdm, trange"
   ]
  },
  {
   "cell_type": "markdown",
   "metadata": {},
   "source": [
    "# Чтение и сплит данных"
   ]
  },
  {
   "cell_type": "code",
   "execution_count": 8,
   "metadata": {},
   "outputs": [],
   "source": [
    "n_ds = read_dataset('../data/training_data/training_nouns.tsv',  lambda x: json.loads(x))"
   ]
  },
  {
   "cell_type": "code",
   "execution_count": 9,
   "metadata": {},
   "outputs": [
    {
     "data": {
      "text/plain": [
       "25376"
      ]
     },
     "execution_count": 9,
     "metadata": {},
     "output_type": "execute_result"
    }
   ],
   "source": [
    "len(n_ds)"
   ]
  },
  {
   "cell_type": "code",
   "execution_count": 10,
   "metadata": {},
   "outputs": [],
   "source": [
    "train, dev, test1, test2, hid, forbidden_words = data_split.split_dict(n_ds)"
   ]
  },
  {
   "cell_type": "markdown",
   "metadata": {},
   "source": [
    "# Применение бейзлайна"
   ]
  },
  {
   "cell_type": "code",
   "execution_count": 11,
   "metadata": {},
   "outputs": [
    {
     "data": {
      "text/plain": [
       "<module 'my_knn' from 'C:\\\\Users\\\\ddale\\\\YandexDisk\\\\code\\\\NLP\\\\taxonomy-enrichment\\\\experiments\\\\my_knn.py'>"
      ]
     },
     "execution_count": 11,
     "metadata": {},
     "output_type": "execute_result"
    }
   ],
   "source": [
    "import my_knn\n",
    "from importlib import reload\n",
    "reload(my_knn)"
   ]
  },
  {
   "cell_type": "code",
   "execution_count": 12,
   "metadata": {},
   "outputs": [],
   "source": [
    "import gensim\n",
    "# this is araneum 2018 ft model from rusvectores\n",
    "ft = gensim.models.fasttext.FastTextKeyedVectors.load(\n",
    "    'C:/Users/ddale/Downloads/NLP/rusvectores/model.model'\n",
    ")"
   ]
  },
  {
   "cell_type": "code",
   "execution_count": 13,
   "metadata": {},
   "outputs": [
    {
     "name": "stdout",
     "output_type": "stream",
     "text": [
      "(300,)\n"
     ]
    }
   ],
   "source": [
    "ft_embedder = my_knn.SentenceEmbedder(ft=ft, n=300, normalize_word=True, pos_weights={'INFN': 1.0, 'PREP': 0.1})\n",
    "print(ft_embedder('привет как дела').shape)"
   ]
  },
  {
   "cell_type": "code",
   "execution_count": 14,
   "metadata": {},
   "outputs": [],
   "source": [
    "taiga = gensim.models.KeyedVectors.load_word2vec_format(\n",
    "    'C:/Users/ddale/Downloads/NLP/rusvectores/taiga_skipgram/model.bin', \n",
    "    binary=True,\n",
    ")"
   ]
  },
  {
   "cell_type": "code",
   "execution_count": 15,
   "metadata": {},
   "outputs": [],
   "source": [
    "w2v_embedder = my_knn.W2VWrapper(taiga)"
   ]
  },
  {
   "cell_type": "code",
   "execution_count": 16,
   "metadata": {},
   "outputs": [],
   "source": [
    "w2v_embedder_pos = my_knn.W2VWrapper(taiga,  pos_weights={'NOUN': 1.0, 'PREP': 0.1}, default_weight=0.5)"
   ]
  },
  {
   "cell_type": "code",
   "execution_count": 17,
   "metadata": {},
   "outputs": [
    {
     "name": "stdout",
     "output_type": "stream",
     "text": [
      "number of texts: 86549\n",
      "forbidden senses are 4126\n",
      "numer of ids 29296 long list is 95119\n"
     ]
    },
    {
     "data": {
      "application/vnd.jupyter.widget-view+json": {
       "model_id": "c7d0396c409743f18ac99af56c32c4ec",
       "version_major": 2,
       "version_minor": 0
      },
      "text/plain": [
       "HBox(children=(FloatProgress(value=1.0, bar_style='info', max=1.0), HTML(value='')))"
      ]
     },
     "metadata": {},
     "output_type": "display_data"
    },
    {
     "name": "stdout",
     "output_type": "stream",
     "text": [
      "\n",
      "23827\n",
      "466\n",
      "5\n",
      "30877\n"
     ]
    }
   ],
   "source": [
    "syns_storage, rel_storage, rel_df = my_knn.prepare_storages(\n",
    "    synsets_filename='../data/ruwordnet/synsets.N.xml',\n",
    "    relations_filename='../data/ruwordnet/synset_relations.N.xml',\n",
    "    forbidden_words=forbidden_words,\n",
    ")"
   ]
  },
  {
   "cell_type": "code",
   "execution_count": 18,
   "metadata": {},
   "outputs": [
    {
     "data": {
      "application/vnd.jupyter.widget-view+json": {
       "model_id": "592850447b1042308ef8d16a4ec974b0",
       "version_major": 2,
       "version_minor": 0
      },
      "text/plain": [
       "HBox(children=(FloatProgress(value=0.0, max=95119.0), HTML(value='')))"
      ]
     },
     "metadata": {},
     "output_type": "display_data"
    },
    {
     "name": "stdout",
     "output_type": "stream",
     "text": [
      "\n"
     ]
    }
   ],
   "source": [
    "vecs = np.stack([ft_embedder(t) for t in tqdm(syns_storage.texts_long) ])\n",
    "\n",
    "from sklearn.neighbors import KDTree\n",
    "tree = KDTree(vecs)"
   ]
  },
  {
   "cell_type": "code",
   "execution_count": 19,
   "metadata": {},
   "outputs": [
    {
     "data": {
      "application/vnd.jupyter.widget-view+json": {
       "model_id": "4972d8cfb9cf40aa82acdeb6756efecb",
       "version_major": 2,
       "version_minor": 0
      },
      "text/plain": [
       "HBox(children=(FloatProgress(value=0.0, max=95119.0), HTML(value='')))"
      ]
     },
     "metadata": {},
     "output_type": "display_data"
    },
    {
     "name": "stdout",
     "output_type": "stream",
     "text": [
      "\n"
     ]
    }
   ],
   "source": [
    "w2v_vecs = np.stack([w2v_embedder(t) for t in tqdm(syns_storage.texts_long) ])\n",
    "w2v_tree = KDTree(w2v_vecs)"
   ]
  },
  {
   "cell_type": "code",
   "execution_count": 20,
   "metadata": {},
   "outputs": [
    {
     "data": {
      "application/vnd.jupyter.widget-view+json": {
       "model_id": "89be242265f4481cb5cb04f394fee93b",
       "version_major": 2,
       "version_minor": 0
      },
      "text/plain": [
       "HBox(children=(FloatProgress(value=0.0, max=95119.0), HTML(value='')))"
      ]
     },
     "metadata": {},
     "output_type": "display_data"
    },
    {
     "name": "stdout",
     "output_type": "stream",
     "text": [
      "\n"
     ]
    }
   ],
   "source": [
    "w2v_vecs_pos = np.stack([w2v_embedder_pos(t) for t in tqdm(syns_storage.texts_long) ])\n",
    "w2v_tree_pos = KDTree(w2v_vecs_pos)"
   ]
  },
  {
   "cell_type": "code",
   "execution_count": 21,
   "metadata": {},
   "outputs": [
    {
     "data": {
      "text/plain": [
       "['108194-N', '4024-N']"
      ]
     },
     "execution_count": 21,
     "metadata": {},
     "output_type": "execute_result"
    }
   ],
   "source": [
    "hypos = my_knn.hypotheses_knn('брюки', index=tree, text2vec=ft_embedder, synset_storage=syns_storage, rel_storage=rel_storage)\n",
    "hypos"
   ]
  },
  {
   "cell_type": "code",
   "execution_count": 22,
   "metadata": {},
   "outputs": [
    {
     "name": "stdout",
     "output_type": "stream",
     "text": [
      "ШТАНЫ, БРЮКИ\n",
      "ВЕРХНЯЯ ОДЕЖДА\n"
     ]
    }
   ],
   "source": [
    "for id in hypos:\n",
    "    print(syns_storage.id2synset[id]['@ruthes_name'])"
   ]
  },
  {
   "cell_type": "code",
   "execution_count": 23,
   "metadata": {},
   "outputs": [
    {
     "name": "stdout",
     "output_type": "stream",
     "text": [
      "0.9996719160104987 1.0\n"
     ]
    }
   ],
   "source": [
    "# проверка, что сравнение само с собой всегда получает скор 1\n",
    "dev_pred = {k: [v0 for val in vals for v0 in val] for k, vals in dev.items()}\n",
    "mean_ap, mean_rr = evaluate.get_score(dev, dev_pred, k=10)\n",
    "print(mean_ap, mean_rr)"
   ]
  },
  {
   "cell_type": "code",
   "execution_count": 24,
   "metadata": {},
   "outputs": [],
   "source": [
    "class MixedIndexer:\n",
    "    def __init__(self, models, vectorizers, proportions, coefs):\n",
    "        self.models = models\n",
    "        self.vectorizers = vectorizers\n",
    "        self.proportions = proportions\n",
    "        self.coefs = coefs\n",
    "\n",
    "    def query(self, text, k=10):\n",
    "        all_distances, all_indices = [] , []\n",
    "        for m, v, p, c in zip(self.models, self.vectorizers, self.proportions, self.coefs):\n",
    "            dis, ind = m.query(v(text).reshape(1, -1), k=max(1, int(k*p)))\n",
    "            all_distances.append(dis * c)\n",
    "            all_indices.append(ind)\n",
    "        #return all_distances, all_indices\n",
    "        return np.concatenate(all_distances, axis=1), np.concatenate(all_indices, axis=1)\n",
    "        "
   ]
  },
  {
   "cell_type": "code",
   "execution_count": 25,
   "metadata": {},
   "outputs": [],
   "source": [
    "indexer = MixedIndexer([w2v_tree_pos, tree], [w2v_embedder_pos, ft_embedder], [0.5, 0.5], [1, 1])"
   ]
  },
  {
   "cell_type": "code",
   "execution_count": 26,
   "metadata": {},
   "outputs": [
    {
     "data": {
      "text/plain": [
       "(array([[0.8238884 , 0.82399305, 0.8397748 , 0.84326875, 0.87618654,\n",
       "         0.95590802, 0.96747816, 0.96927004, 0.97310478, 0.9752189 ]]),\n",
       " array([[36392, 36390, 36391, 17203,  4120,  1604, 61168,  3362,  3680,\n",
       "          4192]], dtype=int64))"
      ]
     },
     "execution_count": 26,
     "metadata": {},
     "output_type": "execute_result"
    }
   ],
   "source": [
    "di, ind = indexer.query('мустанг', k=10)\n",
    "di, ind"
   ]
  },
  {
   "cell_type": "code",
   "execution_count": 27,
   "metadata": {},
   "outputs": [],
   "source": [
    "def w2v_scorer(text1, text2):\n",
    "    return np.dot(w2v_embedder.get_text_vec(text1), w2v_embedder.get_text_vec(text2)) ** 5"
   ]
  },
  {
   "cell_type": "code",
   "execution_count": 28,
   "metadata": {},
   "outputs": [
    {
     "data": {
      "application/vnd.jupyter.widget-view+json": {
       "model_id": "4dc052c3aac34a9d8778ee4b84525cc2",
       "version_major": 2,
       "version_minor": 0
      },
      "text/plain": [
       "HBox(children=(FloatProgress(value=0.0, max=508.0), HTML(value='')))"
      ]
     },
     "metadata": {},
     "output_type": "display_data"
    },
    {
     "name": "stdout",
     "output_type": "stream",
     "text": [
      "\n"
     ]
    }
   ],
   "source": [
    "#texts = ttest_test1.one_text.drop_duplicates()\n",
    "texts = sorted(dev.keys())\n",
    "small_hypos = {\n",
    "    txt: \n",
    "    my_knn.hypotheses_knn(\n",
    "        txt, \n",
    "        #index=tree, text2vec=ft_embedder, \n",
    "        index=w2v_tree_pos, text2vec=w2v_embedder_pos, \n",
    "        #indexer=indexer,\n",
    "        synset_storage=syns_storage, rel_storage=rel_storage,\n",
    "        decay=3, \n",
    "        k=100, \n",
    "        grand_mult=0.5,\n",
    "        neighbor_scorer=w2v_scorer,\n",
    "    )  \n",
    "    for txt in tqdm(texts)\n",
    "}\n"
   ]
  },
  {
   "cell_type": "code",
   "execution_count": 32,
   "metadata": {},
   "outputs": [
    {
     "data": {
      "text/plain": [
       "'ТАКСОМОТОРНОЕ ПРЕДПРИЯТИЕ'"
      ]
     },
     "execution_count": 32,
     "metadata": {},
     "output_type": "execute_result"
    }
   ],
   "source": [
    "np.random.choice(list(dev.keys()))"
   ]
  },
  {
   "cell_type": "code",
   "execution_count": 33,
   "metadata": {},
   "outputs": [
    {
     "data": {
      "text/plain": [
       "['525-N',\n",
       " '106560-N',\n",
       " '142250-N',\n",
       " '57-N',\n",
       " '134279-N',\n",
       " '121655-N',\n",
       " '168-N',\n",
       " '2301-N',\n",
       " '4988-N',\n",
       " '138167-N']"
      ]
     },
     "execution_count": 33,
     "metadata": {},
     "output_type": "execute_result"
    }
   ],
   "source": [
    "my_knn.hypotheses_knn(\n",
    "        'ТАКСОМОТОРНОЕ ПРЕДПРИЯТИЕ', \n",
    "        #index=tree, text2vec=ft_embedder, \n",
    "        index=w2v_tree_pos, text2vec=w2v_embedder_pos, \n",
    "        #indexer=indexer,\n",
    "        synset_storage=syns_storage, rel_storage=rel_storage,\n",
    "        decay=3, \n",
    "        k=100, \n",
    "        grand_mult=0.5,\n",
    "        neighbor_scorer=w2v_scorer,\n",
    "    ) "
   ]
  },
  {
   "cell_type": "code",
   "execution_count": 51,
   "metadata": {},
   "outputs": [
    {
     "data": {
      "text/plain": [
       "0.0"
      ]
     },
     "execution_count": 51,
     "metadata": {},
     "output_type": "execute_result"
    }
   ],
   "source": [
    "np.exp(-1000)"
   ]
  },
  {
   "cell_type": "code",
   "execution_count": 60,
   "metadata": {},
   "outputs": [],
   "source": [
    "reload(my_knn);"
   ]
  },
  {
   "cell_type": "code",
   "execution_count": 72,
   "metadata": {},
   "outputs": [
    {
     "data": {
      "text/plain": [
       "0.34025797480210696"
      ]
     },
     "execution_count": 72,
     "metadata": {},
     "output_type": "execute_result"
    }
   ],
   "source": [
    "w2v_scorer('ТАКСОМОТОРНОЕ ПРЕДПРИЯТИЕ', 'ПРЕДПРИЯТИЕ')"
   ]
  },
  {
   "cell_type": "code",
   "execution_count": 75,
   "metadata": {},
   "outputs": [
    {
     "data": {
      "text/plain": [
       "[('525-N', 8.985995558529664),\n",
       " ('106560-N', 5.634369012732449),\n",
       " ('142250-N', 3.4538202566746397),\n",
       " ('57-N', 3.079341359508696),\n",
       " ('134279-N', 1.2463977341208194),\n",
       " ('121655-N', 1.156485635772695),\n",
       " ('168-N', 1.081452683496407),\n",
       " ('2301-N', 0.9988814510104708),\n",
       " ('4988-N', 0.967619097699793),\n",
       " ('138167-N', 0.944616590343989)]"
      ]
     },
     "execution_count": 75,
     "metadata": {},
     "output_type": "execute_result"
    }
   ],
   "source": [
    "my_knn.hypotheses_knn(\n",
    "        'ТАКСОМОТОРНОЕ ПРЕДПРИЯТИЕ', \n",
    "        #index=tree, text2vec=ft_embedder, \n",
    "        index=w2v_tree_pos, text2vec=w2v_embedder_pos, \n",
    "        #indexer=indexer,\n",
    "        synset_storage=syns_storage, rel_storage=rel_storage,\n",
    "        #decay=3, \n",
    "        k=100, \n",
    "        grand_mult=0.5,\n",
    "        decay=3,\n",
    "        neighbor_scorer=w2v_scorer,\n",
    "        return_hypotheses=True,\n",
    "        #verbose=True\n",
    "    ).most_common(10)"
   ]
  },
  {
   "cell_type": "code",
   "execution_count": 64,
   "metadata": {},
   "outputs": [
    {
     "data": {
      "text/plain": [
       "-0.0"
      ]
     },
     "execution_count": 64,
     "metadata": {},
     "output_type": "execute_result"
    }
   ],
   "source": [
    "-0.33 ** 999"
   ]
  },
  {
   "cell_type": "code",
   "execution_count": 63,
   "metadata": {},
   "outputs": [
    {
     "data": {
      "text/plain": [
       "1.0"
      ]
     },
     "execution_count": 63,
     "metadata": {},
     "output_type": "execute_result"
    }
   ],
   "source": [
    "np.exp(-0.33 ** 999)"
   ]
  },
  {
   "cell_type": "code",
   "execution_count": 30,
   "metadata": {},
   "outputs": [
    {
     "name": "stdout",
     "output_type": "stream",
     "text": [
      "0.47106956682498025 0.5090129358830144\n"
     ]
    }
   ],
   "source": [
    "mean_ap, mean_rr = evaluate.get_score(dev, small_hypos, k=10)\n",
    "print(mean_ap, mean_rr)"
   ]
  },
  {
   "cell_type": "markdown",
   "metadata": {},
   "source": [
    "Типовой метод получает скор 26/29 на публичном тесте, и 39/42 - на дев. сете. Выглядит как непорядок. \n",
    "\n",
    "```\n",
    "0.3964241448985541 0.428703443319584   - baseline\n",
    "0.4302434851893513 0.4609392575928008  - baseline with s^2 w2v penalty \n",
    "0.4382394908969709 0.471559023872015   - with s^3 penalty\n",
    "0.4441386232970875 0.478044150731158   - with s^5 penalty\n",
    "0.4578544869391327 0.4919471003624545  - w2v only with s^3 penalty\n",
    "0.4660694756905386 0.5044838145231845  - w2v only with s^5 penalty \n",
    "0.4661363944090322 0.5028019935008124  - w2v only with s^10 penalty \n",
    "0.4670759905011871 0.50277777777777    - w2v + ft with w2v^3 penalty [ 70 +  30 hyp, (1, 0.8) coef]\n",
    "0.4669269205932591 0.5016716660417446  - w2v + ft with w2v^3 penalty [100 + 100 hyp, (1, 0.8) coef]\n",
    "0.4650628306878305 0.50101393575803    - w2v + ft with w2v^3 penalty [100 + 100 hyp, (0.8, 1) coef]\n",
    "0.4660975971753529 0.5008514560679912  - w2v + ft with w2v^3 penalty [100 + 100 hyp, (1,   1) coef]\n",
    "0.4674433924926048 0.5024520372453443   - w2v + ft with w2v^3 penalty [ 50 +  50 hyp, (1,   1) coef]\n",
    "0.4660202630921136 0.5019685039370079  - w2v with 0.1 weight for prep, 0.5 for non-nouns, 200 neighbors\n",
    "0.4695603804732742 0.5073397075365577* - w2v with 0.1 weight for prep, 0.5 for non-nouns, 100 neighbors\n",
    "0.4710695668249802 0.509012935883014 * - apparently the same, but why so much better?\n",
    "```"
   ]
  },
  {
   "cell_type": "markdown",
   "metadata": {},
   "source": [
    "### Проверка полноты\n",
    "\n",
    "С полнотой всё НЕ ОЧЕНЬ в порядке; даже идеальное ранжирование (топ 10) даст только 65% качество. \n",
    "\n",
    "Если же переранжировать все топ 100, качество будет 80%. Что в принципе почти что мне подходит. "
   ]
  },
  {
   "cell_type": "code",
   "execution_count": 93,
   "metadata": {},
   "outputs": [
    {
     "data": {
      "application/vnd.jupyter.widget-view+json": {
       "model_id": "bdbc50dff05f48749f711fe1ae2cba65",
       "version_major": 2,
       "version_minor": 0
      },
      "text/plain": [
       "HBox(children=(FloatProgress(value=0.0, max=508.0), HTML(value='')))"
      ]
     },
     "metadata": {},
     "output_type": "display_data"
    },
    {
     "name": "stdout",
     "output_type": "stream",
     "text": [
      "\n"
     ]
    }
   ],
   "source": [
    "small_hypos_large = {\n",
    "    txt: \n",
    "    my_knn.hypotheses_knn(\n",
    "        txt, \n",
    "        #index=full_ft_tree, text2vec=ft_embedder, \n",
    "        index=w2v_tree, text2vec=w2v_embedder, \n",
    "        synset_storage=syns_storage, rel_storage=rel_storage,\n",
    "        decay=3, \n",
    "        k=100, \n",
    "        grand_mult=0.5,\n",
    "        neighbor_scorer=w2v_scorer,\n",
    "        result_size=100\n",
    "    )  \n",
    "    for txt in tqdm(dev.keys())\n",
    "}"
   ]
  },
  {
   "cell_type": "code",
   "execution_count": 94,
   "metadata": {},
   "outputs": [],
   "source": [
    "for k, v in small_hypos_large.items():\n",
    "    gts = {sense for senses in dev[k] for sense in senses}\n",
    "    small_hypos_large[k] = [sense for sense in v if sense in gts]"
   ]
  },
  {
   "cell_type": "code",
   "execution_count": 95,
   "metadata": {},
   "outputs": [
    {
     "name": "stdout",
     "output_type": "stream",
     "text": [
      "0.802985564304462 0.844488188976378\n"
     ]
    }
   ],
   "source": [
    "print(*evaluate.get_score(dev, small_hypos_large, k=10))"
   ]
  },
  {
   "cell_type": "markdown",
   "metadata": {},
   "source": [
    "### частные случаи"
   ]
  },
  {
   "cell_type": "code",
   "execution_count": 96,
   "metadata": {},
   "outputs": [],
   "source": [
    "import random"
   ]
  },
  {
   "cell_type": "code",
   "execution_count": 107,
   "metadata": {},
   "outputs": [
    {
     "name": "stdout",
     "output_type": "stream",
     "text": [
      "ВОЗДУШНОЕ ОТОПЛЕНИЕ\n",
      "[['144-N', '145131-N', '145137-N', '5077-N']]\n",
      "[['ОТОПЛЕНИЕ', 'ОБОГРЕВ ПОМЕЩЕНИЯ', 'КЛИМАТ-КОНТРОЛЬ', 'ТЕПЛОСНАБЖЕНИЕ']]\n"
     ]
    }
   ],
   "source": [
    "word = random.choice(list(dev.keys()))\n",
    "print(word)\n",
    "\n",
    "print(dev[word])\n",
    "print([\n",
    "    [syns_storage.id2synset[id]['@ruthes_name'] for id in ids]\n",
    "    for ids in dev[word]\n",
    "])"
   ]
  },
  {
   "cell_type": "code",
   "execution_count": 108,
   "metadata": {},
   "outputs": [
    {
     "name": "stdout",
     "output_type": "stream",
     "text": [
      "5583-N [] ОТОПИТЕЛЬНОЕ ОБОРУДОВАНИЕ\n",
      "4435-N [] ТЕПЛОВОЕ ОБОРУДОВАНИЕ\n",
      "144-N [0] ОТОПЛЕНИЕ\n",
      "5077-N [0] ТЕПЛОСНАБЖЕНИЕ\n",
      "145137-N [0] КЛИМАТ-КОНТРОЛЬ\n",
      "145131-N [0] ОБОГРЕВ ПОМЕЩЕНИЯ\n",
      "149201-N [] ИНЖЕНЕРНОЕ ОБОРУДОВАНИЕ\n",
      "2070-N [] ЭЛЕКТРОТЕХНИЧЕСКОЕ ОБОРУДОВАНИЕ\n",
      "145136-N [] КЛИМАТИЧЕСКОЕ ОБОРУДОВАНИЕ\n",
      "4870-N [] ВЕНТИЛЯЦИОННОЕ ОБОРУДОВАНИЕ\n",
      "0.3333333333333333\n",
      "0.3333333333333333\n"
     ]
    }
   ],
   "source": [
    "for h in small_hypos[word]:\n",
    "    indices = [i for i, senses in enumerate(dev[word]) if h in senses]\n",
    "    print(h, indices, syns_storage.id2synset[h]['@ruthes_name'])\n",
    "\n",
    "print(evaluate.compute_ap(dev[word], small_hypos[word], 10))\n",
    "print(evaluate.compute_rr([j for i in dev[word] for j in i], small_hypos[word], 10))"
   ]
  },
  {
   "cell_type": "markdown",
   "metadata": {},
   "source": [
    "Почему \"слог\" есть "
   ]
  },
  {
   "cell_type": "code",
   "execution_count": 109,
   "metadata": {},
   "outputs": [
    {
     "name": "stdout",
     "output_type": "stream",
     "text": [
      "0.6150570385919021 1 4874-N ВОЗДУШНЫЙ КОНДИЦИОНЕР 2\n",
      "0.680940759867425 1 144-N ОТОПЛЕНИЕ 3\n",
      "0.7145873508449723 1 125168-N БАТАРЕЯ ; БАТАРЕЯ ОТОПЛЕНИЕ ; БАТАРЕЯ ОТОПЛЕНИЯ ; БАТАРЕЯ ПАРОВОЙ ОТОПЛЕНИЕ ; БАТАРЕЯ ЦЕНТРАЛЬНЫЙ ОТОПЛЕНИЕ ; ОТОПИТЕЛЬНЫЙ БАТАРЕЯ ; ОТОПИТЕЛЬНЫЙ РАДИАТОР ; РАДИАТОР ; РАДИАТОР ВОДЯНОЙ ОТОПЛЕНИЕ ; РАДИАТОР ОТОПЛЕНИЕ ; РАДИАТОР ПАРОВОЙ ОТОПЛЕНИЕ ; РАДИАТОР ЦЕНТРАЛЬНЫЙ ОТОПЛЕНИЕ ; ЧУГУННЫЙ БАТАРЕЯ 1\n",
      "0.717628658170076 1 2095-N ЭЛЕКТРИЧЕСКИЙ ОТОПЛЕНИЕ ; ЭЛЕКТРИЧЕСКОЕ ОТОПЛЕНИЕ 2\n",
      "0.7176286603953353 1 2095-N ЭЛЕКТРИЧЕСКИЙ ОТОПЛЕНИЕ 2\n",
      "0.7176286603953353 1 2095-N ЭЛЕКТРИЧЕСКОЕ ОТОПЛЕНИЕ 2\n",
      "0.7236116782837223 1 125168-N РАДИАТОР ВОДЯНОЙ ОТОПЛЕНИЕ 1\n",
      "0.7263033944851451 1 125168-N БАТАРЕЯ ПАРОВОЙ ОТОПЛЕНИЕ 1\n",
      "0.727874659925142 1 196-N ВОЗДУШНЫЙ ТРАНСПОРТ 1\n",
      "0.727874659925142 1 196-N ТРАНСПОРТ ВОЗДУШНЫЙ 1\n",
      "0.7414964501770479 1 125168-N РАДИАТОР ПАРОВОЙ ОТОПЛЕНИЕ 1\n",
      "0.7442230460742967 1 4914-N ВОЗДУШНЫЙ НАВИГАЦИЯ 1\n",
      "0.7528918200249882 1 125112-N ВОЗДУШНЫЙ ВАННА 0\n",
      "0.7528918200249882 1 125112-N ВОЗДУШНАЯ ВАННА 0\n",
      "0.7528918201313161 1 125112-N ВОЗДУШНАЯ ВАННА ; ВОЗДУШНЫЙ ВАННА 0\n",
      "0.7576162938442697 1 125168-N РАДИАТОР ОТОПЛЕНИЕ 1\n",
      "0.7582324287658141 1 198-N ВОЗДУШНЫЙ ПЕРЕВОЗКА 2\n",
      "0.7586126431196831 1 125168-N БАТАРЕЯ ОТОПЛЕНИЕ 1\n",
      "0.7586126431196831 1 125168-N БАТАРЕЯ ОТОПЛЕНИЯ 1\n",
      "0.7873335742545456 1 113368-N ВОЗДУШНЫЙ ВИНТ 1\n",
      "0.7875736418985706 1 144-N ОТОПИТЕЛЬНЫЙ СИСТЕМА ; ОТОПЛЕНИЕ 3\n",
      "0.7909968417026113 1 125168-N РАДИАТОР ЦЕНТРАЛЬНЫЙ ОТОПЛЕНИЕ 1\n",
      "0.7911069684810067 1 4914-N АВИАЦИОННЫЙ НАВИГАЦИЯ ; АЭРОНАВИГАЦИЯ ; ВОЗДУШНЫЙ НАВИГАЦИЯ ; ВОЗДУШНЫЙ РАДИОНАВИГАЦИЯ 1\n",
      "0.7915701411261121 1 197-N ВОЗДУШНЫЙ ТРАССА 1\n",
      "0.7966974901845869 1 125434-N ВОЗДУШНЫЙ МАНЕВРИРОВАНИЕ 2\n",
      "0.7967510695170761 1 125168-N БАТАРЕЯ ЦЕНТРАЛЬНЫЙ ОТОПЛЕНИЕ 1\n",
      "0.7973358241471358 1 4874-N ВОЗДУШНЫЙ КОНДИЦИОНЕР ; КОНДИЦИОНЕР ; СИСТЕМА КОНДИЦИОНИРОВАНИЕ ; СИСТЕМА КОНДИЦИОНИРОВАНИЕ ВОЗДУХ 2\n",
      "0.7983497077323003 1 8347-N ВОЗДУШНЫЙ АВАРИЯ 3\n",
      "0.7988844369649908 1 2889-N ВОЗДУШНЫЙ ЗАГРЯЗНЕНИЕ 1\n",
      "0.8001371112618166 1 198-N ПЕРЕВОЗКА ВОЗДУШНЫЙ ТРАНСПОРТ 2\n",
      "0.8027355267908395 1 8347-N АВАРИЯ НА ВОЗДУШНЫЙ ТРАНСПОРТ 3\n",
      "0.8054456136196276 1 5583-N ОБОРУДОВАНИЕ ДЛЯ ТЕПЛОСНАБЖЕНИЕ ; ОБОРУДОВАНИЕ СИСТЕМА ОТОПЛЕНИЕ ; ОБОРУДОВАНИЕ ТЕПЛОСНАБЖЕНИЕ ; ОТОПИТЕЛЬНОЕ ОБОРУДОВАНИЕ ; ОТОПИТЕЛЬНЫЙ АГРЕГАТ ; ОТОПИТЕЛЬНЫЙ АППАРАТ ; ОТОПИТЕЛЬНЫЙ ОБОРУДОВАНИЕ ; ОТОПИТЕЛЬНЫЙ ПРИБОР ; ОТОПИТЕЛЬНЫЙ СИСТЕМА ; ОТОПИТЕЛЬНЫЙ УСТАНОВКА ; ПРИБОР ДЛЯ ОТОПЛЕНИЕ ; СИСТЕМА ДЛЯ ОТОПЛЕНИЕ ; СИСТЕМА ОТОПЛЕНИЕ ; УСТАНОВКА ДЛЯ ОТОПЛЕНИЕ ; УСТРОЙСТВО ДЛЯ ОТОПЛЕНИЕ ; УСТРОЙСТВО ОТОПЛЕНИЕ 1\n",
      "0.8093018931277257 1 4914-N ВОЗДУШНЫЙ РАДИОНАВИГАЦИЯ 1\n",
      "0.8112307131934867 1 221-N АВИАПОРТ ; АЭРОПОРТ ; ВОЗДУШНЫЙ ВОРОТА ; ВОЗДУШНЫЙ ГАВАНЬ ; ВОЗДУШНЫЙ ПОРТ 1\n",
      "0.8145795623480282 1 126826-N ВОЗДУШНЫЙ АКРОБАТ ; ВОЗДУШНЫЙ ГИМНАСТ ; ВОЗДУШНЫЙ ГИМНАСТКА 1\n",
      "0.8147550672927928 1 196-N АВИАТРАНСПОРТ ; АВИАЦИОННЫЙ ТРАНСПОРТ ; АЭРОТРАНСПОРТ ; ВОЗДУШНЫЙ ТРАНСПОРТ ; ТРАНСПОРТ ВОЗДУШНЫЙ 1\n",
      "0.8201279424208262 1 6732-N ЦЕНТРАЛЬЗОВАННЫЙ ОТОПЛЕНИЕ 2\n",
      "0.820495174600711 1 198-N ВОЗДУШНЫЙ МОСТ 2\n",
      "0.8208335472925038 1 224-N ВОЗДУХ ; ВОЗДУШНОЕ ПРОСТРАНСТВО ; ВОЗДУШНЫЙ ПРОСТРАНСТВО 1\n",
      "0.8217002198642527 1 110928-N ВОЗДУШНЫЙ ШАР ; ВОЗДУШНЫЙ ШАРИК 2\n",
      "0.8251491496888278 1 5312-N ВОЗДУШНЫЙ РЕЙС 1\n",
      "0.8252995588337774 1 224-N ВОЗДУШНОЕ ПРОСТРАНСТВО 1\n",
      "0.8252995588337774 1 224-N ВОЗДУШНЫЙ ПРОСТРАНСТВО 1\n",
      "0.8272360229970864 1 110927-N ВОЗДУШНЫЙ ШАР (АЭРОСТАТ) 2\n",
      "0.8274522853431252 1 6732-N ЦЕНТРАЛЬНЫЙ ОТОПЛЕНИЕ 2\n",
      "0.8274522853431252 1 6732-N ЦЕНТРАЛЬНОЕ ОТОПЛЕНИЕ 2\n",
      "0.8280087809129342 1 8728-N ВОЗДУШНЫЙ СРЕДСТВО ТРАНСПОРТ 2\n",
      "0.8281474798755257 1 222-N БЕЗОПАСНОСТЬ ВОЗДУШНЫЙ СУДНО 1\n",
      "0.8286616169676324 1 126826-N ВОЗДУШНЫЙ ГИМНАСТ 1\n",
      "0.829829105892459 1 198-N АВИАБИЗНЕС ; АВИАПЕРЕВОЗКА ; АВИАСООБЩЕНИЕ ; АВИАТРАНСПОРТНЫЙ РАБОТА ; АВИАТРАНСПОРТНЫЙ УСЛУГА ; АВИАУСЛУГА ; АВИАЦИОННЫЕ ПЕРЕВОЗКИ ; АВИАЦИОННЫЙ ПЕРЕВОЗКА ; АВИАЦИОННЫЙ СООБЩЕНИЕ ; ВОЗДУШНЫЙ ДВИЖЕНИЕ ; ВОЗДУШНЫЙ МОСТ ; ВОЗДУШНЫЙ ПЕРЕВОЗКА ; ВОЗДУШНЫЙ СООБЩЕНИЕ ; ПЕРЕВОЗКА АВИАТРАНСПОРТ ; ПЕРЕВОЗКА ВОЗДУШНЫЙ ТРАНСПОРТ ; ПЕРЕВОЗКА ПО ВОЗДУХ ; СООБЩЕНИЕ ПО ВОЗДУХ ; УСЛУГА АВИАТРАНСПОРТ 2\n",
      "0.8306389369193636 1 5583-N ПРИБОР ДЛЯ ОТОПЛЕНИЕ 1\n",
      "0.8306463629079868 1 142555-N ВОЗДУШНЫЙ СУДНО 2\n",
      "0.8310423101188584 1 110927-N ВОЗДУШНЫЙ ШАР 2\n",
      "0.8310423101188584 1 110928-N ВОЗДУШНЫЙ ШАР 2\n",
      "0.8322605774354866 1 221-N ВОЗДУШНЫЙ ПОРТ 1\n",
      "0.8324301154581336 1 8728-N ВОЗДУШНЫЙ ТРАНСПОРТНЫЙ СРЕДСТВО 2\n",
      "0.837242406716135 1 110928-N ВОЗДУШНЫЙ ШАРИК 2\n",
      "0.8380723740779428 1 142555-N ВОЗДУШНЫЙ КОРАБЛЬ 2\n",
      "0.8389064937770274 1 8855-N ПЕЧНОЕ ОТОПЛЕНИЕ ; ПЕЧНЫЙ ОТОПЛЕНИЕ 1\n",
      "0.8389064939999635 1 8855-N ПЕЧНОЕ ОТОПЛЕНИЕ 1\n",
      "0.8389064939999635 1 8855-N ПЕЧНЫЙ ОТОПЛЕНИЕ 1\n",
      "0.8421470861863989 1 119539-N ВОЗДУШНЫЙ, НЕВЕСОМЫЙ 1\n",
      "0.8443435355920845 1 110927-N ВОЗДУШНЫЙ ШАР ; ВОЗДУШНЫЙ ШАР (АЭРОСТАТ) ; МОНГОЛЬФЬЕР 2\n",
      "0.8460615613280783 1 6732-N ЦЕНТРАЛЬЗОВАННЫЙ ОТОПЛЕНИЕ ; ЦЕНТРАЛЬЗОВАННЫЙ ТЕПЛОСНАБЖЕНИЕ ; ЦЕНТРАЛЬНОЕ ОТОПЛЕНИЕ ; ЦЕНТРАЛЬНЫЙ ОТОПЛЕНИЕ ; ЦЕНТРАЛЬНЫЙ ТЕПЛОСНАБЖЕНИЕ 2\n",
      "0.8468139061411726 1 5583-N УСТРОЙСТВО ОТОПЛЕНИЕ 1\n",
      "0.8468139158476152 1 5583-N УСТРОЙСТВО ДЛЯ ОТОПЛЕНИЕ 1\n",
      "0.8485585505740084 1 197-N ВОЗДУШНЫЙ ЛИНИЯ 1\n",
      "0.8488526473020206 1 5583-N СИСТЕМА ОТОПЛЕНИЕ 1\n",
      "0.8488526625888161 1 5583-N СИСТЕМА ДЛЯ ОТОПЛЕНИЕ 1\n",
      "0.8489740736470396 1 197-N АВИАЛИНИЯ ; АВИАМАГИСТРАЛЬ ; АВИАМАРШРУТ ; АВИАТРАССА ; АВИАЦИОННЫЙ ЛИНИЯ ; АВИАЦИОННЫЙ МАРШРУТ ; АВИАЦИОННЫЙ ТРАССА ; ВОЗДУШНЫЙ ЛИНИЯ ; ВОЗДУШНЫЙ ПУТЬ ; ВОЗДУШНЫЙ ТРАССА 1\n",
      "0.8508964762040032 1 221-N ВОЗДУШНЫЙ ГАВАНЬ 1\n",
      "0.8527746749202422 1 943-N ГАЗИФИКАЦИЯ ; ПОДВЕДЕНИЕ ГАЗ ; ПОДВЕДЕНИЕ ГАЗОПРОВОД ; ПРОКЛАДКА ГАЗОВЫЙ КОММУНИКАЦИЯ ; ПРОКЛАДКА ГАЗОВЫЙ СЕТЬ ; ПРОКЛАДКА ГАЗОВЫЙ ТРУБА 3\n",
      "0.8535496417872273 1 126826-N ВОЗДУШНЫЙ АКРОБАТ 1\n",
      "0.8551968752271648 1 5583-N УСТАНОВКА ДЛЯ ОТОПЛЕНИЕ 1\n",
      "0.856901716061777 1 198-N ВОЗДУШНЫЙ СООБЩЕНИЕ 2\n",
      "0.8576103620989725 1 145875-N ВОЗДУШНАЯ ТРЕВОГА 1\n",
      "0.8576103620989725 1 145875-N ВОЗДУШНЫЙ ТРЕВОГА 1\n",
      "0.8576103644444883 1 145875-N ВОЗДУШНАЯ ТРЕВОГА ; ВОЗДУШНЫЙ ТРЕВОГА 1\n",
      "0.8598317821520836 1 126826-N ВОЗДУШНЫЙ ГИМНАСТКА 1\n",
      "0.86155021379561 1 151-N ГАЗОКОНДЕНСАТ 2\n",
      "0.8636152662577485 1 6-N ВЫСОКОВОЛЬТНЫЙ ПИТАНИЕ ; ОБЕСПЕЧЕНИЕ ЭЛЕКТРОЭНЕРГИЯ ; ПЕРЕДАЧА ЭЛЕКТРОЭНЕРГИЯ ; ПОДАЧА СВЕТ ; ПОДАЧА ЭЛЕКТРИЧЕСТВО ; ПОДАЧА ЭЛЕКТРОЭНЕРГИЯ ; ПОСТАВКА ЭЛЕКТРИЧЕСКИЙ ЭНЕРГИЯ ; ПОСТАВКА ЭЛЕКТРОЭНЕРГИЯ ; ТРАНСПОРТИРОВКА ЭЛЕКТРИЧЕСКИЙ ЭНЕРГИЯ ; ТРАНСПОРТИРОВКА ЭЛЕКТРОЭНЕРГИЯ ; ЭЛЕКТРООБЕСПЕЧЕНИЕ ; ЭЛЕКТРОПЕРЕДАЧА ; ЭЛЕКТРОСНАБЖЕНИЕ 2\n",
      "0.8645054464063983 1 221-N ВОЗДУШНЫЙ ВОРОТА 1\n",
      "0.8650412580403397 1 149900-N РУЛЕНИЕ ВОЗДУШНЫЙ СУДНО 2\n",
      "0.8655481178086404 1 198-N ВОЗДУШНЫЙ ДВИЖЕНИЕ 2\n",
      "0.8668776169908298 1 7969-N ВОЗДУШНЫЙ ДЕСАНТ 1\n",
      "0.8671229810121854 1 8347-N АВАРИЯ ВОЗДУШНЫЙ СУДНО 3\n",
      "0.867805676869597 1 5583-N ОБОРУДОВАНИЕ СИСТЕМА ОТОПЛЕНИЕ 1\n",
      "0.8723504385834105 1 125168-N ОТОПИТЕЛЬНЫЙ РАДИАТОР 1\n",
      "0.8729947463477212 1 125168-N ОТОПИТЕЛЬНЫЙ БАТАРЕЯ 1\n",
      "0.8731222681141568 1 489-N ВОДОСНАБЖЕНИЕ 1\n",
      "0.8759813898305601 1 136020-N УПРАВЛЕНИЕ ВОЗДУШНЫЙ ДВИЖЕНИЕ 0\n",
      "0.8759813898305601 1 136020-N УПРАВЛЕНИЕ ВОЗДУШНЫМ ДВИЖЕНИЕМ 0\n",
      "0.8761909843105726 1 5077-N ОБЕСПЕЧИВАНИЕ ТЕПЛО ; ПОДАЧА ТЕПЛЫЙ ; СНАБЖЕНИЕ ТЕПЛО ; СНАБЖЕНИЕ ТЕПЛО И ГОРЯЧИЙ ВОДА ; ТЕПЛО И ВОДОСНАБЖЕНИЕ ; ТЕПЛОВОДОСНАБЖЕНИЕ ; ТЕПЛООБЕСПЕЧЕНИЕ ; ТЕПЛОСНАБЖЕНИЕ ; ТЕПЛОФИКАЦИЯ ; ТЕПЛОЭНЕРГЕТИЧЕСКИЙ СНАБЖЕНИЕ 1\n",
      "0.8775763216093873 1 8728-N ВОЗДУШНЫЙ СРЕДСТВО ТРАНСПОРТ ; ВОЗДУШНЫЙ ТРАНСПОРТНЫЙ СРЕДСТВО ; КОРАБЛЬ ; ПИЛОТИРУЕМЫЙ ЛЕТАТЕЛЬНЫЙ АППАРАТ 2\n",
      "0.8779180159903897 1 126290-N ВОЗДУШНЫЙ ЗМЕЙ 1\n",
      "0.8787809200548381 1 130098-N ВОЗДУШНЫЙ ПОЦЕЛУЙ 1\n",
      "0.8799115668017734 1 8347-N ВОЗДУШНЫЙ КАТАСТРОФА 3\n",
      "0.8809915818464865 1 143522-N ТЕПЛОУСТОЙЧИВОСТЬ 1\n",
      "0.8811307198818644 1 9416-N ВОЕННО-ВОЗДУШНЫЙ СУДНО 1\n",
      "0.8892246773218765 1 12-N ТЕПЛОВАЯ ЭЛЕКТРОСТАНЦИЯ ; ТЕПЛОВОЙ СТАНЦИЯ ; ТЕПЛОВОЙ ЭЛЕКТРИЧЕСКИЙ СТАНЦИЯ ; ТЕПЛОВОЙ ЭЛЕКТРОСТАНЦИЯ ; ТЕПЛОСТАНЦИЯ ; ТЕПЛОЭЛЕКТРОСТАНЦИЯ ; ТОПЛИВНЫЙ ЭЛЕКТРОСТАНЦИЯ ; ТЭС 1\n",
      "100\n",
      "1.3448335267523024 5583-N ОТОПИТЕЛЬНОЕ ОБОРУДОВАНИЕ\n",
      "1.3214283935173883 4435-N ТЕПЛОВОЕ ОБОРУДОВАНИЕ\n",
      "1.0518940948376705 144-N ОТОПЛЕНИЕ\n",
      "0.8393422818255148 5077-N ТЕПЛОСНАБЖЕНИЕ\n",
      "0.8393422818255148 145137-N КЛИМАТ-КОНТРОЛЬ\n",
      "0.8393422818255148 145131-N ОБОГРЕВ ПОМЕЩЕНИЯ\n",
      "0.6817094113934841 106555-N ТЕХНИЧЕСКОЕ УСТРОЙСТВО\n",
      "0.6302905009334296 149201-N ИНЖЕНЕРНОЕ ОБОРУДОВАНИЕ\n",
      "0.5062704008614377 2070-N ЭЛЕКТРОТЕХНИЧЕСКОЕ ОБОРУДОВАНИЕ\n",
      "0.4978270056602163 170-N ТРАНСПОРТНЫЕ ПЕРЕВОЗКИ\n"
     ]
    }
   ],
   "source": [
    "hypos = my_knn.hypotheses_knn(\n",
    "    word, \n",
    "        index=w2v_tree, text2vec=w2v_embedder, \n",
    "        synset_storage=syns_storage, rel_storage=rel_storage,\n",
    "        decay=3, \n",
    "        k=100, \n",
    "        grand_mult=0.5,\n",
    "        neighbor_scorer=w2v_scorer,\n",
    "    verbose=True,\n",
    ")  "
   ]
  },
  {
   "cell_type": "markdown",
   "metadata": {},
   "source": [
    "* на \"слог\" вылезает какая-то муть, типа \"краткий\" - походу, прилетело прилагательное!"
   ]
  },
  {
   "cell_type": "markdown",
   "metadata": {},
   "source": [
    "# Оценка применения"
   ]
  },
  {
   "cell_type": "code",
   "execution_count": 63,
   "metadata": {},
   "outputs": [],
   "source": [
    "public_test_verbs = pd.read_csv('../data/public_test/nouns_public.tsv', header=None)\n",
    "public_test_verbs.columns = ['text']"
   ]
  },
  {
   "cell_type": "code",
   "execution_count": 27,
   "metadata": {},
   "outputs": [
    {
     "name": "stdout",
     "output_type": "stream",
     "text": [
      "number of texts: 86549\n",
      "forbidden senses are 0\n",
      "numer of ids 29296 long list is 119273\n"
     ]
    },
    {
     "data": {
      "application/vnd.jupyter.widget-view+json": {
       "model_id": "c6a0204988d2484ca29ea42ae6666843",
       "version_major": 2,
       "version_minor": 0
      },
      "text/plain": [
       "HBox(children=(FloatProgress(value=1.0, bar_style='info', max=1.0), HTML(value='')))"
      ]
     },
     "metadata": {},
     "output_type": "display_data"
    },
    {
     "name": "stdout",
     "output_type": "stream",
     "text": [
      "\n",
      "28118\n",
      "555\n",
      "5\n",
      "37249\n"
     ]
    }
   ],
   "source": [
    "full_syn_storage, full_rel_storage, full_rel_df = my_knn.prepare_storages(\n",
    "    synsets_filename='../data/ruwordnet/synsets.N.xml',\n",
    "    relations_filename='../data/ruwordnet/synset_relations.N.xml',\n",
    "    forbidden_words=set()\n",
    ")"
   ]
  },
  {
   "cell_type": "code",
   "execution_count": 28,
   "metadata": {},
   "outputs": [
    {
     "data": {
      "application/vnd.jupyter.widget-view+json": {
       "model_id": "596f158c19bc4f438e2ad84ddffcea44",
       "version_major": 2,
       "version_minor": 0
      },
      "text/plain": [
       "HBox(children=(FloatProgress(value=0.0, max=119273.0), HTML(value='')))"
      ]
     },
     "metadata": {},
     "output_type": "display_data"
    },
    {
     "name": "stdout",
     "output_type": "stream",
     "text": [
      "\n"
     ]
    }
   ],
   "source": [
    "full_ft_vecs = np.stack([ft_embedder(t) for t in tqdm(full_syn_storage.texts_long) ])\n",
    "full_ft_tree = KDTree(full_ft_vecs)"
   ]
  },
  {
   "cell_type": "code",
   "execution_count": 64,
   "metadata": {},
   "outputs": [
    {
     "data": {
      "application/vnd.jupyter.widget-view+json": {
       "model_id": "daebc26803684d659d9ffcf767cb33d9",
       "version_major": 2,
       "version_minor": 0
      },
      "text/plain": [
       "HBox(children=(FloatProgress(value=0.0, max=119273.0), HTML(value='')))"
      ]
     },
     "metadata": {},
     "output_type": "display_data"
    },
    {
     "name": "stdout",
     "output_type": "stream",
     "text": [
      "\n"
     ]
    }
   ],
   "source": [
    "full_w2v_vecs = np.stack([w2v_embedder(t) for t in tqdm(full_syn_storage.texts_long) ])\n",
    "full_w2v_tree = KDTree(full_w2v_vecs)"
   ]
  },
  {
   "cell_type": "code",
   "execution_count": 171,
   "metadata": {},
   "outputs": [
    {
     "data": {
      "application/vnd.jupyter.widget-view+json": {
       "model_id": "d3671551fa2546cfabc37478f1dc9977",
       "version_major": 2,
       "version_minor": 0
      },
      "text/plain": [
       "HBox(children=(FloatProgress(value=0.0, max=119273.0), HTML(value='')))"
      ]
     },
     "metadata": {},
     "output_type": "display_data"
    },
    {
     "name": "stdout",
     "output_type": "stream",
     "text": [
      "\n"
     ]
    }
   ],
   "source": [
    "full_w2v_vecs_pos = np.stack([w2v_embedder_pos(t) for t in tqdm(full_syn_storage.texts_long) ])\n",
    "full_w2v_tree_pos = KDTree(full_w2v_vecs_pos)"
   ]
  },
  {
   "cell_type": "code",
   "execution_count": 176,
   "metadata": {},
   "outputs": [
    {
     "data": {
      "application/vnd.jupyter.widget-view+json": {
       "model_id": "105449f4fe0843098e1dac552b67895b",
       "version_major": 2,
       "version_minor": 0
      },
      "text/plain": [
       "HBox(children=(FloatProgress(value=0.0, max=762.0), HTML(value='')))"
      ]
     },
     "metadata": {},
     "output_type": "display_data"
    },
    {
     "name": "stdout",
     "output_type": "stream",
     "text": [
      "\n"
     ]
    }
   ],
   "source": [
    "public_test_hypos = {\n",
    "    txt: \n",
    "    my_knn.hypotheses_knn(\n",
    "        txt, \n",
    "        #index=full_ft_tree, text2vec=ft_embedder, \n",
    "        index=full_w2v_tree_pos, text2vec=w2v_embedder_pos,\n",
    "        synset_storage=full_syn_storage, rel_storage=full_rel_storage,\n",
    "        decay=3, \n",
    "        k=100, \n",
    "        grand_mult=0.5,\n",
    "        neighbor_scorer=w2v_scorer,\n",
    "    )  \n",
    "    for txt in tqdm(public_test_verbs.text)\n",
    "}"
   ]
  },
  {
   "cell_type": "code",
   "execution_count": 182,
   "metadata": {},
   "outputs": [
    {
     "data": {
      "text/html": [
       "<div>\n",
       "<style scoped>\n",
       "    .dataframe tbody tr th:only-of-type {\n",
       "        vertical-align: middle;\n",
       "    }\n",
       "\n",
       "    .dataframe tbody tr th {\n",
       "        vertical-align: top;\n",
       "    }\n",
       "\n",
       "    .dataframe thead th {\n",
       "        text-align: right;\n",
       "    }\n",
       "</style>\n",
       "<table border=\"1\" class=\"dataframe\">\n",
       "  <thead>\n",
       "    <tr style=\"text-align: right;\">\n",
       "      <th></th>\n",
       "      <th>noun</th>\n",
       "      <th>result</th>\n",
       "      <th>result_text</th>\n",
       "    </tr>\n",
       "  </thead>\n",
       "  <tbody>\n",
       "    <tr>\n",
       "      <th>0</th>\n",
       "      <td>АБДОМИНОПЛАСТИКА</td>\n",
       "      <td>616-N</td>\n",
       "      <td>БОЛЕЗНЬ</td>\n",
       "    </tr>\n",
       "    <tr>\n",
       "      <th>1</th>\n",
       "      <td>АБДОМИНОПЛАСТИКА</td>\n",
       "      <td>106665-N</td>\n",
       "      <td>НАРУШИТЬ СОСТОЯНИЕ, ХОД</td>\n",
       "    </tr>\n",
       "    <tr>\n",
       "      <th>2</th>\n",
       "      <td>АБДОМИНОПЛАСТИКА</td>\n",
       "      <td>3406-N</td>\n",
       "      <td>ПОВРЕЖДЕНИЕ ЗДОРОВЬЯ</td>\n",
       "    </tr>\n",
       "    <tr>\n",
       "      <th>3</th>\n",
       "      <td>АБДОМИНОПЛАСТИКА</td>\n",
       "      <td>106567-N</td>\n",
       "      <td>ФИЗИЧЕСКОЕ САМОЧУВСТВИЕ</td>\n",
       "    </tr>\n",
       "    <tr>\n",
       "      <th>4</th>\n",
       "      <td>АБДОМИНОПЛАСТИКА</td>\n",
       "      <td>1047-N</td>\n",
       "      <td>МЕДИЦИНА</td>\n",
       "    </tr>\n",
       "    <tr>\n",
       "      <th>...</th>\n",
       "      <td>...</td>\n",
       "      <td>...</td>\n",
       "      <td>...</td>\n",
       "    </tr>\n",
       "    <tr>\n",
       "      <th>7615</th>\n",
       "      <td>ЯТАГАН</td>\n",
       "      <td>5900-N</td>\n",
       "      <td>МЕТАЛЛИЧЕСКОЕ ИЗДЕЛИЕ</td>\n",
       "    </tr>\n",
       "    <tr>\n",
       "      <th>7616</th>\n",
       "      <td>ЯТАГАН</td>\n",
       "      <td>784-N</td>\n",
       "      <td>ОРУЖИЕ</td>\n",
       "    </tr>\n",
       "    <tr>\n",
       "      <th>7617</th>\n",
       "      <td>ЯТАГАН</td>\n",
       "      <td>106553-N</td>\n",
       "      <td>ПРИСПОСОБЛЕНИЕ, ИНСТРУМЕНТ</td>\n",
       "    </tr>\n",
       "    <tr>\n",
       "      <th>7618</th>\n",
       "      <td>ЯТАГАН</td>\n",
       "      <td>112933-N</td>\n",
       "      <td>ОТВЕТИТЬ, ПОСТУПИТЬ В ОТВЕТ</td>\n",
       "    </tr>\n",
       "    <tr>\n",
       "      <th>7619</th>\n",
       "      <td>ЯТАГАН</td>\n",
       "      <td>146046-N</td>\n",
       "      <td>НОЖ (ХОЛОДНОЕ ОРУЖИЕ)</td>\n",
       "    </tr>\n",
       "  </tbody>\n",
       "</table>\n",
       "<p>7620 rows × 3 columns</p>\n",
       "</div>"
      ],
      "text/plain": [
       "                  noun    result                  result_text\n",
       "0     АБДОМИНОПЛАСТИКА     616-N                      БОЛЕЗНЬ\n",
       "1     АБДОМИНОПЛАСТИКА  106665-N      НАРУШИТЬ СОСТОЯНИЕ, ХОД\n",
       "2     АБДОМИНОПЛАСТИКА    3406-N         ПОВРЕЖДЕНИЕ ЗДОРОВЬЯ\n",
       "3     АБДОМИНОПЛАСТИКА  106567-N      ФИЗИЧЕСКОЕ САМОЧУВСТВИЕ\n",
       "4     АБДОМИНОПЛАСТИКА    1047-N                     МЕДИЦИНА\n",
       "...                ...       ...                          ...\n",
       "7615            ЯТАГАН    5900-N        МЕТАЛЛИЧЕСКОЕ ИЗДЕЛИЕ\n",
       "7616            ЯТАГАН     784-N                       ОРУЖИЕ\n",
       "7617            ЯТАГАН  106553-N   ПРИСПОСОБЛЕНИЕ, ИНСТРУМЕНТ\n",
       "7618            ЯТАГАН  112933-N  ОТВЕТИТЬ, ПОСТУПИТЬ В ОТВЕТ\n",
       "7619            ЯТАГАН  146046-N        НОЖ (ХОЛОДНОЕ ОРУЖИЕ)\n",
       "\n",
       "[7620 rows x 3 columns]"
      ]
     },
     "execution_count": 182,
     "metadata": {},
     "output_type": "execute_result"
    }
   ],
   "source": [
    "sub = my_knn.dict2submission(public_test_hypos, syns_storage.id2synset)\n",
    "sub"
   ]
  },
  {
   "cell_type": "code",
   "execution_count": 183,
   "metadata": {},
   "outputs": [
    {
     "data": {
      "text/html": [
       "<div>\n",
       "<style scoped>\n",
       "    .dataframe tbody tr th:only-of-type {\n",
       "        vertical-align: middle;\n",
       "    }\n",
       "\n",
       "    .dataframe tbody tr th {\n",
       "        vertical-align: top;\n",
       "    }\n",
       "\n",
       "    .dataframe thead th {\n",
       "        text-align: right;\n",
       "    }\n",
       "</style>\n",
       "<table border=\"1\" class=\"dataframe\">\n",
       "  <thead>\n",
       "    <tr style=\"text-align: right;\">\n",
       "      <th></th>\n",
       "      <th>noun</th>\n",
       "      <th>result</th>\n",
       "      <th>result_text</th>\n",
       "    </tr>\n",
       "  </thead>\n",
       "  <tbody>\n",
       "    <tr>\n",
       "      <th>0</th>\n",
       "      <td>АБДОМИНОПЛАСТИКА</td>\n",
       "      <td>616-N</td>\n",
       "      <td>БОЛЕЗНЬ</td>\n",
       "    </tr>\n",
       "    <tr>\n",
       "      <th>1</th>\n",
       "      <td>АБДОМИНОПЛАСТИКА</td>\n",
       "      <td>106665-N</td>\n",
       "      <td>НАРУШИТЬ СОСТОЯНИЕ, ХОД</td>\n",
       "    </tr>\n",
       "    <tr>\n",
       "      <th>2</th>\n",
       "      <td>АБДОМИНОПЛАСТИКА</td>\n",
       "      <td>3406-N</td>\n",
       "      <td>ПОВРЕЖДЕНИЕ ЗДОРОВЬЯ</td>\n",
       "    </tr>\n",
       "    <tr>\n",
       "      <th>3</th>\n",
       "      <td>АБДОМИНОПЛАСТИКА</td>\n",
       "      <td>106567-N</td>\n",
       "      <td>ФИЗИЧЕСКОЕ САМОЧУВСТВИЕ</td>\n",
       "    </tr>\n",
       "    <tr>\n",
       "      <th>4</th>\n",
       "      <td>АБДОМИНОПЛАСТИКА</td>\n",
       "      <td>1047-N</td>\n",
       "      <td>МЕДИЦИНА</td>\n",
       "    </tr>\n",
       "    <tr>\n",
       "      <th>5</th>\n",
       "      <td>АБДОМИНОПЛАСТИКА</td>\n",
       "      <td>108862-N</td>\n",
       "      <td>ВОСПАЛЕНИЕ (БОЛЕЗНЕННЫЙ ПРОЦЕСС)</td>\n",
       "    </tr>\n",
       "    <tr>\n",
       "      <th>6</th>\n",
       "      <td>АБДОМИНОПЛАСТИКА</td>\n",
       "      <td>5804-N</td>\n",
       "      <td>КАРДИОЛОГИЯ</td>\n",
       "    </tr>\n",
       "    <tr>\n",
       "      <th>7</th>\n",
       "      <td>АБДОМИНОПЛАСТИКА</td>\n",
       "      <td>1064-N</td>\n",
       "      <td>ХИРУРГИЯ</td>\n",
       "    </tr>\n",
       "    <tr>\n",
       "      <th>8</th>\n",
       "      <td>АБДОМИНОПЛАСТИКА</td>\n",
       "      <td>6129-N</td>\n",
       "      <td>СЕРДЕЧНО-СОСУДИСТЫЕ ЗАБОЛЕВАНИЯ</td>\n",
       "    </tr>\n",
       "    <tr>\n",
       "      <th>9</th>\n",
       "      <td>АБДОМИНОПЛАСТИКА</td>\n",
       "      <td>2977-N</td>\n",
       "      <td>МЕДИЦИНСКОЕ ОБОРУДОВАНИЕ</td>\n",
       "    </tr>\n",
       "    <tr>\n",
       "      <th>10</th>\n",
       "      <td>АБСОРБЕНТ</td>\n",
       "      <td>115222-N</td>\n",
       "      <td>ПОГЛОТИТЬ (ВОБРАТЬ)</td>\n",
       "    </tr>\n",
       "    <tr>\n",
       "      <th>11</th>\n",
       "      <td>АБСОРБЕНТ</td>\n",
       "      <td>115221-N</td>\n",
       "      <td>ВОБРАТЬ В СЕБЯ</td>\n",
       "    </tr>\n",
       "    <tr>\n",
       "      <th>12</th>\n",
       "      <td>АБСОРБЕНТ</td>\n",
       "      <td>820-N</td>\n",
       "      <td>ВЕЩЕСТВО</td>\n",
       "    </tr>\n",
       "    <tr>\n",
       "      <th>13</th>\n",
       "      <td>АБСОРБЕНТ</td>\n",
       "      <td>116549-N</td>\n",
       "      <td>КОПИТЬ, НАКАПЛИВАТЬ</td>\n",
       "    </tr>\n",
       "    <tr>\n",
       "      <th>14</th>\n",
       "      <td>АБСОРБЕНТ</td>\n",
       "      <td>112136-N</td>\n",
       "      <td>ПРОПУСТИТЬ (ДАТЬ ПРОНИКНУТЬ)</td>\n",
       "    </tr>\n",
       "  </tbody>\n",
       "</table>\n",
       "</div>"
      ],
      "text/plain": [
       "                noun    result                       result_text\n",
       "0   АБДОМИНОПЛАСТИКА     616-N                           БОЛЕЗНЬ\n",
       "1   АБДОМИНОПЛАСТИКА  106665-N           НАРУШИТЬ СОСТОЯНИЕ, ХОД\n",
       "2   АБДОМИНОПЛАСТИКА    3406-N              ПОВРЕЖДЕНИЕ ЗДОРОВЬЯ\n",
       "3   АБДОМИНОПЛАСТИКА  106567-N           ФИЗИЧЕСКОЕ САМОЧУВСТВИЕ\n",
       "4   АБДОМИНОПЛАСТИКА    1047-N                          МЕДИЦИНА\n",
       "5   АБДОМИНОПЛАСТИКА  108862-N  ВОСПАЛЕНИЕ (БОЛЕЗНЕННЫЙ ПРОЦЕСС)\n",
       "6   АБДОМИНОПЛАСТИКА    5804-N                       КАРДИОЛОГИЯ\n",
       "7   АБДОМИНОПЛАСТИКА    1064-N                          ХИРУРГИЯ\n",
       "8   АБДОМИНОПЛАСТИКА    6129-N   СЕРДЕЧНО-СОСУДИСТЫЕ ЗАБОЛЕВАНИЯ\n",
       "9   АБДОМИНОПЛАСТИКА    2977-N          МЕДИЦИНСКОЕ ОБОРУДОВАНИЕ\n",
       "10         АБСОРБЕНТ  115222-N               ПОГЛОТИТЬ (ВОБРАТЬ)\n",
       "11         АБСОРБЕНТ  115221-N                    ВОБРАТЬ В СЕБЯ\n",
       "12         АБСОРБЕНТ     820-N                          ВЕЩЕСТВО\n",
       "13         АБСОРБЕНТ  116549-N               КОПИТЬ, НАКАПЛИВАТЬ\n",
       "14         АБСОРБЕНТ  112136-N      ПРОПУСТИТЬ (ДАТЬ ПРОНИКНУТЬ)"
      ]
     },
     "execution_count": 183,
     "metadata": {},
     "output_type": "execute_result"
    }
   ],
   "source": [
    "sub.to_csv('results/nouns_v4_w2v_only_simp5_pnlty_pos_weight.tsv', sep='\\t', encoding='utf-8', header=None, index=None)\n",
    "sub.head(15)"
   ]
  },
  {
   "cell_type": "markdown",
   "metadata": {},
   "source": [
    "# Финальная заливка"
   ]
  },
  {
   "cell_type": "code",
   "execution_count": 172,
   "metadata": {},
   "outputs": [],
   "source": [
    "private_test_verbs = pd.read_csv('../data/private_test/nouns_private.tsv', header=None)\n",
    "private_test_verbs.columns = ['text']"
   ]
  },
  {
   "cell_type": "code",
   "execution_count": 173,
   "metadata": {},
   "outputs": [
    {
     "data": {
      "application/vnd.jupyter.widget-view+json": {
       "model_id": "87664437768548dba13ca70a6d68db49",
       "version_major": 2,
       "version_minor": 0
      },
      "text/plain": [
       "HBox(children=(FloatProgress(value=0.0, max=1525.0), HTML(value='')))"
      ]
     },
     "metadata": {},
     "output_type": "display_data"
    },
    {
     "name": "stdout",
     "output_type": "stream",
     "text": [
      "\n"
     ]
    }
   ],
   "source": [
    "private_test_hypos = {\n",
    "    txt: \n",
    "    my_knn.hypotheses_knn(\n",
    "        txt, \n",
    "        #index=full_ft_tree, text2vec=ft_embedder, \n",
    "        index=full_w2v_tree_pos, text2vec=w2v_embedder_pos,\n",
    "        synset_storage=full_syn_storage, rel_storage=full_rel_storage,\n",
    "        decay=3, \n",
    "        k=100, \n",
    "        grand_mult=0.5,\n",
    "        neighbor_scorer=w2v_scorer,\n",
    "    )  \n",
    "    for txt in tqdm(private_test_verbs.text)\n",
    "}"
   ]
  },
  {
   "cell_type": "code",
   "execution_count": 179,
   "metadata": {},
   "outputs": [],
   "source": [
    "sub = my_knn.dict2submission(private_test_hypos, syns_storage.id2synset)"
   ]
  },
  {
   "cell_type": "code",
   "execution_count": 180,
   "metadata": {},
   "outputs": [
    {
     "data": {
      "text/html": [
       "<div>\n",
       "<style scoped>\n",
       "    .dataframe tbody tr th:only-of-type {\n",
       "        vertical-align: middle;\n",
       "    }\n",
       "\n",
       "    .dataframe tbody tr th {\n",
       "        vertical-align: top;\n",
       "    }\n",
       "\n",
       "    .dataframe thead th {\n",
       "        text-align: right;\n",
       "    }\n",
       "</style>\n",
       "<table border=\"1\" class=\"dataframe\">\n",
       "  <thead>\n",
       "    <tr style=\"text-align: right;\">\n",
       "      <th></th>\n",
       "      <th>noun</th>\n",
       "      <th>result</th>\n",
       "      <th>result_text</th>\n",
       "    </tr>\n",
       "  </thead>\n",
       "  <tbody>\n",
       "    <tr>\n",
       "      <th>0</th>\n",
       "      <td>АБСЕНТЕИЗМ</td>\n",
       "      <td>548-N</td>\n",
       "      <td>АЛКОГОЛЬНЫЙ НАПИТОК</td>\n",
       "    </tr>\n",
       "    <tr>\n",
       "      <th>1</th>\n",
       "      <td>АБСЕНТЕИЗМ</td>\n",
       "      <td>108336-N</td>\n",
       "      <td>КРЕПКИЙ АЛКОГОЛЬНЫЙ НАПИТОК</td>\n",
       "    </tr>\n",
       "    <tr>\n",
       "      <th>2</th>\n",
       "      <td>АБСЕНТЕИЗМ</td>\n",
       "      <td>549-N</td>\n",
       "      <td>НАПИТОК</td>\n",
       "    </tr>\n",
       "    <tr>\n",
       "      <th>3</th>\n",
       "      <td>АБСЕНТЕИЗМ</td>\n",
       "      <td>8367-N</td>\n",
       "      <td>ВИНО</td>\n",
       "    </tr>\n",
       "    <tr>\n",
       "      <th>4</th>\n",
       "      <td>АБСЕНТЕИЗМ</td>\n",
       "      <td>142362-N</td>\n",
       "      <td>СПИРТОСОДЕРЖАЩАЯ ПРОДУКЦИЯ</td>\n",
       "    </tr>\n",
       "    <tr>\n",
       "      <th>5</th>\n",
       "      <td>АБСЕНТЕИЗМ</td>\n",
       "      <td>3675-N</td>\n",
       "      <td>ЖИДКОСТЬ</td>\n",
       "    </tr>\n",
       "    <tr>\n",
       "      <th>6</th>\n",
       "      <td>АБСЕНТЕИЗМ</td>\n",
       "      <td>9419-N</td>\n",
       "      <td>ОДУРМАНИВАЮЩЕЕ ВЕЩЕСТВО</td>\n",
       "    </tr>\n",
       "    <tr>\n",
       "      <th>7</th>\n",
       "      <td>АБСЕНТЕИЗМ</td>\n",
       "      <td>550-N</td>\n",
       "      <td>БЕЗАЛКОГОЛЬНЫЕ НАПИТКИ</td>\n",
       "    </tr>\n",
       "    <tr>\n",
       "      <th>8</th>\n",
       "      <td>АБСЕНТЕИЗМ</td>\n",
       "      <td>368-N</td>\n",
       "      <td>ПРОДУКТЫ ПИТАНИЯ</td>\n",
       "    </tr>\n",
       "    <tr>\n",
       "      <th>9</th>\n",
       "      <td>АБСЕНТЕИЗМ</td>\n",
       "      <td>108232-N</td>\n",
       "      <td>ДЕСЕРТНОЕ ВИНО</td>\n",
       "    </tr>\n",
       "    <tr>\n",
       "      <th>10</th>\n",
       "      <td>АБСОЛЮТИЗАЦИЯ</td>\n",
       "      <td>119563-N</td>\n",
       "      <td>МИРОВОЗЗРЕНИЕ</td>\n",
       "    </tr>\n",
       "    <tr>\n",
       "      <th>11</th>\n",
       "      <td>АБСОЛЮТИЗАЦИЯ</td>\n",
       "      <td>132973-N</td>\n",
       "      <td>ФИЛОСОФСКОЕ УЧЕНИЕ</td>\n",
       "    </tr>\n",
       "    <tr>\n",
       "      <th>12</th>\n",
       "      <td>АБСОЛЮТИЗАЦИЯ</td>\n",
       "      <td>124135-N</td>\n",
       "      <td>ИДЕОЛОГИЯ</td>\n",
       "    </tr>\n",
       "    <tr>\n",
       "      <th>13</th>\n",
       "      <td>АБСОЛЮТИЗАЦИЯ</td>\n",
       "      <td>116751-N</td>\n",
       "      <td>ПРИУКРАСИТЬ, ВЫГОДНО ПРЕДСТАВИТЬ</td>\n",
       "    </tr>\n",
       "    <tr>\n",
       "      <th>14</th>\n",
       "      <td>АБСОЛЮТИЗАЦИЯ</td>\n",
       "      <td>121514-N</td>\n",
       "      <td>УЧЕНИЕ (СОВОКУПНОСТЬ ТЕОРЕТИЧ. ПОЛОЖЕНИЙ)</td>\n",
       "    </tr>\n",
       "  </tbody>\n",
       "</table>\n",
       "</div>"
      ],
      "text/plain": [
       "             noun    result                                result_text\n",
       "0      АБСЕНТЕИЗМ     548-N                        АЛКОГОЛЬНЫЙ НАПИТОК\n",
       "1      АБСЕНТЕИЗМ  108336-N                КРЕПКИЙ АЛКОГОЛЬНЫЙ НАПИТОК\n",
       "2      АБСЕНТЕИЗМ     549-N                                    НАПИТОК\n",
       "3      АБСЕНТЕИЗМ    8367-N                                       ВИНО\n",
       "4      АБСЕНТЕИЗМ  142362-N                 СПИРТОСОДЕРЖАЩАЯ ПРОДУКЦИЯ\n",
       "5      АБСЕНТЕИЗМ    3675-N                                   ЖИДКОСТЬ\n",
       "6      АБСЕНТЕИЗМ    9419-N                    ОДУРМАНИВАЮЩЕЕ ВЕЩЕСТВО\n",
       "7      АБСЕНТЕИЗМ     550-N                     БЕЗАЛКОГОЛЬНЫЕ НАПИТКИ\n",
       "8      АБСЕНТЕИЗМ     368-N                           ПРОДУКТЫ ПИТАНИЯ\n",
       "9      АБСЕНТЕИЗМ  108232-N                             ДЕСЕРТНОЕ ВИНО\n",
       "10  АБСОЛЮТИЗАЦИЯ  119563-N                              МИРОВОЗЗРЕНИЕ\n",
       "11  АБСОЛЮТИЗАЦИЯ  132973-N                         ФИЛОСОФСКОЕ УЧЕНИЕ\n",
       "12  АБСОЛЮТИЗАЦИЯ  124135-N                                  ИДЕОЛОГИЯ\n",
       "13  АБСОЛЮТИЗАЦИЯ  116751-N           ПРИУКРАСИТЬ, ВЫГОДНО ПРЕДСТАВИТЬ\n",
       "14  АБСОЛЮТИЗАЦИЯ  121514-N  УЧЕНИЕ (СОВОКУПНОСТЬ ТЕОРЕТИЧ. ПОЛОЖЕНИЙ)"
      ]
     },
     "execution_count": 180,
     "metadata": {},
     "output_type": "execute_result"
    }
   ],
   "source": [
    "sub.to_csv('results/private_nouns_v4_w2v_only_simp5_pnlty_pos_weight.tsv', sep='\\t', encoding='utf-8', header=None, index=None)\n",
    "sub.head(15)"
   ]
  },
  {
   "cell_type": "code",
   "execution_count": null,
   "metadata": {},
   "outputs": [],
   "source": []
  }
 ],
 "metadata": {
  "kernelspec": {
   "display_name": "Python 3",
   "language": "python",
   "name": "python3"
  },
  "language_info": {
   "codemirror_mode": {
    "name": "ipython",
    "version": 3
   },
   "file_extension": ".py",
   "mimetype": "text/x-python",
   "name": "python",
   "nbconvert_exporter": "python",
   "pygments_lexer": "ipython3",
   "version": "3.6.8"
  }
 },
 "nbformat": 4,
 "nbformat_minor": 2
}
