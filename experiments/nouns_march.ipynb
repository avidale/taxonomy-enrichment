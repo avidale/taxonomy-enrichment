{
 "cells": [
  {
   "cell_type": "code",
   "execution_count": 1,
   "metadata": {},
   "outputs": [],
   "source": [
    "import pandas as pd\n",
    "import numpy as np\n",
    "import pickle\n",
    "from collections import Counter, defaultdict"
   ]
  },
  {
   "cell_type": "code",
   "execution_count": 2,
   "metadata": {},
   "outputs": [],
   "source": [
    "import sys\n",
    "import os\n",
    "def add_sys_path(p):\n",
    "    p = os.path.abspath(p)\n",
    "    if p not in sys.path:\n",
    "        sys.path.append(p)\n",
    "\n",
    "add_sys_path('..')"
   ]
  },
  {
   "cell_type": "code",
   "execution_count": 3,
   "metadata": {},
   "outputs": [],
   "source": [
    "import evaluate"
   ]
  },
  {
   "cell_type": "code",
   "execution_count": 4,
   "metadata": {},
   "outputs": [],
   "source": [
    "import data_split"
   ]
  },
  {
   "cell_type": "code",
   "execution_count": 5,
   "metadata": {},
   "outputs": [],
   "source": [
    "from evaluate import read_dataset"
   ]
  },
  {
   "cell_type": "code",
   "execution_count": 6,
   "metadata": {},
   "outputs": [],
   "source": [
    "import json"
   ]
  },
  {
   "cell_type": "code",
   "execution_count": 7,
   "metadata": {},
   "outputs": [],
   "source": [
    "from tqdm.auto import tqdm, trange"
   ]
  },
  {
   "cell_type": "markdown",
   "metadata": {},
   "source": [
    "# Чтение и сплит данных"
   ]
  },
  {
   "cell_type": "code",
   "execution_count": 8,
   "metadata": {},
   "outputs": [],
   "source": [
    "n_ds = read_dataset('../data/training_data/training_nouns.tsv',  lambda x: json.loads(x))"
   ]
  },
  {
   "cell_type": "code",
   "execution_count": 9,
   "metadata": {},
   "outputs": [
    {
     "data": {
      "text/plain": [
       "25376"
      ]
     },
     "execution_count": 9,
     "metadata": {},
     "output_type": "execute_result"
    }
   ],
   "source": [
    "len(n_ds)"
   ]
  },
  {
   "cell_type": "code",
   "execution_count": 11,
   "metadata": {},
   "outputs": [],
   "source": [
    "train, dev, test1, test2, hid, forbidden_words = data_split.split_dict(n_ds)"
   ]
  },
  {
   "cell_type": "markdown",
   "metadata": {},
   "source": [
    "# Применение бейзлайна"
   ]
  },
  {
   "cell_type": "code",
   "execution_count": 12,
   "metadata": {},
   "outputs": [
    {
     "data": {
      "text/plain": [
       "<module 'my_knn' from 'C:\\\\Users\\\\ddale\\\\YandexDisk\\\\code\\\\NLP\\\\taxonomy-enrichment\\\\experiments\\\\my_knn.py'>"
      ]
     },
     "execution_count": 12,
     "metadata": {},
     "output_type": "execute_result"
    }
   ],
   "source": [
    "import my_knn\n",
    "from importlib import reload\n",
    "reload(my_knn)"
   ]
  },
  {
   "cell_type": "code",
   "execution_count": 14,
   "metadata": {},
   "outputs": [],
   "source": [
    "import gensim\n",
    "# this is araneum 2018 ft model from rusvectores\n",
    "ft = gensim.models.fasttext.FastTextKeyedVectors.load(\n",
    "    'C:/Users/ddale/Downloads/NLP/rusvectores/model.model'\n",
    ")"
   ]
  },
  {
   "cell_type": "code",
   "execution_count": 15,
   "metadata": {},
   "outputs": [
    {
     "name": "stdout",
     "output_type": "stream",
     "text": [
      "(300,)\n"
     ]
    }
   ],
   "source": [
    "ft_embedder = my_knn.SentenceEmbedder(ft=ft, n=300, normalize_word=True, pos_weights={'INFN': 1.0, 'PREP': 0.1})\n",
    "print(ft_embedder('привет как дела').shape)"
   ]
  },
  {
   "cell_type": "code",
   "execution_count": 16,
   "metadata": {},
   "outputs": [],
   "source": [
    "taiga = gensim.models.KeyedVectors.load_word2vec_format(\n",
    "    'C:/Users/ddale/Downloads/NLP/rusvectores/taiga_skipgram/model.bin', \n",
    "    binary=True,\n",
    ")"
   ]
  },
  {
   "cell_type": "code",
   "execution_count": 17,
   "metadata": {},
   "outputs": [],
   "source": [
    "w2v_embedder = my_knn.W2VWrapper(taiga)"
   ]
  },
  {
   "cell_type": "code",
   "execution_count": 18,
   "metadata": {},
   "outputs": [
    {
     "name": "stdout",
     "output_type": "stream",
     "text": [
      "number of texts: 86549\n",
      "forbidden senses are 4126\n",
      "numer of ids 29296 long list is 95119\n"
     ]
    },
    {
     "data": {
      "application/vnd.jupyter.widget-view+json": {
       "model_id": "fe541b084b6d4e68b40a0384c9d822d4",
       "version_major": 2,
       "version_minor": 0
      },
      "text/plain": [
       "HBox(children=(FloatProgress(value=1.0, bar_style='info', max=1.0), HTML(value='')))"
      ]
     },
     "metadata": {},
     "output_type": "display_data"
    },
    {
     "name": "stdout",
     "output_type": "stream",
     "text": [
      "\n",
      "23827\n",
      "466\n",
      "5\n",
      "30877\n"
     ]
    }
   ],
   "source": [
    "syns_storage, rel_storage, rel_df = my_knn.prepare_storages(\n",
    "    synsets_filename='../data/ruwordnet/synsets.N.xml',\n",
    "    relations_filename='../data/ruwordnet/synset_relations.N.xml',\n",
    "    forbidden_words=forbidden_words,\n",
    ")"
   ]
  },
  {
   "cell_type": "code",
   "execution_count": 20,
   "metadata": {},
   "outputs": [
    {
     "data": {
      "application/vnd.jupyter.widget-view+json": {
       "model_id": "5f8b1e2779514cd6a35c72e410c760ae",
       "version_major": 2,
       "version_minor": 0
      },
      "text/plain": [
       "HBox(children=(FloatProgress(value=0.0, max=95119.0), HTML(value='')))"
      ]
     },
     "metadata": {},
     "output_type": "display_data"
    },
    {
     "name": "stdout",
     "output_type": "stream",
     "text": [
      "\n"
     ]
    }
   ],
   "source": [
    "vecs = np.stack([ft_embedder(t) for t in tqdm(syns_storage.texts_long) ])\n",
    "\n",
    "from sklearn.neighbors import KDTree\n",
    "tree = KDTree(vecs)"
   ]
  },
  {
   "cell_type": "code",
   "execution_count": 44,
   "metadata": {},
   "outputs": [
    {
     "data": {
      "application/vnd.jupyter.widget-view+json": {
       "model_id": "9357be279b5d4c44a4548fb5787b29f1",
       "version_major": 2,
       "version_minor": 0
      },
      "text/plain": [
       "HBox(children=(FloatProgress(value=0.0, max=95119.0), HTML(value='')))"
      ]
     },
     "metadata": {},
     "output_type": "display_data"
    },
    {
     "name": "stdout",
     "output_type": "stream",
     "text": [
      "\n"
     ]
    }
   ],
   "source": [
    "w2v_vecs = np.stack([w2v_embedder(t) for t in tqdm(syns_storage.texts_long) ])\n",
    "w2v_tree = KDTree(w2v_vecs)"
   ]
  },
  {
   "cell_type": "code",
   "execution_count": 45,
   "metadata": {},
   "outputs": [
    {
     "data": {
      "text/plain": [
       "['108194-N', '4024-N']"
      ]
     },
     "execution_count": 45,
     "metadata": {},
     "output_type": "execute_result"
    }
   ],
   "source": [
    "hypos = my_knn.hypotheses_knn('брюки', index=tree, text2vec=ft_embedder, synset_storage=syns_storage, rel_storage=rel_storage)\n",
    "hypos"
   ]
  },
  {
   "cell_type": "code",
   "execution_count": 46,
   "metadata": {},
   "outputs": [
    {
     "name": "stdout",
     "output_type": "stream",
     "text": [
      "ШТАНЫ, БРЮКИ\n",
      "ВЕРХНЯЯ ОДЕЖДА\n"
     ]
    }
   ],
   "source": [
    "for id in hypos:\n",
    "    print(syns_storage.id2synset[id]['@ruthes_name'])"
   ]
  },
  {
   "cell_type": "code",
   "execution_count": 47,
   "metadata": {},
   "outputs": [
    {
     "name": "stdout",
     "output_type": "stream",
     "text": [
      "0.9996719160104987 1.0\n"
     ]
    }
   ],
   "source": [
    "# проверка, что сравнение само с собой всегда получает скор 1\n",
    "dev_pred = {k: [v0 for val in vals for v0 in val] for k, vals in dev.items()}\n",
    "mean_ap, mean_rr = evaluate.get_score(dev, dev_pred, k=10)\n",
    "print(mean_ap, mean_rr)"
   ]
  },
  {
   "cell_type": "code",
   "execution_count": 62,
   "metadata": {},
   "outputs": [],
   "source": [
    "def w2v_scorer(text1, text2):\n",
    "    return np.dot(w2v_embedder.get_text_vec(text1), w2v_embedder.get_text_vec(text2)) ** 5"
   ]
  },
  {
   "cell_type": "code",
   "execution_count": 60,
   "metadata": {},
   "outputs": [
    {
     "data": {
      "application/vnd.jupyter.widget-view+json": {
       "model_id": "7d4af79b768e4462bbc0c94598024b11",
       "version_major": 2,
       "version_minor": 0
      },
      "text/plain": [
       "HBox(children=(FloatProgress(value=0.0, max=508.0), HTML(value='')))"
      ]
     },
     "metadata": {},
     "output_type": "display_data"
    },
    {
     "name": "stdout",
     "output_type": "stream",
     "text": [
      "\n"
     ]
    }
   ],
   "source": [
    "#texts = ttest_test1.one_text.drop_duplicates()\n",
    "texts = sorted(dev.keys())\n",
    "small_hypos = {\n",
    "    txt: \n",
    "    my_knn.hypotheses_knn(\n",
    "        txt, \n",
    "        #index=tree, text2vec=ft_embedder, \n",
    "        index=w2v_tree, text2vec=w2v_embedder, \n",
    "        synset_storage=syns_storage, rel_storage=rel_storage,\n",
    "        decay=3, \n",
    "        k=100, \n",
    "        grand_mult=0.5,\n",
    "        neighbor_scorer=w2v_scorer,\n",
    "    )  \n",
    "    for txt in tqdm(texts)\n",
    "}\n"
   ]
  },
  {
   "cell_type": "code",
   "execution_count": 61,
   "metadata": {},
   "outputs": [
    {
     "name": "stdout",
     "output_type": "stream",
     "text": [
      "0.4661363944090322 0.5028019935008124\n"
     ]
    }
   ],
   "source": [
    "mean_ap, mean_rr = evaluate.get_score(dev, small_hypos, k=10)\n",
    "print(mean_ap, mean_rr)"
   ]
  },
  {
   "cell_type": "markdown",
   "metadata": {},
   "source": [
    "Типовой метод получает скор 26/29 на публичном тесте, и 39/42 - на дев. сете. Выглядит как непорядок. \n",
    "\n",
    "```\n",
    "0.39642414489855415 0.428703443319584  - baseline\n",
    "0.4302434851893513 0.4609392575928008  - baseline with s^2 w2v penalty \n",
    "0.43823949089697095 0.471559023872015  - with s^3 penalty\n",
    "0.44413862329708753 0.478044150731158  - with s^5 penalty\n",
    "0.4578544869391327 0.4919471003624545  - w2v only with s^3 penalty\n",
    "0.4660694756905386 0.5044838145231845* - w2v only with s^5 penalty \n",
    "0.4661363944090322 0.5028019935008124  - w2v only with s^10 penalty \n",
    "```"
   ]
  },
  {
   "cell_type": "markdown",
   "metadata": {},
   "source": [
    "# Оценка применения"
   ]
  },
  {
   "cell_type": "code",
   "execution_count": 63,
   "metadata": {},
   "outputs": [],
   "source": [
    "public_test_verbs = pd.read_csv('../data/public_test/nouns_public.tsv', header=None)\n",
    "public_test_verbs.columns = ['text']"
   ]
  },
  {
   "cell_type": "code",
   "execution_count": 27,
   "metadata": {},
   "outputs": [
    {
     "name": "stdout",
     "output_type": "stream",
     "text": [
      "number of texts: 86549\n",
      "forbidden senses are 0\n",
      "numer of ids 29296 long list is 119273\n"
     ]
    },
    {
     "data": {
      "application/vnd.jupyter.widget-view+json": {
       "model_id": "c6a0204988d2484ca29ea42ae6666843",
       "version_major": 2,
       "version_minor": 0
      },
      "text/plain": [
       "HBox(children=(FloatProgress(value=1.0, bar_style='info', max=1.0), HTML(value='')))"
      ]
     },
     "metadata": {},
     "output_type": "display_data"
    },
    {
     "name": "stdout",
     "output_type": "stream",
     "text": [
      "\n",
      "28118\n",
      "555\n",
      "5\n",
      "37249\n"
     ]
    }
   ],
   "source": [
    "full_syn_storage, full_rel_storage, full_rel_df = my_knn.prepare_storages(\n",
    "    synsets_filename='../data/ruwordnet/synsets.N.xml',\n",
    "    relations_filename='../data/ruwordnet/synset_relations.N.xml',\n",
    "    forbidden_words=set()\n",
    ")"
   ]
  },
  {
   "cell_type": "code",
   "execution_count": 28,
   "metadata": {},
   "outputs": [
    {
     "data": {
      "application/vnd.jupyter.widget-view+json": {
       "model_id": "596f158c19bc4f438e2ad84ddffcea44",
       "version_major": 2,
       "version_minor": 0
      },
      "text/plain": [
       "HBox(children=(FloatProgress(value=0.0, max=119273.0), HTML(value='')))"
      ]
     },
     "metadata": {},
     "output_type": "display_data"
    },
    {
     "name": "stdout",
     "output_type": "stream",
     "text": [
      "\n"
     ]
    }
   ],
   "source": [
    "full_ft_vecs = np.stack([ft_embedder(t) for t in tqdm(full_syn_storage.texts_long) ])\n",
    "full_ft_tree = KDTree(full_ft_vecs)"
   ]
  },
  {
   "cell_type": "code",
   "execution_count": 64,
   "metadata": {},
   "outputs": [
    {
     "data": {
      "application/vnd.jupyter.widget-view+json": {
       "model_id": "daebc26803684d659d9ffcf767cb33d9",
       "version_major": 2,
       "version_minor": 0
      },
      "text/plain": [
       "HBox(children=(FloatProgress(value=0.0, max=119273.0), HTML(value='')))"
      ]
     },
     "metadata": {},
     "output_type": "display_data"
    },
    {
     "name": "stdout",
     "output_type": "stream",
     "text": [
      "\n"
     ]
    }
   ],
   "source": [
    "full_w2v_vecs = np.stack([w2v_embedder(t) for t in tqdm(full_syn_storage.texts_long) ])\n",
    "full_w2v_tree = KDTree(full_w2v_vecs)"
   ]
  },
  {
   "cell_type": "code",
   "execution_count": 65,
   "metadata": {},
   "outputs": [
    {
     "data": {
      "application/vnd.jupyter.widget-view+json": {
       "model_id": "2d32270d792c4985910c3caf5cef3946",
       "version_major": 2,
       "version_minor": 0
      },
      "text/plain": [
       "HBox(children=(FloatProgress(value=0.0, max=762.0), HTML(value='')))"
      ]
     },
     "metadata": {},
     "output_type": "display_data"
    },
    {
     "name": "stdout",
     "output_type": "stream",
     "text": [
      "\n"
     ]
    }
   ],
   "source": [
    "public_test_hypos = {\n",
    "    txt: \n",
    "    my_knn.hypotheses_knn(\n",
    "        txt, \n",
    "        #index=full_ft_tree, text2vec=ft_embedder, \n",
    "        index=full_w2v_tree, text2vec=w2v_embedder, \n",
    "        synset_storage=full_syn_storage, rel_storage=full_rel_storage,\n",
    "        decay=3, \n",
    "        k=100, \n",
    "        grand_mult=0.5,\n",
    "        neighbor_scorer=w2v_scorer,\n",
    "    )  \n",
    "    for txt in tqdm(public_test_verbs.text)\n",
    "}"
   ]
  },
  {
   "cell_type": "code",
   "execution_count": 66,
   "metadata": {},
   "outputs": [
    {
     "data": {
      "text/html": [
       "<div>\n",
       "<style scoped>\n",
       "    .dataframe tbody tr th:only-of-type {\n",
       "        vertical-align: middle;\n",
       "    }\n",
       "\n",
       "    .dataframe tbody tr th {\n",
       "        vertical-align: top;\n",
       "    }\n",
       "\n",
       "    .dataframe thead th {\n",
       "        text-align: right;\n",
       "    }\n",
       "</style>\n",
       "<table border=\"1\" class=\"dataframe\">\n",
       "  <thead>\n",
       "    <tr style=\"text-align: right;\">\n",
       "      <th></th>\n",
       "      <th>noun</th>\n",
       "      <th>result</th>\n",
       "      <th>result_text</th>\n",
       "    </tr>\n",
       "  </thead>\n",
       "  <tbody>\n",
       "    <tr>\n",
       "      <th>0</th>\n",
       "      <td>АБДОМИНОПЛАСТИКА</td>\n",
       "      <td>616-N</td>\n",
       "      <td>БОЛЕЗНЬ</td>\n",
       "    </tr>\n",
       "    <tr>\n",
       "      <th>1</th>\n",
       "      <td>АБДОМИНОПЛАСТИКА</td>\n",
       "      <td>3406-N</td>\n",
       "      <td>ПОВРЕЖДЕНИЕ ЗДОРОВЬЯ</td>\n",
       "    </tr>\n",
       "    <tr>\n",
       "      <th>2</th>\n",
       "      <td>АБДОМИНОПЛАСТИКА</td>\n",
       "      <td>106567-N</td>\n",
       "      <td>ФИЗИЧЕСКОЕ САМОЧУВСТВИЕ</td>\n",
       "    </tr>\n",
       "    <tr>\n",
       "      <th>3</th>\n",
       "      <td>АБДОМИНОПЛАСТИКА</td>\n",
       "      <td>106665-N</td>\n",
       "      <td>НАРУШИТЬ СОСТОЯНИЕ, ХОД</td>\n",
       "    </tr>\n",
       "    <tr>\n",
       "      <th>4</th>\n",
       "      <td>АБДОМИНОПЛАСТИКА</td>\n",
       "      <td>1047-N</td>\n",
       "      <td>МЕДИЦИНА</td>\n",
       "    </tr>\n",
       "    <tr>\n",
       "      <th>...</th>\n",
       "      <td>...</td>\n",
       "      <td>...</td>\n",
       "      <td>...</td>\n",
       "    </tr>\n",
       "    <tr>\n",
       "      <th>7615</th>\n",
       "      <td>ЯТАГАН</td>\n",
       "      <td>5900-N</td>\n",
       "      <td>МЕТАЛЛИЧЕСКОЕ ИЗДЕЛИЕ</td>\n",
       "    </tr>\n",
       "    <tr>\n",
       "      <th>7616</th>\n",
       "      <td>ЯТАГАН</td>\n",
       "      <td>784-N</td>\n",
       "      <td>ОРУЖИЕ</td>\n",
       "    </tr>\n",
       "    <tr>\n",
       "      <th>7617</th>\n",
       "      <td>ЯТАГАН</td>\n",
       "      <td>106553-N</td>\n",
       "      <td>ПРИСПОСОБЛЕНИЕ, ИНСТРУМЕНТ</td>\n",
       "    </tr>\n",
       "    <tr>\n",
       "      <th>7618</th>\n",
       "      <td>ЯТАГАН</td>\n",
       "      <td>112933-N</td>\n",
       "      <td>ОТВЕТИТЬ, ПОСТУПИТЬ В ОТВЕТ</td>\n",
       "    </tr>\n",
       "    <tr>\n",
       "      <th>7619</th>\n",
       "      <td>ЯТАГАН</td>\n",
       "      <td>146046-N</td>\n",
       "      <td>НОЖ (ХОЛОДНОЕ ОРУЖИЕ)</td>\n",
       "    </tr>\n",
       "  </tbody>\n",
       "</table>\n",
       "<p>7620 rows × 3 columns</p>\n",
       "</div>"
      ],
      "text/plain": [
       "                  noun    result                  result_text\n",
       "0     АБДОМИНОПЛАСТИКА     616-N                      БОЛЕЗНЬ\n",
       "1     АБДОМИНОПЛАСТИКА    3406-N         ПОВРЕЖДЕНИЕ ЗДОРОВЬЯ\n",
       "2     АБДОМИНОПЛАСТИКА  106567-N      ФИЗИЧЕСКОЕ САМОЧУВСТВИЕ\n",
       "3     АБДОМИНОПЛАСТИКА  106665-N      НАРУШИТЬ СОСТОЯНИЕ, ХОД\n",
       "4     АБДОМИНОПЛАСТИКА    1047-N                     МЕДИЦИНА\n",
       "...                ...       ...                          ...\n",
       "7615            ЯТАГАН    5900-N        МЕТАЛЛИЧЕСКОЕ ИЗДЕЛИЕ\n",
       "7616            ЯТАГАН     784-N                       ОРУЖИЕ\n",
       "7617            ЯТАГАН  106553-N   ПРИСПОСОБЛЕНИЕ, ИНСТРУМЕНТ\n",
       "7618            ЯТАГАН  112933-N  ОТВЕТИТЬ, ПОСТУПИТЬ В ОТВЕТ\n",
       "7619            ЯТАГАН  146046-N        НОЖ (ХОЛОДНОЕ ОРУЖИЕ)\n",
       "\n",
       "[7620 rows x 3 columns]"
      ]
     },
     "execution_count": 66,
     "metadata": {},
     "output_type": "execute_result"
    }
   ],
   "source": [
    "sub = my_knn.dict2submission(public_test_hypos, syns_storage.id2synset)\n",
    "sub"
   ]
  },
  {
   "cell_type": "code",
   "execution_count": 67,
   "metadata": {},
   "outputs": [
    {
     "data": {
      "text/html": [
       "<div>\n",
       "<style scoped>\n",
       "    .dataframe tbody tr th:only-of-type {\n",
       "        vertical-align: middle;\n",
       "    }\n",
       "\n",
       "    .dataframe tbody tr th {\n",
       "        vertical-align: top;\n",
       "    }\n",
       "\n",
       "    .dataframe thead th {\n",
       "        text-align: right;\n",
       "    }\n",
       "</style>\n",
       "<table border=\"1\" class=\"dataframe\">\n",
       "  <thead>\n",
       "    <tr style=\"text-align: right;\">\n",
       "      <th></th>\n",
       "      <th>noun</th>\n",
       "      <th>result</th>\n",
       "      <th>result_text</th>\n",
       "    </tr>\n",
       "  </thead>\n",
       "  <tbody>\n",
       "    <tr>\n",
       "      <th>0</th>\n",
       "      <td>АБДОМИНОПЛАСТИКА</td>\n",
       "      <td>616-N</td>\n",
       "      <td>БОЛЕЗНЬ</td>\n",
       "    </tr>\n",
       "    <tr>\n",
       "      <th>1</th>\n",
       "      <td>АБДОМИНОПЛАСТИКА</td>\n",
       "      <td>3406-N</td>\n",
       "      <td>ПОВРЕЖДЕНИЕ ЗДОРОВЬЯ</td>\n",
       "    </tr>\n",
       "    <tr>\n",
       "      <th>2</th>\n",
       "      <td>АБДОМИНОПЛАСТИКА</td>\n",
       "      <td>106567-N</td>\n",
       "      <td>ФИЗИЧЕСКОЕ САМОЧУВСТВИЕ</td>\n",
       "    </tr>\n",
       "    <tr>\n",
       "      <th>3</th>\n",
       "      <td>АБДОМИНОПЛАСТИКА</td>\n",
       "      <td>106665-N</td>\n",
       "      <td>НАРУШИТЬ СОСТОЯНИЕ, ХОД</td>\n",
       "    </tr>\n",
       "    <tr>\n",
       "      <th>4</th>\n",
       "      <td>АБДОМИНОПЛАСТИКА</td>\n",
       "      <td>1047-N</td>\n",
       "      <td>МЕДИЦИНА</td>\n",
       "    </tr>\n",
       "    <tr>\n",
       "      <th>5</th>\n",
       "      <td>АБДОМИНОПЛАСТИКА</td>\n",
       "      <td>108862-N</td>\n",
       "      <td>ВОСПАЛЕНИЕ (БОЛЕЗНЕННЫЙ ПРОЦЕСС)</td>\n",
       "    </tr>\n",
       "    <tr>\n",
       "      <th>6</th>\n",
       "      <td>АБДОМИНОПЛАСТИКА</td>\n",
       "      <td>5804-N</td>\n",
       "      <td>КАРДИОЛОГИЯ</td>\n",
       "    </tr>\n",
       "    <tr>\n",
       "      <th>7</th>\n",
       "      <td>АБДОМИНОПЛАСТИКА</td>\n",
       "      <td>1064-N</td>\n",
       "      <td>ХИРУРГИЯ</td>\n",
       "    </tr>\n",
       "    <tr>\n",
       "      <th>8</th>\n",
       "      <td>АБДОМИНОПЛАСТИКА</td>\n",
       "      <td>2977-N</td>\n",
       "      <td>МЕДИЦИНСКОЕ ОБОРУДОВАНИЕ</td>\n",
       "    </tr>\n",
       "    <tr>\n",
       "      <th>9</th>\n",
       "      <td>АБДОМИНОПЛАСТИКА</td>\n",
       "      <td>6129-N</td>\n",
       "      <td>СЕРДЕЧНО-СОСУДИСТЫЕ ЗАБОЛЕВАНИЯ</td>\n",
       "    </tr>\n",
       "    <tr>\n",
       "      <th>10</th>\n",
       "      <td>АБСОРБЕНТ</td>\n",
       "      <td>115222-N</td>\n",
       "      <td>ПОГЛОТИТЬ (ВОБРАТЬ)</td>\n",
       "    </tr>\n",
       "    <tr>\n",
       "      <th>11</th>\n",
       "      <td>АБСОРБЕНТ</td>\n",
       "      <td>115221-N</td>\n",
       "      <td>ВОБРАТЬ В СЕБЯ</td>\n",
       "    </tr>\n",
       "    <tr>\n",
       "      <th>12</th>\n",
       "      <td>АБСОРБЕНТ</td>\n",
       "      <td>116549-N</td>\n",
       "      <td>КОПИТЬ, НАКАПЛИВАТЬ</td>\n",
       "    </tr>\n",
       "    <tr>\n",
       "      <th>13</th>\n",
       "      <td>АБСОРБЕНТ</td>\n",
       "      <td>820-N</td>\n",
       "      <td>ВЕЩЕСТВО</td>\n",
       "    </tr>\n",
       "    <tr>\n",
       "      <th>14</th>\n",
       "      <td>АБСОРБЕНТ</td>\n",
       "      <td>112136-N</td>\n",
       "      <td>ПРОПУСТИТЬ (ДАТЬ ПРОНИКНУТЬ)</td>\n",
       "    </tr>\n",
       "  </tbody>\n",
       "</table>\n",
       "</div>"
      ],
      "text/plain": [
       "                noun    result                       result_text\n",
       "0   АБДОМИНОПЛАСТИКА     616-N                           БОЛЕЗНЬ\n",
       "1   АБДОМИНОПЛАСТИКА    3406-N              ПОВРЕЖДЕНИЕ ЗДОРОВЬЯ\n",
       "2   АБДОМИНОПЛАСТИКА  106567-N           ФИЗИЧЕСКОЕ САМОЧУВСТВИЕ\n",
       "3   АБДОМИНОПЛАСТИКА  106665-N           НАРУШИТЬ СОСТОЯНИЕ, ХОД\n",
       "4   АБДОМИНОПЛАСТИКА    1047-N                          МЕДИЦИНА\n",
       "5   АБДОМИНОПЛАСТИКА  108862-N  ВОСПАЛЕНИЕ (БОЛЕЗНЕННЫЙ ПРОЦЕСС)\n",
       "6   АБДОМИНОПЛАСТИКА    5804-N                       КАРДИОЛОГИЯ\n",
       "7   АБДОМИНОПЛАСТИКА    1064-N                          ХИРУРГИЯ\n",
       "8   АБДОМИНОПЛАСТИКА    2977-N          МЕДИЦИНСКОЕ ОБОРУДОВАНИЕ\n",
       "9   АБДОМИНОПЛАСТИКА    6129-N   СЕРДЕЧНО-СОСУДИСТЫЕ ЗАБОЛЕВАНИЯ\n",
       "10         АБСОРБЕНТ  115222-N               ПОГЛОТИТЬ (ВОБРАТЬ)\n",
       "11         АБСОРБЕНТ  115221-N                    ВОБРАТЬ В СЕБЯ\n",
       "12         АБСОРБЕНТ  116549-N               КОПИТЬ, НАКАПЛИВАТЬ\n",
       "13         АБСОРБЕНТ     820-N                          ВЕЩЕСТВО\n",
       "14         АБСОРБЕНТ  112136-N      ПРОПУСТИТЬ (ДАТЬ ПРОНИКНУТЬ)"
      ]
     },
     "execution_count": 67,
     "metadata": {},
     "output_type": "execute_result"
    }
   ],
   "source": [
    "sub.to_csv('results/nouns_v3_w2v_only_simp5_penalty.tsv', sep='\\t', encoding='utf-8', header=None, index=None)\n",
    "sub.head(15)"
   ]
  },
  {
   "cell_type": "markdown",
   "metadata": {},
   "source": [
    "# Финальная заливка"
   ]
  },
  {
   "cell_type": "code",
   "execution_count": 48,
   "metadata": {},
   "outputs": [],
   "source": [
    "private_test_verbs = pd.read_csv('../data/private_test/nouns_private.tsv', header=None)\n",
    "private_test_verbs.columns = ['text']"
   ]
  },
  {
   "cell_type": "code",
   "execution_count": 44,
   "metadata": {},
   "outputs": [
    {
     "data": {
      "application/vnd.jupyter.widget-view+json": {
       "model_id": "578a41de2772425dad03e8a0c09a6590",
       "version_major": 2,
       "version_minor": 0
      },
      "text/plain": [
       "HBox(children=(FloatProgress(value=0.0, max=1525.0), HTML(value='')))"
      ]
     },
     "metadata": {},
     "output_type": "display_data"
    },
    {
     "name": "stdout",
     "output_type": "stream",
     "text": [
      "\n"
     ]
    }
   ],
   "source": [
    "private_test_hypos = {\n",
    "    txt: \n",
    "    my_knn.hypotheses_knn(\n",
    "        txt, \n",
    "        index=tree, text2vec=embedder, synset_storage=syns_storage, rel_storage=rel_storage,\n",
    "        decay=3, \n",
    "        k=100, \n",
    "        grand_mult=0.5,\n",
    "    )  \n",
    "    for txt in tqdm(private_test_verbs.text)\n",
    "}"
   ]
  },
  {
   "cell_type": "code",
   "execution_count": 45,
   "metadata": {},
   "outputs": [],
   "source": [
    "sub = my_knn.dict2submission(private_test_hypos, syns_storage.id2synset)"
   ]
  },
  {
   "cell_type": "code",
   "execution_count": 46,
   "metadata": {},
   "outputs": [
    {
     "data": {
      "text/html": [
       "<div>\n",
       "<style scoped>\n",
       "    .dataframe tbody tr th:only-of-type {\n",
       "        vertical-align: middle;\n",
       "    }\n",
       "\n",
       "    .dataframe tbody tr th {\n",
       "        vertical-align: top;\n",
       "    }\n",
       "\n",
       "    .dataframe thead th {\n",
       "        text-align: right;\n",
       "    }\n",
       "</style>\n",
       "<table border=\"1\" class=\"dataframe\">\n",
       "  <thead>\n",
       "    <tr style=\"text-align: right;\">\n",
       "      <th></th>\n",
       "      <th>noun</th>\n",
       "      <th>result</th>\n",
       "      <th>result_text</th>\n",
       "    </tr>\n",
       "  </thead>\n",
       "  <tbody>\n",
       "    <tr>\n",
       "      <th>0</th>\n",
       "      <td>АБСЕНТЕИЗМ</td>\n",
       "      <td>119563-N</td>\n",
       "      <td>МИРОВОЗЗРЕНИЕ</td>\n",
       "    </tr>\n",
       "    <tr>\n",
       "      <th>1</th>\n",
       "      <td>АБСЕНТЕИЗМ</td>\n",
       "      <td>132973-N</td>\n",
       "      <td>ФИЛОСОФСКОЕ УЧЕНИЕ</td>\n",
       "    </tr>\n",
       "    <tr>\n",
       "      <th>2</th>\n",
       "      <td>АБСЕНТЕИЗМ</td>\n",
       "      <td>121514-N</td>\n",
       "      <td>УЧЕНИЕ (СОВОКУПНОСТЬ ТЕОРЕТИЧ. ПОЛОЖЕНИЙ)</td>\n",
       "    </tr>\n",
       "    <tr>\n",
       "      <th>3</th>\n",
       "      <td>АБСЕНТЕИЗМ</td>\n",
       "      <td>106470-N</td>\n",
       "      <td>УБЕЖДЕНИЯ, ВЗГЛЯДЫ</td>\n",
       "    </tr>\n",
       "    <tr>\n",
       "      <th>4</th>\n",
       "      <td>АБСЕНТЕИЗМ</td>\n",
       "      <td>2201-N</td>\n",
       "      <td>РЕЛИГИЯ</td>\n",
       "    </tr>\n",
       "    <tr>\n",
       "      <th>...</th>\n",
       "      <td>...</td>\n",
       "      <td>...</td>\n",
       "      <td>...</td>\n",
       "    </tr>\n",
       "    <tr>\n",
       "      <th>15245</th>\n",
       "      <td>ЯШМА</td>\n",
       "      <td>106554-N</td>\n",
       "      <td>ПРЕДМЕТ, ВЕЩЬ</td>\n",
       "    </tr>\n",
       "    <tr>\n",
       "      <th>15246</th>\n",
       "      <td>ЯШМА</td>\n",
       "      <td>109444-N</td>\n",
       "      <td>УКРАСИТЬ</td>\n",
       "    </tr>\n",
       "    <tr>\n",
       "      <th>15247</th>\n",
       "      <td>ЯШМА</td>\n",
       "      <td>820-N</td>\n",
       "      <td>ВЕЩЕСТВО</td>\n",
       "    </tr>\n",
       "    <tr>\n",
       "      <th>15248</th>\n",
       "      <td>ЯШМА</td>\n",
       "      <td>143683-N</td>\n",
       "      <td>ПРИРОДНОЕ МИНЕРАЛЬНОЕ ОБРАЗОВАНИЕ</td>\n",
       "    </tr>\n",
       "    <tr>\n",
       "      <th>15249</th>\n",
       "      <td>ЯШМА</td>\n",
       "      <td>5600-N</td>\n",
       "      <td>КЕРАМИЧЕСКИЕ МАТЕРИАЛЫ</td>\n",
       "    </tr>\n",
       "  </tbody>\n",
       "</table>\n",
       "<p>15250 rows × 3 columns</p>\n",
       "</div>"
      ],
      "text/plain": [
       "             noun    result                                result_text\n",
       "0      АБСЕНТЕИЗМ  119563-N                              МИРОВОЗЗРЕНИЕ\n",
       "1      АБСЕНТЕИЗМ  132973-N                         ФИЛОСОФСКОЕ УЧЕНИЕ\n",
       "2      АБСЕНТЕИЗМ  121514-N  УЧЕНИЕ (СОВОКУПНОСТЬ ТЕОРЕТИЧ. ПОЛОЖЕНИЙ)\n",
       "3      АБСЕНТЕИЗМ  106470-N                         УБЕЖДЕНИЯ, ВЗГЛЯДЫ\n",
       "4      АБСЕНТЕИЗМ    2201-N                                    РЕЛИГИЯ\n",
       "...           ...       ...                                        ...\n",
       "15245        ЯШМА  106554-N                              ПРЕДМЕТ, ВЕЩЬ\n",
       "15246        ЯШМА  109444-N                                   УКРАСИТЬ\n",
       "15247        ЯШМА     820-N                                   ВЕЩЕСТВО\n",
       "15248        ЯШМА  143683-N          ПРИРОДНОЕ МИНЕРАЛЬНОЕ ОБРАЗОВАНИЕ\n",
       "15249        ЯШМА    5600-N                     КЕРАМИЧЕСКИЕ МАТЕРИАЛЫ\n",
       "\n",
       "[15250 rows x 3 columns]"
      ]
     },
     "execution_count": 46,
     "metadata": {},
     "output_type": "execute_result"
    }
   ],
   "source": [
    "sub"
   ]
  },
  {
   "cell_type": "code",
   "execution_count": 47,
   "metadata": {},
   "outputs": [
    {
     "data": {
      "text/html": [
       "<div>\n",
       "<style scoped>\n",
       "    .dataframe tbody tr th:only-of-type {\n",
       "        vertical-align: middle;\n",
       "    }\n",
       "\n",
       "    .dataframe tbody tr th {\n",
       "        vertical-align: top;\n",
       "    }\n",
       "\n",
       "    .dataframe thead th {\n",
       "        text-align: right;\n",
       "    }\n",
       "</style>\n",
       "<table border=\"1\" class=\"dataframe\">\n",
       "  <thead>\n",
       "    <tr style=\"text-align: right;\">\n",
       "      <th></th>\n",
       "      <th>noun</th>\n",
       "      <th>result</th>\n",
       "      <th>result_text</th>\n",
       "    </tr>\n",
       "  </thead>\n",
       "  <tbody>\n",
       "    <tr>\n",
       "      <th>0</th>\n",
       "      <td>АБСЕНТЕИЗМ</td>\n",
       "      <td>119563-N</td>\n",
       "      <td>МИРОВОЗЗРЕНИЕ</td>\n",
       "    </tr>\n",
       "    <tr>\n",
       "      <th>1</th>\n",
       "      <td>АБСЕНТЕИЗМ</td>\n",
       "      <td>132973-N</td>\n",
       "      <td>ФИЛОСОФСКОЕ УЧЕНИЕ</td>\n",
       "    </tr>\n",
       "    <tr>\n",
       "      <th>2</th>\n",
       "      <td>АБСЕНТЕИЗМ</td>\n",
       "      <td>121514-N</td>\n",
       "      <td>УЧЕНИЕ (СОВОКУПНОСТЬ ТЕОРЕТИЧ. ПОЛОЖЕНИЙ)</td>\n",
       "    </tr>\n",
       "    <tr>\n",
       "      <th>3</th>\n",
       "      <td>АБСЕНТЕИЗМ</td>\n",
       "      <td>106470-N</td>\n",
       "      <td>УБЕЖДЕНИЯ, ВЗГЛЯДЫ</td>\n",
       "    </tr>\n",
       "    <tr>\n",
       "      <th>4</th>\n",
       "      <td>АБСЕНТЕИЗМ</td>\n",
       "      <td>2201-N</td>\n",
       "      <td>РЕЛИГИЯ</td>\n",
       "    </tr>\n",
       "    <tr>\n",
       "      <th>5</th>\n",
       "      <td>АБСЕНТЕИЗМ</td>\n",
       "      <td>108333-N</td>\n",
       "      <td>СТИЛЬ В ИСКУССТВЕ</td>\n",
       "    </tr>\n",
       "    <tr>\n",
       "      <th>6</th>\n",
       "      <td>АБСЕНТЕИЗМ</td>\n",
       "      <td>124135-N</td>\n",
       "      <td>ИДЕОЛОГИЯ</td>\n",
       "    </tr>\n",
       "    <tr>\n",
       "      <th>7</th>\n",
       "      <td>АБСЕНТЕИЗМ</td>\n",
       "      <td>111965-N</td>\n",
       "      <td>ИДЕАЛИЗМ</td>\n",
       "    </tr>\n",
       "    <tr>\n",
       "      <th>8</th>\n",
       "      <td>АБСЕНТЕИЗМ</td>\n",
       "      <td>121164-N</td>\n",
       "      <td>ИЗВРАЩЕНИЕ (ПРОТИВОЕСТЕСТВЕННОЕ ПОВЕДЕНИЕ)</td>\n",
       "    </tr>\n",
       "    <tr>\n",
       "      <th>9</th>\n",
       "      <td>АБСЕНТЕИЗМ</td>\n",
       "      <td>6639-N</td>\n",
       "      <td>ПОЛИТИЧЕСКОЕ ТЕЧЕНИЕ</td>\n",
       "    </tr>\n",
       "    <tr>\n",
       "      <th>10</th>\n",
       "      <td>АБСОЛЮТИЗАЦИЯ</td>\n",
       "      <td>833-N</td>\n",
       "      <td>ЭКОНОМИЧЕСКАЯ ПОЛИТИКА</td>\n",
       "    </tr>\n",
       "    <tr>\n",
       "      <th>11</th>\n",
       "      <td>АБСОЛЮТИЗАЦИЯ</td>\n",
       "      <td>601-N</td>\n",
       "      <td>ГОСУДАРСТВЕННАЯ ПОЛИТИКА</td>\n",
       "    </tr>\n",
       "    <tr>\n",
       "      <th>12</th>\n",
       "      <td>АБСОЛЮТИЗАЦИЯ</td>\n",
       "      <td>7936-N</td>\n",
       "      <td>РЕФОРМА</td>\n",
       "    </tr>\n",
       "    <tr>\n",
       "      <th>13</th>\n",
       "      <td>АБСОЛЮТИЗАЦИЯ</td>\n",
       "      <td>139989-N</td>\n",
       "      <td>СОЦИАЛЬНЫЙ ПРОЦЕСС</td>\n",
       "    </tr>\n",
       "    <tr>\n",
       "      <th>14</th>\n",
       "      <td>АБСОЛЮТИЗАЦИЯ</td>\n",
       "      <td>106629-N</td>\n",
       "      <td>ИЗМЕНИТЬСЯ, ИЗМЕНЕНИЕ</td>\n",
       "    </tr>\n",
       "  </tbody>\n",
       "</table>\n",
       "</div>"
      ],
      "text/plain": [
       "             noun    result                                 result_text\n",
       "0      АБСЕНТЕИЗМ  119563-N                               МИРОВОЗЗРЕНИЕ\n",
       "1      АБСЕНТЕИЗМ  132973-N                          ФИЛОСОФСКОЕ УЧЕНИЕ\n",
       "2      АБСЕНТЕИЗМ  121514-N   УЧЕНИЕ (СОВОКУПНОСТЬ ТЕОРЕТИЧ. ПОЛОЖЕНИЙ)\n",
       "3      АБСЕНТЕИЗМ  106470-N                          УБЕЖДЕНИЯ, ВЗГЛЯДЫ\n",
       "4      АБСЕНТЕИЗМ    2201-N                                     РЕЛИГИЯ\n",
       "5      АБСЕНТЕИЗМ  108333-N                           СТИЛЬ В ИСКУССТВЕ\n",
       "6      АБСЕНТЕИЗМ  124135-N                                   ИДЕОЛОГИЯ\n",
       "7      АБСЕНТЕИЗМ  111965-N                                    ИДЕАЛИЗМ\n",
       "8      АБСЕНТЕИЗМ  121164-N  ИЗВРАЩЕНИЕ (ПРОТИВОЕСТЕСТВЕННОЕ ПОВЕДЕНИЕ)\n",
       "9      АБСЕНТЕИЗМ    6639-N                        ПОЛИТИЧЕСКОЕ ТЕЧЕНИЕ\n",
       "10  АБСОЛЮТИЗАЦИЯ     833-N                      ЭКОНОМИЧЕСКАЯ ПОЛИТИКА\n",
       "11  АБСОЛЮТИЗАЦИЯ     601-N                    ГОСУДАРСТВЕННАЯ ПОЛИТИКА\n",
       "12  АБСОЛЮТИЗАЦИЯ    7936-N                                     РЕФОРМА\n",
       "13  АБСОЛЮТИЗАЦИЯ  139989-N                          СОЦИАЛЬНЫЙ ПРОЦЕСС\n",
       "14  АБСОЛЮТИЗАЦИЯ  106629-N                       ИЗМЕНИТЬСЯ, ИЗМЕНЕНИЕ"
      ]
     },
     "execution_count": 47,
     "metadata": {},
     "output_type": "execute_result"
    }
   ],
   "source": [
    "sub.to_csv('results/private_nouns_v0_strange.tsv', sep='\\t', encoding='utf-8', header=None, index=None)\n",
    "sub.head(15)"
   ]
  },
  {
   "cell_type": "code",
   "execution_count": null,
   "metadata": {},
   "outputs": [],
   "source": []
  }
 ],
 "metadata": {
  "kernelspec": {
   "display_name": "Python 3",
   "language": "python",
   "name": "python3"
  },
  "language_info": {
   "codemirror_mode": {
    "name": "ipython",
    "version": 3
   },
   "file_extension": ".py",
   "mimetype": "text/x-python",
   "name": "python",
   "nbconvert_exporter": "python",
   "pygments_lexer": "ipython3",
   "version": "3.6.8"
  }
 },
 "nbformat": 4,
 "nbformat_minor": 2
}
