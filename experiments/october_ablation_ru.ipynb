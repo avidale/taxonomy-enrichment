{
 "cells": [
  {
   "cell_type": "markdown",
   "metadata": {},
   "source": [
    "Тут находится код для запуска моего оригинального бейзлайна на русском ворднете. \n",
    "Чтобы всё запустилось, нужно склонировать репозиторий, установить requirements.txt, и скачать какую-то модель word2vec, правильно прописав путь к ней в ячейке в следующем разделе. Параметрами кодирования текстов (например, весами POS и добавлением POS тегов при поиске слов) можно управлять в ячейках, где создаётся W2VWrapper"
   ]
  },
  {
   "cell_type": "code",
   "execution_count": 1,
   "metadata": {},
   "outputs": [],
   "source": [
    "import pandas as pd\n",
    "import numpy as np\n",
    "import pickle\n",
    "from collections import Counter, defaultdict"
   ]
  },
  {
   "cell_type": "code",
   "execution_count": 2,
   "metadata": {},
   "outputs": [],
   "source": [
    "import sys\n",
    "import os\n",
    "def add_sys_path(p):\n",
    "    p = os.path.abspath(p)\n",
    "    if p not in sys.path:\n",
    "        sys.path.append(p)\n",
    "\n",
    "add_sys_path('..')"
   ]
  },
  {
   "cell_type": "code",
   "execution_count": 3,
   "metadata": {},
   "outputs": [],
   "source": [
    "import evaluate"
   ]
  },
  {
   "cell_type": "code",
   "execution_count": 4,
   "metadata": {},
   "outputs": [],
   "source": [
    "import data_split"
   ]
  },
  {
   "cell_type": "code",
   "execution_count": 5,
   "metadata": {},
   "outputs": [],
   "source": [
    "from evaluate import read_dataset"
   ]
  },
  {
   "cell_type": "code",
   "execution_count": 6,
   "metadata": {},
   "outputs": [],
   "source": [
    "import json"
   ]
  },
  {
   "cell_type": "code",
   "execution_count": 7,
   "metadata": {},
   "outputs": [],
   "source": [
    "from tqdm.auto import tqdm, trange"
   ]
  },
  {
   "cell_type": "code",
   "execution_count": 45,
   "metadata": {},
   "outputs": [],
   "source": [
    "from sklearn.neighbors import KDTree"
   ]
  },
  {
   "cell_type": "markdown",
   "metadata": {},
   "source": [
    "# Загрузка моделей w2v"
   ]
  },
  {
   "cell_type": "code",
   "execution_count": 37,
   "metadata": {},
   "outputs": [
    {
     "data": {
      "text/plain": [
       "<module 'my_knn' from '/home/dale/taxonomy-enrichment-en/taxonomy-enrichment/experiments/my_knn.py'>"
      ]
     },
     "execution_count": 37,
     "metadata": {},
     "output_type": "execute_result"
    }
   ],
   "source": [
    "import my_knn\n",
    "from importlib import reload\n",
    "reload(my_knn)"
   ]
  },
  {
   "cell_type": "code",
   "execution_count": 68,
   "metadata": {},
   "outputs": [
    {
     "name": "stdout",
     "output_type": "stream",
     "text": [
      "\n"
     ]
    }
   ],
   "source": [
    "w2v = gensim.models.KeyedVectors.load_word2vec_format(  #load_word2vec_format\n",
    "    #'../../models/all.norm-sz100-w10-cb0-it1-min100.w2v',\n",
    "    '../../models/tayga_upos_skipgram_300_2_2019/model.bin',\n",
    "    #'C:/Users/ddale/Downloads/NLP/rusvectores/taiga_skipgram/model.bin', \n",
    "    binary=True,\n",
    "    unicode_errors='ignore',\n",
    ")"
   ]
  },
  {
   "cell_type": "code",
   "execution_count": 70,
   "metadata": {},
   "outputs": [],
   "source": [
    "add_pos = True\n",
    "n = 300"
   ]
  },
  {
   "cell_type": "code",
   "execution_count": 71,
   "metadata": {},
   "outputs": [],
   "source": [
    "w2v_embedder = my_knn.W2VWrapper(w2v, n=n, add_pos=add_pos)"
   ]
  },
  {
   "cell_type": "code",
   "execution_count": 72,
   "metadata": {},
   "outputs": [],
   "source": [
    "w2v_embedder_pos = my_knn.W2VWrapper(w2v,  n=n, add_pos=add_pos, pos_weights={'NOUN': 1.0, 'PREP': 0.1}, default_weight=0.5)"
   ]
  },
  {
   "cell_type": "code",
   "execution_count": 73,
   "metadata": {},
   "outputs": [],
   "source": [
    "w2v_embedder_pos_vb = my_knn.W2VWrapper(w2v,  n=n, add_pos=add_pos, pos_weights={'VERB': 1.0, 'PREP': 0.1}, default_weight=0.5)"
   ]
  },
  {
   "cell_type": "markdown",
   "metadata": {},
   "source": [
    "# Оценка применения"
   ]
  },
  {
   "cell_type": "code",
   "execution_count": 44,
   "metadata": {},
   "outputs": [],
   "source": [
    "def w2v_scorer(text1, text2):\n",
    "    return np.dot(w2v_embedder.get_text_vec(text1), w2v_embedder.get_text_vec(text2)) ** 5"
   ]
  },
  {
   "cell_type": "code",
   "execution_count": 41,
   "metadata": {},
   "outputs": [],
   "source": [
    "public_test_verbs = pd.read_csv('../data/public_test/nouns_public.tsv', header=None)\n",
    "public_test_verbs.columns = ['text']"
   ]
  },
  {
   "cell_type": "code",
   "execution_count": 42,
   "metadata": {},
   "outputs": [
    {
     "name": "stdout",
     "output_type": "stream",
     "text": [
      "number of texts: 86549\n",
      "forbidden senses are 0\n",
      "numer of ids 29296 long list is 119273\n"
     ]
    },
    {
     "data": {
      "application/vnd.jupyter.widget-view+json": {
       "model_id": "bfdd10ce6cbf4b35b1b13e1382c3c936",
       "version_major": 2,
       "version_minor": 0
      },
      "text/plain": [
       "HBox(children=(FloatProgress(value=1.0, bar_style='info', layout=Layout(width='20px'), max=1.0), HTML(value=''…"
      ]
     },
     "metadata": {},
     "output_type": "display_data"
    },
    {
     "name": "stdout",
     "output_type": "stream",
     "text": [
      "\n",
      "28118\n",
      "555\n",
      "5\n",
      "37249\n"
     ]
    }
   ],
   "source": [
    "full_syn_storage, full_rel_storage, full_rel_df = my_knn.prepare_storages(\n",
    "    synsets_filename='../data/ruwordnet/synsets.N.xml',\n",
    "    relations_filename='../data/ruwordnet/synset_relations.N.xml',\n",
    "    forbidden_words=set()\n",
    ")"
   ]
  },
  {
   "cell_type": "code",
   "execution_count": 46,
   "metadata": {},
   "outputs": [
    {
     "data": {
      "application/vnd.jupyter.widget-view+json": {
       "model_id": "a9485ccd8aab4311ab6d157552169a25",
       "version_major": 2,
       "version_minor": 0
      },
      "text/plain": [
       "HBox(children=(FloatProgress(value=0.0, max=119273.0), HTML(value='')))"
      ]
     },
     "metadata": {},
     "output_type": "display_data"
    },
    {
     "name": "stdout",
     "output_type": "stream",
     "text": [
      "\n"
     ]
    }
   ],
   "source": [
    "full_w2v_vecs = np.stack([w2v_embedder(t) for t in tqdm(full_syn_storage.texts_long) ])\n",
    "full_w2v_tree = KDTree(full_w2v_vecs)"
   ]
  },
  {
   "cell_type": "code",
   "execution_count": 47,
   "metadata": {},
   "outputs": [
    {
     "data": {
      "application/vnd.jupyter.widget-view+json": {
       "model_id": "3745cea497764621b386222e45391584",
       "version_major": 2,
       "version_minor": 0
      },
      "text/plain": [
       "HBox(children=(FloatProgress(value=0.0, max=119273.0), HTML(value='')))"
      ]
     },
     "metadata": {},
     "output_type": "display_data"
    },
    {
     "name": "stdout",
     "output_type": "stream",
     "text": [
      "\n"
     ]
    }
   ],
   "source": [
    "full_w2v_vecs_pos = np.stack([w2v_embedder_pos(t) for t in tqdm(full_syn_storage.texts_long) ])\n",
    "full_w2v_tree_pos = KDTree(full_w2v_vecs_pos)"
   ]
  },
  {
   "cell_type": "code",
   "execution_count": 48,
   "metadata": {},
   "outputs": [
    {
     "data": {
      "application/vnd.jupyter.widget-view+json": {
       "model_id": "00f96b1fd93c4295a7044f38b790a5b2",
       "version_major": 2,
       "version_minor": 0
      },
      "text/plain": [
       "HBox(children=(FloatProgress(value=0.0, max=762.0), HTML(value='')))"
      ]
     },
     "metadata": {},
     "output_type": "display_data"
    },
    {
     "name": "stdout",
     "output_type": "stream",
     "text": [
      "\n"
     ]
    }
   ],
   "source": [
    "public_test_hypos = {\n",
    "    txt: \n",
    "    my_knn.hypotheses_knn(\n",
    "        txt, \n",
    "        #index=full_ft_tree, text2vec=ft_embedder, \n",
    "        index=full_w2v_tree_pos, text2vec=w2v_embedder_pos,\n",
    "        synset_storage=full_syn_storage, rel_storage=full_rel_storage,\n",
    "        decay=3, \n",
    "        k=100, \n",
    "        grand_mult=0.5,\n",
    "        neighbor_scorer=w2v_scorer,\n",
    "    )  \n",
    "    for txt in tqdm(public_test_verbs.text)\n",
    "}"
   ]
  },
  {
   "cell_type": "code",
   "execution_count": 49,
   "metadata": {},
   "outputs": [
    {
     "data": {
      "text/html": [
       "<div>\n",
       "<style scoped>\n",
       "    .dataframe tbody tr th:only-of-type {\n",
       "        vertical-align: middle;\n",
       "    }\n",
       "\n",
       "    .dataframe tbody tr th {\n",
       "        vertical-align: top;\n",
       "    }\n",
       "\n",
       "    .dataframe thead th {\n",
       "        text-align: right;\n",
       "    }\n",
       "</style>\n",
       "<table border=\"1\" class=\"dataframe\">\n",
       "  <thead>\n",
       "    <tr style=\"text-align: right;\">\n",
       "      <th></th>\n",
       "      <th>noun</th>\n",
       "      <th>result</th>\n",
       "      <th>result_text</th>\n",
       "    </tr>\n",
       "  </thead>\n",
       "  <tbody>\n",
       "    <tr>\n",
       "      <th>0</th>\n",
       "      <td>АБДОМИНОПЛАСТИКА</td>\n",
       "      <td>616-N</td>\n",
       "      <td>БОЛЕЗНЬ</td>\n",
       "    </tr>\n",
       "    <tr>\n",
       "      <th>1</th>\n",
       "      <td>АБДОМИНОПЛАСТИКА</td>\n",
       "      <td>3406-N</td>\n",
       "      <td>ПОВРЕЖДЕНИЕ ЗДОРОВЬЯ</td>\n",
       "    </tr>\n",
       "    <tr>\n",
       "      <th>2</th>\n",
       "      <td>АБДОМИНОПЛАСТИКА</td>\n",
       "      <td>6129-N</td>\n",
       "      <td>СЕРДЕЧНО-СОСУДИСТЫЕ ЗАБОЛЕВАНИЯ</td>\n",
       "    </tr>\n",
       "    <tr>\n",
       "      <th>3</th>\n",
       "      <td>АБДОМИНОПЛАСТИКА</td>\n",
       "      <td>106665-N</td>\n",
       "      <td>НАРУШИТЬ СОСТОЯНИЕ, ХОД</td>\n",
       "    </tr>\n",
       "    <tr>\n",
       "      <th>4</th>\n",
       "      <td>АБДОМИНОПЛАСТИКА</td>\n",
       "      <td>106567-N</td>\n",
       "      <td>ФИЗИЧЕСКОЕ САМОЧУВСТВИЕ</td>\n",
       "    </tr>\n",
       "    <tr>\n",
       "      <th>...</th>\n",
       "      <td>...</td>\n",
       "      <td>...</td>\n",
       "      <td>...</td>\n",
       "    </tr>\n",
       "    <tr>\n",
       "      <th>7615</th>\n",
       "      <td>ЯТАГАН</td>\n",
       "      <td>146854-N</td>\n",
       "      <td>КЛИНКОВОЕ ОРУЖИЕ</td>\n",
       "    </tr>\n",
       "    <tr>\n",
       "      <th>7616</th>\n",
       "      <td>ЯТАГАН</td>\n",
       "      <td>106553-N</td>\n",
       "      <td>ПРИСПОСОБЛЕНИЕ, ИНСТРУМЕНТ</td>\n",
       "    </tr>\n",
       "    <tr>\n",
       "      <th>7617</th>\n",
       "      <td>ЯТАГАН</td>\n",
       "      <td>145210-N</td>\n",
       "      <td>ЗАЩИТНОЕ СНАРЯЖЕНИЕ</td>\n",
       "    </tr>\n",
       "    <tr>\n",
       "      <th>7618</th>\n",
       "      <td>ЯТАГАН</td>\n",
       "      <td>153217-N</td>\n",
       "      <td>ОСТРАЯ СТОРОНА</td>\n",
       "    </tr>\n",
       "    <tr>\n",
       "      <th>7619</th>\n",
       "      <td>ЯТАГАН</td>\n",
       "      <td>109746-N</td>\n",
       "      <td>КОПЬЕ</td>\n",
       "    </tr>\n",
       "  </tbody>\n",
       "</table>\n",
       "<p>7620 rows × 3 columns</p>\n",
       "</div>"
      ],
      "text/plain": [
       "                  noun    result                      result_text\n",
       "0     АБДОМИНОПЛАСТИКА     616-N                          БОЛЕЗНЬ\n",
       "1     АБДОМИНОПЛАСТИКА    3406-N             ПОВРЕЖДЕНИЕ ЗДОРОВЬЯ\n",
       "2     АБДОМИНОПЛАСТИКА    6129-N  СЕРДЕЧНО-СОСУДИСТЫЕ ЗАБОЛЕВАНИЯ\n",
       "3     АБДОМИНОПЛАСТИКА  106665-N          НАРУШИТЬ СОСТОЯНИЕ, ХОД\n",
       "4     АБДОМИНОПЛАСТИКА  106567-N          ФИЗИЧЕСКОЕ САМОЧУВСТВИЕ\n",
       "...                ...       ...                              ...\n",
       "7615            ЯТАГАН  146854-N                 КЛИНКОВОЕ ОРУЖИЕ\n",
       "7616            ЯТАГАН  106553-N       ПРИСПОСОБЛЕНИЕ, ИНСТРУМЕНТ\n",
       "7617            ЯТАГАН  145210-N              ЗАЩИТНОЕ СНАРЯЖЕНИЕ\n",
       "7618            ЯТАГАН  153217-N                   ОСТРАЯ СТОРОНА\n",
       "7619            ЯТАГАН  109746-N                            КОПЬЕ\n",
       "\n",
       "[7620 rows x 3 columns]"
      ]
     },
     "execution_count": 49,
     "metadata": {},
     "output_type": "execute_result"
    }
   ],
   "source": [
    "sub = my_knn.dict2submission(public_test_hypos, syns_storage.id2synset)\n",
    "sub"
   ]
  },
  {
   "cell_type": "code",
   "execution_count": 50,
   "metadata": {},
   "outputs": [
    {
     "data": {
      "text/html": [
       "<div>\n",
       "<style scoped>\n",
       "    .dataframe tbody tr th:only-of-type {\n",
       "        vertical-align: middle;\n",
       "    }\n",
       "\n",
       "    .dataframe tbody tr th {\n",
       "        vertical-align: top;\n",
       "    }\n",
       "\n",
       "    .dataframe thead th {\n",
       "        text-align: right;\n",
       "    }\n",
       "</style>\n",
       "<table border=\"1\" class=\"dataframe\">\n",
       "  <thead>\n",
       "    <tr style=\"text-align: right;\">\n",
       "      <th></th>\n",
       "      <th>noun</th>\n",
       "      <th>result</th>\n",
       "      <th>result_text</th>\n",
       "    </tr>\n",
       "  </thead>\n",
       "  <tbody>\n",
       "    <tr>\n",
       "      <th>0</th>\n",
       "      <td>АБДОМИНОПЛАСТИКА</td>\n",
       "      <td>616-N</td>\n",
       "      <td>БОЛЕЗНЬ</td>\n",
       "    </tr>\n",
       "    <tr>\n",
       "      <th>1</th>\n",
       "      <td>АБДОМИНОПЛАСТИКА</td>\n",
       "      <td>3406-N</td>\n",
       "      <td>ПОВРЕЖДЕНИЕ ЗДОРОВЬЯ</td>\n",
       "    </tr>\n",
       "    <tr>\n",
       "      <th>2</th>\n",
       "      <td>АБДОМИНОПЛАСТИКА</td>\n",
       "      <td>6129-N</td>\n",
       "      <td>СЕРДЕЧНО-СОСУДИСТЫЕ ЗАБОЛЕВАНИЯ</td>\n",
       "    </tr>\n",
       "    <tr>\n",
       "      <th>3</th>\n",
       "      <td>АБДОМИНОПЛАСТИКА</td>\n",
       "      <td>106665-N</td>\n",
       "      <td>НАРУШИТЬ СОСТОЯНИЕ, ХОД</td>\n",
       "    </tr>\n",
       "    <tr>\n",
       "      <th>4</th>\n",
       "      <td>АБДОМИНОПЛАСТИКА</td>\n",
       "      <td>106567-N</td>\n",
       "      <td>ФИЗИЧЕСКОЕ САМОЧУВСТВИЕ</td>\n",
       "    </tr>\n",
       "    <tr>\n",
       "      <th>5</th>\n",
       "      <td>АБДОМИНОПЛАСТИКА</td>\n",
       "      <td>108862-N</td>\n",
       "      <td>ВОСПАЛЕНИЕ (БОЛЕЗНЕННЫЙ ПРОЦЕСС)</td>\n",
       "    </tr>\n",
       "    <tr>\n",
       "      <th>6</th>\n",
       "      <td>АБДОМИНОПЛАСТИКА</td>\n",
       "      <td>1063-N</td>\n",
       "      <td>МЕДИЦИНСКОЕ ОБСЛЕДОВАНИЕ</td>\n",
       "    </tr>\n",
       "    <tr>\n",
       "      <th>7</th>\n",
       "      <td>АБДОМИНОПЛАСТИКА</td>\n",
       "      <td>119425-N</td>\n",
       "      <td>ВЯЛЫЙ (ЛИШЕННЫЙ БОДРОСТИ, ЭНЕРГИИ)</td>\n",
       "    </tr>\n",
       "    <tr>\n",
       "      <th>8</th>\n",
       "      <td>АБДОМИНОПЛАСТИКА</td>\n",
       "      <td>123474-N</td>\n",
       "      <td>СКРЫТЫЙ, НЕЯВНЫЙ</td>\n",
       "    </tr>\n",
       "    <tr>\n",
       "      <th>9</th>\n",
       "      <td>АБДОМИНОПЛАСТИКА</td>\n",
       "      <td>8804-N</td>\n",
       "      <td>ПРОСТУДНОЕ ЗАБОЛЕВАНИЕ</td>\n",
       "    </tr>\n",
       "    <tr>\n",
       "      <th>10</th>\n",
       "      <td>АБСОРБЕНТ</td>\n",
       "      <td>820-N</td>\n",
       "      <td>ВЕЩЕСТВО</td>\n",
       "    </tr>\n",
       "    <tr>\n",
       "      <th>11</th>\n",
       "      <td>АБСОРБЕНТ</td>\n",
       "      <td>3675-N</td>\n",
       "      <td>ЖИДКОСТЬ</td>\n",
       "    </tr>\n",
       "    <tr>\n",
       "      <th>12</th>\n",
       "      <td>АБСОРБЕНТ</td>\n",
       "      <td>5992-N</td>\n",
       "      <td>ОРГАНИЧЕСКОЕ ВЕЩЕСТВО</td>\n",
       "    </tr>\n",
       "    <tr>\n",
       "      <th>13</th>\n",
       "      <td>АБСОРБЕНТ</td>\n",
       "      <td>108760-N</td>\n",
       "      <td>ХИМИЧЕСКОЕ СОЕДИНЕНИЕ</td>\n",
       "    </tr>\n",
       "    <tr>\n",
       "      <th>14</th>\n",
       "      <td>АБСОРБЕНТ</td>\n",
       "      <td>2499-N</td>\n",
       "      <td>СПИРТ (ХИМИЧЕСКОЕ СОЕДИНЕНИЕ)</td>\n",
       "    </tr>\n",
       "  </tbody>\n",
       "</table>\n",
       "</div>"
      ],
      "text/plain": [
       "                noun    result                         result_text\n",
       "0   АБДОМИНОПЛАСТИКА     616-N                             БОЛЕЗНЬ\n",
       "1   АБДОМИНОПЛАСТИКА    3406-N                ПОВРЕЖДЕНИЕ ЗДОРОВЬЯ\n",
       "2   АБДОМИНОПЛАСТИКА    6129-N     СЕРДЕЧНО-СОСУДИСТЫЕ ЗАБОЛЕВАНИЯ\n",
       "3   АБДОМИНОПЛАСТИКА  106665-N             НАРУШИТЬ СОСТОЯНИЕ, ХОД\n",
       "4   АБДОМИНОПЛАСТИКА  106567-N             ФИЗИЧЕСКОЕ САМОЧУВСТВИЕ\n",
       "5   АБДОМИНОПЛАСТИКА  108862-N    ВОСПАЛЕНИЕ (БОЛЕЗНЕННЫЙ ПРОЦЕСС)\n",
       "6   АБДОМИНОПЛАСТИКА    1063-N            МЕДИЦИНСКОЕ ОБСЛЕДОВАНИЕ\n",
       "7   АБДОМИНОПЛАСТИКА  119425-N  ВЯЛЫЙ (ЛИШЕННЫЙ БОДРОСТИ, ЭНЕРГИИ)\n",
       "8   АБДОМИНОПЛАСТИКА  123474-N                    СКРЫТЫЙ, НЕЯВНЫЙ\n",
       "9   АБДОМИНОПЛАСТИКА    8804-N              ПРОСТУДНОЕ ЗАБОЛЕВАНИЕ\n",
       "10         АБСОРБЕНТ     820-N                            ВЕЩЕСТВО\n",
       "11         АБСОРБЕНТ    3675-N                            ЖИДКОСТЬ\n",
       "12         АБСОРБЕНТ    5992-N               ОРГАНИЧЕСКОЕ ВЕЩЕСТВО\n",
       "13         АБСОРБЕНТ  108760-N               ХИМИЧЕСКОЕ СОЕДИНЕНИЕ\n",
       "14         АБСОРБЕНТ    2499-N       СПИРТ (ХИМИЧЕСКОЕ СОЕДИНЕНИЕ)"
      ]
     },
     "execution_count": 50,
     "metadata": {},
     "output_type": "execute_result"
    }
   ],
   "source": [
    "sub.to_csv('results/nouns_v4_w2v_only_simp5_pnlty_pos_weight_pan_small.tsv', sep='\\t', encoding='utf-8', header=None, index=None)\n",
    "sub.head(15)"
   ]
  },
  {
   "cell_type": "markdown",
   "metadata": {},
   "source": [
    "```\n",
    "map: 0.42400429113\n",
    "mrr: 0.459982606341\n",
    "```  - на маленьких векторах"
   ]
  },
  {
   "cell_type": "markdown",
   "metadata": {},
   "source": [
    "### Паблик на глаголах"
   ]
  },
  {
   "cell_type": "code",
   "execution_count": 74,
   "metadata": {},
   "outputs": [],
   "source": [
    "public_test_verbs = pd.read_csv('../data/public_test/verbs_public.tsv', header=None)\n",
    "public_test_verbs.columns = ['text']"
   ]
  },
  {
   "cell_type": "code",
   "execution_count": 75,
   "metadata": {},
   "outputs": [
    {
     "name": "stdout",
     "output_type": "stream",
     "text": [
      "number of texts: 32822\n",
      "forbidden senses are 0\n",
      "numer of ids 7521 long list is 49002\n"
     ]
    },
    {
     "data": {
      "application/vnd.jupyter.widget-view+json": {
       "model_id": "f35e3665858b49febfd56e54156b2f9c",
       "version_major": 2,
       "version_minor": 0
      },
      "text/plain": [
       "HBox(children=(FloatProgress(value=1.0, bar_style='info', layout=Layout(width='20px'), max=1.0), HTML(value=''…"
      ]
     },
     "metadata": {},
     "output_type": "display_data"
    },
    {
     "name": "stdout",
     "output_type": "stream",
     "text": [
      "\n",
      "7408\n",
      "218\n",
      "5\n",
      "10317\n"
     ]
    }
   ],
   "source": [
    "full_syn_storage_v, full_rel_storage_v, full_rel_df_v = my_knn.prepare_storages(\n",
    "    synsets_filename='../data/ruwordnet/synsets.V.xml',\n",
    "    relations_filename='../data/ruwordnet/synset_relations.V.xml',\n",
    "    forbidden_words=set()\n",
    ")"
   ]
  },
  {
   "cell_type": "code",
   "execution_count": 76,
   "metadata": {},
   "outputs": [
    {
     "data": {
      "application/vnd.jupyter.widget-view+json": {
       "model_id": "0cc7cb12de5947c6a82b9b1ec1440e46",
       "version_major": 2,
       "version_minor": 0
      },
      "text/plain": [
       "HBox(children=(FloatProgress(value=0.0, max=49002.0), HTML(value='')))"
      ]
     },
     "metadata": {},
     "output_type": "display_data"
    },
    {
     "name": "stdout",
     "output_type": "stream",
     "text": [
      "\n"
     ]
    }
   ],
   "source": [
    "full_w2v_vecs_pos_v = np.stack([w2v_embedder_pos_vb(t) for t in tqdm(full_syn_storage_v.texts_long) ])\n",
    "full_w2v_tree_pos_v = KDTree(full_w2v_vecs_pos_v)"
   ]
  },
  {
   "cell_type": "code",
   "execution_count": 77,
   "metadata": {},
   "outputs": [
    {
     "data": {
      "application/vnd.jupyter.widget-view+json": {
       "model_id": "92819fc4a28e457ea34abfed6589d876",
       "version_major": 2,
       "version_minor": 0
      },
      "text/plain": [
       "HBox(children=(FloatProgress(value=0.0, max=175.0), HTML(value='')))"
      ]
     },
     "metadata": {},
     "output_type": "display_data"
    },
    {
     "name": "stdout",
     "output_type": "stream",
     "text": [
      "\n"
     ]
    }
   ],
   "source": [
    "public_test_hypos = {\n",
    "    txt: \n",
    "    my_knn.hypotheses_knn(\n",
    "        txt, \n",
    "        #index=full_ft_tree, text2vec=ft_embedder, \n",
    "        index=full_w2v_tree_pos_v, text2vec=w2v_embedder_pos_vb,\n",
    "        synset_storage=full_syn_storage_v, rel_storage=full_rel_storage_v,\n",
    "        decay=3, \n",
    "        k=100, \n",
    "        grand_mult=0.5,\n",
    "        neighbor_scorer=w2v_scorer,\n",
    "    )  \n",
    "    for txt in tqdm(public_test_verbs.text)\n",
    "}"
   ]
  },
  {
   "cell_type": "code",
   "execution_count": 78,
   "metadata": {},
   "outputs": [
    {
     "data": {
      "text/html": [
       "<div>\n",
       "<style scoped>\n",
       "    .dataframe tbody tr th:only-of-type {\n",
       "        vertical-align: middle;\n",
       "    }\n",
       "\n",
       "    .dataframe tbody tr th {\n",
       "        vertical-align: top;\n",
       "    }\n",
       "\n",
       "    .dataframe thead th {\n",
       "        text-align: right;\n",
       "    }\n",
       "</style>\n",
       "<table border=\"1\" class=\"dataframe\">\n",
       "  <thead>\n",
       "    <tr style=\"text-align: right;\">\n",
       "      <th></th>\n",
       "      <th>noun</th>\n",
       "      <th>result</th>\n",
       "      <th>result_text</th>\n",
       "    </tr>\n",
       "  </thead>\n",
       "  <tbody>\n",
       "    <tr>\n",
       "      <th>0</th>\n",
       "      <td>АБСОЛЮТИЗИРОВАТЬ</td>\n",
       "      <td>116390-V</td>\n",
       "      <td>ИСКАЗИТЬ, ПРЕДСТАВИТЬ В ЛОЖНОМ СВЕТЕ</td>\n",
       "    </tr>\n",
       "    <tr>\n",
       "      <th>1</th>\n",
       "      <td>АБСОЛЮТИЗИРОВАТЬ</td>\n",
       "      <td>141697-V</td>\n",
       "      <td>ПРЕДСТАВИТЬ В ВИДЕ</td>\n",
       "    </tr>\n",
       "    <tr>\n",
       "      <th>2</th>\n",
       "      <td>АБСОЛЮТИЗИРОВАТЬ</td>\n",
       "      <td>149806-V</td>\n",
       "      <td>УТВЕРЖДАТЬ, ДЕЛАТЬ УТВЕРЖДЕНИЕ</td>\n",
       "    </tr>\n",
       "    <tr>\n",
       "      <th>3</th>\n",
       "      <td>АБСОЛЮТИЗИРОВАТЬ</td>\n",
       "      <td>106877-V</td>\n",
       "      <td>ВЫСКАЗАТЬ МНЕНИЕ</td>\n",
       "    </tr>\n",
       "    <tr>\n",
       "      <th>4</th>\n",
       "      <td>АБСОЛЮТИЗИРОВАТЬ</td>\n",
       "      <td>117532-V</td>\n",
       "      <td>НАСТОЯТЬ НА СВОЕМ МНЕНИИ</td>\n",
       "    </tr>\n",
       "    <tr>\n",
       "      <th>...</th>\n",
       "      <td>...</td>\n",
       "      <td>...</td>\n",
       "      <td>...</td>\n",
       "    </tr>\n",
       "    <tr>\n",
       "      <th>1745</th>\n",
       "      <td>ШТОПАТЬ</td>\n",
       "      <td>113291-V</td>\n",
       "      <td>СШИВАТЬ</td>\n",
       "    </tr>\n",
       "    <tr>\n",
       "      <th>1746</th>\n",
       "      <td>ШТОПАТЬ</td>\n",
       "      <td>110795-V</td>\n",
       "      <td>ПРИШИТЬ (ПРИКРЕПИТЬ)</td>\n",
       "    </tr>\n",
       "    <tr>\n",
       "      <th>1747</th>\n",
       "      <td>ШТОПАТЬ</td>\n",
       "      <td>110801-V</td>\n",
       "      <td>ШИТЬЕ, ПОШИВ</td>\n",
       "    </tr>\n",
       "    <tr>\n",
       "      <th>1748</th>\n",
       "      <td>ШТОПАТЬ</td>\n",
       "      <td>106493-V</td>\n",
       "      <td>СОЗДАТЬ (СДЕЛАТЬ СУЩЕСТВУЮЩИМ)</td>\n",
       "    </tr>\n",
       "    <tr>\n",
       "      <th>1749</th>\n",
       "      <td>ШТОПАТЬ</td>\n",
       "      <td>111375-V</td>\n",
       "      <td>ПОЧИНКА НЕИСПРАВНОГО</td>\n",
       "    </tr>\n",
       "  </tbody>\n",
       "</table>\n",
       "<p>1750 rows × 3 columns</p>\n",
       "</div>"
      ],
      "text/plain": [
       "                  noun    result                           result_text\n",
       "0     АБСОЛЮТИЗИРОВАТЬ  116390-V  ИСКАЗИТЬ, ПРЕДСТАВИТЬ В ЛОЖНОМ СВЕТЕ\n",
       "1     АБСОЛЮТИЗИРОВАТЬ  141697-V                    ПРЕДСТАВИТЬ В ВИДЕ\n",
       "2     АБСОЛЮТИЗИРОВАТЬ  149806-V        УТВЕРЖДАТЬ, ДЕЛАТЬ УТВЕРЖДЕНИЕ\n",
       "3     АБСОЛЮТИЗИРОВАТЬ  106877-V                      ВЫСКАЗАТЬ МНЕНИЕ\n",
       "4     АБСОЛЮТИЗИРОВАТЬ  117532-V              НАСТОЯТЬ НА СВОЕМ МНЕНИИ\n",
       "...                ...       ...                                   ...\n",
       "1745           ШТОПАТЬ  113291-V                               СШИВАТЬ\n",
       "1746           ШТОПАТЬ  110795-V                  ПРИШИТЬ (ПРИКРЕПИТЬ)\n",
       "1747           ШТОПАТЬ  110801-V                          ШИТЬЕ, ПОШИВ\n",
       "1748           ШТОПАТЬ  106493-V        СОЗДАТЬ (СДЕЛАТЬ СУЩЕСТВУЮЩИМ)\n",
       "1749           ШТОПАТЬ  111375-V                  ПОЧИНКА НЕИСПРАВНОГО\n",
       "\n",
       "[1750 rows x 3 columns]"
      ]
     },
     "execution_count": 78,
     "metadata": {},
     "output_type": "execute_result"
    }
   ],
   "source": [
    "sub = my_knn.dict2submission(public_test_hypos, full_syn_storage_v.id2synset)\n",
    "sub"
   ]
  },
  {
   "cell_type": "code",
   "execution_count": 79,
   "metadata": {},
   "outputs": [
    {
     "data": {
      "text/html": [
       "<div>\n",
       "<style scoped>\n",
       "    .dataframe tbody tr th:only-of-type {\n",
       "        vertical-align: middle;\n",
       "    }\n",
       "\n",
       "    .dataframe tbody tr th {\n",
       "        vertical-align: top;\n",
       "    }\n",
       "\n",
       "    .dataframe thead th {\n",
       "        text-align: right;\n",
       "    }\n",
       "</style>\n",
       "<table border=\"1\" class=\"dataframe\">\n",
       "  <thead>\n",
       "    <tr style=\"text-align: right;\">\n",
       "      <th></th>\n",
       "      <th>noun</th>\n",
       "      <th>result</th>\n",
       "      <th>result_text</th>\n",
       "    </tr>\n",
       "  </thead>\n",
       "  <tbody>\n",
       "    <tr>\n",
       "      <th>0</th>\n",
       "      <td>АБСОЛЮТИЗИРОВАТЬ</td>\n",
       "      <td>116390-V</td>\n",
       "      <td>ИСКАЗИТЬ, ПРЕДСТАВИТЬ В ЛОЖНОМ СВЕТЕ</td>\n",
       "    </tr>\n",
       "    <tr>\n",
       "      <th>1</th>\n",
       "      <td>АБСОЛЮТИЗИРОВАТЬ</td>\n",
       "      <td>141697-V</td>\n",
       "      <td>ПРЕДСТАВИТЬ В ВИДЕ</td>\n",
       "    </tr>\n",
       "    <tr>\n",
       "      <th>2</th>\n",
       "      <td>АБСОЛЮТИЗИРОВАТЬ</td>\n",
       "      <td>149806-V</td>\n",
       "      <td>УТВЕРЖДАТЬ, ДЕЛАТЬ УТВЕРЖДЕНИЕ</td>\n",
       "    </tr>\n",
       "    <tr>\n",
       "      <th>3</th>\n",
       "      <td>АБСОЛЮТИЗИРОВАТЬ</td>\n",
       "      <td>106877-V</td>\n",
       "      <td>ВЫСКАЗАТЬ МНЕНИЕ</td>\n",
       "    </tr>\n",
       "    <tr>\n",
       "      <th>4</th>\n",
       "      <td>АБСОЛЮТИЗИРОВАТЬ</td>\n",
       "      <td>117532-V</td>\n",
       "      <td>НАСТОЯТЬ НА СВОЕМ МНЕНИИ</td>\n",
       "    </tr>\n",
       "    <tr>\n",
       "      <th>5</th>\n",
       "      <td>АБСОЛЮТИЗИРОВАТЬ</td>\n",
       "      <td>106456-V</td>\n",
       "      <td>ВЫРАЗИТЬ (ПОКАЗАТЬ)</td>\n",
       "    </tr>\n",
       "    <tr>\n",
       "      <th>6</th>\n",
       "      <td>АБСОЛЮТИЗИРОВАТЬ</td>\n",
       "      <td>107692-V</td>\n",
       "      <td>ДАТЬ ВОЗМОЖНОСТЬ, ПОЗВОЛИТЬ</td>\n",
       "    </tr>\n",
       "    <tr>\n",
       "      <th>7</th>\n",
       "      <td>АБСОЛЮТИЗИРОВАТЬ</td>\n",
       "      <td>118698-V</td>\n",
       "      <td>ДЕЙСТВИЕ, ЦЕЛЕНАПРАВЛЕННОЕ ДЕЙСТВИЕ</td>\n",
       "    </tr>\n",
       "    <tr>\n",
       "      <th>8</th>\n",
       "      <td>АБСОЛЮТИЗИРОВАТЬ</td>\n",
       "      <td>119125-V</td>\n",
       "      <td>РАСПРОСТРАНИТЬСЯ, ПОЛУЧИТЬ РАСПРОСТРАНЕНИЕ</td>\n",
       "    </tr>\n",
       "    <tr>\n",
       "      <th>9</th>\n",
       "      <td>АБСОЛЮТИЗИРОВАТЬ</td>\n",
       "      <td>106710-V</td>\n",
       "      <td>ОПРЕДЕЛИТЬ, ВЫЯСНИТЬ</td>\n",
       "    </tr>\n",
       "    <tr>\n",
       "      <th>10</th>\n",
       "      <td>АКТИВИРОВАТЬ</td>\n",
       "      <td>106473-V</td>\n",
       "      <td>ОБУСЛАВЛИВАТЬ, СПОСОБСТВОВАТЬ</td>\n",
       "    </tr>\n",
       "    <tr>\n",
       "      <th>11</th>\n",
       "      <td>АКТИВИРОВАТЬ</td>\n",
       "      <td>121460-V</td>\n",
       "      <td>ОТКРЫТЬ ДОСТУП</td>\n",
       "    </tr>\n",
       "    <tr>\n",
       "      <th>12</th>\n",
       "      <td>АКТИВИРОВАТЬ</td>\n",
       "      <td>106485-V</td>\n",
       "      <td>ПЕРЕСТАТЬ, ПРЕКРАТИТЬ (ЧТО-ТО ДЕЛАТЬ)</td>\n",
       "    </tr>\n",
       "    <tr>\n",
       "      <th>13</th>\n",
       "      <td>АКТИВИРОВАТЬ</td>\n",
       "      <td>107417-V</td>\n",
       "      <td>ОТДЕЛИТЬ ЧАСТЬ ОТ ЦЕЛОГО</td>\n",
       "    </tr>\n",
       "    <tr>\n",
       "      <th>14</th>\n",
       "      <td>АКТИВИРОВАТЬ</td>\n",
       "      <td>118698-V</td>\n",
       "      <td>ДЕЙСТВИЕ, ЦЕЛЕНАПРАВЛЕННОЕ ДЕЙСТВИЕ</td>\n",
       "    </tr>\n",
       "  </tbody>\n",
       "</table>\n",
       "</div>"
      ],
      "text/plain": [
       "                noun    result                                 result_text\n",
       "0   АБСОЛЮТИЗИРОВАТЬ  116390-V        ИСКАЗИТЬ, ПРЕДСТАВИТЬ В ЛОЖНОМ СВЕТЕ\n",
       "1   АБСОЛЮТИЗИРОВАТЬ  141697-V                          ПРЕДСТАВИТЬ В ВИДЕ\n",
       "2   АБСОЛЮТИЗИРОВАТЬ  149806-V              УТВЕРЖДАТЬ, ДЕЛАТЬ УТВЕРЖДЕНИЕ\n",
       "3   АБСОЛЮТИЗИРОВАТЬ  106877-V                            ВЫСКАЗАТЬ МНЕНИЕ\n",
       "4   АБСОЛЮТИЗИРОВАТЬ  117532-V                    НАСТОЯТЬ НА СВОЕМ МНЕНИИ\n",
       "5   АБСОЛЮТИЗИРОВАТЬ  106456-V                         ВЫРАЗИТЬ (ПОКАЗАТЬ)\n",
       "6   АБСОЛЮТИЗИРОВАТЬ  107692-V                 ДАТЬ ВОЗМОЖНОСТЬ, ПОЗВОЛИТЬ\n",
       "7   АБСОЛЮТИЗИРОВАТЬ  118698-V         ДЕЙСТВИЕ, ЦЕЛЕНАПРАВЛЕННОЕ ДЕЙСТВИЕ\n",
       "8   АБСОЛЮТИЗИРОВАТЬ  119125-V  РАСПРОСТРАНИТЬСЯ, ПОЛУЧИТЬ РАСПРОСТРАНЕНИЕ\n",
       "9   АБСОЛЮТИЗИРОВАТЬ  106710-V                        ОПРЕДЕЛИТЬ, ВЫЯСНИТЬ\n",
       "10      АКТИВИРОВАТЬ  106473-V               ОБУСЛАВЛИВАТЬ, СПОСОБСТВОВАТЬ\n",
       "11      АКТИВИРОВАТЬ  121460-V                              ОТКРЫТЬ ДОСТУП\n",
       "12      АКТИВИРОВАТЬ  106485-V       ПЕРЕСТАТЬ, ПРЕКРАТИТЬ (ЧТО-ТО ДЕЛАТЬ)\n",
       "13      АКТИВИРОВАТЬ  107417-V                    ОТДЕЛИТЬ ЧАСТЬ ОТ ЦЕЛОГО\n",
       "14      АКТИВИРОВАТЬ  118698-V         ДЕЙСТВИЕ, ЦЕЛЕНАПРАВЛЕННОЕ ДЕЙСТВИЕ"
      ]
     },
     "execution_count": 79,
     "metadata": {},
     "output_type": "execute_result"
    }
   ],
   "source": [
    "sub.to_csv('results/verbs_v4_w2v_only_simp5_pnlty_pos_weight_tayga.tsv', sep='\\t', encoding='utf-8', header=None, index=None)\n",
    "sub.head(15)"
   ]
  },
  {
   "cell_type": "code",
   "execution_count": null,
   "metadata": {},
   "outputs": [],
   "source": []
  }
 ],
 "metadata": {
  "kernelspec": {
   "display_name": "p3k",
   "language": "python",
   "name": "p3k"
  },
  "language_info": {
   "codemirror_mode": {
    "name": "ipython",
    "version": 3
   },
   "file_extension": ".py",
   "mimetype": "text/x-python",
   "name": "python",
   "nbconvert_exporter": "python",
   "pygments_lexer": "ipython3",
   "version": "3.7.4"
  }
 },
 "nbformat": 4,
 "nbformat_minor": 4
}
